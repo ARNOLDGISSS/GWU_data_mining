{
 "cells": [
  {
   "cell_type": "markdown",
   "metadata": {
    "deletable": true,
    "editable": true
   },
   "source": [
    "# Linear Regression Starter Kit for Kaggle House Prices "
   ]
  },
  {
   "cell_type": "markdown",
   "metadata": {},
   "source": [
    "## Install older version of H2O\n",
    "* This is a work around for java.lang.ArrayIndexOutOfBoundsException error\n",
    "* When running glm.predict()"
   ]
  },
  {
   "cell_type": "code",
   "execution_count": 1,
   "metadata": {
    "collapsed": false
   },
   "outputs": [
    {
     "name": "stdout",
     "output_type": "stream",
     "text": [
      "Requirement already satisfied: h2o==3.10.0.10 from http://h2o-release.s3.amazonaws.com/h2o/rel-turing/10/Python/h2o-3.10.0.10-py2.py3-none-any.whl in /Users/phall/anaconda/lib/python3.5/site-packages\r\n",
      "Requirement already satisfied: requests in /Users/phall/anaconda/lib/python3.5/site-packages (from h2o==3.10.0.10)\r\n",
      "Requirement already satisfied: tabulate in /Users/phall/anaconda/lib/python3.5/site-packages (from h2o==3.10.0.10)\r\n",
      "Requirement already satisfied: colorama in /Users/phall/anaconda/lib/python3.5/site-packages (from h2o==3.10.0.10)\r\n",
      "Requirement already satisfied: future in /Users/phall/anaconda/lib/python3.5/site-packages (from h2o==3.10.0.10)\r\n"
     ]
    }
   ],
   "source": [
    "# Use pip to install this version of the H2O Python module\n",
    "! pip install http://h2o-release.s3.amazonaws.com/h2o/rel-turing/10/Python/h2o-3.10.0.10-py2.py3-none-any.whl"
   ]
  },
  {
   "cell_type": "markdown",
   "metadata": {
    "deletable": true,
    "editable": true
   },
   "source": [
    "## Imports and inits"
   ]
  },
  {
   "cell_type": "code",
   "execution_count": 2,
   "metadata": {
    "collapsed": false,
    "deletable": true,
    "editable": true
   },
   "outputs": [
    {
     "name": "stdout",
     "output_type": "stream",
     "text": [
      "Checking whether there is an H2O instance running at http://localhost:54321..... not found.\n",
      "Attempting to start a local H2O server...\n",
      "  Java Version: java version \"1.8.0_112\"; Java(TM) SE Runtime Environment (build 1.8.0_112-b16); Java HotSpot(TM) 64-Bit Server VM (build 25.112-b16, mixed mode)\n",
      "  Starting server from /Users/phall/anaconda/lib/python3.5/site-packages/h2o/backend/bin/h2o.jar\n",
      "  Ice root: /var/folders/tc/0ss1l73113j3wdyjsxmy1j2r0000gn/T/tmpbbsjab8d\n",
      "  JVM stdout: /var/folders/tc/0ss1l73113j3wdyjsxmy1j2r0000gn/T/tmpbbsjab8d/h2o_phall_started_from_python.out\n",
      "  JVM stderr: /var/folders/tc/0ss1l73113j3wdyjsxmy1j2r0000gn/T/tmpbbsjab8d/h2o_phall_started_from_python.err\n",
      "  Server is running at http://127.0.0.1:54321\n",
      "Connecting to H2O server at http://127.0.0.1:54321... successful.\n",
      "Warning: Your H2O cluster version is too old (6 months and 26 days)! Please download and install the latest version from http://h2o.ai/download/\n"
     ]
    },
    {
     "data": {
      "text/html": [
       "<div style=\"overflow:auto\"><table style=\"width:50%\"><tr><td>H2O cluster uptime:</td>\n",
       "<td>02 secs</td></tr>\n",
       "<tr><td>H2O cluster version:</td>\n",
       "<td>3.10.0.10</td></tr>\n",
       "<tr><td>H2O cluster version age:</td>\n",
       "<td>6 months and 26 days !!!</td></tr>\n",
       "<tr><td>H2O cluster name:</td>\n",
       "<td>H2O_from_python_phall_argeao</td></tr>\n",
       "<tr><td>H2O cluster total nodes:</td>\n",
       "<td>1</td></tr>\n",
       "<tr><td>H2O cluster free memory:</td>\n",
       "<td>3.556 Gb</td></tr>\n",
       "<tr><td>H2O cluster total cores:</td>\n",
       "<td>8</td></tr>\n",
       "<tr><td>H2O cluster allowed cores:</td>\n",
       "<td>8</td></tr>\n",
       "<tr><td>H2O cluster status:</td>\n",
       "<td>accepting new members, healthy</td></tr>\n",
       "<tr><td>H2O connection url:</td>\n",
       "<td>http://127.0.0.1:54321</td></tr>\n",
       "<tr><td>H2O connection proxy:</td>\n",
       "<td>None</td></tr>\n",
       "<tr><td>Python version:</td>\n",
       "<td>3.5.2 final</td></tr></table></div>"
      ],
      "text/plain": [
       "--------------------------  ------------------------------\n",
       "H2O cluster uptime:         02 secs\n",
       "H2O cluster version:        3.10.0.10\n",
       "H2O cluster version age:    6 months and 26 days !!!\n",
       "H2O cluster name:           H2O_from_python_phall_argeao\n",
       "H2O cluster total nodes:    1\n",
       "H2O cluster free memory:    3.556 Gb\n",
       "H2O cluster total cores:    8\n",
       "H2O cluster allowed cores:  8\n",
       "H2O cluster status:         accepting new members, healthy\n",
       "H2O connection url:         http://127.0.0.1:54321\n",
       "H2O connection proxy:\n",
       "Python version:             3.5.2 final\n",
       "--------------------------  ------------------------------"
      ]
     },
     "metadata": {},
     "output_type": "display_data"
    }
   ],
   "source": [
    "import h2o\n",
    "from h2o.estimators.glm import H2OGeneralizedLinearEstimator\n",
    "from h2o.grid.grid_search import H2OGridSearch \n",
    "h2o.init() # give h2o as much memory as possible\n",
    "h2o.no_progress() # turn off h2o progress bars\n",
    "\n",
    "import numpy as np\n",
    "import pandas as pd"
   ]
  },
  {
   "cell_type": "markdown",
   "metadata": {
    "deletable": true,
    "editable": true
   },
   "source": [
    "## Import data"
   ]
  },
  {
   "cell_type": "code",
   "execution_count": 3,
   "metadata": {
    "collapsed": false,
    "deletable": true,
    "editable": true
   },
   "outputs": [],
   "source": [
    "train = h2o.import_file('../data/train.csv')\n",
    "test = h2o.import_file('../data/test.csv')"
   ]
  },
  {
   "cell_type": "markdown",
   "metadata": {
    "deletable": true,
    "editable": true
   },
   "source": [
    "#### Determine data types"
   ]
  },
  {
   "cell_type": "code",
   "execution_count": 4,
   "metadata": {
    "collapsed": false,
    "deletable": true,
    "editable": true
   },
   "outputs": [],
   "source": [
    "def get_type_lists(frame=train, rejects=['Id', 'SalePrice']):\n",
    "\n",
    "    \"\"\"Creates lists of numeric and categorical variables.\n",
    "    \n",
    "    :param frame: The frame from which to determine types.\n",
    "    :param rejects: Variable names not to be included in returned lists.\n",
    "    :return: Tuple of lists for numeric and categorical variables in the frame.\n",
    "    \n",
    "    \"\"\"\n",
    "    \n",
    "    nums, cats = [], []\n",
    "    for key, val in frame.types.items():\n",
    "        if key not in rejects:\n",
    "            if val == 'enum':\n",
    "                cats.append(key)\n",
    "            else: \n",
    "                nums.append(key)\n",
    "                \n",
    "    print('Numeric =', nums)                \n",
    "    print()\n",
    "    print('Categorical =', cats)\n",
    "    \n",
    "    return nums, cats"
   ]
  },
  {
   "cell_type": "code",
   "execution_count": 5,
   "metadata": {
    "collapsed": false,
    "deletable": true,
    "editable": true
   },
   "outputs": [
    {
     "name": "stdout",
     "output_type": "stream",
     "text": [
      "Numeric = ['FullBath', 'MoSold', 'OverallCond', 'BedroomAbvGr', '1stFlrSF', 'GrLivArea', 'ScreenPorch', 'KitchenAbvGr', 'BsmtFinSF2', 'OverallQual', 'GarageYrBlt', 'GarageArea', 'BsmtFullBath', 'TotalBsmtSF', 'BsmtUnfSF', 'GarageCars', 'WoodDeckSF', 'PoolArea', 'EnclosedPorch', 'LowQualFinSF', 'LotArea', 'HalfBath', 'YrSold', 'BsmtFinSF1', 'MSSubClass', 'MasVnrArea', 'YearRemodAdd', '2ndFlrSF', 'YearBuilt', '3SsnPorch', 'MiscVal', 'Fireplaces', 'TotRmsAbvGrd', 'BsmtHalfBath', 'OpenPorchSF', 'LotFrontage']\n",
      "\n",
      "Categorical = ['HeatingQC', 'ExterQual', 'Condition2', 'ExterCond', 'Exterior2nd', 'Neighborhood', 'BldgType', 'PoolQC', 'GarageFinish', 'LotShape', 'SaleCondition', 'BsmtFinType1', 'SaleType', 'Heating', 'Utilities', 'Exterior1st', 'KitchenQual', 'Alley', 'BsmtFinType2', 'CentralAir', 'Electrical', 'Street', 'LandContour', 'BsmtExposure', 'GarageType', 'PavedDrive', 'Fence', 'BsmtCond', 'RoofMatl', 'Foundation', 'FireplaceQu', 'LotConfig', 'Functional', 'MSZoning', 'LandSlope', 'RoofStyle', 'BsmtQual', 'MasVnrType', 'HouseStyle', 'MiscFeature', 'GarageQual', 'GarageCond', 'Condition1']\n"
     ]
    }
   ],
   "source": [
    "original_nums, cats = get_type_lists()"
   ]
  },
  {
   "cell_type": "markdown",
   "metadata": {},
   "source": [
    "## Split into to train and validation (before doing data prep!!!)"
   ]
  },
  {
   "cell_type": "code",
   "execution_count": 6,
   "metadata": {
    "collapsed": false
   },
   "outputs": [
    {
     "name": "stdout",
     "output_type": "stream",
     "text": [
      "(1001, 81)\n",
      "(459, 81)\n"
     ]
    }
   ],
   "source": [
    "train, valid = train.split_frame([0.7], seed=12345)\n",
    "print(train.shape)\n",
    "print(valid.shape)"
   ]
  },
  {
   "cell_type": "markdown",
   "metadata": {
    "deletable": true,
    "editable": true
   },
   "source": [
    "## Impute numeric missing"
   ]
  },
  {
   "cell_type": "code",
   "execution_count": 7,
   "metadata": {
    "collapsed": false,
    "deletable": true,
    "editable": true
   },
   "outputs": [],
   "source": [
    "# median usually better than mean\n",
    "# (_ signifies temporary throw-away variable, used to suppress output)\n",
    "_ = train[['MasVnrArea', 'GarageYrBlt', 'LotFrontage']].impute(method='median')\n",
    "_ = valid[['MasVnrArea', 'GarageYrBlt', 'LotFrontage']].impute(method='median')\n",
    "_ = test[['BsmtHalfBath', 'BsmtFinSF1', 'BsmtFullBath', 'BsmtFinSF2', 'BsmtUnfSF', 'MasVnrArea', \n",
    "          'GarageYrBlt', 'LotFrontage', 'GarageCars', 'TotalBsmtSF', 'GarageArea']].impute(method='median')"
   ]
  },
  {
   "cell_type": "markdown",
   "metadata": {
    "deletable": true,
    "editable": true
   },
   "source": [
    "## Encode categorical vars using shrunken averages\n",
    "http://helios.mm.di.uoa.gr/~rouvas/ssi/sigkdd/sigkdd.vol3.1/barreca.ps"
   ]
  },
  {
   "cell_type": "code",
   "execution_count": 8,
   "metadata": {
    "collapsed": false,
    "deletable": true,
    "editable": true
   },
   "outputs": [],
   "source": [
    "def target_encoder(training_frame, test_frame, x, y, lambda_=0.15, threshold=150, test=False):\n",
    "\n",
    "    \"\"\" Applies simple target encoding to categorical variables.\n",
    "\n",
    "    :param training_frame: Training frame which to create target means and to be encoded.\n",
    "    :param test_frame: Test frame to be encoded using information from training frame.\n",
    "    :param x: Name of input variable to be encoded.\n",
    "    :param y: Name of target variable to use for encoding.\n",
    "    :param lambda_: Balance between level mean and overall mean for small groups.\n",
    "    :param threshold: Number below which a level is considered small enough to be shrunken.\n",
    "    :param test: Whether or not to print the row_val_dict for testing purposes.\n",
    "    :return: Tuple of encoded variable from train and test set as H2OFrames.\n",
    "\n",
    "    \"\"\"\n",
    "\n",
    "    # convert to pandas\n",
    "    trdf = training_frame.as_data_frame().loc[:, [x,y]] # df\n",
    "    tss = test_frame.as_data_frame().loc[:, x]          # series\n",
    "\n",
    "\n",
    "    # create dictionary of level:encode val\n",
    "\n",
    "    encode_name = x + '_Tencode'\n",
    "    overall_mean = trdf[y].mean()\n",
    "    row_val_dict = {}\n",
    "\n",
    "    for level in trdf[x].unique():\n",
    "        level_df = trdf[trdf[x] == level][y]\n",
    "        level_n = level_df.shape[0]\n",
    "        level_mean = level_df.mean()\n",
    "        if level_n >= threshold:\n",
    "            row_val_dict[level] = level_mean\n",
    "        else:\n",
    "            row_val_dict[level] = ((1 - lambda_) * level_mean) +\\\n",
    "                                  (lambda_ * overall_mean)\n",
    "\n",
    "    row_val_dict[np.nan] = overall_mean # handle missing values\n",
    "\n",
    "    if test:\n",
    "        print(row_val_dict)\n",
    "\n",
    "    # apply the transform to training data\n",
    "    trdf[encode_name] = trdf[x].apply(lambda i: row_val_dict[i])\n",
    "\n",
    "    # apply the transform to test data\n",
    "    tsdf = pd.DataFrame(columns=[x, encode_name])\n",
    "    tsdf[x] = tss\n",
    "    tsdf.loc[:, encode_name] = overall_mean # handle previously unseen values\n",
    "    # handle values that are seen in tsdf but not row_val_dict\n",
    "    for i, col_i in enumerate(tsdf[x]):\n",
    "        try:\n",
    "            row_val_dict[col_i]\n",
    "        except:\n",
    "            # a value that appeared in tsdf isn't in the row_val_dict so just\n",
    "            # make it the overall_mean\n",
    "            row_val_dict[col_i] = overall_mean\n",
    "    tsdf[encode_name] = tsdf[x].apply(lambda i: row_val_dict[i])\n",
    "\n",
    "\n",
    "    # convert back to H2O\n",
    "\n",
    "    trdf = h2o.H2OFrame(trdf[encode_name].as_matrix())\n",
    "    trdf.columns = [encode_name]\n",
    "\n",
    "    tsdf = h2o.H2OFrame(tsdf[encode_name].as_matrix())\n",
    "    tsdf.columns = [encode_name]\n",
    "\n",
    "    return (trdf, tsdf)\n"
   ]
  },
  {
   "cell_type": "markdown",
   "metadata": {
    "deletable": true,
    "editable": true
   },
   "source": [
    "#### Execute encoding"
   ]
  },
  {
   "cell_type": "code",
   "execution_count": 9,
   "metadata": {
    "collapsed": false,
    "deletable": true,
    "editable": true
   },
   "outputs": [
    {
     "name": "stdout",
     "output_type": "stream",
     "text": [
      "Encoding: HeatingQC (1/43) ...\n",
      "Encoding: ExterQual (2/43) ...\n",
      "Encoding: Condition2 (3/43) ...\n",
      "Encoding: ExterCond (4/43) ...\n",
      "Encoding: Exterior2nd (5/43) ...\n",
      "Encoding: Neighborhood (6/43) ...\n",
      "Encoding: BldgType (7/43) ...\n",
      "Encoding: PoolQC (8/43) ...\n",
      "Encoding: GarageFinish (9/43) ...\n",
      "Encoding: LotShape (10/43) ...\n",
      "Encoding: SaleCondition (11/43) ...\n",
      "Encoding: BsmtFinType1 (12/43) ...\n",
      "Encoding: SaleType (13/43) ...\n",
      "Encoding: Heating (14/43) ...\n",
      "Encoding: Utilities (15/43) ...\n",
      "Encoding: Exterior1st (16/43) ...\n",
      "Encoding: KitchenQual (17/43) ...\n",
      "Encoding: Alley (18/43) ...\n",
      "Encoding: BsmtFinType2 (19/43) ...\n",
      "Encoding: CentralAir (20/43) ...\n",
      "Encoding: Electrical (21/43) ...\n",
      "Encoding: Street (22/43) ...\n",
      "Encoding: LandContour (23/43) ...\n",
      "Encoding: BsmtExposure (24/43) ...\n",
      "Encoding: GarageType (25/43) ...\n",
      "Encoding: PavedDrive (26/43) ...\n",
      "Encoding: Fence (27/43) ...\n",
      "Encoding: BsmtCond (28/43) ...\n",
      "Encoding: RoofMatl (29/43) ...\n",
      "Encoding: Foundation (30/43) ...\n",
      "Encoding: FireplaceQu (31/43) ...\n",
      "Encoding: LotConfig (32/43) ...\n",
      "Encoding: Functional (33/43) ...\n",
      "Encoding: MSZoning (34/43) ...\n",
      "Encoding: LandSlope (35/43) ...\n",
      "Encoding: RoofStyle (36/43) ...\n",
      "Encoding: BsmtQual (37/43) ...\n",
      "Encoding: MasVnrType (38/43) ...\n",
      "Encoding: HouseStyle (39/43) ...\n",
      "Encoding: MiscFeature (40/43) ...\n",
      "Encoding: GarageQual (41/43) ...\n",
      "Encoding: GarageCond (42/43) ...\n",
      "Encoding: Condition1 (43/43) ...\n",
      "Done.\n"
     ]
    }
   ],
   "source": [
    "total = len(cats)\n",
    "for i, var in enumerate(cats):\n",
    "    \n",
    "    tr_enc, _ = target_encoder(train, test, var, 'SalePrice')\n",
    "    v_enc, ts_enc = target_encoder(valid, test, var, 'SalePrice')\n",
    "    \n",
    "    print('Encoding: ' + var + ' (' + str(i+1) + '/' + str(total) + ') ...')\n",
    "\n",
    "    train = train.cbind(tr_enc)\n",
    "    valid = valid.cbind(v_enc)\n",
    "    test = test.cbind(ts_enc)    \n",
    "    \n",
    "print('Done.')"
   ]
  },
  {
   "cell_type": "markdown",
   "metadata": {
    "collapsed": false,
    "deletable": true,
    "editable": true
   },
   "source": [
    "#### Redefine numerics and explore"
   ]
  },
  {
   "cell_type": "code",
   "execution_count": 10,
   "metadata": {
    "collapsed": false,
    "deletable": true,
    "editable": true
   },
   "outputs": [
    {
     "name": "stdout",
     "output_type": "stream",
     "text": [
      "Numeric = ['Condition2_Tencode', 'MasVnrArea', 'FullBath', 'MiscFeature_Tencode', 'MoSold', 'OverallCond', 'BedroomAbvGr', '1stFlrSF', 'Alley_Tencode', 'Foundation_Tencode', 'GrLivArea', 'ScreenPorch', 'BsmtExposure_Tencode', 'KitchenAbvGr', 'BsmtFinSF2', 'OverallQual', 'Fireplaces', 'LotShape_Tencode', 'GarageType_Tencode', 'GarageYrBlt', 'BsmtFinType1_Tencode', 'HeatingQC_Tencode', 'GarageArea', 'Utilities_Tencode', 'Fence_Tencode', 'TotalBsmtSF', 'BsmtCond_Tencode', 'MasVnrType_Tencode', 'SaleCondition_Tencode', 'Functional_Tencode', 'GarageFinish_Tencode', 'BsmtUnfSF', 'ExterQual_Tencode', 'RoofStyle_Tencode', 'BsmtQual_Tencode', 'LandSlope_Tencode', 'WoodDeckSF', 'BldgType_Tencode', 'PoolArea', 'EnclosedPorch', 'KitchenQual_Tencode', 'BsmtFullBath', 'BsmtFinType2_Tencode', 'LowQualFinSF', 'GarageCars', 'HalfBath', 'Neighborhood_Tencode', 'LandContour_Tencode', 'Condition1_Tencode', 'LotArea', 'PoolQC_Tencode', 'BsmtFinSF1', 'GarageQual_Tencode', 'MSSubClass', 'CentralAir_Tencode', 'YearRemodAdd', '2ndFlrSF', 'Electrical_Tencode', 'YearBuilt', 'PavedDrive_Tencode', 'GarageCond_Tencode', '3SsnPorch', 'MiscVal', 'FireplaceQu_Tencode', 'Exterior1st_Tencode', 'Heating_Tencode', 'TotRmsAbvGrd', 'HouseStyle_Tencode', 'BsmtHalfBath', 'Exterior2nd_Tencode', 'OpenPorchSF', 'ExterCond_Tencode', 'SaleType_Tencode', 'RoofMatl_Tencode', 'YrSold', 'LotConfig_Tencode', 'Street_Tencode', 'MSZoning_Tencode', 'LotFrontage']\n",
      "\n",
      "Categorical = ['GarageFinish', 'HeatingQC', 'ExterQual', 'Condition2', 'Electrical', 'ExterCond', 'Exterior2nd', 'Neighborhood', 'BldgType', 'GarageQual', 'PoolQC', 'LotShape', 'SaleCondition', 'KitchenQual', 'BsmtFinType1', 'SaleType', 'Heating', 'Utilities', 'Alley', 'Exterior1st', 'BsmtFinType2', 'CentralAir', 'MiscFeature', 'LandContour', 'RoofStyle', 'BsmtExposure', 'GarageType', 'PavedDrive', 'Fence', 'BsmtCond', 'RoofMatl', 'Foundation', 'FireplaceQu', 'LotConfig', 'Street', 'Functional', 'MSZoning', 'LandSlope', 'BsmtQual', 'MasVnrType', 'HouseStyle', 'GarageCond', 'Condition1']\n"
     ]
    }
   ],
   "source": [
    "encoded_nums, cats = get_type_lists(frame=train)"
   ]
  },
  {
   "cell_type": "code",
   "execution_count": 11,
   "metadata": {
    "collapsed": false,
    "deletable": true,
    "editable": true
   },
   "outputs": [
    {
     "name": "stdout",
     "output_type": "stream",
     "text": [
      "Imputed and encoded numeric training data:\n",
      "Rows:1001\n",
      "Cols:79\n",
      "\n",
      "\n"
     ]
    },
    {
     "data": {
      "text/html": [
       "<table>\n",
       "<thead>\n",
       "<tr><th>       </th><th>Condition2_Tencode  </th><th>MasVnrArea        </th><th>FullBath          </th><th>MiscFeature_Tencode  </th><th>MoSold           </th><th>OverallCond       </th><th>BedroomAbvGr      </th><th>1stFlrSF          </th><th>Alley_Tencode     </th><th>Foundation_Tencode  </th><th>GrLivArea         </th><th>ScreenPorch       </th><th>BsmtExposure_Tencode  </th><th>KitchenAbvGr      </th><th>BsmtFinSF2        </th><th>OverallQual       </th><th>Fireplaces        </th><th>LotShape_Tencode  </th><th>GarageType_Tencode  </th><th>GarageYrBlt       </th><th>BsmtFinType1_Tencode  </th><th>HeatingQC_Tencode  </th><th>GarageArea        </th><th>Utilities_Tencode  </th><th>Fence_Tencode     </th><th>TotalBsmtSF       </th><th>BsmtCond_Tencode  </th><th>MasVnrType_Tencode  </th><th>SaleCondition_Tencode  </th><th>Functional_Tencode  </th><th>GarageFinish_Tencode  </th><th>BsmtUnfSF         </th><th>ExterQual_Tencode  </th><th>RoofStyle_Tencode  </th><th>BsmtQual_Tencode  </th><th>LandSlope_Tencode  </th><th>WoodDeckSF        </th><th>BldgType_Tencode  </th><th>PoolArea          </th><th>EnclosedPorch     </th><th>KitchenQual_Tencode  </th><th>BsmtFullBath       </th><th>BsmtFinType2_Tencode  </th><th>LowQualFinSF      </th><th>GarageCars        </th><th>HalfBath           </th><th>Neighborhood_Tencode  </th><th>LandContour_Tencode  </th><th>Condition1_Tencode  </th><th>LotArea           </th><th>PoolQC_Tencode    </th><th>BsmtFinSF1       </th><th>GarageQual_Tencode  </th><th>MSSubClass       </th><th>CentralAir_Tencode  </th><th>YearRemodAdd      </th><th>2ndFlrSF         </th><th>Electrical_Tencode  </th><th>YearBuilt         </th><th>PavedDrive_Tencode  </th><th>GarageCond_Tencode  </th><th>3SsnPorch         </th><th>MiscVal           </th><th>FireplaceQu_Tencode  </th><th>Exterior1st_Tencode  </th><th>Heating_Tencode   </th><th>TotRmsAbvGrd      </th><th>HouseStyle_Tencode  </th><th>BsmtHalfBath        </th><th>Exterior2nd_Tencode  </th><th>OpenPorchSF      </th><th>ExterCond_Tencode  </th><th>SaleType_Tencode  </th><th>RoofMatl_Tencode  </th><th>YrSold            </th><th>LotConfig_Tencode  </th><th>Street_Tencode    </th><th>MSZoning_Tencode  </th><th>LotFrontage       </th></tr>\n",
       "</thead>\n",
       "<tbody>\n",
       "<tr><td>type   </td><td>real                </td><td>real              </td><td>int               </td><td>real                 </td><td>int              </td><td>int               </td><td>int               </td><td>int               </td><td>real              </td><td>real                </td><td>int               </td><td>int               </td><td>real                  </td><td>int               </td><td>int               </td><td>int               </td><td>int               </td><td>real              </td><td>real                </td><td>real              </td><td>real                  </td><td>real               </td><td>int               </td><td>real               </td><td>real              </td><td>int               </td><td>real              </td><td>real                </td><td>real                   </td><td>real                </td><td>real                  </td><td>int               </td><td>real               </td><td>real               </td><td>real              </td><td>real               </td><td>int               </td><td>real              </td><td>int               </td><td>int               </td><td>real                 </td><td>int                </td><td>real                  </td><td>int               </td><td>int               </td><td>int                </td><td>real                  </td><td>real                 </td><td>real                </td><td>int               </td><td>real              </td><td>int              </td><td>real                </td><td>int              </td><td>real                </td><td>int               </td><td>int              </td><td>real                </td><td>int               </td><td>real                </td><td>real                </td><td>int               </td><td>int               </td><td>real                 </td><td>real                 </td><td>real              </td><td>int               </td><td>real                </td><td>int                 </td><td>real                 </td><td>int              </td><td>real               </td><td>real              </td><td>real              </td><td>int               </td><td>real               </td><td>real              </td><td>real              </td><td>real              </td></tr>\n",
       "<tr><td>mins   </td><td>108075.79385614385  </td><td>0.0               </td><td>0.0               </td><td>140375.79385614386   </td><td>1.0              </td><td>2.0               </td><td>0.0               </td><td>480.0             </td><td>128075.200999001  </td><td>121726.89385614387  </td><td>480.0             </td><td>0.0               </td><td>167645.4123076923     </td><td>0.0               </td><td>0.0               </td><td>2.0               </td><td>0.0               </td><td>163944.59385614382</td><td>125174.9605228105   </td><td>1908.0            </td><td>150410.4464877228     </td><td>135668.69902855766 </td><td>0.0               </td><td>144200.79385614386 </td><td>141306.73814185814</td><td>0.0               </td><td>84275.79385614385 </td><td>155578.6188811189   </td><td>115832.04385614385     </td><td>110059.12718947718  </td><td>141354.57177033494    </td><td>0.0               </td><td>116078.96885614384 </td><td>161577.2224275724  </td><td>121216.12093947716</td><td>181486.5182747485  </td><td>0.0               </td><td>138273.46052281052</td><td>0.0               </td><td>0.0               </td><td>124936.94820396995   </td><td>0.0                </td><td>154536.9355228105     </td><td>0.0               </td><td>0.0               </td><td>0.0                </td><td>109690.79385614385    </td><td>145140.16285614387   </td><td>134468.29385614386  </td><td>1300.0            </td><td>182171.95904095902</td><td>0.0              </td><td>96813.29385614385   </td><td>20.0             </td><td>119608.23368665231  </td><td>1950.0            </td><td>0.0              </td><td>84275.79385614385   </td><td>1875.0            </td><td>129253.89464979463  </td><td>112070.79385614385  </td><td>0.0               </td><td>0.0               </td><td>141462.34885614386   </td><td>78325.79385614385    </td><td>93469.96052281052 </td><td>3.0               </td><td>118907.22242757239  </td><td>0.0                 </td><td>129978.23968947721   </td><td>0.0              </td><td>122047.14941169939 </td><td>125968.29385614385</td><td>143775.79385614386</td><td>2006.0            </td><td>176473.2899159664  </td><td>146350.10385614386</td><td>78614.79385614385 </td><td>21.0              </td></tr>\n",
       "<tr><td>mean   </td><td>182224.4420403772   </td><td>106.91146881287727</td><td>1.5744255744255744</td><td>181198.19224147475   </td><td>6.362637362637362</td><td>5.583416583416583 </td><td>2.871128871128871 </td><td>1172.0889110889111</td><td>180171.38546862727</td><td>183119.90242260235  </td><td>1519.8011988011988</td><td>14.763236763236764</td><td>182844.62529074325    </td><td>1.046953046953047 </td><td>41.64935064935065 </td><td>6.1448551448551445</td><td>0.6203796203796204</td><td>181993.92786324563</td><td>185255.62265751234  </td><td>1978.734522560336 </td><td>185645.79515235015    </td><td>182409.7085632649  </td><td>477.46853146853147</td><td>182178.65314071544 </td><td>177450.87030976015</td><td>1063.2387612387613</td><td>184043.11900766566</td><td>180574.40004970055  </td><td>181541.32494458588     </td><td>182576.24533688094  </td><td>185712.8721618042     </td><td>575.99000999001   </td><td>181095.69602749898 </td><td>182159.0086938536  </td><td>182245.41278741238</td><td>182145.0556687069  </td><td>91.07392607392607 </td><td>182849.79797600003</td><td>3.3766233766233764</td><td>21.257742257742258</td><td>180810.97023994988   </td><td>0.42657342657342656</td><td>184056.75787594018    </td><td>5.9250749250749255</td><td>1.7932067932067932</td><td>0.38161838161838163</td><td>182171.95904095905    </td><td>182186.73299732237   </td><td>182645.11776425372  </td><td>10628.262737262738</td><td>182802.82568320786</td><td>445.5994005994006</td><td>186018.3297154893   </td><td>57.08791208791209</td><td>182822.70708043204  </td><td>1985.138861138861 </td><td>341.7872127872128</td><td>182952.64128239392  </td><td>1972.2987012987012</td><td>182908.18055950044  </td><td>186002.74671607107  </td><td>3.4565434565434567</td><td>39.684315684315685</td><td>200266.80114860163   </td><td>183565.71379414792   </td><td>182323.57985955098</td><td>6.512487512487512 </td><td>183188.25635258848  </td><td>0.059940059940059943</td><td>183994.52609268852   </td><td>44.92407592407592</td><td>182637.23505924645 </td><td>181180.3311701286 </td><td>182033.94005549894</td><td>2007.828171828172 </td><td>181772.16118142597 </td><td>182203.5349842964 </td><td>183387.92640181992</td><td>70.59975669099758 </td></tr>\n",
       "<tr><td>maxs   </td><td>269469.54385614384  </td><td>1378.0            </td><td>3.0               </td><td>239825.79385614384   </td><td>12.0             </td><td>9.0               </td><td>8.0               </td><td>4692.0            </td><td>182171.95904095902</td><td>226465.8274336283   </td><td>5642.0            </td><td>440.0             </td><td>243510.2073978105     </td><td>3.0               </td><td>1127.0            </td><td>10.0              </td><td>3.0               </td><td>220137.0973044197 </td><td>243875.54558028182  </td><td>2010.0            </td><td>236446.98648648648    </td><td>216426.0           </td><td>1418.0            </td><td>182216.631         </td><td>182171.95904095902</td><td>6110.0            </td><td>212500.14385614384</td><td>256064.37787676242  </td><td>260380.61674771016     </td><td>185063.63879957132  </td><td>243708.832            </td><td>2153.0            </td><td>348876.58744588745 </td><td>248325.79385614384 </td><td>312352.66653056245</td><td>200379.84385614382 </td><td>736.0             </td><td>187595.7541966427 </td><td>738.0             </td><td>552.0             </td><td>305958.08769176033   </td><td>3.0                </td><td>218122.46052281052    </td><td>528.0             </td><td>4.0               </td><td>2.0                </td><td>329868.3581418581     </td><td>215016.8662245649    </td><td>219155.3393106893   </td><td>164660.0          </td><td>443825.79385614384</td><td>5644.0           </td><td>222252.04385614384  </td><td>190.0            </td><td>186782.0            </td><td>2010.0            </td><td>2065.0           </td><td>187738.31270358307  </td><td>2010.0            </td><td>187523.8671023965   </td><td>188146.7502726281   </td><td>508.0             </td><td>15500.0           </td><td>306119.08332982805   </td><td>250025.79385614384   </td><td>185483.95814185814</td><td>14.0              </td><td>210965.119205298    </td><td>2.0                 </td><td>298475.79385614384   </td><td>523.0            </td><td>185708.33940774488 </td><td>263880.6876061438 </td><td>669075.7938561438 </td><td>2010.0            </td><td>215932.78135614385 </td><td>182383.5220883534 </td><td>204495.20385614387</td><td>313.0             </td></tr>\n",
       "<tr><td>sigma  </td><td>6389.719881512633   </td><td>179.4411497100248 </td><td>0.553809800116696 </td><td>5900.1270688417535   </td><td>2.67681950033293 </td><td>1.0887078190610717</td><td>0.8052177496650359</td><td>392.4739572085174 </td><td>9252.695490054044 </td><td>39735.240377141236  </td><td>520.2774292995626 </td><td>54.16981527671003 </td><td>24443.64548833232     </td><td>0.2253734828971829</td><td>148.91838678308974</td><td>1.3535124690951332</td><td>0.6416730131026672</td><td>21926.25817117466 </td><td>34065.80911242865   </td><td>24.075751996724104</td><td>33760.02487150487     </td><td>35398.540443061385 </td><td>209.92257920181254</td><td>1201.565692600516  </td><td>11076.460716121788</td><td>450.46835397846087</td><td>10415.5288163924  </td><td>32873.17832435439   </td><td>24904.825355766643     </td><td>9673.472750816674   </td><td>41548.00781303608     </td><td>444.45750741786316</td><td>52277.89924581869  </td><td>20695.377655471337 </td><td>49068.18360107548 </td><td>1835.4154172265178 </td><td>120.05044160464604</td><td>13615.684128255085</td><td>43.98791894358056 </td><td>61.04442237008638 </td><td>49556.81599252628    </td><td>0.5204355357324736 </td><td>7125.75433938659      </td><td>49.51948485817861 </td><td>0.7349787794173422</td><td>0.500221729058003  </td><td>51529.93244080358     </td><td>11064.930655592714   </td><td>13080.759735205764  </td><td>9442.373107111374 </td><td>11861.801229912977</td><td>467.1732658871228</td><td>11950.130371967634  </td><td>42.22127738162672</td><td>15828.294334486285  </td><td>20.606836203107406</td><td>432.9085950594232</td><td>16469.485082849522  </td><td>29.873026099002576</td><td>15415.629575665145  </td><td>10671.429849329988  </td><td>29.83605804459362 </td><td>516.2493547150991 </td><td>24220.26519043972    </td><td>29589.150408848316   </td><td>8588.039549532366 </td><td>1.5874803640026247</td><td>21247.33154021499   </td><td>0.24577143121932704 </td><td>30224.673393447127   </td><td>63.01874506660879</td><td>9945.861000354022  </td><td>25459.930478733873</td><td>15980.206375764046</td><td>1.3169835057606303</td><td>10669.040225587902 </td><td>2541.5759666990493</td><td>22616.419950331485</td><td>22.749666370110532</td></tr>\n",
       "<tr><td>zeros  </td><td>0                   </td><td>570               </td><td>6                 </td><td>0                    </td><td>0                </td><td>0                 </td><td>4                 </td><td>0                 </td><td>0                 </td><td>0                   </td><td>0                 </td><td>921               </td><td>0                     </td><td>1                 </td><td>894               </td><td>0                 </td><td>466               </td><td>0                 </td><td>0                   </td><td>0                 </td><td>0                     </td><td>0                  </td><td>48                </td><td>0                  </td><td>0                 </td><td>25                </td><td>0                 </td><td>0                   </td><td>0                      </td><td>0                   </td><td>0                     </td><td>78                </td><td>0                  </td><td>0                  </td><td>0                 </td><td>0                  </td><td>523               </td><td>0                 </td><td>995               </td><td>867               </td><td>0                    </td><td>586                </td><td>0                     </td><td>984               </td><td>48                </td><td>626                </td><td>0                     </td><td>0                    </td><td>0                   </td><td>0                 </td><td>0                 </td><td>326              </td><td>0                   </td><td>0                </td><td>0                   </td><td>0                 </td><td>572              </td><td>0                   </td><td>0                 </td><td>0                   </td><td>0                   </td><td>985               </td><td>969               </td><td>0                    </td><td>0                    </td><td>0                 </td><td>0                 </td><td>0                   </td><td>943                 </td><td>0                    </td><td>460              </td><td>0                  </td><td>0                 </td><td>0                 </td><td>0                 </td><td>0                  </td><td>0                 </td><td>0                 </td><td>0                 </td></tr>\n",
       "<tr><td>missing</td><td>0                   </td><td>0                 </td><td>0                 </td><td>0                    </td><td>0                </td><td>0                 </td><td>0                 </td><td>0                 </td><td>0                 </td><td>0                   </td><td>0                 </td><td>0                 </td><td>0                     </td><td>0                 </td><td>0                 </td><td>0                 </td><td>0                 </td><td>0                 </td><td>0                   </td><td>0                 </td><td>0                     </td><td>0                  </td><td>0                 </td><td>0                  </td><td>0                 </td><td>0                 </td><td>0                 </td><td>0                   </td><td>0                      </td><td>0                   </td><td>0                     </td><td>0                 </td><td>0                  </td><td>0                  </td><td>0                 </td><td>0                  </td><td>0                 </td><td>0                 </td><td>0                 </td><td>0                 </td><td>0                    </td><td>0                  </td><td>0                     </td><td>0                 </td><td>0                 </td><td>0                  </td><td>0                     </td><td>0                    </td><td>0                   </td><td>0                 </td><td>0                 </td><td>0                </td><td>0                   </td><td>0                </td><td>0                   </td><td>0                 </td><td>0                </td><td>0                   </td><td>0                 </td><td>0                   </td><td>0                   </td><td>0                 </td><td>0                 </td><td>0                    </td><td>0                    </td><td>0                 </td><td>0                 </td><td>0                   </td><td>0                   </td><td>0                    </td><td>0                </td><td>0                  </td><td>0                 </td><td>0                 </td><td>0                 </td><td>0                  </td><td>0                 </td><td>0                 </td><td>0                 </td></tr>\n",
       "<tr><td>0      </td><td>182525.73333333334  </td><td>196.0             </td><td>2.0               </td><td>182171.95904095902   </td><td>2.0              </td><td>5.0               </td><td>3.0               </td><td>856.0             </td><td>182171.95904095902</td><td>226465.8274336283   </td><td>1710.0            </td><td>0.0               </td><td>167645.4123076923     </td><td>1.0               </td><td>0.0               </td><td>7.0               </td><td>0.0               </td><td>165131.57073954982</td><td>203664.60358890702  </td><td>2003.0            </td><td>236446.98648648648    </td><td>216426.0           </td><td>548.0             </td><td>182216.631         </td><td>182171.95904095902</td><td>856.0             </td><td>184737.95170142702</td><td>203515.30891719743  </td><td>177020.8800489596      </td><td>185063.63879957132  </td><td>200494.42807017543    </td><td>150.0             </td><td>229333.4454277286  </td><td>171522.79741935484 </td><td>200924.0538641686 </td><td>181982.57594936708 </td><td>0.0               </td><td>187595.7541966427 </td><td>0.0               </td><td>0.0               </td><td>212221.98514851482   </td><td>1.0                </td><td>185630.71806674334    </td><td>0.0               </td><td>2.0               </td><td>1.0                </td><td>197940.3021894772     </td><td>182282.48766816143   </td><td>185776.46347031964  </td><td>8450.0            </td><td>182171.95904095902</td><td>706.0            </td><td>188334.07174392935  </td><td>60.0             </td><td>186782.0            </td><td>2003.0            </td><td>854.0            </td><td>187738.31270358307  </td><td>2003.0            </td><td>187523.8671023965   </td><td>188146.7502726281   </td><td>0.0               </td><td>0.0               </td><td>182171.95904095902   </td><td>216859.7290502793    </td><td>183201.27365208542</td><td>8.0               </td><td>210965.119205298    </td><td>0.0                 </td><td>216626.9093484419    </td><td>61.0             </td><td>185708.33940774488 </td><td>174574.41216991964</td><td>181235.93597560975</td><td>2008.0            </td><td>176473.2899159664  </td><td>182383.5220883534 </td><td>192391.8022670025 </td><td>65.0              </td></tr>\n",
       "<tr><td>1      </td><td>182525.73333333334  </td><td>0.0               </td><td>2.0               </td><td>182171.95904095902   </td><td>5.0              </td><td>8.0               </td><td>3.0               </td><td>1262.0            </td><td>182171.95904095902</td><td>150397.2807424594   </td><td>1262.0            </td><td>0.0               </td><td>243510.2073978105     </td><td>1.0               </td><td>0.0               </td><td>6.0               </td><td>1.0               </td><td>165131.57073954982</td><td>203664.60358890702  </td><td>1976.0            </td><td>161782.77448994666    </td><td>216426.0           </td><td>460.0             </td><td>182216.631         </td><td>182171.95904095902</td><td>1262.0            </td><td>184737.95170142702</td><td>155578.6188811189   </td><td>177020.8800489596      </td><td>185063.63879957132  </td><td>200494.42807017543    </td><td>284.0             </td><td>144619.2755267423  </td><td>171522.79741935484 </td><td>200924.0538641686 </td><td>181982.57594936708 </td><td>298.0             </td><td>187595.7541966427 </td><td>0.0               </td><td>0.0               </td><td>139811.59481037923   </td><td>0.0                </td><td>185630.71806674334    </td><td>0.0               </td><td>2.0               </td><td>0.0                </td><td>218575.79385614384    </td><td>182282.48766816143   </td><td>147024.1605228105   </td><td>9600.0            </td><td>182171.95904095902</td><td>978.0            </td><td>188334.07174392935  </td><td>20.0             </td><td>186782.0            </td><td>1976.0            </td><td>0.0              </td><td>187738.31270358307  </td><td>1976.0            </td><td>187523.8671023965   </td><td>188146.7502726281   </td><td>0.0               </td><td>0.0               </td><td>204076.0357142857    </td><td>155330.24861804862   </td><td>183201.27365208542</td><td>6.0               </td><td>178321.97183098592  </td><td>1.0                 </td><td>155721.17213200592   </td><td>0.0              </td><td>185708.33940774488 </td><td>174574.41216991964</td><td>181235.93597560975</td><td>2007.0            </td><td>178818.25814185815 </td><td>182383.5220883534 </td><td>192391.8022670025 </td><td>80.0              </td></tr>\n",
       "<tr><td>2      </td><td>182525.73333333334  </td><td>162.0             </td><td>2.0               </td><td>182171.95904095902   </td><td>9.0              </td><td>5.0               </td><td>3.0               </td><td>920.0             </td><td>182171.95904095902</td><td>226465.8274336283   </td><td>1786.0            </td><td>0.0               </td><td>187129.2701381951     </td><td>1.0               </td><td>0.0               </td><td>7.0               </td><td>1.0               </td><td>209450.39420289855</td><td>203664.60358890702  </td><td>2001.0            </td><td>236446.98648648648    </td><td>216426.0           </td><td>608.0             </td><td>182216.631         </td><td>182171.95904095902</td><td>920.0             </td><td>184737.95170142702</td><td>203515.30891719743  </td><td>177020.8800489596      </td><td>185063.63879957132  </td><td>200494.42807017543    </td><td>434.0             </td><td>229333.4454277286  </td><td>171522.79741935484 </td><td>200924.0538641686 </td><td>181982.57594936708 </td><td>0.0               </td><td>187595.7541966427 </td><td>0.0               </td><td>0.0               </td><td>212221.98514851482   </td><td>1.0                </td><td>185630.71806674334    </td><td>0.0               </td><td>2.0               </td><td>1.0                </td><td>197940.3021894772     </td><td>182282.48766816143   </td><td>185776.46347031964  </td><td>11250.0           </td><td>182171.95904095902</td><td>486.0            </td><td>188334.07174392935  </td><td>60.0             </td><td>186782.0            </td><td>2002.0            </td><td>866.0            </td><td>187738.31270358307  </td><td>2001.0            </td><td>187523.8671023965   </td><td>188146.7502726281   </td><td>0.0               </td><td>0.0               </td><td>204076.0357142857    </td><td>216859.7290502793    </td><td>183201.27365208542</td><td>6.0               </td><td>210965.119205298    </td><td>0.0                 </td><td>216626.9093484419    </td><td>42.0             </td><td>185708.33940774488 </td><td>174574.41216991964</td><td>181235.93597560975</td><td>2008.0            </td><td>176473.2899159664  </td><td>182383.5220883534 </td><td>192391.8022670025 </td><td>68.0              </td></tr>\n",
       "<tr><td>3      </td><td>182525.73333333334  </td><td>350.0             </td><td>2.0               </td><td>182171.95904095902   </td><td>12.0             </td><td>5.0               </td><td>4.0               </td><td>1145.0            </td><td>182171.95904095902</td><td>226465.8274336283   </td><td>2198.0            </td><td>0.0               </td><td>207605.41721854304    </td><td>1.0               </td><td>0.0               </td><td>8.0               </td><td>1.0               </td><td>209450.39420289855</td><td>203664.60358890702  </td><td>2000.0            </td><td>236446.98648648648    </td><td>216426.0           </td><td>836.0             </td><td>182216.631         </td><td>182171.95904095902</td><td>1145.0            </td><td>184737.95170142702</td><td>203515.30891719743  </td><td>177020.8800489596      </td><td>185063.63879957132  </td><td>200494.42807017543    </td><td>490.0             </td><td>229333.4454277286  </td><td>171522.79741935484 </td><td>200924.0538641686 </td><td>181982.57594936708 </td><td>192.0             </td><td>187595.7541966427 </td><td>0.0               </td><td>0.0               </td><td>212221.98514851482   </td><td>1.0                </td><td>185630.71806674334    </td><td>0.0               </td><td>3.0               </td><td>1.0                </td><td>329868.3581418581     </td><td>182282.48766816143   </td><td>185776.46347031964  </td><td>14260.0           </td><td>182171.95904095902</td><td>655.0            </td><td>188334.07174392935  </td><td>60.0             </td><td>186782.0            </td><td>2000.0            </td><td>1053.0           </td><td>187738.31270358307  </td><td>2000.0            </td><td>187523.8671023965   </td><td>188146.7502726281   </td><td>0.0               </td><td>0.0               </td><td>204076.0357142857    </td><td>216859.7290502793    </td><td>183201.27365208542</td><td>9.0               </td><td>210965.119205298    </td><td>0.0                 </td><td>216626.9093484419    </td><td>84.0             </td><td>185708.33940774488 </td><td>174574.41216991964</td><td>181235.93597560975</td><td>2008.0            </td><td>178818.25814185815 </td><td>182383.5220883534 </td><td>192391.8022670025 </td><td>84.0              </td></tr>\n",
       "<tr><td>4      </td><td>182525.73333333334  </td><td>0.0               </td><td>1.0               </td><td>151058.18256582128   </td><td>10.0             </td><td>5.0               </td><td>1.0               </td><td>796.0             </td><td>182171.95904095902</td><td>185142.46052281052  </td><td>1362.0            </td><td>0.0               </td><td>167645.4123076923     </td><td>1.0               </td><td>0.0               </td><td>5.0               </td><td>0.0               </td><td>209450.39420289855</td><td>203664.60358890702  </td><td>1993.0            </td><td>236446.98648648648    </td><td>216426.0           </td><td>480.0             </td><td>182216.631         </td><td>154576.6979101979 </td><td>796.0             </td><td>184737.95170142702</td><td>155578.6188811189   </td><td>177020.8800489596      </td><td>185063.63879957132  </td><td>141354.57177033494    </td><td>64.0              </td><td>144619.2755267423  </td><td>171522.79741935484 </td><td>200924.0538641686 </td><td>181982.57594936708 </td><td>40.0              </td><td>187595.7541966427 </td><td>0.0               </td><td>0.0               </td><td>139811.59481037923   </td><td>1.0                </td><td>185630.71806674334    </td><td>0.0               </td><td>2.0               </td><td>1.0                </td><td>157653.3733433233     </td><td>182282.48766816143   </td><td>185776.46347031964  </td><td>14115.0           </td><td>182171.95904095902</td><td>732.0            </td><td>188334.07174392935  </td><td>50.0             </td><td>186782.0            </td><td>1995.0            </td><td>566.0            </td><td>187738.31270358307  </td><td>1993.0            </td><td>187523.8671023965   </td><td>188146.7502726281   </td><td>320.0             </td><td>700.0             </td><td>182171.95904095902   </td><td>216859.7290502793    </td><td>183201.27365208542</td><td>5.0               </td><td>149995.43881027232  </td><td>0.0                 </td><td>216626.9093484419    </td><td>30.0             </td><td>185708.33940774488 </td><td>174574.41216991964</td><td>181235.93597560975</td><td>2009.0            </td><td>176473.2899159664  </td><td>182383.5220883534 </td><td>192391.8022670025 </td><td>85.0              </td></tr>\n",
       "<tr><td>5      </td><td>182525.73333333334  </td><td>186.0             </td><td>2.0               </td><td>182171.95904095902   </td><td>8.0              </td><td>5.0               </td><td>3.0               </td><td>1694.0            </td><td>182171.95904095902</td><td>226465.8274336283   </td><td>1694.0            </td><td>0.0               </td><td>207605.41721854304    </td><td>1.0               </td><td>0.0               </td><td>8.0               </td><td>1.0               </td><td>165131.57073954982</td><td>203664.60358890702  </td><td>2004.0            </td><td>236446.98648648648    </td><td>216426.0           </td><td>636.0             </td><td>182216.631         </td><td>182171.95904095902</td><td>1686.0            </td><td>184737.95170142702</td><td>256064.37787676242  </td><td>177020.8800489596      </td><td>185063.63879957132  </td><td>200494.42807017543    </td><td>317.0             </td><td>229333.4454277286  </td><td>171522.79741935484 </td><td>312352.66653056245</td><td>181982.57594936708 </td><td>255.0             </td><td>187595.7541966427 </td><td>0.0               </td><td>0.0               </td><td>212221.98514851482   </td><td>1.0                </td><td>185630.71806674334    </td><td>0.0               </td><td>2.0               </td><td>0.0                </td><td>214617.5167374998     </td><td>182282.48766816143   </td><td>185776.46347031964  </td><td>10084.0           </td><td>182171.95904095902</td><td>1369.0           </td><td>188334.07174392935  </td><td>20.0             </td><td>186782.0            </td><td>2005.0            </td><td>0.0              </td><td>187738.31270358307  </td><td>2004.0            </td><td>187523.8671023965   </td><td>188146.7502726281   </td><td>0.0               </td><td>0.0               </td><td>225928.18076923073   </td><td>216859.7290502793    </td><td>183201.27365208542</td><td>7.0               </td><td>178321.97183098592  </td><td>0.0                 </td><td>216626.9093484419    </td><td>57.0             </td><td>185708.33940774488 </td><td>174574.41216991964</td><td>181235.93597560975</td><td>2007.0            </td><td>176473.2899159664  </td><td>182383.5220883534 </td><td>192391.8022670025 </td><td>75.0              </td></tr>\n",
       "<tr><td>6      </td><td>182525.73333333334  </td><td>0.0               </td><td>2.0               </td><td>182171.95904095902   </td><td>4.0              </td><td>5.0               </td><td>2.0               </td><td>1022.0            </td><td>182171.95904095902</td><td>136922.75385614386  </td><td>1774.0            </td><td>0.0               </td><td>167645.4123076923     </td><td>2.0               </td><td>0.0               </td><td>7.0               </td><td>2.0               </td><td>165131.57073954982</td><td>133017.2480620155   </td><td>1931.0            </td><td>172096.88704318934    </td><td>157465.01829268291 </td><td>468.0             </td><td>182216.631         </td><td>182171.95904095902</td><td>952.0             </td><td>184737.95170142702</td><td>155578.6188811189   </td><td>153108.76116383614     </td><td>153787.09385614382  </td><td>141354.57177033494    </td><td>952.0             </td><td>144619.2755267423  </td><td>171522.79741935484 </td><td>141930.00455580864</td><td>181982.57594936708 </td><td>90.0              </td><td>187595.7541966427 </td><td>0.0               </td><td>205.0             </td><td>139811.59481037923   </td><td>0.0                </td><td>185630.71806674334    </td><td>0.0               </td><td>2.0               </td><td>0.0                </td><td>133772.61742757243    </td><td>182282.48766816143   </td><td>134468.29385614386  </td><td>6120.0            </td><td>182171.95904095902</td><td>0.0              </td><td>131334.20218947722  </td><td>50.0             </td><td>186782.0            </td><td>1950.0            </td><td>752.0            </td><td>129502.64385614383  </td><td>1931.0            </td><td>187523.8671023965   </td><td>188146.7502726281   </td><td>0.0               </td><td>0.0               </td><td>204076.0357142857    </td><td>174764.54385614384   </td><td>183201.27365208542</td><td>8.0               </td><td>149995.43881027232  </td><td>0.0                 </td><td>153754.05472570908   </td><td>0.0              </td><td>185708.33940774488 </td><td>174574.41216991964</td><td>181235.93597560975</td><td>2008.0            </td><td>176473.2899159664  </td><td>182383.5220883534 </td><td>135492.29843360864</td><td>51.0              </td></tr>\n",
       "<tr><td>7      </td><td>182525.73333333334  </td><td>0.0               </td><td>1.0               </td><td>182171.95904095902   </td><td>2.0              </td><td>5.0               </td><td>3.0               </td><td>1040.0            </td><td>182171.95904095902</td><td>150397.2807424594   </td><td>1040.0            </td><td>0.0               </td><td>167645.4123076923     </td><td>1.0               </td><td>0.0               </td><td>5.0               </td><td>0.0               </td><td>165131.57073954982</td><td>133017.2480620155   </td><td>1965.0            </td><td>150410.4464877228     </td><td>216426.0           </td><td>384.0             </td><td>182216.631         </td><td>182171.95904095902</td><td>1040.0            </td><td>184737.95170142702</td><td>155578.6188811189   </td><td>177020.8800489596      </td><td>185063.63879957132  </td><td>141354.57177033494    </td><td>134.0             </td><td>144619.2755267423  </td><td>222601.05940594056 </td><td>141930.00455580864</td><td>181982.57594936708 </td><td>0.0               </td><td>187595.7541966427 </td><td>0.0               </td><td>0.0               </td><td>139811.59481037923   </td><td>1.0                </td><td>185630.71806674334    </td><td>0.0               </td><td>1.0               </td><td>0.0                </td><td>143540.98922651424    </td><td>182282.48766816143   </td><td>185776.46347031964  </td><td>11200.0           </td><td>182171.95904095902</td><td>906.0            </td><td>188334.07174392935  </td><td>20.0             </td><td>186782.0            </td><td>1965.0            </td><td>0.0              </td><td>187738.31270358307  </td><td>1965.0            </td><td>187523.8671023965   </td><td>188146.7502726281   </td><td>0.0               </td><td>0.0               </td><td>182171.95904095902   </td><td>162189.7051282051    </td><td>183201.27365208542</td><td>5.0               </td><td>178321.97183098592  </td><td>0.0                 </td><td>169688.48681389034   </td><td>0.0              </td><td>185708.33940774488 </td><td>174574.41216991964</td><td>181235.93597560975</td><td>2008.0            </td><td>176473.2899159664  </td><td>182383.5220883534 </td><td>192391.8022670025 </td><td>70.0              </td></tr>\n",
       "<tr><td>8      </td><td>182525.73333333334  </td><td>286.0             </td><td>3.0               </td><td>182171.95904095902   </td><td>7.0              </td><td>5.0               </td><td>4.0               </td><td>1182.0            </td><td>182171.95904095902</td><td>226465.8274336283   </td><td>2324.0            </td><td>0.0               </td><td>167645.4123076923     </td><td>1.0               </td><td>0.0               </td><td>9.0               </td><td>2.0               </td><td>209450.39420289855</td><td>243875.54558028182  </td><td>2005.0            </td><td>236446.98648648648    </td><td>216426.0           </td><td>736.0             </td><td>182216.631         </td><td>182171.95904095902</td><td>1175.0            </td><td>184737.95170142702</td><td>256064.37787676242  </td><td>260380.61674771016     </td><td>185063.63879957132  </td><td>243708.832            </td><td>177.0             </td><td>348876.58744588745 </td><td>222601.05940594056 </td><td>312352.66653056245</td><td>181982.57594936708 </td><td>147.0             </td><td>187595.7541966427 </td><td>0.0               </td><td>0.0               </td><td>305958.08769176033   </td><td>1.0                </td><td>185630.71806674334    </td><td>0.0               </td><td>3.0               </td><td>0.0                </td><td>301677.8909715284     </td><td>182282.48766816143   </td><td>185776.46347031964  </td><td>11924.0           </td><td>182171.95904095902</td><td>998.0            </td><td>188334.07174392935  </td><td>60.0             </td><td>186782.0            </td><td>2006.0            </td><td>1142.0           </td><td>187738.31270358307  </td><td>2005.0            </td><td>187523.8671023965   </td><td>188146.7502726281   </td><td>0.0               </td><td>0.0               </td><td>225928.18076923073   </td><td>155487.09385614382   </td><td>183201.27365208542</td><td>11.0              </td><td>210965.119205298    </td><td>0.0                 </td><td>153754.05472570908   </td><td>21.0             </td><td>185708.33940774488 </td><td>263880.6876061438 </td><td>181235.93597560975</td><td>2006.0            </td><td>176473.2899159664  </td><td>182383.5220883534 </td><td>192391.8022670025 </td><td>85.0              </td></tr>\n",
       "<tr><td>9      </td><td>182525.73333333334  </td><td>0.0               </td><td>1.0               </td><td>182171.95904095902   </td><td>9.0              </td><td>6.0               </td><td>2.0               </td><td>912.0             </td><td>182171.95904095902</td><td>150397.2807424594   </td><td>912.0             </td><td>176.0             </td><td>167645.4123076923     </td><td>1.0               </td><td>0.0               </td><td>5.0               </td><td>0.0               </td><td>220137.0973044197 </td><td>133017.2480620155   </td><td>1962.0            </td><td>161782.77448994666    </td><td>141464.28231292518 </td><td>352.0             </td><td>182216.631         </td><td>182171.95904095902</td><td>912.0             </td><td>184737.95170142702</td><td>155578.6188811189   </td><td>177020.8800489596      </td><td>185063.63879957132  </td><td>141354.57177033494    </td><td>175.0             </td><td>144619.2755267423  </td><td>222601.05940594056 </td><td>141930.00455580864</td><td>181982.57594936708 </td><td>140.0             </td><td>187595.7541966427 </td><td>0.0               </td><td>0.0               </td><td>139811.59481037923   </td><td>1.0                </td><td>185630.71806674334    </td><td>0.0               </td><td>1.0               </td><td>0.0                </td><td>143540.98922651424    </td><td>182282.48766816143   </td><td>185776.46347031964  </td><td>12968.0           </td><td>182171.95904095902</td><td>737.0            </td><td>188334.07174392935  </td><td>20.0             </td><td>186782.0            </td><td>1962.0            </td><td>0.0              </td><td>187738.31270358307  </td><td>1962.0            </td><td>187523.8671023965   </td><td>188146.7502726281   </td><td>0.0               </td><td>0.0               </td><td>182171.95904095902   </td><td>162189.7051282051    </td><td>183201.27365208542</td><td>4.0               </td><td>178321.97183098592  </td><td>0.0                 </td><td>172512.37104060987   </td><td>0.0              </td><td>185708.33940774488 </td><td>174574.41216991964</td><td>181235.93597560975</td><td>2008.0            </td><td>176473.2899159664  </td><td>182383.5220883534 </td><td>192391.8022670025 </td><td>70.59975669099757 </td></tr>\n",
       "</tbody>\n",
       "</table>"
      ]
     },
     "metadata": {},
     "output_type": "display_data"
    },
    {
     "name": "stdout",
     "output_type": "stream",
     "text": [
      "--------------------------------------------------------------------------------\n",
      "Imputed and encoded numeric validation data:\n",
      "Rows:459\n",
      "Cols:79\n",
      "\n",
      "\n"
     ]
    },
    {
     "data": {
      "text/html": [
       "<table>\n",
       "<thead>\n",
       "<tr><th>       </th><th>Condition2_Tencode  </th><th>MasVnrArea       </th><th>FullBath          </th><th>MiscFeature_Tencode  </th><th>MoSold           </th><th>OverallCond      </th><th>BedroomAbvGr      </th><th>1stFlrSF          </th><th>Alley_Tencode     </th><th>Foundation_Tencode  </th><th>GrLivArea        </th><th>ScreenPorch       </th><th>BsmtExposure_Tencode  </th><th>KitchenAbvGr       </th><th>BsmtFinSF2       </th><th>OverallQual       </th><th>Fireplaces        </th><th>LotShape_Tencode  </th><th>GarageType_Tencode  </th><th>GarageYrBlt       </th><th>BsmtFinType1_Tencode  </th><th>HeatingQC_Tencode  </th><th>GarageArea        </th><th>Utilities_Tencode     </th><th>Fence_Tencode     </th><th>TotalBsmtSF       </th><th>BsmtCond_Tencode  </th><th>MasVnrType_Tencode  </th><th>SaleCondition_Tencode  </th><th>Functional_Tencode  </th><th>GarageFinish_Tencode  </th><th>BsmtUnfSF        </th><th>ExterQual_Tencode  </th><th>RoofStyle_Tencode  </th><th>BsmtQual_Tencode  </th><th>LandSlope_Tencode  </th><th>WoodDeckSF        </th><th>BldgType_Tencode  </th><th>PoolArea          </th><th>EnclosedPorch     </th><th>KitchenQual_Tencode  </th><th>BsmtFullBath      </th><th>BsmtFinType2_Tencode  </th><th>LowQualFinSF     </th><th>GarageCars        </th><th>HalfBath           </th><th>Neighborhood_Tencode  </th><th>LandContour_Tencode  </th><th>Condition1_Tencode  </th><th>LotArea           </th><th>PoolQC_Tencode    </th><th>BsmtFinSF1        </th><th>GarageQual_Tencode  </th><th>MSSubClass       </th><th>CentralAir_Tencode  </th><th>YearRemodAdd      </th><th>2ndFlrSF         </th><th>Electrical_Tencode  </th><th>YearBuilt         </th><th>PavedDrive_Tencode  </th><th>GarageCond_Tencode  </th><th>3SsnPorch        </th><th>MiscVal           </th><th>FireplaceQu_Tencode  </th><th>Exterior1st_Tencode  </th><th>Heating_Tencode   </th><th>TotRmsAbvGrd      </th><th>HouseStyle_Tencode  </th><th>BsmtHalfBath       </th><th>Exterior2nd_Tencode  </th><th>OpenPorchSF       </th><th>ExterCond_Tencode  </th><th>SaleType_Tencode  </th><th>RoofMatl_Tencode  </th><th>YrSold            </th><th>LotConfig_Tencode  </th><th>Street_Tencode    </th><th>MSZoning_Tencode  </th><th>LotFrontage       </th></tr>\n",
       "</thead>\n",
       "<tbody>\n",
       "<tr><td>type   </td><td>real                </td><td>real             </td><td>int               </td><td>real                 </td><td>int              </td><td>int              </td><td>int               </td><td>int               </td><td>real              </td><td>real                </td><td>int              </td><td>int               </td><td>real                  </td><td>int                </td><td>int              </td><td>int               </td><td>int               </td><td>real              </td><td>real                </td><td>real              </td><td>real                  </td><td>real               </td><td>int               </td><td>real                  </td><td>real              </td><td>int               </td><td>real              </td><td>real                </td><td>real                   </td><td>real                </td><td>real                  </td><td>int              </td><td>real               </td><td>real               </td><td>real              </td><td>real               </td><td>int               </td><td>real              </td><td>int               </td><td>int               </td><td>real                 </td><td>int               </td><td>real                  </td><td>int              </td><td>int               </td><td>int                </td><td>real                  </td><td>real                 </td><td>real                </td><td>int               </td><td>real              </td><td>int               </td><td>real                </td><td>int              </td><td>real                </td><td>int               </td><td>int              </td><td>real                </td><td>int               </td><td>real                </td><td>real                </td><td>int              </td><td>int               </td><td>real                 </td><td>real                 </td><td>real              </td><td>int               </td><td>real                </td><td>int                </td><td>real                 </td><td>int               </td><td>real               </td><td>real              </td><td>real              </td><td>int               </td><td>real               </td><td>real              </td><td>real              </td><td>real              </td></tr>\n",
       "<tr><td>mins   </td><td>84954.02450980392   </td><td>0.0              </td><td>0.0               </td><td>73479.02450980392    </td><td>1.0              </td><td>1.0              </td><td>0.0               </td><td>334.0             </td><td>134607.54723707662</td><td>110363.31736694675  </td><td>334.0            </td><td>0.0               </td><td>161376.63366336632    </td><td>1.0                </td><td>0.0              </td><td>1.0               </td><td>0.0               </td><td>163981.4191419142 </td><td>111434.07450980392  </td><td>1900.0            </td><td>146338.19117647054    </td><td>100679.02450980392 </td><td>0.0               </td><td>178193.4967320261     </td><td>133419.96200980392</td><td>0.0               </td><td>78579.02450980392 </td><td>131576.52450980392  </td><td>143816.52450980392     </td><td>84954.02450980392   </td><td>143948.79679144386    </td><td>0.0              </td><td>91042.14950980392  </td><td>139864.02450980392 </td><td>134771.7517825312 </td><td>175531.83179723503 </td><td>0.0               </td><td>128987.56617647059</td><td>0.0               </td><td>0.0               </td><td>105130.89950980392   </td><td>0.0               </td><td>145091.52450980392    </td><td>0.0              </td><td>0.0               </td><td>0.0                </td><td>112866.7168174962     </td><td>163075.56297134238   </td><td>150223.0311764706   </td><td>1491.0            </td><td>178193.4967320261 </td><td>0.0               </td><td>134853.20367647058  </td><td>20.0             </td><td>111601.52450980392  </td><td>1950.0            </td><td>0.0              </td><td>100143.52450980392  </td><td>1872.0            </td><td>114840.96895424835  </td><td>118776.94117647059  </td><td>0.0              </td><td>0.0               </td><td>133191.52450980392   </td><td>96429.02450980392    </td><td>77729.02450980392 </td><td>2.0               </td><td>122402.59593837534  </td><td>0.0                </td><td>106204.02450980392   </td><td>0.0               </td><td>91754.02450980392  </td><td>107734.02450980392</td><td>175904.02450980392</td><td>2006.0            </td><td>165751.57330498463 </td><td>95579.02450980392 </td><td>118217.35784313723</td><td>21.0              </td></tr>\n",
       "<tr><td>mean   </td><td>178197.18104147978  </td><td>96.68340611353712</td><td>1.5446623093681917</td><td>177409.66351972884   </td><td>6.233115468409586</td><td>5.557734204793029</td><td>2.8562091503267975</td><td>1141.9912854030501</td><td>176164.9969256838 </td><td>179041.90369302404  </td><td>1506.004357298475</td><td>15.710239651416122</td><td>178366.110436157      </td><td>1.0457516339869282 </td><td>57.23529411764706</td><td>6.0               </td><td>0.5969498910675382</td><td>176786.22238241704</td><td>185134.53079371178  </td><td>1977.9953051643192</td><td>180031.30962236744    </td><td>180663.6615169379  </td><td>463.1917211328976 </td><td>178193.49673202608    </td><td>173941.1787702735 </td><td>1044.7603485838779</td><td>180413.2355397497 </td><td>176108.20460862629  </td><td>177335.48292323467     </td><td>178425.73264556366  </td><td>181122.03431372548    </td><td>548.1590413943355</td><td>174940.2994916485  </td><td>177381.1458157119  </td><td>179069.59942970652</td><td>177815.9926203597  </td><td>101.15904139433552</td><td>178649.14910504507</td><td>1.411764705882353 </td><td>23.47276688453159 </td><td>177298.2844312017    </td><td>0.4226579520697168</td><td>180587.69974155238    </td><td>5.668845315904139</td><td>1.710239651416122 </td><td>0.38562091503267976</td><td>178193.49673202613    </td><td>177854.22806185653   </td><td>178617.62590029472  </td><td>10273.808278867102</td><td>178198.69396030012</td><td>439.36601307189545</td><td>184195.2038275876   </td><td>56.48148148148148</td><td>179115.18492887347  </td><td>1984.2701525054467</td><td>358.3442265795207</td><td>179083.62772865137  </td><td>1969.0196078431372</td><td>179002.9605814003   </td><td>184432.0126553889   </td><td>3.30718954248366 </td><td>51.78649237472767 </td><td>194587.7731541999    </td><td>179651.10523303002   </td><td>178371.04867785895</td><td>6.529411764705882 </td><td>177648.76674783204  </td><td>0.05228758169934641</td><td>179728.60882139349   </td><td>50.446623093681914</td><td>178484.55631381093 </td><td>177239.63702422145</td><td>177969.71943483275</td><td>2007.7886710239652</td><td>178163.26637404418 </td><td>178225.25931265755</td><td>179328.32668845312</td><td>68.85751978891821 </td></tr>\n",
       "<tr><td>maxs   </td><td>302979.0245098039   </td><td>1600.0           </td><td>3.0               </td><td>188229.02450980392   </td><td>12.0             </td><td>9.0              </td><td>6.0               </td><td>3228.0            </td><td>180974.4445098039 </td><td>222366.88205128204  </td><td>3608.0           </td><td>480.0             </td><td>252970.21398348815    </td><td>2.0                </td><td>1474.0           </td><td>10.0              </td><td>3.0               </td><td>257372.27450980392</td><td>243247.17284313726  </td><td>2009.0            </td><td>224699.7863950498     </td><td>211491.75330396474 </td><td>1248.0            </td><td>178193.4967320261     </td><td>181956.919246646  </td><td>3200.0            </td><td>204324.73418722322</td><td>243111.468058191    </td><td>255001.6042717087      </td><td>181312.14950980392  </td><td>223156.8495098039     </td><td>2336.0           </td><td>311103.9129713424  </td><td>205162.1274859944  </td><td>287410.74022408965</td><td>219485.84269162212 </td><td>857.0             </td><td>183943.1995098039 </td><td>648.0             </td><td>301.0             </td><td>307728.63562091504   </td><td>2.0               </td><td>194068.52450980392    </td><td>572.0            </td><td>4.0               </td><td>2.0                </td><td>288359.0245098039     </td><td>252389.9995098039    </td><td>311479.0245098039   </td><td>215245.0          </td><td>180579.02450980392</td><td>1880.0            </td><td>282791.5245098039   </td><td>190.0            </td><td>184861.0283687943   </td><td>2009.0            </td><td>1611.0           </td><td>184788.65617433414  </td><td>2009.0            </td><td>184063.06872037915  </td><td>187300.52567237162  </td><td>407.0            </td><td>8300.0            </td><td>345181.5245098039    </td><td>230256.21200980392   </td><td>179414.41573033712</td><td>12.0              </td><td>221634.02450980392  </td><td>1.0                </td><td>237481.8022875817    </td><td>547.0             </td><td>197862.35784313726 </td><td>255001.6042717087 </td><td>296434.0245098039 </td><td>2010.0            </td><td>221371.6687405731  </td><td>178405.7096069869 </td><td>219311.6970098039 </td><td>182.0             </td></tr>\n",
       "<tr><td>sigma  </td><td>7675.71672468966    </td><td>183.006592418819 </td><td>0.5445931590280559</td><td>5663.060039991695    </td><td>2.762054423699208</td><td>1.164635411186286</td><td>0.8391483048651234</td><td>373.0166882400161 </td><td>9343.377742370945 </td><td>37636.63649998418   </td><td>537.1049436609106</td><td>59.127913702103534</td><td>27626.16956481009     </td><td>0.20917396118996426</td><td>185.2400106520329</td><td>1.4417359744722111</td><td>0.6515613257699316</td><td>21170.422649021315</td><td>30435.66812388826   </td><td>23.835406794370403</td><td>27951.821767244168    </td><td>31183.876623648637 </td><td>221.95498544637036</td><td>2.5135516264537697e-11</td><td>10548.08650865389 </td><td>412.08118513284444</td><td>13346.550640278583</td><td>27404.304553567163  </td><td>25636.556448480504     </td><td>8139.874204543359   </td><td>32859.958768536344    </td><td>436.0358278966987</td><td>46704.676972640176 </td><td>13516.296484902436 </td><td>44973.30052212846 </td><td>9612.485004032442  </td><td>136.04280560281128</td><td>11313.686291071554</td><td>30.246049815005012</td><td>61.321018173531264</td><td>48579.93227209306    </td><td>0.5161250426046552</td><td>6894.848900014342     </td><td>46.66085163497713</td><td>0.7712943151662266</td><td>0.5091844194507408 </td><td>47446.35307377432     </td><td>12704.546441754977   </td><td>12058.531723299979  </td><td>11072.988785723224</td><td>111.3469012372631 </td><td>431.4241433973325 </td><td>10759.770112055132  </td><td>42.51618219006454</td><td>19717.249202290554  </td><td>20.739310451691143</td><td>444.5856999141146</td><td>17731.970597652486  </td><td>30.823515930920244</td><td>17370.731330504437  </td><td>11807.813469454739  </td><td>28.18457901138756</td><td>449.54109321577573</td><td>26261.653007678007   </td><td>27697.042657464834   </td><td>7482.963820995204 </td><td>1.7068785455857545</td><td>21371.858060255647  </td><td>0.2228492452574714 </td><td>26639.054892573466   </td><td>72.74780631554772 </td><td>12461.390436783056 </td><td>25705.648619049694</td><td>12445.872412899753</td><td>1.3530662972075345</td><td>11574.452561519602 </td><td>3866.0185855881623</td><td>22954.507567875302</td><td>20.333695767270118</td></tr>\n",
       "<tr><td>zeros  </td><td>0                   </td><td>291              </td><td>3                 </td><td>0                    </td><td>0                </td><td>0                </td><td>2                 </td><td>0                 </td><td>0                 </td><td>0                   </td><td>0                </td><td>423               </td><td>0                     </td><td>0                  </td><td>399              </td><td>0                 </td><td>224               </td><td>0                 </td><td>0                   </td><td>0                 </td><td>0                     </td><td>0                  </td><td>33                </td><td>0                     </td><td>0                 </td><td>12                </td><td>0                 </td><td>0                   </td><td>0                      </td><td>0                   </td><td>0                     </td><td>40               </td><td>0                  </td><td>0                  </td><td>0                 </td><td>0                  </td><td>238               </td><td>0                 </td><td>458               </td><td>385               </td><td>0                    </td><td>270               </td><td>0                     </td><td>450              </td><td>33                </td><td>287                </td><td>0                     </td><td>0                    </td><td>0                   </td><td>0                 </td><td>0                 </td><td>141               </td><td>0                   </td><td>0                </td><td>0                   </td><td>0                 </td><td>257              </td><td>0                   </td><td>0                 </td><td>0                   </td><td>0                   </td><td>451              </td><td>439               </td><td>0                    </td><td>0                    </td><td>0                 </td><td>0                 </td><td>0                   </td><td>435                </td><td>0                    </td><td>196               </td><td>0                  </td><td>0                 </td><td>0                 </td><td>0                 </td><td>0                  </td><td>0                 </td><td>0                 </td><td>0                 </td></tr>\n",
       "<tr><td>missing</td><td>0                   </td><td>0                </td><td>0                 </td><td>0                    </td><td>0                </td><td>0                </td><td>0                 </td><td>0                 </td><td>0                 </td><td>0                   </td><td>0                </td><td>0                 </td><td>0                     </td><td>0                  </td><td>0                </td><td>0                 </td><td>0                 </td><td>0                 </td><td>0                   </td><td>0                 </td><td>0                     </td><td>0                  </td><td>0                 </td><td>0                     </td><td>0                 </td><td>0                 </td><td>0                 </td><td>0                   </td><td>0                      </td><td>0                   </td><td>0                     </td><td>0                </td><td>0                  </td><td>0                  </td><td>0                 </td><td>0                  </td><td>0                 </td><td>0                 </td><td>0                 </td><td>0                 </td><td>0                    </td><td>0                 </td><td>0                     </td><td>0                </td><td>0                 </td><td>0                  </td><td>0                     </td><td>0                    </td><td>0                   </td><td>0                 </td><td>0                 </td><td>0                 </td><td>0                   </td><td>0                </td><td>0                   </td><td>0                 </td><td>0                </td><td>0                   </td><td>0                 </td><td>0                   </td><td>0                   </td><td>0                </td><td>0                 </td><td>0                    </td><td>0                    </td><td>0                 </td><td>0                 </td><td>0                   </td><td>0                  </td><td>0                    </td><td>0                 </td><td>0                  </td><td>0                 </td><td>0                 </td><td>0                 </td><td>0                  </td><td>0                 </td><td>0                 </td><td>0                 </td></tr>\n",
       "<tr><td>0      </td><td>178218.27472527474  </td><td>0.0              </td><td>1.0               </td><td>178193.4967320261    </td><td>2.0              </td><td>5.0              </td><td>3.0               </td><td>961.0             </td><td>178193.4967320261 </td><td>144486.10784313726  </td><td>1717.0           </td><td>0.0               </td><td>161376.63366336632    </td><td>1.0                </td><td>0.0              </td><td>7.0               </td><td>1.0               </td><td>194850.58566088302</td><td>142532.16792065662  </td><td>1998.0            </td><td>169309.44117647054    </td><td>158961.70308123247 </td><td>642.0             </td><td>178193.4967320261     </td><td>178193.4967320261 </td><td>756.0             </td><td>204324.73418722322</td><td>157482.0            </td><td>147087.25059676042     </td><td>179857.76346604215  </td><td>143948.79679144386    </td><td>540.0            </td><td>143747.87889273354 </td><td>171401.71038251367 </td><td>138313.57142857142</td><td>175531.83179723503 </td><td>0.0               </td><td>181805.66321243523</td><td>0.0               </td><td>272.0             </td><td>211880.81318681315   </td><td>1.0               </td><td>182592.86046511628    </td><td>0.0              </td><td>3.0               </td><td>0.0                </td><td>216008.84593837534    </td><td>175715.7828162291    </td><td>181573.27604166663  </td><td>9550.0            </td><td>178193.4967320261 </td><td>216.0             </td><td>185601.24938271602  </td><td>70.0             </td><td>184861.0283687943   </td><td>1970.0            </td><td>756.0            </td><td>184788.65617433414  </td><td>1915.0            </td><td>184063.06872037915  </td><td>187300.52567237162  </td><td>0.0              </td><td>0.0               </td><td>219907.18575980392   </td><td>154595.81798806478   </td><td>179414.41573033712</td><td>7.0               </td><td>203633.455628685    </td><td>0.0                </td><td>180267.35784313726   </td><td>35.0              </td><td>180398.05693069307 </td><td>170822.7626262626 </td><td>176671.8111111111 </td><td>2006.0            </td><td>165751.57330498463 </td><td>178405.7096069869 </td><td>187920.61064425771</td><td>60.0              </td></tr>\n",
       "<tr><td>1      </td><td>178218.27472527474  </td><td>240.0            </td><td>2.0               </td><td>163465.69117647054   </td><td>11.0             </td><td>6.0              </td><td>3.0               </td><td>1107.0            </td><td>178193.4967320261 </td><td>148549.72906403942  </td><td>2090.0           </td><td>0.0               </td><td>199413.65506535943    </td><td>1.0                </td><td>32.0             </td><td>7.0               </td><td>2.0               </td><td>194850.58566088302</td><td>201051.3968871595   </td><td>1973.0            </td><td>169309.44117647054    </td><td>211491.75330396474 </td><td>484.0             </td><td>178193.4967320261     </td><td>178193.4967320261 </td><td>1107.0            </td><td>181115.23         </td><td>243111.468058191    </td><td>171302.3622047244      </td><td>179857.76346604215  </td><td>201271.56721053383    </td><td>216.0            </td><td>143747.87889273354 </td><td>171401.71038251367 </td><td>206633.03141361254</td><td>175531.83179723503 </td><td>235.0             </td><td>181805.66321243523</td><td>0.0               </td><td>228.0             </td><td>140285.62820512822   </td><td>1.0               </td><td>156634.52450980392    </td><td>0.0              </td><td>2.0               </td><td>1.0                </td><td>184610.14950980392    </td><td>175715.7828162291    </td><td>197366.52450980392  </td><td>10382.0           </td><td>178193.4967320261 </td><td>859.0             </td><td>185601.24938271602  </td><td>60.0             </td><td>184861.0283687943   </td><td>1973.0            </td><td>983.0            </td><td>184788.65617433414  </td><td>1973.0            </td><td>184063.06872037915  </td><td>187300.52567237162  </td><td>0.0              </td><td>350.0             </td><td>205118.42900418595   </td><td>167128.41844919784   </td><td>179414.41573033712</td><td>7.0               </td><td>203633.455628685    </td><td>0.0                </td><td>169568.25527903467   </td><td>204.0             </td><td>180398.05693069307 </td><td>170822.7626262626 </td><td>176671.8111111111 </td><td>2009.0            </td><td>165751.57330498463 </td><td>178405.7096069869 </td><td>187920.61064425771</td><td>68.85751978891821 </td></tr>\n",
       "<tr><td>2      </td><td>127029.02450980392  </td><td>0.0              </td><td>1.0               </td><td>178193.4967320261    </td><td>1.0              </td><td>6.0              </td><td>2.0               </td><td>1077.0            </td><td>178193.4967320261 </td><td>144486.10784313726  </td><td>1077.0           </td><td>0.0               </td><td>161376.63366336632    </td><td>2.0                </td><td>0.0              </td><td>5.0               </td><td>2.0               </td><td>163981.4191419142 </td><td>201051.3968871595   </td><td>1939.0            </td><td>224699.7863950498     </td><td>211491.75330396474 </td><td>205.0             </td><td>178193.4967320261     </td><td>178193.4967320261 </td><td>991.0             </td><td>181115.23         </td><td>157482.0            </td><td>171302.3622047244      </td><td>179857.76346604215  </td><td>201271.56721053383    </td><td>140.0            </td><td>143747.87889273354 </td><td>171401.71038251367 </td><td>138313.57142857142</td><td>175531.83179723503 </td><td>0.0               </td><td>128987.56617647059</td><td>0.0               </td><td>0.0               </td><td>140285.62820512822   </td><td>1.0               </td><td>182592.86046511628    </td><td>0.0              </td><td>1.0               </td><td>0.0                </td><td>129965.77450980392    </td><td>175715.7828162291    </td><td>152316.52450980392  </td><td>7420.0            </td><td>178193.4967320261 </td><td>851.0             </td><td>194951.10784313726  </td><td>190.0            </td><td>184861.0283687943   </td><td>1950.0            </td><td>0.0              </td><td>184788.65617433414  </td><td>1939.0            </td><td>184063.06872037915  </td><td>187300.52567237162  </td><td>0.0              </td><td>0.0               </td><td>205118.42900418595   </td><td>151733.02861939298   </td><td>179414.41573033712</td><td>5.0               </td><td>122402.59593837534  </td><td>0.0                </td><td>151828.55059676044   </td><td>4.0               </td><td>180398.05693069307 </td><td>170822.7626262626 </td><td>176671.8111111111 </td><td>2008.0            </td><td>165751.57330498463 </td><td>178405.7096069869 </td><td>187920.61064425771</td><td>50.0              </td></tr>\n",
       "<tr><td>3      </td><td>178218.27472527474  </td><td>0.0              </td><td>1.0               </td><td>178193.4967320261    </td><td>7.0              </td><td>8.0              </td><td>2.0               </td><td>854.0             </td><td>178193.4967320261 </td><td>144486.10784313726  </td><td>854.0            </td><td>0.0               </td><td>161376.63366336632    </td><td>1.0                </td><td>0.0              </td><td>7.0               </td><td>0.0               </td><td>163981.4191419142 </td><td>142532.16792065662  </td><td>1991.0            </td><td>168970.1659826721     </td><td>211491.75330396474 </td><td>576.0             </td><td>178193.4967320261     </td><td>181956.919246646  </td><td>832.0             </td><td>181115.23         </td><td>157482.0            </td><td>171302.3622047244      </td><td>179857.76346604215  </td><td>143948.79679144386    </td><td>832.0            </td><td>143747.87889273354 </td><td>171401.71038251367 </td><td>138313.57142857142</td><td>175531.83179723503 </td><td>48.0              </td><td>181805.66321243523</td><td>0.0               </td><td>0.0               </td><td>140285.62820512822   </td><td>0.0               </td><td>182592.86046511628    </td><td>0.0              </td><td>2.0               </td><td>0.0                </td><td>129965.77450980392    </td><td>175715.7828162291    </td><td>181573.27604166663  </td><td>6120.0            </td><td>178193.4967320261 </td><td>0.0               </td><td>185601.24938271602  </td><td>45.0             </td><td>184861.0283687943   </td><td>2001.0            </td><td>0.0              </td><td>135344.4530812325   </td><td>1929.0            </td><td>184063.06872037915  </td><td>187300.52567237162  </td><td>0.0              </td><td>0.0               </td><td>178193.4967320261    </td><td>154595.81798806478   </td><td>179414.41573033712</td><td>5.0               </td><td>122402.59593837534  </td><td>0.0                </td><td>163767.73719637108   </td><td>112.0             </td><td>180398.05693069307 </td><td>170822.7626262626 </td><td>176671.8111111111 </td><td>2007.0            </td><td>165751.57330498463 </td><td>178405.7096069869 </td><td>132608.82714138282</td><td>51.0              </td></tr>\n",
       "<tr><td>4      </td><td>178218.27472527474  </td><td>180.0            </td><td>1.0               </td><td>163465.69117647054   </td><td>3.0              </td><td>7.0              </td><td>2.0               </td><td>1004.0            </td><td>178193.4967320261 </td><td>148549.72906403942  </td><td>1004.0           </td><td>0.0               </td><td>161376.63366336632    </td><td>1.0                </td><td>0.0              </td><td>6.0               </td><td>1.0               </td><td>194850.58566088302</td><td>201051.3968871595   </td><td>1970.0            </td><td>169309.44117647054    </td><td>211491.75330396474 </td><td>480.0             </td><td>178193.4967320261     </td><td>178193.4967320261 </td><td>1004.0            </td><td>181115.23         </td><td>203114.2504640024   </td><td>171302.3622047244      </td><td>179857.76346604215  </td><td>223156.8495098039     </td><td>426.0            </td><td>143747.87889273354 </td><td>171401.71038251367 </td><td>138313.57142857142</td><td>175531.83179723503 </td><td>0.0               </td><td>181805.66321243523</td><td>0.0               </td><td>0.0               </td><td>140285.62820512822   </td><td>1.0               </td><td>182592.86046511628    </td><td>0.0              </td><td>2.0               </td><td>0.0                </td><td>152080.32258672698    </td><td>175715.7828162291    </td><td>181573.27604166663  </td><td>11241.0           </td><td>178193.4967320261 </td><td>578.0             </td><td>185601.24938271602  </td><td>20.0             </td><td>184861.0283687943   </td><td>1970.0            </td><td>0.0              </td><td>184788.65617433414  </td><td>1970.0            </td><td>184063.06872037915  </td><td>187300.52567237162  </td><td>0.0              </td><td>700.0             </td><td>205118.42900418595   </td><td>154595.81798806478   </td><td>179414.41573033712</td><td>5.0               </td><td>170914.57205240175  </td><td>0.0                </td><td>163767.73719637108   </td><td>0.0               </td><td>180398.05693069307 </td><td>170822.7626262626 </td><td>176671.8111111111 </td><td>2010.0            </td><td>221371.6687405731  </td><td>178405.7096069869 </td><td>187920.61064425771</td><td>68.85751978891821 </td></tr>\n",
       "<tr><td>5      </td><td>178218.27472527474  </td><td>0.0              </td><td>1.0               </td><td>178193.4967320261    </td><td>6.0              </td><td>5.0              </td><td>3.0               </td><td>1114.0            </td><td>178193.4967320261 </td><td>222366.88205128204  </td><td>1114.0           </td><td>0.0               </td><td>161376.63366336632    </td><td>1.0                </td><td>0.0              </td><td>5.0               </td><td>0.0               </td><td>163981.4191419142 </td><td>142532.16792065662  </td><td>2004.0            </td><td>224699.7863950498     </td><td>211491.75330396474 </td><td>576.0             </td><td>178193.4967320261     </td><td>178193.4967320261 </td><td>1114.0            </td><td>181115.23         </td><td>157482.0            </td><td>171302.3622047244      </td><td>179857.76346604215  </td><td>143948.79679144386    </td><td>468.0            </td><td>143747.87889273354 </td><td>171401.71038251367 </td><td>138313.57142857142</td><td>175531.83179723503 </td><td>0.0               </td><td>181805.66321243523</td><td>0.0               </td><td>0.0               </td><td>211880.81318681315   </td><td>1.0               </td><td>182592.86046511628    </td><td>0.0              </td><td>2.0               </td><td>1.0                </td><td>189097.7776348039     </td><td>175715.7828162291    </td><td>150829.02450980392  </td><td>13695.0           </td><td>178193.4967320261 </td><td>646.0             </td><td>185601.24938271602  </td><td>20.0             </td><td>184861.0283687943   </td><td>2004.0            </td><td>0.0              </td><td>184788.65617433414  </td><td>2004.0            </td><td>184063.06872037915  </td><td>187300.52567237162  </td><td>0.0              </td><td>0.0               </td><td>178193.4967320261    </td><td>206602.9363057325    </td><td>179414.41573033712</td><td>6.0               </td><td>170914.57205240175  </td><td>0.0                </td><td>209302.39072847684   </td><td>102.0             </td><td>180398.05693069307 </td><td>170822.7626262626 </td><td>176671.8111111111 </td><td>2008.0            </td><td>177919.81360946747 </td><td>178405.7096069869 </td><td>187920.61064425771</td><td>66.0              </td></tr>\n",
       "<tr><td>6      </td><td>178218.27472527474  </td><td>0.0              </td><td>1.0               </td><td>178193.4967320261    </td><td>6.0              </td><td>7.0              </td><td>3.0               </td><td>1108.0            </td><td>134607.54723707662</td><td>222366.88205128204  </td><td>1108.0           </td><td>0.0               </td><td>161376.63366336632    </td><td>1.0                </td><td>0.0              </td><td>7.0               </td><td>1.0               </td><td>163981.4191419142 </td><td>201051.3968871595   </td><td>1930.0            </td><td>168970.1659826721     </td><td>211491.75330396474 </td><td>280.0             </td><td>178193.4967320261     </td><td>181956.919246646  </td><td>637.0             </td><td>181115.23         </td><td>157482.0            </td><td>171302.3622047244      </td><td>179857.76346604215  </td><td>143948.79679144386    </td><td>637.0            </td><td>143747.87889273354 </td><td>171401.71038251367 </td><td>138313.57142857142</td><td>175531.83179723503 </td><td>0.0               </td><td>181805.66321243523</td><td>0.0               </td><td>205.0             </td><td>211880.81318681315   </td><td>0.0               </td><td>182592.86046511628    </td><td>0.0              </td><td>1.0               </td><td>0.0                </td><td>112866.7168174962     </td><td>163075.56297134238   </td><td>181573.27604166663  </td><td>7449.0            </td><td>178193.4967320261 </td><td>0.0               </td><td>185601.24938271602  </td><td>45.0             </td><td>184861.0283687943   </td><td>1950.0            </td><td>0.0              </td><td>100143.52450980392  </td><td>1930.0            </td><td>114840.96895424835  </td><td>187300.52567237162  </td><td>0.0              </td><td>0.0               </td><td>219907.18575980392   </td><td>154595.81798806478   </td><td>179414.41573033712</td><td>6.0               </td><td>122402.59593837534  </td><td>0.0                </td><td>163767.73719637108   </td><td>0.0               </td><td>180398.05693069307 </td><td>170822.7626262626 </td><td>176671.8111111111 </td><td>2007.0            </td><td>177919.81360946747 </td><td>178405.7096069869 </td><td>132608.82714138282</td><td>57.0              </td></tr>\n",
       "<tr><td>7      </td><td>84954.02450980392   </td><td>0.0              </td><td>1.0               </td><td>178193.4967320261    </td><td>5.0              </td><td>6.0              </td><td>1.0               </td><td>520.0             </td><td>178193.4967320261 </td><td>144486.10784313726  </td><td>520.0            </td><td>0.0               </td><td>161376.63366336632    </td><td>1.0                </td><td>0.0              </td><td>4.0               </td><td>0.0               </td><td>194850.58566088302</td><td>142532.16792065662  </td><td>1920.0            </td><td>168970.1659826721     </td><td>127694.14950980392 </td><td>240.0             </td><td>178193.4967320261     </td><td>178193.4967320261 </td><td>520.0             </td><td>181115.23         </td><td>157482.0            </td><td>171302.3622047244      </td><td>179857.76346604215  </td><td>143948.79679144386    </td><td>520.0            </td><td>143747.87889273354 </td><td>171401.71038251367 </td><td>138313.57142857142</td><td>175531.83179723503 </td><td>49.0              </td><td>181805.66321243523</td><td>0.0               </td><td>87.0              </td><td>105130.89950980392   </td><td>0.0               </td><td>182592.86046511628    </td><td>0.0              </td><td>1.0               </td><td>0.0                </td><td>129965.77450980392    </td><td>175715.7828162291    </td><td>150223.0311764706   </td><td>6324.0            </td><td>178193.4967320261 </td><td>0.0               </td><td>134853.20367647058  </td><td>30.0             </td><td>111601.52450980392  </td><td>1950.0            </td><td>0.0              </td><td>184788.65617433414  </td><td>1927.0            </td><td>184063.06872037915  </td><td>187300.52567237162  </td><td>0.0              </td><td>0.0               </td><td>178193.4967320261    </td><td>151733.02861939298   </td><td>179414.41573033712</td><td>4.0               </td><td>170914.57205240175  </td><td>0.0                </td><td>151828.55059676044   </td><td>0.0               </td><td>180398.05693069307 </td><td>170822.7626262626 </td><td>176671.8111111111 </td><td>2008.0            </td><td>177919.81360946747 </td><td>178405.7096069869 </td><td>132608.82714138282</td><td>60.0              </td></tr>\n",
       "<tr><td>8      </td><td>178218.27472527474  </td><td>0.0              </td><td>1.0               </td><td>178193.4967320261    </td><td>6.0              </td><td>6.0              </td><td>3.0               </td><td>1228.0            </td><td>178193.4967320261 </td><td>148549.72906403942  </td><td>1228.0           </td><td>0.0               </td><td>161376.63366336632    </td><td>1.0                </td><td>0.0              </td><td>5.0               </td><td>0.0               </td><td>194850.58566088302</td><td>201051.3968871595   </td><td>1966.0            </td><td>168970.1659826721     </td><td>158961.70308123247 </td><td>271.0             </td><td>178193.4967320261     </td><td>151206.9049445865 </td><td>1228.0            </td><td>181115.23         </td><td>157482.0            </td><td>171302.3622047244      </td><td>179857.76346604215  </td><td>143948.79679144386    </td><td>1228.0           </td><td>143747.87889273354 </td><td>171401.71038251367 </td><td>138313.57142857142</td><td>175531.83179723503 </td><td>0.0               </td><td>181805.66321243523</td><td>0.0               </td><td>0.0               </td><td>211880.81318681315   </td><td>0.0               </td><td>182592.86046511628    </td><td>0.0              </td><td>1.0               </td><td>1.0                </td><td>143162.40700980392    </td><td>175715.7828162291    </td><td>181573.27604166663  </td><td>8544.0            </td><td>178193.4967320261 </td><td>0.0               </td><td>185601.24938271602  </td><td>20.0             </td><td>184861.0283687943   </td><td>2006.0            </td><td>0.0              </td><td>184788.65617433414  </td><td>1966.0            </td><td>184063.06872037915  </td><td>187300.52567237162  </td><td>0.0              </td><td>0.0               </td><td>178193.4967320261    </td><td>167128.41844919784   </td><td>179414.41573033712</td><td>6.0               </td><td>170914.57205240175  </td><td>0.0                </td><td>169568.25527903467   </td><td>65.0              </td><td>180398.05693069307 </td><td>170822.7626262626 </td><td>176671.8111111111 </td><td>2008.0            </td><td>221371.6687405731  </td><td>178405.7096069869 </td><td>187920.61064425771</td><td>68.85751978891821 </td></tr>\n",
       "<tr><td>9      </td><td>178218.27472527474  </td><td>0.0              </td><td>1.0               </td><td>178193.4967320261    </td><td>6.0              </td><td>5.0              </td><td>3.0               </td><td>1097.0            </td><td>178193.4967320261 </td><td>222366.88205128204  </td><td>1097.0           </td><td>0.0               </td><td>161376.63366336632    </td><td>1.0                </td><td>0.0              </td><td>5.0               </td><td>0.0               </td><td>163981.4191419142 </td><td>201051.3968871595   </td><td>1995.0            </td><td>168970.1659826721     </td><td>211491.75330396474 </td><td>672.0             </td><td>178193.4967320261     </td><td>178193.4967320261 </td><td>1097.0            </td><td>181115.23         </td><td>157482.0            </td><td>171302.3622047244      </td><td>179857.76346604215  </td><td>143948.79679144386    </td><td>1097.0           </td><td>143747.87889273354 </td><td>171401.71038251367 </td><td>206633.03141361254</td><td>175531.83179723503 </td><td>392.0             </td><td>181805.66321243523</td><td>0.0               </td><td>0.0               </td><td>140285.62820512822   </td><td>0.0               </td><td>182592.86046511628    </td><td>0.0              </td><td>2.0               </td><td>1.0                </td><td>190019.77971813726    </td><td>175715.7828162291    </td><td>181573.27604166663  </td><td>10859.0           </td><td>178193.4967320261 </td><td>0.0               </td><td>185601.24938271602  </td><td>20.0             </td><td>184861.0283687943   </td><td>1995.0            </td><td>0.0              </td><td>184788.65617433414  </td><td>1994.0            </td><td>184063.06872037915  </td><td>187300.52567237162  </td><td>0.0              </td><td>0.0               </td><td>178193.4967320261    </td><td>206602.9363057325    </td><td>179414.41573033712</td><td>6.0               </td><td>170914.57205240175  </td><td>0.0                </td><td>209302.39072847684   </td><td>64.0              </td><td>180398.05693069307 </td><td>170822.7626262626 </td><td>176671.8111111111 </td><td>2009.0            </td><td>165751.57330498463 </td><td>178405.7096069869 </td><td>187920.61064425771</td><td>112.0             </td></tr>\n",
       "</tbody>\n",
       "</table>"
      ]
     },
     "metadata": {},
     "output_type": "display_data"
    },
    {
     "name": "stdout",
     "output_type": "stream",
     "text": [
      "--------------------------------------------------------------------------------\n",
      "Imputed and encoded numeric test data:\n",
      "Rows:1459\n",
      "Cols:79\n",
      "\n",
      "\n"
     ]
    },
    {
     "data": {
      "text/html": [
       "<table>\n",
       "<thead>\n",
       "<tr><th>       </th><th>Condition2_Tencode  </th><th>MasVnrArea        </th><th>FullBath          </th><th>MiscFeature_Tencode  </th><th>MoSold           </th><th>OverallCond       </th><th>BedroomAbvGr      </th><th>1stFlrSF         </th><th>Alley_Tencode     </th><th>Foundation_Tencode  </th><th>GrLivArea         </th><th>ScreenPorch       </th><th>BsmtExposure_Tencode  </th><th>KitchenAbvGr       </th><th>BsmtFinSF2        </th><th>OverallQual       </th><th>Fireplaces        </th><th>LotShape_Tencode  </th><th>GarageType_Tencode  </th><th>GarageYrBlt       </th><th>BsmtFinType1_Tencode  </th><th>HeatingQC_Tencode  </th><th>GarageArea        </th><th>Utilities_Tencode    </th><th>Fence_Tencode     </th><th>TotalBsmtSF       </th><th>BsmtCond_Tencode  </th><th>MasVnrType_Tencode  </th><th>SaleCondition_Tencode  </th><th>Functional_Tencode  </th><th>GarageFinish_Tencode  </th><th>BsmtUnfSF         </th><th>ExterQual_Tencode  </th><th>RoofStyle_Tencode  </th><th>BsmtQual_Tencode  </th><th>LandSlope_Tencode  </th><th>WoodDeckSF        </th><th>BldgType_Tencode  </th><th>PoolArea          </th><th>EnclosedPorch    </th><th>KitchenQual_Tencode  </th><th>BsmtFullBath      </th><th>BsmtFinType2_Tencode  </th><th>LowQualFinSF      </th><th>GarageCars        </th><th>HalfBath          </th><th>Neighborhood_Tencode  </th><th>LandContour_Tencode  </th><th>Condition1_Tencode  </th><th>LotArea          </th><th>PoolQC_Tencode       </th><th>BsmtFinSF1        </th><th>GarageQual_Tencode  </th><th>MSSubClass       </th><th>CentralAir_Tencode  </th><th>YearRemodAdd      </th><th>2ndFlrSF         </th><th>Electrical_Tencode  </th><th>YearBuilt        </th><th>PavedDrive_Tencode  </th><th>GarageCond_Tencode  </th><th>3SsnPorch        </th><th>MiscVal          </th><th>FireplaceQu_Tencode  </th><th>Exterior1st_Tencode  </th><th>Heating_Tencode   </th><th>TotRmsAbvGrd      </th><th>HouseStyle_Tencode  </th><th>BsmtHalfBath       </th><th>Exterior2nd_Tencode  </th><th>OpenPorchSF      </th><th>ExterCond_Tencode  </th><th>SaleType_Tencode  </th><th>RoofMatl_Tencode  </th><th>YrSold            </th><th>LotConfig_Tencode  </th><th>Street_Tencode    </th><th>MSZoning_Tencode  </th><th>LotFrontage       </th></tr>\n",
       "</thead>\n",
       "<tbody>\n",
       "<tr><td>type   </td><td>real                </td><td>real              </td><td>int               </td><td>real                 </td><td>int              </td><td>int               </td><td>int               </td><td>int              </td><td>real              </td><td>real                </td><td>int               </td><td>int               </td><td>real                  </td><td>int                </td><td>real              </td><td>int               </td><td>int               </td><td>real              </td><td>real                </td><td>real              </td><td>real                  </td><td>real               </td><td>real              </td><td>real                 </td><td>real              </td><td>real              </td><td>real              </td><td>real                </td><td>real                   </td><td>real                </td><td>real                  </td><td>real              </td><td>real               </td><td>real               </td><td>real              </td><td>real               </td><td>int               </td><td>real              </td><td>int               </td><td>int              </td><td>real                 </td><td>real              </td><td>real                  </td><td>int               </td><td>real              </td><td>int               </td><td>real                  </td><td>real                 </td><td>real                </td><td>int              </td><td>real                 </td><td>real              </td><td>real                </td><td>int              </td><td>real                </td><td>int               </td><td>int              </td><td>real                </td><td>int              </td><td>real                </td><td>real                </td><td>int              </td><td>int              </td><td>real                 </td><td>real                 </td><td>real              </td><td>int               </td><td>real                </td><td>real               </td><td>real                 </td><td>int              </td><td>real               </td><td>real              </td><td>real              </td><td>int               </td><td>real               </td><td>real              </td><td>real              </td><td>real              </td></tr>\n",
       "<tr><td>mins   </td><td>127029.02450980392  </td><td>0.0               </td><td>0.0               </td><td>73479.02450980392    </td><td>1.0              </td><td>1.0               </td><td>0.0               </td><td>407.0            </td><td>134607.54723707662</td><td>110363.31736694675  </td><td>407.0             </td><td>0.0               </td><td>161376.63366336632    </td><td>0.0                </td><td>0.0               </td><td>1.0               </td><td>0.0               </td><td>163981.4191419142 </td><td>111434.07450980392  </td><td>1895.0            </td><td>146338.19117647054    </td><td>100679.02450980392 </td><td>0.0               </td><td>178193.4967320261    </td><td>133419.96200980392</td><td>0.0               </td><td>78579.02450980392 </td><td>131576.52450980392  </td><td>143816.52450980392     </td><td>84954.02450980392   </td><td>143948.79679144386    </td><td>0.0               </td><td>91042.14950980392  </td><td>139864.02450980392 </td><td>134771.7517825312 </td><td>175531.83179723503 </td><td>0.0               </td><td>128987.56617647059</td><td>0.0               </td><td>0.0              </td><td>105130.89950980392   </td><td>0.0               </td><td>145091.52450980392    </td><td>0.0               </td><td>0.0               </td><td>0.0               </td><td>112866.7168174962     </td><td>163075.56297134238   </td><td>150223.0311764706   </td><td>1470.0           </td><td>178193.4967320261    </td><td>0.0               </td><td>134853.20367647058  </td><td>20.0             </td><td>111601.52450980392  </td><td>1950.0            </td><td>0.0              </td><td>100143.52450980392  </td><td>1879.0           </td><td>114840.96895424835  </td><td>118776.94117647059  </td><td>0.0              </td><td>0.0              </td><td>133191.52450980392   </td><td>96429.02450980392    </td><td>77729.02450980392 </td><td>3.0               </td><td>122402.59593837534  </td><td>0.0                </td><td>106204.02450980392   </td><td>0.0              </td><td>91754.02450980392  </td><td>107734.02450980392</td><td>175904.02450980392</td><td>2006.0            </td><td>165751.57330498463 </td><td>95579.02450980392 </td><td>118217.35784313723</td><td>21.0              </td></tr>\n",
       "<tr><td>mean   </td><td>178369.39980873463  </td><td>100.70914127423823</td><td>1.570938999314599 </td><td>177606.24421888925   </td><td>6.104180945853324</td><td>5.5538039753255655</td><td>2.8540095956134337</td><td>1156.534612748458</td><td>176172.85149770897</td><td>181006.2901857593   </td><td>1486.0459218642907</td><td>17.064427690198766</td><td>179354.8610184363     </td><td>1.0424948594928032 </td><td>52.61934156378601 </td><td>6.078821110349555 </td><td>0.5812200137080192</td><td>176844.0836371834 </td><td>186339.7089378328   </td><td>1977.7212165097756</td><td>182091.99147253158    </td><td>182227.81273899964 </td><td>472.7688614540466 </td><td>178193.4967320261    </td><td>174246.9783571091 </td><td>1046.1179698216736</td><td>179283.61725237884</td><td>178207.07986924512  </td><td>176492.09637795313     </td><td>178383.03720943845  </td><td>180987.1789957136     </td><td>554.2949245541838 </td><td>177673.68837649448 </td><td>177370.7037166422  </td><td>181062.10689687656</td><td>177395.21920765378 </td><td>93.17477724468814 </td><td>178370.36965515942</td><td>1.7443454420836186</td><td>24.24331734064427</td><td>179340.3962464452    </td><td>0.4344543582704186</td><td>180689.57815766838    </td><td>3.5435229609321452</td><td>1.7661179698216736</td><td>0.3776559287183002</td><td>179660.9318538107     </td><td>179174.226337526     </td><td>179939.77372747526  </td><td>9819.161069225496</td><td>178193.4967320261    </td><td>439.2037037037037 </td><td>182567.66333366183  </td><td>57.37834132967786</td><td>179789.60281035837  </td><td>1983.6627827278958</td><td>325.9677861549006</td><td>180126.1193152811   </td><td>1971.357779300891</td><td>177090.15440559445  </td><td>184620.93755108098  </td><td>1.794379712131597</td><td>58.16792323509253</td><td>194452.82035270397   </td><td>179810.686881209     </td><td>179140.34833949362</td><td>6.385195339273475 </td><td>176296.0327526845   </td><td>0.06520247083047358</td><td>180995.23531825157   </td><td>48.3139136394791 </td><td>178138.29247727426 </td><td>175933.10715345875</td><td>176751.75320615337</td><td>2007.7697052775875</td><td>178278.00897433652 </td><td>178065.09267032953</td><td>179232.09043019178</td><td>68.58035714285714 </td></tr>\n",
       "<tr><td>maxs   </td><td>302979.0245098039   </td><td>1290.0            </td><td>4.0               </td><td>188229.02450980392   </td><td>12.0             </td><td>9.0               </td><td>6.0               </td><td>5095.0           </td><td>180974.4445098039 </td><td>222366.88205128204  </td><td>5095.0            </td><td>576.0             </td><td>252970.21398348815    </td><td>2.0                </td><td>1526.0            </td><td>10.0              </td><td>4.0               </td><td>257372.27450980392</td><td>243247.17284313726  </td><td>2207.0            </td><td>224699.7863950498     </td><td>211491.75330396474 </td><td>1488.0            </td><td>178193.4967320261    </td><td>181956.919246646  </td><td>5095.0            </td><td>204324.73418722322</td><td>243111.468058191    </td><td>255001.6042717087      </td><td>181312.14950980392  </td><td>223156.8495098039     </td><td>2140.0            </td><td>311103.9129713424  </td><td>205162.1274859944  </td><td>287410.74022408965</td><td>219485.84269162212 </td><td>1424.0            </td><td>183943.1995098039 </td><td>800.0             </td><td>1012.0           </td><td>307728.63562091504   </td><td>3.0               </td><td>194068.52450980392    </td><td>1064.0            </td><td>5.0               </td><td>2.0               </td><td>288359.0245098039     </td><td>252389.9995098039    </td><td>311479.0245098039   </td><td>56600.0          </td><td>178193.4967320261    </td><td>4010.0            </td><td>194951.10784313726  </td><td>190.0            </td><td>184861.0283687943   </td><td>2010.0            </td><td>1862.0           </td><td>184788.65617433414  </td><td>2010.0           </td><td>184063.06872037915  </td><td>187300.52567237162  </td><td>360.0            </td><td>17000.0          </td><td>345181.5245098039    </td><td>230256.21200980392   </td><td>179414.41573033712</td><td>15.0              </td><td>203633.455628685    </td><td>2.0                </td><td>237481.8022875817    </td><td>742.0            </td><td>197862.35784313726 </td><td>255001.6042717087 </td><td>296434.0245098039 </td><td>2010.0            </td><td>221371.6687405731  </td><td>178405.7096069869 </td><td>219311.6970098039 </td><td>200.0             </td></tr>\n",
       "<tr><td>sigma  </td><td>6115.23069917075    </td><td>176.70982437239402</td><td>0.5551898880356612</td><td>4663.358457904923    </td><td>2.722431901250806</td><td>1.1137396032892082</td><td>0.8297883627354511</td><td>398.165819592379 </td><td>9344.441064269215 </td><td>38032.67490944731   </td><td>485.5660986532533 </td><td>56.609762906910554</td><td>28882.71553690542     </td><td>0.20847167211324957</td><td>176.69330052860707</td><td>1.4368116404730185</td><td>0.6474204530720101</td><td>19890.63718996989 </td><td>30059.124281346794  </td><td>25.714450581225353</td><td>28488.122976770395    </td><td>30689.890057024284 </td><td>216.97416468040285</td><td>5.126500680162683e-12</td><td>9594.992921526902 </td><td>442.7467124418268 </td><td>13660.62136447893 </td><td>28422.54135345877   </td><td>24614.448808109904     </td><td>7764.753398575106   </td><td>33850.87496256971     </td><td>437.11050793486925</td><td>48363.331700835224 </td><td>13409.559779876743 </td><td>46910.286847951735</td><td>8806.028004426134  </td><td>127.74488151907603</td><td>11421.922290373092</td><td>30.491646305342066</td><td>67.22776541956969</td><td>50064.36965926004    </td><td>0.5302834550232052</td><td>6944.959535831843     </td><td>44.043250864375565</td><td>0.7756789263494978</td><td>0.5030166769415858</td><td>48658.82908689111     </td><td>16731.14952435502    </td><td>15269.946772589561  </td><td>4955.51732692645 </td><td>5.126500680162683e-12</td><td>455.11188761326986</td><td>11447.223084004698  </td><td>42.74687961871821</td><td>18602.363953739645  </td><td>21.130466908170447</td><td>420.6102264691034</td><td>15963.223969023631  </td><td>30.39007083720529</td><td>20263.256532577616  </td><td>11764.269564905075  </td><td>20.2078417514965 </td><td>630.806977589708 </td><td>26907.81955497986    </td><td>27215.585184717398   </td><td>4120.712522628475 </td><td>1.5088945751925409</td><td>20533.377591439952  </td><td>0.2522950420673912 </td><td>25951.286853243677   </td><td>68.88336411315397</td><td>13372.26174917729  </td><td>24826.25863986618 </td><td>3137.2359609732157</td><td>1.3017401493802643</td><td>11456.730191238737 </td><td>5302.397777524548 </td><td>23489.406573197466</td><td>20.561227856718492</td></tr>\n",
       "<tr><td>zeros  </td><td>0                   </td><td>877               </td><td>3                 </td><td>0                    </td><td>0                </td><td>0                 </td><td>2                 </td><td>0                </td><td>0                 </td><td>0                   </td><td>0                 </td><td>1319              </td><td>0                     </td><td>2                  </td><td>1278              </td><td>0                 </td><td>730               </td><td>0                 </td><td>0                   </td><td>0                 </td><td>0                     </td><td>0                  </td><td>76                </td><td>0                    </td><td>0                 </td><td>41                </td><td>0                 </td><td>0                   </td><td>0                      </td><td>0                   </td><td>0                     </td><td>123               </td><td>0                  </td><td>0                  </td><td>0                 </td><td>0                  </td><td>762               </td><td>0                 </td><td>1453              </td><td>1208             </td><td>0                    </td><td>849               </td><td>0                     </td><td>1445              </td><td>76                </td><td>921               </td><td>0                     </td><td>0                    </td><td>0                   </td><td>0                </td><td>0                    </td><td>462               </td><td>0                   </td><td>0                </td><td>0                   </td><td>0                 </td><td>839              </td><td>0                   </td><td>0                </td><td>0                   </td><td>0                   </td><td>1446             </td><td>1408             </td><td>0                    </td><td>0                    </td><td>0                 </td><td>0                 </td><td>0                   </td><td>1364               </td><td>0                    </td><td>642              </td><td>0                  </td><td>0                 </td><td>0                 </td><td>0                 </td><td>0                  </td><td>0                 </td><td>0                 </td><td>0                 </td></tr>\n",
       "<tr><td>missing</td><td>0                   </td><td>0                 </td><td>0                 </td><td>0                    </td><td>0                </td><td>0                 </td><td>0                 </td><td>0                </td><td>0                 </td><td>0                   </td><td>0                 </td><td>0                 </td><td>0                     </td><td>0                  </td><td>0                 </td><td>0                 </td><td>0                 </td><td>0                 </td><td>0                   </td><td>0                 </td><td>0                     </td><td>0                  </td><td>0                 </td><td>0                    </td><td>0                 </td><td>0                 </td><td>0                 </td><td>0                   </td><td>0                      </td><td>0                   </td><td>0                     </td><td>0                 </td><td>0                  </td><td>0                  </td><td>0                 </td><td>0                  </td><td>0                 </td><td>0                 </td><td>0                 </td><td>0                </td><td>0                    </td><td>0                 </td><td>0                     </td><td>0                 </td><td>0                 </td><td>0                 </td><td>0                     </td><td>0                    </td><td>0                   </td><td>0                </td><td>0                    </td><td>0                 </td><td>0                   </td><td>0                </td><td>0                   </td><td>0                 </td><td>0                </td><td>0                   </td><td>0                </td><td>0                   </td><td>0                   </td><td>0                </td><td>0                </td><td>0                    </td><td>0                    </td><td>0                 </td><td>0                 </td><td>0                   </td><td>0                  </td><td>0                    </td><td>0                </td><td>0                  </td><td>0                 </td><td>0                 </td><td>0                 </td><td>0                  </td><td>0                 </td><td>0                 </td><td>0                 </td></tr>\n",
       "<tr><td>0      </td><td>178218.27472527474  </td><td>0.0               </td><td>1.0               </td><td>178193.4967320261    </td><td>6.0              </td><td>6.0               </td><td>2.0               </td><td>896.0            </td><td>178193.4967320261 </td><td>148549.72906403942  </td><td>896.0             </td><td>120.0             </td><td>161376.63366336632    </td><td>1.0                </td><td>144.0             </td><td>5.0               </td><td>0.0               </td><td>163981.4191419142 </td><td>201051.3968871595   </td><td>1961.0            </td><td>156012.9060887513     </td><td>149413.2797336845  </td><td>730.0             </td><td>178193.4967320261    </td><td>151206.9049445865 </td><td>882.0             </td><td>181115.23         </td><td>157482.0            </td><td>171302.3622047244      </td><td>179857.76346604215  </td><td>143948.79679144386    </td><td>270.0             </td><td>143747.87889273354 </td><td>171401.71038251367 </td><td>138313.57142857142</td><td>175531.83179723503 </td><td>140.0             </td><td>181805.66321243523</td><td>0.0               </td><td>0.0              </td><td>140285.62820512822   </td><td>0.0               </td><td>168862.10143288082    </td><td>0.0               </td><td>1.0               </td><td>0.0               </td><td>152080.32258672698    </td><td>175715.7828162291    </td><td>150223.0311764706   </td><td>11622.0          </td><td>178193.4967320261    </td><td>468.0             </td><td>185601.24938271602  </td><td>20.0             </td><td>184861.0283687943   </td><td>1961.0            </td><td>0.0              </td><td>184788.65617433414  </td><td>1961.0           </td><td>184063.06872037915  </td><td>187300.52567237162  </td><td>0.0              </td><td>0.0              </td><td>178193.4967320261    </td><td>206602.9363057325    </td><td>179414.41573033712</td><td>5.0               </td><td>170914.57205240175  </td><td>0.0                </td><td>209302.39072847684   </td><td>0.0              </td><td>180398.05693069307 </td><td>170822.7626262626 </td><td>176671.8111111111 </td><td>2010.0            </td><td>177919.81360946747 </td><td>178405.7096069869 </td><td>134962.35784313726</td><td>80.0              </td></tr>\n",
       "<tr><td>1      </td><td>178218.27472527474  </td><td>108.0             </td><td>1.0               </td><td>188229.02450980392   </td><td>6.0              </td><td>6.0               </td><td>3.0               </td><td>1329.0           </td><td>178193.4967320261 </td><td>148549.72906403942  </td><td>1329.0            </td><td>0.0               </td><td>161376.63366336632    </td><td>1.0                </td><td>0.0               </td><td>6.0               </td><td>0.0               </td><td>194850.58566088302</td><td>201051.3968871595   </td><td>1958.0            </td><td>169309.44117647054    </td><td>149413.2797336845  </td><td>312.0             </td><td>178193.4967320261    </td><td>178193.4967320261 </td><td>1329.0            </td><td>181115.23         </td><td>203114.2504640024   </td><td>171302.3622047244      </td><td>179857.76346604215  </td><td>143948.79679144386    </td><td>406.0             </td><td>143747.87889273354 </td><td>205162.1274859944  </td><td>138313.57142857142</td><td>175531.83179723503 </td><td>393.0             </td><td>181805.66321243523</td><td>0.0               </td><td>0.0              </td><td>211880.81318681315   </td><td>0.0               </td><td>182592.86046511628    </td><td>0.0               </td><td>1.0               </td><td>1.0               </td><td>152080.32258672698    </td><td>175715.7828162291    </td><td>181573.27604166663  </td><td>14267.0          </td><td>178193.4967320261    </td><td>923.0             </td><td>185601.24938271602  </td><td>20.0             </td><td>184861.0283687943   </td><td>1958.0            </td><td>0.0              </td><td>184788.65617433414  </td><td>1958.0           </td><td>184063.06872037915  </td><td>187300.52567237162  </td><td>0.0              </td><td>12500.0          </td><td>178193.4967320261    </td><td>154595.81798806478   </td><td>179414.41573033712</td><td>6.0               </td><td>170914.57205240175  </td><td>0.0                </td><td>163767.73719637108   </td><td>36.0             </td><td>180398.05693069307 </td><td>170822.7626262626 </td><td>176671.8111111111 </td><td>2010.0            </td><td>165751.57330498463 </td><td>178405.7096069869 </td><td>187920.61064425771</td><td>81.0              </td></tr>\n",
       "<tr><td>2      </td><td>178218.27472527474  </td><td>0.0               </td><td>2.0               </td><td>178193.4967320261    </td><td>3.0              </td><td>5.0               </td><td>3.0               </td><td>928.0            </td><td>178193.4967320261 </td><td>222366.88205128204  </td><td>1629.0            </td><td>0.0               </td><td>161376.63366336632    </td><td>1.0                </td><td>0.0               </td><td>5.0               </td><td>1.0               </td><td>194850.58566088302</td><td>201051.3968871595   </td><td>1997.0            </td><td>224699.7863950498     </td><td>158961.70308123247 </td><td>482.0             </td><td>178193.4967320261    </td><td>151206.9049445865 </td><td>928.0             </td><td>181115.23         </td><td>157482.0            </td><td>171302.3622047244      </td><td>179857.76346604215  </td><td>223156.8495098039     </td><td>137.0             </td><td>143747.87889273354 </td><td>171401.71038251367 </td><td>206633.03141361254</td><td>175531.83179723503 </td><td>212.0             </td><td>181805.66321243523</td><td>0.0               </td><td>0.0              </td><td>140285.62820512822   </td><td>0.0               </td><td>182592.86046511628    </td><td>0.0               </td><td>2.0               </td><td>1.0               </td><td>191808.05969498912    </td><td>175715.7828162291    </td><td>181573.27604166663  </td><td>13830.0          </td><td>178193.4967320261    </td><td>791.0             </td><td>185601.24938271602  </td><td>60.0             </td><td>184861.0283687943   </td><td>1998.0            </td><td>701.0            </td><td>184788.65617433414  </td><td>1997.0           </td><td>184063.06872037915  </td><td>187300.52567237162  </td><td>0.0              </td><td>0.0              </td><td>205118.42900418595   </td><td>206602.9363057325    </td><td>179414.41573033712</td><td>6.0               </td><td>203633.455628685    </td><td>0.0                </td><td>209302.39072847684   </td><td>34.0             </td><td>180398.05693069307 </td><td>170822.7626262626 </td><td>176671.8111111111 </td><td>2010.0            </td><td>177919.81360946747 </td><td>178405.7096069869 </td><td>187920.61064425771</td><td>74.0              </td></tr>\n",
       "<tr><td>3      </td><td>178218.27472527474  </td><td>20.0              </td><td>2.0               </td><td>178193.4967320261    </td><td>6.0              </td><td>6.0               </td><td>3.0               </td><td>926.0            </td><td>178193.4967320261 </td><td>222366.88205128204  </td><td>1604.0            </td><td>0.0               </td><td>161376.63366336632    </td><td>1.0                </td><td>0.0               </td><td>6.0               </td><td>1.0               </td><td>194850.58566088302</td><td>201051.3968871595   </td><td>1998.0            </td><td>224699.7863950498     </td><td>211491.75330396474 </td><td>470.0             </td><td>178193.4967320261    </td><td>178193.4967320261 </td><td>926.0             </td><td>181115.23         </td><td>203114.2504640024   </td><td>171302.3622047244      </td><td>179857.76346604215  </td><td>223156.8495098039     </td><td>324.0             </td><td>143747.87889273354 </td><td>171401.71038251367 </td><td>138313.57142857142</td><td>175531.83179723503 </td><td>360.0             </td><td>181805.66321243523</td><td>0.0               </td><td>0.0              </td><td>211880.81318681315   </td><td>0.0               </td><td>182592.86046511628    </td><td>0.0               </td><td>2.0               </td><td>1.0               </td><td>191808.05969498912    </td><td>175715.7828162291    </td><td>181573.27604166663  </td><td>9978.0           </td><td>178193.4967320261    </td><td>602.0             </td><td>185601.24938271602  </td><td>60.0             </td><td>184861.0283687943   </td><td>1998.0            </td><td>678.0            </td><td>184788.65617433414  </td><td>1998.0           </td><td>184063.06872037915  </td><td>187300.52567237162  </td><td>0.0              </td><td>0.0              </td><td>219907.18575980392   </td><td>206602.9363057325    </td><td>179414.41573033712</td><td>7.0               </td><td>203633.455628685    </td><td>0.0                </td><td>209302.39072847684   </td><td>36.0             </td><td>180398.05693069307 </td><td>170822.7626262626 </td><td>176671.8111111111 </td><td>2010.0            </td><td>177919.81360946747 </td><td>178405.7096069869 </td><td>187920.61064425771</td><td>78.0              </td></tr>\n",
       "<tr><td>4      </td><td>178218.27472527474  </td><td>0.0               </td><td>2.0               </td><td>178193.4967320261    </td><td>1.0              </td><td>5.0               </td><td>2.0               </td><td>1280.0           </td><td>178193.4967320261 </td><td>222366.88205128204  </td><td>1280.0            </td><td>144.0             </td><td>161376.63366336632    </td><td>1.0                </td><td>0.0               </td><td>8.0               </td><td>0.0               </td><td>194850.58566088302</td><td>201051.3968871595   </td><td>1992.0            </td><td>169309.44117647054    </td><td>211491.75330396474 </td><td>506.0             </td><td>178193.4967320261    </td><td>178193.4967320261 </td><td>1280.0            </td><td>181115.23         </td><td>157482.0            </td><td>171302.3622047244      </td><td>179857.76346604215  </td><td>201271.56721053383    </td><td>1017.0            </td><td>228065.58659034083 </td><td>171401.71038251367 </td><td>206633.03141361254</td><td>175531.83179723503 </td><td>0.0               </td><td>183943.1995098039 </td><td>0.0               </td><td>0.0              </td><td>211880.81318681315   </td><td>0.0               </td><td>182592.86046511628    </td><td>0.0               </td><td>2.0               </td><td>0.0               </td><td>288359.0245098039     </td><td>252389.9995098039    </td><td>181573.27604166663  </td><td>5005.0           </td><td>178193.4967320261    </td><td>263.0             </td><td>185601.24938271602  </td><td>120.0            </td><td>184861.0283687943   </td><td>1992.0            </td><td>0.0              </td><td>184788.65617433414  </td><td>1992.0           </td><td>184063.06872037915  </td><td>187300.52567237162  </td><td>0.0              </td><td>0.0              </td><td>178193.4967320261    </td><td>167128.41844919784   </td><td>179414.41573033712</td><td>5.0               </td><td>170914.57205240175  </td><td>0.0                </td><td>169568.25527903467   </td><td>82.0             </td><td>180398.05693069307 </td><td>170822.7626262626 </td><td>176671.8111111111 </td><td>2010.0            </td><td>177919.81360946747 </td><td>178405.7096069869 </td><td>187920.61064425771</td><td>43.0              </td></tr>\n",
       "<tr><td>5      </td><td>178218.27472527474  </td><td>0.0               </td><td>2.0               </td><td>178193.4967320261    </td><td>4.0              </td><td>5.0               </td><td>3.0               </td><td>763.0            </td><td>178193.4967320261 </td><td>222366.88205128204  </td><td>1655.0            </td><td>0.0               </td><td>161376.63366336632    </td><td>1.0                </td><td>0.0               </td><td>6.0               </td><td>1.0               </td><td>194850.58566088302</td><td>201051.3968871595   </td><td>1993.0            </td><td>168970.1659826721     </td><td>158961.70308123247 </td><td>440.0             </td><td>178193.4967320261    </td><td>178193.4967320261 </td><td>763.0             </td><td>181115.23         </td><td>157482.0            </td><td>171302.3622047244      </td><td>179857.76346604215  </td><td>223156.8495098039     </td><td>763.0             </td><td>143747.87889273354 </td><td>171401.71038251367 </td><td>206633.03141361254</td><td>175531.83179723503 </td><td>157.0             </td><td>181805.66321243523</td><td>0.0               </td><td>0.0              </td><td>140285.62820512822   </td><td>0.0               </td><td>182592.86046511628    </td><td>0.0               </td><td>2.0               </td><td>1.0               </td><td>191808.05969498912    </td><td>175715.7828162291    </td><td>181573.27604166663  </td><td>10000.0          </td><td>178193.4967320261    </td><td>0.0               </td><td>185601.24938271602  </td><td>60.0             </td><td>184861.0283687943   </td><td>1994.0            </td><td>892.0            </td><td>184788.65617433414  </td><td>1993.0           </td><td>184063.06872037915  </td><td>187300.52567237162  </td><td>0.0              </td><td>0.0              </td><td>205118.42900418595   </td><td>167128.41844919784   </td><td>179414.41573033712</td><td>7.0               </td><td>203633.455628685    </td><td>0.0                </td><td>169568.25527903467   </td><td>84.0             </td><td>180398.05693069307 </td><td>170822.7626262626 </td><td>176671.8111111111 </td><td>2010.0            </td><td>165751.57330498463 </td><td>178405.7096069869 </td><td>187920.61064425771</td><td>75.0              </td></tr>\n",
       "<tr><td>6      </td><td>178218.27472527474  </td><td>0.0               </td><td>2.0               </td><td>163465.69117647054   </td><td>3.0              </td><td>7.0               </td><td>3.0               </td><td>1187.0           </td><td>178193.4967320261 </td><td>222366.88205128204  </td><td>1187.0            </td><td>0.0               </td><td>161376.63366336632    </td><td>1.0                </td><td>0.0               </td><td>6.0               </td><td>0.0               </td><td>194850.58566088302</td><td>201051.3968871595   </td><td>1992.0            </td><td>169309.44117647054    </td><td>211491.75330396474 </td><td>420.0             </td><td>178193.4967320261    </td><td>181956.919246646  </td><td>1168.0            </td><td>181115.23         </td><td>157482.0            </td><td>171302.3622047244      </td><td>179857.76346604215  </td><td>223156.8495098039     </td><td>233.0             </td><td>143747.87889273354 </td><td>171401.71038251367 </td><td>206633.03141361254</td><td>175531.83179723503 </td><td>483.0             </td><td>181805.66321243523</td><td>0.0               </td><td>0.0              </td><td>140285.62820512822   </td><td>1.0               </td><td>182592.86046511628    </td><td>0.0               </td><td>2.0               </td><td>0.0               </td><td>191808.05969498912    </td><td>175715.7828162291    </td><td>181573.27604166663  </td><td>7980.0           </td><td>178193.4967320261    </td><td>935.0             </td><td>185601.24938271602  </td><td>20.0             </td><td>184861.0283687943   </td><td>2007.0            </td><td>0.0              </td><td>184788.65617433414  </td><td>1992.0           </td><td>184063.06872037915  </td><td>187300.52567237162  </td><td>0.0              </td><td>500.0            </td><td>178193.4967320261    </td><td>167128.41844919784   </td><td>179414.41573033712</td><td>6.0               </td><td>170914.57205240175  </td><td>0.0                </td><td>169568.25527903467   </td><td>21.0             </td><td>179370.36597321855 </td><td>170822.7626262626 </td><td>176671.8111111111 </td><td>2010.0            </td><td>177919.81360946747 </td><td>178405.7096069869 </td><td>187920.61064425771</td><td>68.58035714285714 </td></tr>\n",
       "<tr><td>7      </td><td>178218.27472527474  </td><td>0.0               </td><td>2.0               </td><td>178193.4967320261    </td><td>5.0              </td><td>5.0               </td><td>3.0               </td><td>789.0            </td><td>178193.4967320261 </td><td>222366.88205128204  </td><td>1465.0            </td><td>0.0               </td><td>161376.63366336632    </td><td>1.0                </td><td>0.0               </td><td>6.0               </td><td>1.0               </td><td>194850.58566088302</td><td>201051.3968871595   </td><td>1998.0            </td><td>168970.1659826721     </td><td>158961.70308123247 </td><td>393.0             </td><td>178193.4967320261    </td><td>178193.4967320261 </td><td>789.0             </td><td>181115.23         </td><td>157482.0            </td><td>171302.3622047244      </td><td>179857.76346604215  </td><td>223156.8495098039     </td><td>789.0             </td><td>143747.87889273354 </td><td>171401.71038251367 </td><td>206633.03141361254</td><td>175531.83179723503 </td><td>0.0               </td><td>181805.66321243523</td><td>0.0               </td><td>0.0              </td><td>140285.62820512822   </td><td>0.0               </td><td>182592.86046511628    </td><td>0.0               </td><td>2.0               </td><td>1.0               </td><td>191808.05969498912    </td><td>175715.7828162291    </td><td>181573.27604166663  </td><td>8402.0           </td><td>178193.4967320261    </td><td>0.0               </td><td>185601.24938271602  </td><td>60.0             </td><td>184861.0283687943   </td><td>1998.0            </td><td>676.0            </td><td>184788.65617433414  </td><td>1998.0           </td><td>184063.06872037915  </td><td>187300.52567237162  </td><td>0.0              </td><td>0.0              </td><td>219907.18575980392   </td><td>206602.9363057325    </td><td>179414.41573033712</td><td>7.0               </td><td>203633.455628685    </td><td>0.0                </td><td>209302.39072847684   </td><td>75.0             </td><td>180398.05693069307 </td><td>170822.7626262626 </td><td>176671.8111111111 </td><td>2010.0            </td><td>177919.81360946747 </td><td>178405.7096069869 </td><td>187920.61064425771</td><td>63.0              </td></tr>\n",
       "<tr><td>8      </td><td>178218.27472527474  </td><td>0.0               </td><td>1.0               </td><td>178193.4967320261    </td><td>2.0              </td><td>5.0               </td><td>2.0               </td><td>1341.0           </td><td>178193.4967320261 </td><td>222366.88205128204  </td><td>1341.0            </td><td>0.0               </td><td>252970.21398348815    </td><td>1.0                </td><td>0.0               </td><td>7.0               </td><td>1.0               </td><td>163981.4191419142 </td><td>201051.3968871595   </td><td>1990.0            </td><td>224699.7863950498     </td><td>158961.70308123247 </td><td>506.0             </td><td>178193.4967320261    </td><td>178193.4967320261 </td><td>1300.0            </td><td>181115.23         </td><td>157482.0            </td><td>171302.3622047244      </td><td>179857.76346604215  </td><td>143948.79679144386    </td><td>663.0             </td><td>143747.87889273354 </td><td>171401.71038251367 </td><td>206633.03141361254</td><td>175531.83179723503 </td><td>192.0             </td><td>181805.66321243523</td><td>0.0               </td><td>0.0              </td><td>211880.81318681315   </td><td>1.0               </td><td>182592.86046511628    </td><td>0.0               </td><td>2.0               </td><td>1.0               </td><td>191808.05969498912    </td><td>175715.7828162291    </td><td>181573.27604166663  </td><td>10176.0          </td><td>178193.4967320261    </td><td>637.0             </td><td>185601.24938271602  </td><td>20.0             </td><td>184861.0283687943   </td><td>1990.0            </td><td>0.0              </td><td>184788.65617433414  </td><td>1990.0           </td><td>184063.06872037915  </td><td>187300.52567237162  </td><td>0.0              </td><td>0.0              </td><td>133191.52450980392   </td><td>167128.41844919784   </td><td>179414.41573033712</td><td>5.0               </td><td>170914.57205240175  </td><td>0.0                </td><td>169568.25527903467   </td><td>0.0              </td><td>180398.05693069307 </td><td>170822.7626262626 </td><td>176671.8111111111 </td><td>2010.0            </td><td>177919.81360946747 </td><td>178405.7096069869 </td><td>187920.61064425771</td><td>85.0              </td></tr>\n",
       "<tr><td>9      </td><td>178218.27472527474  </td><td>0.0               </td><td>1.0               </td><td>178193.4967320261    </td><td>4.0              </td><td>5.0               </td><td>2.0               </td><td>882.0            </td><td>178193.4967320261 </td><td>148549.72906403942  </td><td>882.0             </td><td>0.0               </td><td>161376.63366336632    </td><td>1.0                </td><td>78.0              </td><td>4.0               </td><td>0.0               </td><td>163981.4191419142 </td><td>201051.3968871595   </td><td>1970.0            </td><td>169309.44117647054    </td><td>149413.2797336845  </td><td>525.0             </td><td>178193.4967320261    </td><td>151206.9049445865 </td><td>882.0             </td><td>181115.23         </td><td>157482.0            </td><td>171302.3622047244      </td><td>179857.76346604215  </td><td>223156.8495098039     </td><td>0.0               </td><td>143747.87889273354 </td><td>171401.71038251367 </td><td>138313.57142857142</td><td>175531.83179723503 </td><td>240.0             </td><td>181805.66321243523</td><td>0.0               </td><td>0.0              </td><td>140285.62820512822   </td><td>1.0               </td><td>167901.0383986928     </td><td>0.0               </td><td>2.0               </td><td>0.0               </td><td>152080.32258672698    </td><td>175715.7828162291    </td><td>181573.27604166663  </td><td>8400.0           </td><td>178193.4967320261    </td><td>804.0             </td><td>185601.24938271602  </td><td>20.0             </td><td>184861.0283687943   </td><td>1970.0            </td><td>0.0              </td><td>184788.65617433414  </td><td>1970.0           </td><td>184063.06872037915  </td><td>187300.52567237162  </td><td>0.0              </td><td>0.0              </td><td>178193.4967320261    </td><td>173812.54638480392   </td><td>179414.41573033712</td><td>4.0               </td><td>170914.57205240175  </td><td>0.0                </td><td>163573.83733031675   </td><td>0.0              </td><td>180398.05693069307 </td><td>170822.7626262626 </td><td>176671.8111111111 </td><td>2010.0            </td><td>165751.57330498463 </td><td>178405.7096069869 </td><td>187920.61064425771</td><td>70.0              </td></tr>\n",
       "</tbody>\n",
       "</table>"
      ]
     },
     "metadata": {},
     "output_type": "display_data"
    }
   ],
   "source": [
    "print('Imputed and encoded numeric training data:')\n",
    "train[encoded_nums].describe() #79 numeric columns w/ no missing\n",
    "print('--------------------------------------------------------------------------------')\n",
    "print('Imputed and encoded numeric validation data:')\n",
    "valid[encoded_nums].describe() #79 numeric columns w/ no missing\n",
    "print('--------------------------------------------------------------------------------')\n",
    "print('Imputed and encoded numeric test data:')\n",
    "test[encoded_nums].describe() #79 numeric columns w/ no missing"
   ]
  },
  {
   "cell_type": "code",
   "execution_count": 12,
   "metadata": {
    "collapsed": false,
    "deletable": true,
    "editable": true
   },
   "outputs": [
    {
     "data": {
      "text/html": [
       "<table>\n",
       "<thead>\n",
       "<tr><th>Neighborhood  </th><th style=\"text-align: right;\">  Neighborhood_Tencode</th></tr>\n",
       "</thead>\n",
       "<tbody>\n",
       "<tr><td>NAmes         </td><td style=\"text-align: right;\">                152080</td></tr>\n",
       "<tr><td>NAmes         </td><td style=\"text-align: right;\">                152080</td></tr>\n",
       "<tr><td>Gilbert       </td><td style=\"text-align: right;\">                191808</td></tr>\n",
       "<tr><td>Gilbert       </td><td style=\"text-align: right;\">                191808</td></tr>\n",
       "<tr><td>StoneBr       </td><td style=\"text-align: right;\">                288359</td></tr>\n",
       "</tbody>\n",
       "</table>"
      ]
     },
     "metadata": {},
     "output_type": "display_data"
    },
    {
     "name": "stdout",
     "output_type": "stream",
     "text": [
      "\n",
      "{'IDOTRR': 112866.71681749621, nan: 178193.49673202613, 'OldTown': 139863.03613771088, 'NridgHt': 284073.1545098039, 'NoRidge': 273948.2552790347, 'Somerst': 227656.9671023965, 'NPkVill': 147641.52450980392, 'ClearCr': 207949.02450980392, 'Gilbert': 191808.0596949891, 'Sawyer': 143162.40700980392, 'Veenker': 243734.02450980392, 'Blmngtn': 210845.6545098039, 'Timber': 260109.74673202613, 'MeadowV': 113131.52450980392, 'StoneBr': 288359.0245098039, 'SWISU': 156269.02450980392, 'NAmes': 152080.32258672698, 'CollgCr': 190019.77971813726, 'Mitchel': 169316.52450980392, 'NWAmes': 184610.14950980392, 'BrkSide': 129965.77450980392, 'Crawfor': 216008.84593837534, 'SawyerW': 189097.7776348039, 'BrDale': 116064.02450980392, 'Edwards': 126241.13989441929}\n"
     ]
    }
   ],
   "source": [
    "# Check Neighborhood_Tencode\n",
    "\n",
    "print(test[0:5, ['Neighborhood', 'Neighborhood_Tencode']])\n",
    "_, _ = target_encoder(valid, test, 'Neighborhood', 'SalePrice', test=True)\n",
    "del _\n",
    "\n",
    "# NAmes   152080\n",
    "# NAmes   152080\n",
    "# Gilbert 191808\n",
    "# Gilbert 191808\n",
    "# StoneBr 288359"
   ]
  },
  {
   "cell_type": "markdown",
   "metadata": {
    "deletable": true,
    "editable": true
   },
   "source": [
    "## Create combination features"
   ]
  },
  {
   "cell_type": "code",
   "execution_count": 13,
   "metadata": {
    "collapsed": false,
    "deletable": true,
    "editable": true
   },
   "outputs": [],
   "source": [
    "def feature_combiner(training_frame, test_frame, nums):\n",
    "    \n",
    "    \"\"\" Combines numeric features using simple arithmatic operations.\n",
    "    \n",
    "    :param training_frame: Training frame from which to generate features and onto which generated \n",
    "                           feeatures will be cbound.\n",
    "    :param test_frame: Test frame from which to generate features and onto which generated \n",
    "                       feeatures will be cbound.\n",
    "    :param nums: List of original numeric features from which to generate combined features.\n",
    "    \n",
    "    \"\"\"\n",
    "\n",
    "    total = len(nums)\n",
    "    \n",
    "    # convert to pandas\n",
    "    train_df = training_frame.as_data_frame()\n",
    "    test_df = test_frame.as_data_frame()\n",
    "    \n",
    "    for i, col_i in enumerate(nums):\n",
    "        \n",
    "        print('Combining: ' + col_i + ' (' + str(i+1) + '/' + str(total) + ') ...')        \n",
    "        \n",
    "        for j, col_j in enumerate(nums):\n",
    "            \n",
    "            # don't repeat (i*j = j*i)\n",
    "            if i < j:\n",
    "                \n",
    "                # convert to pandas\n",
    "                col_i_train_df = train_df[col_i]\n",
    "                col_j_train_df = train_df[col_j]\n",
    "                col_i_test_df = test_df[col_i]\n",
    "                col_j_test_df = test_df[col_j] \n",
    "\n",
    "                # multiply, convert back to h2o\n",
    "                train_df[str(col_i + '|' + col_j)] = col_i_train_df.values*col_j_train_df.values\n",
    "                test_df[str(col_i + '|' + col_j)] = col_i_test_df.values*col_j_test_df.values\n",
    "                \n",
    "    print('Done.')\n",
    "    \n",
    "    # convert back to h2o\n",
    "    \n",
    "    print('Converting to H2OFrame ...')\n",
    "    \n",
    "    training_frame = h2o.H2OFrame(train_df)\n",
    "    training_frame.columns = list(train_df)\n",
    "    test_frame = h2o.H2OFrame(test_df)\n",
    "    test_frame.columns = list(test_df)\n",
    "    \n",
    "    print('Done.')\n",
    "    print()\n",
    "    \n",
    "    # conserve memory \n",
    "    del train_df\n",
    "    del test_df \n",
    "    \n",
    "    return training_frame, test_frame\n"
   ]
  },
  {
   "cell_type": "code",
   "execution_count": 14,
   "metadata": {
    "collapsed": false,
    "deletable": true,
    "editable": true
   },
   "outputs": [
    {
     "name": "stdout",
     "output_type": "stream",
     "text": [
      "Combining: Condition2_Tencode (1/79) ...\n",
      "Combining: MasVnrArea (2/79) ...\n",
      "Combining: FullBath (3/79) ...\n",
      "Combining: MiscFeature_Tencode (4/79) ...\n",
      "Combining: MoSold (5/79) ...\n",
      "Combining: OverallCond (6/79) ...\n",
      "Combining: BedroomAbvGr (7/79) ...\n",
      "Combining: 1stFlrSF (8/79) ...\n",
      "Combining: Alley_Tencode (9/79) ...\n",
      "Combining: Foundation_Tencode (10/79) ...\n",
      "Combining: GrLivArea (11/79) ...\n",
      "Combining: ScreenPorch (12/79) ...\n",
      "Combining: BsmtExposure_Tencode (13/79) ...\n",
      "Combining: KitchenAbvGr (14/79) ...\n",
      "Combining: BsmtFinSF2 (15/79) ...\n",
      "Combining: OverallQual (16/79) ...\n",
      "Combining: Fireplaces (17/79) ...\n",
      "Combining: LotShape_Tencode (18/79) ...\n",
      "Combining: GarageType_Tencode (19/79) ...\n",
      "Combining: GarageYrBlt (20/79) ...\n",
      "Combining: BsmtFinType1_Tencode (21/79) ...\n",
      "Combining: HeatingQC_Tencode (22/79) ...\n",
      "Combining: GarageArea (23/79) ...\n",
      "Combining: Utilities_Tencode (24/79) ...\n",
      "Combining: Fence_Tencode (25/79) ...\n",
      "Combining: TotalBsmtSF (26/79) ...\n",
      "Combining: BsmtCond_Tencode (27/79) ...\n",
      "Combining: MasVnrType_Tencode (28/79) ...\n",
      "Combining: SaleCondition_Tencode (29/79) ...\n",
      "Combining: Functional_Tencode (30/79) ...\n",
      "Combining: GarageFinish_Tencode (31/79) ...\n",
      "Combining: BsmtUnfSF (32/79) ...\n",
      "Combining: ExterQual_Tencode (33/79) ...\n",
      "Combining: RoofStyle_Tencode (34/79) ...\n",
      "Combining: BsmtQual_Tencode (35/79) ...\n",
      "Combining: LandSlope_Tencode (36/79) ...\n",
      "Combining: WoodDeckSF (37/79) ...\n",
      "Combining: BldgType_Tencode (38/79) ...\n",
      "Combining: PoolArea (39/79) ...\n",
      "Combining: EnclosedPorch (40/79) ...\n",
      "Combining: KitchenQual_Tencode (41/79) ...\n",
      "Combining: BsmtFullBath (42/79) ...\n",
      "Combining: BsmtFinType2_Tencode (43/79) ...\n",
      "Combining: LowQualFinSF (44/79) ...\n",
      "Combining: GarageCars (45/79) ...\n",
      "Combining: HalfBath (46/79) ...\n",
      "Combining: Neighborhood_Tencode (47/79) ...\n",
      "Combining: LandContour_Tencode (48/79) ...\n",
      "Combining: Condition1_Tencode (49/79) ...\n",
      "Combining: LotArea (50/79) ...\n",
      "Combining: PoolQC_Tencode (51/79) ...\n",
      "Combining: BsmtFinSF1 (52/79) ...\n",
      "Combining: GarageQual_Tencode (53/79) ...\n",
      "Combining: MSSubClass (54/79) ...\n",
      "Combining: CentralAir_Tencode (55/79) ...\n",
      "Combining: YearRemodAdd (56/79) ...\n",
      "Combining: 2ndFlrSF (57/79) ...\n",
      "Combining: Electrical_Tencode (58/79) ...\n",
      "Combining: YearBuilt (59/79) ...\n",
      "Combining: PavedDrive_Tencode (60/79) ...\n",
      "Combining: GarageCond_Tencode (61/79) ...\n",
      "Combining: 3SsnPorch (62/79) ...\n",
      "Combining: MiscVal (63/79) ...\n",
      "Combining: FireplaceQu_Tencode (64/79) ...\n",
      "Combining: Exterior1st_Tencode (65/79) ...\n",
      "Combining: Heating_Tencode (66/79) ...\n",
      "Combining: TotRmsAbvGrd (67/79) ...\n",
      "Combining: HouseStyle_Tencode (68/79) ...\n",
      "Combining: BsmtHalfBath (69/79) ...\n",
      "Combining: Exterior2nd_Tencode (70/79) ...\n",
      "Combining: OpenPorchSF (71/79) ...\n",
      "Combining: ExterCond_Tencode (72/79) ...\n",
      "Combining: SaleType_Tencode (73/79) ...\n",
      "Combining: RoofMatl_Tencode (74/79) ...\n",
      "Combining: YrSold (75/79) ...\n",
      "Combining: LotConfig_Tencode (76/79) ...\n",
      "Combining: Street_Tencode (77/79) ...\n",
      "Combining: MSZoning_Tencode (78/79) ...\n",
      "Combining: LotFrontage (79/79) ...\n",
      "Done.\n",
      "Converting to H2OFrame ...\n",
      "Done.\n",
      "\n",
      "Combining: Condition2_Tencode (1/79) ...\n",
      "Combining: MasVnrArea (2/79) ...\n",
      "Combining: FullBath (3/79) ...\n",
      "Combining: MiscFeature_Tencode (4/79) ...\n",
      "Combining: MoSold (5/79) ...\n",
      "Combining: OverallCond (6/79) ...\n",
      "Combining: BedroomAbvGr (7/79) ...\n",
      "Combining: 1stFlrSF (8/79) ...\n",
      "Combining: Alley_Tencode (9/79) ...\n",
      "Combining: Foundation_Tencode (10/79) ...\n",
      "Combining: GrLivArea (11/79) ...\n",
      "Combining: ScreenPorch (12/79) ...\n",
      "Combining: BsmtExposure_Tencode (13/79) ...\n",
      "Combining: KitchenAbvGr (14/79) ...\n",
      "Combining: BsmtFinSF2 (15/79) ...\n",
      "Combining: OverallQual (16/79) ...\n",
      "Combining: Fireplaces (17/79) ...\n",
      "Combining: LotShape_Tencode (18/79) ...\n",
      "Combining: GarageType_Tencode (19/79) ...\n",
      "Combining: GarageYrBlt (20/79) ...\n",
      "Combining: BsmtFinType1_Tencode (21/79) ...\n",
      "Combining: HeatingQC_Tencode (22/79) ...\n",
      "Combining: GarageArea (23/79) ...\n",
      "Combining: Utilities_Tencode (24/79) ...\n",
      "Combining: Fence_Tencode (25/79) ...\n",
      "Combining: TotalBsmtSF (26/79) ...\n",
      "Combining: BsmtCond_Tencode (27/79) ...\n",
      "Combining: MasVnrType_Tencode (28/79) ...\n",
      "Combining: SaleCondition_Tencode (29/79) ...\n",
      "Combining: Functional_Tencode (30/79) ...\n",
      "Combining: GarageFinish_Tencode (31/79) ...\n",
      "Combining: BsmtUnfSF (32/79) ...\n",
      "Combining: ExterQual_Tencode (33/79) ...\n",
      "Combining: RoofStyle_Tencode (34/79) ...\n",
      "Combining: BsmtQual_Tencode (35/79) ...\n",
      "Combining: LandSlope_Tencode (36/79) ...\n",
      "Combining: WoodDeckSF (37/79) ...\n",
      "Combining: BldgType_Tencode (38/79) ...\n",
      "Combining: PoolArea (39/79) ...\n",
      "Combining: EnclosedPorch (40/79) ...\n",
      "Combining: KitchenQual_Tencode (41/79) ...\n",
      "Combining: BsmtFullBath (42/79) ...\n",
      "Combining: BsmtFinType2_Tencode (43/79) ...\n",
      "Combining: LowQualFinSF (44/79) ...\n",
      "Combining: GarageCars (45/79) ...\n",
      "Combining: HalfBath (46/79) ...\n",
      "Combining: Neighborhood_Tencode (47/79) ...\n",
      "Combining: LandContour_Tencode (48/79) ...\n",
      "Combining: Condition1_Tencode (49/79) ...\n",
      "Combining: LotArea (50/79) ...\n",
      "Combining: PoolQC_Tencode (51/79) ...\n",
      "Combining: BsmtFinSF1 (52/79) ...\n",
      "Combining: GarageQual_Tencode (53/79) ...\n",
      "Combining: MSSubClass (54/79) ...\n",
      "Combining: CentralAir_Tencode (55/79) ...\n",
      "Combining: YearRemodAdd (56/79) ...\n",
      "Combining: 2ndFlrSF (57/79) ...\n",
      "Combining: Electrical_Tencode (58/79) ...\n",
      "Combining: YearBuilt (59/79) ...\n",
      "Combining: PavedDrive_Tencode (60/79) ...\n",
      "Combining: GarageCond_Tencode (61/79) ...\n",
      "Combining: 3SsnPorch (62/79) ...\n",
      "Combining: MiscVal (63/79) ...\n",
      "Combining: FireplaceQu_Tencode (64/79) ...\n",
      "Combining: Exterior1st_Tencode (65/79) ...\n",
      "Combining: Heating_Tencode (66/79) ...\n",
      "Combining: TotRmsAbvGrd (67/79) ...\n",
      "Combining: HouseStyle_Tencode (68/79) ...\n",
      "Combining: BsmtHalfBath (69/79) ...\n",
      "Combining: Exterior2nd_Tencode (70/79) ...\n",
      "Combining: OpenPorchSF (71/79) ...\n",
      "Combining: ExterCond_Tencode (72/79) ...\n",
      "Combining: SaleType_Tencode (73/79) ...\n",
      "Combining: RoofMatl_Tencode (74/79) ...\n",
      "Combining: YrSold (75/79) ...\n",
      "Combining: LotConfig_Tencode (76/79) ...\n",
      "Combining: Street_Tencode (77/79) ...\n",
      "Combining: MSZoning_Tencode (78/79) ...\n",
      "Combining: LotFrontage (79/79) ...\n",
      "Done.\n",
      "Converting to H2OFrame ...\n",
      "Done.\n",
      "\n"
     ]
    }
   ],
   "source": [
    "train, _ = feature_combiner(train, test, encoded_nums)\n",
    "valid, test = feature_combiner(valid, test, encoded_nums)"
   ]
  },
  {
   "cell_type": "markdown",
   "metadata": {
    "deletable": true,
    "editable": true
   },
   "source": [
    "#### Redefine numerics and explore"
   ]
  },
  {
   "cell_type": "code",
   "execution_count": 15,
   "metadata": {
    "collapsed": false,
    "deletable": true,
    "editable": true
   },
   "outputs": [
    {
     "name": "stdout",
     "output_type": "stream",
     "text": [
      "Numeric = ['GarageType_Tencode|PavedDrive_Tencode', 'TotalBsmtSF|2ndFlrSF', 'BsmtFinType1_Tencode|FireplaceQu_Tencode', 'GarageType_Tencode|MSZoning_Tencode', 'Fireplaces|3SsnPorch', 'Neighborhood_Tencode|ExterCond_Tencode', 'GrLivArea|MSSubClass', 'ScreenPorch|Fireplaces', 'EnclosedPorch|LowQualFinSF', 'GarageFinish_Tencode|ExterCond_Tencode', 'Functional_Tencode|BsmtFinType2_Tencode', 'Fireplaces|GarageFinish_Tencode', 'KitchenAbvGr|KitchenQual_Tencode', 'BsmtUnfSF|GarageCond_Tencode', 'GarageArea|BsmtCond_Tencode', 'PavedDrive_Tencode|FireplaceQu_Tencode', 'BedroomAbvGr|Heating_Tencode', 'BsmtFinType1_Tencode|3SsnPorch', 'GrLivArea|MSZoning_Tencode', 'PoolArea|MiscVal', 'Fence_Tencode|BsmtFinSF1', 'PavedDrive_Tencode|RoofMatl_Tencode', 'OverallQual|Condition1_Tencode', 'WoodDeckSF|BldgType_Tencode', 'HeatingQC_Tencode', 'GrLivArea|Exterior1st_Tencode', 'Alley_Tencode|ScreenPorch', 'Condition2_Tencode|KitchenQual_Tencode', 'SaleCondition_Tencode', 'GarageType_Tencode|Street_Tencode', 'OverallCond|Exterior1st_Tencode', 'OverallCond|YearBuilt', 'Condition2_Tencode|HeatingQC_Tencode', 'BsmtFinSF1|LotFrontage', 'ExterQual_Tencode|GarageCars', 'OverallQual|SaleCondition_Tencode', 'GarageCond_Tencode|Exterior1st_Tencode', 'Condition1_Tencode|ExterCond_Tencode', 'GarageYrBlt|Fence_Tencode', 'ScreenPorch|MasVnrType_Tencode', '3SsnPorch|LotConfig_Tencode', 'OverallQual|Exterior2nd_Tencode', 'PoolArea|LowQualFinSF', 'MasVnrArea|Neighborhood_Tencode', 'TotalBsmtSF|OpenPorchSF', 'EnclosedPorch|ExterCond_Tencode', 'KitchenAbvGr|CentralAir_Tencode', 'ScreenPorch|3SsnPorch', 'GarageType_Tencode|HouseStyle_Tencode', 'FullBath|GarageQual_Tencode', 'BsmtFinType2_Tencode|LotArea', 'MasVnrType_Tencode|RoofStyle_Tencode', 'Condition2_Tencode|Foundation_Tencode', 'MiscFeature_Tencode|Functional_Tencode', 'ExterQual_Tencode|PavedDrive_Tencode', 'Alley_Tencode|FireplaceQu_Tencode', '1stFlrSF|GarageType_Tencode', 'Condition1_Tencode|TotRmsAbvGrd', 'OpenPorchSF|LotConfig_Tencode', 'Fireplaces|BsmtFinType1_Tencode', 'GarageQual_Tencode|2ndFlrSF', 'Condition2_Tencode|Heating_Tencode', 'Heating_Tencode|SaleType_Tencode', 'LotShape_Tencode|YrSold', 'GarageType_Tencode|ExterCond_Tencode', 'BsmtFinType2_Tencode|3SsnPorch', 'GarageYrBlt|LandContour_Tencode', 'GarageType_Tencode|BldgType_Tencode', 'BsmtQual_Tencode|Exterior1st_Tencode', 'WoodDeckSF|OpenPorchSF', 'MiscFeature_Tencode|WoodDeckSF', 'HeatingQC_Tencode|HalfBath', 'WoodDeckSF|MSSubClass', 'BsmtUnfSF|YearBuilt', 'LandSlope_Tencode|MiscVal', 'LowQualFinSF|LandContour_Tencode', 'ScreenPorch|BsmtCond_Tencode', 'MiscVal|RoofMatl_Tencode', 'Alley_Tencode|YrSold', 'FullBath|EnclosedPorch', 'YearRemodAdd|Exterior1st_Tencode', 'Foundation_Tencode|GarageCond_Tencode', '1stFlrSF|Foundation_Tencode', 'BsmtHalfBath|LotFrontage', 'OverallQual|PavedDrive_Tencode', 'BsmtFinSF2|MSZoning_Tencode', 'Alley_Tencode|LotConfig_Tencode', 'BsmtUnfSF|SaleType_Tencode', 'BsmtFinType2_Tencode|Exterior1st_Tencode', 'HeatingQC_Tencode|KitchenQual_Tencode', 'Condition2_Tencode|BsmtFinType1_Tencode', 'GarageType_Tencode|LowQualFinSF', 'GarageType_Tencode|TotalBsmtSF', 'MiscFeature_Tencode|LandContour_Tencode', 'LotShape_Tencode|MasVnrType_Tencode', 'BsmtCond_Tencode|YearBuilt', 'MoSold|Electrical_Tencode', '1stFlrSF|PoolQC_Tencode', 'Condition2_Tencode|RoofMatl_Tencode', 'EnclosedPorch|GarageCond_Tencode', 'Condition2_Tencode|LandSlope_Tencode', 'GarageQual_Tencode|OpenPorchSF', 'TotalBsmtSF|MiscVal', 'RoofStyle_Tencode|ExterCond_Tencode', 'Condition2_Tencode|TotalBsmtSF', 'Condition2_Tencode|CentralAir_Tencode', 'GarageType_Tencode|FireplaceQu_Tencode', 'MoSold|TotRmsAbvGrd', 'WoodDeckSF|Neighborhood_Tencode', 'GarageType_Tencode|GarageArea', 'Foundation_Tencode|Utilities_Tencode', 'SaleCondition_Tencode|BsmtQual_Tencode', 'Functional_Tencode|Heating_Tencode', 'RoofStyle_Tencode|WoodDeckSF', 'Fireplaces|LotArea', 'ScreenPorch|GarageCond_Tencode', 'Condition2_Tencode|1stFlrSF', 'KitchenAbvGr|BsmtUnfSF', 'Foundation_Tencode|BsmtFinType1_Tencode', 'GarageQual_Tencode|GarageCond_Tencode', 'Fence_Tencode|SaleType_Tencode', 'BsmtExposure_Tencode|Fireplaces', 'BsmtFullBath|GarageCars', 'Condition1_Tencode|HouseStyle_Tencode', 'Fence_Tencode|Electrical_Tencode', 'OverallQual|GarageCond_Tencode', 'MSSubClass|YearRemodAdd', 'EnclosedPorch|3SsnPorch', 'OverallCond|RoofStyle_Tencode', 'OverallCond|GarageCars', 'BsmtExposure_Tencode|WoodDeckSF', 'OverallCond|GrLivArea', 'MasVnrType_Tencode|MiscVal', 'WoodDeckSF|HouseStyle_Tencode', 'KitchenQual_Tencode|PoolQC_Tencode', 'Utilities_Tencode', 'Condition2_Tencode|Condition1_Tencode', 'ExterQual_Tencode|Electrical_Tencode', 'MoSold|GarageCond_Tencode', 'Foundation_Tencode|BsmtFinSF1', 'Condition1_Tencode|Street_Tencode', 'MiscFeature_Tencode|BsmtFinType2_Tencode', 'GarageQual_Tencode|CentralAir_Tencode', 'BsmtFinSF2|BsmtFullBath', 'ScreenPorch|CentralAir_Tencode', 'BsmtFinType1_Tencode|BldgType_Tencode', 'GarageType_Tencode|BsmtFullBath', 'BsmtFinSF2|SaleCondition_Tencode', 'Fence_Tencode|3SsnPorch', 'OverallQual|TotRmsAbvGrd', 'Foundation_Tencode|BsmtExposure_Tencode', 'HeatingQC_Tencode|Electrical_Tencode', 'MoSold|KitchenQual_Tencode', 'Neighborhood_Tencode|LotFrontage', 'Condition1_Tencode|YearRemodAdd', 'Fireplaces|EnclosedPorch', 'ExterQual_Tencode|MSSubClass', 'BsmtFinType2_Tencode|MSZoning_Tencode', 'Fireplaces|GarageCond_Tencode', 'Alley_Tencode|LandSlope_Tencode', 'ExterQual_Tencode|MiscVal', 'MiscVal|OpenPorchSF', 'LandSlope_Tencode|3SsnPorch', 'MoSold|BsmtUnfSF', 'HalfBath|Electrical_Tencode', 'HalfBath|LotFrontage', 'MasVnrArea|BsmtFullBath', 'BldgType_Tencode|RoofMatl_Tencode', 'LotConfig_Tencode', 'MiscVal|LotFrontage', 'OverallCond|YearRemodAdd', 'WoodDeckSF|LotConfig_Tencode', 'GarageArea|Street_Tencode', 'OverallQual|GarageQual_Tencode', 'Utilities_Tencode|HalfBath', 'GarageCars|Street_Tencode', 'Foundation_Tencode|Street_Tencode', 'GarageType_Tencode|PoolArea', 'BsmtFinSF2|SaleType_Tencode', 'Foundation_Tencode|RoofMatl_Tencode', 'BsmtQual_Tencode|CentralAir_Tencode', 'Fireplaces|BsmtFinType2_Tencode', 'GrLivArea|Exterior2nd_Tencode', 'FullBath|YrSold', 'GarageYrBlt|Functional_Tencode', 'GrLivArea|SaleCondition_Tencode', 'FullBath|Utilities_Tencode', 'Utilities_Tencode|PoolArea', 'GarageArea|Functional_Tencode', 'Fence_Tencode|Condition1_Tencode', 'ExterQual_Tencode|LotArea', 'MoSold|RoofStyle_Tencode', 'LowQualFinSF|Neighborhood_Tencode', 'ScreenPorch|LandSlope_Tencode', 'PavedDrive_Tencode|GarageCond_Tencode', 'BsmtFullBath|PavedDrive_Tencode', 'Fireplaces|BsmtFullBath', 'MasVnrArea|MSZoning_Tencode', 'BsmtFinSF2|Street_Tencode', 'Alley_Tencode|GarageQual_Tencode', 'GrLivArea|Neighborhood_Tencode', 'Alley_Tencode|YearBuilt', 'OverallQual|BsmtQual_Tencode', 'Electrical_Tencode|PavedDrive_Tencode', 'BedroomAbvGr|BsmtFinType2_Tencode', 'MiscFeature_Tencode|YearRemodAdd', 'RoofStyle_Tencode|Exterior2nd_Tencode', 'BsmtCond_Tencode|LotArea', 'HalfBath|Heating_Tencode', 'TotalBsmtSF|LowQualFinSF', 'BsmtFinType1_Tencode|LowQualFinSF', 'GarageFinish_Tencode|CentralAir_Tencode', 'BldgType_Tencode|LowQualFinSF', 'OverallCond|OverallQual', 'BsmtFinType2_Tencode|YrSold', 'SaleCondition_Tencode|FireplaceQu_Tencode', 'Neighborhood_Tencode|Electrical_Tencode', 'LandContour_Tencode|MSZoning_Tencode', 'LotShape_Tencode|FireplaceQu_Tencode', 'FullBath|Exterior1st_Tencode', 'Electrical_Tencode|FireplaceQu_Tencode', 'BldgType_Tencode|KitchenQual_Tencode', 'ScreenPorch|TotRmsAbvGrd', 'Neighborhood_Tencode|LandContour_Tencode', 'BsmtExposure_Tencode|BsmtFinType2_Tencode', 'MiscFeature_Tencode|LowQualFinSF', 'GarageCars|Neighborhood_Tencode', 'BedroomAbvGr|GarageCond_Tencode', 'Condition1_Tencode|MSZoning_Tencode', 'Utilities_Tencode|Exterior2nd_Tencode', 'MoSold|Fence_Tencode', 'Fireplaces|RoofStyle_Tencode', 'MiscFeature_Tencode|BsmtUnfSF', 'YearRemodAdd|Street_Tencode', 'MoSold|BsmtFinType2_Tencode', 'MoSold|MSZoning_Tencode', 'GarageYrBlt|Heating_Tencode', 'BsmtFinSF1|MiscVal', 'GarageArea|LotArea', 'Heating_Tencode|LotFrontage', 'BsmtCond_Tencode|BsmtFinType2_Tencode', 'Foundation_Tencode|Condition1_Tencode', 'LotShape_Tencode|MSSubClass', 'Foundation_Tencode|GarageType_Tencode', 'PavedDrive_Tencode|MiscVal', 'PoolArea|GarageCars', 'Condition1_Tencode|BsmtFinSF1', 'TotRmsAbvGrd|YrSold', 'CentralAir_Tencode|Street_Tencode', 'BsmtFullBath|BsmtFinSF1', 'BldgType_Tencode', 'Utilities_Tencode|Electrical_Tencode', 'Condition2_Tencode|MSZoning_Tencode', 'Fence_Tencode|GarageQual_Tencode', 'LotShape_Tencode|LandSlope_Tencode', 'BsmtFinType1_Tencode|GarageQual_Tencode', 'BsmtFinType1_Tencode|TotalBsmtSF', 'Alley_Tencode|Neighborhood_Tencode', 'KitchenAbvGr|Exterior2nd_Tencode', 'HouseStyle_Tencode', 'LotShape_Tencode|HeatingQC_Tencode', 'GarageArea|BsmtFinSF1', 'CentralAir_Tencode|HouseStyle_Tencode', 'YearBuilt|ExterCond_Tencode', 'YearRemodAdd|LotConfig_Tencode', '1stFlrSF|WoodDeckSF', 'BldgType_Tencode|GarageCond_Tencode', 'TotalBsmtSF|Electrical_Tencode', 'ScreenPorch|ExterCond_Tencode', 'GarageFinish_Tencode|Neighborhood_Tencode', 'ExterQual_Tencode|EnclosedPorch', 'MoSold|BsmtFinSF1', 'MoSold|1stFlrSF', 'GarageCars|SaleType_Tencode', 'Alley_Tencode|3SsnPorch', 'BsmtUnfSF|WoodDeckSF', 'Condition2_Tencode|BsmtCond_Tencode', 'TotRmsAbvGrd|SaleType_Tencode', 'BedroomAbvGr|LotShape_Tencode', 'MoSold|BsmtQual_Tencode', 'YearRemodAdd|OpenPorchSF', 'ExterQual_Tencode|PoolArea', 'HeatingQC_Tencode|GarageCars', 'BsmtFinSF2|KitchenQual_Tencode', 'BsmtFinSF2|LandContour_Tencode', 'PoolArea|ExterCond_Tencode', 'LotConfig_Tencode|MSZoning_Tencode', 'PavedDrive_Tencode|TotRmsAbvGrd', 'EnclosedPorch|Neighborhood_Tencode', 'KitchenQual_Tencode|ExterCond_Tencode', 'BsmtFinType2_Tencode|PoolQC_Tencode', '1stFlrSF|LotConfig_Tencode', 'BsmtQual_Tencode|GarageCond_Tencode', 'BsmtFinSF2|MiscVal', 'MasVnrType_Tencode|SaleType_Tencode', 'LotShape_Tencode|TotRmsAbvGrd', 'OverallCond|FireplaceQu_Tencode', 'Alley_Tencode|LotArea', 'Condition2_Tencode|EnclosedPorch', 'GarageYrBlt|SaleCondition_Tencode', 'BsmtFinSF2|CentralAir_Tencode', 'PoolArea|2ndFlrSF', 'BsmtFinType1_Tencode|BsmtCond_Tencode', 'HalfBath|3SsnPorch', 'MasVnrType_Tencode|PoolQC_Tencode', 'TotalBsmtSF|LotArea', 'GrLivArea|ScreenPorch', 'Neighborhood_Tencode|PoolQC_Tencode', 'LandSlope_Tencode|BsmtHalfBath', 'YearRemodAdd|TotRmsAbvGrd', 'BsmtCond_Tencode|Neighborhood_Tencode', 'Utilities_Tencode|GarageQual_Tencode', 'GrLivArea|WoodDeckSF', 'GrLivArea|Fence_Tencode', 'EnclosedPorch|BsmtFinSF1', 'BldgType_Tencode|HalfBath', 'RoofStyle_Tencode|EnclosedPorch', 'Neighborhood_Tencode|OpenPorchSF', 'Condition2_Tencode|BldgType_Tencode', 'RoofMatl_Tencode|Street_Tencode', 'BedroomAbvGr|FireplaceQu_Tencode', 'TotalBsmtSF|Functional_Tencode', 'CentralAir_Tencode|Heating_Tencode', 'GarageCond_Tencode|Exterior2nd_Tencode', 'BsmtExposure_Tencode', 'GarageYrBlt|KitchenQual_Tencode', 'HeatingQC_Tencode|Fence_Tencode', 'MasVnrArea|PoolQC_Tencode', 'SaleCondition_Tencode|BsmtFinSF1', 'SaleCondition_Tencode|BsmtFullBath', 'BedroomAbvGr|LandSlope_Tencode', 'BsmtFinType2_Tencode|Neighborhood_Tencode', 'Heating_Tencode', 'CentralAir_Tencode|LotFrontage', '2ndFlrSF|YearBuilt', 'LotShape_Tencode|BsmtQual_Tencode', 'MasVnrArea|OpenPorchSF', 'BsmtExposure_Tencode|OverallQual', 'RoofStyle_Tencode|2ndFlrSF', 'GarageCond_Tencode|HouseStyle_Tencode', 'WoodDeckSF|SaleType_Tencode', 'LowQualFinSF|Condition1_Tencode', 'GrLivArea|RoofMatl_Tencode', 'Fireplaces|MasVnrType_Tencode', 'GarageYrBlt|HouseStyle_Tencode', 'FullBath|BsmtCond_Tencode', 'BsmtFinSF2|BsmtHalfBath', 'GarageArea|RoofStyle_Tencode', 'BsmtQual_Tencode|LandContour_Tencode', 'MasVnrArea|GrLivArea', 'MoSold|Exterior1st_Tencode', 'Condition2_Tencode|Fireplaces', 'TotRmsAbvGrd|RoofMatl_Tencode', 'BsmtFullBath|FireplaceQu_Tencode', 'FullBath|ExterCond_Tencode', 'Exterior2nd_Tencode|MSZoning_Tencode', 'LandSlope_Tencode|PoolArea', 'FullBath|Foundation_Tencode', 'KitchenQual_Tencode|BsmtHalfBath', 'Fireplaces|LandSlope_Tencode', 'PavedDrive_Tencode|Exterior1st_Tencode', 'GarageYrBlt|YearBuilt', 'ExterQual_Tencode|OpenPorchSF', 'KitchenAbvGr|LotArea', 'MasVnrArea|GarageCond_Tencode', 'MasVnrArea|TotRmsAbvGrd', 'OpenPorchSF|YrSold', 'MasVnrArea|BsmtUnfSF', 'MoSold|LotShape_Tencode', 'SaleType_Tencode|YrSold', 'OverallQual|KitchenQual_Tencode', 'Condition2_Tencode|PavedDrive_Tencode', 'MasVnrArea', 'Utilities_Tencode|KitchenQual_Tencode', 'SaleCondition_Tencode|LotFrontage', 'RoofMatl_Tencode|YrSold', '1stFlrSF|ExterCond_Tencode', 'Exterior1st_Tencode|LotConfig_Tencode', 'BsmtFinType2_Tencode|LandContour_Tencode', 'Functional_Tencode|HalfBath', 'MiscFeature_Tencode|1stFlrSF', 'GarageArea|OpenPorchSF', 'KitchenAbvGr|OpenPorchSF', 'KitchenAbvGr|Fence_Tencode', 'Alley_Tencode|LotFrontage', 'GarageType_Tencode|SaleType_Tencode', 'Fireplaces|BsmtHalfBath', 'WoodDeckSF|BsmtFullBath', 'MoSold|HalfBath', 'BsmtFinType1_Tencode|BsmtFinType2_Tencode', 'GarageArea|GarageFinish_Tencode', 'SaleCondition_Tencode|HouseStyle_Tencode', 'OverallCond|1stFlrSF', 'TotalBsmtSF|RoofMatl_Tencode', 'KitchenAbvGr|BsmtCond_Tencode', 'Foundation_Tencode|LowQualFinSF', 'GrLivArea|YearRemodAdd', 'BsmtFinSF2|Utilities_Tencode', 'GrLivArea|PavedDrive_Tencode', 'BedroomAbvGr|HeatingQC_Tencode', 'Functional_Tencode|Electrical_Tencode', 'LotArea|PavedDrive_Tencode', 'Alley_Tencode|GarageArea', 'OverallCond|YrSold', 'BsmtFinSF2|Electrical_Tencode', 'HeatingQC_Tencode|GarageFinish_Tencode', 'GarageYrBlt|ExterCond_Tencode', 'BldgType_Tencode|BsmtFullBath', 'Alley_Tencode|Utilities_Tencode', 'BsmtCond_Tencode|PavedDrive_Tencode', 'GrLivArea|GarageArea', 'LotArea|RoofMatl_Tencode', 'BedroomAbvGr|GarageQual_Tencode', 'BsmtExposure_Tencode|ExterCond_Tencode', 'LandSlope_Tencode', 'SaleCondition_Tencode|LotConfig_Tencode', 'GarageType_Tencode|Utilities_Tencode', 'BsmtFinSF2|YearRemodAdd', 'ScreenPorch|BsmtFullBath', 'Condition2_Tencode|GrLivArea', 'Alley_Tencode|Fence_Tencode', 'LotArea|CentralAir_Tencode', 'Electrical_Tencode|LotConfig_Tencode', 'Condition2_Tencode|SaleType_Tencode', 'GarageFinish_Tencode|YrSold', 'GarageCars|YearBuilt', 'BsmtFullBath|MSZoning_Tencode', 'Condition2_Tencode|Exterior1st_Tencode', 'LandContour_Tencode|TotRmsAbvGrd', 'ScreenPorch|BsmtFinType1_Tencode', 'Utilities_Tencode|CentralAir_Tencode', 'HalfBath|MiscVal', 'MiscFeature_Tencode|BsmtHalfBath', 'MasVnrArea|YearRemodAdd', 'MasVnrArea|RoofMatl_Tencode', '3SsnPorch|TotRmsAbvGrd', 'HalfBath|RoofMatl_Tencode', 'Fireplaces|MSSubClass', 'GarageType_Tencode|RoofMatl_Tencode', 'Alley_Tencode|BsmtQual_Tencode', 'BedroomAbvGr|OverallQual', '1stFlrSF|BsmtUnfSF', 'LotShape_Tencode|WoodDeckSF', 'MiscFeature_Tencode|Street_Tencode', 'GrLivArea|BsmtExposure_Tencode', 'Fence_Tencode|SaleCondition_Tencode', 'FullBath|RoofStyle_Tencode', 'Fireplaces|BldgType_Tencode', 'Foundation_Tencode|LandSlope_Tencode', 'PoolArea|Heating_Tencode', 'BldgType_Tencode|2ndFlrSF', '3SsnPorch|Street_Tencode', 'Electrical_Tencode|Street_Tencode', 'FireplaceQu_Tencode', 'Condition2_Tencode|RoofStyle_Tencode', '1stFlrSF|RoofMatl_Tencode', 'Foundation_Tencode|BsmtQual_Tencode', 'Condition2_Tencode|PoolQC_Tencode', 'Alley_Tencode|GarageCond_Tencode', 'MasVnrType_Tencode|2ndFlrSF', 'PavedDrive_Tencode|Exterior2nd_Tencode', 'BsmtFinSF2|Neighborhood_Tencode', 'MiscFeature_Tencode|GarageCond_Tencode', 'WoodDeckSF|ExterCond_Tencode', 'MasVnrArea|YearBuilt', 'WoodDeckSF|Heating_Tencode', 'GarageArea|LandContour_Tencode', 'GrLivArea|2ndFlrSF', 'MiscFeature_Tencode|Exterior1st_Tencode', 'FullBath|OverallCond', 'BsmtFinSF1|YearRemodAdd', 'MasVnrArea|Fireplaces', 'HalfBath|GarageQual_Tencode', 'GarageArea|BldgType_Tencode', 'HeatingQC_Tencode|YearBuilt', 'Alley_Tencode|HalfBath', 'Neighborhood_Tencode|SaleType_Tencode', 'BedroomAbvGr|Electrical_Tencode', 'BedroomAbvGr|RoofMatl_Tencode', 'MiscVal|Exterior1st_Tencode', '1stFlrSF|LotShape_Tencode', 'KitchenAbvGr|Functional_Tencode', 'Utilities_Tencode|GarageCond_Tencode', 'Utilities_Tencode|EnclosedPorch', 'Fence_Tencode|BsmtUnfSF', 'KitchenQual_Tencode|2ndFlrSF', 'BsmtFinType2_Tencode|OpenPorchSF', 'Foundation_Tencode|RoofStyle_Tencode', 'WoodDeckSF|Electrical_Tencode', 'GarageYrBlt|LotConfig_Tencode', 'TotalBsmtSF|MasVnrType_Tencode', 'Functional_Tencode|Exterior1st_Tencode', 'MiscFeature_Tencode|SaleCondition_Tencode', 'LandContour_Tencode|YearRemodAdd', 'GarageFinish_Tencode|BsmtUnfSF', 'OverallCond|MasVnrType_Tencode', 'BsmtFullBath|CentralAir_Tencode', 'GarageFinish_Tencode|GarageCond_Tencode', 'KitchenQual_Tencode|Exterior2nd_Tencode', 'BsmtFinType1_Tencode|TotRmsAbvGrd', 'MiscFeature_Tencode', 'KitchenAbvGr|LandSlope_Tencode', 'BsmtFinType2_Tencode|ExterCond_Tencode', 'MasVnrArea|TotalBsmtSF', 'MSSubClass|Heating_Tencode', 'Fireplaces|LotShape_Tencode', 'LowQualFinSF|FireplaceQu_Tencode', 'BedroomAbvGr|TotalBsmtSF', 'Condition2_Tencode|Utilities_Tencode', 'FullBath|SaleCondition_Tencode', 'TotRmsAbvGrd|HouseStyle_Tencode', 'BsmtExposure_Tencode|MasVnrType_Tencode', 'MasVnrArea|PavedDrive_Tencode', 'HeatingQC_Tencode|MSSubClass', 'MiscFeature_Tencode|LotArea', 'BsmtFullBath|BsmtFinType2_Tencode', 'OverallQual', 'GrLivArea|BsmtQual_Tencode', 'GarageArea|TotRmsAbvGrd', 'BsmtCond_Tencode|BsmtQual_Tencode', 'MasVnrType_Tencode|PavedDrive_Tencode', 'HouseStyle_Tencode|Street_Tencode', 'LotShape_Tencode|BsmtCond_Tencode', 'GarageQual_Tencode|Electrical_Tencode', 'OverallCond|BsmtFinSF1', 'LotShape_Tencode|HalfBath', 'BsmtFullBath|PoolQC_Tencode', 'LowQualFinSF', 'HeatingQC_Tencode|PoolQC_Tencode', 'HeatingQC_Tencode|LotArea', 'MSSubClass|GarageCond_Tencode', 'EnclosedPorch|LotFrontage', 'KitchenQual_Tencode|HalfBath', 'CentralAir_Tencode|PavedDrive_Tencode', 'EnclosedPorch|BsmtHalfBath', 'BsmtFinType2_Tencode|PavedDrive_Tencode', 'BsmtUnfSF|TotRmsAbvGrd', 'ScreenPorch|HouseStyle_Tencode', 'EnclosedPorch|Exterior2nd_Tencode', 'KitchenAbvGr|Condition1_Tencode', 'YearRemodAdd|MiscVal', 'Alley_Tencode|BsmtFinType2_Tencode', 'FullBath|GrLivArea', 'PoolQC_Tencode|PavedDrive_Tencode', 'BsmtFinSF2|RoofStyle_Tencode', 'Fence_Tencode|HouseStyle_Tencode', 'GarageType_Tencode|GarageQual_Tencode', 'GarageCond_Tencode|MiscVal', 'GarageType_Tencode|LotConfig_Tencode', 'HeatingQC_Tencode|BsmtFinSF1', 'BsmtHalfBath|SaleType_Tencode', 'GarageCars|LandContour_Tencode', 'SaleCondition_Tencode|BsmtUnfSF', 'OverallCond|Fence_Tencode', '2ndFlrSF|Street_Tencode', 'LandContour_Tencode|Condition1_Tencode', 'Alley_Tencode|BsmtFinSF2', 'FullBath|MoSold', 'BedroomAbvGr|TotRmsAbvGrd', 'Utilities_Tencode|Heating_Tencode', 'FullBath|ExterQual_Tencode', 'Alley_Tencode|MSZoning_Tencode', '1stFlrSF|GarageCars', 'OverallQual|BsmtFinType2_Tencode', 'EnclosedPorch|PoolQC_Tencode', 'ScreenPorch|Utilities_Tencode', 'MasVnrArea|LotShape_Tencode', 'SaleType_Tencode', 'SaleCondition_Tencode|Neighborhood_Tencode', 'GarageFinish_Tencode|BsmtFinType2_Tencode', 'HeatingQC_Tencode|RoofStyle_Tencode', 'LowQualFinSF|ExterCond_Tencode', 'GarageType_Tencode|KitchenQual_Tencode', 'MasVnrArea|OverallQual', 'HalfBath|MSZoning_Tencode', 'HeatingQC_Tencode|EnclosedPorch', 'BldgType_Tencode|YearBuilt', 'MasVnrType_Tencode|Electrical_Tencode', 'FullBath|HouseStyle_Tencode', 'BldgType_Tencode|Condition1_Tencode', 'BsmtFinType1_Tencode|HouseStyle_Tencode', 'BsmtUnfSF|MiscVal', 'GarageYrBlt|ExterQual_Tencode', 'HalfBath|ExterCond_Tencode', 'BsmtFinType1_Tencode|MasVnrType_Tencode', 'GarageArea|HouseStyle_Tencode', 'Fireplaces|2ndFlrSF', 'TotalBsmtSF|BsmtUnfSF', 'KitchenAbvGr|GarageQual_Tencode', 'BedroomAbvGr|2ndFlrSF', 'BsmtUnfSF|LotFrontage', 'GarageFinish_Tencode|Street_Tencode', 'BsmtUnfSF|RoofMatl_Tencode', 'OverallQual|MSZoning_Tencode', 'MoSold|Neighborhood_Tencode', 'MiscFeature_Tencode|MasVnrType_Tencode', 'LotArea|Heating_Tencode', 'BsmtCond_Tencode|YearRemodAdd', 'BsmtHalfBath|Exterior2nd_Tencode', '1stFlrSF|MSZoning_Tencode', 'BsmtUnfSF|GarageQual_Tencode', 'OverallCond|RoofMatl_Tencode', 'MiscVal|YrSold', 'LotShape_Tencode|GarageFinish_Tencode', 'ExterQual_Tencode|YearBuilt', 'Utilities_Tencode|3SsnPorch', 'LotShape_Tencode|BsmtFinType2_Tencode', 'TotalBsmtSF|BsmtFinType2_Tencode', 'GrLivArea|Electrical_Tencode', 'BedroomAbvGr', 'BsmtCond_Tencode|LotConfig_Tencode', 'BldgType_Tencode|GarageCars', 'PoolArea|EnclosedPorch', 'WoodDeckSF|LotFrontage', 'Neighborhood_Tencode|CentralAir_Tencode', 'BldgType_Tencode|Street_Tencode', 'MoSold|LotFrontage', 'BsmtQual_Tencode|YrSold', 'GarageYrBlt|BldgType_Tencode', 'Exterior1st_Tencode|SaleType_Tencode', 'BsmtFinType2_Tencode|HalfBath', 'GarageCars|PoolQC_Tencode', '3SsnPorch|RoofMatl_Tencode', 'Utilities_Tencode|Fence_Tencode', 'KitchenAbvGr|BsmtFinSF2', 'GarageType_Tencode', 'GarageType_Tencode|LandContour_Tencode', 'GrLivArea|BldgType_Tencode', 'LotArea|YrSold', 'MoSold|OpenPorchSF', 'Alley_Tencode|YearRemodAdd', 'MasVnrArea|HalfBath', 'GarageArea|BsmtQual_Tencode', 'MasVnrType_Tencode|MSSubClass', 'MoSold|3SsnPorch', 'Foundation_Tencode|TotalBsmtSF', 'Fireplaces|RoofMatl_Tencode', 'HalfBath|CentralAir_Tencode', 'PoolArea|PavedDrive_Tencode', 'HalfBath|2ndFlrSF', 'GrLivArea|FireplaceQu_Tencode', 'BsmtFullBath|MiscVal', '2ndFlrSF|YrSold', 'YrSold|LotConfig_Tencode', 'ScreenPorch|SaleType_Tencode', 'BedroomAbvGr|LandContour_Tencode', 'EnclosedPorch|BsmtFullBath', 'Fireplaces|OpenPorchSF', 'RoofStyle_Tencode|PavedDrive_Tencode', 'KitchenQual_Tencode|GarageQual_Tencode', 'BsmtFinSF2|ExterQual_Tencode', 'TotRmsAbvGrd|OpenPorchSF', 'Utilities_Tencode|BsmtHalfBath', 'OverallCond|GarageType_Tencode', 'HeatingQC_Tencode|FireplaceQu_Tencode', 'Fence_Tencode|BsmtFinType2_Tencode', 'ScreenPorch|LandContour_Tencode', 'BedroomAbvGr|BldgType_Tencode', 'Exterior2nd_Tencode|LotConfig_Tencode', 'LandContour_Tencode|GarageQual_Tencode', 'MiscFeature_Tencode|BsmtQual_Tencode', 'Foundation_Tencode|LandContour_Tencode', 'SaleCondition_Tencode|LandContour_Tencode', 'MiscVal|MSZoning_Tencode', 'GarageYrBlt|BsmtQual_Tencode', 'Alley_Tencode|BsmtHalfBath', 'GarageArea|WoodDeckSF', 'GarageYrBlt|MSSubClass', 'Fence_Tencode|YearBuilt', 'GrLivArea|ExterQual_Tencode', 'MiscFeature_Tencode|RoofMatl_Tencode', 'GarageCond_Tencode|OpenPorchSF', 'Functional_Tencode|PavedDrive_Tencode', 'Foundation_Tencode|MasVnrType_Tencode', 'GarageType_Tencode|CentralAir_Tencode', 'GarageCars|MSZoning_Tencode', 'BsmtExposure_Tencode|YrSold', 'FullBath|LandContour_Tencode', 'OverallQual|CentralAir_Tencode', 'MasVnrType_Tencode|BsmtFullBath', 'ExterQual_Tencode|LandContour_Tencode', '1stFlrSF|ExterQual_Tencode', 'RoofStyle_Tencode|Heating_Tencode', 'CentralAir_Tencode|RoofMatl_Tencode', 'ScreenPorch|BsmtHalfBath', 'BsmtFinSF2|TotRmsAbvGrd', 'BsmtUnfSF|BsmtFinSF1', '3SsnPorch|MSZoning_Tencode', 'HeatingQC_Tencode|Exterior1st_Tencode', 'MasVnrType_Tencode|KitchenQual_Tencode', 'EnclosedPorch|GarageQual_Tencode', 'KitchenAbvGr|MasVnrType_Tencode', 'HeatingQC_Tencode|BldgType_Tencode', 'GarageType_Tencode|BsmtCond_Tencode', 'GarageYrBlt|LotFrontage', 'GarageFinish_Tencode|LotFrontage', 'BedroomAbvGr|BsmtCond_Tencode', 'SaleCondition_Tencode|GarageCond_Tencode', '3SsnPorch|MiscVal', 'BsmtFinType1_Tencode|MSZoning_Tencode', 'LandSlope_Tencode|YrSold', 'Fence_Tencode|ExterCond_Tencode', 'Utilities_Tencode|TotRmsAbvGrd', 'BsmtUnfSF|Condition1_Tencode', 'BsmtFinType1_Tencode|KitchenQual_Tencode', 'BsmtFullBath|ExterCond_Tencode', 'ExterQual_Tencode|RoofStyle_Tencode', 'BsmtFinSF2|BsmtCond_Tencode', 'BsmtFinSF1|YearBuilt', 'HeatingQC_Tencode|YrSold', 'MoSold|BldgType_Tencode', 'BsmtQual_Tencode|LowQualFinSF', 'TotalBsmtSF|PoolArea', 'KitchenAbvGr|YrSold', 'BsmtCond_Tencode|Street_Tencode', 'Utilities_Tencode|LandSlope_Tencode', 'MiscFeature_Tencode|KitchenAbvGr', '2ndFlrSF|Heating_Tencode', 'BedroomAbvGr|Fence_Tencode', 'OverallCond|LotArea', 'HeatingQC_Tencode|SaleCondition_Tencode', 'BedroomAbvGr|GarageYrBlt', 'OverallCond|TotRmsAbvGrd', 'BsmtUnfSF', 'HeatingQC_Tencode|Utilities_Tencode', 'Utilities_Tencode|GarageFinish_Tencode', 'Alley_Tencode|SaleCondition_Tencode', 'BsmtExposure_Tencode|LotFrontage', 'GarageYrBlt|3SsnPorch', 'Foundation_Tencode|BldgType_Tencode', 'RoofStyle_Tencode|Exterior1st_Tencode', 'Fireplaces|YrSold', 'EnclosedPorch|GarageCars', 'Condition1_Tencode|FireplaceQu_Tencode', 'BsmtFinSF1|Electrical_Tencode', 'ScreenPorch|LotShape_Tencode', 'BedroomAbvGr|GrLivArea', 'OverallQual|LotShape_Tencode', 'FullBath|Street_Tencode', 'GrLivArea|Street_Tencode', 'BedroomAbvGr|Street_Tencode', 'ScreenPorch|MSZoning_Tencode', 'GrLivArea|PoolQC_Tencode', 'GarageArea|3SsnPorch', 'YrSold', 'HalfBath|Condition1_Tencode', 'LotShape_Tencode|LotArea', 'BsmtFinSF2|PoolArea', 'FullBath|CentralAir_Tencode', 'LandSlope_Tencode|LotConfig_Tencode', '1stFlrSF|PoolArea', 'PoolQC_Tencode', 'PoolQC_Tencode|TotRmsAbvGrd', 'PoolArea|YrSold', 'MasVnrArea|Heating_Tencode', 'LandSlope_Tencode|GarageCars', 'MoSold|MasVnrType_Tencode', 'BsmtExposure_Tencode|3SsnPorch', 'Electrical_Tencode|Exterior2nd_Tencode', 'MSSubClass|PavedDrive_Tencode', 'YearBuilt', 'PavedDrive_Tencode|LotFrontage', 'BedroomAbvGr|BsmtFinSF2', 'BldgType_Tencode|TotRmsAbvGrd', 'OverallQual|LandSlope_Tencode', 'BsmtCond_Tencode|RoofMatl_Tencode', 'BsmtFinSF2|Fireplaces', 'MoSold|Functional_Tencode', 'Fireplaces|Exterior2nd_Tencode', 'MasVnrArea|GarageArea', 'MasVnrType_Tencode|3SsnPorch', 'Condition1_Tencode|CentralAir_Tencode', 'OverallQual|ExterQual_Tencode', 'BsmtQual_Tencode|Heating_Tencode', 'SaleCondition_Tencode|ExterQual_Tencode', 'TotalBsmtSF|LandContour_Tencode', 'LotShape_Tencode|GarageQual_Tencode', 'Functional_Tencode|YearRemodAdd', 'BedroomAbvGr|KitchenAbvGr', 'GarageYrBlt|TotRmsAbvGrd', 'Condition2_Tencode|BsmtHalfBath', 'GarageCars|BsmtFinSF1', '1stFlrSF|BldgType_Tencode', '1stFlrSF|Condition1_Tencode', 'MiscFeature_Tencode|LotFrontage', 'FullBath|WoodDeckSF', 'Fireplaces|FireplaceQu_Tencode', 'RoofStyle_Tencode|BsmtHalfBath', 'BldgType_Tencode|ExterCond_Tencode', 'YearBuilt|MiscVal', 'RoofStyle_Tencode|BsmtFinSF1', 'Fireplaces|Exterior1st_Tencode', 'FullBath|BedroomAbvGr', 'TotalBsmtSF|Exterior2nd_Tencode', 'OverallCond|GarageYrBlt', 'GarageFinish_Tencode|HalfBath', 'HouseStyle_Tencode|LotConfig_Tencode', 'OverallQual|BsmtCond_Tencode', 'MasVnrType_Tencode|HouseStyle_Tencode', 'ScreenPorch|PavedDrive_Tencode', 'LotShape_Tencode|GarageArea', 'GrLivArea|SaleType_Tencode', 'PoolQC_Tencode|MSZoning_Tencode', 'Utilities_Tencode|BsmtUnfSF', 'GrLivArea|RoofStyle_Tencode', 'BsmtQual_Tencode|EnclosedPorch', 'BsmtExposure_Tencode|Exterior2nd_Tencode', 'BedroomAbvGr|RoofStyle_Tencode', 'Functional_Tencode|RoofStyle_Tencode', 'RoofStyle_Tencode|GarageCars', 'RoofStyle_Tencode|MiscVal', 'OverallQual|BsmtFinSF1', 'LandSlope_Tencode|KitchenQual_Tencode', 'HouseStyle_Tencode|OpenPorchSF', 'TotalBsmtSF|ExterQual_Tencode', 'OverallQual|Fence_Tencode', 'GarageType_Tencode|HalfBath', 'HeatingQC_Tencode|BsmtFinType2_Tencode', 'OpenPorchSF|Street_Tencode', '1stFlrSF|Utilities_Tencode', 'BsmtCond_Tencode|GarageCars', 'EnclosedPorch|2ndFlrSF', 'GrLivArea|GarageFinish_Tencode', 'BsmtFinType2_Tencode|Electrical_Tencode', 'PoolArea|LotConfig_Tencode', 'GrLivArea|GarageType_Tencode', 'FullBath|1stFlrSF', 'MasVnrType_Tencode|SaleCondition_Tencode', 'Condition2_Tencode|YearBuilt', 'FireplaceQu_Tencode|ExterCond_Tencode', 'LandSlope_Tencode|ExterCond_Tencode', 'MasVnrArea|EnclosedPorch', 'LowQualFinSF|YearRemodAdd', '1stFlrSF|BsmtFinType1_Tencode', 'ScreenPorch|2ndFlrSF', 'BsmtFinType2_Tencode|YearBuilt', 'MasVnrType_Tencode|BsmtUnfSF', 'BsmtFullBath|YearRemodAdd', 'Foundation_Tencode|GarageFinish_Tencode', 'MasVnrType_Tencode|Exterior2nd_Tencode', 'HeatingQC_Tencode|Street_Tencode', 'Alley_Tencode|TotalBsmtSF', 'BsmtExposure_Tencode|Fence_Tencode', 'BsmtUnfSF|LotArea', '1stFlrSF|GarageQual_Tencode', 'KitchenQual_Tencode|YearBuilt', 'ExterQual_Tencode|HalfBath', 'Electrical_Tencode|SaleType_Tencode', 'BsmtFinType2_Tencode|2ndFlrSF', 'GarageYrBlt|HeatingQC_Tencode', 'MasVnrType_Tencode|LowQualFinSF', 'BsmtQual_Tencode|GarageCars', 'MoSold|SaleType_Tencode', 'GarageFinish_Tencode|Heating_Tencode', 'HeatingQC_Tencode|CentralAir_Tencode', 'BsmtCond_Tencode|Functional_Tencode', 'YearBuilt|3SsnPorch', 'Electrical_Tencode|GarageCond_Tencode', 'OverallQual|FireplaceQu_Tencode', 'BldgType_Tencode|Exterior2nd_Tencode', 'GarageCars|YearRemodAdd', 'GarageFinish_Tencode|BsmtFullBath', 'SaleCondition_Tencode|OpenPorchSF', 'MoSold|LandSlope_Tencode', 'Fence_Tencode|RoofStyle_Tencode', '1stFlrSF|BsmtCond_Tencode', 'HeatingQC_Tencode|BsmtQual_Tencode', 'GarageCars|LotConfig_Tencode', 'BedroomAbvGr|EnclosedPorch', 'PoolQC_Tencode|GarageCond_Tencode', 'MasVnrArea|1stFlrSF', 'BsmtUnfSF|Electrical_Tencode', 'OverallQual|Neighborhood_Tencode', 'Functional_Tencode|ExterQual_Tencode', 'BsmtCond_Tencode|PoolQC_Tencode', '1stFlrSF|Fireplaces', 'GarageFinish_Tencode|SaleType_Tencode', 'BsmtFinType2_Tencode|Exterior2nd_Tencode', 'WoodDeckSF|GarageQual_Tencode', 'MiscFeature_Tencode|3SsnPorch', 'GrLivArea|LotArea', 'MasVnrArea|SaleCondition_Tencode', 'BsmtFinSF2|PoolQC_Tencode', 'Condition2_Tencode|OpenPorchSF', 'OverallQual|GarageFinish_Tencode', 'BsmtCond_Tencode|Heating_Tencode', 'GarageArea|LotFrontage', 'KitchenAbvGr', 'HeatingQC_Tencode|GarageCond_Tencode', 'Alley_Tencode|KitchenQual_Tencode', 'BsmtExposure_Tencode|GarageFinish_Tencode', 'LandContour_Tencode|MSSubClass', 'Functional_Tencode|GarageQual_Tencode', 'GarageFinish_Tencode|PavedDrive_Tencode', 'KitchenAbvGr|TotalBsmtSF', 'MiscVal|SaleType_Tencode', 'Foundation_Tencode|PoolQC_Tencode', 'Alley_Tencode|PavedDrive_Tencode', 'BsmtUnfSF|2ndFlrSF', 'Foundation_Tencode|3SsnPorch', 'BsmtExposure_Tencode|FireplaceQu_Tencode', 'KitchenAbvGr|BsmtFinType1_Tencode', 'FullBath|Neighborhood_Tencode', 'SaleCondition_Tencode|SaleType_Tencode', 'Heating_Tencode|Exterior2nd_Tencode', 'LotShape_Tencode|MSZoning_Tencode', 'BsmtCond_Tencode|MasVnrType_Tencode', 'ScreenPorch|GarageCars', 'LotArea|3SsnPorch', 'BedroomAbvGr|SaleCondition_Tencode', 'MiscFeature_Tencode|GrLivArea', 'YearBuilt|Heating_Tencode', 'LandContour_Tencode|PoolQC_Tencode', 'PoolArea|BsmtFinSF1', 'MiscFeature_Tencode|GarageYrBlt', 'KitchenAbvGr|ExterCond_Tencode', 'LotShape_Tencode|EnclosedPorch', 'Condition2_Tencode|BsmtUnfSF', 'BsmtFinType1_Tencode|Exterior2nd_Tencode', 'MasVnrArea|3SsnPorch', 'BedroomAbvGr|Alley_Tencode', 'BsmtCond_Tencode|Exterior2nd_Tencode', 'SaleCondition_Tencode|Street_Tencode', 'BsmtExposure_Tencode|GarageCars', 'BsmtQual_Tencode|BsmtFinType2_Tencode', 'Fence_Tencode|BsmtHalfBath', 'WoodDeckSF|LandContour_Tencode', 'BsmtExposure_Tencode|ExterQual_Tencode', 'BsmtUnfSF|3SsnPorch', 'FireplaceQu_Tencode|HouseStyle_Tencode', 'RoofMatl_Tencode', 'KitchenQual_Tencode|GarageCars', 'Foundation_Tencode|KitchenAbvGr', 'LotArea|BsmtFinSF1', 'MoSold|ScreenPorch', 'Condition2_Tencode|MasVnrArea', 'ExterQual_Tencode|LotConfig_Tencode', 'MiscFeature_Tencode|GarageFinish_Tencode', 'GarageYrBlt|CentralAir_Tencode', 'ScreenPorch|OverallQual', 'GarageCars|LotArea', 'BsmtExposure_Tencode|GarageCond_Tencode', 'ScreenPorch|Functional_Tencode', 'OverallCond|MSZoning_Tencode', 'BsmtFullBath|Exterior1st_Tencode', 'YearRemodAdd|PavedDrive_Tencode', 'Condition2_Tencode|ScreenPorch', 'Alley_Tencode|Heating_Tencode', 'GarageArea|YearRemodAdd', 'Foundation_Tencode|LotShape_Tencode', 'Electrical_Tencode|MiscVal', 'RoofStyle_Tencode|Street_Tencode', 'GarageYrBlt|WoodDeckSF', 'Functional_Tencode|YrSold', 'BedroomAbvGr|Exterior1st_Tencode', 'BsmtHalfBath', 'FullBath|BsmtFinSF1', 'MoSold|Condition1_Tencode', 'BsmtFinSF2|LotFrontage', 'YearRemodAdd|MSZoning_Tencode', 'TotalBsmtSF|HouseStyle_Tencode', 'LowQualFinSF|PoolQC_Tencode', 'MasVnrType_Tencode|CentralAir_Tencode', 'Utilities_Tencode|Condition1_Tencode', 'BsmtExposure_Tencode|TotalBsmtSF', 'BsmtFinType1_Tencode|SaleType_Tencode', 'BsmtFinSF1|SaleType_Tencode', 'LandSlope_Tencode|Heating_Tencode', 'Foundation_Tencode|PoolArea', 'Foundation_Tencode|GarageCars', 'Alley_Tencode|BldgType_Tencode', 'LotShape_Tencode|ExterQual_Tencode', 'MasVnrArea|BsmtFinType1_Tencode', 'MasVnrType_Tencode|HalfBath', 'BsmtFinSF2|GarageYrBlt', 'WoodDeckSF|Condition1_Tencode', 'RoofStyle_Tencode|MSSubClass', 'Fence_Tencode|GarageCars', 'LowQualFinSF|LotConfig_Tencode', 'BsmtFinSF2|OpenPorchSF', 'BldgType_Tencode|MSSubClass', 'ExterQual_Tencode|KitchenQual_Tencode', 'MasVnrArea|CentralAir_Tencode', 'ScreenPorch|OpenPorchSF', 'Condition1_Tencode|LotFrontage', 'LotShape_Tencode|3SsnPorch', 'ExterQual_Tencode|Neighborhood_Tencode', 'BsmtFullBath|RoofMatl_Tencode', 'LotShape_Tencode|2ndFlrSF', 'HalfBath|TotRmsAbvGrd', 'GarageFinish_Tencode|KitchenQual_Tencode', 'LotShape_Tencode|BsmtFinType1_Tencode', '1stFlrSF|BsmtExposure_Tencode', 'MoSold|LotArea', 'LowQualFinSF|GarageCond_Tencode', 'OverallCond|OpenPorchSF', 'GarageType_Tencode|LotArea', 'Foundation_Tencode|LotArea', 'Alley_Tencode|BsmtCond_Tencode', 'Electrical_Tencode|YrSold', 'HouseStyle_Tencode|BsmtHalfBath', 'LandSlope_Tencode|BsmtFinType2_Tencode', 'OverallCond|CentralAir_Tencode', 'GarageQual_Tencode|LotFrontage', 'GarageCars|2ndFlrSF', 'MiscFeature_Tencode|RoofStyle_Tencode', 'GarageYrBlt|BsmtFinSF1', 'BsmtQual_Tencode|WoodDeckSF', 'BedroomAbvGr|Functional_Tencode', 'BsmtFinSF2|MasVnrType_Tencode', 'LandSlope_Tencode|Exterior1st_Tencode', 'WoodDeckSF|HalfBath', '1stFlrSF|Fence_Tencode', 'GrLivArea|BsmtFinSF2', 'MasVnrType_Tencode|GarageQual_Tencode', '1stFlrSF|FireplaceQu_Tencode', 'BsmtCond_Tencode|SaleCondition_Tencode', 'MasVnrArea|GarageFinish_Tencode', 'GarageFinish_Tencode|WoodDeckSF', 'RoofStyle_Tencode|GarageCond_Tencode', 'Alley_Tencode|OpenPorchSF', 'BldgType_Tencode|BsmtFinType2_Tencode', 'YearRemodAdd|Exterior2nd_Tencode', 'GarageYrBlt|BsmtCond_Tencode', 'EnclosedPorch|KitchenQual_Tencode', 'MasVnrArea|YrSold', 'WoodDeckSF|KitchenQual_Tencode', 'PavedDrive_Tencode|Street_Tencode', 'GrLivArea|LowQualFinSF', 'BedroomAbvGr|LotArea', 'OverallCond|PoolQC_Tencode', 'ScreenPorch|BsmtFinSF2', 'Fireplaces|SaleType_Tencode', 'RoofStyle_Tencode|Electrical_Tencode', 'BsmtQual_Tencode|YearRemodAdd', 'GarageYrBlt|PoolQC_Tencode', '1stFlrSF|Neighborhood_Tencode', 'ExterQual_Tencode|TotRmsAbvGrd', 'Fireplaces|ExterQual_Tencode', 'TotalBsmtSF|CentralAir_Tencode', 'OverallCond|LowQualFinSF', 'GarageArea|LandSlope_Tencode', 'BsmtQual_Tencode|ExterCond_Tencode', 'OverallQual|HouseStyle_Tencode', 'BsmtFinSF2|GarageFinish_Tencode', 'MasVnrArea|ScreenPorch', 'Alley_Tencode|LotShape_Tencode', 'OverallCond|BldgType_Tencode', 'FireplaceQu_Tencode|LotConfig_Tencode', 'GarageYrBlt|LowQualFinSF', 'PavedDrive_Tencode|SaleType_Tencode', 'GarageArea|MasVnrType_Tencode', 'Condition2_Tencode|BsmtQual_Tencode', 'Functional_Tencode|TotRmsAbvGrd', 'BsmtQual_Tencode|MSZoning_Tencode', 'OverallCond|HouseStyle_Tencode', 'MoSold|Exterior2nd_Tencode', 'LotArea|Electrical_Tencode', 'HeatingQC_Tencode|HouseStyle_Tencode', 'SaleCondition_Tencode|Functional_Tencode', '2ndFlrSF|LotConfig_Tencode', 'BedroomAbvGr|HouseStyle_Tencode', 'LandSlope_Tencode|LowQualFinSF', 'GarageYrBlt|MasVnrType_Tencode', 'SaleCondition_Tencode|HalfBath', 'LandContour_Tencode|Street_Tencode', 'BsmtFinSF1|CentralAir_Tencode', 'Utilities_Tencode|RoofMatl_Tencode', 'GarageCars|Heating_Tencode', 'HeatingQC_Tencode|BsmtUnfSF', 'BedroomAbvGr|WoodDeckSF', 'Fence_Tencode|FireplaceQu_Tencode', 'ExterQual_Tencode|Heating_Tencode', '1stFlrSF|LowQualFinSF', 'Condition1_Tencode', 'BsmtHalfBath|ExterCond_Tencode', 'KitchenQual_Tencode|GarageCond_Tencode', 'GarageArea|PoolArea', 'LotArea|LotConfig_Tencode', 'Exterior1st_Tencode|BsmtHalfBath', 'GarageCond_Tencode|Street_Tencode', 'Alley_Tencode|GarageFinish_Tencode', 'MiscFeature_Tencode|HouseStyle_Tencode', 'MasVnrType_Tencode|GarageCond_Tencode', 'SaleCondition_Tencode|3SsnPorch', 'Neighborhood_Tencode|YrSold', 'Electrical_Tencode|TotRmsAbvGrd', 'Alley_Tencode|CentralAir_Tencode', 'BldgType_Tencode|GarageQual_Tencode', 'EnclosedPorch|MSSubClass', 'BsmtFinSF1|2ndFlrSF', 'GarageArea|EnclosedPorch', 'BsmtFinType1_Tencode|SaleCondition_Tencode', 'Foundation_Tencode|GrLivArea', 'Functional_Tencode', 'MasVnrArea|BsmtFinType2_Tencode', 'Fireplaces|BsmtUnfSF', 'OverallCond|Exterior2nd_Tencode', 'GrLivArea|LotConfig_Tencode', 'BsmtQual_Tencode', 'EnclosedPorch|LandContour_Tencode', 'BsmtFinType2_Tencode|LotConfig_Tencode', 'Alley_Tencode|WoodDeckSF', 'FullBath|GarageFinish_Tencode', 'ExterQual_Tencode|LotFrontage', 'FullBath|GarageType_Tencode', 'OverallCond|2ndFlrSF', 'BedroomAbvGr|CentralAir_Tencode', 'MiscFeature_Tencode|PoolQC_Tencode', 'ExterCond_Tencode|LotFrontage', 'GarageCars|OpenPorchSF', 'GarageQual_Tencode|MSSubClass', 'Heating_Tencode|ExterCond_Tencode', 'OverallCond|ScreenPorch', 'PoolQC_Tencode|YearBuilt', 'GarageFinish_Tencode|MiscVal', 'FullBath|Fence_Tencode', 'GarageType_Tencode|BsmtUnfSF', 'SaleCondition_Tencode|MiscVal', 'Fireplaces|Street_Tencode', 'EnclosedPorch|Street_Tencode', 'LotArea|FireplaceQu_Tencode', 'Neighborhood_Tencode|Condition1_Tencode', 'GarageYrBlt|Condition1_Tencode', 'Fence_Tencode|YrSold', 'WoodDeckSF|GarageCars', 'LotShape_Tencode|LotFrontage', 'FullBath|Alley_Tencode', '1stFlrSF|OverallQual', 'MasVnrArea|MoSold', 'MoSold|LowQualFinSF', 'LowQualFinSF|Exterior2nd_Tencode', 'BldgType_Tencode|BsmtFinSF1', 'MoSold|GarageFinish_Tencode', 'MiscFeature_Tencode|GarageType_Tencode', 'RoofStyle_Tencode|SaleType_Tencode', 'BsmtCond_Tencode|MiscVal', 'ExterQual_Tencode|BsmtQual_Tencode', '2ndFlrSF', 'GarageQual_Tencode|YearRemodAdd', 'LowQualFinSF|CentralAir_Tencode', 'MoSold|BsmtFinType1_Tencode', 'HalfBath', 'Foundation_Tencode|Fence_Tencode', 'PoolQC_Tencode|Heating_Tencode', 'LowQualFinSF|Heating_Tencode', 'OverallQual|GarageArea', 'Utilities_Tencode|SaleType_Tencode', 'SaleCondition_Tencode|2ndFlrSF', '1stFlrSF|GarageFinish_Tencode', 'MiscFeature_Tencode|FireplaceQu_Tencode', 'HeatingQC_Tencode|TotalBsmtSF', 'Condition2_Tencode|2ndFlrSF', 'Fence_Tencode|YearRemodAdd', 'GarageType_Tencode|BsmtFinSF1', 'Foundation_Tencode|LotFrontage', 'BldgType_Tencode|LotArea', 'GarageArea|MSZoning_Tencode', 'BedroomAbvGr|3SsnPorch', 'FullBath|Functional_Tencode', 'BsmtFullBath|LotFrontage', 'FullBath|HeatingQC_Tencode', 'GrLivArea|Functional_Tencode', 'FullBath', 'SaleCondition_Tencode|MSZoning_Tencode', 'KitchenQual_Tencode|TotRmsAbvGrd', 'GarageType_Tencode|OpenPorchSF', 'BsmtFinSF2|2ndFlrSF', '2ndFlrSF|HouseStyle_Tencode', 'FullBath|RoofMatl_Tencode', 'WoodDeckSF|YearBuilt', 'TotalBsmtSF|EnclosedPorch', 'OverallCond|EnclosedPorch', 'GarageType_Tencode|LandSlope_Tencode', 'MiscFeature_Tencode|Utilities_Tencode', 'BsmtUnfSF|HouseStyle_Tencode', 'GarageCond_Tencode', 'Condition2_Tencode|Functional_Tencode', 'Street_Tencode', 'GarageArea|Utilities_Tencode', 'MasVnrArea|GarageYrBlt', 'BsmtFinSF2|BsmtUnfSF', 'CentralAir_Tencode|YearBuilt', 'MiscFeature_Tencode|Fireplaces', 'BsmtUnfSF|GarageCars', 'HeatingQC_Tencode|BsmtCond_Tencode', 'Fence_Tencode|CentralAir_Tencode', 'LotShape_Tencode|BldgType_Tencode', 'BsmtFinSF2|FireplaceQu_Tencode', '1stFlrSF|HouseStyle_Tencode', 'PoolQC_Tencode|ExterCond_Tencode', 'SaleCondition_Tencode|WoodDeckSF', 'BsmtFinSF1|OpenPorchSF', 'GarageYrBlt|Electrical_Tencode', 'BsmtExposure_Tencode|KitchenAbvGr', 'BsmtFinSF2|RoofMatl_Tencode', 'GarageFinish_Tencode|LandSlope_Tencode', 'Functional_Tencode|GarageFinish_Tencode', 'Neighborhood_Tencode|LotArea', 'GarageFinish_Tencode', 'ExterQual_Tencode', 'ScreenPorch|GarageFinish_Tencode', 'ExterCond_Tencode|Street_Tencode', 'OverallQual|YearRemodAdd', 'Electrical_Tencode|MSZoning_Tencode', 'BsmtExposure_Tencode|TotRmsAbvGrd', 'OverallCond|3SsnPorch', 'GarageArea|MSSubClass', 'BsmtCond_Tencode|EnclosedPorch', 'BsmtFinType1_Tencode|HalfBath', 'FullBath|MasVnrType_Tencode', 'BsmtQual_Tencode|BldgType_Tencode', '1stFlrSF|3SsnPorch', 'SaleCondition_Tencode|BsmtHalfBath', 'Functional_Tencode|ExterCond_Tencode', 'OpenPorchSF|RoofMatl_Tencode', 'Fence_Tencode|LotFrontage', 'MasVnrArea|Fence_Tencode', 'KitchenAbvGr|LandContour_Tencode', 'BsmtExposure_Tencode|RoofStyle_Tencode', 'BsmtFinType1_Tencode|PoolQC_Tencode', 'Fireplaces|LotConfig_Tencode', 'BsmtUnfSF|KitchenQual_Tencode', '1stFlrSF|KitchenQual_Tencode', 'ExterQual_Tencode|PoolQC_Tencode', 'LandContour_Tencode|HouseStyle_Tencode', 'Condition1_Tencode|YearBuilt', 'SaleType_Tencode|Street_Tencode', 'KitchenQual_Tencode|Exterior1st_Tencode', '1stFlrSF|Exterior2nd_Tencode', 'OverallQual|SaleType_Tencode', 'Utilities_Tencode|BsmtCond_Tencode', 'BldgType_Tencode|PoolQC_Tencode', '3SsnPorch|Heating_Tencode', 'Exterior1st_Tencode|Heating_Tencode', 'BsmtQual_Tencode|HouseStyle_Tencode', 'BsmtFinType1_Tencode|BsmtQual_Tencode', 'BsmtExposure_Tencode|BsmtFinType1_Tencode', 'FireplaceQu_Tencode|BsmtHalfBath', 'Utilities_Tencode|Street_Tencode', 'SaleCondition_Tencode|Heating_Tencode', 'BedroomAbvGr|GarageCars', 'MiscFeature_Tencode|OverallQual', 'Neighborhood_Tencode|HouseStyle_Tencode', 'KitchenAbvGr|PoolQC_Tencode', 'ExterQual_Tencode|ExterCond_Tencode', 'HeatingQC_Tencode|MasVnrType_Tencode', 'Functional_Tencode|LowQualFinSF', 'MasVnrArea|BsmtQual_Tencode', 'KitchenAbvGr|3SsnPorch', 'BsmtFinType1_Tencode|YearRemodAdd', 'BsmtCond_Tencode|2ndFlrSF', 'MasVnrArea|BedroomAbvGr', 'BldgType_Tencode|LotConfig_Tencode', 'OverallQual|BsmtFullBath', 'BsmtFinType2_Tencode|LotFrontage', 'MiscVal|TotRmsAbvGrd', 'SaleType_Tencode|RoofMatl_Tencode', 'BsmtUnfSF|Street_Tencode', 'Condition2_Tencode|Neighborhood_Tencode', '1stFlrSF|LandSlope_Tencode', 'BsmtFinSF2|PavedDrive_Tencode', 'CentralAir_Tencode|FireplaceQu_Tencode', 'SaleCondition_Tencode|YrSold', 'GarageYrBlt|FireplaceQu_Tencode', 'FullBath|GarageYrBlt', 'MSSubClass|BsmtHalfBath', 'KitchenQual_Tencode|MSSubClass', 'Foundation_Tencode|ExterQual_Tencode', 'GarageCars|HouseStyle_Tencode', 'Functional_Tencode|RoofMatl_Tencode', 'BsmtCond_Tencode|KitchenQual_Tencode', 'GarageArea|LowQualFinSF', 'MoSold|CentralAir_Tencode', '2ndFlrSF|Exterior2nd_Tencode', 'TotalBsmtSF|GarageFinish_Tencode', 'LandSlope_Tencode|RoofMatl_Tencode', 'FullBath|PavedDrive_Tencode', 'Fireplaces|LotFrontage', 'BedroomAbvGr|Condition1_Tencode', 'BsmtCond_Tencode|BsmtHalfBath', 'GarageFinish_Tencode|3SsnPorch', 'MoSold|GarageQual_Tencode', 'OverallCond|Fireplaces', 'Fence_Tencode|LotConfig_Tencode', 'Exterior1st_Tencode|MSZoning_Tencode', 'Fence_Tencode|Street_Tencode', 'Fence_Tencode|ExterQual_Tencode', 'BsmtExposure_Tencode|Heating_Tencode', 'BsmtFinType1_Tencode|GarageCond_Tencode', 'LotShape_Tencode|Heating_Tencode', '2ndFlrSF|Electrical_Tencode', 'TotalBsmtSF|Heating_Tencode', 'Fence_Tencode|MSSubClass', 'KitchenAbvGr|RoofMatl_Tencode', 'Alley_Tencode|ExterQual_Tencode', 'GarageYrBlt|EnclosedPorch', 'OverallCond|Neighborhood_Tencode', 'SaleCondition_Tencode|BsmtFinType2_Tencode', 'BedroomAbvGr|LotConfig_Tencode', 'Fence_Tencode|BsmtCond_Tencode', 'Condition2_Tencode|LotShape_Tencode', 'GarageYrBlt|YrSold', 'MoSold|BsmtExposure_Tencode', 'BsmtFinType1_Tencode|BsmtUnfSF', 'BsmtFullBath|Heating_Tencode', 'GarageYrBlt|RoofMatl_Tencode', 'MoSold|PavedDrive_Tencode', 'TotalBsmtSF|PoolQC_Tencode', 'ScreenPorch|GarageArea', 'BsmtFinType2_Tencode|RoofMatl_Tencode', 'OverallCond|KitchenAbvGr', 'MoSold|HeatingQC_Tencode', 'HeatingQC_Tencode|PoolArea', 'Neighborhood_Tencode|GarageCond_Tencode', 'KitchenAbvGr|Heating_Tencode', 'GrLivArea|MiscVal', 'MiscFeature_Tencode|BsmtExposure_Tencode', 'TotalBsmtSF|WoodDeckSF', 'Fence_Tencode|HalfBath', 'OverallCond|BsmtFinType1_Tencode', 'GarageType_Tencode|YrSold', 'EnclosedPorch|Exterior1st_Tencode', 'LotShape_Tencode|LandContour_Tencode', 'SaleCondition_Tencode|KitchenQual_Tencode', 'LowQualFinSF|SaleType_Tencode', 'Alley_Tencode|LowQualFinSF', 'BsmtFinType1_Tencode|MSSubClass', 'BsmtFinType1_Tencode|LotFrontage', 'GarageType_Tencode|Exterior1st_Tencode', 'KitchenAbvGr|GarageYrBlt', 'FullBath|KitchenQual_Tencode', 'YrSold|Street_Tencode', 'Fireplaces|BsmtCond_Tencode', 'ScreenPorch|BsmtQual_Tencode', 'TotalBsmtSF|3SsnPorch', 'Alley_Tencode|Fireplaces', 'MiscVal|FireplaceQu_Tencode', 'Exterior1st_Tencode|TotRmsAbvGrd', '2ndFlrSF|RoofMatl_Tencode', 'MiscFeature_Tencode|2ndFlrSF', 'OverallCond|PavedDrive_Tencode', 'BsmtCond_Tencode|LandSlope_Tencode', 'Condition1_Tencode|GarageCond_Tencode', 'HeatingQC_Tencode|3SsnPorch', 'OverallCond|ExterCond_Tencode', 'GarageFinish_Tencode|MSZoning_Tencode', '1stFlrSF|LandContour_Tencode', 'BsmtUnfSF|FireplaceQu_Tencode', 'Neighborhood_Tencode|3SsnPorch', 'BsmtFinType1_Tencode|Functional_Tencode', 'OverallCond|KitchenQual_Tencode', 'Fireplaces|HalfBath', 'Neighborhood_Tencode|Exterior1st_Tencode', 'BsmtExposure_Tencode|LotShape_Tencode', 'Condition2_Tencode|3SsnPorch', 'BsmtExposure_Tencode|KitchenQual_Tencode', 'KitchenAbvGr|TotRmsAbvGrd', 'HeatingQC_Tencode|Heating_Tencode', 'BedroomAbvGr|BsmtFinSF1', 'Foundation_Tencode', 'ScreenPorch|LotArea', 'BsmtFinSF1|MSZoning_Tencode', 'MiscFeature_Tencode|BsmtCond_Tencode', 'Alley_Tencode|RoofMatl_Tencode', 'Fireplaces|Heating_Tencode', 'FullBath|BsmtUnfSF', 'Neighborhood_Tencode|Exterior2nd_Tencode', 'LotArea|Exterior1st_Tencode', 'BedroomAbvGr|BsmtUnfSF', '1stFlrSF|Functional_Tencode', 'FullBath|YearBuilt', 'Foundation_Tencode|MiscVal', 'BedroomAbvGr|MSZoning_Tencode', 'BsmtUnfSF|BsmtFullBath', '2ndFlrSF|LotFrontage', 'GarageYrBlt|BsmtFinType1_Tencode', '1stFlrSF|MiscVal', 'ScreenPorch|YearBuilt', 'Condition2_Tencode|Fence_Tencode', 'GarageArea|KitchenQual_Tencode', 'WoodDeckSF|2ndFlrSF', 'GarageYrBlt|BsmtHalfBath', 'MSSubClass|SaleType_Tencode', 'BsmtUnfSF|ExterCond_Tencode', 'MasVnrArea|Electrical_Tencode', 'MiscFeature_Tencode|TotRmsAbvGrd', 'GarageArea|RoofMatl_Tencode', 'ExterQual_Tencode|3SsnPorch', 'MoSold|BsmtFullBath', 'Utilities_Tencode|PavedDrive_Tencode', 'MasVnrType_Tencode|Neighborhood_Tencode', 'Utilities_Tencode|YrSold', 'PoolArea|Exterior1st_Tencode', 'MasVnrArea|BsmtFinSF1', 'MasVnrArea|KitchenAbvGr', 'GarageYrBlt|LandSlope_Tencode', 'MoSold|YearBuilt', 'SaleCondition_Tencode|PoolQC_Tencode', 'SaleCondition_Tencode|GarageFinish_Tencode', 'ExterQual_Tencode|HouseStyle_Tencode', 'FullBath|HalfBath', 'ExterQual_Tencode|2ndFlrSF', 'SaleCondition_Tencode|TotRmsAbvGrd', 'EnclosedPorch|FireplaceQu_Tencode', 'BsmtFinSF2|BsmtQual_Tencode', 'YearRemodAdd|Electrical_Tencode', 'BsmtExposure_Tencode|BsmtCond_Tencode', 'BsmtFinType2_Tencode|BsmtFinSF1', 'SaleCondition_Tencode|BldgType_Tencode', 'GarageType_Tencode|Exterior2nd_Tencode', 'BsmtFullBath|HouseStyle_Tencode', 'SaleCondition_Tencode|Condition1_Tencode', 'HeatingQC_Tencode|PavedDrive_Tencode', 'RoofStyle_Tencode|LandSlope_Tencode', 'BldgType_Tencode|MiscVal', 'GrLivArea|TotalBsmtSF', 'PoolArea|3SsnPorch', 'GrLivArea|Utilities_Tencode', 'BsmtFinSF2|LandSlope_Tencode', 'MoSold|YearRemodAdd', 'YearRemodAdd|GarageCond_Tencode', 'BsmtExposure_Tencode|YearRemodAdd', 'PoolArea|OpenPorchSF', 'FullBath|OpenPorchSF', 'KitchenQual_Tencode|CentralAir_Tencode', 'BsmtQual_Tencode|Exterior2nd_Tencode', '1stFlrSF|BsmtFinType2_Tencode', 'KitchenAbvGr|YearRemodAdd', 'LotShape_Tencode|Street_Tencode', 'MasVnrType_Tencode|YearBuilt', 'PoolQC_Tencode|HouseStyle_Tencode', 'OverallQual|BsmtHalfBath', 'GarageCond_Tencode|YrSold', 'ScreenPorch|PoolArea', 'BsmtFinSF2|YrSold', 'HouseStyle_Tencode|YrSold', 'BldgType_Tencode|CentralAir_Tencode', 'BsmtUnfSF|LandSlope_Tencode', 'OverallCond|Condition1_Tencode', 'MasVnrType_Tencode|RoofMatl_Tencode', 'ScreenPorch|KitchenAbvGr', 'FullBath|GarageArea', 'BsmtFinType1_Tencode|Neighborhood_Tencode', 'MasVnrType_Tencode|BsmtFinType2_Tencode', 'LandSlope_Tencode|HouseStyle_Tencode', 'MasVnrType_Tencode|LotFrontage', 'GarageType_Tencode|BsmtFinType1_Tencode', 'BsmtFinSF1|TotRmsAbvGrd', 'Utilities_Tencode|ExterQual_Tencode', 'GarageYrBlt|RoofStyle_Tencode', 'BsmtUnfSF|Heating_Tencode', 'MoSold|OverallQual', 'PoolArea|BsmtHalfBath', 'Functional_Tencode|MiscVal', 'BsmtFinType2_Tencode|Condition1_Tencode', 'LowQualFinSF|MSZoning_Tencode', 'LotShape_Tencode', 'BsmtExposure_Tencode|SaleCondition_Tencode', 'Functional_Tencode|LotArea', 'TotalBsmtSF|KitchenQual_Tencode', 'Alley_Tencode|BsmtExposure_Tencode', 'Foundation_Tencode|OverallQual', 'Condition2_Tencode|BedroomAbvGr', 'LotShape_Tencode|Electrical_Tencode', 'LowQualFinSF|OpenPorchSF', 'MSSubClass|3SsnPorch', '1stFlrSF|SaleCondition_Tencode', 'Condition1_Tencode|YrSold', 'BsmtFullBath|2ndFlrSF', 'BsmtFullBath|Exterior2nd_Tencode', '1stFlrSF|BsmtQual_Tencode', 'RoofStyle_Tencode|FireplaceQu_Tencode', 'TotalBsmtSF|LandSlope_Tencode', 'OverallQual|OpenPorchSF', 'BsmtFinType2_Tencode|GarageCars', 'FullBath|BsmtFinSF2', 'OverallCond|Heating_Tencode', 'MiscFeature_Tencode|Fence_Tencode', 'BsmtFinType1_Tencode|YearBuilt', 'BsmtFinSF1|Heating_Tencode', 'RoofStyle_Tencode|3SsnPorch', 'SaleCondition_Tencode|CentralAir_Tencode', 'SaleCondition_Tencode|ExterCond_Tencode', 'Fireplaces|GarageQual_Tencode', 'Exterior2nd_Tencode|ExterCond_Tencode', 'Neighborhood_Tencode|LotConfig_Tencode', 'BsmtFinSF2|LotArea', 'LandContour_Tencode|ExterCond_Tencode', 'OverallQual|MasVnrType_Tencode', 'ScreenPorch|GarageType_Tencode', 'Condition2_Tencode|GarageType_Tencode', 'BsmtExposure_Tencode|CentralAir_Tencode', 'YearBuilt|BsmtHalfBath', 'MoSold|WoodDeckSF', 'LotArea', 'OverallCond|BsmtExposure_Tencode', 'BsmtFinSF2|Exterior2nd_Tencode', '2ndFlrSF|PavedDrive_Tencode', 'GarageType_Tencode|Electrical_Tencode', 'WoodDeckSF|YearRemodAdd', 'LotShape_Tencode|YearRemodAdd', 'ExterQual_Tencode|LandSlope_Tencode', 'Foundation_Tencode|Functional_Tencode', 'ExterQual_Tencode|GarageQual_Tencode', 'MoSold|ExterCond_Tencode', 'LandSlope_Tencode|GarageCond_Tencode', 'GarageArea|TotalBsmtSF', 'CentralAir_Tencode|YearRemodAdd', '1stFlrSF|YearBuilt', 'KitchenQual_Tencode|BsmtFinType2_Tencode', 'Alley_Tencode|MSSubClass', 'OverallCond|Street_Tencode', 'MasVnrArea|LowQualFinSF', 'Foundation_Tencode|LotConfig_Tencode', '3SsnPorch', 'EnclosedPorch|HouseStyle_Tencode', 'MSSubClass|Street_Tencode', 'GarageFinish_Tencode|MSSubClass', 'LandSlope_Tencode|TotRmsAbvGrd', 'MasVnrType_Tencode|LandContour_Tencode', 'BsmtFinSF2|LotConfig_Tencode', 'Utilities_Tencode|OpenPorchSF', '2ndFlrSF|FireplaceQu_Tencode', 'OverallQual|LowQualFinSF', 'MSSubClass|HouseStyle_Tencode', 'TotalBsmtSF|ExterCond_Tencode', 'MasVnrArea|LandSlope_Tencode', 'Foundation_Tencode|KitchenQual_Tencode', 'KitchenAbvGr|MSZoning_Tencode', 'Functional_Tencode|YearBuilt', 'SaleCondition_Tencode|LowQualFinSF', 'MSSubClass|Exterior1st_Tencode', 'TotalBsmtSF|Neighborhood_Tencode', 'PoolArea|GarageQual_Tencode', 'LowQualFinSF|PavedDrive_Tencode', 'HalfBath|YearBuilt', 'FullBath|BsmtFinType1_Tencode', 'Neighborhood_Tencode|MiscVal', 'KitchenAbvGr|LotConfig_Tencode', 'Neighborhood_Tencode|BsmtHalfBath', 'Foundation_Tencode|YearBuilt', 'Fireplaces|SaleCondition_Tencode', 'MasVnrArea|Exterior2nd_Tencode', 'BsmtQual_Tencode|BsmtFinSF1', 'MoSold|BsmtHalfBath', 'FullBath|TotRmsAbvGrd', 'Exterior2nd_Tencode|LotFrontage', 'Foundation_Tencode|ScreenPorch', 'Condition1_Tencode|Exterior2nd_Tencode', 'LotShape_Tencode|Functional_Tencode', '1stFlrSF|OpenPorchSF', 'OverallCond|ExterQual_Tencode', 'ExterQual_Tencode|MSZoning_Tencode', 'WoodDeckSF|PoolQC_Tencode', 'Functional_Tencode|LandSlope_Tencode', 'CentralAir_Tencode|ExterCond_Tencode', 'ScreenPorch|Exterior1st_Tencode', 'CentralAir_Tencode|Exterior2nd_Tencode', 'BsmtCond_Tencode|RoofStyle_Tencode', 'BsmtFinSF1|Exterior2nd_Tencode', 'Fence_Tencode|OpenPorchSF', 'TotalBsmtSF|PavedDrive_Tencode', 'GarageArea|Neighborhood_Tencode', 'SaleCondition_Tencode|PoolArea', 'PoolArea|LandContour_Tencode', 'BsmtUnfSF|RoofStyle_Tencode', 'Alley_Tencode|GarageCars', 'WoodDeckSF|Street_Tencode', 'MiscVal|BsmtHalfBath', 'PoolArea|BsmtFinType2_Tencode', '2ndFlrSF|OpenPorchSF', 'BsmtExposure_Tencode|BldgType_Tencode', 'Functional_Tencode|WoodDeckSF', 'BsmtFullBath|Neighborhood_Tencode', 'OverallQual|BsmtUnfSF', 'BsmtExposure_Tencode|OpenPorchSF', 'Condition2_Tencode|ExterCond_Tencode', 'YearRemodAdd|2ndFlrSF', 'Foundation_Tencode|OpenPorchSF', 'LotArea|BsmtHalfBath', 'BsmtUnfSF|HalfBath', 'RoofStyle_Tencode|YrSold', 'LowQualFinSF|2ndFlrSF', 'Heating_Tencode|MSZoning_Tencode', 'LandSlope_Tencode|SaleType_Tencode', 'LotArea|GarageCond_Tencode', 'BedroomAbvGr|MasVnrType_Tencode', 'KitchenAbvGr|EnclosedPorch', 'ScreenPorch|LotConfig_Tencode', 'BsmtCond_Tencode|CentralAir_Tencode', 'MSSubClass|ExterCond_Tencode', 'OverallCond|PoolArea', 'BsmtFullBath|HalfBath', 'BsmtExposure_Tencode|SaleType_Tencode', 'LowQualFinSF|GarageQual_Tencode', 'PoolQC_Tencode|GarageQual_Tencode', 'Fireplaces|YearBuilt', 'GarageFinish_Tencode|PoolQC_Tencode', 'MasVnrType_Tencode|Street_Tencode', 'SaleCondition_Tencode|Exterior1st_Tencode', 'LotShape_Tencode|GarageCars', 'GarageYrBlt|YearRemodAdd', 'LotArea|2ndFlrSF', 'Condition2_Tencode|BsmtFinSF1', 'HeatingQC_Tencode|LowQualFinSF', 'GarageType_Tencode|3SsnPorch', 'EnclosedPorch|YearRemodAdd', 'MiscFeature_Tencode|PoolArea', 'FullBath|GarageCond_Tencode', 'BsmtQual_Tencode|2ndFlrSF', 'KitchenAbvGr|WoodDeckSF', 'PoolQC_Tencode|Electrical_Tencode', 'GarageYrBlt|LotArea', 'PoolQC_Tencode|MiscVal', 'KitchenQual_Tencode|HouseStyle_Tencode', 'FullBath|Heating_Tencode', 'SaleCondition_Tencode|RoofMatl_Tencode', 'ScreenPorch|HeatingQC_Tencode', 'Alley_Tencode|BsmtFinSF1', 'Utilities_Tencode|BldgType_Tencode', 'Alley_Tencode|SaleType_Tencode', 'Fence_Tencode|LotArea', 'BsmtQual_Tencode|LandSlope_Tencode', 'TotRmsAbvGrd', 'GarageType_Tencode|MiscVal', 'MasVnrArea|WoodDeckSF', 'LotArea|TotRmsAbvGrd', 'BsmtFullBath|Street_Tencode', 'BsmtFinType2_Tencode|MiscVal', 'LandContour_Tencode|Exterior1st_Tencode', 'WoodDeckSF|EnclosedPorch', 'FullBath|Condition1_Tencode', 'SaleType_Tencode|LotConfig_Tencode', 'Foundation_Tencode|FireplaceQu_Tencode', 'BsmtCond_Tencode|PoolArea', 'BsmtFinType1_Tencode|BsmtFinSF1', 'Exterior1st_Tencode|OpenPorchSF', 'Condition2_Tencode|GarageCond_Tencode', 'LotConfig_Tencode|Street_Tencode', 'MiscFeature_Tencode|Condition1_Tencode', 'OverallQual|Utilities_Tencode', 'HeatingQC_Tencode|BsmtFullBath', 'Utilities_Tencode|WoodDeckSF', 'BsmtHalfBath|MSZoning_Tencode', 'OverallQual|MiscVal', 'MiscFeature_Tencode|BsmtFinSF1', 'OverallCond|LotFrontage', 'BldgType_Tencode|Electrical_Tencode', 'ExterQual_Tencode|LowQualFinSF', 'LandSlope_Tencode|WoodDeckSF', 'MiscVal|ExterCond_Tencode', 'GarageType_Tencode|Fence_Tencode', '2ndFlrSF|BsmtHalfBath', 'GarageFinish_Tencode|LowQualFinSF', 'BsmtFinType1_Tencode|Heating_Tencode', 'TotalBsmtSF|GarageQual_Tencode', 'GarageFinish_Tencode|Exterior1st_Tencode', 'Alley_Tencode|Condition1_Tencode', 'Fireplaces|GarageType_Tencode', 'Utilities_Tencode|PoolQC_Tencode', 'GarageType_Tencode|RoofStyle_Tencode', 'RoofStyle_Tencode|TotRmsAbvGrd', 'EnclosedPorch|MiscVal', 'GrLivArea|BsmtFinSF1', 'LandSlope_Tencode|YearRemodAdd', 'Functional_Tencode|Condition1_Tencode', 'Functional_Tencode|BsmtHalfBath', 'BsmtCond_Tencode|WoodDeckSF', 'Condition1_Tencode|LotArea', 'KitchenQual_Tencode|3SsnPorch', 'OverallQual|MSSubClass', 'ExterQual_Tencode|Exterior1st_Tencode', 'Electrical_Tencode|3SsnPorch', 'Condition2_Tencode|MiscFeature_Tencode', 'Utilities_Tencode|ExterCond_Tencode', 'EnclosedPorch|YearBuilt', 'LandSlope_Tencode|EnclosedPorch', 'OverallCond|LandSlope_Tencode', 'RoofStyle_Tencode', 'Utilities_Tencode|LandContour_Tencode', 'KitchenAbvGr|MSSubClass', 'OverallQual|RoofStyle_Tencode', 'BsmtQual_Tencode|BsmtFullBath', 'BsmtUnfSF|Neighborhood_Tencode', '1stFlrSF|Heating_Tencode', 'LandContour_Tencode|BsmtFinSF1', 'GarageCars|FireplaceQu_Tencode', 'LotArea|YearBuilt', 'BsmtFinSF2|Functional_Tencode', 'MSSubClass|Electrical_Tencode', 'BsmtCond_Tencode|GarageCond_Tencode', 'EnclosedPorch|YrSold', 'GrLivArea|BsmtUnfSF', 'BldgType_Tencode|EnclosedPorch', 'OverallQual|WoodDeckSF', 'ScreenPorch|TotalBsmtSF', 'LowQualFinSF|MSSubClass', 'MiscFeature_Tencode|LotShape_Tencode', 'MoSold|Foundation_Tencode', 'BsmtQual_Tencode|PoolQC_Tencode', 'FullBath|BsmtHalfBath', 'MasVnrType_Tencode|Functional_Tencode', 'Condition2_Tencode|LotFrontage', 'BedroomAbvGr|BsmtHalfBath', 'BsmtFinSF2|MSSubClass', 'KitchenAbvGr|BsmtFinSF1', 'Foundation_Tencode|MSZoning_Tencode', 'MasVnrType_Tencode|BsmtHalfBath', 'BsmtFinSF2|HeatingQC_Tencode', '3SsnPorch|SaleType_Tencode', 'BsmtFinType1_Tencode|Utilities_Tencode', 'Fence_Tencode|Heating_Tencode', 'Alley_Tencode|RoofStyle_Tencode', 'Foundation_Tencode|YearRemodAdd', 'LandContour_Tencode|2ndFlrSF', 'LotConfig_Tencode|LotFrontage', 'FullBath|BldgType_Tencode', 'FireplaceQu_Tencode|YrSold', 'BsmtFinSF2|YearBuilt', 'OverallCond|MSSubClass', 'RoofStyle_Tencode|YearBuilt', 'LotShape_Tencode|BsmtFinSF1', 'BsmtFinType1_Tencode|ExterCond_Tencode', 'YearBuilt|Street_Tencode', 'GrLivArea|ExterCond_Tencode', 'ScreenPorch|Electrical_Tencode', 'HeatingQC_Tencode|RoofMatl_Tencode', 'HalfBath|BsmtFinSF1', 'MSSubClass|LotConfig_Tencode', 'PoolArea|MSZoning_Tencode', 'BldgType_Tencode|Heating_Tencode', 'BedroomAbvGr|BsmtExposure_Tencode', 'BedroomAbvGr|OpenPorchSF', 'Exterior2nd_Tencode', 'LotShape_Tencode|Utilities_Tencode', 'BsmtCond_Tencode|SaleType_Tencode', 'BsmtExposure_Tencode|MiscVal', 'Functional_Tencode|OpenPorchSF', 'GarageType_Tencode|GarageCars', 'LandContour_Tencode|LotArea', 'Fireplaces|TotalBsmtSF', 'Fireplaces|GarageArea', 'Fireplaces|MiscVal', 'Fireplaces|MSZoning_Tencode', 'BsmtFullBath|LotConfig_Tencode', 'BsmtUnfSF|MSSubClass', 'TotalBsmtSF|TotRmsAbvGrd', 'TotalBsmtSF|SaleType_Tencode', 'PoolArea|Electrical_Tencode', 'BsmtCond_Tencode|GarageQual_Tencode', 'KitchenQual_Tencode|LowQualFinSF', 'GarageFinish_Tencode|RoofStyle_Tencode', 'LotShape_Tencode|Neighborhood_Tencode', 'MasVnrType_Tencode|GarageCars', 'GarageArea|BsmtHalfBath', 'LandSlope_Tencode|PoolQC_Tencode', 'Functional_Tencode|LandContour_Tencode', 'Heating_Tencode|BsmtHalfBath', 'PoolQC_Tencode|Exterior1st_Tencode', 'LotShape_Tencode|Exterior1st_Tencode', 'HalfBath|PavedDrive_Tencode', 'LowQualFinSF|GarageCars', 'Utilities_Tencode|RoofStyle_Tencode', 'RoofStyle_Tencode|LotFrontage', 'BsmtFullBath|MSSubClass', 'BedroomAbvGr|Neighborhood_Tencode', 'ScreenPorch|LowQualFinSF', 'Alley_Tencode|BsmtUnfSF', 'GarageType_Tencode|LotFrontage', 'BsmtExposure_Tencode|Neighborhood_Tencode', 'ScreenPorch|MSSubClass', 'GarageArea|BsmtFinType2_Tencode', 'FullBath|LotArea', 'Foundation_Tencode|BsmtFinType2_Tencode', 'BsmtFinSF1|BsmtHalfBath', 'Fence_Tencode|GarageFinish_Tencode', 'GarageArea|BsmtFullBath', 'KitchenAbvGr|Exterior1st_Tencode', 'KitchenQual_Tencode|BsmtFinSF1', 'BedroomAbvGr|BsmtQual_Tencode', 'CentralAir_Tencode|YrSold', 'MiscFeature_Tencode|GarageCars', 'MSSubClass', 'RoofMatl_Tencode|LotFrontage', 'GrLivArea|LotFrontage', 'GarageYrBlt|BsmtUnfSF', 'GarageCond_Tencode|Heating_Tencode', 'BsmtFinSF2|Condition1_Tencode', 'GarageFinish_Tencode|TotRmsAbvGrd', 'HeatingQC_Tencode|MSZoning_Tencode', 'BedroomAbvGr|Foundation_Tencode', 'Fireplaces|YearRemodAdd', 'HalfBath|LandContour_Tencode', 'HouseStyle_Tencode|Exterior2nd_Tencode', 'BsmtQual_Tencode|OpenPorchSF', 'MiscFeature_Tencode|MiscVal', 'GarageCond_Tencode|ExterCond_Tencode', '1stFlrSF|HalfBath', 'Exterior2nd_Tencode|YrSold', 'CentralAir_Tencode|TotRmsAbvGrd', 'YearBuilt|PavedDrive_Tencode', 'BsmtExposure_Tencode|YearBuilt', 'BsmtUnfSF|YrSold', 'MasVnrArea|ExterQual_Tencode', 'GarageFinish_Tencode|RoofMatl_Tencode', 'GarageCars|HalfBath', '3SsnPorch|OpenPorchSF', 'BsmtUnfSF|BsmtHalfBath', 'KitchenAbvGr|Fireplaces', 'YearBuilt|HouseStyle_Tencode', 'Functional_Tencode|MSSubClass', 'YearBuilt|LotFrontage', 'BsmtFullBath|TotRmsAbvGrd', 'SaleCondition_Tencode|GarageQual_Tencode', 'GarageYrBlt|Utilities_Tencode', 'RoofStyle_Tencode|BldgType_Tencode', 'GarageType_Tencode|Heating_Tencode', 'GarageFinish_Tencode|HouseStyle_Tencode', 'RoofMatl_Tencode|MSZoning_Tencode', 'Foundation_Tencode|GarageArea', 'OverallCond|BsmtUnfSF', 'Fence_Tencode|GarageCond_Tencode', 'LandSlope_Tencode|Exterior2nd_Tencode', 'OverallQual|2ndFlrSF', 'Heating_Tencode|HouseStyle_Tencode', '1stFlrSF|PavedDrive_Tencode', 'ScreenPorch|LotFrontage', 'GarageArea|Exterior2nd_Tencode', 'LowQualFinSF|HouseStyle_Tencode', 'Functional_Tencode|Street_Tencode', 'EnclosedPorch|MSZoning_Tencode', 'LandContour_Tencode|RoofMatl_Tencode', 'FireplaceQu_Tencode|RoofMatl_Tencode', 'FireplaceQu_Tencode|OpenPorchSF', 'Fence_Tencode|PoolQC_Tencode', 'MasVnrArea|MiscVal', '1stFlrSF|GarageArea', 'Condition1_Tencode|Exterior1st_Tencode', 'LandContour_Tencode|CentralAir_Tencode', 'RoofStyle_Tencode|LotArea', 'FireplaceQu_Tencode|Exterior2nd_Tencode', 'BsmtUnfSF|LandContour_Tencode', 'BsmtFullBath|3SsnPorch', 'RoofStyle_Tencode|GarageQual_Tencode', 'BsmtFinType2_Tencode|GarageCond_Tencode', 'Condition2_Tencode|SaleCondition_Tencode', 'TotRmsAbvGrd|MSZoning_Tencode', '1stFlrSF|ScreenPorch', 'LowQualFinSF|MiscVal', 'Fence_Tencode|RoofMatl_Tencode', 'ExterQual_Tencode|BsmtFinSF1', 'Fence_Tencode|Functional_Tencode', 'KitchenAbvGr|Street_Tencode', 'LotArea|OpenPorchSF', 'MasVnrType_Tencode|ExterQual_Tencode', 'ScreenPorch|YearRemodAdd', 'Fireplaces', 'Heating_Tencode|Street_Tencode', 'MiscVal|LotConfig_Tencode', 'MasVnrArea|FullBath', 'BsmtQual_Tencode|LotArea', 'LotShape_Tencode|SaleCondition_Tencode', 'BldgType_Tencode|SaleType_Tencode', 'TotalBsmtSF|BldgType_Tencode', 'BsmtUnfSF|CentralAir_Tencode', 'ScreenPorch|Exterior2nd_Tencode', 'BsmtQual_Tencode|SaleType_Tencode', 'KitchenQual_Tencode|Street_Tencode', 'GarageQual_Tencode|MiscVal', 'SaleCondition_Tencode|YearRemodAdd', 'GarageArea|Fence_Tencode', 'GarageYrBlt|OpenPorchSF', 'MasVnrType_Tencode', 'MSSubClass|YearBuilt', 'GrLivArea|EnclosedPorch', 'BsmtFinType1_Tencode|Exterior1st_Tencode', 'HeatingQC_Tencode|BsmtHalfBath', 'BsmtUnfSF|BsmtFinType2_Tencode', 'BsmtQual_Tencode|YearBuilt', 'GarageQual_Tencode|BsmtHalfBath', 'MasVnrArea|PoolArea', 'WoodDeckSF', 'BsmtFinType1_Tencode|Street_Tencode', 'MasVnrType_Tencode|WoodDeckSF', 'MasVnrArea|ExterCond_Tencode', 'EnclosedPorch', 'WoodDeckSF|LowQualFinSF', 'BsmtFinType1_Tencode|ExterQual_Tencode', 'BsmtExposure_Tencode|BsmtHalfBath', 'MasVnrType_Tencode|YrSold', 'EnclosedPorch|LotConfig_Tencode', 'BsmtFinType1_Tencode|WoodDeckSF', 'GarageQual_Tencode|3SsnPorch', 'GarageYrBlt|2ndFlrSF', 'BldgType_Tencode|LotFrontage', 'Fence_Tencode|2ndFlrSF', 'Condition1_Tencode|Electrical_Tencode', 'FullBath|Fireplaces', 'BedroomAbvGr|YrSold', 'GarageCars|GarageQual_Tencode', 'Condition1_Tencode|MSSubClass', '2ndFlrSF|MSZoning_Tencode', 'Condition1_Tencode|RoofMatl_Tencode', 'GarageYrBlt|MiscVal', 'GarageType_Tencode|Functional_Tencode', 'HeatingQC_Tencode|Functional_Tencode', 'MoSold|EnclosedPorch', 'GarageType_Tencode|BsmtHalfBath', 'TotalBsmtSF|LotFrontage', 'Neighborhood_Tencode|BsmtFinSF1', 'GrLivArea|BsmtCond_Tencode', 'EnclosedPorch|Electrical_Tencode', 'GarageQual_Tencode', 'KitchenQual_Tencode|LotConfig_Tencode', 'HeatingQC_Tencode|LotConfig_Tencode', 'Alley_Tencode|2ndFlrSF', 'BsmtExposure_Tencode|HeatingQC_Tencode', 'Condition2_Tencode|Alley_Tencode', 'LandContour_Tencode|GarageCond_Tencode', 'MiscVal', 'WoodDeckSF|GarageCond_Tencode', 'BsmtCond_Tencode|Electrical_Tencode', 'LandSlope_Tencode|MSSubClass', 'GarageFinish_Tencode|LotArea', 'FireplaceQu_Tencode|Exterior1st_Tencode', 'HeatingQC_Tencode|ExterCond_Tencode', 'PavedDrive_Tencode|ExterCond_Tencode', 'MSSubClass|RoofMatl_Tencode', 'Neighborhood_Tencode|PavedDrive_Tencode', 'GrLivArea|YearBuilt', 'KitchenQual_Tencode|RoofMatl_Tencode', 'Foundation_Tencode|Heating_Tencode', 'Condition1_Tencode|MiscVal', 'MiscVal|Heating_Tencode', 'BedroomAbvGr|GarageType_Tencode', 'BsmtFinSF1|GarageCond_Tencode', 'RoofStyle_Tencode|PoolArea', 'LandSlope_Tencode|BsmtFullBath', 'MSSubClass|2ndFlrSF', 'Fence_Tencode|WoodDeckSF', 'BldgType_Tencode|MSZoning_Tencode', 'MiscFeature_Tencode|KitchenQual_Tencode', 'KitchenAbvGr|BsmtQual_Tencode', 'LotShape_Tencode|GarageCond_Tencode', 'Condition2_Tencode|MiscVal', 'PoolArea|GarageCond_Tencode', 'LotArea|PoolQC_Tencode', 'MasVnrArea|BldgType_Tencode', 'LandContour_Tencode|PavedDrive_Tencode', 'HalfBath|YrSold', 'YearBuilt|Exterior1st_Tencode', 'GarageType_Tencode|Condition1_Tencode', 'Utilities_Tencode|BsmtQual_Tencode', 'BsmtExposure_Tencode|MSSubClass', 'OverallCond|Alley_Tencode', 'EnclosedPorch|Heating_Tencode', 'Fence_Tencode|PavedDrive_Tencode', 'LowQualFinSF|TotRmsAbvGrd', 'MiscVal|HouseStyle_Tencode', 'ScreenPorch|HalfBath', 'BsmtHalfBath|LotConfig_Tencode', 'GarageArea|LotConfig_Tencode', 'BsmtFinSF1|LotConfig_Tencode', 'Condition2_Tencode|OverallQual', 'MasVnrArea|HeatingQC_Tencode', 'PavedDrive_Tencode|HouseStyle_Tencode', 'BsmtExposure_Tencode|HouseStyle_Tencode', 'Condition2_Tencode|YrSold', 'Exterior1st_Tencode|YrSold', 'ExterQual_Tencode|CentralAir_Tencode', 'LowQualFinSF|YearBuilt', 'BsmtQual_Tencode|MiscVal', 'OverallCond|MiscVal', 'CentralAir_Tencode|MiscVal', 'GarageArea|PavedDrive_Tencode', 'OverallCond|BsmtFullBath', 'BedroomAbvGr|LowQualFinSF', 'ExterQual_Tencode|BsmtHalfBath', 'BsmtHalfBath|RoofMatl_Tencode', 'Utilities_Tencode|TotalBsmtSF', 'KitchenAbvGr|SaleType_Tencode', 'Foundation_Tencode|BsmtFinSF2', 'PoolQC_Tencode|Exterior2nd_Tencode', 'LandContour_Tencode|SaleType_Tencode', 'LotShape_Tencode|GarageYrBlt', 'MasVnrType_Tencode|OpenPorchSF', 'LandSlope_Tencode|PavedDrive_Tencode', 'FullBath|BsmtQual_Tencode', 'PoolQC_Tencode|3SsnPorch', 'MiscFeature_Tencode|SaleType_Tencode', 'MasVnrArea|GarageQual_Tencode', 'BedroomAbvGr|YearBuilt', 'EnclosedPorch|PavedDrive_Tencode', 'BedroomAbvGr|ScreenPorch', 'Fireplaces|Condition1_Tencode', 'FullBath|MiscVal', 'GarageYrBlt|GarageFinish_Tencode', 'LotArea|MiscVal', 'MiscFeature_Tencode|LotConfig_Tencode', '1stFlrSF|GarageYrBlt', 'GarageYrBlt|PoolArea', 'GarageFinish_Tencode|BldgType_Tencode', '1stFlrSF|GrLivArea', 'GarageType_Tencode|BsmtFinType2_Tencode', 'HeatingQC_Tencode|WoodDeckSF', 'BsmtExposure_Tencode|GarageYrBlt', 'LotArea|HouseStyle_Tencode', 'GrLivArea|GarageCond_Tencode', 'Utilities_Tencode|SaleCondition_Tencode', 'BsmtQual_Tencode|Electrical_Tencode', 'RoofStyle_Tencode|KitchenQual_Tencode', 'Heating_Tencode|RoofMatl_Tencode', 'Foundation_Tencode|HouseStyle_Tencode', 'PoolArea|HalfBath', 'BsmtFinSF2|WoodDeckSF', 'LotShape_Tencode|KitchenQual_Tencode', 'ExterQual_Tencode|Condition1_Tencode', 'BsmtFinSF2|GarageArea', 'GarageType_Tencode|BsmtQual_Tencode', 'Utilities_Tencode|BsmtFinType2_Tencode', 'Condition2_Tencode|BsmtFinType2_Tencode', 'MiscFeature_Tencode|PavedDrive_Tencode', 'LandContour_Tencode|OpenPorchSF', 'GrLivArea|PoolArea', 'YearBuilt|RoofMatl_Tencode', 'BsmtUnfSF|ExterQual_Tencode', 'MoSold|Alley_Tencode', 'Electrical_Tencode|RoofMatl_Tencode', 'Condition2_Tencode|Street_Tencode', 'KitchenAbvGr|BsmtHalfBath', 'Functional_Tencode|PoolQC_Tencode', 'LandSlope_Tencode|LotFrontage', 'MasVnrArea|LandContour_Tencode', 'BsmtFinSF2|TotalBsmtSF', 'BsmtExposure_Tencode|Street_Tencode', 'MoSold|PoolQC_Tencode', 'Alley_Tencode|BsmtFullBath', 'Condition1_Tencode|GarageQual_Tencode', 'BsmtFinSF2|ExterCond_Tencode', 'LotShape_Tencode|LotConfig_Tencode', 'GarageArea|Heating_Tencode', 'Exterior1st_Tencode|Exterior2nd_Tencode', 'ScreenPorch|KitchenQual_Tencode', 'Foundation_Tencode|Electrical_Tencode', 'HouseStyle_Tencode|ExterCond_Tencode', 'BsmtFinType1_Tencode|Electrical_Tencode', 'CentralAir_Tencode|Electrical_Tencode', 'RoofStyle_Tencode|LandContour_Tencode', 'Condition2_Tencode|Electrical_Tencode', 'LowQualFinSF|Electrical_Tencode', 'WoodDeckSF|Exterior2nd_Tencode', 'TotalBsmtSF|BsmtFinSF1', 'FullBath|2ndFlrSF', 'MasVnrArea|BsmtHalfBath', 'BsmtFinType1_Tencode|CentralAir_Tencode', 'LandSlope_Tencode|2ndFlrSF', 'Utilities_Tencode|Neighborhood_Tencode', 'GarageType_Tencode|GarageCond_Tencode', 'BsmtExposure_Tencode|RoofMatl_Tencode', 'BsmtFinSF2|EnclosedPorch', 'BsmtFinType1_Tencode|HeatingQC_Tencode', 'Foundation_Tencode|BsmtFullBath', 'BldgType_Tencode|PavedDrive_Tencode', 'BldgType_Tencode|OpenPorchSF', 'BsmtExposure_Tencode|GarageArea', 'OverallQual|Street_Tencode', 'GrLivArea|BsmtFullBath', 'OverallCond|HalfBath', 'GrLivArea|KitchenAbvGr', 'Condition2_Tencode|LowQualFinSF', 'ScreenPorch|RoofMatl_Tencode', 'BsmtUnfSF|BldgType_Tencode', 'BldgType_Tencode|HouseStyle_Tencode', 'Functional_Tencode|BsmtQual_Tencode', 'BsmtCond_Tencode|ExterCond_Tencode', 'PoolQC_Tencode|LotConfig_Tencode', 'KitchenAbvGr|LotFrontage', 'LandContour_Tencode|3SsnPorch', 'RoofStyle_Tencode|Neighborhood_Tencode', 'BsmtHalfBath|Street_Tencode', 'Fireplaces|KitchenQual_Tencode', 'OverallQual|Functional_Tencode', 'Functional_Tencode|GarageCond_Tencode', 'KitchenAbvGr|PavedDrive_Tencode', 'TotalBsmtSF|Exterior1st_Tencode', 'BsmtFinType1_Tencode|BsmtHalfBath', 'GarageCars', 'HalfBath|LotArea', 'BsmtFinSF2|HouseStyle_Tencode', 'GarageArea|Condition1_Tencode', 'GarageCond_Tencode|LotFrontage', 'BsmtFinType1_Tencode|OpenPorchSF', 'MasVnrArea|Condition1_Tencode', 'OverallQual|LotArea', 'OverallQual|Heating_Tencode', 'BldgType_Tencode|Exterior1st_Tencode', 'BsmtFinSF1|FireplaceQu_Tencode', 'Fence_Tencode|LandSlope_Tencode', 'MiscFeature_Tencode|HalfBath', 'MiscFeature_Tencode|ExterCond_Tencode', 'MoSold|LotConfig_Tencode', 'BsmtFinType2_Tencode|YearRemodAdd', 'PoolArea|TotRmsAbvGrd', 'GarageFinish_Tencode|FireplaceQu_Tencode', 'ScreenPorch|MiscVal', 'PoolArea|FireplaceQu_Tencode', 'PavedDrive_Tencode|YrSold', 'BsmtFinType2_Tencode|HouseStyle_Tencode', 'Fence_Tencode|BsmtQual_Tencode', 'Condition1_Tencode|OpenPorchSF', 'Functional_Tencode|3SsnPorch', 'LandSlope_Tencode|Neighborhood_Tencode', 'Alley_Tencode|GarageType_Tencode', 'LotShape_Tencode|Condition1_Tencode', 'GarageYrBlt|BsmtFinType2_Tencode', 'Functional_Tencode|LotConfig_Tencode', 'Alley_Tencode|Street_Tencode', 'HeatingQC_Tencode|Condition1_Tencode', 'MiscFeature_Tencode|HeatingQC_Tencode', 'ExterQual_Tencode|Exterior2nd_Tencode', 'HalfBath|PoolQC_Tencode', 'GarageType_Tencode|TotRmsAbvGrd', 'Heating_Tencode|OpenPorchSF', 'BsmtQual_Tencode|KitchenQual_Tencode', 'GrLivArea|HalfBath', 'OverallCond|Electrical_Tencode', 'CentralAir_Tencode|3SsnPorch', 'Fence_Tencode|MSZoning_Tencode', 'FullBath|PoolArea', 'Street_Tencode|LotFrontage', 'Condition1_Tencode|PavedDrive_Tencode', 'FullBath|MSZoning_Tencode', 'WoodDeckSF|PoolArea', 'BsmtFinSF2|GarageQual_Tencode', 'GarageFinish_Tencode|GarageCars', 'GarageQual_Tencode|YrSold', 'BsmtExposure_Tencode|BsmtFinSF1', 'BsmtCond_Tencode|FireplaceQu_Tencode', 'WoodDeckSF|BsmtHalfBath', 'EnclosedPorch|OpenPorchSF', 'BsmtFinType1_Tencode|RoofStyle_Tencode', 'EnclosedPorch|Condition1_Tencode', 'MiscFeature_Tencode|CentralAir_Tencode', 'Fence_Tencode|BsmtFullBath', 'MoSold|MSSubClass', 'GarageArea|CentralAir_Tencode', 'LandSlope_Tencode|BsmtFinSF1', 'Condition2_Tencode|LotConfig_Tencode', '1stFlrSF|YrSold', 'HalfBath|MSSubClass', 'GrLivArea|MasVnrType_Tencode', 'OverallCond|LotShape_Tencode', 'BsmtFinType1_Tencode|PavedDrive_Tencode', 'BsmtHalfBath|OpenPorchSF', 'GarageType_Tencode|WoodDeckSF', 'MoSold|SaleCondition_Tencode', 'Neighborhood_Tencode', 'BldgType_Tencode|YearRemodAdd', 'GarageCond_Tencode|TotRmsAbvGrd', 'Condition2_Tencode|GarageFinish_Tencode', 'OpenPorchSF|ExterCond_Tencode', 'MiscFeature_Tencode|Heating_Tencode', 'GarageArea|GarageCars', 'GarageType_Tencode|PoolQC_Tencode', 'Fireplaces|HouseStyle_Tencode', 'Functional_Tencode|Exterior2nd_Tencode', 'Fence_Tencode|KitchenQual_Tencode', 'MasVnrArea|MSSubClass', 'BsmtFinSF2|3SsnPorch', 'GarageQual_Tencode|RoofMatl_Tencode', 'FullBath|PoolQC_Tencode', 'Condition1_Tencode|2ndFlrSF', 'Fireplaces|CentralAir_Tencode', 'BsmtUnfSF|YearRemodAdd', 'LandContour_Tencode|FireplaceQu_Tencode', '1stFlrSF|KitchenAbvGr', 'KitchenAbvGr|Neighborhood_Tencode', 'Fireplaces|HeatingQC_Tencode', 'OverallQual|Electrical_Tencode', 'Exterior1st_Tencode|RoofMatl_Tencode', 'KitchenAbvGr|PoolArea', 'BsmtFinType2_Tencode|GarageQual_Tencode', 'GarageArea|SaleType_Tencode', '1stFlrSF|GarageCond_Tencode', 'RoofStyle_Tencode|BsmtQual_Tencode', 'Fireplaces|TotRmsAbvGrd', 'BsmtFullBath|OpenPorchSF', 'MasVnrType_Tencode|PoolArea', 'PoolArea|PoolQC_Tencode', 'ScreenPorch|BsmtFinSF1', 'MasVnrArea|2ndFlrSF', 'BsmtCond_Tencode', 'Foundation_Tencode|BsmtUnfSF', 'MiscFeature_Tencode|BsmtFinSF2', 'YearRemodAdd|HouseStyle_Tencode', 'Exterior2nd_Tencode|Street_Tencode', 'KitchenQual_Tencode|YrSold', 'MiscFeature_Tencode|Exterior2nd_Tencode', 'LotShape_Tencode|LowQualFinSF', 'GarageArea|ExterQual_Tencode', 'BsmtUnfSF|Exterior2nd_Tencode', 'YearBuilt|SaleType_Tencode', '1stFlrSF|BsmtFullBath', 'LowQualFinSF|HalfBath', 'YearBuilt|Exterior2nd_Tencode', 'Utilities_Tencode|BsmtFinSF1', 'BsmtCond_Tencode|Condition1_Tencode', 'GarageType_Tencode|MSSubClass', 'GrLivArea|GarageQual_Tencode', 'GarageYrBlt', 'PoolArea|CentralAir_Tencode', 'MSSubClass|MiscVal', 'GrLivArea|LotShape_Tencode', 'BsmtUnfSF|OpenPorchSF', 'BsmtQual_Tencode|LotFrontage', 'LandSlope_Tencode|LotArea', 'WoodDeckSF|CentralAir_Tencode', 'YearRemodAdd', 'GarageYrBlt|PavedDrive_Tencode', 'ScreenPorch|Neighborhood_Tencode', 'RoofStyle_Tencode|YearRemodAdd', 'KitchenAbvGr|Electrical_Tencode', 'LotShape_Tencode|Fence_Tencode', 'Electrical_Tencode|BsmtHalfBath', 'OverallCond|SaleType_Tencode', 'Neighborhood_Tencode|YearRemodAdd', 'BedroomAbvGr|GarageFinish_Tencode', 'GarageFinish_Tencode|BsmtHalfBath', 'Condition2_Tencode|OverallCond', 'BsmtFinType1_Tencode|YrSold', 'BsmtExposure_Tencode|BsmtUnfSF', 'MasVnrType_Tencode|Heating_Tencode', 'BsmtFinType2_Tencode|CentralAir_Tencode', 'OverallQual|GarageType_Tencode', 'KitchenAbvGr|YearBuilt', 'BsmtCond_Tencode|BsmtFullBath', 'Electrical_Tencode|Heating_Tencode', 'LandContour_Tencode|BsmtHalfBath', 'ScreenPorch|Condition1_Tencode', 'MasVnrArea|Functional_Tencode', 'LandSlope_Tencode|HalfBath', 'MasVnrArea|OverallCond', 'TotalBsmtSF|MSSubClass', 'LowQualFinSF|3SsnPorch', 'BsmtFinType1_Tencode|MiscVal', 'OverallQual|ExterCond_Tencode', 'BsmtFinSF1|GarageQual_Tencode', 'OverallQual|3SsnPorch', '3SsnPorch|HouseStyle_Tencode', 'KitchenAbvGr|SaleCondition_Tencode', 'Alley_Tencode', 'BsmtFullBath|YrSold', 'KitchenQual_Tencode|MSZoning_Tencode', 'GarageYrBlt|GarageArea', 'MasVnrType_Tencode|MSZoning_Tencode', 'SaleCondition_Tencode|MSSubClass', 'BsmtFinSF1|ExterCond_Tencode', 'Foundation_Tencode|BsmtHalfBath', 'SaleType_Tencode|LotFrontage', 'HeatingQC_Tencode|OpenPorchSF', 'GrLivArea|GarageCars', 'ScreenPorch|Street_Tencode', 'PoolQC_Tencode|LotFrontage', 'PoolQC_Tencode|OpenPorchSF', 'ScreenPorch|WoodDeckSF', 'BsmtUnfSF|PoolArea', 'Neighborhood_Tencode|FireplaceQu_Tencode', 'BsmtFullBath|GarageQual_Tencode', 'TotRmsAbvGrd|Street_Tencode', 'GarageFinish_Tencode|LotConfig_Tencode', 'BsmtCond_Tencode|LandContour_Tencode', 'LandSlope_Tencode|OpenPorchSF', 'Neighborhood_Tencode|YearBuilt', 'KitchenAbvGr|GarageCars', 'BsmtExposure_Tencode|Exterior1st_Tencode', 'KitchenQual_Tencode|Condition1_Tencode', 'Fireplaces|LandContour_Tencode', 'PoolArea|LotFrontage', 'BsmtExposure_Tencode|LotConfig_Tencode', 'LandSlope_Tencode|YearBuilt', 'Foundation_Tencode|GarageQual_Tencode', 'KitchenAbvGr|BldgType_Tencode', 'Alley_Tencode|LandContour_Tencode', 'BedroomAbvGr|PavedDrive_Tencode', 'PavedDrive_Tencode|LotConfig_Tencode', 'Functional_Tencode|KitchenQual_Tencode', 'TotRmsAbvGrd|LotFrontage', 'HeatingQC_Tencode|TotRmsAbvGrd', 'MiscFeature_Tencode|BsmtFullBath', 'Foundation_Tencode|SaleCondition_Tencode', 'HeatingQC_Tencode|ExterQual_Tencode', 'Functional_Tencode|BsmtFullBath', 'BsmtQual_Tencode|GarageQual_Tencode', 'Fireplaces|Electrical_Tencode', 'Condition2_Tencode|BsmtFinSF2', '1stFlrSF|Exterior1st_Tencode', 'GarageArea|HalfBath', 'OverallQual|LotConfig_Tencode', 'Foundation_Tencode|SaleType_Tencode', '1stFlrSF|HeatingQC_Tencode', '1stFlrSF|EnclosedPorch', 'BsmtCond_Tencode|BsmtUnfSF', 'Functional_Tencode|BsmtUnfSF', '3SsnPorch|Exterior2nd_Tencode', 'GarageFinish_Tencode|Electrical_Tencode', 'BsmtQual_Tencode|RoofMatl_Tencode', 'Utilities_Tencode|Functional_Tencode', 'LotShape_Tencode|PoolQC_Tencode', 'BldgType_Tencode|YrSold', 'LowQualFinSF|BsmtHalfBath', 'GarageFinish_Tencode|YearBuilt', 'Functional_Tencode|BsmtFinSF1', 'BldgType_Tencode|LandContour_Tencode', 'LotArea|YearRemodAdd', 'Functional_Tencode|SaleType_Tencode', 'BsmtFinType1_Tencode|PoolArea', 'LandSlope_Tencode|Street_Tencode', 'BedroomAbvGr|BsmtFinType1_Tencode', 'LotShape_Tencode|HouseStyle_Tencode', 'Street_Tencode|MSZoning_Tencode', 'Fence_Tencode|TotalBsmtSF', 'BsmtCond_Tencode|Exterior1st_Tencode', 'LotArea|SaleType_Tencode', 'SaleCondition_Tencode|GarageCars', 'MSZoning_Tencode', 'GarageFinish_Tencode|ExterQual_Tencode', '1stFlrSF|TotRmsAbvGrd', 'CentralAir_Tencode|MSZoning_Tencode', 'MSSubClass|FireplaceQu_Tencode', 'Fence_Tencode|MiscVal', 'OverallQual|TotalBsmtSF', 'Condition2_Tencode|BsmtExposure_Tencode', 'GrLivArea|Heating_Tencode', 'MoSold|FireplaceQu_Tencode', 'GarageArea|MiscVal', 'GarageCond_Tencode|RoofMatl_Tencode', 'Functional_Tencode|CentralAir_Tencode', 'BsmtFinSF2|GarageCars', 'GarageYrBlt|GarageCars', 'Utilities_Tencode|HouseStyle_Tencode', 'BsmtExposure_Tencode|BsmtFullBath', 'PoolQC_Tencode|SaleType_Tencode', 'WoodDeckSF|BsmtFinSF1', 'Utilities_Tencode|MSZoning_Tencode', 'Fence_Tencode', 'YearBuilt|MSZoning_Tencode', 'GarageYrBlt|GarageCond_Tencode', 'PavedDrive_Tencode|Heating_Tencode', 'EnclosedPorch|CentralAir_Tencode', 'HeatingQC_Tencode|Neighborhood_Tencode', 'Condition2_Tencode|PoolArea', 'BsmtCond_Tencode|MSSubClass', 'LowQualFinSF|RoofMatl_Tencode', 'TotalBsmtSF|YearBuilt', 'Utilities_Tencode|BsmtFullBath', 'GarageCars|MSSubClass', 'LotShape_Tencode|PoolArea', 'BsmtFinSF2|BsmtFinType2_Tencode', '2ndFlrSF|SaleType_Tencode', 'BsmtFinSF2|BldgType_Tencode', 'GarageFinish_Tencode|GarageQual_Tencode', 'MiscFeature_Tencode|GarageQual_Tencode', 'PoolArea|MSSubClass', 'OverallQual|EnclosedPorch', 'MasVnrArea|Exterior1st_Tencode', 'GrLivArea', 'MoSold|GrLivArea', 'GarageYrBlt|Neighborhood_Tencode', 'GarageYrBlt|SaleType_Tencode', 'MasVnrArea|Utilities_Tencode', 'ExterQual_Tencode|WoodDeckSF', 'GrLivArea|BsmtFinType2_Tencode', 'Alley_Tencode|ExterCond_Tencode', 'ExterCond_Tencode|RoofMatl_Tencode', 'HeatingQC_Tencode|Exterior2nd_Tencode', 'MasVnrArea|GarageCars', 'TotalBsmtSF|BsmtQual_Tencode', 'Alley_Tencode|BsmtFinType1_Tencode', 'BsmtFinType1_Tencode|Fence_Tencode', 'GarageQual_Tencode|LotConfig_Tencode', 'GrLivArea|HouseStyle_Tencode', 'GarageArea|YrSold', 'HalfBath|Neighborhood_Tencode', 'TotalBsmtSF', 'BsmtFinSF2|Fence_Tencode', 'ExterQual_Tencode|SaleType_Tencode', 'MasVnrArea|HouseStyle_Tencode', 'OverallCond|BsmtHalfBath', 'ScreenPorch|GarageYrBlt', 'RoofStyle_Tencode|HalfBath', 'GarageCond_Tencode|FireplaceQu_Tencode', 'BsmtFullBath|LotArea', 'OverallQual|BsmtFinType1_Tencode', 'GarageYrBlt|TotalBsmtSF', 'BsmtCond_Tencode|HalfBath', 'BsmtFinSF2|LotShape_Tencode', 'MiscFeature_Tencode|TotalBsmtSF', 'GarageCond_Tencode|MSZoning_Tencode', 'Condition1_Tencode|BsmtHalfBath', 'KitchenAbvGr|Utilities_Tencode', 'BsmtCond_Tencode|LotFrontage', 'BsmtExposure_Tencode|LandContour_Tencode', 'KitchenQual_Tencode|SaleType_Tencode', 'MiscFeature_Tencode|Neighborhood_Tencode', 'GarageType_Tencode|SaleCondition_Tencode', 'Condition2_Tencode|MasVnrType_Tencode', 'BsmtQual_Tencode|MSSubClass', 'Functional_Tencode|Neighborhood_Tencode', 'FireplaceQu_Tencode|TotRmsAbvGrd', 'GarageQual_Tencode|TotRmsAbvGrd', 'LotShape_Tencode|RoofMatl_Tencode', 'BsmtFinType1_Tencode|LotConfig_Tencode', 'BsmtQual_Tencode|LotConfig_Tencode', 'GarageCars|Condition1_Tencode', 'BedroomAbvGr|BsmtFullBath', 'YrSold|MSZoning_Tencode', 'MoSold|GarageYrBlt', 'KitchenAbvGr|LowQualFinSF', 'GarageType_Tencode|GarageFinish_Tencode', 'Foundation_Tencode|WoodDeckSF', 'BsmtFinSF2|GarageCond_Tencode', 'Functional_Tencode|MSZoning_Tencode', 'MasVnrType_Tencode|LotArea', 'MoSold|PoolArea', 'KitchenAbvGr|GarageCond_Tencode', 'Utilities_Tencode|GarageCars', 'PoolQC_Tencode|YrSold', 'Condition2_Tencode|LotArea', '1stFlrSF|MSSubClass', 'FireplaceQu_Tencode|LotFrontage', 'Alley_Tencode|Functional_Tencode', 'OverallQual|PoolQC_Tencode', 'LotShape_Tencode|MiscVal', 'Electrical_Tencode|ExterCond_Tencode', 'KitchenAbvGr|2ndFlrSF', 'OverallCond|Functional_Tencode', 'LotFrontage', '1stFlrSF|BsmtHalfBath', 'LowQualFinSF|Exterior1st_Tencode', 'Condition2_Tencode|KitchenAbvGr', 'BsmtCond_Tencode|GarageFinish_Tencode', 'BsmtQual_Tencode|Street_Tencode', 'HeatingQC_Tencode|SaleType_Tencode', 'OverallQual|GarageCars', 'MasVnrArea|FireplaceQu_Tencode', 'BsmtExposure_Tencode|LandSlope_Tencode', 'YearRemodAdd|YearBuilt', 'KitchenAbvGr|GarageFinish_Tencode', 'YearRemodAdd|FireplaceQu_Tencode', 'BsmtExposure_Tencode|2ndFlrSF', 'GarageType_Tencode|HeatingQC_Tencode', 'GarageCars|ExterCond_Tencode', 'HeatingQC_Tencode|GarageQual_Tencode', 'GarageFinish_Tencode|YearRemodAdd', 'BsmtUnfSF|PoolQC_Tencode', 'Functional_Tencode|BldgType_Tencode', 'LowQualFinSF|LotArea', 'BsmtFinSF1|Street_Tencode', 'Fireplaces|ExterCond_Tencode', 'PoolQC_Tencode|Street_Tencode', 'GarageCars|MiscVal', 'Neighborhood_Tencode|MSSubClass', '2ndFlrSF|3SsnPorch', 'LotArea|MSZoning_Tencode', 'Condition2_Tencode|FireplaceQu_Tencode', 'MoSold|GarageArea', 'Neighborhood_Tencode|Heating_Tencode', 'MasVnrType_Tencode|TotRmsAbvGrd', 'PoolQC_Tencode|CentralAir_Tencode', 'GarageQual_Tencode|HouseStyle_Tencode', 'GarageArea|GarageQual_Tencode', 'Condition2_Tencode|YearRemodAdd', 'GrLivArea|YrSold', 'MoSold|BsmtFinSF2', 'FullBath|BsmtExposure_Tencode', 'OverallQual|YearBuilt', 'MoSold|LandContour_Tencode', 'GrLivArea|CentralAir_Tencode', '3SsnPorch|BsmtHalfBath', 'LandContour_Tencode|YrSold', 'BsmtQual_Tencode|FireplaceQu_Tencode', 'GrLivArea|LandSlope_Tencode', 'RoofStyle_Tencode|LotConfig_Tencode', 'Foundation_Tencode|BsmtCond_Tencode', 'WoodDeckSF|YrSold', 'Condition2_Tencode|TotRmsAbvGrd', 'HeatingQC_Tencode|LotFrontage', 'GrLivArea|Fireplaces', 'KitchenAbvGr|BsmtFullBath', 'KitchenAbvGr|BsmtFinType2_Tencode', 'HouseStyle_Tencode|LotFrontage', 'Electrical_Tencode|Exterior1st_Tencode', 'Electrical_Tencode|OpenPorchSF', 'PoolArea|Street_Tencode', 'OverallCond|GarageCond_Tencode', 'Fireplaces|Neighborhood_Tencode', 'BsmtFullBath|SaleType_Tencode', 'MoSold|Street_Tencode', 'Fireplaces|Utilities_Tencode', 'GarageCars|CentralAir_Tencode', 'FullBath|LotShape_Tencode', 'GarageCars|GarageCond_Tencode', 'FullBath|3SsnPorch', 'ScreenPorch|Heating_Tencode', 'LotArea|LotFrontage', 'Condition1_Tencode|PoolQC_Tencode', 'Foundation_Tencode|ExterCond_Tencode', 'BsmtQual_Tencode|Condition1_Tencode', 'ExterQual_Tencode|Street_Tencode', 'Foundation_Tencode|2ndFlrSF', 'Alley_Tencode|HouseStyle_Tencode', 'GarageArea|BsmtUnfSF', 'KitchenQual_Tencode|YearRemodAdd', 'YearBuilt|TotRmsAbvGrd', 'FullBath|LandSlope_Tencode', 'BsmtFullBath|LandContour_Tencode', 'MiscFeature_Tencode|LandSlope_Tencode', 'BsmtFullBath|LowQualFinSF', 'Condition2_Tencode|WoodDeckSF', 'MiscFeature_Tencode|GarageArea', 'Foundation_Tencode|CentralAir_Tencode', 'BsmtUnfSF|BsmtQual_Tencode', 'Fireplaces|BsmtQual_Tencode', 'BsmtCond_Tencode|LowQualFinSF', 'KitchenQual_Tencode|LotArea', 'LotArea|Exterior2nd_Tencode', 'BldgType_Tencode|PoolArea', 'GarageFinish_Tencode|BsmtFinSF1', 'BsmtFinSF2|Exterior1st_Tencode', 'Utilities_Tencode|MSSubClass', 'FullBath|FireplaceQu_Tencode', 'MoSold|Utilities_Tencode', 'MiscFeature_Tencode|YrSold', 'OverallCond|TotalBsmtSF', 'RoofStyle_Tencode|BsmtFullBath', 'WoodDeckSF|PavedDrive_Tencode', '2ndFlrSF|ExterCond_Tencode', 'Heating_Tencode|LotConfig_Tencode', '1stFlrSF', 'Fireplaces|WoodDeckSF', 'BsmtFinType1_Tencode|RoofMatl_Tencode', 'Exterior2nd_Tencode|SaleType_Tencode', 'Fireplaces|BsmtFinSF1', 'MoSold|BsmtCond_Tencode', '2ndFlrSF|MiscVal', 'MasVnrArea|Street_Tencode', 'BsmtFinType1_Tencode|LandContour_Tencode', 'MiscFeature_Tencode|ExterQual_Tencode', 'Functional_Tencode|GarageCars', 'GarageYrBlt|GarageQual_Tencode', 'BsmtFinSF2', 'Fence_Tencode|Exterior1st_Tencode', 'Neighborhood_Tencode|TotRmsAbvGrd', 'PoolArea|Neighborhood_Tencode', 'SaleCondition_Tencode|EnclosedPorch', 'BsmtFinType2_Tencode|Heating_Tencode', 'OverallCond|LandContour_Tencode', 'BsmtFinSF1|RoofMatl_Tencode', 'PoolArea|YearRemodAdd', 'Functional_Tencode|PoolArea', 'YrSold|LotFrontage', 'LowQualFinSF|Street_Tencode', 'FullBath|LotConfig_Tencode', 'Condition1_Tencode|SaleType_Tencode', 'TotalBsmtSF|GarageCond_Tencode', 'LotArea|GarageQual_Tencode', 'FullBath|TotalBsmtSF', 'PavedDrive_Tencode|MSZoning_Tencode', 'LotShape_Tencode|BsmtHalfBath', 'BsmtFinType2_Tencode|TotRmsAbvGrd', 'OverallCond|LotConfig_Tencode', 'GrLivArea|LandContour_Tencode', 'Fence_Tencode|PoolArea', 'GarageYrBlt|MSZoning_Tencode', 'BedroomAbvGr|MSSubClass', 'KitchenQual_Tencode|Electrical_Tencode', 'Condition1_Tencode|Heating_Tencode', 'GarageFinish_Tencode|LandContour_Tencode', 'LandSlope_Tencode|BldgType_Tencode', 'ScreenPorch|ExterQual_Tencode', 'Electrical_Tencode|LotFrontage', 'OverallQual|Exterior1st_Tencode', 'FullBath|LowQualFinSF', 'BsmtExposure_Tencode|HalfBath', 'Fence_Tencode|EnclosedPorch', 'Alley_Tencode|EnclosedPorch', 'BedroomAbvGr|Fireplaces', 'BsmtFinType1_Tencode|GarageArea', 'LowQualFinSF|LotFrontage', 'Alley_Tencode|PoolArea', 'WoodDeckSF|BsmtFinType2_Tencode', 'MiscFeature_Tencode|OpenPorchSF', 'MoSold|MiscVal', 'KitchenQual_Tencode|Heating_Tencode', 'MasVnrType_Tencode|YearRemodAdd', 'LotShape_Tencode|BsmtFullBath', 'ExterQual_Tencode|GarageCond_Tencode', 'BsmtExposure_Tencode|Electrical_Tencode', 'BsmtFinType1_Tencode|LotArea', 'BsmtFinSF2|BsmtFinSF1', 'HalfBath|YearRemodAdd', 'BsmtFinType2_Tencode|Street_Tencode', 'GarageType_Tencode|YearBuilt', 'YearBuilt|LotConfig_Tencode', 'BsmtFinSF1|PavedDrive_Tencode', 'MasVnrArea|MasVnrType_Tencode', 'OverallQual|GarageYrBlt', 'ExterCond_Tencode|LotConfig_Tencode', 'BsmtFinType2_Tencode|MSSubClass', 'WoodDeckSF|LotArea', 'TotalBsmtSF|BsmtCond_Tencode', 'HouseStyle_Tencode|SaleType_Tencode', 'LandContour_Tencode|Exterior2nd_Tencode', 'BsmtExposure_Tencode|BsmtFinSF2', 'MiscFeature_Tencode|EnclosedPorch', 'MasVnrType_Tencode|EnclosedPorch', 'BsmtQual_Tencode|PoolArea', 'RoofMatl_Tencode|LotConfig_Tencode', 'BsmtExposure_Tencode|BsmtQual_Tencode', 'FullBath|MSSubClass', 'BsmtFinSF2|OverallQual', 'Utilities_Tencode|MiscVal', 'HalfBath|OpenPorchSF', 'TotalBsmtSF|YrSold', 'Exterior2nd_Tencode|RoofMatl_Tencode', 'YearRemodAdd|SaleType_Tencode', 'BedroomAbvGr|PoolQC_Tencode', 'GarageYrBlt|HalfBath', 'Condition2_Tencode|ExterQual_Tencode', 'CentralAir_Tencode|SaleType_Tencode', 'MoSold|BedroomAbvGr', 'ExterCond_Tencode|MSZoning_Tencode', 'MiscFeature_Tencode|YearBuilt', 'BsmtExposure_Tencode|Functional_Tencode', 'ScreenPorch|RoofStyle_Tencode', 'PoolQC_Tencode|YearRemodAdd', 'BedroomAbvGr|HalfBath', 'BsmtCond_Tencode|ExterQual_Tencode', 'KitchenAbvGr|HalfBath', 'Alley_Tencode|Exterior2nd_Tencode', 'BsmtCond_Tencode|BldgType_Tencode', 'Alley_Tencode|KitchenAbvGr', 'MasVnrArea|Foundation_Tencode', 'ScreenPorch|BldgType_Tencode', 'GarageArea|Electrical_Tencode', 'Fence_Tencode|TotRmsAbvGrd', 'YearRemodAdd|BsmtHalfBath', 'MiscFeature_Tencode|Alley_Tencode', 'GarageCars|Exterior1st_Tencode', 'GarageFinish_Tencode|Exterior2nd_Tencode', '3SsnPorch|FireplaceQu_Tencode', 'MoSold|Heating_Tencode', 'BsmtExposure_Tencode|PoolArea', 'ScreenPorch|PoolQC_Tencode', 'TotalBsmtSF|BsmtHalfBath', 'GarageCars|RoofMatl_Tencode', 'BsmtFinSF1|MSSubClass', 'FullBath|MiscFeature_Tencode', 'BsmtExposure_Tencode|EnclosedPorch', 'Fence_Tencode|Neighborhood_Tencode', 'ExterQual_Tencode|BsmtFullBath', 'BsmtUnfSF|LowQualFinSF', 'GarageArea|2ndFlrSF', 'WoodDeckSF|MiscVal', 'BsmtFinType2_Tencode', 'MasVnrArea|Alley_Tencode', 'GrLivArea|TotRmsAbvGrd', 'LotArea|Street_Tencode', 'TotalBsmtSF|MSZoning_Tencode', 'GrLivArea|OpenPorchSF', 'FullBath|Electrical_Tencode', 'GarageCars|PavedDrive_Tencode', 'LotShape_Tencode|BsmtUnfSF', 'MoSold|HouseStyle_Tencode', 'GarageFinish_Tencode|EnclosedPorch', 'PavedDrive_Tencode|OpenPorchSF', 'Utilities_Tencode|YearRemodAdd', 'HeatingQC_Tencode|2ndFlrSF', 'HeatingQC_Tencode|YearRemodAdd', 'OverallCond|GarageFinish_Tencode', 'ExterCond_Tencode|YrSold', 'SaleCondition_Tencode|Exterior2nd_Tencode', 'LotShape_Tencode|OpenPorchSF', 'BsmtFinSF2|LowQualFinSF', 'Neighborhood_Tencode|Street_Tencode', 'GarageType_Tencode|Neighborhood_Tencode', 'GarageCond_Tencode|BsmtHalfBath', 'BsmtFinSF2|GarageType_Tencode', 'BsmtCond_Tencode|TotRmsAbvGrd', 'GrLivArea|OverallQual', 'ScreenPorch|BsmtFinType2_Tencode', 'SaleType_Tencode|MSZoning_Tencode', 'BsmtFullBath|BsmtHalfBath', 'MSSubClass|YrSold', 'OverallCond|Utilities_Tencode', 'HouseStyle_Tencode|MSZoning_Tencode', 'Foundation_Tencode|Fireplaces', 'FireplaceQu_Tencode|SaleType_Tencode', 'RoofStyle_Tencode|MSZoning_Tencode', 'OverallQual|HalfBath', 'BsmtFinSF2|BsmtFinType1_Tencode', 'CentralAir_Tencode|Exterior1st_Tencode', 'HeatingQC_Tencode|GarageArea', 'BsmtFinType1_Tencode|GarageCars', 'BsmtFinSF1', 'OpenPorchSF', 'GarageType_Tencode|YearRemodAdd', 'OverallCond|SaleCondition_Tencode', 'BedroomAbvGr|ExterQual_Tencode', 'LandSlope_Tencode|GarageQual_Tencode', 'GarageFinish_Tencode|Condition1_Tencode', 'LotShape_Tencode|ExterCond_Tencode', 'TotRmsAbvGrd|LotConfig_Tencode', 'KitchenQual_Tencode|LotFrontage', 'GarageCond_Tencode|SaleType_Tencode', 'Alley_Tencode|GrLivArea', 'BsmtExposure_Tencode|LotArea', 'LotShape_Tencode|TotalBsmtSF', 'OverallQual|LandContour_Tencode', 'TotalBsmtSF|SaleCondition_Tencode', 'BedroomAbvGr|MiscVal', 'WoodDeckSF|3SsnPorch', 'SaleCondition_Tencode|Electrical_Tencode', 'GarageQual_Tencode|ExterCond_Tencode', 'SaleCondition_Tencode|YearBuilt', 'BsmtExposure_Tencode|GarageType_Tencode', 'MasVnrType_Tencode|Condition1_Tencode', 'Electrical_Tencode|HouseStyle_Tencode', 'Condition2_Tencode|FullBath', 'BedroomAbvGr|KitchenQual_Tencode', 'BedroomAbvGr|PoolArea', 'ScreenPorch|BsmtUnfSF', 'Utilities_Tencode|LotArea', 'MasVnrType_Tencode|BldgType_Tencode', 'ScreenPorch|GarageQual_Tencode', 'OverallCond|BsmtQual_Tencode', 'YearRemodAdd|ExterCond_Tencode', 'BsmtQual_Tencode|TotRmsAbvGrd', 'BsmtFullBath|Electrical_Tencode', 'GarageQual_Tencode|Exterior1st_Tencode', 'Condition2_Tencode', 'LandContour_Tencode|Electrical_Tencode', 'WoodDeckSF|RoofMatl_Tencode', 'YearBuilt|FireplaceQu_Tencode', 'BsmtFinType1_Tencode|GarageFinish_Tencode', 'FullBath|BsmtFullBath', 'GarageCars|Exterior2nd_Tencode', 'MasVnrArea|LotFrontage', 'TotRmsAbvGrd|BsmtHalfBath', 'BedroomAbvGr|SaleType_Tencode', 'GarageArea|Exterior1st_Tencode', 'LandContour_Tencode|LotFrontage', 'LotShape_Tencode|Exterior2nd_Tencode', 'GrLivArea|GarageYrBlt', 'OverallCond|WoodDeckSF', '3SsnPorch|LotFrontage', 'FullBath|BsmtFinType2_Tencode', 'WoodDeckSF|Exterior1st_Tencode', 'Fence_Tencode|LandContour_Tencode', 'Utilities_Tencode|FireplaceQu_Tencode', 'OverallCond|GarageQual_Tencode', 'HouseStyle_Tencode|RoofMatl_Tencode', 'Foundation_Tencode|Exterior2nd_Tencode', 'KitchenAbvGr|ExterQual_Tencode', 'ScreenPorch|SaleCondition_Tencode', 'YearBuilt|OpenPorchSF', 'GarageYrBlt|BsmtFullBath', 'PoolArea|SaleType_Tencode', 'MasVnrArea|KitchenQual_Tencode', 'BedroomAbvGr|YearRemodAdd', 'BsmtFinType1_Tencode|EnclosedPorch', 'RoofStyle_Tencode|Condition1_Tencode', 'BsmtFinType1_Tencode|BsmtFullBath', 'GarageArea', 'BedroomAbvGr|1stFlrSF', 'Utilities_Tencode|MasVnrType_Tencode', 'KitchenQual_Tencode|PavedDrive_Tencode', 'RoofStyle_Tencode|OpenPorchSF', 'BsmtFinSF2|HalfBath', 'PavedDrive_Tencode|3SsnPorch', 'GarageCars|BsmtHalfBath', 'Alley_Tencode|Electrical_Tencode', 'GarageYrBlt|Exterior2nd_Tencode', 'PoolArea|HouseStyle_Tencode', 'HalfBath|BsmtHalfBath', 'GarageQual_Tencode|YearBuilt', 'BsmtQual_Tencode|BsmtHalfBath', 'GarageType_Tencode|EnclosedPorch', 'MiscFeature_Tencode|Foundation_Tencode', 'Foundation_Tencode|MSSubClass', 'Fireplaces|PavedDrive_Tencode', 'SaleCondition_Tencode|RoofStyle_Tencode', 'Fireplaces|GarageYrBlt', 'Condition2_Tencode|LandContour_Tencode', 'MoSold|Fireplaces', 'LotShape_Tencode|SaleType_Tencode', 'MasVnrArea|GarageType_Tencode', '2ndFlrSF|TotRmsAbvGrd', 'LandSlope_Tencode|CentralAir_Tencode', 'BsmtFinType2_Tencode|LowQualFinSF', 'KitchenQual_Tencode|MiscVal', 'MiscFeature_Tencode|MSZoning_Tencode', 'MoSold|GarageCars', 'MiscFeature_Tencode|BedroomAbvGr', 'MSSubClass|LotFrontage', 'TotalBsmtSF|RoofStyle_Tencode', 'GarageArea|FireplaceQu_Tencode', 'MSSubClass|OpenPorchSF', 'LandSlope_Tencode|MSZoning_Tencode', 'MiscFeature_Tencode|BldgType_Tencode', 'Exterior1st_Tencode|ExterCond_Tencode', 'PoolArea|Condition1_Tencode', '1stFlrSF|BsmtFinSF1', 'BsmtFinType2_Tencode|BsmtHalfBath', 'GarageType_Tencode|MasVnrType_Tencode', 'MasVnrArea|BsmtExposure_Tencode', '1stFlrSF|MasVnrType_Tencode', 'GarageType_Tencode|GarageYrBlt', 'Foundation_Tencode|EnclosedPorch', 'OverallQual|PoolArea', 'PoolArea|BsmtFullBath', 'Electrical_Tencode', 'TotalBsmtSF|FireplaceQu_Tencode', 'GarageQual_Tencode|SaleType_Tencode', 'GarageCars|Electrical_Tencode', 'MasVnrType_Tencode|ExterCond_Tencode', 'Functional_Tencode|EnclosedPorch', 'Functional_Tencode|FireplaceQu_Tencode', 'MasVnrArea|SaleType_Tencode', 'MiscFeature_Tencode|Electrical_Tencode', 'Fence_Tencode|BldgType_Tencode', 'Condition2_Tencode|GarageQual_Tencode', 'BedroomAbvGr|ExterCond_Tencode', 'LotArea|MSSubClass', 'HalfBath|SaleType_Tencode', 'PoolQC_Tencode|BsmtHalfBath', 'ExterQual_Tencode|YrSold', 'BsmtUnfSF|PavedDrive_Tencode', 'SaleCondition_Tencode|LotArea', 'Exterior1st_Tencode|LotFrontage', 'KitchenAbvGr|FireplaceQu_Tencode', 'GarageArea|SaleCondition_Tencode', 'LotShape_Tencode|RoofStyle_Tencode', 'PoolQC_Tencode|BsmtFinSF1', 'BsmtUnfSF|MSZoning_Tencode', 'MasVnrArea|LotArea', 'GarageArea|ExterCond_Tencode', 'GarageYrBlt|Street_Tencode', 'TotalBsmtSF|LotConfig_Tencode', 'BedroomAbvGr|GarageArea', 'MiscFeature_Tencode|BsmtFinType1_Tencode', 'SaleCondition_Tencode|LandSlope_Tencode', 'HalfBath|LotConfig_Tencode', 'PoolQC_Tencode|FireplaceQu_Tencode', 'OverallCond', 'BldgType_Tencode|Neighborhood_Tencode', 'MoSold', 'BsmtCond_Tencode|3SsnPorch', 'Utilities_Tencode|Exterior1st_Tencode', 'EnclosedPorch|LotArea', 'Fireplaces|LowQualFinSF', 'Fireplaces|Functional_Tencode', 'OverallCond|BsmtFinType2_Tencode', 'GarageCond_Tencode|3SsnPorch', 'BsmtExposure_Tencode|PoolQC_Tencode', 'LandContour_Tencode|Heating_Tencode', 'KitchenAbvGr|GarageArea', 'GarageQual_Tencode|Heating_Tencode', 'Exterior2nd_Tencode|OpenPorchSF', '2ndFlrSF|GarageCond_Tencode', 'ScreenPorch|Fence_Tencode', 'Alley_Tencode|HeatingQC_Tencode', 'GarageYrBlt|Exterior1st_Tencode', 'Alley_Tencode|PoolQC_Tencode', '1stFlrSF|Street_Tencode', 'Condition1_Tencode|3SsnPorch', 'Alley_Tencode|OverallQual', 'OverallCond|HeatingQC_Tencode', 'LandContour_Tencode|MiscVal', 'Utilities_Tencode|2ndFlrSF', 'GarageFinish_Tencode|2ndFlrSF', 'MasVnrType_Tencode|FireplaceQu_Tencode', '1stFlrSF|TotalBsmtSF', 'Heating_Tencode|TotRmsAbvGrd', 'GrLivArea|HeatingQC_Tencode', 'Alley_Tencode|TotRmsAbvGrd', 'RoofStyle_Tencode|BsmtFinType2_Tencode', 'GarageArea|GarageCond_Tencode', 'Fireplaces|PoolQC_Tencode', 'ScreenPorch|YrSold', 'BsmtFullBath|Condition1_Tencode', 'OverallCond|Foundation_Tencode', 'MSSubClass|MSZoning_Tencode', 'MSSubClass|CentralAir_Tencode', 'Foundation_Tencode|YrSold', 'ExterQual_Tencode|RoofMatl_Tencode', 'MSZoning_Tencode|LotFrontage', 'Foundation_Tencode|Exterior1st_Tencode', 'MasVnrArea|BsmtCond_Tencode', 'OpenPorchSF|SaleType_Tencode', 'RoofStyle_Tencode|HouseStyle_Tencode', 'BsmtCond_Tencode|BsmtFinSF1', 'HalfBath|Exterior2nd_Tencode', 'BsmtUnfSF|LotConfig_Tencode', 'GarageArea|YearBuilt', 'Heating_Tencode|YrSold', 'HalfBath|HouseStyle_Tencode', 'GarageFinish_Tencode|PoolArea', 'BsmtFinType2_Tencode|SaleType_Tencode', 'GrLivArea|BsmtHalfBath', 'KitchenQual_Tencode|Neighborhood_Tencode', 'GarageFinish_Tencode|OpenPorchSF', 'BsmtQual_Tencode|HalfBath', '1stFlrSF|RoofStyle_Tencode', 'LotShape_Tencode|GarageType_Tencode', 'Fence_Tencode|LowQualFinSF', 'BsmtFinType1_Tencode|LandSlope_Tencode', 'SaleCondition_Tencode|PavedDrive_Tencode', 'KitchenQual_Tencode|FireplaceQu_Tencode', 'BsmtExposure_Tencode|Utilities_Tencode', 'LandContour_Tencode|YearBuilt', 'MasVnrType_Tencode|BsmtQual_Tencode', 'BsmtQual_Tencode|PavedDrive_Tencode', 'BldgType_Tencode|BsmtHalfBath', 'GarageQual_Tencode|Exterior2nd_Tencode', 'GarageArea|PoolQC_Tencode', 'GarageCars|TotRmsAbvGrd', 'OverallQual|BldgType_Tencode', '2ndFlrSF|Exterior1st_Tencode', 'TotalBsmtSF|HalfBath', 'Foundation_Tencode|HalfBath', 'TotalBsmtSF|YearRemodAdd', 'EnclosedPorch|RoofMatl_Tencode', 'OverallQual|YrSold', 'BsmtCond_Tencode|HouseStyle_Tencode', 'Alley_Tencode|Exterior1st_Tencode', 'Neighborhood_Tencode|2ndFlrSF', 'ScreenPorch|EnclosedPorch', 'OverallQual|LotFrontage', 'Utilities_Tencode|LotConfig_Tencode', 'BsmtCond_Tencode|MSZoning_Tencode', 'CentralAir_Tencode|GarageCond_Tencode', 'Exterior1st_Tencode|Street_Tencode', 'PoolQC_Tencode|2ndFlrSF', 'MasVnrType_Tencode|GarageFinish_Tencode', 'ExterQual_Tencode|BsmtFinType2_Tencode', '1stFlrSF|YearRemodAdd', 'ScreenPorch|FireplaceQu_Tencode', 'Condition2_Tencode|BsmtFullBath', 'BsmtUnfSF|EnclosedPorch', 'ExterCond_Tencode|SaleType_Tencode', 'CentralAir_Tencode|2ndFlrSF', 'BsmtFullBath', 'BsmtFinType1_Tencode|Condition1_Tencode', 'OverallCond|BsmtFinSF2', 'LandSlope_Tencode|LandContour_Tencode', 'MasVnrArea|LotConfig_Tencode', 'MiscFeature_Tencode|OverallCond', 'Alley_Tencode|MasVnrType_Tencode', 'Utilities_Tencode|LotFrontage', 'LotShape_Tencode|CentralAir_Tencode', 'FullBath|GarageCars', 'OpenPorchSF|LotFrontage', 'PavedDrive_Tencode|BsmtHalfBath', 'GarageCond_Tencode|LotConfig_Tencode', 'HalfBath|GarageCond_Tencode', 'Neighborhood_Tencode|RoofMatl_Tencode', 'CentralAir_Tencode|OpenPorchSF', 'OverallQual|Fireplaces', '1stFlrSF|BsmtFinSF2', 'BedroomAbvGr|LotFrontage', '1stFlrSF|LotFrontage', 'BsmtFullBath|GarageCond_Tencode', 'GarageCars|3SsnPorch', 'FireplaceQu_Tencode|Heating_Tencode', 'KitchenQual_Tencode|OpenPorchSF', 'YearRemodAdd|LotFrontage', 'RoofStyle_Tencode|CentralAir_Tencode', 'YearRemodAdd|RoofMatl_Tencode', 'Condition2_Tencode|HouseStyle_Tencode', 'Condition2_Tencode|GarageArea', 'Foundation_Tencode|PavedDrive_Tencode', 'MiscVal|Street_Tencode', 'FullBath|Exterior2nd_Tencode', '1stFlrSF|2ndFlrSF', 'Condition2_Tencode|Exterior2nd_Tencode', 'MasVnrArea|RoofStyle_Tencode', 'LandSlope_Tencode|Condition1_Tencode', 'WoodDeckSF|TotRmsAbvGrd', 'ExterQual_Tencode|FireplaceQu_Tencode', 'TotalBsmtSF|BsmtFullBath', 'BsmtFinType1_Tencode|2ndFlrSF', 'Exterior1st_Tencode|HouseStyle_Tencode', '3SsnPorch|YrSold', 'Exterior1st_Tencode', 'HeatingQC_Tencode|MiscVal', 'PoolArea', 'LowQualFinSF|YrSold', 'YearRemodAdd|YrSold', 'FullBath|LotFrontage', 'Condition2_Tencode|HalfBath', 'BsmtQual_Tencode|Neighborhood_Tencode', 'FullBath|OverallQual', 'BsmtCond_Tencode|YrSold', 'MoSold|GarageType_Tencode', 'PoolArea|Exterior2nd_Tencode', 'BsmtFullBath|YearBuilt', 'LotShape_Tencode|YearBuilt', 'Condition1_Tencode|LotConfig_Tencode', 'CentralAir_Tencode|BsmtHalfBath', 'OverallCond|BsmtCond_Tencode', 'LandContour_Tencode', 'Foundation_Tencode|TotRmsAbvGrd', 'OverallCond|BedroomAbvGr', 'Foundation_Tencode|HeatingQC_Tencode', 'PoolArea|YearBuilt', 'PoolQC_Tencode|MSSubClass', 'Neighborhood_Tencode|MSZoning_Tencode', 'Alley_Tencode|Foundation_Tencode', 'OverallQual|RoofMatl_Tencode', '3SsnPorch|ExterCond_Tencode', 'CentralAir_Tencode|LotConfig_Tencode', 'LotArea|ExterCond_Tencode', 'Condition2_Tencode|MoSold', 'GarageCars|LotFrontage', 'EnclosedPorch|TotRmsAbvGrd', 'HalfBath|FireplaceQu_Tencode', 'MoSold|ExterQual_Tencode', 'BsmtFinSF1|3SsnPorch', '1stFlrSF|Electrical_Tencode', 'BsmtExposure_Tencode|LowQualFinSF', 'ScreenPorch|BsmtExposure_Tencode', 'MoSold|2ndFlrSF', 'Functional_Tencode|HouseStyle_Tencode', 'OverallQual|HeatingQC_Tencode', 'BsmtFinSF1|HouseStyle_Tencode', 'MasVnrArea|BsmtFinSF2', 'KitchenAbvGr|LotShape_Tencode', 'TotRmsAbvGrd|Exterior2nd_Tencode', 'KitchenAbvGr|RoofStyle_Tencode', 'MiscFeature_Tencode|ScreenPorch', 'OverallCond|GarageArea', 'EnclosedPorch|BsmtFinType2_Tencode', 'BedroomAbvGr|Utilities_Tencode', 'GarageQual_Tencode|FireplaceQu_Tencode', 'MoSold|YrSold', 'GarageType_Tencode|2ndFlrSF', 'ExterQual_Tencode|BldgType_Tencode', 'Fireplaces|GarageCars', 'KitchenAbvGr|MiscVal', 'BsmtCond_Tencode|OpenPorchSF', 'HeatingQC_Tencode|LandSlope_Tencode', 'BldgType_Tencode|3SsnPorch', 'PoolQC_Tencode|RoofMatl_Tencode', 'Fireplaces|Fence_Tencode', 'KitchenAbvGr|HouseStyle_Tencode', '3SsnPorch|Exterior1st_Tencode', 'GrLivArea|KitchenQual_Tencode', 'YearBuilt|GarageCond_Tencode', 'GrLivArea|Condition1_Tencode', 'MasVnrType_Tencode|LotConfig_Tencode', 'GarageFinish_Tencode|BsmtQual_Tencode', '1stFlrSF|LotArea', '1stFlrSF|CentralAir_Tencode', 'ScreenPorch', 'MasVnrType_Tencode|BsmtFinSF1', 'BsmtFinType2_Tencode|FireplaceQu_Tencode', 'WoodDeckSF|MSZoning_Tencode', 'KitchenAbvGr|HeatingQC_Tencode', 'Foundation_Tencode|Neighborhood_Tencode', 'Fireplaces|PoolArea', 'GarageQual_Tencode|PavedDrive_Tencode', 'FullBath|ScreenPorch', 'BsmtFinSF1|Exterior1st_Tencode', 'BsmtQual_Tencode|3SsnPorch', 'GarageCars|YrSold', 'Functional_Tencode|LotFrontage', 'MiscFeature_Tencode|MoSold', 'MoSold|RoofMatl_Tencode', 'BsmtFinType1_Tencode', 'EnclosedPorch|SaleType_Tencode', 'LandSlope_Tencode|FireplaceQu_Tencode', 'FullBath|SaleType_Tencode', 'GrLivArea|BsmtFinType1_Tencode', 'MasVnrArea|MiscFeature_Tencode', 'MoSold|TotalBsmtSF', 'Electrical_Tencode|YearBuilt', 'FullBath|KitchenAbvGr', 'KitchenAbvGr|OverallQual', 'GarageType_Tencode|ExterQual_Tencode', 'MiscFeature_Tencode|MSSubClass', 'Foundation_Tencode|GarageYrBlt', 'YearRemodAdd|3SsnPorch', 'BsmtExposure_Tencode|Condition1_Tencode', 'Alley_Tencode|MiscVal', 'KitchenQual_Tencode|BsmtFullBath', 'MasVnrType_Tencode|Exterior1st_Tencode', 'MoSold|OverallCond', 'KitchenQual_Tencode', 'Condition2_Tencode|MSSubClass', 'PoolArea|KitchenQual_Tencode', 'Utilities_Tencode|YearBuilt', 'KitchenQual_Tencode|LandContour_Tencode', 'TotalBsmtSF|Street_Tencode', 'TotalBsmtSF|Condition1_Tencode', 'YearRemodAdd|Heating_Tencode', 'LandContour_Tencode|LotConfig_Tencode', 'Functional_Tencode|2ndFlrSF', 'YearBuilt|YrSold', 'MSSubClass|TotRmsAbvGrd', 'BsmtExposure_Tencode|PavedDrive_Tencode', 'RoofStyle_Tencode|PoolQC_Tencode', 'BsmtExposure_Tencode|MSZoning_Tencode', 'LandSlope_Tencode|Electrical_Tencode', 'MasVnrType_Tencode|LandSlope_Tencode', 'Condition2_Tencode|GarageCars', 'LowQualFinSF|BsmtFinSF1', 'Condition2_Tencode|GarageYrBlt', 'Neighborhood_Tencode|GarageQual_Tencode', 'FireplaceQu_Tencode|MSZoning_Tencode', 'BsmtExposure_Tencode|GarageQual_Tencode', 'BsmtUnfSF|Exterior1st_Tencode', 'GarageQual_Tencode|Street_Tencode', 'OpenPorchSF|MSZoning_Tencode', 'Utilities_Tencode|LowQualFinSF', 'PoolArea|RoofMatl_Tencode', 'WoodDeckSF|FireplaceQu_Tencode', 'FireplaceQu_Tencode|Street_Tencode', 'CentralAir_Tencode', 'PoolArea|LotArea', 'Fence_Tencode|MasVnrType_Tencode', 'Fence_Tencode|Exterior2nd_Tencode', 'BsmtFinSF1|YrSold', 'KitchenAbvGr|GarageType_Tencode', 'GarageQual_Tencode|MSZoning_Tencode', 'BldgType_Tencode|FireplaceQu_Tencode', 'PavedDrive_Tencode', '1stFlrSF|Alley_Tencode', 'MiscVal|Exterior2nd_Tencode', 'TotRmsAbvGrd|ExterCond_Tencode', 'LotShape_Tencode|PavedDrive_Tencode', 'RoofStyle_Tencode|RoofMatl_Tencode', 'GrLivArea|3SsnPorch', 'MSSubClass|Exterior2nd_Tencode', 'EnclosedPorch|HalfBath', 'BsmtFinSF2|Heating_Tencode', 'MoSold|KitchenAbvGr', 'ExterCond_Tencode', 'BedroomAbvGr|Exterior2nd_Tencode', '1stFlrSF|SaleType_Tencode', 'TotalBsmtSF|GarageCars', 'HalfBath|Exterior1st_Tencode', 'ExterQual_Tencode|YearRemodAdd', 'Alley_Tencode|GarageYrBlt', 'HalfBath|Street_Tencode', 'BsmtHalfBath|YrSold', 'FullBath|YearRemodAdd', 'RoofStyle_Tencode|LowQualFinSF', 'HeatingQC_Tencode|LandContour_Tencode']\n",
      "\n",
      "Categorical = ['ExterQual', 'MasVnrType', 'SaleType', 'LandSlope', 'Alley', 'LandContour', 'Functional', 'Condition1', 'Condition2', 'GarageType', 'ExterCond', 'BldgType', 'Electrical', 'MSZoning', 'SaleCondition', 'PavedDrive', 'Heating', 'MiscFeature', 'GarageFinish', 'BsmtQual', 'BsmtCond', 'LotShape', 'KitchenQual', 'GarageQual', 'HouseStyle', 'HeatingQC', 'BsmtFinType1', 'FireplaceQu', 'RoofStyle', 'GarageCond', 'Exterior1st', 'Fence', 'BsmtExposure', 'Neighborhood', 'Exterior2nd', 'BsmtFinType2', 'Street', 'RoofMatl', 'LotConfig', 'Utilities', 'PoolQC', 'Foundation', 'CentralAir']\n"
     ]
    }
   ],
   "source": [
    "encoded_combined_nums, cats = get_type_lists(frame=train)"
   ]
  },
  {
   "cell_type": "code",
   "execution_count": 16,
   "metadata": {
    "collapsed": false,
    "deletable": true,
    "editable": true
   },
   "outputs": [
    {
     "name": "stdout",
     "output_type": "stream",
     "text": [
      "True\n",
      "True\n"
     ]
    }
   ],
   "source": [
    "# check number of created variables is correct\n",
    "# 1 id column, 1 target column, 79 original + encoded numeric columns, 43 original categorical variables\n",
    "# sum(range(1, 79)) combined variables\n",
    "print(train.shape == (1001, sum(range(1, 79), (79 + 43 + 1 + 1))))\n",
    "print(test.shape == (1459, sum(range(1, 79), (79 + 43 + 1))))"
   ]
  },
  {
   "cell_type": "code",
   "execution_count": 17,
   "metadata": {
    "collapsed": false,
    "deletable": true,
    "editable": true
   },
   "outputs": [
    {
     "data": {
      "text/html": [
       "<table>\n",
       "<thead>\n",
       "<tr><th style=\"text-align: right;\">  LotArea</th><th style=\"text-align: right;\">  3SsnPorch</th><th style=\"text-align: right;\">  LotArea|3SsnPorch</th></tr>\n",
       "</thead>\n",
       "<tbody>\n",
       "<tr><td style=\"text-align: right;\">    11275</td><td style=\"text-align: right;\">          0</td><td style=\"text-align: right;\">                  0</td></tr>\n",
       "</tbody>\n",
       "</table>"
      ]
     },
     "metadata": {},
     "output_type": "display_data"
    },
    {
     "name": "stdout",
     "output_type": "stream",
     "text": [
      "\n"
     ]
    },
    {
     "data": {
      "text/html": [
       "<table>\n",
       "<thead>\n",
       "<tr><th style=\"text-align: right;\">  LotArea</th><th style=\"text-align: right;\">  3SsnPorch</th><th style=\"text-align: right;\">  LotArea|3SsnPorch</th></tr>\n",
       "</thead>\n",
       "<tbody>\n",
       "<tr><td style=\"text-align: right;\">     9000</td><td style=\"text-align: right;\">          0</td><td style=\"text-align: right;\">                  0</td></tr>\n",
       "</tbody>\n",
       "</table>"
      ]
     },
     "metadata": {},
     "output_type": "display_data"
    },
    {
     "name": "stdout",
     "output_type": "stream",
     "text": [
      "\n",
      "0.0\n",
      "0.0\n"
     ]
    }
   ],
   "source": [
    "# check multiplication for a random column\n",
    "ridx = np.random.choice(sum(range(1, 79)))\n",
    "combined_only = [name for name in encoded_combined_nums if name not in encoded_nums]\n",
    "combined_check_vars = combined_only[ridx].split('|')\n",
    "combined_check_vars.append(combined_only[ridx])\n",
    "\n",
    "print(train[736, combined_check_vars])\n",
    "print(test[637, combined_check_vars])\n",
    "\n",
    "print(train[736, combined_check_vars[0]]*train[736, combined_check_vars[1]])\n",
    "print(test[637, combined_check_vars[0]]*test[637, combined_check_vars[1]])"
   ]
  },
  {
   "cell_type": "markdown",
   "metadata": {
    "deletable": true,
    "editable": true
   },
   "source": [
    "## Train constituent models (for inspection purposes)"
   ]
  },
  {
   "cell_type": "code",
   "execution_count": 18,
   "metadata": {
    "collapsed": false,
    "deletable": true,
    "editable": true
   },
   "outputs": [],
   "source": [
    "h2o.show_progress()                                          # turn on progress bars\n",
    "from h2o.estimators.glm import H2OGeneralizedLinearEstimator # import GLM models\n",
    "from h2o.grid.grid_search import H2OGridSearch               # grid search"
   ]
  },
  {
   "cell_type": "code",
   "execution_count": 19,
   "metadata": {
    "collapsed": false,
    "deletable": true,
    "editable": true
   },
   "outputs": [
    {
     "data": {
      "text/html": [
       "<table>\n",
       "<thead>\n",
       "<tr><th style=\"text-align: right;\">  SalePrice</th></tr>\n",
       "</thead>\n",
       "<tbody>\n",
       "<tr><td style=\"text-align: right;\">    12.2477</td></tr>\n",
       "<tr><td style=\"text-align: right;\">    12.109 </td></tr>\n",
       "<tr><td style=\"text-align: right;\">    12.3172</td></tr>\n",
       "</tbody>\n",
       "</table>"
      ]
     },
     "metadata": {},
     "output_type": "display_data"
    },
    {
     "name": "stdout",
     "output_type": "stream",
     "text": [
      "\n"
     ]
    },
    {
     "data": {
      "image/png": "[encoded data removed]",
      "text/plain": [
       "<matplotlib.figure.Figure at 0x1183dc0f0>"
      ]
     },
     "metadata": {},
     "output_type": "display_data"
    }
   ],
   "source": [
    "# Check log transform - looks good\n",
    "%matplotlib inline\n",
    "train['SalePrice'].log().as_data_frame().hist()\n",
    "\n",
    "# Execute log transform\n",
    "train['SalePrice'] = train['SalePrice'].log()\n",
    "valid['SalePrice'] = valid['SalePrice'].log()\n",
    "print(train[0:3, 'SalePrice'])"
   ]
  },
  {
   "cell_type": "markdown",
   "metadata": {
    "deletable": true,
    "editable": true
   },
   "source": [
    "#### Split training data"
   ]
  },
  {
   "cell_type": "code",
   "execution_count": 20,
   "metadata": {
    "collapsed": false,
    "deletable": true,
    "editable": true
   },
   "outputs": [
    {
     "name": "stdout",
     "output_type": "stream",
     "text": [
      "(504, 3205)\n",
      "(230, 3205)\n",
      "(497, 3205)\n",
      "(229, 3205)\n"
     ]
    }
   ],
   "source": [
    "base_train, stack_train = train.split_frame([0.5], seed=12345)\n",
    "base_valid, stack_valid = valid.split_frame([0.5], seed=12345)\n",
    "print(base_train.shape)\n",
    "print(base_valid.shape)\n",
    "print(stack_train.shape)\n",
    "print(stack_valid.shape)"
   ]
  },
  {
   "cell_type": "markdown",
   "metadata": {
    "deletable": true,
    "editable": true
   },
   "source": [
    "#### Define model with grid search function"
   ]
  },
  {
   "cell_type": "code",
   "execution_count": 21,
   "metadata": {
    "collapsed": true,
    "deletable": true,
    "editable": true
   },
   "outputs": [],
   "source": [
    "def glm_grid(X, y, train, valid):\n",
    "    \n",
    "    \"\"\" Wrapper function for penalized GLM with alpha and lambda search.\n",
    "    \n",
    "    :param X: List of inputs.\n",
    "    :param y: Name of target variable.\n",
    "    :param train: Name of training H2OFrame.\n",
    "    :param valid: Name of validation H2OFrame.\n",
    "    :return: Best H2Omodel from H2OGeneralizedLinearEstimator\n",
    "\n",
    "    \"\"\"\n",
    "    \n",
    "    alpha_opts = [0.01, 0.25, 0.5, 0.99] # always keep some L2\n",
    "    hyper_parameters = {\"alpha\":alpha_opts}\n",
    "\n",
    "    # initialize grid search\n",
    "    grid = H2OGridSearch(\n",
    "        H2OGeneralizedLinearEstimator(\n",
    "            family=\"gaussian\",\n",
    "            lambda_search=True,\n",
    "            seed=12345),\n",
    "        hyper_params=hyper_parameters)\n",
    "    \n",
    "    # train grid\n",
    "    grid.train(y=y,\n",
    "               x=X, \n",
    "               training_frame=train,\n",
    "               validation_frame=valid)\n",
    "\n",
    "    # show grid search results\n",
    "    print(grid.show())\n",
    "\n",
    "    best = grid.get_grid()[0]\n",
    "    print(best)\n",
    "    \n",
    "    # plot top frame values\n",
    "    yhat_frame = valid.cbind(best.predict(valid))\n",
    "    print(yhat_frame[0:10, [y, 'predict']])\n",
    "\n",
    "    # plot sorted predictions\n",
    "    yhat_frame_df = yhat_frame[[y, 'predict']].as_data_frame()\n",
    "    yhat_frame_df.sort_values(by='predict', inplace=True)\n",
    "    yhat_frame_df.reset_index(inplace=True, drop=True)\n",
    "    _ = yhat_frame_df.plot(title='Ranked Predictions Plot')\n",
    "    \n",
    "    # select best model\n",
    "    return best\n"
   ]
  },
  {
   "cell_type": "markdown",
   "metadata": {
    "deletable": true,
    "editable": true
   },
   "source": [
    "## Train base level models"
   ]
  },
  {
   "cell_type": "markdown",
   "metadata": {
    "deletable": true,
    "editable": true
   },
   "source": [
    "#### First model on original numeric inputs"
   ]
  },
  {
   "cell_type": "code",
   "execution_count": 22,
   "metadata": {
    "collapsed": false,
    "deletable": true,
    "editable": true
   },
   "outputs": [
    {
     "name": "stdout",
     "output_type": "stream",
     "text": [
      "glm Grid Build progress: |████████████████████████████████████████████████| 100%\n",
      "      alpha                                                      model_ids  \\\n",
      "0    [0.99]  Grid_GLM_py_287_sid_83be_model_python_1496514712697_1_model_3   \n",
      "1     [0.5]  Grid_GLM_py_287_sid_83be_model_python_1496514712697_1_model_2   \n",
      "2    [0.25]  Grid_GLM_py_287_sid_83be_model_python_1496514712697_1_model_1   \n",
      "3    [0.01]  Grid_GLM_py_287_sid_83be_model_python_1496514712697_1_model_0   \n",
      "\n",
      "   residual_deviance  \n",
      "0  4.025940991543426  \n",
      "1  4.037235202840883  \n",
      "2  4.058507339499796  \n",
      "3  4.491994155264081  \n",
      "None\n",
      "Model Details\n",
      "=============\n",
      "H2OGeneralizedLinearEstimator :  Generalized Linear Modeling\n",
      "Model Key:  Grid_GLM_py_287_sid_83be_model_python_1496514712697_1_model_3\n",
      "GLM Model: summary\n",
      "\n"
     ]
    },
    {
     "data": {
      "text/html": [
       "<div style=\"overflow:auto\"><table style=\"width:50%\"><tr><td><b></b></td>\n",
       "<td><b>family</b></td>\n",
       "<td><b>link</b></td>\n",
       "<td><b>regularization</b></td>\n",
       "<td><b>lambda_search</b></td>\n",
       "<td><b>number_of_predictors_total</b></td>\n",
       "<td><b>number_of_active_predictors</b></td>\n",
       "<td><b>number_of_iterations</b></td>\n",
       "<td><b>training_frame</b></td></tr>\n",
       "<tr><td></td>\n",
       "<td>gaussian</td>\n",
       "<td>identity</td>\n",
       "<td>Elastic Net (alpha = 0.99, lambda = 0.006584 )</td>\n",
       "<td>nlambda = 100, lambda.max = 0.3277, lambda.min = 0.006584, lambda.1se = -1.0</td>\n",
       "<td>36</td>\n",
       "<td>24</td>\n",
       "<td>0</td>\n",
       "<td>py_287_sid_83be</td></tr></table></div>"
      ],
      "text/plain": [
       "    family    link      regularization                                  lambda_search                                                                 number_of_predictors_total    number_of_active_predictors    number_of_iterations    training_frame\n",
       "--  --------  --------  ----------------------------------------------  ----------------------------------------------------------------------------  ----------------------------  -----------------------------  ----------------------  ----------------\n",
       "    gaussian  identity  Elastic Net (alpha = 0.99, lambda = 0.006584 )  nlambda = 100, lambda.max = 0.3277, lambda.min = 0.006584, lambda.1se = -1.0  36                            24                             0                       py_287_sid_83be"
      ]
     },
     "metadata": {},
     "output_type": "display_data"
    },
    {
     "name": "stdout",
     "output_type": "stream",
     "text": [
      "\n",
      "\n",
      "ModelMetricsRegressionGLM: glm\n",
      "** Reported on train data. **\n",
      "\n",
      "MSE: 0.021564404839388217\n",
      "RMSE: 0.146848237440523\n",
      "MAE: 0.09686367637083063\n",
      "RMSLE: 0.011364228341693757\n",
      "R^2: 0.862319569887144\n",
      "Mean Residual Deviance: 0.021564404839388217\n",
      "Null degrees of freedom: 503\n",
      "Residual degrees of freedom: 479\n",
      "Null deviance: 78.93975948609085\n",
      "Residual deviance: 10.868460039051662\n",
      "AIC: -451.41242737800724\n",
      "\n",
      "ModelMetricsRegressionGLM: glm\n",
      "** Reported on validation data. **\n",
      "\n",
      "MSE: 0.017504091267580114\n",
      "RMSE: 0.1323030281874913\n",
      "MAE: 0.09463802529252507\n",
      "RMSLE: 0.010248815547846181\n",
      "R^2: 0.8820493204228329\n",
      "Mean Residual Deviance: 0.017504091267580114\n",
      "Null degrees of freedom: 229\n",
      "Residual degrees of freedom: 205\n",
      "Null deviance: 34.66875782373327\n",
      "Residual deviance: 4.025940991543426\n",
      "AIC: -225.71202161711267\n",
      "Scoring History: \n"
     ]
    },
    {
     "data": {
      "text/html": [
       "<div style=\"overflow:auto\"><table style=\"width:50%\"><tr><td><b></b></td>\n",
       "<td><b>timestamp</b></td>\n",
       "<td><b>duration</b></td>\n",
       "<td><b>iteration</b></td>\n",
       "<td><b>lambda</b></td>\n",
       "<td><b>predictors</b></td>\n",
       "<td><b>deviance_train</b></td>\n",
       "<td><b>deviance_test</b></td></tr>\n",
       "<tr><td></td>\n",
       "<td>2017-06-03 14:32:56</td>\n",
       "<td> 0.000 sec</td>\n",
       "<td>0</td>\n",
       "<td>.31E0</td>\n",
       "<td>2</td>\n",
       "<td>0.1472858</td>\n",
       "<td>0.1420261</td></tr>\n",
       "<tr><td></td>\n",
       "<td>2017-06-03 14:32:56</td>\n",
       "<td> 0.001 sec</td>\n",
       "<td>0</td>\n",
       "<td>.3E0</td>\n",
       "<td>2</td>\n",
       "<td>0.1387711</td>\n",
       "<td>0.1340858</td></tr>\n",
       "<tr><td></td>\n",
       "<td>2017-06-03 14:32:56</td>\n",
       "<td> 0.002 sec</td>\n",
       "<td>0</td>\n",
       "<td>.29E0</td>\n",
       "<td>2</td>\n",
       "<td>0.1310096</td>\n",
       "<td>0.1268453</td></tr>\n",
       "<tr><td></td>\n",
       "<td>2017-06-03 14:32:56</td>\n",
       "<td> 0.003 sec</td>\n",
       "<td>0</td>\n",
       "<td>.27E0</td>\n",
       "<td>2</td>\n",
       "<td>0.1239348</td>\n",
       "<td>0.1202429</td></tr>\n",
       "<tr><td></td>\n",
       "<td>2017-06-03 14:32:56</td>\n",
       "<td> 0.003 sec</td>\n",
       "<td>0</td>\n",
       "<td>.26E0</td>\n",
       "<td>2</td>\n",
       "<td>0.1174861</td>\n",
       "<td>0.1142224</td></tr>\n",
       "<tr><td>---</td>\n",
       "<td>---</td>\n",
       "<td>---</td>\n",
       "<td>---</td>\n",
       "<td>---</td>\n",
       "<td>---</td>\n",
       "<td>---</td>\n",
       "<td>---</td></tr>\n",
       "<tr><td></td>\n",
       "<td>2017-06-03 14:32:56</td>\n",
       "<td> 0.116 sec</td>\n",
       "<td>0</td>\n",
       "<td>.39E-2</td>\n",
       "<td>28</td>\n",
       "<td>0.0211140</td>\n",
       "<td>0.0177064</td></tr>\n",
       "<tr><td></td>\n",
       "<td>2017-06-03 14:32:56</td>\n",
       "<td> 0.118 sec</td>\n",
       "<td>0</td>\n",
       "<td>.38E-2</td>\n",
       "<td>29</td>\n",
       "<td>0.0210799</td>\n",
       "<td>0.0177301</td></tr>\n",
       "<tr><td></td>\n",
       "<td>2017-06-03 14:32:56</td>\n",
       "<td> 0.119 sec</td>\n",
       "<td>0</td>\n",
       "<td>.36E-2</td>\n",
       "<td>30</td>\n",
       "<td>0.0210495</td>\n",
       "<td>0.0177502</td></tr>\n",
       "<tr><td></td>\n",
       "<td>2017-06-03 14:32:56</td>\n",
       "<td> 0.121 sec</td>\n",
       "<td>0</td>\n",
       "<td>.34E-2</td>\n",
       "<td>30</td>\n",
       "<td>0.0210200</td>\n",
       "<td>0.0177665</td></tr>\n",
       "<tr><td></td>\n",
       "<td>2017-06-03 14:32:56</td>\n",
       "<td> 0.123 sec</td>\n",
       "<td>0</td>\n",
       "<td>.33E-2</td>\n",
       "<td>31</td>\n",
       "<td>0.0209917</td>\n",
       "<td>0.0177857</td></tr></table></div>"
      ],
      "text/plain": [
       "     timestamp            duration    iteration    lambda    predictors    deviance_train        deviance_test\n",
       "---  -------------------  ----------  -----------  --------  ------------  --------------------  --------------------\n",
       "     2017-06-03 14:32:56  0.000 sec   0            .31E0     2             0.14728575501451108   0.1420260820776464\n",
       "     2017-06-03 14:32:56  0.001 sec   0            .3E0      2             0.1387710942020469    0.13408581289830784\n",
       "     2017-06-03 14:32:56  0.002 sec   0            .29E0     2             0.13100962039635985   0.12684530753516482\n",
       "     2017-06-03 14:32:56  0.003 sec   0            .27E0     2             0.12393484198349013   0.12024290891193028\n",
       "     2017-06-03 14:32:56  0.003 sec   0            .26E0     2             0.1174861199065379    0.1142223816300643\n",
       "---  ---                  ---         ---          ---       ---           ---                   ---\n",
       "     2017-06-03 14:32:56  0.116 sec   0            .39E-2    28            0.02111396520760738   0.017706411532192403\n",
       "     2017-06-03 14:32:56  0.118 sec   0            .38E-2    29            0.021079919242043933  0.017730128697301492\n",
       "     2017-06-03 14:32:56  0.119 sec   0            .36E-2    30            0.021049518039627214  0.017750217689113588\n",
       "     2017-06-03 14:32:56  0.121 sec   0            .34E-2    30            0.021019993314742653  0.017766522628043666\n",
       "     2017-06-03 14:32:56  0.123 sec   0            .33E-2    31            0.02099172105983367   0.01778569836259976"
      ]
     },
     "metadata": {},
     "output_type": "display_data"
    },
    {
     "name": "stdout",
     "output_type": "stream",
     "text": [
      "\n",
      "See the whole table with table.as_data_frame()\n",
      "\n",
      "glm prediction progress: |████████████████████████████████████████████████| 100%\n"
     ]
    },
    {
     "data": {
      "text/html": [
       "<table>\n",
       "<thead>\n",
       "<tr><th style=\"text-align: right;\">  SalePrice</th><th style=\"text-align: right;\">  predict</th></tr>\n",
       "</thead>\n",
       "<tbody>\n",
       "<tr><td style=\"text-align: right;\">    11.8494</td><td style=\"text-align: right;\">  11.9833</td></tr>\n",
       "<tr><td style=\"text-align: right;\">    12.2061</td><td style=\"text-align: right;\">  12.3454</td></tr>\n",
       "<tr><td style=\"text-align: right;\">    11.6784</td><td style=\"text-align: right;\">  11.6651</td></tr>\n",
       "<tr><td style=\"text-align: right;\">    11.914 </td><td style=\"text-align: right;\">  11.8164</td></tr>\n",
       "<tr><td style=\"text-align: right;\">    12.6758</td><td style=\"text-align: right;\">  12.4798</td></tr>\n",
       "<tr><td style=\"text-align: right;\">    12.861 </td><td style=\"text-align: right;\">  12.7562</td></tr>\n",
       "<tr><td style=\"text-align: right;\">    12.1035</td><td style=\"text-align: right;\">  12.0074</td></tr>\n",
       "<tr><td style=\"text-align: right;\">    11.2898</td><td style=\"text-align: right;\">  11.3823</td></tr>\n",
       "<tr><td style=\"text-align: right;\">    11.7714</td><td style=\"text-align: right;\">  11.7068</td></tr>\n",
       "<tr><td style=\"text-align: right;\">    11.5843</td><td style=\"text-align: right;\">  11.4633</td></tr>\n",
       "</tbody>\n",
       "</table>"
      ]
     },
     "metadata": {},
     "output_type": "display_data"
    },
    {
     "name": "stdout",
     "output_type": "stream",
     "text": [
      "\n"
     ]
    },
    {
     "data": {
      "image/png": "[encoded data removed]",
      "text/plain": [
       "<matplotlib.figure.Figure at 0x117e970f0>"
      ]
     },
     "metadata": {},
     "output_type": "display_data"
    }
   ],
   "source": [
    "glm0 = glm_grid(original_nums, 'SalePrice', base_train, base_valid)"
   ]
  },
  {
   "cell_type": "markdown",
   "metadata": {
    "deletable": true,
    "editable": true
   },
   "source": [
    "#### Second model on encoded numeric inputs"
   ]
  },
  {
   "cell_type": "code",
   "execution_count": 23,
   "metadata": {
    "collapsed": false,
    "deletable": true,
    "editable": true
   },
   "outputs": [
    {
     "name": "stdout",
     "output_type": "stream",
     "text": [
      "glm Grid Build progress: |████████████████████████████████████████████████| 100%\n",
      "      alpha                                                      model_ids  \\\n",
      "0    [0.99]  Grid_GLM_py_287_sid_83be_model_python_1496514712697_2_model_3   \n",
      "1     [0.5]  Grid_GLM_py_287_sid_83be_model_python_1496514712697_2_model_2   \n",
      "2    [0.25]  Grid_GLM_py_287_sid_83be_model_python_1496514712697_2_model_1   \n",
      "3    [0.01]  Grid_GLM_py_287_sid_83be_model_python_1496514712697_2_model_0   \n",
      "\n",
      "    residual_deviance  \n",
      "0  3.4901340287134235  \n",
      "1  3.4921300110517253  \n",
      "2  3.4997238542795293  \n",
      "3   3.998123203723189  \n",
      "None\n",
      "Model Details\n",
      "=============\n",
      "H2OGeneralizedLinearEstimator :  Generalized Linear Modeling\n",
      "Model Key:  Grid_GLM_py_287_sid_83be_model_python_1496514712697_2_model_3\n",
      "GLM Model: summary\n",
      "\n"
     ]
    },
    {
     "data": {
      "text/html": [
       "<div style=\"overflow:auto\"><table style=\"width:50%\"><tr><td><b></b></td>\n",
       "<td><b>family</b></td>\n",
       "<td><b>link</b></td>\n",
       "<td><b>regularization</b></td>\n",
       "<td><b>lambda_search</b></td>\n",
       "<td><b>number_of_predictors_total</b></td>\n",
       "<td><b>number_of_active_predictors</b></td>\n",
       "<td><b>number_of_iterations</b></td>\n",
       "<td><b>training_frame</b></td></tr>\n",
       "<tr><td></td>\n",
       "<td>gaussian</td>\n",
       "<td>identity</td>\n",
       "<td>Elastic Net (alpha = 0.99, lambda = 0.006285 )</td>\n",
       "<td>nlambda = 100, lambda.max = 0.3277, lambda.min = 0.006285, lambda.1se = -1.0</td>\n",
       "<td>78</td>\n",
       "<td>48</td>\n",
       "<td>0</td>\n",
       "<td>py_287_sid_83be</td></tr></table></div>"
      ],
      "text/plain": [
       "    family    link      regularization                                  lambda_search                                                                 number_of_predictors_total    number_of_active_predictors    number_of_iterations    training_frame\n",
       "--  --------  --------  ----------------------------------------------  ----------------------------------------------------------------------------  ----------------------------  -----------------------------  ----------------------  ----------------\n",
       "    gaussian  identity  Elastic Net (alpha = 0.99, lambda = 0.006285 )  nlambda = 100, lambda.max = 0.3277, lambda.min = 0.006285, lambda.1se = -1.0  78                            48                             0                       py_287_sid_83be"
      ]
     },
     "metadata": {},
     "output_type": "display_data"
    },
    {
     "name": "stdout",
     "output_type": "stream",
     "text": [
      "\n",
      "\n",
      "ModelMetricsRegressionGLM: glm\n",
      "** Reported on train data. **\n",
      "\n",
      "MSE: 0.015094165358452758\n",
      "RMSE: 0.12285831416087703\n",
      "MAE: 0.0853879096692911\n",
      "RMSLE: 0.009548892056318143\n",
      "R^2: 0.903629560183804\n",
      "Mean Residual Deviance: 0.015094165358452758\n",
      "Null degrees of freedom: 503\n",
      "Residual degrees of freedom: 455\n",
      "Null deviance: 78.93975948609085\n",
      "Residual deviance: 7.60745934066019\n",
      "AIC: -583.207251537172\n",
      "\n",
      "ModelMetricsRegressionGLM: glm\n",
      "** Reported on validation data. **\n",
      "\n",
      "MSE: 0.015174495777014884\n",
      "RMSE: 0.12318480335258439\n",
      "MAE: 0.090956608392666\n",
      "RMSLE: 0.009524082982279752\n",
      "R^2: 0.8977472145352223\n",
      "Mean Residual Deviance: 0.015174495777014884\n",
      "Null degrees of freedom: 229\n",
      "Residual degrees of freedom: 181\n",
      "Null deviance: 34.66875782373327\n",
      "Residual deviance: 3.4901340287134235\n",
      "AIC: -210.56028378064303\n",
      "Scoring History: \n"
     ]
    },
    {
     "data": {
      "text/html": [
       "<div style=\"overflow:auto\"><table style=\"width:50%\"><tr><td><b></b></td>\n",
       "<td><b>timestamp</b></td>\n",
       "<td><b>duration</b></td>\n",
       "<td><b>iteration</b></td>\n",
       "<td><b>lambda</b></td>\n",
       "<td><b>predictors</b></td>\n",
       "<td><b>deviance_train</b></td>\n",
       "<td><b>deviance_test</b></td></tr>\n",
       "<tr><td></td>\n",
       "<td>2017-06-03 14:32:58</td>\n",
       "<td> 0.000 sec</td>\n",
       "<td>0</td>\n",
       "<td>.31E0</td>\n",
       "<td>2</td>\n",
       "<td>0.1472858</td>\n",
       "<td>0.1420261</td></tr>\n",
       "<tr><td></td>\n",
       "<td>2017-06-03 14:32:58</td>\n",
       "<td> 0.001 sec</td>\n",
       "<td>0</td>\n",
       "<td>.3E0</td>\n",
       "<td>2</td>\n",
       "<td>0.1387711</td>\n",
       "<td>0.1340858</td></tr>\n",
       "<tr><td></td>\n",
       "<td>2017-06-03 14:32:58</td>\n",
       "<td> 0.002 sec</td>\n",
       "<td>0</td>\n",
       "<td>.29E0</td>\n",
       "<td>2</td>\n",
       "<td>0.1310096</td>\n",
       "<td>0.1268453</td></tr>\n",
       "<tr><td></td>\n",
       "<td>2017-06-03 14:32:58</td>\n",
       "<td> 0.003 sec</td>\n",
       "<td>0</td>\n",
       "<td>.27E0</td>\n",
       "<td>2</td>\n",
       "<td>0.1239348</td>\n",
       "<td>0.1202429</td></tr>\n",
       "<tr><td></td>\n",
       "<td>2017-06-03 14:32:58</td>\n",
       "<td> 0.005 sec</td>\n",
       "<td>0</td>\n",
       "<td>.26E0</td>\n",
       "<td>2</td>\n",
       "<td>0.1174861</td>\n",
       "<td>0.1142224</td></tr>\n",
       "<tr><td>---</td>\n",
       "<td>---</td>\n",
       "<td>---</td>\n",
       "<td>---</td>\n",
       "<td>---</td>\n",
       "<td>---</td>\n",
       "<td>---</td>\n",
       "<td>---</td></tr>\n",
       "<tr><td></td>\n",
       "<td>2017-06-03 14:32:58</td>\n",
       "<td> 0.142 sec</td>\n",
       "<td>0</td>\n",
       "<td>.39E-2</td>\n",
       "<td>53</td>\n",
       "<td>0.0144191</td>\n",
       "<td>0.0155881</td></tr>\n",
       "<tr><td></td>\n",
       "<td>2017-06-03 14:32:58</td>\n",
       "<td> 0.144 sec</td>\n",
       "<td>0</td>\n",
       "<td>.38E-2</td>\n",
       "<td>53</td>\n",
       "<td>0.0143701</td>\n",
       "<td>0.0156291</td></tr>\n",
       "<tr><td></td>\n",
       "<td>2017-06-03 14:32:58</td>\n",
       "<td> 0.146 sec</td>\n",
       "<td>0</td>\n",
       "<td>.36E-2</td>\n",
       "<td>54</td>\n",
       "<td>0.0143235</td>\n",
       "<td>0.0156864</td></tr>\n",
       "<tr><td></td>\n",
       "<td>2017-06-03 14:32:58</td>\n",
       "<td> 0.148 sec</td>\n",
       "<td>0</td>\n",
       "<td>.34E-2</td>\n",
       "<td>54</td>\n",
       "<td>0.0142814</td>\n",
       "<td>0.0157581</td></tr>\n",
       "<tr><td></td>\n",
       "<td>2017-06-03 14:32:58</td>\n",
       "<td> 0.150 sec</td>\n",
       "<td>0</td>\n",
       "<td>.33E-2</td>\n",
       "<td>56</td>\n",
       "<td>0.0142324</td>\n",
       "<td>0.0158424</td></tr></table></div>"
      ],
      "text/plain": [
       "     timestamp            duration    iteration    lambda    predictors    deviance_train        deviance_test\n",
       "---  -------------------  ----------  -----------  --------  ------------  --------------------  --------------------\n",
       "     2017-06-03 14:32:58  0.000 sec   0            .31E0     2             0.14728575501451108   0.1420260820776464\n",
       "     2017-06-03 14:32:58  0.001 sec   0            .3E0      2             0.1387710942020469    0.13408581289830784\n",
       "     2017-06-03 14:32:58  0.002 sec   0            .29E0     2             0.13100962039635985   0.12684530753516482\n",
       "     2017-06-03 14:32:58  0.003 sec   0            .27E0     2             0.12393484198349013   0.12024290891193028\n",
       "     2017-06-03 14:32:58  0.005 sec   0            .26E0     2             0.1174861199065379    0.1142223816300643\n",
       "---  ---                  ---         ---          ---       ---           ---                   ---\n",
       "     2017-06-03 14:32:58  0.142 sec   0            .39E-2    53            0.0144191181772753    0.015588074517219106\n",
       "     2017-06-03 14:32:58  0.144 sec   0            .38E-2    53            0.014370133392500093  0.015629115615231753\n",
       "     2017-06-03 14:32:58  0.146 sec   0            .36E-2    54            0.014323537320807291  0.01568639100989564\n",
       "     2017-06-03 14:32:58  0.148 sec   0            .34E-2    54            0.014281375470812829  0.015758127870718553\n",
       "     2017-06-03 14:32:58  0.150 sec   0            .33E-2    56            0.014232354610165145  0.015842408682485078"
      ]
     },
     "metadata": {},
     "output_type": "display_data"
    },
    {
     "name": "stdout",
     "output_type": "stream",
     "text": [
      "\n",
      "See the whole table with table.as_data_frame()\n",
      "\n",
      "glm prediction progress: |████████████████████████████████████████████████| 100%\n"
     ]
    },
    {
     "data": {
      "text/html": [
       "<table>\n",
       "<thead>\n",
       "<tr><th style=\"text-align: right;\">  SalePrice</th><th style=\"text-align: right;\">  predict</th></tr>\n",
       "</thead>\n",
       "<tbody>\n",
       "<tr><td style=\"text-align: right;\">    11.8494</td><td style=\"text-align: right;\">  12.113 </td></tr>\n",
       "<tr><td style=\"text-align: right;\">    12.2061</td><td style=\"text-align: right;\">  12.2729</td></tr>\n",
       "<tr><td style=\"text-align: right;\">    11.6784</td><td style=\"text-align: right;\">  11.8202</td></tr>\n",
       "<tr><td style=\"text-align: right;\">    11.914 </td><td style=\"text-align: right;\">  11.7812</td></tr>\n",
       "<tr><td style=\"text-align: right;\">    12.6758</td><td style=\"text-align: right;\">  12.486 </td></tr>\n",
       "<tr><td style=\"text-align: right;\">    12.861 </td><td style=\"text-align: right;\">  12.6814</td></tr>\n",
       "<tr><td style=\"text-align: right;\">    12.1035</td><td style=\"text-align: right;\">  11.9299</td></tr>\n",
       "<tr><td style=\"text-align: right;\">    11.2898</td><td style=\"text-align: right;\">  11.3451</td></tr>\n",
       "<tr><td style=\"text-align: right;\">    11.7714</td><td style=\"text-align: right;\">  11.6453</td></tr>\n",
       "<tr><td style=\"text-align: right;\">    11.5843</td><td style=\"text-align: right;\">  11.4851</td></tr>\n",
       "</tbody>\n",
       "</table>"
      ]
     },
     "metadata": {},
     "output_type": "display_data"
    },
    {
     "name": "stdout",
     "output_type": "stream",
     "text": [
      "\n"
     ]
    },
    {
     "data": {
      "image/png": "[encoded data removed]",
      "text/plain": [
       "<matplotlib.figure.Figure at 0x10475c550>"
      ]
     },
     "metadata": {},
     "output_type": "display_data"
    }
   ],
   "source": [
    "glm1 = glm_grid(encoded_nums, 'SalePrice', base_train, base_valid)"
   ]
  },
  {
   "cell_type": "markdown",
   "metadata": {
    "deletable": true,
    "editable": true
   },
   "source": [
    "#### Third model on encoded numeric inputs"
   ]
  },
  {
   "cell_type": "code",
   "execution_count": 24,
   "metadata": {
    "collapsed": false,
    "deletable": true,
    "editable": true
   },
   "outputs": [
    {
     "name": "stdout",
     "output_type": "stream",
     "text": [
      "glm Grid Build progress: |████████████████████████████████████████████████| 100%\n",
      "      alpha                                                      model_ids  \\\n",
      "0    [0.01]  Grid_GLM_py_287_sid_83be_model_python_1496514712697_3_model_0   \n",
      "1    [0.25]  Grid_GLM_py_287_sid_83be_model_python_1496514712697_3_model_1   \n",
      "2     [0.5]  Grid_GLM_py_287_sid_83be_model_python_1496514712697_3_model_2   \n",
      "3    [0.99]  Grid_GLM_py_287_sid_83be_model_python_1496514712697_3_model_3   \n",
      "\n",
      "    residual_deviance  \n",
      "0  3.3699520043051416  \n",
      "1  3.5220183469851305  \n",
      "2  3.6067172565664762  \n",
      "3  3.6571556417378868  \n",
      "None\n",
      "Model Details\n",
      "=============\n",
      "H2OGeneralizedLinearEstimator :  Generalized Linear Modeling\n",
      "Model Key:  Grid_GLM_py_287_sid_83be_model_python_1496514712697_3_model_0\n",
      "GLM Model: summary\n",
      "\n"
     ]
    },
    {
     "data": {
      "text/html": [
       "<div style=\"overflow:auto\"><table style=\"width:50%\"><tr><td><b></b></td>\n",
       "<td><b>family</b></td>\n",
       "<td><b>link</b></td>\n",
       "<td><b>regularization</b></td>\n",
       "<td><b>lambda_search</b></td>\n",
       "<td><b>number_of_predictors_total</b></td>\n",
       "<td><b>number_of_active_predictors</b></td>\n",
       "<td><b>number_of_iterations</b></td>\n",
       "<td><b>training_frame</b></td></tr>\n",
       "<tr><td></td>\n",
       "<td>gaussian</td>\n",
       "<td>identity</td>\n",
       "<td>Elastic Net (alpha = 0.01, lambda = 0.552 )</td>\n",
       "<td>nlambda = 100, lambda.max = 33.09, lambda.min = 0.552, lambda.1se = -1.0</td>\n",
       "<td>3148</td>\n",
       "<td>700</td>\n",
       "<td>0</td>\n",
       "<td>py_287_sid_83be</td></tr></table></div>"
      ],
      "text/plain": [
       "    family    link      regularization                               lambda_search                                                             number_of_predictors_total    number_of_active_predictors    number_of_iterations    training_frame\n",
       "--  --------  --------  -------------------------------------------  ------------------------------------------------------------------------  ----------------------------  -----------------------------  ----------------------  ----------------\n",
       "    gaussian  identity  Elastic Net (alpha = 0.01, lambda = 0.552 )  nlambda = 100, lambda.max = 33.09, lambda.min = 0.552, lambda.1se = -1.0  3148                          700                            0                       py_287_sid_83be"
      ]
     },
     "metadata": {},
     "output_type": "display_data"
    },
    {
     "name": "stdout",
     "output_type": "stream",
     "text": [
      "\n",
      "\n",
      "ModelMetricsRegressionGLM: glm\n",
      "** Reported on train data. **\n",
      "\n",
      "MSE: 0.013198935158103588\n",
      "RMSE: 0.11488661870776591\n",
      "MAE: 0.08197478374648179\n",
      "RMSLE: 0.008961477884126571\n",
      "R^2: 0.9157298760093694\n",
      "Mean Residual Deviance: 0.013198935158103588\n",
      "Null degrees of freedom: 503\n",
      "Residual degrees of freedom: -197\n",
      "Null deviance: 78.93975948609085\n",
      "Residual deviance: 6.6522633196842085\n",
      "AIC: 653.1700037381544\n",
      "\n",
      "ModelMetricsRegressionGLM: glm\n",
      "** Reported on validation data. **\n",
      "\n",
      "MSE: 0.014651965236109312\n",
      "RMSE: 0.12104530241239976\n",
      "MAE: 0.08759932069434724\n",
      "RMSLE: 0.009367973035223813\n",
      "R^2: 0.9012682674969256\n",
      "Mean Residual Deviance: 0.014651965236109312\n",
      "Null degrees of freedom: 229\n",
      "Residual degrees of freedom: -471\n",
      "Null deviance: 34.66875782373327\n",
      "Residual deviance: 3.3699520043051416\n",
      "AIC: 1085.3801397317015\n",
      "Scoring History: \n"
     ]
    },
    {
     "data": {
      "text/html": [
       "<div style=\"overflow:auto\"><table style=\"width:50%\"><tr><td><b></b></td>\n",
       "<td><b>timestamp</b></td>\n",
       "<td><b>duration</b></td>\n",
       "<td><b>iteration</b></td>\n",
       "<td><b>lambda</b></td>\n",
       "<td><b>predictors</b></td>\n",
       "<td><b>deviance_train</b></td>\n",
       "<td><b>deviance_test</b></td></tr>\n",
       "<tr><td></td>\n",
       "<td>2017-06-03 14:32:59</td>\n",
       "<td> 0.000 sec</td>\n",
       "<td>0</td>\n",
       "<td>.32E2</td>\n",
       "<td>29</td>\n",
       "<td>0.1539912</td>\n",
       "<td>0.1482912</td></tr>\n",
       "<tr><td></td>\n",
       "<td>2017-06-03 14:32:59</td>\n",
       "<td> 0.026 sec</td>\n",
       "<td>0</td>\n",
       "<td>.3E2</td>\n",
       "<td>37</td>\n",
       "<td>0.1490575</td>\n",
       "<td>0.1437264</td></tr>\n",
       "<tr><td></td>\n",
       "<td>2017-06-03 14:32:59</td>\n",
       "<td> 0.056 sec</td>\n",
       "<td>0</td>\n",
       "<td>.29E2</td>\n",
       "<td>61</td>\n",
       "<td>0.1432840</td>\n",
       "<td>0.1384607</td></tr>\n",
       "<tr><td></td>\n",
       "<td>2017-06-03 14:32:59</td>\n",
       "<td> 0.086 sec</td>\n",
       "<td>0</td>\n",
       "<td>.27E2</td>\n",
       "<td>95</td>\n",
       "<td>0.1363869</td>\n",
       "<td>0.1322855</td></tr>\n",
       "<tr><td></td>\n",
       "<td>2017-06-03 14:32:59</td>\n",
       "<td> 0.121 sec</td>\n",
       "<td>0</td>\n",
       "<td>.26E2</td>\n",
       "<td>112</td>\n",
       "<td>0.1292407</td>\n",
       "<td>0.1259060</td></tr>\n",
       "<tr><td>---</td>\n",
       "<td>---</td>\n",
       "<td>---</td>\n",
       "<td>---</td>\n",
       "<td>---</td>\n",
       "<td>---</td>\n",
       "<td>---</td>\n",
       "<td>---</td></tr>\n",
       "<tr><td></td>\n",
       "<td>2017-06-03 14:33:14</td>\n",
       "<td>15.028 sec</td>\n",
       "<td>0</td>\n",
       "<td>.4E0</td>\n",
       "<td>683</td>\n",
       "<td>0.0123018</td>\n",
       "<td>0.0158439</td></tr>\n",
       "<tr><td></td>\n",
       "<td>2017-06-03 14:33:14</td>\n",
       "<td>15.428 sec</td>\n",
       "<td>0</td>\n",
       "<td>.38E0</td>\n",
       "<td>675</td>\n",
       "<td>0.0121791</td>\n",
       "<td>0.0161692</td></tr>\n",
       "<tr><td></td>\n",
       "<td>2017-06-03 14:33:15</td>\n",
       "<td>15.727 sec</td>\n",
       "<td>0</td>\n",
       "<td>.36E0</td>\n",
       "<td>666</td>\n",
       "<td>0.0120584</td>\n",
       "<td>0.0165244</td></tr>\n",
       "<tr><td></td>\n",
       "<td>2017-06-03 14:33:15</td>\n",
       "<td>16.032 sec</td>\n",
       "<td>0</td>\n",
       "<td>.35E0</td>\n",
       "<td>672</td>\n",
       "<td>0.0119414</td>\n",
       "<td>0.0168902</td></tr>\n",
       "<tr><td></td>\n",
       "<td>2017-06-03 14:33:15</td>\n",
       "<td>16.341 sec</td>\n",
       "<td>0</td>\n",
       "<td>.33E0</td>\n",
       "<td>667</td>\n",
       "<td>0.0118282</td>\n",
       "<td>0.0172846</td></tr></table></div>"
      ],
      "text/plain": [
       "     timestamp            duration    iteration    lambda    predictors    deviance_train        deviance_test\n",
       "---  -------------------  ----------  -----------  --------  ------------  --------------------  --------------------\n",
       "     2017-06-03 14:32:59  0.000 sec   0            .32E2     29            0.15399123555419333   0.14829117453174046\n",
       "     2017-06-03 14:32:59  0.026 sec   0            .3E2      37            0.14905751300795514   0.14372642640447464\n",
       "     2017-06-03 14:32:59  0.056 sec   0            .29E2     61            0.1432840184280351    0.13846068678554296\n",
       "     2017-06-03 14:32:59  0.086 sec   0            .27E2     95            0.1363869007055323    0.1322855155686811\n",
       "     2017-06-03 14:32:59  0.121 sec   0            .26E2     112           0.12924065716854077   0.1259060376336453\n",
       "---  ---                  ---         ---          ---       ---           ---                   ---\n",
       "     2017-06-03 14:33:14  15.028 sec  0            .4E0      683           0.012301822689782029  0.015843871904053404\n",
       "     2017-06-03 14:33:14  15.428 sec  0            .38E0     675           0.012179129188076504  0.016169229003378433\n",
       "     2017-06-03 14:33:15  15.727 sec  0            .36E0     666           0.012058374667806978  0.016524424973678918\n",
       "     2017-06-03 14:33:15  16.032 sec  0            .35E0     672           0.011941411888839203  0.01689018304175075\n",
       "     2017-06-03 14:33:15  16.341 sec  0            .33E0     667           0.011828231123015738  0.017284557189780687"
      ]
     },
     "metadata": {},
     "output_type": "display_data"
    },
    {
     "name": "stdout",
     "output_type": "stream",
     "text": [
      "\n",
      "See the whole table with table.as_data_frame()\n",
      "\n",
      "glm prediction progress: |████████████████████████████████████████████████| 100%\n"
     ]
    },
    {
     "data": {
      "text/html": [
       "<table>\n",
       "<thead>\n",
       "<tr><th style=\"text-align: right;\">  SalePrice</th><th style=\"text-align: right;\">  predict</th></tr>\n",
       "</thead>\n",
       "<tbody>\n",
       "<tr><td style=\"text-align: right;\">    11.8494</td><td style=\"text-align: right;\">  12.0927</td></tr>\n",
       "<tr><td style=\"text-align: right;\">    12.2061</td><td style=\"text-align: right;\">  12.1971</td></tr>\n",
       "<tr><td style=\"text-align: right;\">    11.6784</td><td style=\"text-align: right;\">  11.8072</td></tr>\n",
       "<tr><td style=\"text-align: right;\">    11.914 </td><td style=\"text-align: right;\">  11.7918</td></tr>\n",
       "<tr><td style=\"text-align: right;\">    12.6758</td><td style=\"text-align: right;\">  12.461 </td></tr>\n",
       "<tr><td style=\"text-align: right;\">    12.861 </td><td style=\"text-align: right;\">  12.6594</td></tr>\n",
       "<tr><td style=\"text-align: right;\">    12.1035</td><td style=\"text-align: right;\">  11.9518</td></tr>\n",
       "<tr><td style=\"text-align: right;\">    11.2898</td><td style=\"text-align: right;\">  11.3795</td></tr>\n",
       "<tr><td style=\"text-align: right;\">    11.7714</td><td style=\"text-align: right;\">  11.6668</td></tr>\n",
       "<tr><td style=\"text-align: right;\">    11.5843</td><td style=\"text-align: right;\">  11.5349</td></tr>\n",
       "</tbody>\n",
       "</table>"
      ]
     },
     "metadata": {},
     "output_type": "display_data"
    },
    {
     "name": "stdout",
     "output_type": "stream",
     "text": [
      "\n"
     ]
    },
    {
     "data": {
      "image/png": "[encoded data removed]",
      "text/plain": [
       "<matplotlib.figure.Figure at 0x11b388fd0>"
      ]
     },
     "metadata": {},
     "output_type": "display_data"
    }
   ],
   "source": [
    "glm2 = glm_grid(encoded_combined_nums, 'SalePrice', base_train, base_valid)"
   ]
  },
  {
   "cell_type": "markdown",
   "metadata": {
    "deletable": true,
    "editable": true
   },
   "source": [
    "## Train combiner model on second level data"
   ]
  },
  {
   "cell_type": "markdown",
   "metadata": {
    "deletable": true,
    "editable": true
   },
   "source": [
    "#### Add prediction features to second level data and test data"
   ]
  },
  {
   "cell_type": "code",
   "execution_count": 25,
   "metadata": {
    "collapsed": false,
    "deletable": true,
    "editable": true
   },
   "outputs": [
    {
     "name": "stdout",
     "output_type": "stream",
     "text": [
      "glm prediction progress: |████████████████████████████████████████████████| 100%\n",
      "glm prediction progress: |████████████████████████████████████████████████| 100%\n",
      "glm prediction progress: |████████████████████████████████████████████████| 100%\n",
      "glm prediction progress: |████████████████████████████████████████████████| 100%\n",
      "glm prediction progress: |████████████████████████████████████████████████| 100%\n",
      "glm prediction progress: |████████████████████████████████████████████████| 100%\n",
      "glm prediction progress: |████████████████████████████████████████████████| 100%\n",
      "glm prediction progress: |████████████████████████████████████████████████| 100%\n",
      "glm prediction progress: |████████████████████████████████████████████████| 100%\n"
     ]
    }
   ],
   "source": [
    "stack_train = stack_train.cbind(glm0.predict(stack_train))\n",
    "stack_valid = stack_valid.cbind(glm0.predict(stack_valid))\n",
    "stack_train = stack_train.cbind(glm1.predict(stack_train))\n",
    "stack_valid = stack_valid.cbind(glm1.predict(stack_valid))\n",
    "stack_train = stack_train.cbind(glm2.predict(stack_train))\n",
    "stack_valid = stack_valid.cbind(glm2.predict(stack_valid))\n",
    "\n",
    "test = test.cbind(glm0.predict(test))\n",
    "test = test.cbind(glm1.predict(test))\n",
    "test = test.cbind(glm2.predict(test))"
   ]
  },
  {
   "cell_type": "markdown",
   "metadata": {
    "deletable": true,
    "editable": true
   },
   "source": [
    "#### Train stack model"
   ]
  },
  {
   "cell_type": "code",
   "execution_count": 26,
   "metadata": {
    "collapsed": false,
    "deletable": true,
    "editable": true
   },
   "outputs": [
    {
     "name": "stdout",
     "output_type": "stream",
     "text": [
      "glm Grid Build progress: |████████████████████████████████████████████████| 100%\n",
      "      alpha                                                      model_ids  \\\n",
      "0     [0.5]  Grid_GLM_py_309_sid_83be_model_python_1496514712697_4_model_2   \n",
      "1    [0.25]  Grid_GLM_py_309_sid_83be_model_python_1496514712697_4_model_1   \n",
      "2    [0.99]  Grid_GLM_py_309_sid_83be_model_python_1496514712697_4_model_3   \n",
      "3    [0.01]  Grid_GLM_py_309_sid_83be_model_python_1496514712697_4_model_0   \n",
      "\n",
      "    residual_deviance  \n",
      "0  3.1519700019102137  \n",
      "1   3.170200847683094  \n",
      "2  3.2418170221136458  \n",
      "3  3.7533518521134157  \n",
      "None\n",
      "Model Details\n",
      "=============\n",
      "H2OGeneralizedLinearEstimator :  Generalized Linear Modeling\n",
      "Model Key:  Grid_GLM_py_309_sid_83be_model_python_1496514712697_4_model_2\n",
      "GLM Model: summary\n",
      "\n"
     ]
    },
    {
     "data": {
      "text/html": [
       "<div style=\"overflow:auto\"><table style=\"width:50%\"><tr><td><b></b></td>\n",
       "<td><b>family</b></td>\n",
       "<td><b>link</b></td>\n",
       "<td><b>regularization</b></td>\n",
       "<td><b>lambda_search</b></td>\n",
       "<td><b>number_of_predictors_total</b></td>\n",
       "<td><b>number_of_active_predictors</b></td>\n",
       "<td><b>number_of_iterations</b></td>\n",
       "<td><b>training_frame</b></td></tr>\n",
       "<tr><td></td>\n",
       "<td>gaussian</td>\n",
       "<td>identity</td>\n",
       "<td>Elastic Net (alpha = 0.5, lambda = 0.0268 )</td>\n",
       "<td>nlambda = 100, lambda.max = 0.7285, lambda.min = 0.0268, lambda.1se = -1.0</td>\n",
       "<td>3152</td>\n",
       "<td>36</td>\n",
       "<td>0</td>\n",
       "<td>py_309_sid_83be</td></tr></table></div>"
      ],
      "text/plain": [
       "    family    link      regularization                               lambda_search                                                               number_of_predictors_total    number_of_active_predictors    number_of_iterations    training_frame\n",
       "--  --------  --------  -------------------------------------------  --------------------------------------------------------------------------  ----------------------------  -----------------------------  ----------------------  ----------------\n",
       "    gaussian  identity  Elastic Net (alpha = 0.5, lambda = 0.0268 )  nlambda = 100, lambda.max = 0.7285, lambda.min = 0.0268, lambda.1se = -1.0  3152                          36                             0                       py_309_sid_83be"
      ]
     },
     "metadata": {},
     "output_type": "display_data"
    },
    {
     "name": "stdout",
     "output_type": "stream",
     "text": [
      "\n",
      "\n",
      "ModelMetricsRegressionGLM: glm\n",
      "** Reported on train data. **\n",
      "\n",
      "MSE: 0.012849581983522769\n",
      "RMSE: 0.11335599668091129\n",
      "MAE: 0.08084836723572007\n",
      "RMSLE: 0.008823943897104343\n",
      "R^2: 0.9158853521674389\n",
      "Mean Residual Deviance: 0.012849581983522769\n",
      "Null degrees of freedom: 496\n",
      "Residual degrees of freedom: 460\n",
      "Null deviance: 75.92306941024773\n",
      "Residual deviance: 6.386242245810816\n",
      "AIC: -677.7337653162446\n",
      "\n",
      "ModelMetricsRegressionGLM: glm\n",
      "** Reported on validation data. **\n",
      "\n",
      "MSE: 0.013764061143712723\n",
      "RMSE: 0.11732033559324966\n",
      "MAE: 0.0896066113781468\n",
      "RMSLE: 0.009173001742446564\n",
      "R^2: 0.9270598939149977\n",
      "Mean Residual Deviance: 0.013764061143712723\n",
      "Null degrees of freedom: 228\n",
      "Residual degrees of freedom: 192\n",
      "Null deviance: 43.21927170266359\n",
      "Residual deviance: 3.1519700019102137\n",
      "AIC: -255.55015765929846\n",
      "Scoring History: \n"
     ]
    },
    {
     "data": {
      "text/html": [
       "<div style=\"overflow:auto\"><table style=\"width:50%\"><tr><td><b></b></td>\n",
       "<td><b>timestamp</b></td>\n",
       "<td><b>duration</b></td>\n",
       "<td><b>iteration</b></td>\n",
       "<td><b>lambda</b></td>\n",
       "<td><b>predictors</b></td>\n",
       "<td><b>deviance_train</b></td>\n",
       "<td><b>deviance_test</b></td></tr>\n",
       "<tr><td></td>\n",
       "<td>2017-06-03 14:33:52</td>\n",
       "<td> 0.000 sec</td>\n",
       "<td>0</td>\n",
       "<td>.7E0</td>\n",
       "<td>3</td>\n",
       "<td>0.1436302</td>\n",
       "<td>0.1772960</td></tr>\n",
       "<tr><td></td>\n",
       "<td>2017-06-03 14:33:52</td>\n",
       "<td> 0.020 sec</td>\n",
       "<td>0</td>\n",
       "<td>.66E0</td>\n",
       "<td>3</td>\n",
       "<td>0.1342335</td>\n",
       "<td>0.1654383</td></tr>\n",
       "<tr><td></td>\n",
       "<td>2017-06-03 14:33:52</td>\n",
       "<td> 0.039 sec</td>\n",
       "<td>0</td>\n",
       "<td>.63E0</td>\n",
       "<td>3</td>\n",
       "<td>0.1255111</td>\n",
       "<td>0.1544090</td></tr>\n",
       "<tr><td></td>\n",
       "<td>2017-06-03 14:33:52</td>\n",
       "<td> 0.058 sec</td>\n",
       "<td>0</td>\n",
       "<td>.6E0</td>\n",
       "<td>3</td>\n",
       "<td>0.1174006</td>\n",
       "<td>0.1441296</td></tr>\n",
       "<tr><td></td>\n",
       "<td>2017-06-03 14:33:52</td>\n",
       "<td> 0.077 sec</td>\n",
       "<td>0</td>\n",
       "<td>.58E0</td>\n",
       "<td>3</td>\n",
       "<td>0.1098775</td>\n",
       "<td>0.1345730</td></tr>\n",
       "<tr><td>---</td>\n",
       "<td>---</td>\n",
       "<td>---</td>\n",
       "<td>---</td>\n",
       "<td>---</td>\n",
       "<td>---</td>\n",
       "<td>---</td>\n",
       "<td>---</td></tr>\n",
       "<tr><td></td>\n",
       "<td>2017-06-03 14:33:54</td>\n",
       "<td> 2.510 sec</td>\n",
       "<td>0</td>\n",
       "<td>.88E-2</td>\n",
       "<td>76</td>\n",
       "<td>0.0099567</td>\n",
       "<td>0.0150375</td></tr>\n",
       "<tr><td></td>\n",
       "<td>2017-06-03 14:33:55</td>\n",
       "<td> 2.551 sec</td>\n",
       "<td>0</td>\n",
       "<td>.84E-2</td>\n",
       "<td>81</td>\n",
       "<td>0.0098639</td>\n",
       "<td>0.0151356</td></tr>\n",
       "<tr><td></td>\n",
       "<td>2017-06-03 14:33:55</td>\n",
       "<td> 2.590 sec</td>\n",
       "<td>0</td>\n",
       "<td>.8E-2</td>\n",
       "<td>82</td>\n",
       "<td>0.0097584</td>\n",
       "<td>0.0152665</td></tr>\n",
       "<tr><td></td>\n",
       "<td>2017-06-03 14:33:55</td>\n",
       "<td> 2.625 sec</td>\n",
       "<td>0</td>\n",
       "<td>.76E-2</td>\n",
       "<td>84</td>\n",
       "<td>0.0096536</td>\n",
       "<td>0.0154013</td></tr>\n",
       "<tr><td></td>\n",
       "<td>2017-06-03 14:33:55</td>\n",
       "<td> 2.659 sec</td>\n",
       "<td>0</td>\n",
       "<td>.73E-2</td>\n",
       "<td>85</td>\n",
       "<td>0.0095425</td>\n",
       "<td>0.0155937</td></tr></table></div>"
      ],
      "text/plain": [
       "     timestamp            duration    iteration    lambda    predictors    deviance_train        deviance_test\n",
       "---  -------------------  ----------  -----------  --------  ------------  --------------------  --------------------\n",
       "     2017-06-03 14:33:52  0.000 sec   0            .7E0      3             0.14363023414025555   0.1772960060713933\n",
       "     2017-06-03 14:33:52  0.020 sec   0            .66E0     3             0.13423352726889537   0.16543832696610136\n",
       "     2017-06-03 14:33:52  0.039 sec   0            .63E0     3             0.12551111051763228   0.15440895056595666\n",
       "     2017-06-03 14:33:52  0.058 sec   0            .6E0      3             0.11740056994558856   0.14412962679269853\n",
       "     2017-06-03 14:33:52  0.077 sec   0            .58E0     3             0.1098775148387156    0.134573011169295\n",
       "---  ---                  ---         ---          ---       ---           ---                   ---\n",
       "     2017-06-03 14:33:54  2.510 sec   0            .88E-2    76            0.009956706560524161  0.015037494491070003\n",
       "     2017-06-03 14:33:55  2.551 sec   0            .84E-2    81            0.009863935473810233  0.015135623293558477\n",
       "     2017-06-03 14:33:55  2.590 sec   0            .8E-2     82            0.009758435870091885  0.0152665454652281\n",
       "     2017-06-03 14:33:55  2.625 sec   0            .76E-2    84            0.009653627926429173  0.015401320996162015\n",
       "     2017-06-03 14:33:55  2.659 sec   0            .73E-2    85            0.009542524229308357  0.015593688996461528"
      ]
     },
     "metadata": {},
     "output_type": "display_data"
    },
    {
     "name": "stdout",
     "output_type": "stream",
     "text": [
      "\n",
      "See the whole table with table.as_data_frame()\n",
      "\n",
      "glm prediction progress: |████████████████████████████████████████████████| 100%\n"
     ]
    },
    {
     "data": {
      "text/html": [
       "<table>\n",
       "<thead>\n",
       "<tr><th style=\"text-align: right;\">  SalePrice</th><th style=\"text-align: right;\">  predict</th></tr>\n",
       "</thead>\n",
       "<tbody>\n",
       "<tr><td style=\"text-align: right;\">    11.7906</td><td style=\"text-align: right;\">  11.8964</td></tr>\n",
       "<tr><td style=\"text-align: right;\">    11.9117</td><td style=\"text-align: right;\">  11.9742</td></tr>\n",
       "<tr><td style=\"text-align: right;\">    11.9767</td><td style=\"text-align: right;\">  11.9817</td></tr>\n",
       "<tr><td style=\"text-align: right;\">    11.8451</td><td style=\"text-align: right;\">  11.7998</td></tr>\n",
       "<tr><td style=\"text-align: right;\">    11.1346</td><td style=\"text-align: right;\">  11.3061</td></tr>\n",
       "<tr><td style=\"text-align: right;\">    11.8845</td><td style=\"text-align: right;\">  11.9415</td></tr>\n",
       "<tr><td style=\"text-align: right;\">    11.9382</td><td style=\"text-align: right;\">  11.8829</td></tr>\n",
       "<tr><td style=\"text-align: right;\">    11.8565</td><td style=\"text-align: right;\">  11.7301</td></tr>\n",
       "<tr><td style=\"text-align: right;\">    11.9704</td><td style=\"text-align: right;\">  12.0702</td></tr>\n",
       "<tr><td style=\"text-align: right;\">    12.6667</td><td style=\"text-align: right;\">  12.5792</td></tr>\n",
       "</tbody>\n",
       "</table>"
      ]
     },
     "metadata": {},
     "output_type": "display_data"
    },
    {
     "name": "stdout",
     "output_type": "stream",
     "text": [
      "\n"
     ]
    },
    {
     "data": {
      "image/png": "[encoded data removed]",
      "text/plain": [
       "<matplotlib.figure.Figure at 0x123567da0>"
      ]
     },
     "metadata": {},
     "output_type": "display_data"
    }
   ],
   "source": [
    "glm3 = glm_grid(encoded_combined_nums + ['predict', 'predict0', 'predict1'], 'SalePrice', stack_train, stack_valid)"
   ]
  },
  {
   "cell_type": "markdown",
   "metadata": {
    "deletable": true,
    "editable": true
   },
   "source": [
    "#### Score test data"
   ]
  },
  {
   "cell_type": "code",
   "execution_count": 27,
   "metadata": {
    "collapsed": false,
    "deletable": true,
    "editable": true
   },
   "outputs": [
    {
     "name": "stdout",
     "output_type": "stream",
     "text": [
      "glm prediction progress: |████████████████████████████████████████████████| 100%\n"
     ]
    },
    {
     "data": {
      "text/html": [
       "<table>\n",
       "<thead>\n",
       "<tr><th style=\"text-align: right;\">  Id</th><th style=\"text-align: right;\">  predict</th></tr>\n",
       "</thead>\n",
       "<tbody>\n",
       "<tr><td style=\"text-align: right;\">1461</td><td style=\"text-align: right;\">   109333</td></tr>\n",
       "<tr><td style=\"text-align: right;\">1462</td><td style=\"text-align: right;\">   146004</td></tr>\n",
       "<tr><td style=\"text-align: right;\">1463</td><td style=\"text-align: right;\">   163835</td></tr>\n",
       "<tr><td style=\"text-align: right;\">1464</td><td style=\"text-align: right;\">   184214</td></tr>\n",
       "<tr><td style=\"text-align: right;\">1465</td><td style=\"text-align: right;\">   201909</td></tr>\n",
       "<tr><td style=\"text-align: right;\">1466</td><td style=\"text-align: right;\">   162035</td></tr>\n",
       "<tr><td style=\"text-align: right;\">1467</td><td style=\"text-align: right;\">   176115</td></tr>\n",
       "<tr><td style=\"text-align: right;\">1468</td><td style=\"text-align: right;\">   159432</td></tr>\n",
       "<tr><td style=\"text-align: right;\">1469</td><td style=\"text-align: right;\">   180660</td></tr>\n",
       "<tr><td style=\"text-align: right;\">1470</td><td style=\"text-align: right;\">   113283</td></tr>\n",
       "</tbody>\n",
       "</table>"
      ]
     },
     "metadata": {},
     "output_type": "display_data"
    },
    {
     "name": "stdout",
     "output_type": "stream",
     "text": [
      "\n"
     ]
    }
   ],
   "source": [
    "sub = test['Id'].cbind(glm3.predict(test))\n",
    "sub['predict'] = sub['predict'].exp()\n",
    "print(sub.head())"
   ]
  },
  {
   "cell_type": "markdown",
   "metadata": {
    "deletable": true,
    "editable": true
   },
   "source": [
    "#### Create submission"
   ]
  },
  {
   "cell_type": "code",
   "execution_count": 28,
   "metadata": {
    "collapsed": false,
    "deletable": true,
    "editable": true
   },
   "outputs": [],
   "source": [
    "# create time stamp\n",
    "import re\n",
    "import time\n",
    "time_stamp = re.sub('[: ]', '_', time.asctime())\n",
    "\n",
    "# save file for submission\n",
    "sub.columns = ['Id', 'SalePrice']\n",
    "sub_fname = '../data/submission_' + str(time_stamp) + '.csv'\n",
    "h2o.download_csv(sub, sub_fname)"
   ]
  },
  {
   "cell_type": "code",
   "execution_count": 29,
   "metadata": {
    "collapsed": false,
    "deletable": true,
    "editable": true
   },
   "outputs": [
    {
     "name": "stdout",
     "output_type": "stream",
     "text": [
      "Are you sure you want to shutdown the H2O instance running at http://127.0.0.1:54321 (Y/N)? y\n",
      "H2O session _sid_83be closed.\n"
     ]
    }
   ],
   "source": [
    "# Shutdown H2O - this will erase all your unsaved frames and models in H2O\n",
    "h2o.cluster().shutdown(prompt=True)"
   ]
  }
 ],
 "metadata": {
  "anaconda-cloud": {},
  "kernelspec": {
   "display_name": "Python [default]",
   "language": "python",
   "name": "python3"
  },
  "language_info": {
   "codemirror_mode": {
    "name": "ipython",
    "version": 3
   },
   "file_extension": ".py",
   "mimetype": "text/x-python",
   "name": "python",
   "nbconvert_exporter": "python",
   "pygments_lexer": "ipython3",
   "version": "3.5.2"
  }
 },
 "nbformat": 4,
 "nbformat_minor": 2
}
