{
 "cells": [
  {
   "cell_type": "code",
   "execution_count": 1,
   "metadata": {
    "collapsed": true
   },
   "outputs": [],
   "source": [
    "import h2o\n",
    "from h2o.estimators.glm import H2OGeneralizedLinearEstimator"
   ]
  },
  {
   "cell_type": "code",
   "execution_count": 2,
   "metadata": {
    "collapsed": false
   },
   "outputs": [
    {
     "name": "stdout",
     "output_type": "stream",
     "text": [
      "Checking whether there is an H2O instance running at http://localhost:54321..... not found.\n",
      "Attempting to start a local H2O server...\n",
      "  Java Version: java version \"1.8.0_112\"; Java(TM) SE Runtime Environment (build 1.8.0_112-b16); Java HotSpot(TM) 64-Bit Server VM (build 25.112-b16, mixed mode)\n",
      "  Starting server from /Users/phall/anaconda/lib/python3.5/site-packages/h2o/backend/bin/h2o.jar\n",
      "  Ice root: /var/folders/tc/0ss1l73113j3wdyjsxmy1j2r0000gn/T/tmp_asmwwlt\n",
      "  JVM stdout: /var/folders/tc/0ss1l73113j3wdyjsxmy1j2r0000gn/T/tmp_asmwwlt/h2o_phall_started_from_python.out\n",
      "  JVM stderr: /var/folders/tc/0ss1l73113j3wdyjsxmy1j2r0000gn/T/tmp_asmwwlt/h2o_phall_started_from_python.err\n",
      "  Server is running at http://127.0.0.1:54321\n",
      "Connecting to H2O server at http://127.0.0.1:54321... successful.\n"
     ]
    },
    {
     "data": {
      "text/html": [
       "<div style=\"overflow:auto\"><table style=\"width:50%\"><tr><td>H2O cluster uptime:</td>\n",
       "<td>02 secs</td></tr>\n",
       "<tr><td>H2O cluster version:</td>\n",
       "<td>3.10.2.2</td></tr>\n",
       "<tr><td>H2O cluster version age:</td>\n",
       "<td>27 days </td></tr>\n",
       "<tr><td>H2O cluster name:</td>\n",
       "<td>H2O_from_python_phall_qnniwz</td></tr>\n",
       "<tr><td>H2O cluster total nodes:</td>\n",
       "<td>1</td></tr>\n",
       "<tr><td>H2O cluster free memory:</td>\n",
       "<td>3.556 Gb</td></tr>\n",
       "<tr><td>H2O cluster total cores:</td>\n",
       "<td>8</td></tr>\n",
       "<tr><td>H2O cluster allowed cores:</td>\n",
       "<td>8</td></tr>\n",
       "<tr><td>H2O cluster status:</td>\n",
       "<td>accepting new members, healthy</td></tr>\n",
       "<tr><td>H2O connection url:</td>\n",
       "<td>http://127.0.0.1:54321</td></tr>\n",
       "<tr><td>H2O connection proxy:</td>\n",
       "<td>None</td></tr>\n",
       "<tr><td>Python version:</td>\n",
       "<td>3.5.2 final</td></tr></table></div>"
      ],
      "text/plain": [
       "--------------------------  ------------------------------\n",
       "H2O cluster uptime:         02 secs\n",
       "H2O cluster version:        3.10.2.2\n",
       "H2O cluster version age:    27 days\n",
       "H2O cluster name:           H2O_from_python_phall_qnniwz\n",
       "H2O cluster total nodes:    1\n",
       "H2O cluster free memory:    3.556 Gb\n",
       "H2O cluster total cores:    8\n",
       "H2O cluster allowed cores:  8\n",
       "H2O cluster status:         accepting new members, healthy\n",
       "H2O connection url:         http://127.0.0.1:54321\n",
       "H2O connection proxy:\n",
       "Python version:             3.5.2 final\n",
       "--------------------------  ------------------------------"
      ]
     },
     "metadata": {},
     "output_type": "display_data"
    }
   ],
   "source": [
    "h2o.init()"
   ]
  },
  {
   "cell_type": "code",
   "execution_count": 9,
   "metadata": {
    "collapsed": true
   },
   "outputs": [],
   "source": [
    "# location of clean file\n",
    "path = '/Users/phall/workspace/GWU_data_mining/03_regression/data/loan.csv'"
   ]
  },
  {
   "cell_type": "code",
   "execution_count": 10,
   "metadata": {
    "collapsed": true
   },
   "outputs": [],
   "source": [
    "# define input variable measurement levels \n",
    "# strings automatically parsed as enums (nominal)\n",
    "# numbers automatically parsed as numeric\n",
    "col_types = {'bad_loan': 'enum'}"
   ]
  },
  {
   "cell_type": "code",
   "execution_count": 12,
   "metadata": {
    "collapsed": false
   },
   "outputs": [
    {
     "name": "stdout",
     "output_type": "stream",
     "text": [
      "Parse progress: |█████████████████████████████████████████████████████████| 100%\n"
     ]
    }
   ],
   "source": [
    "frame = h2o.import_file(path=path, col_types=col_types) # multi-threaded import"
   ]
  },
  {
   "cell_type": "code",
   "execution_count": 15,
   "metadata": {
    "collapsed": false
   },
   "outputs": [
    {
     "name": "stdout",
     "output_type": "stream",
     "text": [
      "Rows:163987\n",
      "Cols:16\n",
      "\n",
      "\n"
     ]
    },
    {
     "data": {
      "text/html": [
       "<table>\n",
       "<thead>\n",
       "<tr><th>       </th><th>id               </th><th>bad_loan  </th><th>loan_amnt         </th><th>int_rate          </th><th>emp_length       </th><th>home_ownership  </th><th>annual_inc        </th><th>purpose           </th><th>addr_state  </th><th>dti               </th><th>delinq_2yrs        </th><th>revol_util        </th><th>total_acc         </th><th>longest_credit_length  </th><th>verification_status  </th><th>term_length       </th></tr>\n",
       "</thead>\n",
       "<tbody>\n",
       "<tr><td>type   </td><td>int              </td><td>enum      </td><td>int               </td><td>real              </td><td>int              </td><td>enum            </td><td>real              </td><td>enum              </td><td>enum        </td><td>real              </td><td>int                </td><td>real              </td><td>int               </td><td>int                    </td><td>enum                 </td><td>int               </td></tr>\n",
       "<tr><td>mins   </td><td>10001.0          </td><td>          </td><td>500.0             </td><td>5.42              </td><td>0.0              </td><td>                </td><td>1896.0            </td><td>                  </td><td>            </td><td>0.0               </td><td>0.0                </td><td>0.0               </td><td>1.0               </td><td>0.0                    </td><td>                     </td><td>36.0              </td></tr>\n",
       "<tr><td>mean   </td><td>91994.0          </td><td>          </td><td>13073.209220415742</td><td>13.717143207254315</td><td>5.686200649105202</td><td>                </td><td>71931.19588595249 </td><td>                  </td><td>            </td><td>15.880794152061497</td><td>0.22746713629788037</td><td>54.07622244747627 </td><td>24.577910646698616</td><td>14.8582097058084       </td><td>                     </td><td>40.980679245283056</td></tr>\n",
       "<tr><td>maxs   </td><td>173987.0         </td><td>          </td><td>35000.0           </td><td>26.060000000000002</td><td>10.0             </td><td>                </td><td>7141778.0         </td><td>                  </td><td>            </td><td>39.93             </td><td>29.0               </td><td>150.70000000000002</td><td>118.0             </td><td>65.0                   </td><td>                     </td><td>60.0              </td></tr>\n",
       "<tr><td>sigma  </td><td>47339.11363414683</td><td>          </td><td>7992.3993793601785</td><td>4.3935679462170425</td><td>3.610039811481059</td><td>                </td><td>59464.026648950334</td><td>                  </td><td>            </td><td>7.583636421364416 </td><td>0.6949139713078192 </td><td>25.284135504932134</td><td>11.685003948632696</td><td>6.949793041523766      </td><td>                     </td><td>9.732920010298912 </td></tr>\n",
       "<tr><td>zeros  </td><td>0                </td><td>          </td><td>0                 </td><td>0                 </td><td>13810            </td><td>                </td><td>0                 </td><td>                  </td><td>            </td><td>263               </td><td>135210             </td><td>1515              </td><td>0                 </td><td>11                     </td><td>                     </td><td>0                 </td></tr>\n",
       "<tr><td>missing</td><td>0                </td><td>0         </td><td>4992              </td><td>4854              </td><td>10545            </td><td>2571            </td><td>4983              </td><td>2488              </td><td>2484        </td><td>5025              </td><td>4997               </td><td>5154              </td><td>4933              </td><td>4907                   </td><td>2426                 </td><td>4987              </td></tr>\n",
       "<tr><td>0      </td><td>10001.0          </td><td>0         </td><td>5000.0            </td><td>10.65             </td><td>10.0             </td><td>RENT            </td><td>24000.0           </td><td>credit_card       </td><td>AZ          </td><td>27.650000000000002</td><td>0.0                </td><td>83.7              </td><td>9.0               </td><td>26.0                   </td><td>verified             </td><td>36.0              </td></tr>\n",
       "<tr><td>1      </td><td>10002.0          </td><td>1         </td><td>2500.0            </td><td>15.27             </td><td>0.0              </td><td>RENT            </td><td>30000.0           </td><td>car               </td><td>GA          </td><td>1.0               </td><td>0.0                </td><td>9.4               </td><td>4.0               </td><td>12.0                   </td><td>verified             </td><td>60.0              </td></tr>\n",
       "<tr><td>2      </td><td>10003.0          </td><td>0         </td><td>2400.0            </td><td>15.96             </td><td>10.0             </td><td>RENT            </td><td>12252.0           </td><td>small_business    </td><td>IL          </td><td>8.72              </td><td>0.0                </td><td>98.5              </td><td>10.0              </td><td>10.0                   </td><td>not verified         </td><td>36.0              </td></tr>\n",
       "<tr><td>3      </td><td>10004.0          </td><td>0         </td><td>10000.0           </td><td>13.49             </td><td>10.0             </td><td>RENT            </td><td>nan               </td><td>other             </td><td>CA          </td><td>20.0              </td><td>0.0                </td><td>nan               </td><td>37.0              </td><td>15.0                   </td><td>verified             </td><td>36.0              </td></tr>\n",
       "<tr><td>4      </td><td>10005.0          </td><td>0         </td><td>5000.0            </td><td>7.9               </td><td>3.0              </td><td>RENT            </td><td>36000.0           </td><td>wedding           </td><td>AZ          </td><td>11.200000000000001</td><td>0.0                </td><td>28.3              </td><td>12.0              </td><td>nan                    </td><td>verified             </td><td>36.0              </td></tr>\n",
       "<tr><td>5      </td><td>10006.0          </td><td>0         </td><td>3000.0            </td><td>18.64             </td><td>9.0              </td><td>RENT            </td><td>48000.0           </td><td>car               </td><td>CA          </td><td>5.3500000000000005</td><td>0.0                </td><td>87.5              </td><td>4.0               </td><td>4.0                    </td><td>verified             </td><td>36.0              </td></tr>\n",
       "<tr><td>6      </td><td>10007.0          </td><td>1         </td><td>5600.0            </td><td>21.28             </td><td>4.0              </td><td>OWN             </td><td>40000.0           </td><td>small_business    </td><td>CA          </td><td>5.55              </td><td>0.0                </td><td>32.6              </td><td>13.0              </td><td>7.0                    </td><td>verified             </td><td>60.0              </td></tr>\n",
       "<tr><td>7      </td><td>10008.0          </td><td>1         </td><td>5375.0            </td><td>12.69             </td><td>0.0              </td><td>RENT            </td><td>15000.0           </td><td>other             </td><td>TX          </td><td>18.080000000000002</td><td>0.0                </td><td>36.5              </td><td>3.0               </td><td>7.0                    </td><td>verified             </td><td>60.0              </td></tr>\n",
       "<tr><td>8      </td><td>10009.0          </td><td>0         </td><td>6500.0            </td><td>14.65             </td><td>5.0              </td><td>OWN             </td><td>72000.0           </td><td>debt_consolidation</td><td>AZ          </td><td>16.12             </td><td>0.0                </td><td>20.6              </td><td>23.0              </td><td>13.0                   </td><td>not verified         </td><td>60.0              </td></tr>\n",
       "<tr><td>9      </td><td>10010.0          </td><td>0         </td><td>12000.0           </td><td>12.69             </td><td>10.0             </td><td>OWN             </td><td>75000.0           </td><td>debt_consolidation</td><td>CA          </td><td>10.78             </td><td>0.0                </td><td>67.1              </td><td>34.0              </td><td>22.0                   </td><td>verified             </td><td>36.0              </td></tr>\n",
       "</tbody>\n",
       "</table>"
      ]
     },
     "metadata": {},
     "output_type": "display_data"
    }
   ],
   "source": [
    "frame.describe()"
   ]
  },
  {
   "cell_type": "code",
   "execution_count": 17,
   "metadata": {
    "collapsed": false
   },
   "outputs": [],
   "source": [
    "# split into training and test\n",
    "train, test = frame.split_frame([0.9])"
   ]
  },
  {
   "cell_type": "code",
   "execution_count": null,
   "metadata": {
    "collapsed": true
   },
   "outputs": [],
   "source": [
    "# assign target and inputs for linear regression\n",
    "y = 'loan_amount'\n",
    "X = [name for name in frame.columns if name not in ['id', y]]"
   ]
  },
  {
   "cell_type": "code",
   "execution_count": null,
   "metadata": {
    "collapsed": true
   },
   "outputs": [],
   "source": [
    "loan_glm = H2OGeneralizedLinearEstimator(family='gaussian',\n",
    "                                         model_id='loan_glm1',\n",
    "                                         solver='IRLS'\n",
    "                                         lambda_search=True)"
   ]
  },
  {
   "cell_type": "code",
   "execution_count": null,
   "metadata": {
    "collapsed": true
   },
   "outputs": [],
   "source": [
    "h2o.shutdown(prompt=False)"
   ]
  }
 ],
 "metadata": {
  "anaconda-cloud": {},
  "kernelspec": {
   "display_name": "Python [conda root]",
   "language": "python",
   "name": "conda-root-py"
  },
  "language_info": {
   "codemirror_mode": {
    "name": "ipython",
    "version": 3
   },
   "file_extension": ".py",
   "mimetype": "text/x-python",
   "name": "python",
   "nbconvert_exporter": "python",
   "pygments_lexer": "ipython3",
   "version": "3.5.2"
  }
 },
 "nbformat": 4,
 "nbformat_minor": 2
}
