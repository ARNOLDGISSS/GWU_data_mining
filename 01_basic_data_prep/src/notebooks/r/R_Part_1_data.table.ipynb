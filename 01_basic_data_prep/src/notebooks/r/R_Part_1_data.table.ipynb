{
 "cells": [
  {
   "cell_type": "markdown",
   "metadata": {},
   "source": [
    "# R: Part 1 - data.table\n",
    "For introduction see part 0: https://github.com/jphall663/GWU_data_mining/blob/master/01_basic_data_prep/src/notebooks/r/R_Part_0_Basics_dplyr_and_ggplot2.ipynb\n",
    "***\n",
    "## 1. Load library\n",
    "\n",
    "`data.table` is an efficient package for manipulating data sets\n",
    "* data.table is implemented in optimized C and often attempts to update items by reference to avoid copying large amounts of data\n",
    "* data.table is a subclass of data.frame and generally accepts data.frame syntax \n",
    "* general form of a `data.table` is `dt[i, j, by]`\n",
    "  * `i` is row index, indexed from 1 ...\n",
    "  * `j` is col index, indexed from 1 ...\n",
    "  * by is by-group var name"
   ]
  },
  {
   "cell_type": "code",
   "execution_count": 1,
   "metadata": {
    "collapsed": true
   },
   "outputs": [],
   "source": [
    "library(data.table)"
   ]
  },
  {
   "cell_type": "markdown",
   "metadata": {},
   "source": [
    "***\n",
    "## 2. Setting the working directory\n",
    "\n",
    "#### Enter the directory location of this file within single quotes"
   ]
  },
  {
   "cell_type": "code",
   "execution_count": 2,
   "metadata": {
    "collapsed": true
   },
   "outputs": [],
   "source": [
    "# '<-' is the preferred assignment operator in R\n",
    "# '/' is the safest directory separator character to use\n",
    "\n",
    "git_dir <- 'C:/workspace/GWU_data_mining/01_basic_data_prep/src/notebooks/r'"
   ]
  },
  {
   "cell_type": "markdown",
   "metadata": {},
   "source": [
    "#### Set the working directory\n",
    "\n",
    "* The working directory is where files are written to and read from by default\n",
    "* `setwd()` sets the working directory\n",
    "* `getwd()` prints the current working directory"
   ]
  },
  {
   "cell_type": "code",
   "execution_count": 3,
   "metadata": {
    "collapsed": false
   },
   "outputs": [
    {
     "data": {
      "text/html": [
       "'C:/workspace/GWU_data_mining/01_basic_data_prep/src/notebooks'"
      ],
      "text/latex": [
       "'C:/workspace/GWU\\_data\\_mining/01\\_basic\\_data\\_prep/src/notebooks'"
      ],
      "text/markdown": [
       "'C:/workspace/GWU_data_mining/01_basic_data_prep/src/notebooks'"
      ],
      "text/plain": [
       "[1] \"C:/workspace/GWU_data_mining/01_basic_data_prep/src/notebooks\""
      ]
     },
     "metadata": {},
     "output_type": "display_data"
    }
   ],
   "source": [
    "setwd(git_dir)\n",
    "getwd()"
   ]
  },
  {
   "cell_type": "markdown",
   "metadata": {
    "collapsed": true
   },
   "source": [
    "***\n",
    "## 3. Generating a sample data set\n",
    "\n",
    "#### Set the number of rows and columns for the sample data set"
   ]
  },
  {
   "cell_type": "code",
   "execution_count": 4,
   "metadata": {
    "collapsed": true
   },
   "outputs": [],
   "source": [
    "n_rows <- 1000\n",
    "n_vars <- 2"
   ]
  },
  {
   "cell_type": "markdown",
   "metadata": {},
   "source": [
    "#### Create a key variable\n",
    "* A key variable has a unique value for each row of a data set\n",
    "* `seq()` generates values from a number (default = 1), to another number, by a certain value (default = 1)\n",
    "* Many types of data structures in R have key variables (a.k.a. row names) by default"
   ]
  },
  {
   "cell_type": "code",
   "execution_count": 5,
   "metadata": {
    "collapsed": true
   },
   "outputs": [],
   "source": [
    "key <- seq(n_rows)"
   ]
  },
  {
   "cell_type": "markdown",
   "metadata": {},
   "source": [
    "#### Show the first five elements of `key`\n",
    "\n",
    "Most data structures in R can be 'sliced', i.e. using numeric indices to select a subset of items "
   ]
  },
  {
   "cell_type": "code",
   "execution_count": 6,
   "metadata": {
    "collapsed": false
   },
   "outputs": [
    {
     "data": {
      "text/html": [
       "<ol class=list-inline>\n",
       "\t<li>1</li>\n",
       "\t<li>2</li>\n",
       "\t<li>3</li>\n",
       "\t<li>4</li>\n",
       "\t<li>5</li>\n",
       "</ol>\n"
      ],
      "text/latex": [
       "\\begin{enumerate*}\n",
       "\\item 1\n",
       "\\item 2\n",
       "\\item 3\n",
       "\\item 4\n",
       "\\item 5\n",
       "\\end{enumerate*}\n"
      ],
      "text/markdown": [
       "1. 1\n",
       "2. 2\n",
       "3. 3\n",
       "4. 4\n",
       "5. 5\n",
       "\n",
       "\n"
      ],
      "text/plain": [
       "[1] 1 2 3 4 5"
      ]
     },
     "metadata": {},
     "output_type": "display_data"
    }
   ],
   "source": [
    "key[1:5] "
   ]
  },
  {
   "cell_type": "markdown",
   "metadata": {},
   "source": [
    "#### Create lists of strings that will become column names\n",
    "\n",
    "`paste()` concatentates strings with a separator character in between them"
   ]
  },
  {
   "cell_type": "code",
   "execution_count": 7,
   "metadata": {
    "collapsed": false
   },
   "outputs": [
    {
     "data": {
      "text/html": [
       "<ol class=list-inline>\n",
       "\t<li>'numeric1'</li>\n",
       "\t<li>'numeric2'</li>\n",
       "</ol>\n"
      ],
      "text/latex": [
       "\\begin{enumerate*}\n",
       "\\item 'numeric1'\n",
       "\\item 'numeric2'\n",
       "\\end{enumerate*}\n"
      ],
      "text/markdown": [
       "1. 'numeric1'\n",
       "2. 'numeric2'\n",
       "\n",
       "\n"
      ],
      "text/plain": [
       "[1] \"numeric1\" \"numeric2\""
      ]
     },
     "metadata": {},
     "output_type": "display_data"
    },
    {
     "data": {
      "text/html": [
       "<ol class=list-inline>\n",
       "\t<li>'char1'</li>\n",
       "\t<li>'char2'</li>\n",
       "</ol>\n"
      ],
      "text/latex": [
       "\\begin{enumerate*}\n",
       "\\item 'char1'\n",
       "\\item 'char2'\n",
       "\\end{enumerate*}\n"
      ],
      "text/markdown": [
       "1. 'char1'\n",
       "2. 'char2'\n",
       "\n",
       "\n"
      ],
      "text/plain": [
       "[1] \"char1\" \"char2\""
      ]
     },
     "metadata": {},
     "output_type": "display_data"
    }
   ],
   "source": [
    "num_vars <- paste('numeric', seq_len(n_vars), sep = '')\n",
    "num_vars \n",
    "\n",
    "char_vars <- paste('char', seq_len(n_vars), sep = '')\n",
    "char_vars"
   ]
  },
  {
   "cell_type": "markdown",
   "metadata": {},
   "source": [
    "#### Create a list of strings from which to generate random text variables\n",
    "* `sapply()` applies a function to a sequence of values\n",
    "* `LETTERS` is a character vector containing uppercase letters\n",
    "* An anonymous function is defined that replicates a value 8 times with no seperator character"
   ]
  },
  {
   "cell_type": "code",
   "execution_count": 8,
   "metadata": {
    "collapsed": false
   },
   "outputs": [
    {
     "data": {
      "text/html": [
       "<dl class=dl-horizontal>\n",
       "\t<dt>A</dt>\n",
       "\t\t<dd>'AAAAAAAA'</dd>\n",
       "\t<dt>B</dt>\n",
       "\t\t<dd>'BBBBBBBB'</dd>\n",
       "\t<dt>C</dt>\n",
       "\t\t<dd>'CCCCCCCC'</dd>\n",
       "\t<dt>D</dt>\n",
       "\t\t<dd>'DDDDDDDD'</dd>\n",
       "\t<dt>E</dt>\n",
       "\t\t<dd>'EEEEEEEE'</dd>\n",
       "\t<dt>F</dt>\n",
       "\t\t<dd>'FFFFFFFF'</dd>\n",
       "\t<dt>G</dt>\n",
       "\t\t<dd>'GGGGGGGG'</dd>\n",
       "</dl>\n"
      ],
      "text/latex": [
       "\\begin{description*}\n",
       "\\item[A] 'AAAAAAAA'\n",
       "\\item[B] 'BBBBBBBB'\n",
       "\\item[C] 'CCCCCCCC'\n",
       "\\item[D] 'DDDDDDDD'\n",
       "\\item[E] 'EEEEEEEE'\n",
       "\\item[F] 'FFFFFFFF'\n",
       "\\item[G] 'GGGGGGGG'\n",
       "\\end{description*}\n"
      ],
      "text/markdown": [
       "A\n",
       ":   'AAAAAAAA'B\n",
       ":   'BBBBBBBB'C\n",
       ":   'CCCCCCCC'D\n",
       ":   'DDDDDDDD'E\n",
       ":   'EEEEEEEE'F\n",
       ":   'FFFFFFFF'G\n",
       ":   'GGGGGGGG'\n",
       "\n"
      ],
      "text/plain": [
       "         A          B          C          D          E          F          G \n",
       "\"AAAAAAAA\" \"BBBBBBBB\" \"CCCCCCCC\" \"DDDDDDDD\" \"EEEEEEEE\" \"FFFFFFFF\" \"GGGGGGGG\" "
      ]
     },
     "metadata": {},
     "output_type": "display_data"
    }
   ],
   "source": [
    "text_draw <- sapply(LETTERS[1:7],\n",
    "                    FUN = function(x) paste(rep(x, 8), collapse = \"\"))\n",
    "text_draw "
   ]
  },
  {
   "cell_type": "markdown",
   "metadata": {},
   "source": [
    "#### Create a sample `data.table`\n",
    "* `replicate()` replicates `n_row` length lists of numeric values `n_vars` times\n",
    "* `replicate()` replicates n_var lists of n_row elements from text_draw sampled randomly from `test_draw` using the `sample()` function"
   ]
  },
  {
   "cell_type": "code",
   "execution_count": 9,
   "metadata": {
    "collapsed": true
   },
   "outputs": [],
   "source": [
    "scratch_dt <- data.table(key,\n",
    "                         replicate(n_vars, runif(n_rows)), \n",
    "                         replicate(n_vars, sample(text_draw, n_rows, \n",
    "                                                  replace = TRUE)))"
   ]
  },
  {
   "cell_type": "markdown",
   "metadata": {},
   "source": [
    "The `data.table::set*` family of methods in data.table always updates items by reference for efficiency"
   ]
  },
  {
   "cell_type": "code",
   "execution_count": 10,
   "metadata": {
    "collapsed": true
   },
   "outputs": [],
   "source": [
    "setnames(scratch_dt, c('key', num_vars, char_vars))"
   ]
  },
  {
   "cell_type": "markdown",
   "metadata": {},
   "source": [
    "Set option to print first 5 and last 5 rows of `data.table` by default"
   ]
  },
  {
   "cell_type": "code",
   "execution_count": 11,
   "metadata": {
    "collapsed": false
   },
   "outputs": [
    {
     "name": "stdout",
     "output_type": "stream",
     "text": [
      "       key   numeric1    numeric2    char1    char2\n",
      "   1:    1 0.51494785 0.767991723 FFFFFFFF FFFFFFFF\n",
      "   2:    2 0.36132422 0.868816448 FFFFFFFF DDDDDDDD\n",
      "   3:    3 0.71456376 0.160537094 GGGGGGGG AAAAAAAA\n",
      "   4:    4 0.64633263 0.550704608 BBBBBBBB CCCCCCCC\n",
      "   5:    5 0.11546163 0.044725391 AAAAAAAA CCCCCCCC\n",
      "  ---                                              \n",
      " 996:  996 0.49468994 0.908724921 AAAAAAAA EEEEEEEE\n",
      " 997:  997 0.07238554 0.560199407 AAAAAAAA GGGGGGGG\n",
      " 998:  998 0.03046075 0.008601266 DDDDDDDD GGGGGGGG\n",
      " 999:  999 0.12894029 0.381171830 DDDDDDDD BBBBBBBB\n",
      "1000: 1000 0.93970260 0.632544576 GGGGGGGG FFFFFFFF\n"
     ]
    }
   ],
   "source": [
    "options(datatable.print.topn=5)\n",
    "print(scratch_dt)"
   ]
  },
  {
   "cell_type": "markdown",
   "metadata": {},
   "source": [
    "***\n",
    "## 4. Plotting variables in a table\n",
    "`data.table` enables simple plotting for numeric variables"
   ]
  },
  {
   "cell_type": "code",
   "execution_count": 12,
   "metadata": {
    "collapsed": false
   },
   "outputs": [
    {
     "data": {
      "text/plain": [
       "NULL"
      ]
     },
     "metadata": {},
     "output_type": "display_data"
    },
    {
     "data": {
      "image/png": "[encoded data removed]",
      "text/plain": [
       "plot without title"
      ]
     },
     "metadata": {},
     "output_type": "display_data"
    }
   ],
   "source": [
    "scratch_dt[,plot(numeric1, numeric2)]"
   ]
  },
  {
   "cell_type": "markdown",
   "metadata": {},
   "source": [
    "***\n",
    "## 5. Subsetting tables"
   ]
  },
  {
   "cell_type": "markdown",
   "metadata": {},
   "source": [
    "### Subsetting a `data.table` by column"
   ]
  },
  {
   "cell_type": "markdown",
   "metadata": {},
   "source": [
    "Selecting a single column results in a vector"
   ]
  },
  {
   "cell_type": "code",
   "execution_count": 13,
   "metadata": {
    "collapsed": false
   },
   "outputs": [
    {
     "data": {
      "text/html": [
       "'character'"
      ],
      "text/latex": [
       "'character'"
      ],
      "text/markdown": [
       "'character'"
      ],
      "text/plain": [
       "[1] \"character\""
      ]
     },
     "metadata": {},
     "output_type": "display_data"
    },
    {
     "data": {
      "text/html": [
       "1000"
      ],
      "text/latex": [
       "1000"
      ],
      "text/markdown": [
       "1000"
      ],
      "text/plain": [
       "[1] 1000"
      ]
     },
     "metadata": {},
     "output_type": "display_data"
    }
   ],
   "source": [
    "class(scratch_dt[,char1])\n",
    "length(scratch_dt[,char1])"
   ]
  },
  {
   "cell_type": "markdown",
   "metadata": {},
   "source": [
    "##### Multiple columns can be selected"
   ]
  },
  {
   "cell_type": "markdown",
   "metadata": {},
   "source": [
    "Specifying multiple columns by a vector results in a concatenated vector"
   ]
  },
  {
   "cell_type": "code",
   "execution_count": 14,
   "metadata": {
    "collapsed": false
   },
   "outputs": [
    {
     "data": {
      "text/html": [
       "'character'"
      ],
      "text/latex": [
       "'character'"
      ],
      "text/markdown": [
       "'character'"
      ],
      "text/plain": [
       "[1] \"character\""
      ]
     },
     "metadata": {},
     "output_type": "display_data"
    },
    {
     "data": {
      "text/html": [
       "2000"
      ],
      "text/latex": [
       "2000"
      ],
      "text/markdown": [
       "2000"
      ],
      "text/plain": [
       "[1] 2000"
      ]
     },
     "metadata": {},
     "output_type": "display_data"
    }
   ],
   "source": [
    "class(scratch_dt[,c(numeric1, char1)])\n",
    "length(scratch_dt[,c(numeric1, char1)])"
   ]
  },
  {
   "cell_type": "markdown",
   "metadata": {},
   "source": [
    "Specifying multiple columns by list results in a `data.table`"
   ]
  },
  {
   "cell_type": "code",
   "execution_count": 15,
   "metadata": {
    "collapsed": false
   },
   "outputs": [
    {
     "data": {
      "text/html": [
       "<ol class=list-inline>\n",
       "\t<li>'data.table'</li>\n",
       "\t<li>'data.frame'</li>\n",
       "</ol>\n"
      ],
      "text/latex": [
       "\\begin{enumerate*}\n",
       "\\item 'data.table'\n",
       "\\item 'data.frame'\n",
       "\\end{enumerate*}\n"
      ],
      "text/markdown": [
       "1. 'data.table'\n",
       "2. 'data.frame'\n",
       "\n",
       "\n"
      ],
      "text/plain": [
       "[1] \"data.table\" \"data.frame\""
      ]
     },
     "metadata": {},
     "output_type": "display_data"
    },
    {
     "name": "stdout",
     "output_type": "stream",
     "text": [
      "        numeric1    char1\n",
      "   1: 0.51494785 FFFFFFFF\n",
      "   2: 0.36132422 FFFFFFFF\n",
      "   3: 0.71456376 GGGGGGGG\n",
      "   4: 0.64633263 BBBBBBBB\n",
      "   5: 0.11546163 AAAAAAAA\n",
      "  ---                    \n",
      " 996: 0.49468994 AAAAAAAA\n",
      " 997: 0.07238554 AAAAAAAA\n",
      " 998: 0.03046075 DDDDDDDD\n",
      " 999: 0.12894029 DDDDDDDD\n",
      "1000: 0.93970260 GGGGGGGG\n"
     ]
    }
   ],
   "source": [
    "class(scratch_dt[,list(numeric1, char1)])\n",
    "print(scratch_dt[,list(numeric1, char1)])"
   ]
  },
  {
   "cell_type": "markdown",
   "metadata": {},
   "source": [
    "'.' is an alias for 'list'"
   ]
  },
  {
   "cell_type": "code",
   "execution_count": 16,
   "metadata": {
    "collapsed": false
   },
   "outputs": [
    {
     "data": {
      "text/html": [
       "<ol class=list-inline>\n",
       "\t<li>'data.table'</li>\n",
       "\t<li>'data.frame'</li>\n",
       "</ol>\n"
      ],
      "text/latex": [
       "\\begin{enumerate*}\n",
       "\\item 'data.table'\n",
       "\\item 'data.frame'\n",
       "\\end{enumerate*}\n"
      ],
      "text/markdown": [
       "1. 'data.table'\n",
       "2. 'data.frame'\n",
       "\n",
       "\n"
      ],
      "text/plain": [
       "[1] \"data.table\" \"data.frame\""
      ]
     },
     "metadata": {},
     "output_type": "display_data"
    },
    {
     "name": "stdout",
     "output_type": "stream",
     "text": [
      "        numeric1    char1\n",
      "   1: 0.51494785 FFFFFFFF\n",
      "   2: 0.36132422 FFFFFFFF\n",
      "   3: 0.71456376 GGGGGGGG\n",
      "   4: 0.64633263 BBBBBBBB\n",
      "   5: 0.11546163 AAAAAAAA\n",
      "  ---                    \n",
      " 996: 0.49468994 AAAAAAAA\n",
      " 997: 0.07238554 AAAAAAAA\n",
      " 998: 0.03046075 DDDDDDDD\n",
      " 999: 0.12894029 DDDDDDDD\n",
      "1000: 0.93970260 GGGGGGGG\n"
     ]
    }
   ],
   "source": [
    "class(scratch_dt[,.(numeric1, char1)] )\n",
    "print(scratch_dt[,.(numeric1, char1)])"
   ]
  },
  {
   "cell_type": "markdown",
   "metadata": {},
   "source": [
    "##### Computed columns"
   ]
  },
  {
   "cell_type": "markdown",
   "metadata": {},
   "source": [
    "Compute a standalone vector and display first five elements"
   ]
  },
  {
   "cell_type": "code",
   "execution_count": 17,
   "metadata": {
    "collapsed": false
   },
   "outputs": [
    {
     "data": {
      "text/html": [
       "<ol class=list-inline>\n",
       "\t<li>0.5</li>\n",
       "\t<li>0.4</li>\n",
       "\t<li>0.7</li>\n",
       "\t<li>0.6</li>\n",
       "\t<li>0.1</li>\n",
       "</ol>\n"
      ],
      "text/latex": [
       "\\begin{enumerate*}\n",
       "\\item 0.5\n",
       "\\item 0.4\n",
       "\\item 0.7\n",
       "\\item 0.6\n",
       "\\item 0.1\n",
       "\\end{enumerate*}\n"
      ],
      "text/markdown": [
       "1. 0.5\n",
       "2. 0.4\n",
       "3. 0.7\n",
       "4. 0.6\n",
       "5. 0.1\n",
       "\n",
       "\n"
      ],
      "text/plain": [
       "[1] 0.5 0.4 0.7 0.6 0.1"
      ]
     },
     "metadata": {},
     "output_type": "display_data"
    }
   ],
   "source": [
    "scratch_dt[1:5, round(numeric1, 1)] # compute standalone vector"
   ]
  },
  {
   "cell_type": "markdown",
   "metadata": {},
   "source": [
    "Compute a new column with assigned name"
   ]
  },
  {
   "cell_type": "code",
   "execution_count": 18,
   "metadata": {
    "collapsed": false
   },
   "outputs": [
    {
     "name": "stdout",
     "output_type": "stream",
     "text": [
      "      new_numeric\n",
      "   1:         0.5\n",
      "   2:         0.4\n",
      "   3:         0.7\n",
      "   4:         0.6\n",
      "   5:         0.1\n",
      "  ---            \n",
      " 996:         0.5\n",
      " 997:         0.1\n",
      " 998:         0.0\n",
      " 999:         0.1\n",
      "1000:         0.9\n"
     ]
    }
   ],
   "source": [
    "print(scratch_dt[, .(new_numeric = round(numeric1, 1))]) # assign name"
   ]
  },
  {
   "cell_type": "markdown",
   "metadata": {},
   "source": [
    "### Subsetting a `data.table` by row"
   ]
  },
  {
   "cell_type": "markdown",
   "metadata": {},
   "source": [
    "Use numeric indices (or 'slicing')"
   ]
  },
  {
   "cell_type": "code",
   "execution_count": 19,
   "metadata": {
    "collapsed": false
   },
   "outputs": [
    {
     "data": {
      "text/html": [
       "<table>\n",
       "<thead><tr><th scope=col>key</th><th scope=col>numeric1</th><th scope=col>numeric2</th><th scope=col>char1</th><th scope=col>char2</th></tr></thead>\n",
       "<tbody>\n",
       "\t<tr><td>3         </td><td>0.7145638 </td><td>0.16053709</td><td>GGGGGGGG  </td><td>AAAAAAAA  </td></tr>\n",
       "\t<tr><td>4         </td><td>0.6463326 </td><td>0.55070461</td><td>BBBBBBBB  </td><td>CCCCCCCC  </td></tr>\n",
       "\t<tr><td>5         </td><td>0.1154616 </td><td>0.04472539</td><td>AAAAAAAA  </td><td>CCCCCCCC  </td></tr>\n",
       "</tbody>\n",
       "</table>\n"
      ],
      "text/latex": [
       "\\begin{tabular}{r|lllll}\n",
       " key & numeric1 & numeric2 & char1 & char2\\\\\n",
       "\\hline\n",
       "\t 3          & 0.7145638  & 0.16053709 & GGGGGGGG   & AAAAAAAA  \\\\\n",
       "\t 4          & 0.6463326  & 0.55070461 & BBBBBBBB   & CCCCCCCC  \\\\\n",
       "\t 5          & 0.1154616  & 0.04472539 & AAAAAAAA   & CCCCCCCC  \\\\\n",
       "\\end{tabular}\n"
      ],
      "text/plain": [
       "  key numeric1  numeric2   char1    char2   \n",
       "1 3   0.7145638 0.16053709 GGGGGGGG AAAAAAAA\n",
       "2 4   0.6463326 0.55070461 BBBBBBBB CCCCCCCC\n",
       "3 5   0.1154616 0.04472539 AAAAAAAA CCCCCCCC"
      ]
     },
     "metadata": {},
     "output_type": "display_data"
    }
   ],
   "source": [
    "scratch_dt[3:5]"
   ]
  },
  {
   "cell_type": "code",
   "execution_count": 20,
   "metadata": {
    "collapsed": false
   },
   "outputs": [
    {
     "data": {
      "text/html": [
       "<table>\n",
       "<thead><tr><th scope=col>key</th><th scope=col>numeric1</th><th scope=col>numeric2</th><th scope=col>char1</th><th scope=col>char2</th></tr></thead>\n",
       "<tbody>\n",
       "\t<tr><td>3         </td><td>0.7145638 </td><td>0.16053709</td><td>GGGGGGGG  </td><td>AAAAAAAA  </td></tr>\n",
       "\t<tr><td>4         </td><td>0.6463326 </td><td>0.55070461</td><td>BBBBBBBB  </td><td>CCCCCCCC  </td></tr>\n",
       "\t<tr><td>5         </td><td>0.1154616 </td><td>0.04472539</td><td>AAAAAAAA  </td><td>CCCCCCCC  </td></tr>\n",
       "</tbody>\n",
       "</table>\n"
      ],
      "text/latex": [
       "\\begin{tabular}{r|lllll}\n",
       " key & numeric1 & numeric2 & char1 & char2\\\\\n",
       "\\hline\n",
       "\t 3          & 0.7145638  & 0.16053709 & GGGGGGGG   & AAAAAAAA  \\\\\n",
       "\t 4          & 0.6463326  & 0.55070461 & BBBBBBBB   & CCCCCCCC  \\\\\n",
       "\t 5          & 0.1154616  & 0.04472539 & AAAAAAAA   & CCCCCCCC  \\\\\n",
       "\\end{tabular}\n"
      ],
      "text/plain": [
       "  key numeric1  numeric2   char1    char2   \n",
       "1 3   0.7145638 0.16053709 GGGGGGGG AAAAAAAA\n",
       "2 4   0.6463326 0.55070461 BBBBBBBB CCCCCCCC\n",
       "3 5   0.1154616 0.04472539 AAAAAAAA CCCCCCCC"
      ]
     },
     "metadata": {},
     "output_type": "display_data"
    }
   ],
   "source": [
    "scratch_dt[3:5,] # comma is optional"
   ]
  },
  {
   "cell_type": "markdown",
   "metadata": {},
   "source": [
    "Use variable values"
   ]
  },
  {
   "cell_type": "code",
   "execution_count": 21,
   "metadata": {
    "collapsed": false
   },
   "outputs": [
    {
     "name": "stdout",
     "output_type": "stream",
     "text": [
      "     key    numeric1    numeric2    char1    char2\n",
      "  1:   7 0.567380503 0.238937604 DDDDDDDD DDDDDDDD\n",
      "  2:   9 0.002596827 0.995908902 DDDDDDDD DDDDDDDD\n",
      "  3:  29 0.072774363 0.577872526 DDDDDDDD AAAAAAAA\n",
      "  4:  31 0.863638343 0.285148558 DDDDDDDD BBBBBBBB\n",
      "  5:  43 0.625725270 0.123548673 DDDDDDDD GGGGGGGG\n",
      " ---                                              \n",
      "129: 983 0.492702231 0.208963786 DDDDDDDD CCCCCCCC\n",
      "130: 990 0.442164307 0.360159572 DDDDDDDD FFFFFFFF\n",
      "131: 992 0.075625865 0.279108718 DDDDDDDD DDDDDDDD\n",
      "132: 998 0.030460753 0.008601266 DDDDDDDD GGGGGGGG\n",
      "133: 999 0.128940293 0.381171830 DDDDDDDD BBBBBBBB\n"
     ]
    }
   ],
   "source": [
    "print(scratch_dt[char1 == 'DDDDDDDD'])"
   ]
  },
  {
   "cell_type": "code",
   "execution_count": 22,
   "metadata": {
    "collapsed": false
   },
   "outputs": [
    {
     "name": "stdout",
     "output_type": "stream",
     "text": [
      "     key    numeric1    numeric2    char1    char2\n",
      "  1:   7 0.567380503 0.238937604 DDDDDDDD DDDDDDDD\n",
      "  2:   9 0.002596827 0.995908902 DDDDDDDD DDDDDDDD\n",
      "  3:  14 0.836863027 0.964689109 EEEEEEEE EEEEEEEE\n",
      "  4:  26 0.734141510 0.123778643 EEEEEEEE CCCCCCCC\n",
      "  5:  29 0.072774363 0.577872526 DDDDDDDD AAAAAAAA\n",
      " ---                                              \n",
      "265: 983 0.492702231 0.208963786 DDDDDDDD CCCCCCCC\n",
      "266: 990 0.442164307 0.360159572 DDDDDDDD FFFFFFFF\n",
      "267: 992 0.075625865 0.279108718 DDDDDDDD DDDDDDDD\n",
      "268: 998 0.030460753 0.008601266 DDDDDDDD GGGGGGGG\n",
      "269: 999 0.128940293 0.381171830 DDDDDDDD BBBBBBBB\n"
     ]
    }
   ],
   "source": [
    "print(scratch_dt[char1 %in% c('DDDDDDDD', 'EEEEEEEE')])"
   ]
  },
  {
   "cell_type": "markdown",
   "metadata": {},
   "source": [
    "##### .N operator\n",
    "* Used in `i` (i.e. as a row  index) `.N` represents the numeric value of the last row of a `data.table`\n",
    "* Used in `j` (i.e. as a column index) `.N` represents the number of rows in a `data.table`"
   ]
  },
  {
   "cell_type": "code",
   "execution_count": 23,
   "metadata": {
    "collapsed": false
   },
   "outputs": [
    {
     "data": {
      "text/html": [
       "<table>\n",
       "<thead><tr><th scope=col>key</th><th scope=col>numeric1</th><th scope=col>numeric2</th><th scope=col>char1</th><th scope=col>char2</th></tr></thead>\n",
       "<tbody>\n",
       "\t<tr><td>1000     </td><td>0.9397026</td><td>0.6325446</td><td>GGGGGGGG </td><td>FFFFFFFF </td></tr>\n",
       "</tbody>\n",
       "</table>\n"
      ],
      "text/latex": [
       "\\begin{tabular}{r|lllll}\n",
       " key & numeric1 & numeric2 & char1 & char2\\\\\n",
       "\\hline\n",
       "\t 1000      & 0.9397026 & 0.6325446 & GGGGGGGG  & FFFFFFFF \\\\\n",
       "\\end{tabular}\n"
      ],
      "text/plain": [
       "  key  numeric1  numeric2  char1    char2   \n",
       "1 1000 0.9397026 0.6325446 GGGGGGGG FFFFFFFF"
      ]
     },
     "metadata": {},
     "output_type": "display_data"
    }
   ],
   "source": [
    "scratch_dt[.N]"
   ]
  },
  {
   "cell_type": "code",
   "execution_count": 24,
   "metadata": {
    "collapsed": false
   },
   "outputs": [
    {
     "data": {
      "text/html": [
       "1000"
      ],
      "text/latex": [
       "1000"
      ],
      "text/markdown": [
       "1000"
      ],
      "text/plain": [
       "[1] 1000"
      ]
     },
     "metadata": {},
     "output_type": "display_data"
    }
   ],
   "source": [
    "scratch_dt[,.N]"
   ]
  },
  {
   "cell_type": "markdown",
   "metadata": {},
   "source": [
    "***\n",
    "## 6. Sorting a table "
   ]
  },
  {
   "cell_type": "markdown",
   "metadata": {},
   "source": [
    "`data.table::setorder` reorders columns by reference"
   ]
  },
  {
   "cell_type": "code",
   "execution_count": 25,
   "metadata": {
    "collapsed": false
   },
   "outputs": [
    {
     "name": "stdout",
     "output_type": "stream",
     "text": [
      "       key  numeric1   numeric2    char1    char2\n",
      "   1:    5 0.1154616 0.04472539 AAAAAAAA CCCCCCCC\n",
      "   2:    6 0.2587220 0.57239902 AAAAAAAA AAAAAAAA\n",
      "   3:    8 0.9281074 0.95587943 AAAAAAAA GGGGGGGG\n",
      "   4:   15 0.4683239 0.51412315 AAAAAAAA EEEEEEEE\n",
      "   5:   16 0.6581002 0.43747618 AAAAAAAA BBBBBBBB\n",
      "  ---                                            \n",
      " 996:  967 0.3230315 0.07210364 GGGGGGGG AAAAAAAA\n",
      " 997:  968 0.7577926 0.35760053 GGGGGGGG GGGGGGGG\n",
      " 998:  978 0.8622021 0.72771298 GGGGGGGG BBBBBBBB\n",
      " 999:  985 0.1913742 0.06705371 GGGGGGGG AAAAAAAA\n",
      "1000: 1000 0.9397026 0.63254458 GGGGGGGG FFFFFFFF\n"
     ]
    }
   ],
   "source": [
    "sorted <- setorder(scratch_dt, char1)\n",
    "print(sorted)"
   ]
  },
  {
   "cell_type": "markdown",
   "metadata": {},
   "source": [
    "When used in `data.table`, `order()` also reorders columns by reference"
   ]
  },
  {
   "cell_type": "code",
   "execution_count": 26,
   "metadata": {
    "collapsed": false
   },
   "outputs": [
    {
     "name": "stdout",
     "output_type": "stream",
     "text": [
      "       key  numeric1   numeric2    char1    char2\n",
      "   1:    5 0.1154616 0.04472539 AAAAAAAA CCCCCCCC\n",
      "   2:    6 0.2587220 0.57239902 AAAAAAAA AAAAAAAA\n",
      "   3:    8 0.9281074 0.95587943 AAAAAAAA GGGGGGGG\n",
      "   4:   15 0.4683239 0.51412315 AAAAAAAA EEEEEEEE\n",
      "   5:   16 0.6581002 0.43747618 AAAAAAAA BBBBBBBB\n",
      "  ---                                            \n",
      " 996:  967 0.3230315 0.07210364 GGGGGGGG AAAAAAAA\n",
      " 997:  968 0.7577926 0.35760053 GGGGGGGG GGGGGGGG\n",
      " 998:  978 0.8622021 0.72771298 GGGGGGGG BBBBBBBB\n",
      " 999:  985 0.1913742 0.06705371 GGGGGGGG AAAAAAAA\n",
      "1000: 1000 0.9397026 0.63254458 GGGGGGGG FFFFFFFF\n"
     ]
    }
   ],
   "source": [
    "sorted <- scratch_dt[order(char1)]\n",
    "print(sorted)"
   ]
  },
  {
   "cell_type": "markdown",
   "metadata": {},
   "source": [
    "Sort orders can be specified by using `order()`"
   ]
  },
  {
   "cell_type": "code",
   "execution_count": 27,
   "metadata": {
    "collapsed": false
   },
   "outputs": [
    {
     "name": "stdout",
     "output_type": "stream",
     "text": [
      "      key   numeric1   numeric2    char1    char2\n",
      "   1: 157 0.99682504 0.36300892 AAAAAAAA BBBBBBBB\n",
      "   2:  19 0.99241815 0.78233248 AAAAAAAA BBBBBBBB\n",
      "   3: 962 0.99226886 0.91510083 AAAAAAAA DDDDDDDD\n",
      "   4: 841 0.98926923 0.87481324 AAAAAAAA GGGGGGGG\n",
      "   5: 464 0.98658554 0.56020669 AAAAAAAA BBBBBBBB\n",
      "  ---                                            \n",
      " 996: 772 0.04619239 0.81236111 GGGGGGGG DDDDDDDD\n",
      " 997:  51 0.04508035 0.52753393 GGGGGGGG CCCCCCCC\n",
      " 998: 492 0.02192159 0.77429978 GGGGGGGG FFFFFFFF\n",
      " 999: 822 0.01283920 0.24591820 GGGGGGGG DDDDDDDD\n",
      "1000:  55 0.01026715 0.03739443 GGGGGGGG GGGGGGGG\n"
     ]
    }
   ],
   "source": [
    "sorted2 <- scratch_dt[order(char1, -numeric1)]\n",
    "print(sorted2)"
   ]
  },
  {
   "cell_type": "markdown",
   "metadata": {},
   "source": [
    "#### data.table::setkey\n",
    "* Reorders columns by reference by the specified key variable (here called 'key')\n",
    "* Sets the variable to the key of the data.table for future operations\n",
    "* Subsetting and selecting by the key variable will be more efficient in future operations    "
   ]
  },
  {
   "cell_type": "code",
   "execution_count": 28,
   "metadata": {
    "collapsed": false
   },
   "outputs": [
    {
     "name": "stdout",
     "output_type": "stream",
     "text": [
      "       key   numeric1    numeric2    char1    char2\n",
      "   1:    1 0.51494785 0.767991723 FFFFFFFF FFFFFFFF\n",
      "   2:    2 0.36132422 0.868816448 FFFFFFFF DDDDDDDD\n",
      "   3:    3 0.71456376 0.160537094 GGGGGGGG AAAAAAAA\n",
      "   4:    4 0.64633263 0.550704608 BBBBBBBB CCCCCCCC\n",
      "   5:    5 0.11546163 0.044725391 AAAAAAAA CCCCCCCC\n",
      "  ---                                              \n",
      " 996:  996 0.49468994 0.908724921 AAAAAAAA EEEEEEEE\n",
      " 997:  997 0.07238554 0.560199407 AAAAAAAA GGGGGGGG\n",
      " 998:  998 0.03046075 0.008601266 DDDDDDDD GGGGGGGG\n",
      " 999:  999 0.12894029 0.381171830 DDDDDDDD BBBBBBBB\n",
      "1000: 1000 0.93970260 0.632544576 GGGGGGGG FFFFFFFF\n"
     ]
    }
   ],
   "source": [
    "sorted3 <- setkey(scratch_dt, key)\n",
    "print(sorted3)"
   ]
  },
  {
   "cell_type": "markdown",
   "metadata": {},
   "source": [
    "***\n",
    "## 7. Updating a table"
   ]
  },
  {
   "cell_type": "markdown",
   "metadata": {},
   "source": [
    "#### Update rows by reference using the := operator\n",
    "##### (data.table supports overwrite of data)"
   ]
  },
  {
   "cell_type": "code",
   "execution_count": 29,
   "metadata": {
    "collapsed": false
   },
   "outputs": [
    {
     "name": "stdout",
     "output_type": "stream",
     "text": [
      "       key   numeric1    numeric2    char1    char2\n",
      "   1:    1 0.51494785 0.767991723 FFFFFFFF FFFFFFFF\n",
      "   2:    2 0.36132422 0.868816448 FFFFFFFF DDDDDDDD\n",
      "   3:    3 0.71456376 0.160537094 GGGGGGGG AAAAAAAA\n",
      "   4:    4 0.64633263 0.550704608 BBBBBBBB CCCCCCCC\n",
      "   5:    5 0.11546163 0.044725391 AAAAAAAA CCCCCCCC\n",
      "  ---                                              \n",
      " 996:  996 0.49468994 0.908724921 ZZZZZZZZ EEEEEEEE\n",
      " 997:  997 0.07238554 0.560199407 ZZZZZZZZ GGGGGGGG\n",
      " 998:  998 0.03046075 0.008601266 ZZZZZZZZ GGGGGGGG\n",
      " 999:  999 0.12894029 0.381171830 ZZZZZZZZ BBBBBBBB\n",
      "1000: 1000 0.93970260 0.632544576 ZZZZZZZZ FFFFFFFF\n"
     ]
    }
   ],
   "source": [
    "scratch_dt2 <- scratch_dt[key > 500, char1 := 'ZZZZZZZZ']\n",
    "print(scratch_dt2)"
   ]
  },
  {
   "cell_type": "markdown",
   "metadata": {},
   "source": [
    "#### Create new columns by reference using the := operator"
   ]
  },
  {
   "cell_type": "code",
   "execution_count": 30,
   "metadata": {
    "collapsed": false
   },
   "outputs": [
    {
     "data": {
      "text/html": [
       "<table>\n",
       "<thead><tr><th scope=col>key</th><th scope=col>numeric1</th><th scope=col>numeric2</th><th scope=col>char1</th><th scope=col>char2</th><th scope=col>new_numeric</th></tr></thead>\n",
       "<tbody>\n",
       "\t<tr><td>1         </td><td>0.5149478 </td><td>0.76799172</td><td>FFFFFFFF  </td><td>FFFFFFFF  </td><td>0.5       </td></tr>\n",
       "\t<tr><td>2         </td><td>0.3613242 </td><td>0.86881645</td><td>FFFFFFFF  </td><td>DDDDDDDD  </td><td>0.4       </td></tr>\n",
       "\t<tr><td>3         </td><td>0.7145638 </td><td>0.16053709</td><td>GGGGGGGG  </td><td>AAAAAAAA  </td><td>0.7       </td></tr>\n",
       "\t<tr><td>4         </td><td>0.6463326 </td><td>0.55070461</td><td>BBBBBBBB  </td><td>CCCCCCCC  </td><td>0.6       </td></tr>\n",
       "\t<tr><td>5         </td><td>0.1154616 </td><td>0.04472539</td><td>AAAAAAAA  </td><td>CCCCCCCC  </td><td>0.1       </td></tr>\n",
       "\t<tr><td>6         </td><td>0.2587220 </td><td>0.57239902</td><td>AAAAAAAA  </td><td>AAAAAAAA  </td><td>0.3       </td></tr>\n",
       "</tbody>\n",
       "</table>\n"
      ],
      "text/latex": [
       "\\begin{tabular}{r|llllll}\n",
       " key & numeric1 & numeric2 & char1 & char2 & new\\_numeric\\\\\n",
       "\\hline\n",
       "\t 1          & 0.5149478  & 0.76799172 & FFFFFFFF   & FFFFFFFF   & 0.5       \\\\\n",
       "\t 2          & 0.3613242  & 0.86881645 & FFFFFFFF   & DDDDDDDD   & 0.4       \\\\\n",
       "\t 3          & 0.7145638  & 0.16053709 & GGGGGGGG   & AAAAAAAA   & 0.7       \\\\\n",
       "\t 4          & 0.6463326  & 0.55070461 & BBBBBBBB   & CCCCCCCC   & 0.6       \\\\\n",
       "\t 5          & 0.1154616  & 0.04472539 & AAAAAAAA   & CCCCCCCC   & 0.1       \\\\\n",
       "\t 6          & 0.2587220  & 0.57239902 & AAAAAAAA   & AAAAAAAA   & 0.3       \\\\\n",
       "\\end{tabular}\n"
      ],
      "text/plain": [
       "  key numeric1  numeric2   char1    char2    new_numeric\n",
       "1 1   0.5149478 0.76799172 FFFFFFFF FFFFFFFF 0.5        \n",
       "2 2   0.3613242 0.86881645 FFFFFFFF DDDDDDDD 0.4        \n",
       "3 3   0.7145638 0.16053709 GGGGGGGG AAAAAAAA 0.7        \n",
       "4 4   0.6463326 0.55070461 BBBBBBBB CCCCCCCC 0.6        \n",
       "5 5   0.1154616 0.04472539 AAAAAAAA CCCCCCCC 0.1        \n",
       "6 6   0.2587220 0.57239902 AAAAAAAA AAAAAAAA 0.3        "
      ]
     },
     "metadata": {},
     "output_type": "display_data"
    }
   ],
   "source": [
    "head(scratch_dt2[, new_numeric := round(numeric1, 1)])"
   ]
  },
  {
   "cell_type": "markdown",
   "metadata": {},
   "source": [
    "## 8. Adding data to the table"
   ]
  },
  {
   "cell_type": "markdown",
   "metadata": {},
   "source": [
    "Use `data.table::rbindlist` to stack `data.tables` vertically"
   ]
  },
  {
   "cell_type": "code",
   "execution_count": 31,
   "metadata": {
    "collapsed": false
   },
   "outputs": [
    {
     "data": {
      "text/html": [
       "2000"
      ],
      "text/latex": [
       "2000"
      ],
      "text/markdown": [
       "2000"
      ],
      "text/plain": [
       "[1] 2000"
      ]
     },
     "metadata": {},
     "output_type": "display_data"
    }
   ],
   "source": [
    "bindr <- rbindlist(list(sorted, sorted2))\n",
    "nrow(bindr)"
   ]
  },
  {
   "cell_type": "markdown",
   "metadata": {},
   "source": [
    "#### `data.table::merge` joins tables side-by-side using a common key (or 'by') variable \n",
    "* Joining data.tables without prespecified keys (i.e. by using data.table::setkey) requires that a key for the join be specified\n",
    "* joining data.tables with prespecified keys does not require that a key be specified when data.table::merge is called\n",
    "* The prefix 'x.' is added to the left table variable names by default\n",
    "* The prefix 'y.' is added to the right table variables names by default"
   ]
  },
  {
   "cell_type": "code",
   "execution_count": 32,
   "metadata": {
    "collapsed": false
   },
   "outputs": [
    {
     "name": "stdout",
     "output_type": "stream",
     "text": [
      "       key numeric1.x  numeric2.x  char1.x  char2.x numeric1.y  numeric2.y\n",
      "   1:    1 0.51494785 0.767991723 FFFFFFFF FFFFFFFF 0.51494785 0.767991723\n",
      "   2:    2 0.36132422 0.868816448 FFFFFFFF DDDDDDDD 0.36132422 0.868816448\n",
      "   3:    3 0.71456376 0.160537094 GGGGGGGG AAAAAAAA 0.71456376 0.160537094\n",
      "   4:    4 0.64633263 0.550704608 BBBBBBBB CCCCCCCC 0.64633263 0.550704608\n",
      "   5:    5 0.11546163 0.044725391 AAAAAAAA CCCCCCCC 0.11546163 0.044725391\n",
      "  ---                                                                     \n",
      " 996:  996 0.49468994 0.908724921 AAAAAAAA EEEEEEEE 0.49468994 0.908724921\n",
      " 997:  997 0.07238554 0.560199407 AAAAAAAA GGGGGGGG 0.07238554 0.560199407\n",
      " 998:  998 0.03046075 0.008601266 DDDDDDDD GGGGGGGG 0.03046075 0.008601266\n",
      " 999:  999 0.12894029 0.381171830 DDDDDDDD BBBBBBBB 0.12894029 0.381171830\n",
      "1000: 1000 0.93970260 0.632544576 GGGGGGGG FFFFFFFF 0.93970260 0.632544576\n",
      "       char1.y  char2.y\n",
      "   1: FFFFFFFF FFFFFFFF\n",
      "   2: FFFFFFFF DDDDDDDD\n",
      "   3: GGGGGGGG AAAAAAAA\n",
      "   4: BBBBBBBB CCCCCCCC\n",
      "   5: AAAAAAAA CCCCCCCC\n",
      "  ---                  \n",
      " 996: AAAAAAAA EEEEEEEE\n",
      " 997: AAAAAAAA GGGGGGGG\n",
      " 998: DDDDDDDD GGGGGGGG\n",
      " 999: DDDDDDDD BBBBBBBB\n",
      "1000: GGGGGGGG FFFFFFFF\n"
     ]
    }
   ],
   "source": [
    "joined1 <- merge(sorted, sorted2, by = c('key'))\n",
    "print(joined1)"
   ]
  },
  {
   "cell_type": "markdown",
   "metadata": {},
   "source": [
    "Add a key to the `scratch_dt2` table"
   ]
  },
  {
   "cell_type": "code",
   "execution_count": 33,
   "metadata": {
    "collapsed": false
   },
   "outputs": [
    {
     "name": "stdout",
     "output_type": "stream",
     "text": [
      "       key    char1 new_numeric\n",
      "   1:    1 FFFFFFFF         0.5\n",
      "   2:    2 FFFFFFFF         0.4\n",
      "   3:    3 GGGGGGGG         0.7\n",
      "   4:    4 BBBBBBBB         0.6\n",
      "   5:    5 AAAAAAAA         0.1\n",
      "  ---                          \n",
      " 996:  996 ZZZZZZZZ         0.5\n",
      " 997:  997 ZZZZZZZZ         0.1\n",
      " 998:  998 ZZZZZZZZ         0.0\n",
      " 999:  999 ZZZZZZZZ         0.1\n",
      "1000: 1000 ZZZZZZZZ         0.9\n"
     ]
    }
   ],
   "source": [
    "scratch_dt2 <- setkey(scratch_dt2[,.(key, char1, new_numeric)], key)\n",
    "print(scratch_dt2)"
   ]
  },
  {
   "cell_type": "markdown",
   "metadata": {},
   "source": [
    "Now `sorted3` and `scratch_dt2` can be joined without specifiying a key"
   ]
  },
  {
   "cell_type": "code",
   "execution_count": 34,
   "metadata": {
    "collapsed": false
   },
   "outputs": [
    {
     "name": "stdout",
     "output_type": "stream",
     "text": [
      "       key   numeric1    numeric2  char1.x    char2 new_numeric.x  char1.y\n",
      "   1:    1 0.51494785 0.767991723 FFFFFFFF FFFFFFFF           0.5 FFFFFFFF\n",
      "   2:    2 0.36132422 0.868816448 FFFFFFFF DDDDDDDD           0.4 FFFFFFFF\n",
      "   3:    3 0.71456376 0.160537094 GGGGGGGG AAAAAAAA           0.7 GGGGGGGG\n",
      "   4:    4 0.64633263 0.550704608 BBBBBBBB CCCCCCCC           0.6 BBBBBBBB\n",
      "   5:    5 0.11546163 0.044725391 AAAAAAAA CCCCCCCC           0.1 AAAAAAAA\n",
      "  ---                                                                     \n",
      " 996:  996 0.49468994 0.908724921 ZZZZZZZZ EEEEEEEE           0.5 ZZZZZZZZ\n",
      " 997:  997 0.07238554 0.560199407 ZZZZZZZZ GGGGGGGG           0.1 ZZZZZZZZ\n",
      " 998:  998 0.03046075 0.008601266 ZZZZZZZZ GGGGGGGG           0.0 ZZZZZZZZ\n",
      " 999:  999 0.12894029 0.381171830 ZZZZZZZZ BBBBBBBB           0.1 ZZZZZZZZ\n",
      "1000: 1000 0.93970260 0.632544576 ZZZZZZZZ FFFFFFFF           0.9 ZZZZZZZZ\n",
      "      new_numeric.y\n",
      "   1:           0.5\n",
      "   2:           0.4\n",
      "   3:           0.7\n",
      "   4:           0.6\n",
      "   5:           0.1\n",
      "  ---              \n",
      " 996:           0.5\n",
      " 997:           0.1\n",
      " 998:           0.0\n",
      " 999:           0.1\n",
      "1000:           0.9\n"
     ]
    }
   ],
   "source": [
    "joined2 <- merge(sorted3, scratch_dt2)\n",
    "print(joined2)"
   ]
  },
  {
   "cell_type": "markdown",
   "metadata": {},
   "source": [
    "***\n",
    "## 9. By group processing\n",
    "* By groups allow you to divide and process a data set based on the values of a certain variable\n",
    "* General form of a `data.table` is `dt[i, j, by]`, where `by` is by group variable name"
   ]
  },
  {
   "cell_type": "code",
   "execution_count": 35,
   "metadata": {
    "collapsed": false
   },
   "outputs": [
    {
     "data": {
      "text/html": [
       "<table>\n",
       "<thead><tr><th scope=col>char1</th><th scope=col>V1</th></tr></thead>\n",
       "<tbody>\n",
       "\t<tr><td>FFFFFFFF</td><td> 36.0   </td></tr>\n",
       "\t<tr><td>GGGGGGGG</td><td> 25.8   </td></tr>\n",
       "\t<tr><td>BBBBBBBB</td><td> 39.2   </td></tr>\n",
       "\t<tr><td>AAAAAAAA</td><td> 38.1   </td></tr>\n",
       "\t<tr><td>DDDDDDDD</td><td> 35.4   </td></tr>\n",
       "\t<tr><td>CCCCCCCC</td><td> 39.2   </td></tr>\n",
       "\t<tr><td>EEEEEEEE</td><td> 30.6   </td></tr>\n",
       "\t<tr><td>ZZZZZZZZ</td><td>249.4   </td></tr>\n",
       "</tbody>\n",
       "</table>\n"
      ],
      "text/latex": [
       "\\begin{tabular}{r|ll}\n",
       " char1 & V1\\\\\n",
       "\\hline\n",
       "\t FFFFFFFF &  36.0   \\\\\n",
       "\t GGGGGGGG &  25.8   \\\\\n",
       "\t BBBBBBBB &  39.2   \\\\\n",
       "\t AAAAAAAA &  38.1   \\\\\n",
       "\t DDDDDDDD &  35.4   \\\\\n",
       "\t CCCCCCCC &  39.2   \\\\\n",
       "\t EEEEEEEE &  30.6   \\\\\n",
       "\t ZZZZZZZZ & 249.4   \\\\\n",
       "\\end{tabular}\n"
      ],
      "text/plain": [
       "  char1    V1   \n",
       "1 FFFFFFFF  36.0\n",
       "2 GGGGGGGG  25.8\n",
       "3 BBBBBBBB  39.2\n",
       "4 AAAAAAAA  38.1\n",
       "5 DDDDDDDD  35.4\n",
       "6 CCCCCCCC  39.2\n",
       "7 EEEEEEEE  30.6\n",
       "8 ZZZZZZZZ 249.4"
      ]
     },
     "metadata": {},
     "output_type": "display_data"
    },
    {
     "data": {
      "text/html": [
       "<table>\n",
       "<thead><tr><th scope=col>char1</th><th scope=col>V1</th></tr></thead>\n",
       "<tbody>\n",
       "\t<tr><td>FFFFFFFF</td><td>36.0    </td></tr>\n",
       "\t<tr><td>GGGGGGGG</td><td>25.8    </td></tr>\n",
       "\t<tr><td>BBBBBBBB</td><td>39.2    </td></tr>\n",
       "\t<tr><td>AAAAAAAA</td><td>38.1    </td></tr>\n",
       "\t<tr><td>DDDDDDDD</td><td>35.4    </td></tr>\n",
       "\t<tr><td>CCCCCCCC</td><td>39.2    </td></tr>\n",
       "\t<tr><td>EEEEEEEE</td><td>30.6    </td></tr>\n",
       "</tbody>\n",
       "</table>\n"
      ],
      "text/latex": [
       "\\begin{tabular}{r|ll}\n",
       " char1 & V1\\\\\n",
       "\\hline\n",
       "\t FFFFFFFF & 36.0    \\\\\n",
       "\t GGGGGGGG & 25.8    \\\\\n",
       "\t BBBBBBBB & 39.2    \\\\\n",
       "\t AAAAAAAA & 38.1    \\\\\n",
       "\t DDDDDDDD & 35.4    \\\\\n",
       "\t CCCCCCCC & 39.2    \\\\\n",
       "\t EEEEEEEE & 30.6    \\\\\n",
       "\\end{tabular}\n"
      ],
      "text/plain": [
       "  char1    V1  \n",
       "1 FFFFFFFF 36.0\n",
       "2 GGGGGGGG 25.8\n",
       "3 BBBBBBBB 39.2\n",
       "4 AAAAAAAA 38.1\n",
       "5 DDDDDDDD 35.4\n",
       "6 CCCCCCCC 39.2\n",
       "7 EEEEEEEE 30.6"
      ]
     },
     "metadata": {},
     "output_type": "display_data"
    }
   ],
   "source": [
    "scratch_dt2[, sum(new_numeric), by = char1]\n",
    "scratch_dt2[1:500, sum(new_numeric), by = char1]"
   ]
  },
  {
   "cell_type": "markdown",
   "metadata": {},
   "source": [
    "#### `.N` returns the number of rows in each by group"
   ]
  },
  {
   "cell_type": "code",
   "execution_count": 36,
   "metadata": {
    "collapsed": false
   },
   "outputs": [
    {
     "data": {
      "text/html": [
       "<table>\n",
       "<thead><tr><th scope=col>char1</th><th scope=col>N</th></tr></thead>\n",
       "<tbody>\n",
       "\t<tr><td>FFFFFFFF</td><td> 76     </td></tr>\n",
       "\t<tr><td>GGGGGGGG</td><td> 60     </td></tr>\n",
       "\t<tr><td>BBBBBBBB</td><td> 80     </td></tr>\n",
       "\t<tr><td>AAAAAAAA</td><td> 72     </td></tr>\n",
       "\t<tr><td>DDDDDDDD</td><td> 70     </td></tr>\n",
       "\t<tr><td>CCCCCCCC</td><td> 79     </td></tr>\n",
       "\t<tr><td>EEEEEEEE</td><td> 63     </td></tr>\n",
       "\t<tr><td>ZZZZZZZZ</td><td>500     </td></tr>\n",
       "</tbody>\n",
       "</table>\n"
      ],
      "text/latex": [
       "\\begin{tabular}{r|ll}\n",
       " char1 & N\\\\\n",
       "\\hline\n",
       "\t FFFFFFFF &  76     \\\\\n",
       "\t GGGGGGGG &  60     \\\\\n",
       "\t BBBBBBBB &  80     \\\\\n",
       "\t AAAAAAAA &  72     \\\\\n",
       "\t DDDDDDDD &  70     \\\\\n",
       "\t CCCCCCCC &  79     \\\\\n",
       "\t EEEEEEEE &  63     \\\\\n",
       "\t ZZZZZZZZ & 500     \\\\\n",
       "\\end{tabular}\n"
      ],
      "text/plain": [
       "  char1    N  \n",
       "1 FFFFFFFF  76\n",
       "2 GGGGGGGG  60\n",
       "3 BBBBBBBB  80\n",
       "4 AAAAAAAA  72\n",
       "5 DDDDDDDD  70\n",
       "6 CCCCCCCC  79\n",
       "7 EEEEEEEE  63\n",
       "8 ZZZZZZZZ 500"
      ]
     },
     "metadata": {},
     "output_type": "display_data"
    }
   ],
   "source": [
    "scratch_dt2[, .N, by = char1] "
   ]
  },
  {
   "cell_type": "markdown",
   "metadata": {},
   "source": [
    "#### by groups can also be a list of variables"
   ]
  },
  {
   "cell_type": "code",
   "execution_count": 37,
   "metadata": {
    "collapsed": false
   },
   "outputs": [
    {
     "data": {
      "text/html": [
       "<table>\n",
       "<thead><tr><th scope=col>char1</th><th scope=col>char2</th><th scope=col>V1</th></tr></thead>\n",
       "<tbody>\n",
       "\t<tr><td>AAAAAAAA </td><td>AAAAAAAA </td><td>0.4333333</td></tr>\n",
       "\t<tr><td>AAAAAAAA </td><td>BBBBBBBB </td><td>0.6090909</td></tr>\n",
       "\t<tr><td>AAAAAAAA </td><td>CCCCCCCC </td><td>0.5437500</td></tr>\n",
       "\t<tr><td>AAAAAAAA </td><td>DDDDDDDD </td><td>0.5500000</td></tr>\n",
       "\t<tr><td>AAAAAAAA </td><td>EEEEEEEE </td><td>0.4000000</td></tr>\n",
       "\t<tr><td>AAAAAAAA </td><td>FFFFFFFF </td><td>0.4538462</td></tr>\n",
       "\t<tr><td>AAAAAAAA </td><td>GGGGGGGG </td><td>0.6777778</td></tr>\n",
       "\t<tr><td>BBBBBBBB </td><td>AAAAAAAA </td><td>0.4947368</td></tr>\n",
       "\t<tr><td>BBBBBBBB </td><td>BBBBBBBB </td><td>0.5333333</td></tr>\n",
       "\t<tr><td>BBBBBBBB </td><td>CCCCCCCC </td><td>0.3714286</td></tr>\n",
       "\t<tr><td>BBBBBBBB </td><td>DDDDDDDD </td><td>0.4750000</td></tr>\n",
       "\t<tr><td>BBBBBBBB </td><td>EEEEEEEE </td><td>0.6111111</td></tr>\n",
       "\t<tr><td>BBBBBBBB </td><td>FFFFFFFF </td><td>0.5222222</td></tr>\n",
       "\t<tr><td>BBBBBBBB </td><td>GGGGGGGG </td><td>0.4833333</td></tr>\n",
       "\t<tr><td>CCCCCCCC </td><td>AAAAAAAA </td><td>0.5437500</td></tr>\n",
       "\t<tr><td>CCCCCCCC </td><td>BBBBBBBB </td><td>0.4000000</td></tr>\n",
       "\t<tr><td>CCCCCCCC </td><td>CCCCCCCC </td><td>0.4083333</td></tr>\n",
       "\t<tr><td>CCCCCCCC </td><td>DDDDDDDD </td><td>0.3545455</td></tr>\n",
       "\t<tr><td>CCCCCCCC </td><td>EEEEEEEE </td><td>0.5500000</td></tr>\n",
       "\t<tr><td>CCCCCCCC </td><td>FFFFFFFF </td><td>0.5125000</td></tr>\n",
       "\t<tr><td>CCCCCCCC </td><td>GGGGGGGG </td><td>0.6700000</td></tr>\n",
       "\t<tr><td>DDDDDDDD </td><td>AAAAAAAA </td><td>0.5615385</td></tr>\n",
       "\t<tr><td>DDDDDDDD </td><td>BBBBBBBB </td><td>0.5777778</td></tr>\n",
       "\t<tr><td>DDDDDDDD </td><td>CCCCCCCC </td><td>0.3166667</td></tr>\n",
       "\t<tr><td>DDDDDDDD </td><td>DDDDDDDD </td><td>0.3769231</td></tr>\n",
       "\t<tr><td>DDDDDDDD </td><td>EEEEEEEE </td><td>0.6750000</td></tr>\n",
       "\t<tr><td>DDDDDDDD </td><td>FFFFFFFF </td><td>0.5153846</td></tr>\n",
       "\t<tr><td>DDDDDDDD </td><td>GGGGGGGG </td><td>0.5000000</td></tr>\n",
       "\t<tr><td>EEEEEEEE </td><td>AAAAAAAA </td><td>0.3428571</td></tr>\n",
       "\t<tr><td>EEEEEEEE </td><td>BBBBBBBB </td><td>0.7125000</td></tr>\n",
       "\t<tr><td>EEEEEEEE </td><td>CCCCCCCC </td><td>0.3875000</td></tr>\n",
       "\t<tr><td>EEEEEEEE </td><td>DDDDDDDD </td><td>0.5181818</td></tr>\n",
       "\t<tr><td>EEEEEEEE </td><td>EEEEEEEE </td><td>0.4909091</td></tr>\n",
       "\t<tr><td>EEEEEEEE </td><td>FFFFFFFF </td><td>0.5285714</td></tr>\n",
       "\t<tr><td>EEEEEEEE </td><td>GGGGGGGG </td><td>0.4181818</td></tr>\n",
       "\t<tr><td>FFFFFFFF </td><td>AAAAAAAA </td><td>0.3666667</td></tr>\n",
       "\t<tr><td>FFFFFFFF </td><td>BBBBBBBB </td><td>0.4833333</td></tr>\n",
       "\t<tr><td>FFFFFFFF </td><td>CCCCCCCC </td><td>0.4000000</td></tr>\n",
       "\t<tr><td>FFFFFFFF </td><td>DDDDDDDD </td><td>0.4416667</td></tr>\n",
       "\t<tr><td>FFFFFFFF </td><td>EEEEEEEE </td><td>0.4571429</td></tr>\n",
       "\t<tr><td>FFFFFFFF </td><td>FFFFFFFF </td><td>0.5166667</td></tr>\n",
       "\t<tr><td>FFFFFFFF </td><td>GGGGGGGG </td><td>0.5692308</td></tr>\n",
       "\t<tr><td>GGGGGGGG </td><td>AAAAAAAA </td><td>0.5454545</td></tr>\n",
       "\t<tr><td>GGGGGGGG </td><td>BBBBBBBB </td><td>0.2500000</td></tr>\n",
       "\t<tr><td>GGGGGGGG </td><td>CCCCCCCC </td><td>0.4428571</td></tr>\n",
       "\t<tr><td>GGGGGGGG </td><td>DDDDDDDD </td><td>0.3000000</td></tr>\n",
       "\t<tr><td>GGGGGGGG </td><td>EEEEEEEE </td><td>0.5000000</td></tr>\n",
       "\t<tr><td>GGGGGGGG </td><td>FFFFFFFF </td><td>0.4000000</td></tr>\n",
       "\t<tr><td>GGGGGGGG </td><td>GGGGGGGG </td><td>0.4230769</td></tr>\n",
       "\t<tr><td>ZZZZZZZZ </td><td>AAAAAAAA </td><td>0.5250000</td></tr>\n",
       "\t<tr><td>ZZZZZZZZ </td><td>BBBBBBBB </td><td>0.5017241</td></tr>\n",
       "\t<tr><td>ZZZZZZZZ </td><td>CCCCCCCC </td><td>0.5402985</td></tr>\n",
       "\t<tr><td>ZZZZZZZZ </td><td>DDDDDDDD </td><td>0.4691176</td></tr>\n",
       "\t<tr><td>ZZZZZZZZ </td><td>EEEEEEEE </td><td>0.5150000</td></tr>\n",
       "\t<tr><td>ZZZZZZZZ </td><td>FFFFFFFF </td><td>0.4294118</td></tr>\n",
       "\t<tr><td>ZZZZZZZZ </td><td>GGGGGGGG </td><td>0.5057471</td></tr>\n",
       "</tbody>\n",
       "</table>\n"
      ],
      "text/latex": [
       "\\begin{tabular}{r|lll}\n",
       " char1 & char2 & V1\\\\\n",
       "\\hline\n",
       "\t AAAAAAAA  & AAAAAAAA  & 0.4333333\\\\\n",
       "\t AAAAAAAA  & BBBBBBBB  & 0.6090909\\\\\n",
       "\t AAAAAAAA  & CCCCCCCC  & 0.5437500\\\\\n",
       "\t AAAAAAAA  & DDDDDDDD  & 0.5500000\\\\\n",
       "\t AAAAAAAA  & EEEEEEEE  & 0.4000000\\\\\n",
       "\t AAAAAAAA  & FFFFFFFF  & 0.4538462\\\\\n",
       "\t AAAAAAAA  & GGGGGGGG  & 0.6777778\\\\\n",
       "\t BBBBBBBB  & AAAAAAAA  & 0.4947368\\\\\n",
       "\t BBBBBBBB  & BBBBBBBB  & 0.5333333\\\\\n",
       "\t BBBBBBBB  & CCCCCCCC  & 0.3714286\\\\\n",
       "\t BBBBBBBB  & DDDDDDDD  & 0.4750000\\\\\n",
       "\t BBBBBBBB  & EEEEEEEE  & 0.6111111\\\\\n",
       "\t BBBBBBBB  & FFFFFFFF  & 0.5222222\\\\\n",
       "\t BBBBBBBB  & GGGGGGGG  & 0.4833333\\\\\n",
       "\t CCCCCCCC  & AAAAAAAA  & 0.5437500\\\\\n",
       "\t CCCCCCCC  & BBBBBBBB  & 0.4000000\\\\\n",
       "\t CCCCCCCC  & CCCCCCCC  & 0.4083333\\\\\n",
       "\t CCCCCCCC  & DDDDDDDD  & 0.3545455\\\\\n",
       "\t CCCCCCCC  & EEEEEEEE  & 0.5500000\\\\\n",
       "\t CCCCCCCC  & FFFFFFFF  & 0.5125000\\\\\n",
       "\t CCCCCCCC  & GGGGGGGG  & 0.6700000\\\\\n",
       "\t DDDDDDDD  & AAAAAAAA  & 0.5615385\\\\\n",
       "\t DDDDDDDD  & BBBBBBBB  & 0.5777778\\\\\n",
       "\t DDDDDDDD  & CCCCCCCC  & 0.3166667\\\\\n",
       "\t DDDDDDDD  & DDDDDDDD  & 0.3769231\\\\\n",
       "\t DDDDDDDD  & EEEEEEEE  & 0.6750000\\\\\n",
       "\t DDDDDDDD  & FFFFFFFF  & 0.5153846\\\\\n",
       "\t DDDDDDDD  & GGGGGGGG  & 0.5000000\\\\\n",
       "\t EEEEEEEE  & AAAAAAAA  & 0.3428571\\\\\n",
       "\t EEEEEEEE  & BBBBBBBB  & 0.7125000\\\\\n",
       "\t EEEEEEEE  & CCCCCCCC  & 0.3875000\\\\\n",
       "\t EEEEEEEE  & DDDDDDDD  & 0.5181818\\\\\n",
       "\t EEEEEEEE  & EEEEEEEE  & 0.4909091\\\\\n",
       "\t EEEEEEEE  & FFFFFFFF  & 0.5285714\\\\\n",
       "\t EEEEEEEE  & GGGGGGGG  & 0.4181818\\\\\n",
       "\t FFFFFFFF  & AAAAAAAA  & 0.3666667\\\\\n",
       "\t FFFFFFFF  & BBBBBBBB  & 0.4833333\\\\\n",
       "\t FFFFFFFF  & CCCCCCCC  & 0.4000000\\\\\n",
       "\t FFFFFFFF  & DDDDDDDD  & 0.4416667\\\\\n",
       "\t FFFFFFFF  & EEEEEEEE  & 0.4571429\\\\\n",
       "\t FFFFFFFF  & FFFFFFFF  & 0.5166667\\\\\n",
       "\t FFFFFFFF  & GGGGGGGG  & 0.5692308\\\\\n",
       "\t GGGGGGGG  & AAAAAAAA  & 0.5454545\\\\\n",
       "\t GGGGGGGG  & BBBBBBBB  & 0.2500000\\\\\n",
       "\t GGGGGGGG  & CCCCCCCC  & 0.4428571\\\\\n",
       "\t GGGGGGGG  & DDDDDDDD  & 0.3000000\\\\\n",
       "\t GGGGGGGG  & EEEEEEEE  & 0.5000000\\\\\n",
       "\t GGGGGGGG  & FFFFFFFF  & 0.4000000\\\\\n",
       "\t GGGGGGGG  & GGGGGGGG  & 0.4230769\\\\\n",
       "\t ZZZZZZZZ  & AAAAAAAA  & 0.5250000\\\\\n",
       "\t ZZZZZZZZ  & BBBBBBBB  & 0.5017241\\\\\n",
       "\t ZZZZZZZZ  & CCCCCCCC  & 0.5402985\\\\\n",
       "\t ZZZZZZZZ  & DDDDDDDD  & 0.4691176\\\\\n",
       "\t ZZZZZZZZ  & EEEEEEEE  & 0.5150000\\\\\n",
       "\t ZZZZZZZZ  & FFFFFFFF  & 0.4294118\\\\\n",
       "\t ZZZZZZZZ  & GGGGGGGG  & 0.5057471\\\\\n",
       "\\end{tabular}\n"
      ],
      "text/plain": [
       "   char1    char2    V1       \n",
       "1  AAAAAAAA AAAAAAAA 0.4333333\n",
       "2  AAAAAAAA BBBBBBBB 0.6090909\n",
       "3  AAAAAAAA CCCCCCCC 0.5437500\n",
       "4  AAAAAAAA DDDDDDDD 0.5500000\n",
       "5  AAAAAAAA EEEEEEEE 0.4000000\n",
       "6  AAAAAAAA FFFFFFFF 0.4538462\n",
       "7  AAAAAAAA GGGGGGGG 0.6777778\n",
       "8  BBBBBBBB AAAAAAAA 0.4947368\n",
       "9  BBBBBBBB BBBBBBBB 0.5333333\n",
       "10 BBBBBBBB CCCCCCCC 0.3714286\n",
       "11 BBBBBBBB DDDDDDDD 0.4750000\n",
       "12 BBBBBBBB EEEEEEEE 0.6111111\n",
       "13 BBBBBBBB FFFFFFFF 0.5222222\n",
       "14 BBBBBBBB GGGGGGGG 0.4833333\n",
       "15 CCCCCCCC AAAAAAAA 0.5437500\n",
       "16 CCCCCCCC BBBBBBBB 0.4000000\n",
       "17 CCCCCCCC CCCCCCCC 0.4083333\n",
       "18 CCCCCCCC DDDDDDDD 0.3545455\n",
       "19 CCCCCCCC EEEEEEEE 0.5500000\n",
       "20 CCCCCCCC FFFFFFFF 0.5125000\n",
       "21 CCCCCCCC GGGGGGGG 0.6700000\n",
       "22 DDDDDDDD AAAAAAAA 0.5615385\n",
       "23 DDDDDDDD BBBBBBBB 0.5777778\n",
       "24 DDDDDDDD CCCCCCCC 0.3166667\n",
       "25 DDDDDDDD DDDDDDDD 0.3769231\n",
       "26 DDDDDDDD EEEEEEEE 0.6750000\n",
       "27 DDDDDDDD FFFFFFFF 0.5153846\n",
       "28 DDDDDDDD GGGGGGGG 0.5000000\n",
       "29 EEEEEEEE AAAAAAAA 0.3428571\n",
       "30 EEEEEEEE BBBBBBBB 0.7125000\n",
       "31 EEEEEEEE CCCCCCCC 0.3875000\n",
       "32 EEEEEEEE DDDDDDDD 0.5181818\n",
       "33 EEEEEEEE EEEEEEEE 0.4909091\n",
       "34 EEEEEEEE FFFFFFFF 0.5285714\n",
       "35 EEEEEEEE GGGGGGGG 0.4181818\n",
       "36 FFFFFFFF AAAAAAAA 0.3666667\n",
       "37 FFFFFFFF BBBBBBBB 0.4833333\n",
       "38 FFFFFFFF CCCCCCCC 0.4000000\n",
       "39 FFFFFFFF DDDDDDDD 0.4416667\n",
       "40 FFFFFFFF EEEEEEEE 0.4571429\n",
       "41 FFFFFFFF FFFFFFFF 0.5166667\n",
       "42 FFFFFFFF GGGGGGGG 0.5692308\n",
       "43 GGGGGGGG AAAAAAAA 0.5454545\n",
       "44 GGGGGGGG BBBBBBBB 0.2500000\n",
       "45 GGGGGGGG CCCCCCCC 0.4428571\n",
       "46 GGGGGGGG DDDDDDDD 0.3000000\n",
       "47 GGGGGGGG EEEEEEEE 0.5000000\n",
       "48 GGGGGGGG FFFFFFFF 0.4000000\n",
       "49 GGGGGGGG GGGGGGGG 0.4230769\n",
       "50 ZZZZZZZZ AAAAAAAA 0.5250000\n",
       "51 ZZZZZZZZ BBBBBBBB 0.5017241\n",
       "52 ZZZZZZZZ CCCCCCCC 0.5402985\n",
       "53 ZZZZZZZZ DDDDDDDD 0.4691176\n",
       "54 ZZZZZZZZ EEEEEEEE 0.5150000\n",
       "55 ZZZZZZZZ FFFFFFFF 0.4294118\n",
       "56 ZZZZZZZZ GGGGGGGG 0.5057471"
      ]
     },
     "metadata": {},
     "output_type": "display_data"
    }
   ],
   "source": [
    "two_by_vars <- scratch_dt[, mean(new_numeric), by = .(char1, char2)]\n",
    "two_by_vars[order(char1, char2)]"
   ]
  },
  {
   "cell_type": "markdown",
   "metadata": {},
   "source": [
    "#### `.SD` represents all the variables except the by variable(s)"
   ]
  },
  {
   "cell_type": "code",
   "execution_count": 38,
   "metadata": {
    "collapsed": false
   },
   "outputs": [
    {
     "data": {
      "text/html": [
       "<table>\n",
       "<thead><tr><th scope=col>char1</th><th scope=col>key</th><th scope=col>new_numeric</th></tr></thead>\n",
       "<tbody>\n",
       "\t<tr><td>FFFFFFFF</td><td> 20976  </td><td> 36.0   </td></tr>\n",
       "\t<tr><td>GGGGGGGG</td><td> 16341  </td><td> 25.8   </td></tr>\n",
       "\t<tr><td>BBBBBBBB</td><td> 18314  </td><td> 39.2   </td></tr>\n",
       "\t<tr><td>AAAAAAAA</td><td> 17846  </td><td> 38.1   </td></tr>\n",
       "\t<tr><td>DDDDDDDD</td><td> 16680  </td><td> 35.4   </td></tr>\n",
       "\t<tr><td>CCCCCCCC</td><td> 19285  </td><td> 39.2   </td></tr>\n",
       "\t<tr><td>EEEEEEEE</td><td> 15808  </td><td> 30.6   </td></tr>\n",
       "\t<tr><td>ZZZZZZZZ</td><td>375250  </td><td>249.4   </td></tr>\n",
       "</tbody>\n",
       "</table>\n"
      ],
      "text/latex": [
       "\\begin{tabular}{r|lll}\n",
       " char1 & key & new\\_numeric\\\\\n",
       "\\hline\n",
       "\t FFFFFFFF &  20976   &  36.0   \\\\\n",
       "\t GGGGGGGG &  16341   &  25.8   \\\\\n",
       "\t BBBBBBBB &  18314   &  39.2   \\\\\n",
       "\t AAAAAAAA &  17846   &  38.1   \\\\\n",
       "\t DDDDDDDD &  16680   &  35.4   \\\\\n",
       "\t CCCCCCCC &  19285   &  39.2   \\\\\n",
       "\t EEEEEEEE &  15808   &  30.6   \\\\\n",
       "\t ZZZZZZZZ & 375250   & 249.4   \\\\\n",
       "\\end{tabular}\n"
      ],
      "text/plain": [
       "  char1    key    new_numeric\n",
       "1 FFFFFFFF  20976  36.0      \n",
       "2 GGGGGGGG  16341  25.8      \n",
       "3 BBBBBBBB  18314  39.2      \n",
       "4 AAAAAAAA  17846  38.1      \n",
       "5 DDDDDDDD  16680  35.4      \n",
       "6 CCCCCCCC  19285  39.2      \n",
       "7 EEEEEEEE  15808  30.6      \n",
       "8 ZZZZZZZZ 375250 249.4      "
      ]
     },
     "metadata": {},
     "output_type": "display_data"
    }
   ],
   "source": [
    "scratch_dt2[, lapply(.SD, base::sum), by = char1]"
   ]
  },
  {
   "cell_type": "markdown",
   "metadata": {},
   "source": [
    "#### `.N` can be used to find the first and last rows of each by group"
   ]
  },
  {
   "cell_type": "code",
   "execution_count": 39,
   "metadata": {
    "collapsed": false
   },
   "outputs": [
    {
     "data": {
      "text/html": [
       "<table>\n",
       "<thead><tr><th scope=col>char1</th><th scope=col>key</th><th scope=col>new_numeric</th></tr></thead>\n",
       "<tbody>\n",
       "\t<tr><td>FFFFFFFF</td><td>   1    </td><td>0.5     </td></tr>\n",
       "\t<tr><td>FFFFFFFF</td><td> 500    </td><td>0.7     </td></tr>\n",
       "\t<tr><td>GGGGGGGG</td><td>   3    </td><td>0.7     </td></tr>\n",
       "\t<tr><td>GGGGGGGG</td><td> 496    </td><td>0.3     </td></tr>\n",
       "\t<tr><td>BBBBBBBB</td><td>   4    </td><td>0.6     </td></tr>\n",
       "\t<tr><td>BBBBBBBB</td><td> 484    </td><td>0.8     </td></tr>\n",
       "\t<tr><td>AAAAAAAA</td><td>   5    </td><td>0.1     </td></tr>\n",
       "\t<tr><td>AAAAAAAA</td><td> 490    </td><td>0.4     </td></tr>\n",
       "\t<tr><td>DDDDDDDD</td><td>   7    </td><td>0.6     </td></tr>\n",
       "\t<tr><td>DDDDDDDD</td><td> 497    </td><td>0.5     </td></tr>\n",
       "\t<tr><td>CCCCCCCC</td><td>  13    </td><td>0.7     </td></tr>\n",
       "\t<tr><td>CCCCCCCC</td><td> 495    </td><td>0.5     </td></tr>\n",
       "\t<tr><td>EEEEEEEE</td><td>  14    </td><td>0.8     </td></tr>\n",
       "\t<tr><td>EEEEEEEE</td><td> 491    </td><td>0.3     </td></tr>\n",
       "\t<tr><td>ZZZZZZZZ</td><td> 501    </td><td>1.0     </td></tr>\n",
       "\t<tr><td>ZZZZZZZZ</td><td>1000    </td><td>0.9     </td></tr>\n",
       "</tbody>\n",
       "</table>\n"
      ],
      "text/latex": [
       "\\begin{tabular}{r|lll}\n",
       " char1 & key & new\\_numeric\\\\\n",
       "\\hline\n",
       "\t FFFFFFFF &    1     & 0.5     \\\\\n",
       "\t FFFFFFFF &  500     & 0.7     \\\\\n",
       "\t GGGGGGGG &    3     & 0.7     \\\\\n",
       "\t GGGGGGGG &  496     & 0.3     \\\\\n",
       "\t BBBBBBBB &    4     & 0.6     \\\\\n",
       "\t BBBBBBBB &  484     & 0.8     \\\\\n",
       "\t AAAAAAAA &    5     & 0.1     \\\\\n",
       "\t AAAAAAAA &  490     & 0.4     \\\\\n",
       "\t DDDDDDDD &    7     & 0.6     \\\\\n",
       "\t DDDDDDDD &  497     & 0.5     \\\\\n",
       "\t CCCCCCCC &   13     & 0.7     \\\\\n",
       "\t CCCCCCCC &  495     & 0.5     \\\\\n",
       "\t EEEEEEEE &   14     & 0.8     \\\\\n",
       "\t EEEEEEEE &  491     & 0.3     \\\\\n",
       "\t ZZZZZZZZ &  501     & 1.0     \\\\\n",
       "\t ZZZZZZZZ & 1000     & 0.9     \\\\\n",
       "\\end{tabular}\n"
      ],
      "text/plain": [
       "   char1    key  new_numeric\n",
       "1  FFFFFFFF    1 0.5        \n",
       "2  FFFFFFFF  500 0.7        \n",
       "3  GGGGGGGG    3 0.7        \n",
       "4  GGGGGGGG  496 0.3        \n",
       "5  BBBBBBBB    4 0.6        \n",
       "6  BBBBBBBB  484 0.8        \n",
       "7  AAAAAAAA    5 0.1        \n",
       "8  AAAAAAAA  490 0.4        \n",
       "9  DDDDDDDD    7 0.6        \n",
       "10 DDDDDDDD  497 0.5        \n",
       "11 CCCCCCCC   13 0.7        \n",
       "12 CCCCCCCC  495 0.5        \n",
       "13 EEEEEEEE   14 0.8        \n",
       "14 EEEEEEEE  491 0.3        \n",
       "15 ZZZZZZZZ  501 1.0        \n",
       "16 ZZZZZZZZ 1000 0.9        "
      ]
     },
     "metadata": {},
     "output_type": "display_data"
    }
   ],
   "source": [
    "scratch_dt2[, .SD[c(1, .N)], by = char1]"
   ]
  },
  {
   "cell_type": "markdown",
   "metadata": {},
   "source": [
    "***\n",
    "## 10. Operation chaining\n",
    "Operations can be chained for more concise syntax"
   ]
  },
  {
   "cell_type": "code",
   "execution_count": 40,
   "metadata": {
    "collapsed": false
   },
   "outputs": [
    {
     "data": {
      "text/html": [
       "<table>\n",
       "<thead><tr><th scope=col>char1</th><th scope=col>new_numeric2</th></tr></thead>\n",
       "<tbody>\n",
       "\t<tr><td>ZZZZZZZZ</td><td>249.4   </td></tr>\n",
       "</tbody>\n",
       "</table>\n"
      ],
      "text/latex": [
       "\\begin{tabular}{r|ll}\n",
       " char1 & new\\_numeric2\\\\\n",
       "\\hline\n",
       "\t ZZZZZZZZ & 249.4   \\\\\n",
       "\\end{tabular}\n"
      ],
      "text/plain": [
       "  char1    new_numeric2\n",
       "1 ZZZZZZZZ 249.4       "
      ]
     },
     "metadata": {},
     "output_type": "display_data"
    }
   ],
   "source": [
    "# chaining - one line of code\n",
    "scratch_dt2[, .(new_numeric2 = sum(new_numeric)), by = char1][new_numeric2 > 40]"
   ]
  },
  {
   "cell_type": "code",
   "execution_count": 41,
   "metadata": {
    "collapsed": false
   },
   "outputs": [
    {
     "data": {
      "text/html": [
       "<table>\n",
       "<thead><tr><th scope=col>char1</th><th scope=col>new_numeric2</th></tr></thead>\n",
       "<tbody>\n",
       "\t<tr><td>ZZZZZZZZ</td><td>249.4   </td></tr>\n",
       "</tbody>\n",
       "</table>\n"
      ],
      "text/latex": [
       "\\begin{tabular}{r|ll}\n",
       " char1 & new\\_numeric2\\\\\n",
       "\\hline\n",
       "\t ZZZZZZZZ & 249.4   \\\\\n",
       "\\end{tabular}\n"
      ],
      "text/plain": [
       "  char1    new_numeric2\n",
       "1 ZZZZZZZZ 249.4       "
      ]
     },
     "metadata": {},
     "output_type": "display_data"
    }
   ],
   "source": [
    "# no chaining - two lines of code\n",
    "scratch_dt3 <- scratch_dt2[, .(new_numeric2 = sum(new_numeric)), by = char1]\n",
    "scratch_dt3[new_numeric2 > 40]"
   ]
  },
  {
   "cell_type": "markdown",
   "metadata": {},
   "source": [
    "***\n",
    "## 11. Exporting and importing a table"
   ]
  },
  {
   "cell_type": "markdown",
   "metadata": {},
   "source": [
    "`data.table::fread` and `data.table::fwrite` allow for optimized file i/o\n",
    "* `fwrite` only availabe in data.table version > 1.9.7\n",
    "* available from http://Rdatatable.github.io/data.table"
   ]
  },
  {
   "cell_type": "code",
   "execution_count": 42,
   "metadata": {
    "collapsed": true
   },
   "outputs": [],
   "source": [
    "# use fwrite to write a file \n",
    "fwrite(scratch_dt, 'scratch.csv')"
   ]
  },
  {
   "cell_type": "code",
   "execution_count": 43,
   "metadata": {
    "collapsed": false
   },
   "outputs": [
    {
     "name": "stdout",
     "output_type": "stream",
     "text": [
      "       key   numeric1    numeric2    char1    char2 new_numeric\n",
      "   1:    1 0.51494785 0.767991723 FFFFFFFF FFFFFFFF         0.5\n",
      "   2:    2 0.36132422 0.868816448 FFFFFFFF DDDDDDDD         0.4\n",
      "   3:    3 0.71456376 0.160537094 GGGGGGGG AAAAAAAA         0.7\n",
      "   4:    4 0.64633263 0.550704608 BBBBBBBB CCCCCCCC         0.6\n",
      "   5:    5 0.11546163 0.044725391 AAAAAAAA CCCCCCCC         0.1\n",
      "  ---                                                          \n",
      " 996:  996 0.49468994 0.908724921 ZZZZZZZZ EEEEEEEE         0.5\n",
      " 997:  997 0.07238554 0.560199407 ZZZZZZZZ GGGGGGGG         0.1\n",
      " 998:  998 0.03046075 0.008601266 ZZZZZZZZ GGGGGGGG         0.0\n",
      " 999:  999 0.12894029 0.381171830 ZZZZZZZZ BBBBBBBB         0.1\n",
      "1000: 1000 0.93970260 0.632544576 ZZZZZZZZ FFFFFFFF         0.9\n"
     ]
    }
   ],
   "source": [
    "# use fread to read a file\n",
    "scratch_dt <- fread('scratch.csv')\n",
    "print(scratch_dt)"
   ]
  }
 ],
 "metadata": {
  "anaconda-cloud": {},
  "kernelspec": {
   "display_name": "R",
   "language": "R",
   "name": "ir"
  },
  "language_info": {
   "codemirror_mode": "r",
   "file_extension": ".r",
   "mimetype": "text/x-r-source",
   "name": "R",
   "pygments_lexer": "r",
   "version": "3.3.2"
  }
 },
 "nbformat": 4,
 "nbformat_minor": 1
}
