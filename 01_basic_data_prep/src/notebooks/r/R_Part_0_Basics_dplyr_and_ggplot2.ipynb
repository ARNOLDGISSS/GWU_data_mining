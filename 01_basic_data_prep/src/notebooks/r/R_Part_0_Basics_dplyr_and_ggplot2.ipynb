{
 "cells": [
  {
   "cell_type": "markdown",
   "metadata": {},
   "source": [
    "# R: Part 0 - Basics, dplyr, and ggplot2\n",
    "***\n",
    "## 1. Standard output\n",
    "\n",
    "Two primary R core functions are used to print information to the console:\n",
    "* `print()`: a generic function that responds differently to different classes of R objects\n",
    "* `cat()`: simply attempts to print string literals"
   ]
  },
  {
   "cell_type": "code",
   "execution_count": 2,
   "metadata": {
    "collapsed": false,
    "scrolled": true
   },
   "outputs": [
    {
     "name": "stdout",
     "output_type": "stream",
     "text": [
      "[1] \"Hello World!\"\n",
      "Hello World!"
     ]
    },
    {
     "data": {
      "text/html": [
       "'Hello World!'"
      ],
      "text/latex": [
       "'Hello World!'"
      ],
      "text/markdown": [
       "'Hello World!'"
      ],
      "text/plain": [
       "[1] \"Hello World!\""
      ]
     },
     "metadata": {},
     "output_type": "display_data"
    },
    {
     "name": "stdout",
     "output_type": "stream",
     "text": [
      "[1] \"Hello World!\"\n",
      "attr(,\"class\")\n",
      "[1] \"some.class\"\n",
      "Hello World!"
     ]
    }
   ],
   "source": [
    "x <- 'Hello World!'\n",
    "print(x)\n",
    "cat(x)\n",
    "x\n",
    "\n",
    "class(x) <- 'some.class' # '.' is just a character, it does not denote object membership\n",
    "print(x)\n",
    "cat(x) "
   ]
  },
  {
   "cell_type": "code",
   "execution_count": 3,
   "metadata": {
    "collapsed": false
   },
   "outputs": [
    {
     "data": {
      "text/plain": [
       "[1] \"Hello World!\"\n",
       "attr(,\"class\")\n",
       "[1] \"some.class\""
      ]
     },
     "metadata": {},
     "output_type": "display_data"
    }
   ],
   "source": [
    "# An object with no functions or operators is also printed to the console\n",
    "x "
   ]
  },
  {
   "cell_type": "markdown",
   "metadata": {},
   "source": [
    "***\n",
    "## 2. Importing libraries"
   ]
  },
  {
   "cell_type": "markdown",
   "metadata": {},
   "source": [
    "R contains thousands of packages for many different purposes\n",
    "\n",
    "Packages are:\n",
    "* Nearly always free and open source\n",
    "* Installed using the `install.packages()` function or a GUI command\n",
    "* Of varying quality and licensing\n",
    "* Loaded using the `library()` function, after being installed"
   ]
  },
  {
   "cell_type": "code",
   "execution_count": 4,
   "metadata": {
    "collapsed": false
   },
   "outputs": [],
   "source": [
    "library(dplyr)    # popular package for data wrangling with consistent syntax\n",
    "library(ggplot2)  # popular package for plotting with consistent syntax"
   ]
  },
  {
   "cell_type": "markdown",
   "metadata": {},
   "source": [
    "***\n",
    "## 3. Setting the working directory\n",
    "\n",
    "#### Enter the directory location of this file within single quotes"
   ]
  },
  {
   "cell_type": "code",
   "execution_count": 5,
   "metadata": {
    "collapsed": false
   },
   "outputs": [],
   "source": [
    "# '<-' is the preferred assignment operator in R\n",
    "# '/' is the safest directory separator character to use\n",
    "\n",
    "git_dir <- 'C:/workspace/GWU_data_mining/01_basic_data_prep/src/notebooks/r'"
   ]
  },
  {
   "cell_type": "markdown",
   "metadata": {},
   "source": [
    "#### Set the working directory\n",
    "\n",
    "* The working directory is where files are written to and read from by default\n",
    "* `setwd()` sets the working directory\n",
    "* `getwd()` prints the current working directory"
   ]
  },
  {
   "cell_type": "code",
   "execution_count": 6,
   "metadata": {
    "collapsed": false
   },
   "outputs": [
    {
     "data": {
      "text/html": [
       "'C:/workspace/GWU_data_mining/01_basic_data_prep/src/notebooks'"
      ],
      "text/latex": [
       "'C:/workspace/GWU\\_data\\_mining/01\\_basic\\_data\\_prep/src/notebooks'"
      ],
      "text/markdown": [
       "'C:/workspace/GWU_data_mining/01_basic_data_prep/src/notebooks'"
      ],
      "text/plain": [
       "[1] \"C:/workspace/GWU_data_mining/01_basic_data_prep/src/notebooks\""
      ]
     },
     "metadata": {},
     "output_type": "display_data"
    }
   ],
   "source": [
    "setwd(git_dir)\n",
    "getwd()"
   ]
  },
  {
   "cell_type": "markdown",
   "metadata": {},
   "source": [
    "***\n",
    "## 4. Generating a sample data set\n",
    "\n",
    "#### Set the number of rows and columns for the sample data set"
   ]
  },
  {
   "cell_type": "code",
   "execution_count": 7,
   "metadata": {
    "collapsed": false
   },
   "outputs": [],
   "source": [
    "n_rows <- 1000\n",
    "n_vars <- 2"
   ]
  },
  {
   "cell_type": "markdown",
   "metadata": {},
   "source": [
    "#### Create a key variable\n",
    "* A key variable has a unique value for each row of a data set\n",
    "* `seq()` generates values from a number (default = 1), to another number, by a certain value (default = 1)\n",
    "* Many types of data structures in R have key variables (a.k.a. row names) by default"
   ]
  },
  {
   "cell_type": "code",
   "execution_count": 8,
   "metadata": {
    "collapsed": false
   },
   "outputs": [],
   "source": [
    "key <- seq(n_rows)"
   ]
  },
  {
   "cell_type": "markdown",
   "metadata": {},
   "source": [
    "#### Show the first five elements of `key`\n",
    "\n",
    "Most data structures in R can be 'sliced', i.e. using numeric indices to select a subset of items "
   ]
  },
  {
   "cell_type": "code",
   "execution_count": 9,
   "metadata": {
    "collapsed": false
   },
   "outputs": [
    {
     "data": {
      "text/html": [
       "<ol class=list-inline>\n",
       "\t<li>1</li>\n",
       "\t<li>2</li>\n",
       "\t<li>3</li>\n",
       "\t<li>4</li>\n",
       "\t<li>5</li>\n",
       "</ol>\n"
      ],
      "text/latex": [
       "\\begin{enumerate*}\n",
       "\\item 1\n",
       "\\item 2\n",
       "\\item 3\n",
       "\\item 4\n",
       "\\item 5\n",
       "\\end{enumerate*}\n"
      ],
      "text/markdown": [
       "1. 1\n",
       "2. 2\n",
       "3. 3\n",
       "4. 4\n",
       "5. 5\n",
       "\n",
       "\n"
      ],
      "text/plain": [
       "[1] 1 2 3 4 5"
      ]
     },
     "metadata": {},
     "output_type": "display_data"
    }
   ],
   "source": [
    "key[1:5] "
   ]
  },
  {
   "cell_type": "markdown",
   "metadata": {},
   "source": [
    "#### Create lists of strings that will become column names\n",
    "\n",
    "`paste()` concatentates strings with a separator character in between them"
   ]
  },
  {
   "cell_type": "code",
   "execution_count": 10,
   "metadata": {
    "collapsed": false
   },
   "outputs": [
    {
     "data": {
      "text/html": [
       "<ol class=list-inline>\n",
       "\t<li>'numeric1'</li>\n",
       "\t<li>'numeric2'</li>\n",
       "</ol>\n"
      ],
      "text/latex": [
       "\\begin{enumerate*}\n",
       "\\item 'numeric1'\n",
       "\\item 'numeric2'\n",
       "\\end{enumerate*}\n"
      ],
      "text/markdown": [
       "1. 'numeric1'\n",
       "2. 'numeric2'\n",
       "\n",
       "\n"
      ],
      "text/plain": [
       "[1] \"numeric1\" \"numeric2\""
      ]
     },
     "metadata": {},
     "output_type": "display_data"
    },
    {
     "data": {
      "text/html": [
       "<ol class=list-inline>\n",
       "\t<li>'char1'</li>\n",
       "\t<li>'char2'</li>\n",
       "</ol>\n"
      ],
      "text/latex": [
       "\\begin{enumerate*}\n",
       "\\item 'char1'\n",
       "\\item 'char2'\n",
       "\\end{enumerate*}\n"
      ],
      "text/markdown": [
       "1. 'char1'\n",
       "2. 'char2'\n",
       "\n",
       "\n"
      ],
      "text/plain": [
       "[1] \"char1\" \"char2\""
      ]
     },
     "metadata": {},
     "output_type": "display_data"
    }
   ],
   "source": [
    "num_vars <- paste('numeric', seq_len(n_vars), sep = '')\n",
    "num_vars \n",
    "\n",
    "char_vars <- paste('char', seq_len(n_vars), sep = '')\n",
    "char_vars"
   ]
  },
  {
   "cell_type": "markdown",
   "metadata": {},
   "source": [
    "#### Initialize a data.frame with the key variable"
   ]
  },
  {
   "cell_type": "code",
   "execution_count": 11,
   "metadata": {
    "collapsed": false
   },
   "outputs": [
    {
     "data": {
      "text/html": [
       "<table>\n",
       "<thead><tr><th scope=col>INDEX</th></tr></thead>\n",
       "<tbody>\n",
       "\t<tr><td>1</td></tr>\n",
       "\t<tr><td>2</td></tr>\n",
       "\t<tr><td>3</td></tr>\n",
       "\t<tr><td>4</td></tr>\n",
       "\t<tr><td>5</td></tr>\n",
       "\t<tr><td>6</td></tr>\n",
       "</tbody>\n",
       "</table>\n"
      ],
      "text/latex": [
       "\\begin{tabular}{r|l}\n",
       " INDEX\\\\\n",
       "\\hline\n",
       "\t 1\\\\\n",
       "\t 2\\\\\n",
       "\t 3\\\\\n",
       "\t 4\\\\\n",
       "\t 5\\\\\n",
       "\t 6\\\\\n",
       "\\end{tabular}\n"
      ],
      "text/plain": [
       "  INDEX\n",
       "1 1    \n",
       "2 2    \n",
       "3 3    \n",
       "4 4    \n",
       "5 5    \n",
       "6 6    "
      ]
     },
     "metadata": {},
     "output_type": "display_data"
    }
   ],
   "source": [
    "scratch_df <- data.frame(INDEX = key)\n",
    "\n",
    "# head() displays the top of a data structure\n",
    "head(scratch_df) "
   ]
  },
  {
   "cell_type": "markdown",
   "metadata": {},
   "source": [
    "#### Add n_var numeric columns, each with n_row rows, to the data.frame\n",
    "* Each column contains random uniform numeric values generated by runif()\n",
    "* `replicate()` replicates `n_row` length lists of numeric values `n_vars` times"
   ]
  },
  {
   "cell_type": "code",
   "execution_count": 12,
   "metadata": {
    "collapsed": false
   },
   "outputs": [
    {
     "data": {
      "text/html": [
       "<table>\n",
       "<thead><tr><th scope=col>INDEX</th><th scope=col>numeric1</th><th scope=col>numeric2</th></tr></thead>\n",
       "<tbody>\n",
       "\t<tr><td>1        </td><td>0.7660519</td><td>0.8612940</td></tr>\n",
       "\t<tr><td>2        </td><td>0.6655444</td><td>0.4245875</td></tr>\n",
       "\t<tr><td>3        </td><td>0.1249906</td><td>0.7921288</td></tr>\n",
       "\t<tr><td>4        </td><td>0.8783229</td><td>0.6293515</td></tr>\n",
       "\t<tr><td>5        </td><td>0.9762042</td><td>0.6977630</td></tr>\n",
       "\t<tr><td>6        </td><td>0.1545786</td><td>0.2830556</td></tr>\n",
       "</tbody>\n",
       "</table>\n"
      ],
      "text/latex": [
       "\\begin{tabular}{r|lll}\n",
       " INDEX & numeric1 & numeric2\\\\\n",
       "\\hline\n",
       "\t 1         & 0.7660519 & 0.8612940\\\\\n",
       "\t 2         & 0.6655444 & 0.4245875\\\\\n",
       "\t 3         & 0.1249906 & 0.7921288\\\\\n",
       "\t 4         & 0.8783229 & 0.6293515\\\\\n",
       "\t 5         & 0.9762042 & 0.6977630\\\\\n",
       "\t 6         & 0.1545786 & 0.2830556\\\\\n",
       "\\end{tabular}\n"
      ],
      "text/plain": [
       "  INDEX numeric1  numeric2 \n",
       "1 1     0.7660519 0.8612940\n",
       "2 2     0.6655444 0.4245875\n",
       "3 3     0.1249906 0.7921288\n",
       "4 4     0.8783229 0.6293515\n",
       "5 5     0.9762042 0.6977630\n",
       "6 6     0.1545786 0.2830556"
      ]
     },
     "metadata": {},
     "output_type": "display_data"
    }
   ],
   "source": [
    "scratch_df[, num_vars] <- replicate(n_vars, runif(n_rows))\n",
    "head(scratch_df)"
   ]
  },
  {
   "cell_type": "markdown",
   "metadata": {},
   "source": [
    "#### Add n_var character columns, each with n_row rows, to the data.frame\n",
    "* Create a list of strings from which to generate random text variables\n",
    "* `sapply()` applies a function to a sequence of values\n",
    "* `LETTERS` is a character vector containing uppercase letters\n",
    "* An anonymous function is defined that replicates a value 8 times with no seperator character\n",
    "* `replicate()` replicates n_var lists of n_row elements from text_draw sampled randomly from `test_draw` using the `sample()` function"
   ]
  },
  {
   "cell_type": "code",
   "execution_count": 13,
   "metadata": {
    "collapsed": false,
    "scrolled": true
   },
   "outputs": [
    {
     "data": {
      "text/html": [
       "<dl class=dl-horizontal>\n",
       "\t<dt>A</dt>\n",
       "\t\t<dd>'AAAAAAAA'</dd>\n",
       "\t<dt>B</dt>\n",
       "\t\t<dd>'BBBBBBBB'</dd>\n",
       "\t<dt>C</dt>\n",
       "\t\t<dd>'CCCCCCCC'</dd>\n",
       "\t<dt>D</dt>\n",
       "\t\t<dd>'DDDDDDDD'</dd>\n",
       "\t<dt>E</dt>\n",
       "\t\t<dd>'EEEEEEEE'</dd>\n",
       "\t<dt>F</dt>\n",
       "\t\t<dd>'FFFFFFFF'</dd>\n",
       "\t<dt>G</dt>\n",
       "\t\t<dd>'GGGGGGGG'</dd>\n",
       "</dl>\n"
      ],
      "text/latex": [
       "\\begin{description*}\n",
       "\\item[A] 'AAAAAAAA'\n",
       "\\item[B] 'BBBBBBBB'\n",
       "\\item[C] 'CCCCCCCC'\n",
       "\\item[D] 'DDDDDDDD'\n",
       "\\item[E] 'EEEEEEEE'\n",
       "\\item[F] 'FFFFFFFF'\n",
       "\\item[G] 'GGGGGGGG'\n",
       "\\end{description*}\n"
      ],
      "text/markdown": [
       "A\n",
       ":   'AAAAAAAA'B\n",
       ":   'BBBBBBBB'C\n",
       ":   'CCCCCCCC'D\n",
       ":   'DDDDDDDD'E\n",
       ":   'EEEEEEEE'F\n",
       ":   'FFFFFFFF'G\n",
       ":   'GGGGGGGG'\n",
       "\n"
      ],
      "text/plain": [
       "         A          B          C          D          E          F          G \n",
       "\"AAAAAAAA\" \"BBBBBBBB\" \"CCCCCCCC\" \"DDDDDDDD\" \"EEEEEEEE\" \"FFFFFFFF\" \"GGGGGGGG\" "
      ]
     },
     "metadata": {},
     "output_type": "display_data"
    }
   ],
   "source": [
    "text_draw <- sapply(LETTERS[1:7],\n",
    "                    FUN = function(x) paste(rep(x, 8), collapse = \"\"))\n",
    "text_draw                                     "
   ]
  },
  {
   "cell_type": "code",
   "execution_count": 14,
   "metadata": {
    "collapsed": false,
    "scrolled": true
   },
   "outputs": [
    {
     "data": {
      "text/html": [
       "<table>\n",
       "<thead><tr><th scope=col>INDEX</th><th scope=col>numeric1</th><th scope=col>numeric2</th><th scope=col>char1</th><th scope=col>char2</th></tr></thead>\n",
       "<tbody>\n",
       "\t<tr><td>1        </td><td>0.7660519</td><td>0.8612940</td><td>GGGGGGGG </td><td>FFFFFFFF </td></tr>\n",
       "\t<tr><td>2        </td><td>0.6655444</td><td>0.4245875</td><td>GGGGGGGG </td><td>DDDDDDDD </td></tr>\n",
       "\t<tr><td>3        </td><td>0.1249906</td><td>0.7921288</td><td>DDDDDDDD </td><td>BBBBBBBB </td></tr>\n",
       "\t<tr><td>4        </td><td>0.8783229</td><td>0.6293515</td><td>CCCCCCCC </td><td>FFFFFFFF </td></tr>\n",
       "\t<tr><td>5        </td><td>0.9762042</td><td>0.6977630</td><td>EEEEEEEE </td><td>BBBBBBBB </td></tr>\n",
       "\t<tr><td>6        </td><td>0.1545786</td><td>0.2830556</td><td>FFFFFFFF </td><td>FFFFFFFF </td></tr>\n",
       "</tbody>\n",
       "</table>\n"
      ],
      "text/latex": [
       "\\begin{tabular}{r|lllll}\n",
       " INDEX & numeric1 & numeric2 & char1 & char2\\\\\n",
       "\\hline\n",
       "\t 1         & 0.7660519 & 0.8612940 & GGGGGGGG  & FFFFFFFF \\\\\n",
       "\t 2         & 0.6655444 & 0.4245875 & GGGGGGGG  & DDDDDDDD \\\\\n",
       "\t 3         & 0.1249906 & 0.7921288 & DDDDDDDD  & BBBBBBBB \\\\\n",
       "\t 4         & 0.8783229 & 0.6293515 & CCCCCCCC  & FFFFFFFF \\\\\n",
       "\t 5         & 0.9762042 & 0.6977630 & EEEEEEEE  & BBBBBBBB \\\\\n",
       "\t 6         & 0.1545786 & 0.2830556 & FFFFFFFF  & FFFFFFFF \\\\\n",
       "\\end{tabular}\n"
      ],
      "text/plain": [
       "  INDEX numeric1  numeric2  char1    char2   \n",
       "1 1     0.7660519 0.8612940 GGGGGGGG FFFFFFFF\n",
       "2 2     0.6655444 0.4245875 GGGGGGGG DDDDDDDD\n",
       "3 3     0.1249906 0.7921288 DDDDDDDD BBBBBBBB\n",
       "4 4     0.8783229 0.6293515 CCCCCCCC FFFFFFFF\n",
       "5 5     0.9762042 0.6977630 EEEEEEEE BBBBBBBB\n",
       "6 6     0.1545786 0.2830556 FFFFFFFF FFFFFFFF"
      ]
     },
     "metadata": {},
     "output_type": "display_data"
    }
   ],
   "source": [
    "scratch_df[, char_vars] <- replicate(n_vars,\n",
    "                                     sample(text_draw, n_rows, replace = TRUE))\n",
    "head(scratch_df) "
   ]
  },
  {
   "cell_type": "markdown",
   "metadata": {},
   "source": [
    "#### Convert from standard data.frame to dlpyr table\n",
    "* `dplyr` is a popular, intuitive, and effcient package for manipulating data sets\n",
    "* R has many other data types, here are few: http://www.statmethods.net/input/datatypes.html"
   ]
  },
  {
   "cell_type": "code",
   "execution_count": 15,
   "metadata": {
    "collapsed": false
   },
   "outputs": [],
   "source": [
    "scratch_tbl <- tbl_df(scratch_df)"
   ]
  },
  {
   "cell_type": "markdown",
   "metadata": {},
   "source": [
    "#### Use the dplyr::glimpse function to see a summary of the generated data set \n",
    "\n",
    "`<package>::<method>` notation is used to specify a method (or function) is a member of certain package, i.e. in the 'namespace' of a certain package\n"
   ]
  },
  {
   "cell_type": "code",
   "execution_count": 16,
   "metadata": {
    "collapsed": false
   },
   "outputs": [
    {
     "name": "stdout",
     "output_type": "stream",
     "text": [
      "Observations: 1,000\n",
      "Variables: 5\n",
      "$ INDEX    <int> 1, 2, 3, 4, 5, 6, 7, 8, 9, 10, 11, 12, 13, 14, 15, 16, 17,...\n",
      "$ numeric1 <dbl> 0.76605192, 0.66554438, 0.12499060, 0.87832286, 0.97620417...\n",
      "$ numeric2 <dbl> 0.86129400, 0.42458752, 0.79212882, 0.62935148, 0.69776296...\n",
      "$ char1    <chr> \"GGGGGGGG\", \"GGGGGGGG\", \"DDDDDDDD\", \"CCCCCCCC\", \"EEEEEEEE\"...\n",
      "$ char2    <chr> \"FFFFFFFF\", \"DDDDDDDD\", \"BBBBBBBB\", \"FFFFFFFF\", \"BBBBBBBB\"...\n"
     ]
    }
   ],
   "source": [
    "glimpse(scratch_tbl)"
   ]
  },
  {
   "cell_type": "markdown",
   "metadata": {},
   "source": [
    "***\n",
    "## 5. Plotting variables in a table\n",
    "\n",
    "#### Use  `ggplot` to plot univariate densities of numeric1 and char1 with `geom_bar()`\n",
    "* `ggplot` allows you to overlay graphics using the '+' operator\n",
    "* `gtitle` adds title\n",
    "* `coord_flip` rotates the bar chart"
   ]
  },
  {
   "cell_type": "code",
   "execution_count": 17,
   "metadata": {
    "collapsed": false
   },
   "outputs": [
    {
     "data": {},
     "metadata": {},
     "output_type": "display_data"
    },
    {
     "data": {
      "image/png": "[encoded data removed]",
      "text/plain": [
       "plot without title"
      ]
     },
     "metadata": {},
     "output_type": "display_data"
    }
   ],
   "source": [
    "ggplot(scratch_tbl, aes(numeric1)) +\n",
    "  geom_bar(stat = \"bin\", fill = \"blue\", bins = 100) +\n",
    "  ggtitle('Histogram of Numeric1')"
   ]
  },
  {
   "cell_type": "code",
   "execution_count": 18,
   "metadata": {
    "collapsed": false
   },
   "outputs": [
    {
     "data": {},
     "metadata": {},
     "output_type": "display_data"
    },
    {
     "data": {
      "image/png": "[encoded data removed]",
      "text/plain": [
       "plot without title"
      ]
     },
     "metadata": {},
     "output_type": "display_data"
    }
   ],
   "source": [
    "ggplot(scratch_tbl, aes(char1)) +\n",
    "  geom_bar(aes(fill=char1)) +\n",
    "  ggtitle('Histogram of Char1') +\n",
    "  coord_flip()"
   ]
  },
  {
   "cell_type": "markdown",
   "metadata": {},
   "source": [
    "***\n",
    "## 6. Subsetting tables"
   ]
  },
  {
   "cell_type": "markdown",
   "metadata": {},
   "source": [
    "#### Subset columns using `dplyr::select`"
   ]
  },
  {
   "cell_type": "markdown",
   "metadata": {},
   "source": [
    "Subset a range of variables with similar names and numeric suffixes"
   ]
  },
  {
   "cell_type": "code",
   "execution_count": 19,
   "metadata": {
    "collapsed": false
   },
   "outputs": [
    {
     "data": {
      "text/html": [
       "<table>\n",
       "<thead><tr><th scope=col>numeric1</th><th scope=col>numeric2</th></tr></thead>\n",
       "<tbody>\n",
       "\t<tr><td>0.7660519</td><td>0.8612940</td></tr>\n",
       "\t<tr><td>0.6655444</td><td>0.4245875</td></tr>\n",
       "\t<tr><td>0.1249906</td><td>0.7921288</td></tr>\n",
       "\t<tr><td>0.8783229</td><td>0.6293515</td></tr>\n",
       "\t<tr><td>0.9762042</td><td>0.6977630</td></tr>\n",
       "\t<tr><td>0.1545786</td><td>0.2830556</td></tr>\n",
       "</tbody>\n",
       "</table>\n"
      ],
      "text/latex": [
       "\\begin{tabular}{r|ll}\n",
       " numeric1 & numeric2\\\\\n",
       "\\hline\n",
       "\t 0.7660519 & 0.8612940\\\\\n",
       "\t 0.6655444 & 0.4245875\\\\\n",
       "\t 0.1249906 & 0.7921288\\\\\n",
       "\t 0.8783229 & 0.6293515\\\\\n",
       "\t 0.9762042 & 0.6977630\\\\\n",
       "\t 0.1545786 & 0.2830556\\\\\n",
       "\\end{tabular}\n"
      ],
      "text/plain": [
       "  numeric1  numeric2 \n",
       "1 0.7660519 0.8612940\n",
       "2 0.6655444 0.4245875\n",
       "3 0.1249906 0.7921288\n",
       "4 0.8783229 0.6293515\n",
       "5 0.9762042 0.6977630\n",
       "6 0.1545786 0.2830556"
      ]
     },
     "metadata": {},
     "output_type": "display_data"
    }
   ],
   "source": [
    "num_vars <- select(scratch_tbl, num_range('numeric', 1:n_vars))\n",
    "head(num_vars)"
   ]
  },
  {
   "cell_type": "markdown",
   "metadata": {},
   "source": [
    "Subset all the variables whose names begin with 'char'"
   ]
  },
  {
   "cell_type": "code",
   "execution_count": 20,
   "metadata": {
    "collapsed": false
   },
   "outputs": [
    {
     "data": {
      "text/html": [
       "<table>\n",
       "<thead><tr><th scope=col>char1</th><th scope=col>char2</th></tr></thead>\n",
       "<tbody>\n",
       "\t<tr><td>GGGGGGGG</td><td>FFFFFFFF</td></tr>\n",
       "\t<tr><td>GGGGGGGG</td><td>DDDDDDDD</td></tr>\n",
       "\t<tr><td>DDDDDDDD</td><td>BBBBBBBB</td></tr>\n",
       "\t<tr><td>CCCCCCCC</td><td>FFFFFFFF</td></tr>\n",
       "\t<tr><td>EEEEEEEE</td><td>BBBBBBBB</td></tr>\n",
       "\t<tr><td>FFFFFFFF</td><td>FFFFFFFF</td></tr>\n",
       "</tbody>\n",
       "</table>\n"
      ],
      "text/latex": [
       "\\begin{tabular}{r|ll}\n",
       " char1 & char2\\\\\n",
       "\\hline\n",
       "\t GGGGGGGG & FFFFFFFF\\\\\n",
       "\t GGGGGGGG & DDDDDDDD\\\\\n",
       "\t DDDDDDDD & BBBBBBBB\\\\\n",
       "\t CCCCCCCC & FFFFFFFF\\\\\n",
       "\t EEEEEEEE & BBBBBBBB\\\\\n",
       "\t FFFFFFFF & FFFFFFFF\\\\\n",
       "\\end{tabular}\n"
      ],
      "text/plain": [
       "  char1    char2   \n",
       "1 GGGGGGGG FFFFFFFF\n",
       "2 GGGGGGGG DDDDDDDD\n",
       "3 DDDDDDDD BBBBBBBB\n",
       "4 CCCCCCCC FFFFFFFF\n",
       "5 EEEEEEEE BBBBBBBB\n",
       "6 FFFFFFFF FFFFFFFF"
      ]
     },
     "metadata": {},
     "output_type": "display_data"
    }
   ],
   "source": [
    "char_vars <- select(scratch_tbl, starts_with('char'))\n",
    "head(char_vars)"
   ]
  },
  {
   "cell_type": "markdown",
   "metadata": {},
   "source": [
    "Subset variables by their names"
   ]
  },
  {
   "cell_type": "code",
   "execution_count": 21,
   "metadata": {
    "collapsed": false
   },
   "outputs": [
    {
     "data": {
      "text/html": [
       "<table>\n",
       "<thead><tr><th scope=col>numeric1</th><th scope=col>char1</th></tr></thead>\n",
       "<tbody>\n",
       "\t<tr><td>0.7660519</td><td>GGGGGGGG </td></tr>\n",
       "\t<tr><td>0.6655444</td><td>GGGGGGGG </td></tr>\n",
       "\t<tr><td>0.1249906</td><td>DDDDDDDD </td></tr>\n",
       "\t<tr><td>0.8783229</td><td>CCCCCCCC </td></tr>\n",
       "\t<tr><td>0.9762042</td><td>EEEEEEEE </td></tr>\n",
       "\t<tr><td>0.1545786</td><td>FFFFFFFF </td></tr>\n",
       "</tbody>\n",
       "</table>\n"
      ],
      "text/latex": [
       "\\begin{tabular}{r|ll}\n",
       " numeric1 & char1\\\\\n",
       "\\hline\n",
       "\t 0.7660519 & GGGGGGGG \\\\\n",
       "\t 0.6655444 & GGGGGGGG \\\\\n",
       "\t 0.1249906 & DDDDDDDD \\\\\n",
       "\t 0.8783229 & CCCCCCCC \\\\\n",
       "\t 0.9762042 & EEEEEEEE \\\\\n",
       "\t 0.1545786 & FFFFFFFF \\\\\n",
       "\\end{tabular}\n"
      ],
      "text/plain": [
       "  numeric1  char1   \n",
       "1 0.7660519 GGGGGGGG\n",
       "2 0.6655444 GGGGGGGG\n",
       "3 0.1249906 DDDDDDDD\n",
       "4 0.8783229 CCCCCCCC\n",
       "5 0.9762042 EEEEEEEE\n",
       "6 0.1545786 FFFFFFFF"
      ]
     },
     "metadata": {},
     "output_type": "display_data"
    }
   ],
   "source": [
    "mixed_vars <- select(scratch_tbl, one_of('numeric1', 'char1'))\n",
    "head(mixed_vars)"
   ]
  },
  {
   "cell_type": "markdown",
   "metadata": {},
   "source": [
    "#### Subset columns with several different `dplyr` methods"
   ]
  },
  {
   "cell_type": "markdown",
   "metadata": {},
   "source": [
    "Subset/slice rows using their numeric indices"
   ]
  },
  {
   "cell_type": "code",
   "execution_count": 22,
   "metadata": {
    "collapsed": false
   },
   "outputs": [
    {
     "data": {
      "text/html": [
       "<table>\n",
       "<thead><tr><th scope=col>INDEX</th><th scope=col>numeric1</th><th scope=col>numeric2</th><th scope=col>char1</th><th scope=col>char2</th></tr></thead>\n",
       "<tbody>\n",
       "\t<tr><td> 1       </td><td>0.7660519</td><td>0.8612940</td><td>GGGGGGGG </td><td>FFFFFFFF </td></tr>\n",
       "\t<tr><td> 2       </td><td>0.6655444</td><td>0.4245875</td><td>GGGGGGGG </td><td>DDDDDDDD </td></tr>\n",
       "\t<tr><td> 3       </td><td>0.1249906</td><td>0.7921288</td><td>DDDDDDDD </td><td>BBBBBBBB </td></tr>\n",
       "\t<tr><td> 4       </td><td>0.8783229</td><td>0.6293515</td><td>CCCCCCCC </td><td>FFFFFFFF </td></tr>\n",
       "\t<tr><td> 5       </td><td>0.9762042</td><td>0.6977630</td><td>EEEEEEEE </td><td>BBBBBBBB </td></tr>\n",
       "\t<tr><td> 6       </td><td>0.1545786</td><td>0.2830556</td><td>FFFFFFFF </td><td>FFFFFFFF </td></tr>\n",
       "\t<tr><td> 7       </td><td>0.6206734</td><td>0.7125239</td><td>DDDDDDDD </td><td>CCCCCCCC </td></tr>\n",
       "\t<tr><td> 8       </td><td>0.5305409</td><td>0.2518846</td><td>EEEEEEEE </td><td>DDDDDDDD </td></tr>\n",
       "\t<tr><td> 9       </td><td>0.6157465</td><td>0.3307308</td><td>FFFFFFFF </td><td>BBBBBBBB </td></tr>\n",
       "\t<tr><td>10       </td><td>0.9590691</td><td>0.6889828</td><td>EEEEEEEE </td><td>GGGGGGGG </td></tr>\n",
       "</tbody>\n",
       "</table>\n"
      ],
      "text/latex": [
       "\\begin{tabular}{r|lllll}\n",
       " INDEX & numeric1 & numeric2 & char1 & char2\\\\\n",
       "\\hline\n",
       "\t  1        & 0.7660519 & 0.8612940 & GGGGGGGG  & FFFFFFFF \\\\\n",
       "\t  2        & 0.6655444 & 0.4245875 & GGGGGGGG  & DDDDDDDD \\\\\n",
       "\t  3        & 0.1249906 & 0.7921288 & DDDDDDDD  & BBBBBBBB \\\\\n",
       "\t  4        & 0.8783229 & 0.6293515 & CCCCCCCC  & FFFFFFFF \\\\\n",
       "\t  5        & 0.9762042 & 0.6977630 & EEEEEEEE  & BBBBBBBB \\\\\n",
       "\t  6        & 0.1545786 & 0.2830556 & FFFFFFFF  & FFFFFFFF \\\\\n",
       "\t  7        & 0.6206734 & 0.7125239 & DDDDDDDD  & CCCCCCCC \\\\\n",
       "\t  8        & 0.5305409 & 0.2518846 & EEEEEEEE  & DDDDDDDD \\\\\n",
       "\t  9        & 0.6157465 & 0.3307308 & FFFFFFFF  & BBBBBBBB \\\\\n",
       "\t 10        & 0.9590691 & 0.6889828 & EEEEEEEE  & GGGGGGGG \\\\\n",
       "\\end{tabular}\n"
      ],
      "text/plain": [
       "   INDEX numeric1  numeric2  char1    char2   \n",
       "1   1    0.7660519 0.8612940 GGGGGGGG FFFFFFFF\n",
       "2   2    0.6655444 0.4245875 GGGGGGGG DDDDDDDD\n",
       "3   3    0.1249906 0.7921288 DDDDDDDD BBBBBBBB\n",
       "4   4    0.8783229 0.6293515 CCCCCCCC FFFFFFFF\n",
       "5   5    0.9762042 0.6977630 EEEEEEEE BBBBBBBB\n",
       "6   6    0.1545786 0.2830556 FFFFFFFF FFFFFFFF\n",
       "7   7    0.6206734 0.7125239 DDDDDDDD CCCCCCCC\n",
       "8   8    0.5305409 0.2518846 EEEEEEEE DDDDDDDD\n",
       "9   9    0.6157465 0.3307308 FFFFFFFF BBBBBBBB\n",
       "10 10    0.9590691 0.6889828 EEEEEEEE GGGGGGGG"
      ]
     },
     "metadata": {},
     "output_type": "display_data"
    }
   ],
   "source": [
    "some_rows <- slice(scratch_tbl, 1:10)\n",
    "some_rows"
   ]
  },
  {
   "cell_type": "markdown",
   "metadata": {},
   "source": [
    "Subset top rows based on the value of a certain variable"
   ]
  },
  {
   "cell_type": "code",
   "execution_count": 23,
   "metadata": {
    "collapsed": false
   },
   "outputs": [
    {
     "data": {
      "text/html": [
       "<table>\n",
       "<thead><tr><th scope=col>INDEX</th><th scope=col>numeric1</th><th scope=col>numeric2</th><th scope=col>char1</th><th scope=col>char2</th></tr></thead>\n",
       "<tbody>\n",
       "\t<tr><td>139       </td><td>0.9907722 </td><td>0.37407206</td><td>BBBBBBBB  </td><td>CCCCCCCC  </td></tr>\n",
       "\t<tr><td>190       </td><td>0.9923552 </td><td>0.43110734</td><td>AAAAAAAA  </td><td>BBBBBBBB  </td></tr>\n",
       "\t<tr><td>342       </td><td>0.9955218 </td><td>0.66555835</td><td>AAAAAAAA  </td><td>BBBBBBBB  </td></tr>\n",
       "\t<tr><td>413       </td><td>0.9929755 </td><td>0.16846015</td><td>GGGGGGGG  </td><td>FFFFFFFF  </td></tr>\n",
       "\t<tr><td>477       </td><td>0.9971685 </td><td>0.70005867</td><td>BBBBBBBB  </td><td>DDDDDDDD  </td></tr>\n",
       "\t<tr><td>567       </td><td>0.9924111 </td><td>0.12578708</td><td>GGGGGGGG  </td><td>EEEEEEEE  </td></tr>\n",
       "\t<tr><td>886       </td><td>0.9968450 </td><td>0.13595340</td><td>EEEEEEEE  </td><td>EEEEEEEE  </td></tr>\n",
       "\t<tr><td>924       </td><td>0.9950005 </td><td>0.56680152</td><td>EEEEEEEE  </td><td>EEEEEEEE  </td></tr>\n",
       "\t<tr><td>951       </td><td>0.9996092 </td><td>0.07518348</td><td>DDDDDDDD  </td><td>EEEEEEEE  </td></tr>\n",
       "\t<tr><td>971       </td><td>0.9969630 </td><td>0.22729580</td><td>AAAAAAAA  </td><td>CCCCCCCC  </td></tr>\n",
       "</tbody>\n",
       "</table>\n"
      ],
      "text/latex": [
       "\\begin{tabular}{r|lllll}\n",
       " INDEX & numeric1 & numeric2 & char1 & char2\\\\\n",
       "\\hline\n",
       "\t 139        & 0.9907722  & 0.37407206 & BBBBBBBB   & CCCCCCCC  \\\\\n",
       "\t 190        & 0.9923552  & 0.43110734 & AAAAAAAA   & BBBBBBBB  \\\\\n",
       "\t 342        & 0.9955218  & 0.66555835 & AAAAAAAA   & BBBBBBBB  \\\\\n",
       "\t 413        & 0.9929755  & 0.16846015 & GGGGGGGG   & FFFFFFFF  \\\\\n",
       "\t 477        & 0.9971685  & 0.70005867 & BBBBBBBB   & DDDDDDDD  \\\\\n",
       "\t 567        & 0.9924111  & 0.12578708 & GGGGGGGG   & EEEEEEEE  \\\\\n",
       "\t 886        & 0.9968450  & 0.13595340 & EEEEEEEE   & EEEEEEEE  \\\\\n",
       "\t 924        & 0.9950005  & 0.56680152 & EEEEEEEE   & EEEEEEEE  \\\\\n",
       "\t 951        & 0.9996092  & 0.07518348 & DDDDDDDD   & EEEEEEEE  \\\\\n",
       "\t 971        & 0.9969630  & 0.22729580 & AAAAAAAA   & CCCCCCCC  \\\\\n",
       "\\end{tabular}\n"
      ],
      "text/plain": [
       "   INDEX numeric1  numeric2   char1    char2   \n",
       "1  139   0.9907722 0.37407206 BBBBBBBB CCCCCCCC\n",
       "2  190   0.9923552 0.43110734 AAAAAAAA BBBBBBBB\n",
       "3  342   0.9955218 0.66555835 AAAAAAAA BBBBBBBB\n",
       "4  413   0.9929755 0.16846015 GGGGGGGG FFFFFFFF\n",
       "5  477   0.9971685 0.70005867 BBBBBBBB DDDDDDDD\n",
       "6  567   0.9924111 0.12578708 GGGGGGGG EEEEEEEE\n",
       "7  886   0.9968450 0.13595340 EEEEEEEE EEEEEEEE\n",
       "8  924   0.9950005 0.56680152 EEEEEEEE EEEEEEEE\n",
       "9  951   0.9996092 0.07518348 DDDDDDDD EEEEEEEE\n",
       "10 971   0.9969630 0.22729580 AAAAAAAA CCCCCCCC"
      ]
     },
     "metadata": {},
     "output_type": "display_data"
    }
   ],
   "source": [
    "sorted_top_rows <- top_n(scratch_tbl, 10, numeric1)\n",
    "sorted_top_rows "
   ]
  },
  {
   "cell_type": "markdown",
   "metadata": {},
   "source": [
    "Subset rows where a certain variable has a certain value"
   ]
  },
  {
   "cell_type": "code",
   "execution_count": 24,
   "metadata": {
    "collapsed": false
   },
   "outputs": [
    {
     "data": {
      "text/html": [
       "<table>\n",
       "<thead><tr><th scope=col>INDEX</th><th scope=col>numeric1</th><th scope=col>numeric2</th><th scope=col>char1</th><th scope=col>char2</th></tr></thead>\n",
       "<tbody>\n",
       "\t<tr><td>14       </td><td>0.2924441</td><td>0.3092568</td><td>AAAAAAAA </td><td>CCCCCCCC </td></tr>\n",
       "\t<tr><td>19       </td><td>0.5300212</td><td>0.6684989</td><td>AAAAAAAA </td><td>EEEEEEEE </td></tr>\n",
       "\t<tr><td>28       </td><td>0.5483687</td><td>0.4469339</td><td>AAAAAAAA </td><td>GGGGGGGG </td></tr>\n",
       "\t<tr><td>32       </td><td>0.3680773</td><td>0.6349562</td><td>AAAAAAAA </td><td>FFFFFFFF </td></tr>\n",
       "\t<tr><td>35       </td><td>0.8888657</td><td>0.2055340</td><td>AAAAAAAA </td><td>EEEEEEEE </td></tr>\n",
       "\t<tr><td>47       </td><td>0.1564200</td><td>0.5824652</td><td>AAAAAAAA </td><td>EEEEEEEE </td></tr>\n",
       "</tbody>\n",
       "</table>\n"
      ],
      "text/latex": [
       "\\begin{tabular}{r|lllll}\n",
       " INDEX & numeric1 & numeric2 & char1 & char2\\\\\n",
       "\\hline\n",
       "\t 14        & 0.2924441 & 0.3092568 & AAAAAAAA  & CCCCCCCC \\\\\n",
       "\t 19        & 0.5300212 & 0.6684989 & AAAAAAAA  & EEEEEEEE \\\\\n",
       "\t 28        & 0.5483687 & 0.4469339 & AAAAAAAA  & GGGGGGGG \\\\\n",
       "\t 32        & 0.3680773 & 0.6349562 & AAAAAAAA  & FFFFFFFF \\\\\n",
       "\t 35        & 0.8888657 & 0.2055340 & AAAAAAAA  & EEEEEEEE \\\\\n",
       "\t 47        & 0.1564200 & 0.5824652 & AAAAAAAA  & EEEEEEEE \\\\\n",
       "\\end{tabular}\n"
      ],
      "text/plain": [
       "  INDEX numeric1  numeric2  char1    char2   \n",
       "1 14    0.2924441 0.3092568 AAAAAAAA CCCCCCCC\n",
       "2 19    0.5300212 0.6684989 AAAAAAAA EEEEEEEE\n",
       "3 28    0.5483687 0.4469339 AAAAAAAA GGGGGGGG\n",
       "4 32    0.3680773 0.6349562 AAAAAAAA FFFFFFFF\n",
       "5 35    0.8888657 0.2055340 AAAAAAAA EEEEEEEE\n",
       "6 47    0.1564200 0.5824652 AAAAAAAA EEEEEEEE"
      ]
     },
     "metadata": {},
     "output_type": "display_data"
    }
   ],
   "source": [
    "AAAAAAAA_rows <- filter(scratch_tbl, char1 == 'AAAAAAAA')\n",
    "head(AAAAAAAA_rows)"
   ]
  },
  {
   "cell_type": "markdown",
   "metadata": {},
   "source": [
    "***\n",
    "## 7. Updating a table\n",
    "`dplyr`, as a best practice, does not support in-place overwrites of data "
   ]
  },
  {
   "cell_type": "markdown",
   "metadata": {},
   "source": [
    "`dplyr::transform` enables the creation of new variables from existing variables"
   ]
  },
  {
   "cell_type": "code",
   "execution_count": 25,
   "metadata": {
    "collapsed": false
   },
   "outputs": [
    {
     "data": {
      "text/html": [
       "<table>\n",
       "<thead><tr><th scope=col>INDEX</th><th scope=col>numeric1</th><th scope=col>numeric2</th><th scope=col>char1</th><th scope=col>char2</th><th scope=col>new_numeric</th></tr></thead>\n",
       "<tbody>\n",
       "\t<tr><td>1        </td><td>0.7660519</td><td>0.8612940</td><td>GGGGGGGG </td><td>FFFFFFFF </td><td>0.8      </td></tr>\n",
       "\t<tr><td>2        </td><td>0.6655444</td><td>0.4245875</td><td>GGGGGGGG </td><td>DDDDDDDD </td><td>0.7      </td></tr>\n",
       "\t<tr><td>3        </td><td>0.1249906</td><td>0.7921288</td><td>DDDDDDDD </td><td>BBBBBBBB </td><td>0.1      </td></tr>\n",
       "\t<tr><td>4        </td><td>0.8783229</td><td>0.6293515</td><td>CCCCCCCC </td><td>FFFFFFFF </td><td>0.9      </td></tr>\n",
       "\t<tr><td>5        </td><td>0.9762042</td><td>0.6977630</td><td>EEEEEEEE </td><td>BBBBBBBB </td><td>1.0      </td></tr>\n",
       "\t<tr><td>6        </td><td>0.1545786</td><td>0.2830556</td><td>FFFFFFFF </td><td>FFFFFFFF </td><td>0.2      </td></tr>\n",
       "</tbody>\n",
       "</table>\n"
      ],
      "text/latex": [
       "\\begin{tabular}{r|llllll}\n",
       " INDEX & numeric1 & numeric2 & char1 & char2 & new\\_numeric\\\\\n",
       "\\hline\n",
       "\t 1         & 0.7660519 & 0.8612940 & GGGGGGGG  & FFFFFFFF  & 0.8      \\\\\n",
       "\t 2         & 0.6655444 & 0.4245875 & GGGGGGGG  & DDDDDDDD  & 0.7      \\\\\n",
       "\t 3         & 0.1249906 & 0.7921288 & DDDDDDDD  & BBBBBBBB  & 0.1      \\\\\n",
       "\t 4         & 0.8783229 & 0.6293515 & CCCCCCCC  & FFFFFFFF  & 0.9      \\\\\n",
       "\t 5         & 0.9762042 & 0.6977630 & EEEEEEEE  & BBBBBBBB  & 1.0      \\\\\n",
       "\t 6         & 0.1545786 & 0.2830556 & FFFFFFFF  & FFFFFFFF  & 0.2      \\\\\n",
       "\\end{tabular}\n"
      ],
      "text/plain": [
       "  INDEX numeric1  numeric2  char1    char2    new_numeric\n",
       "1 1     0.7660519 0.8612940 GGGGGGGG FFFFFFFF 0.8        \n",
       "2 2     0.6655444 0.4245875 GGGGGGGG DDDDDDDD 0.7        \n",
       "3 3     0.1249906 0.7921288 DDDDDDDD BBBBBBBB 0.1        \n",
       "4 4     0.8783229 0.6293515 CCCCCCCC FFFFFFFF 0.9        \n",
       "5 5     0.9762042 0.6977630 EEEEEEEE BBBBBBBB 1.0        \n",
       "6 6     0.1545786 0.2830556 FFFFFFFF FFFFFFFF 0.2        "
      ]
     },
     "metadata": {},
     "output_type": "display_data"
    }
   ],
   "source": [
    "scratch_tbl2 <- transform(scratch_tbl, \n",
    "                          new_numeric = round(numeric1, 1))\n",
    "head(scratch_tbl2)"
   ]
  },
  {
   "cell_type": "markdown",
   "metadata": {},
   "source": [
    "`dplyr::mutate` enables the creation of new variables from existing variables and computed variables"
   ]
  },
  {
   "cell_type": "code",
   "execution_count": 26,
   "metadata": {
    "collapsed": false,
    "scrolled": true
   },
   "outputs": [
    {
     "data": {
      "text/html": [
       "<table>\n",
       "<thead><tr><th scope=col>INDEX</th><th scope=col>numeric1</th><th scope=col>numeric2</th><th scope=col>char1</th><th scope=col>char2</th><th scope=col>new_numeric</th><th scope=col>new_numeric2</th></tr></thead>\n",
       "<tbody>\n",
       "\t<tr><td>1        </td><td>0.7660519</td><td>0.8612940</td><td>GGGGGGGG </td><td>FFFFFFFF </td><td>0.8      </td><td> 8       </td></tr>\n",
       "\t<tr><td>2        </td><td>0.6655444</td><td>0.4245875</td><td>GGGGGGGG </td><td>DDDDDDDD </td><td>0.7      </td><td> 7       </td></tr>\n",
       "\t<tr><td>3        </td><td>0.1249906</td><td>0.7921288</td><td>DDDDDDDD </td><td>BBBBBBBB </td><td>0.1      </td><td> 1       </td></tr>\n",
       "\t<tr><td>4        </td><td>0.8783229</td><td>0.6293515</td><td>CCCCCCCC </td><td>FFFFFFFF </td><td>0.9      </td><td> 9       </td></tr>\n",
       "\t<tr><td>5        </td><td>0.9762042</td><td>0.6977630</td><td>EEEEEEEE </td><td>BBBBBBBB </td><td>1.0      </td><td>10       </td></tr>\n",
       "\t<tr><td>6        </td><td>0.1545786</td><td>0.2830556</td><td>FFFFFFFF </td><td>FFFFFFFF </td><td>0.2      </td><td> 2       </td></tr>\n",
       "</tbody>\n",
       "</table>\n"
      ],
      "text/latex": [
       "\\begin{tabular}{r|lllllll}\n",
       " INDEX & numeric1 & numeric2 & char1 & char2 & new\\_numeric & new\\_numeric2\\\\\n",
       "\\hline\n",
       "\t 1         & 0.7660519 & 0.8612940 & GGGGGGGG  & FFFFFFFF  & 0.8       &  8       \\\\\n",
       "\t 2         & 0.6655444 & 0.4245875 & GGGGGGGG  & DDDDDDDD  & 0.7       &  7       \\\\\n",
       "\t 3         & 0.1249906 & 0.7921288 & DDDDDDDD  & BBBBBBBB  & 0.1       &  1       \\\\\n",
       "\t 4         & 0.8783229 & 0.6293515 & CCCCCCCC  & FFFFFFFF  & 0.9       &  9       \\\\\n",
       "\t 5         & 0.9762042 & 0.6977630 & EEEEEEEE  & BBBBBBBB  & 1.0       & 10       \\\\\n",
       "\t 6         & 0.1545786 & 0.2830556 & FFFFFFFF  & FFFFFFFF  & 0.2       &  2       \\\\\n",
       "\\end{tabular}\n"
      ],
      "text/plain": [
       "  INDEX numeric1  numeric2  char1    char2    new_numeric new_numeric2\n",
       "1 1     0.7660519 0.8612940 GGGGGGGG FFFFFFFF 0.8          8          \n",
       "2 2     0.6655444 0.4245875 GGGGGGGG DDDDDDDD 0.7          7          \n",
       "3 3     0.1249906 0.7921288 DDDDDDDD BBBBBBBB 0.1          1          \n",
       "4 4     0.8783229 0.6293515 CCCCCCCC FFFFFFFF 0.9          9          \n",
       "5 5     0.9762042 0.6977630 EEEEEEEE BBBBBBBB 1.0         10          \n",
       "6 6     0.1545786 0.2830556 FFFFFFFF FFFFFFFF 0.2          2          "
      ]
     },
     "metadata": {},
     "output_type": "display_data"
    }
   ],
   "source": [
    "scratch_tbl2 <- mutate(scratch_tbl, \n",
    "                       new_numeric = round(numeric1, 1), \n",
    "                       new_numeric2 = new_numeric * 10)\n",
    "head(scratch_tbl2)"
   ]
  },
  {
   "cell_type": "markdown",
   "metadata": {},
   "source": [
    "`dplyr::transmute` enables the creation of new variables from existing variables and computed variables, but keeps only newly created variables"
   ]
  },
  {
   "cell_type": "code",
   "execution_count": 27,
   "metadata": {
    "collapsed": false
   },
   "outputs": [
    {
     "data": {
      "text/html": [
       "<table>\n",
       "<thead><tr><th scope=col>new_numeric</th><th scope=col>new_numeric2</th></tr></thead>\n",
       "<tbody>\n",
       "\t<tr><td>0.8</td><td> 8 </td></tr>\n",
       "\t<tr><td>0.7</td><td> 7 </td></tr>\n",
       "\t<tr><td>0.1</td><td> 1 </td></tr>\n",
       "\t<tr><td>0.9</td><td> 9 </td></tr>\n",
       "\t<tr><td>1.0</td><td>10 </td></tr>\n",
       "\t<tr><td>0.2</td><td> 2 </td></tr>\n",
       "</tbody>\n",
       "</table>\n"
      ],
      "text/latex": [
       "\\begin{tabular}{r|ll}\n",
       " new\\_numeric & new\\_numeric2\\\\\n",
       "\\hline\n",
       "\t 0.8 &  8 \\\\\n",
       "\t 0.7 &  7 \\\\\n",
       "\t 0.1 &  1 \\\\\n",
       "\t 0.9 &  9 \\\\\n",
       "\t 1.0 & 10 \\\\\n",
       "\t 0.2 &  2 \\\\\n",
       "\\end{tabular}\n"
      ],
      "text/plain": [
       "  new_numeric new_numeric2\n",
       "1 0.8          8          \n",
       "2 0.7          7          \n",
       "3 0.1          1          \n",
       "4 0.9          9          \n",
       "5 1.0         10          \n",
       "6 0.2          2          "
      ]
     },
     "metadata": {},
     "output_type": "display_data"
    }
   ],
   "source": [
    "scratch_tbl2 <- transmute(scratch_tbl, \n",
    "                          new_numeric = round(numeric1, 1), \n",
    "                          new_numeric2 = new_numeric * 10)\n",
    "head(scratch_tbl2)"
   ]
  },
  {
   "cell_type": "markdown",
   "metadata": {},
   "source": [
    "***\n",
    "## 8. Sorting a table \n",
    "Sort tables by one variable or more variables using `dplyr::arrange`"
   ]
  },
  {
   "cell_type": "code",
   "execution_count": 28,
   "metadata": {
    "collapsed": false
   },
   "outputs": [
    {
     "data": {
      "text/html": [
       "<table>\n",
       "<thead><tr><th scope=col>char1</th><th scope=col>char2</th></tr></thead>\n",
       "<tbody>\n",
       "\t<tr><td>AAAAAAAA</td><td>CCCCCCCC</td></tr>\n",
       "\t<tr><td>AAAAAAAA</td><td>EEEEEEEE</td></tr>\n",
       "\t<tr><td>AAAAAAAA</td><td>GGGGGGGG</td></tr>\n",
       "\t<tr><td>AAAAAAAA</td><td>FFFFFFFF</td></tr>\n",
       "\t<tr><td>AAAAAAAA</td><td>EEEEEEEE</td></tr>\n",
       "\t<tr><td>AAAAAAAA</td><td>EEEEEEEE</td></tr>\n",
       "</tbody>\n",
       "</table>\n"
      ],
      "text/latex": [
       "\\begin{tabular}{r|ll}\n",
       " char1 & char2\\\\\n",
       "\\hline\n",
       "\t AAAAAAAA & CCCCCCCC\\\\\n",
       "\t AAAAAAAA & EEEEEEEE\\\\\n",
       "\t AAAAAAAA & GGGGGGGG\\\\\n",
       "\t AAAAAAAA & FFFFFFFF\\\\\n",
       "\t AAAAAAAA & EEEEEEEE\\\\\n",
       "\t AAAAAAAA & EEEEEEEE\\\\\n",
       "\\end{tabular}\n"
      ],
      "text/plain": [
       "  char1    char2   \n",
       "1 AAAAAAAA CCCCCCCC\n",
       "2 AAAAAAAA EEEEEEEE\n",
       "3 AAAAAAAA GGGGGGGG\n",
       "4 AAAAAAAA FFFFFFFF\n",
       "5 AAAAAAAA EEEEEEEE\n",
       "6 AAAAAAAA EEEEEEEE"
      ]
     },
     "metadata": {},
     "output_type": "display_data"
    }
   ],
   "source": [
    "# one sort var: char1\n",
    "sorted <- arrange(char_vars, char1)\n",
    "head(sorted)"
   ]
  },
  {
   "cell_type": "code",
   "execution_count": 29,
   "metadata": {
    "collapsed": false
   },
   "outputs": [
    {
     "data": {
      "text/html": [
       "<table>\n",
       "<thead><tr><th scope=col>char1</th><th scope=col>char2</th></tr></thead>\n",
       "<tbody>\n",
       "\t<tr><td>AAAAAAAA</td><td>AAAAAAAA</td></tr>\n",
       "\t<tr><td>AAAAAAAA</td><td>AAAAAAAA</td></tr>\n",
       "\t<tr><td>AAAAAAAA</td><td>AAAAAAAA</td></tr>\n",
       "\t<tr><td>AAAAAAAA</td><td>AAAAAAAA</td></tr>\n",
       "\t<tr><td>AAAAAAAA</td><td>AAAAAAAA</td></tr>\n",
       "\t<tr><td>AAAAAAAA</td><td>AAAAAAAA</td></tr>\n",
       "</tbody>\n",
       "</table>\n"
      ],
      "text/latex": [
       "\\begin{tabular}{r|ll}\n",
       " char1 & char2\\\\\n",
       "\\hline\n",
       "\t AAAAAAAA & AAAAAAAA\\\\\n",
       "\t AAAAAAAA & AAAAAAAA\\\\\n",
       "\t AAAAAAAA & AAAAAAAA\\\\\n",
       "\t AAAAAAAA & AAAAAAAA\\\\\n",
       "\t AAAAAAAA & AAAAAAAA\\\\\n",
       "\t AAAAAAAA & AAAAAAAA\\\\\n",
       "\\end{tabular}\n"
      ],
      "text/plain": [
       "  char1    char2   \n",
       "1 AAAAAAAA AAAAAAAA\n",
       "2 AAAAAAAA AAAAAAAA\n",
       "3 AAAAAAAA AAAAAAAA\n",
       "4 AAAAAAAA AAAAAAAA\n",
       "5 AAAAAAAA AAAAAAAA\n",
       "6 AAAAAAAA AAAAAAAA"
      ]
     },
     "metadata": {},
     "output_type": "display_data"
    }
   ],
   "source": [
    "# two sort vars: char1, char2\n",
    "sorted2 <- arrange(char_vars, char1, char2)\n",
    "head(sorted2)"
   ]
  },
  {
   "cell_type": "markdown",
   "metadata": {},
   "source": [
    "***\n",
    "## 9. Adding data to the table\n",
    "Add data to a table using `dplyr:: bind` and `dplyr::join`\n",
    "* Bind methods smash tables together\n",
    "  * `bindr` stacks data sets vertically\n",
    "  * `bindc` combines data sets horizontally\n",
    "* `join` combines tables based on matching values of a shared key (or 'by') variable"
   ]
  },
  {
   "cell_type": "code",
   "execution_count": 30,
   "metadata": {
    "collapsed": false
   },
   "outputs": [
    {
     "data": {
      "text/html": [
       "2000"
      ],
      "text/latex": [
       "2000"
      ],
      "text/markdown": [
       "2000"
      ],
      "text/plain": [
       "[1] 2000"
      ]
     },
     "metadata": {},
     "output_type": "display_data"
    }
   ],
   "source": [
    "bindr <- bind_rows(sorted, sorted2)\n",
    "nrow(bindr) #nrow - number of rows"
   ]
  },
  {
   "cell_type": "code",
   "execution_count": 31,
   "metadata": {
    "collapsed": false
   },
   "outputs": [
    {
     "data": {
      "text/html": [
       "4"
      ],
      "text/latex": [
       "4"
      ],
      "text/markdown": [
       "4"
      ],
      "text/plain": [
       "[1] 4"
      ]
     },
     "metadata": {},
     "output_type": "display_data"
    }
   ],
   "source": [
    "bindc <- bind_cols(sorted, sorted2)\n",
    "ncol(bindc) # ncol - number of columns"
   ]
  },
  {
   "cell_type": "markdown",
   "metadata": {},
   "source": [
    "#### Create two tables to join on a key variable "
   ]
  },
  {
   "cell_type": "code",
   "execution_count": 32,
   "metadata": {
    "collapsed": true
   },
   "outputs": [],
   "source": [
    "sorted_left <- arrange(select(scratch_tbl, one_of('INDEX', 'char1')), char1)\n",
    "right <- select(scratch_tbl, one_of('INDEX', 'numeric1'))"
   ]
  },
  {
   "cell_type": "markdown",
   "metadata": {},
   "source": [
    "#### Perform join\n",
    "Joined table contains `char1` from the left table and `numeric1` from the right table matched by the value of `INDEX`"
   ]
  },
  {
   "cell_type": "code",
   "execution_count": 33,
   "metadata": {
    "collapsed": false
   },
   "outputs": [
    {
     "data": {
      "text/html": [
       "<table>\n",
       "<thead><tr><th scope=col>INDEX</th><th scope=col>char1</th><th scope=col>numeric1</th></tr></thead>\n",
       "<tbody>\n",
       "\t<tr><td>14       </td><td>AAAAAAAA </td><td>0.2924441</td></tr>\n",
       "\t<tr><td>19       </td><td>AAAAAAAA </td><td>0.5300212</td></tr>\n",
       "\t<tr><td>28       </td><td>AAAAAAAA </td><td>0.5483687</td></tr>\n",
       "\t<tr><td>32       </td><td>AAAAAAAA </td><td>0.3680773</td></tr>\n",
       "\t<tr><td>35       </td><td>AAAAAAAA </td><td>0.8888657</td></tr>\n",
       "\t<tr><td>47       </td><td>AAAAAAAA </td><td>0.1564200</td></tr>\n",
       "</tbody>\n",
       "</table>\n"
      ],
      "text/latex": [
       "\\begin{tabular}{r|lll}\n",
       " INDEX & char1 & numeric1\\\\\n",
       "\\hline\n",
       "\t 14        & AAAAAAAA  & 0.2924441\\\\\n",
       "\t 19        & AAAAAAAA  & 0.5300212\\\\\n",
       "\t 28        & AAAAAAAA  & 0.5483687\\\\\n",
       "\t 32        & AAAAAAAA  & 0.3680773\\\\\n",
       "\t 35        & AAAAAAAA  & 0.8888657\\\\\n",
       "\t 47        & AAAAAAAA  & 0.1564200\\\\\n",
       "\\end{tabular}\n"
      ],
      "text/plain": [
       "  INDEX char1    numeric1 \n",
       "1 14    AAAAAAAA 0.2924441\n",
       "2 19    AAAAAAAA 0.5300212\n",
       "3 28    AAAAAAAA 0.5483687\n",
       "4 32    AAAAAAAA 0.3680773\n",
       "5 35    AAAAAAAA 0.8888657\n",
       "6 47    AAAAAAAA 0.1564200"
      ]
     },
     "metadata": {},
     "output_type": "display_data"
    }
   ],
   "source": [
    "joined <- left_join(sorted_left, right, by = 'INDEX')\n",
    "head(joined)"
   ]
  },
  {
   "cell_type": "markdown",
   "metadata": {},
   "source": [
    "***\n",
    "## 10. Comparing tables using `dplyr::all.equal`\n",
    "* `dplyr::all.equal` will test tables for equality despite the order of rowsand/or columns\n",
    "* Very useful for keeping track of changes to important tables"
   ]
  },
  {
   "cell_type": "markdown",
   "metadata": {},
   "source": [
    "#### Create a table for comparision \n",
    "`test` will have the same values as `joined` but in a different order"
   ]
  },
  {
   "cell_type": "code",
   "execution_count": 34,
   "metadata": {
    "collapsed": true
   },
   "outputs": [],
   "source": [
    "test <- select(scratch_tbl, one_of('INDEX', 'numeric1', 'char1'))"
   ]
  },
  {
   "cell_type": "markdown",
   "metadata": {},
   "source": [
    "#### Perform comparisons"
   ]
  },
  {
   "cell_type": "code",
   "execution_count": 35,
   "metadata": {
    "collapsed": false
   },
   "outputs": [
    {
     "name": "stdout",
     "output_type": "stream",
     "text": [
      "[1] \"Same row values, but different order\"\n"
     ]
    }
   ],
   "source": [
    "print(all.equal(joined, test, ignore_row_order = FALSE))"
   ]
  },
  {
   "cell_type": "code",
   "execution_count": 36,
   "metadata": {
    "collapsed": false
   },
   "outputs": [
    {
     "name": "stdout",
     "output_type": "stream",
     "text": [
      "[1] \"Same column names, but different order\"\n"
     ]
    }
   ],
   "source": [
    "print(all.equal(joined, test, ignore_col_order = FALSE))"
   ]
  },
  {
   "cell_type": "code",
   "execution_count": 37,
   "metadata": {
    "collapsed": false
   },
   "outputs": [
    {
     "name": "stdout",
     "output_type": "stream",
     "text": [
      "[1] TRUE\n"
     ]
    }
   ],
   "source": [
    "print(all.equal(joined, test))"
   ]
  },
  {
   "cell_type": "markdown",
   "metadata": {},
   "source": [
    "***\n",
    "## 11. Summarizing tables\n",
    "Combine rows of tables into summary values, like means or sums, using:\n",
    "* `dplyr::summarise` \n",
    "* `dplyr::summarise_each`"
   ]
  },
  {
   "cell_type": "code",
   "execution_count": 38,
   "metadata": {
    "collapsed": false
   },
   "outputs": [
    {
     "data": {
      "text/html": [
       "<table>\n",
       "<thead><tr><th scope=col>avg</th></tr></thead>\n",
       "<tbody>\n",
       "\t<tr><td>0.5148242</td></tr>\n",
       "</tbody>\n",
       "</table>\n"
      ],
      "text/latex": [
       "\\begin{tabular}{r|l}\n",
       " avg\\\\\n",
       "\\hline\n",
       "\t 0.5148242\\\\\n",
       "\\end{tabular}\n"
      ],
      "text/plain": [
       "  avg      \n",
       "1 0.5148242"
      ]
     },
     "metadata": {},
     "output_type": "display_data"
    }
   ],
   "source": [
    "ave <- summarise(num_vars, avg = mean(numeric1)) # avg is the name of the new variable\n",
    "ave"
   ]
  },
  {
   "cell_type": "code",
   "execution_count": 39,
   "metadata": {
    "collapsed": false
   },
   "outputs": [
    {
     "data": {
      "text/html": [
       "<table>\n",
       "<thead><tr><th scope=col>numeric1</th><th scope=col>numeric2</th></tr></thead>\n",
       "<tbody>\n",
       "\t<tr><td>0.5148242</td><td>0.5127149</td></tr>\n",
       "</tbody>\n",
       "</table>\n"
      ],
      "text/latex": [
       "\\begin{tabular}{r|ll}\n",
       " numeric1 & numeric2\\\\\n",
       "\\hline\n",
       "\t 0.5148242 & 0.5127149\\\\\n",
       "\\end{tabular}\n"
      ],
      "text/plain": [
       "  numeric1  numeric2 \n",
       "1 0.5148242 0.5127149"
      ]
     },
     "metadata": {},
     "output_type": "display_data"
    }
   ],
   "source": [
    "all_aves <-summarise_each(num_vars, funs(mean)) # funs() defines the summary function\n",
    "all_aves"
   ]
  },
  {
   "cell_type": "markdown",
   "metadata": {},
   "source": [
    "***\n",
    "## 12. By group processing\n",
    "By groups allow you to divide and process a data set based on the values of a certain variable\n",
    "* `dplyr::group_by` groups a data set together based on the values of a certain variable\n",
    "* Operations can then be applied to groups"
   ]
  },
  {
   "cell_type": "code",
   "execution_count": 40,
   "metadata": {
    "collapsed": true
   },
   "outputs": [],
   "source": [
    "grouped <- group_by(joined, char1)"
   ]
  },
  {
   "cell_type": "code",
   "execution_count": 41,
   "metadata": {
    "collapsed": false
   },
   "outputs": [
    {
     "data": {
      "text/html": [
       "<table>\n",
       "<thead><tr><th scope=col>char1</th><th scope=col>avg</th></tr></thead>\n",
       "<tbody>\n",
       "\t<tr><td>AAAAAAAA </td><td>0.5554806</td></tr>\n",
       "\t<tr><td>BBBBBBBB </td><td>0.5145690</td></tr>\n",
       "\t<tr><td>CCCCCCCC </td><td>0.5261495</td></tr>\n",
       "\t<tr><td>DDDDDDDD </td><td>0.5012319</td></tr>\n",
       "\t<tr><td>EEEEEEEE </td><td>0.5166781</td></tr>\n",
       "\t<tr><td>FFFFFFFF </td><td>0.4927610</td></tr>\n",
       "\t<tr><td>GGGGGGGG </td><td>0.4965426</td></tr>\n",
       "</tbody>\n",
       "</table>\n"
      ],
      "text/latex": [
       "\\begin{tabular}{r|ll}\n",
       " char1 & avg\\\\\n",
       "\\hline\n",
       "\t AAAAAAAA  & 0.5554806\\\\\n",
       "\t BBBBBBBB  & 0.5145690\\\\\n",
       "\t CCCCCCCC  & 0.5261495\\\\\n",
       "\t DDDDDDDD  & 0.5012319\\\\\n",
       "\t EEEEEEEE  & 0.5166781\\\\\n",
       "\t FFFFFFFF  & 0.4927610\\\\\n",
       "\t GGGGGGGG  & 0.4965426\\\\\n",
       "\\end{tabular}\n"
      ],
      "text/plain": [
       "  char1    avg      \n",
       "1 AAAAAAAA 0.5554806\n",
       "2 BBBBBBBB 0.5145690\n",
       "3 CCCCCCCC 0.5261495\n",
       "4 DDDDDDDD 0.5012319\n",
       "5 EEEEEEEE 0.5166781\n",
       "6 FFFFFFFF 0.4927610\n",
       "7 GGGGGGGG 0.4965426"
      ]
     },
     "metadata": {},
     "output_type": "display_data"
    }
   ],
   "source": [
    "grouped <- summarise(grouped, avg = mean(numeric1)) # avg is the name of the new variable\n",
    "grouped"
   ]
  },
  {
   "cell_type": "markdown",
   "metadata": {},
   "source": [
    "***\n",
    "## 13. Exporting and importing a table\n",
    "* The R core function `write.table` enables writing text files\n",
    "  * Use the `sep` option to specifiy the columns delimiter character\n",
    "  * `row.names = FALSE` indicates not to save the row number to the text file\n",
    "* The similar R core function `read.table` enables reading text files"
   ]
  },
  {
   "cell_type": "code",
   "execution_count": 42,
   "metadata": {
    "collapsed": true
   },
   "outputs": [],
   "source": [
    "# export\n",
    "filename <- paste(git_dir, 'scratch.csv', sep = '/') \n",
    "write.table(scratch_tbl, file = filename, quote = FALSE, sep = ',',\n",
    "            row.names = FALSE) "
   ]
  },
  {
   "cell_type": "code",
   "execution_count": 43,
   "metadata": {
    "collapsed": true
   },
   "outputs": [],
   "source": [
    "# import\n",
    "import <- read.table(filename, header = TRUE, sep = ',')"
   ]
  }
 ],
 "metadata": {
  "anaconda-cloud": {},
  "kernelspec": {
   "display_name": "R",
   "language": "R",
   "name": "ir"
  },
  "language_info": {
   "codemirror_mode": "r",
   "file_extension": ".r",
   "mimetype": "text/x-r-source",
   "name": "R",
   "pygments_lexer": "r",
   "version": "3.3.2"
  }
 },
 "nbformat": 4,
 "nbformat_minor": 1
}
