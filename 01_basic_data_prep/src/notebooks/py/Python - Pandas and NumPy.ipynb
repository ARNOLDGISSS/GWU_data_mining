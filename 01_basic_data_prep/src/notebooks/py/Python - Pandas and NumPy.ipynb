{
 "cells": [
  {
   "cell_type": "code",
   "execution_count": 1,
   "metadata": {
    "collapsed": false
   },
   "outputs": [
    {
     "name": "stdout",
     "output_type": "stream",
     "text": [
      "Hello World!\n",
      "Hello World!\n"
     ]
    }
   ],
   "source": [
    "print('Hello World!') # Python 3\n",
    "print 'Hello World!' # Python 2"
   ]
  },
  {
   "cell_type": "code",
   "execution_count": 2,
   "metadata": {
    "collapsed": false
   },
   "outputs": [
    {
     "name": "stderr",
     "output_type": "stream",
     "text": [
      "C:\\Anaconda\\lib\\site-packages\\pandas\\computation\\__init__.py:19: UserWarning: The installed version of numexpr 2.4.4 is not supported in pandas and will be not be used\n",
      "\n",
      "  UserWarning)\n"
     ]
    }
   ],
   "source": [
    "# import packages\n",
    "import pandas as pd\n",
    "import numpy as np"
   ]
  },
  {
   "cell_type": "code",
   "execution_count": 3,
   "metadata": {
    "collapsed": true
   },
   "outputs": [],
   "source": [
    "git_dir = 'C:/workspace/GWU_data_mining/01_basic_data_prep/src/notebooks/py' "
   ]
  },
  {
   "cell_type": "code",
   "execution_count": 4,
   "metadata": {
    "collapsed": true
   },
   "outputs": [],
   "source": [
    "n_rows = 1000\n",
    "n_vars = 2"
   ]
  },
  {
   "cell_type": "code",
   "execution_count": 5,
   "metadata": {
    "collapsed": false
   },
   "outputs": [
    {
     "data": {
      "text/plain": [
       "['numeric1', 'numeric2']"
      ]
     },
     "execution_count": 5,
     "metadata": {},
     "output_type": "execute_result"
    }
   ],
   "source": [
    "# list comprehensions\n",
    "num_col_names = ['numeric' + str(i+1) for i in range(0, n_vars)] \n",
    "num_col_names"
   ]
  },
  {
   "cell_type": "code",
   "execution_count": 6,
   "metadata": {
    "collapsed": false
   },
   "outputs": [
    {
     "data": {
      "text/plain": [
       "list"
      ]
     },
     "execution_count": 6,
     "metadata": {},
     "output_type": "execute_result"
    }
   ],
   "source": [
    "type(num_col_names)"
   ]
  },
  {
   "cell_type": "code",
   "execution_count": 7,
   "metadata": {
    "collapsed": false
   },
   "outputs": [
    {
     "data": {
      "text/plain": [
       "['char1', 'char2']"
      ]
     },
     "execution_count": 7,
     "metadata": {},
     "output_type": "execute_result"
    }
   ],
   "source": [
    "# lamba/anonymous functions\n",
    "char_col_names = map(lambda j: 'char' + str(j+1), range(0, n_vars)) \n",
    "char_col_names"
   ]
  },
  {
   "cell_type": "code",
   "execution_count": 8,
   "metadata": {
    "collapsed": false
   },
   "outputs": [
    {
     "name": "stdout",
     "output_type": "stream",
     "text": [
      "ABCDEFGHIJKLMNOPQRSTUVWXYZ\n"
     ]
    },
    {
     "data": {
      "text/plain": [
       "['AAAAAAAA',\n",
       " 'BBBBBBBB',\n",
       " 'CCCCCCCC',\n",
       " 'DDDDDDDD',\n",
       " 'EEEEEEEE',\n",
       " 'FFFFFFFF',\n",
       " 'GGGGGGGG']"
      ]
     },
     "execution_count": 8,
     "metadata": {},
     "output_type": "execute_result"
    }
   ],
   "source": [
    "import string\n",
    "print(string.ascii_uppercase)\n",
    "\n",
    "# indexed from 0, unlike SAS or R\n",
    "text_draw = [(letter * 8) for letter in string.ascii_uppercase[:7]] \n",
    "text_draw"
   ]
  },
  {
   "cell_type": "code",
   "execution_count": 9,
   "metadata": {
    "collapsed": false
   },
   "outputs": [
    {
     "data": {
      "text/plain": [
       "array([[-0.94103561,  0.65507958],\n",
       "       [ 1.40624331,  1.89611515],\n",
       "       [-0.35367377,  0.49060879],\n",
       "       [ 0.35743656,  0.48037553],\n",
       "       [-1.57990726,  0.90781204]])"
      ]
     },
     "execution_count": 9,
     "metadata": {},
     "output_type": "execute_result"
    }
   ],
   "source": [
    "randoms = np.random.randn(n_rows, n_vars)\n",
    "randoms[0:5]"
   ]
  },
  {
   "cell_type": "code",
   "execution_count": 10,
   "metadata": {
    "collapsed": false
   },
   "outputs": [
    {
     "data": {
      "text/plain": [
       "numpy.ndarray"
      ]
     },
     "execution_count": 10,
     "metadata": {},
     "output_type": "execute_result"
    }
   ],
   "source": [
    "type(randoms)"
   ]
  },
  {
   "cell_type": "code",
   "execution_count": 11,
   "metadata": {
    "collapsed": false
   },
   "outputs": [
    {
     "data": {
      "text/html": [
       "<div>\n",
       "<table border=\"1\" class=\"dataframe\">\n",
       "  <thead>\n",
       "    <tr style=\"text-align: right;\">\n",
       "      <th></th>\n",
       "      <th>numeric1</th>\n",
       "      <th>numeric2</th>\n",
       "    </tr>\n",
       "  </thead>\n",
       "  <tbody>\n",
       "    <tr>\n",
       "      <th>0</th>\n",
       "      <td>-0.941036</td>\n",
       "      <td>0.655080</td>\n",
       "    </tr>\n",
       "    <tr>\n",
       "      <th>1</th>\n",
       "      <td>1.406243</td>\n",
       "      <td>1.896115</td>\n",
       "    </tr>\n",
       "    <tr>\n",
       "      <th>2</th>\n",
       "      <td>-0.353674</td>\n",
       "      <td>0.490609</td>\n",
       "    </tr>\n",
       "    <tr>\n",
       "      <th>3</th>\n",
       "      <td>0.357437</td>\n",
       "      <td>0.480376</td>\n",
       "    </tr>\n",
       "    <tr>\n",
       "      <th>4</th>\n",
       "      <td>-1.579907</td>\n",
       "      <td>0.907812</td>\n",
       "    </tr>\n",
       "  </tbody>\n",
       "</table>\n",
       "</div>"
      ],
      "text/plain": [
       "   numeric1  numeric2\n",
       "0 -0.941036  0.655080\n",
       "1  1.406243  1.896115\n",
       "2 -0.353674  0.490609\n",
       "3  0.357437  0.480376\n",
       "4 -1.579907  0.907812"
      ]
     },
     "execution_count": 11,
     "metadata": {},
     "output_type": "execute_result"
    }
   ],
   "source": [
    "# key is redundant/unnecessary\n",
    "num_cols = pd.DataFrame(randoms, columns=num_col_names)\n",
    "num_cols.head()"
   ]
  },
  {
   "cell_type": "code",
   "execution_count": 12,
   "metadata": {
    "collapsed": false
   },
   "outputs": [
    {
     "data": {
      "text/plain": [
       "pandas.core.frame.DataFrame"
      ]
     },
     "execution_count": 12,
     "metadata": {},
     "output_type": "execute_result"
    }
   ],
   "source": [
    "type(num_cols)"
   ]
  },
  {
   "cell_type": "code",
   "execution_count": 13,
   "metadata": {
    "collapsed": false
   },
   "outputs": [
    {
     "data": {
      "text/html": [
       "<div>\n",
       "<table border=\"1\" class=\"dataframe\">\n",
       "  <thead>\n",
       "    <tr style=\"text-align: right;\">\n",
       "      <th></th>\n",
       "      <th>char1</th>\n",
       "      <th>char2</th>\n",
       "    </tr>\n",
       "  </thead>\n",
       "  <tbody>\n",
       "    <tr>\n",
       "      <th>0</th>\n",
       "      <td>AAAAAAAA</td>\n",
       "      <td>EEEEEEEE</td>\n",
       "    </tr>\n",
       "    <tr>\n",
       "      <th>1</th>\n",
       "      <td>EEEEEEEE</td>\n",
       "      <td>AAAAAAAA</td>\n",
       "    </tr>\n",
       "    <tr>\n",
       "      <th>2</th>\n",
       "      <td>CCCCCCCC</td>\n",
       "      <td>FFFFFFFF</td>\n",
       "    </tr>\n",
       "    <tr>\n",
       "      <th>3</th>\n",
       "      <td>AAAAAAAA</td>\n",
       "      <td>GGGGGGGG</td>\n",
       "    </tr>\n",
       "    <tr>\n",
       "      <th>4</th>\n",
       "      <td>CCCCCCCC</td>\n",
       "      <td>FFFFFFFF</td>\n",
       "    </tr>\n",
       "  </tbody>\n",
       "</table>\n",
       "</div>"
      ],
      "text/plain": [
       "      char1     char2\n",
       "0  AAAAAAAA  EEEEEEEE\n",
       "1  EEEEEEEE  AAAAAAAA\n",
       "2  CCCCCCCC  FFFFFFFF\n",
       "3  AAAAAAAA  GGGGGGGG\n",
       "4  CCCCCCCC  FFFFFFFF"
      ]
     },
     "execution_count": 13,
     "metadata": {},
     "output_type": "execute_result"
    }
   ],
   "source": [
    "char_cols = pd.DataFrame(np.random.choice(text_draw, (n_rows, n_vars)), \n",
    "                         columns=char_col_names)\n",
    "char_cols.head()"
   ]
  },
  {
   "cell_type": "code",
   "execution_count": 14,
   "metadata": {
    "collapsed": false
   },
   "outputs": [
    {
     "data": {
      "text/html": [
       "<div>\n",
       "<table border=\"1\" class=\"dataframe\">\n",
       "  <thead>\n",
       "    <tr style=\"text-align: right;\">\n",
       "      <th></th>\n",
       "      <th>numeric1</th>\n",
       "      <th>numeric2</th>\n",
       "      <th>char1</th>\n",
       "      <th>char2</th>\n",
       "    </tr>\n",
       "  </thead>\n",
       "  <tbody>\n",
       "    <tr>\n",
       "      <th>0</th>\n",
       "      <td>-0.941036</td>\n",
       "      <td>0.655080</td>\n",
       "      <td>AAAAAAAA</td>\n",
       "      <td>EEEEEEEE</td>\n",
       "    </tr>\n",
       "    <tr>\n",
       "      <th>1</th>\n",
       "      <td>1.406243</td>\n",
       "      <td>1.896115</td>\n",
       "      <td>EEEEEEEE</td>\n",
       "      <td>AAAAAAAA</td>\n",
       "    </tr>\n",
       "    <tr>\n",
       "      <th>2</th>\n",
       "      <td>-0.353674</td>\n",
       "      <td>0.490609</td>\n",
       "      <td>CCCCCCCC</td>\n",
       "      <td>FFFFFFFF</td>\n",
       "    </tr>\n",
       "    <tr>\n",
       "      <th>3</th>\n",
       "      <td>0.357437</td>\n",
       "      <td>0.480376</td>\n",
       "      <td>AAAAAAAA</td>\n",
       "      <td>GGGGGGGG</td>\n",
       "    </tr>\n",
       "    <tr>\n",
       "      <th>4</th>\n",
       "      <td>-1.579907</td>\n",
       "      <td>0.907812</td>\n",
       "      <td>CCCCCCCC</td>\n",
       "      <td>FFFFFFFF</td>\n",
       "    </tr>\n",
       "  </tbody>\n",
       "</table>\n",
       "</div>"
      ],
      "text/plain": [
       "   numeric1  numeric2     char1     char2\n",
       "0 -0.941036  0.655080  AAAAAAAA  EEEEEEEE\n",
       "1  1.406243  1.896115  EEEEEEEE  AAAAAAAA\n",
       "2 -0.353674  0.490609  CCCCCCCC  FFFFFFFF\n",
       "3  0.357437  0.480376  AAAAAAAA  GGGGGGGG\n",
       "4 -1.579907  0.907812  CCCCCCCC  FFFFFFFF"
      ]
     },
     "execution_count": 14,
     "metadata": {},
     "output_type": "execute_result"
    }
   ],
   "source": [
    "scratch_df = pd.concat([num_cols, char_cols], axis=1)\n",
    "scratch_df.head()"
   ]
  },
  {
   "cell_type": "code",
   "execution_count": 15,
   "metadata": {
    "collapsed": false
   },
   "outputs": [
    {
     "data": {
      "text/plain": [
       "<matplotlib.axes._subplots.AxesSubplot at 0xc29beb8>"
      ]
     },
     "execution_count": 15,
     "metadata": {},
     "output_type": "execute_result"
    },
    {
     "data": {
      "image/png": "[encoded data removed]",
      "text/plain": [
       "<matplotlib.figure.Figure at 0xc279668>"
      ]
     },
     "metadata": {},
     "output_type": "display_data"
    }
   ],
   "source": [
    "import matplotlib.pyplot as plt\n",
    "%matplotlib inline\n",
    "\n",
    "plt.figure()\n",
    "# slice by index\n",
    "scratch_df.ix[:, 0].plot.hist(title='Histogram of Numeric1')"
   ]
  },
  {
   "cell_type": "code",
   "execution_count": 16,
   "metadata": {
    "collapsed": false
   },
   "outputs": [
    {
     "data": {
      "text/plain": [
       "<matplotlib.axes._subplots.AxesSubplot at 0xc5c2d68>"
      ]
     },
     "execution_count": 16,
     "metadata": {},
     "output_type": "execute_result"
    },
    {
     "data": {
      "text/plain": [
       "<matplotlib.figure.Figure at 0x9c4ad30>"
      ]
     },
     "metadata": {},
     "output_type": "display_data"
    },
    {
     "name": "stderr",
     "output_type": "stream",
     "text": [
      "C:\\Anaconda\\lib\\site-packages\\matplotlib\\collections.py:590: FutureWarning: elementwise comparison failed; returning scalar instead, but in the future will perform elementwise comparison\n",
      "  if self._edgecolors == str('face'):\n"
     ]
    },
    {
     "data": {
      "image/png": "[encoded data removed]",
      "text/plain": [
       "<matplotlib.figure.Figure at 0x9c06b70>"
      ]
     },
     "metadata": {},
     "output_type": "display_data"
    }
   ],
   "source": [
    "plt.figure()\n",
    "scratch_df.plot.scatter(x='numeric1', y='numeric2',\n",
    "                        title='Numeric1 vs. Numeric2')"
   ]
  },
  {
   "cell_type": "markdown",
   "metadata": {},
   "source": [
    "***\n",
    "## Subsetting Pandas dataframes\n",
    "### By columns"
   ]
  },
  {
   "cell_type": "code",
   "execution_count": 17,
   "metadata": {
    "collapsed": false
   },
   "outputs": [
    {
     "data": {
      "text/plain": [
       "0   -0.941036\n",
       "1    1.406243\n",
       "2   -0.353674\n",
       "3    0.357437\n",
       "4   -1.579907\n",
       "Name: numeric1, dtype: float64"
      ]
     },
     "execution_count": 17,
     "metadata": {},
     "output_type": "execute_result"
    }
   ],
   "source": [
    "# locating by index\n",
    "# one column returns a sequence\n",
    "scratch_df.iloc[:, 0].head()"
   ]
  },
  {
   "cell_type": "code",
   "execution_count": 18,
   "metadata": {
    "collapsed": false
   },
   "outputs": [
    {
     "data": {
      "text/plain": [
       "pandas.core.series.Series"
      ]
     },
     "execution_count": 18,
     "metadata": {},
     "output_type": "execute_result"
    }
   ],
   "source": [
    "type(scratch_df.iloc[:, 0])"
   ]
  },
  {
   "cell_type": "code",
   "execution_count": 19,
   "metadata": {
    "collapsed": false
   },
   "outputs": [
    {
     "data": {
      "text/html": [
       "<div>\n",
       "<table border=\"1\" class=\"dataframe\">\n",
       "  <thead>\n",
       "    <tr style=\"text-align: right;\">\n",
       "      <th></th>\n",
       "      <th>numeric1</th>\n",
       "      <th>numeric2</th>\n",
       "    </tr>\n",
       "  </thead>\n",
       "  <tbody>\n",
       "    <tr>\n",
       "      <th>0</th>\n",
       "      <td>-0.941036</td>\n",
       "      <td>0.655080</td>\n",
       "    </tr>\n",
       "    <tr>\n",
       "      <th>1</th>\n",
       "      <td>1.406243</td>\n",
       "      <td>1.896115</td>\n",
       "    </tr>\n",
       "    <tr>\n",
       "      <th>2</th>\n",
       "      <td>-0.353674</td>\n",
       "      <td>0.490609</td>\n",
       "    </tr>\n",
       "    <tr>\n",
       "      <th>3</th>\n",
       "      <td>0.357437</td>\n",
       "      <td>0.480376</td>\n",
       "    </tr>\n",
       "    <tr>\n",
       "      <th>4</th>\n",
       "      <td>-1.579907</td>\n",
       "      <td>0.907812</td>\n",
       "    </tr>\n",
       "  </tbody>\n",
       "</table>\n",
       "</div>"
      ],
      "text/plain": [
       "   numeric1  numeric2\n",
       "0 -0.941036  0.655080\n",
       "1  1.406243  1.896115\n",
       "2 -0.353674  0.490609\n",
       "3  0.357437  0.480376\n",
       "4 -1.579907  0.907812"
      ]
     },
     "execution_count": 19,
     "metadata": {},
     "output_type": "execute_result"
    }
   ],
   "source": [
    "# more than one columns makes a dataframe\n",
    "scratch_df.iloc[:, 0:2].head()"
   ]
  },
  {
   "cell_type": "code",
   "execution_count": 20,
   "metadata": {
    "collapsed": false
   },
   "outputs": [
    {
     "data": {
      "text/plain": [
       "pandas.core.frame.DataFrame"
      ]
     },
     "execution_count": 20,
     "metadata": {},
     "output_type": "execute_result"
    }
   ],
   "source": [
    "type(scratch_df.iloc[:, 0:2])"
   ]
  },
  {
   "cell_type": "code",
   "execution_count": 21,
   "metadata": {
    "collapsed": false
   },
   "outputs": [
    {
     "data": {
      "text/plain": [
       "0   -0.941036\n",
       "1    1.406243\n",
       "2   -0.353674\n",
       "3    0.357437\n",
       "4   -1.579907\n",
       "Name: numeric1, dtype: float64"
      ]
     },
     "execution_count": 21,
     "metadata": {},
     "output_type": "execute_result"
    }
   ],
   "source": [
    "# getting by name\n",
    "scratch_df['numeric1'].head()"
   ]
  },
  {
   "cell_type": "code",
   "execution_count": 22,
   "metadata": {
    "collapsed": false
   },
   "outputs": [
    {
     "data": {
      "text/plain": [
       "0   -0.941036\n",
       "1    1.406243\n",
       "2   -0.353674\n",
       "3    0.357437\n",
       "4   -1.579907\n",
       "Name: numeric1, dtype: float64"
      ]
     },
     "execution_count": 22,
     "metadata": {},
     "output_type": "execute_result"
    }
   ],
   "source": [
    "scratch_df.numeric1.head()"
   ]
  },
  {
   "cell_type": "code",
   "execution_count": 23,
   "metadata": {
    "collapsed": false
   },
   "outputs": [
    {
     "data": {
      "text/plain": [
       "0   -0.941036\n",
       "1    1.406243\n",
       "2   -0.353674\n",
       "3    0.357437\n",
       "4   -1.579907\n",
       "Name: numeric1, dtype: float64"
      ]
     },
     "execution_count": 23,
     "metadata": {},
     "output_type": "execute_result"
    }
   ],
   "source": [
    "# locating by label\n",
    "scratch_df.loc[:, 'numeric1'].head()"
   ]
  },
  {
   "cell_type": "code",
   "execution_count": 24,
   "metadata": {
    "collapsed": false
   },
   "outputs": [
    {
     "data": {
      "text/html": [
       "<div>\n",
       "<table border=\"1\" class=\"dataframe\">\n",
       "  <thead>\n",
       "    <tr style=\"text-align: right;\">\n",
       "      <th></th>\n",
       "      <th>numeric1</th>\n",
       "      <th>numeric2</th>\n",
       "    </tr>\n",
       "  </thead>\n",
       "  <tbody>\n",
       "    <tr>\n",
       "      <th>0</th>\n",
       "      <td>-0.941036</td>\n",
       "      <td>0.655080</td>\n",
       "    </tr>\n",
       "    <tr>\n",
       "      <th>1</th>\n",
       "      <td>1.406243</td>\n",
       "      <td>1.896115</td>\n",
       "    </tr>\n",
       "    <tr>\n",
       "      <th>2</th>\n",
       "      <td>-0.353674</td>\n",
       "      <td>0.490609</td>\n",
       "    </tr>\n",
       "    <tr>\n",
       "      <th>3</th>\n",
       "      <td>0.357437</td>\n",
       "      <td>0.480376</td>\n",
       "    </tr>\n",
       "    <tr>\n",
       "      <th>4</th>\n",
       "      <td>-1.579907</td>\n",
       "      <td>0.907812</td>\n",
       "    </tr>\n",
       "  </tbody>\n",
       "</table>\n",
       "</div>"
      ],
      "text/plain": [
       "   numeric1  numeric2\n",
       "0 -0.941036  0.655080\n",
       "1  1.406243  1.896115\n",
       "2 -0.353674  0.490609\n",
       "3  0.357437  0.480376\n",
       "4 -1.579907  0.907812"
      ]
     },
     "execution_count": 24,
     "metadata": {},
     "output_type": "execute_result"
    }
   ],
   "source": [
    "scratch_df.loc[:, ['numeric1', 'numeric2']].head()"
   ]
  },
  {
   "cell_type": "markdown",
   "metadata": {},
   "source": [
    "### By rows"
   ]
  },
  {
   "cell_type": "code",
   "execution_count": 25,
   "metadata": {
    "collapsed": false
   },
   "outputs": [
    {
     "data": {
      "text/html": [
       "<div>\n",
       "<table border=\"1\" class=\"dataframe\">\n",
       "  <thead>\n",
       "    <tr style=\"text-align: right;\">\n",
       "      <th></th>\n",
       "      <th>numeric1</th>\n",
       "      <th>numeric2</th>\n",
       "      <th>char1</th>\n",
       "      <th>char2</th>\n",
       "    </tr>\n",
       "  </thead>\n",
       "  <tbody>\n",
       "    <tr>\n",
       "      <th>0</th>\n",
       "      <td>-0.941036</td>\n",
       "      <td>0.655080</td>\n",
       "      <td>AAAAAAAA</td>\n",
       "      <td>EEEEEEEE</td>\n",
       "    </tr>\n",
       "    <tr>\n",
       "      <th>1</th>\n",
       "      <td>1.406243</td>\n",
       "      <td>1.896115</td>\n",
       "      <td>EEEEEEEE</td>\n",
       "      <td>AAAAAAAA</td>\n",
       "    </tr>\n",
       "    <tr>\n",
       "      <th>2</th>\n",
       "      <td>-0.353674</td>\n",
       "      <td>0.490609</td>\n",
       "      <td>CCCCCCCC</td>\n",
       "      <td>FFFFFFFF</td>\n",
       "    </tr>\n",
       "  </tbody>\n",
       "</table>\n",
       "</div>"
      ],
      "text/plain": [
       "   numeric1  numeric2     char1     char2\n",
       "0 -0.941036  0.655080  AAAAAAAA  EEEEEEEE\n",
       "1  1.406243  1.896115  EEEEEEEE  AAAAAAAA\n",
       "2 -0.353674  0.490609  CCCCCCCC  FFFFFFFF"
      ]
     },
     "execution_count": 25,
     "metadata": {},
     "output_type": "execute_result"
    }
   ],
   "source": [
    "# Getting rows\n",
    "scratch_df[0:3]"
   ]
  },
  {
   "cell_type": "code",
   "execution_count": 26,
   "metadata": {
    "collapsed": false
   },
   "outputs": [
    {
     "data": {
      "text/html": [
       "<div>\n",
       "<table border=\"1\" class=\"dataframe\">\n",
       "  <thead>\n",
       "    <tr style=\"text-align: right;\">\n",
       "      <th></th>\n",
       "      <th>numeric1</th>\n",
       "      <th>numeric2</th>\n",
       "      <th>char1</th>\n",
       "      <th>char2</th>\n",
       "    </tr>\n",
       "  </thead>\n",
       "  <tbody>\n",
       "    <tr>\n",
       "      <th>0</th>\n",
       "      <td>-0.941036</td>\n",
       "      <td>0.655080</td>\n",
       "      <td>AAAAAAAA</td>\n",
       "      <td>EEEEEEEE</td>\n",
       "    </tr>\n",
       "    <tr>\n",
       "      <th>1</th>\n",
       "      <td>1.406243</td>\n",
       "      <td>1.896115</td>\n",
       "      <td>EEEEEEEE</td>\n",
       "      <td>AAAAAAAA</td>\n",
       "    </tr>\n",
       "    <tr>\n",
       "      <th>2</th>\n",
       "      <td>-0.353674</td>\n",
       "      <td>0.490609</td>\n",
       "      <td>CCCCCCCC</td>\n",
       "      <td>FFFFFFFF</td>\n",
       "    </tr>\n",
       "    <tr>\n",
       "      <th>3</th>\n",
       "      <td>0.357437</td>\n",
       "      <td>0.480376</td>\n",
       "      <td>AAAAAAAA</td>\n",
       "      <td>GGGGGGGG</td>\n",
       "    </tr>\n",
       "    <tr>\n",
       "      <th>4</th>\n",
       "      <td>-1.579907</td>\n",
       "      <td>0.907812</td>\n",
       "      <td>CCCCCCCC</td>\n",
       "      <td>FFFFFFFF</td>\n",
       "    </tr>\n",
       "  </tbody>\n",
       "</table>\n",
       "</div>"
      ],
      "text/plain": [
       "   numeric1  numeric2     char1     char2\n",
       "0 -0.941036  0.655080  AAAAAAAA  EEEEEEEE\n",
       "1  1.406243  1.896115  EEEEEEEE  AAAAAAAA\n",
       "2 -0.353674  0.490609  CCCCCCCC  FFFFFFFF\n",
       "3  0.357437  0.480376  AAAAAAAA  GGGGGGGG\n",
       "4 -1.579907  0.907812  CCCCCCCC  FFFFFFFF"
      ]
     },
     "execution_count": 26,
     "metadata": {},
     "output_type": "execute_result"
    }
   ],
   "source": [
    "# Selecting by index or location\n",
    "scratch_df.iloc[0:5, :]"
   ]
  },
  {
   "cell_type": "code",
   "execution_count": 27,
   "metadata": {
    "collapsed": false
   },
   "outputs": [
    {
     "data": {
      "text/html": [
       "<div>\n",
       "<table border=\"1\" class=\"dataframe\">\n",
       "  <thead>\n",
       "    <tr style=\"text-align: right;\">\n",
       "      <th></th>\n",
       "      <th>numeric1</th>\n",
       "      <th>numeric2</th>\n",
       "      <th>char1</th>\n",
       "      <th>char2</th>\n",
       "    </tr>\n",
       "  </thead>\n",
       "  <tbody>\n",
       "    <tr>\n",
       "      <th>0</th>\n",
       "      <td>-0.941036</td>\n",
       "      <td>0.655080</td>\n",
       "      <td>AAAAAAAA</td>\n",
       "      <td>EEEEEEEE</td>\n",
       "    </tr>\n",
       "    <tr>\n",
       "      <th>1</th>\n",
       "      <td>1.406243</td>\n",
       "      <td>1.896115</td>\n",
       "      <td>EEEEEEEE</td>\n",
       "      <td>AAAAAAAA</td>\n",
       "    </tr>\n",
       "    <tr>\n",
       "      <th>2</th>\n",
       "      <td>-0.353674</td>\n",
       "      <td>0.490609</td>\n",
       "      <td>CCCCCCCC</td>\n",
       "      <td>FFFFFFFF</td>\n",
       "    </tr>\n",
       "    <tr>\n",
       "      <th>3</th>\n",
       "      <td>0.357437</td>\n",
       "      <td>0.480376</td>\n",
       "      <td>AAAAAAAA</td>\n",
       "      <td>GGGGGGGG</td>\n",
       "    </tr>\n",
       "    <tr>\n",
       "      <th>4</th>\n",
       "      <td>-1.579907</td>\n",
       "      <td>0.907812</td>\n",
       "      <td>CCCCCCCC</td>\n",
       "      <td>FFFFFFFF</td>\n",
       "    </tr>\n",
       "    <tr>\n",
       "      <th>5</th>\n",
       "      <td>-0.345244</td>\n",
       "      <td>1.244428</td>\n",
       "      <td>GGGGGGGG</td>\n",
       "      <td>EEEEEEEE</td>\n",
       "    </tr>\n",
       "  </tbody>\n",
       "</table>\n",
       "</div>"
      ],
      "text/plain": [
       "   numeric1  numeric2     char1     char2\n",
       "0 -0.941036  0.655080  AAAAAAAA  EEEEEEEE\n",
       "1  1.406243  1.896115  EEEEEEEE  AAAAAAAA\n",
       "2 -0.353674  0.490609  CCCCCCCC  FFFFFFFF\n",
       "3  0.357437  0.480376  AAAAAAAA  GGGGGGGG\n",
       "4 -1.579907  0.907812  CCCCCCCC  FFFFFFFF\n",
       "5 -0.345244  1.244428  GGGGGGGG  EEEEEEEE"
      ]
     },
     "execution_count": 27,
     "metadata": {},
     "output_type": "execute_result"
    }
   ],
   "source": [
    "scratch_df.loc[0:5, :]"
   ]
  },
  {
   "cell_type": "code",
   "execution_count": 28,
   "metadata": {
    "collapsed": false
   },
   "outputs": [
    {
     "data": {
      "text/html": [
       "<div>\n",
       "<table border=\"1\" class=\"dataframe\">\n",
       "  <thead>\n",
       "    <tr style=\"text-align: right;\">\n",
       "      <th></th>\n",
       "      <th>numeric1</th>\n",
       "      <th>numeric2</th>\n",
       "      <th>char1</th>\n",
       "      <th>char2</th>\n",
       "    </tr>\n",
       "  </thead>\n",
       "  <tbody>\n",
       "    <tr>\n",
       "      <th>0</th>\n",
       "      <td>-0.941036</td>\n",
       "      <td>0.655080</td>\n",
       "      <td>AAAAAAAA</td>\n",
       "      <td>EEEEEEEE</td>\n",
       "    </tr>\n",
       "    <tr>\n",
       "      <th>1</th>\n",
       "      <td>1.406243</td>\n",
       "      <td>1.896115</td>\n",
       "      <td>EEEEEEEE</td>\n",
       "      <td>AAAAAAAA</td>\n",
       "    </tr>\n",
       "    <tr>\n",
       "      <th>2</th>\n",
       "      <td>-0.353674</td>\n",
       "      <td>0.490609</td>\n",
       "      <td>CCCCCCCC</td>\n",
       "      <td>FFFFFFFF</td>\n",
       "    </tr>\n",
       "    <tr>\n",
       "      <th>3</th>\n",
       "      <td>0.357437</td>\n",
       "      <td>0.480376</td>\n",
       "      <td>AAAAAAAA</td>\n",
       "      <td>GGGGGGGG</td>\n",
       "    </tr>\n",
       "    <tr>\n",
       "      <th>4</th>\n",
       "      <td>-1.579907</td>\n",
       "      <td>0.907812</td>\n",
       "      <td>CCCCCCCC</td>\n",
       "      <td>FFFFFFFF</td>\n",
       "    </tr>\n",
       "  </tbody>\n",
       "</table>\n",
       "</div>"
      ],
      "text/plain": [
       "   numeric1  numeric2     char1     char2\n",
       "0 -0.941036  0.655080  AAAAAAAA  EEEEEEEE\n",
       "1  1.406243  1.896115  EEEEEEEE  AAAAAAAA\n",
       "2 -0.353674  0.490609  CCCCCCCC  FFFFFFFF\n",
       "3  0.357437  0.480376  AAAAAAAA  GGGGGGGG\n",
       "4 -1.579907  0.907812  CCCCCCCC  FFFFFFFF"
      ]
     },
     "execution_count": 28,
     "metadata": {},
     "output_type": "execute_result"
    }
   ],
   "source": [
    "# Boolean subsetting\n",
    "scratch_df[scratch_df.numeric2 > 0].head()"
   ]
  },
  {
   "cell_type": "code",
   "execution_count": 29,
   "metadata": {
    "collapsed": false
   },
   "outputs": [
    {
     "data": {
      "text/html": [
       "<div>\n",
       "<table border=\"1\" class=\"dataframe\">\n",
       "  <thead>\n",
       "    <tr style=\"text-align: right;\">\n",
       "      <th></th>\n",
       "      <th>numeric1</th>\n",
       "      <th>numeric2</th>\n",
       "      <th>char1</th>\n",
       "      <th>char2</th>\n",
       "    </tr>\n",
       "  </thead>\n",
       "  <tbody>\n",
       "    <tr>\n",
       "      <th>0</th>\n",
       "      <td>-0.941036</td>\n",
       "      <td>0.655080</td>\n",
       "      <td>AAAAAAAA</td>\n",
       "      <td>EEEEEEEE</td>\n",
       "    </tr>\n",
       "    <tr>\n",
       "      <th>3</th>\n",
       "      <td>0.357437</td>\n",
       "      <td>0.480376</td>\n",
       "      <td>AAAAAAAA</td>\n",
       "      <td>GGGGGGGG</td>\n",
       "    </tr>\n",
       "    <tr>\n",
       "      <th>22</th>\n",
       "      <td>1.582439</td>\n",
       "      <td>0.557680</td>\n",
       "      <td>AAAAAAAA</td>\n",
       "      <td>CCCCCCCC</td>\n",
       "    </tr>\n",
       "    <tr>\n",
       "      <th>25</th>\n",
       "      <td>1.140907</td>\n",
       "      <td>-1.058162</td>\n",
       "      <td>AAAAAAAA</td>\n",
       "      <td>EEEEEEEE</td>\n",
       "    </tr>\n",
       "    <tr>\n",
       "      <th>27</th>\n",
       "      <td>0.212491</td>\n",
       "      <td>-0.358633</td>\n",
       "      <td>AAAAAAAA</td>\n",
       "      <td>BBBBBBBB</td>\n",
       "    </tr>\n",
       "  </tbody>\n",
       "</table>\n",
       "</div>"
      ],
      "text/plain": [
       "    numeric1  numeric2     char1     char2\n",
       "0  -0.941036  0.655080  AAAAAAAA  EEEEEEEE\n",
       "3   0.357437  0.480376  AAAAAAAA  GGGGGGGG\n",
       "22  1.582439  0.557680  AAAAAAAA  CCCCCCCC\n",
       "25  1.140907 -1.058162  AAAAAAAA  EEEEEEEE\n",
       "27  0.212491 -0.358633  AAAAAAAA  BBBBBBBB"
      ]
     },
     "execution_count": 29,
     "metadata": {},
     "output_type": "execute_result"
    }
   ],
   "source": [
    "scratch_df[scratch_df.char1 == 'AAAAAAAA'].head()"
   ]
  },
  {
   "cell_type": "code",
   "execution_count": 30,
   "metadata": {
    "collapsed": false
   },
   "outputs": [
    {
     "data": {
      "text/html": [
       "<div>\n",
       "<table border=\"1\" class=\"dataframe\">\n",
       "  <thead>\n",
       "    <tr style=\"text-align: right;\">\n",
       "      <th></th>\n",
       "      <th>numeric1</th>\n",
       "      <th>numeric2</th>\n",
       "      <th>char1</th>\n",
       "      <th>char2</th>\n",
       "    </tr>\n",
       "  </thead>\n",
       "  <tbody>\n",
       "    <tr>\n",
       "      <th>0</th>\n",
       "      <td>-0.941036</td>\n",
       "      <td>0.655080</td>\n",
       "      <td>AAAAAAAA</td>\n",
       "      <td>EEEEEEEE</td>\n",
       "    </tr>\n",
       "    <tr>\n",
       "      <th>3</th>\n",
       "      <td>0.357437</td>\n",
       "      <td>0.480376</td>\n",
       "      <td>AAAAAAAA</td>\n",
       "      <td>GGGGGGGG</td>\n",
       "    </tr>\n",
       "    <tr>\n",
       "      <th>15</th>\n",
       "      <td>0.783068</td>\n",
       "      <td>-0.617605</td>\n",
       "      <td>BBBBBBBB</td>\n",
       "      <td>FFFFFFFF</td>\n",
       "    </tr>\n",
       "    <tr>\n",
       "      <th>17</th>\n",
       "      <td>-1.381647</td>\n",
       "      <td>-0.095760</td>\n",
       "      <td>BBBBBBBB</td>\n",
       "      <td>GGGGGGGG</td>\n",
       "    </tr>\n",
       "    <tr>\n",
       "      <th>18</th>\n",
       "      <td>-0.429108</td>\n",
       "      <td>0.408519</td>\n",
       "      <td>BBBBBBBB</td>\n",
       "      <td>CCCCCCCC</td>\n",
       "    </tr>\n",
       "  </tbody>\n",
       "</table>\n",
       "</div>"
      ],
      "text/plain": [
       "    numeric1  numeric2     char1     char2\n",
       "0  -0.941036  0.655080  AAAAAAAA  EEEEEEEE\n",
       "3   0.357437  0.480376  AAAAAAAA  GGGGGGGG\n",
       "15  0.783068 -0.617605  BBBBBBBB  FFFFFFFF\n",
       "17 -1.381647 -0.095760  BBBBBBBB  GGGGGGGG\n",
       "18 -0.429108  0.408519  BBBBBBBB  CCCCCCCC"
      ]
     },
     "execution_count": 30,
     "metadata": {},
     "output_type": "execute_result"
    }
   ],
   "source": [
    "scratch_df[scratch_df.char1.isin(['AAAAAAAA', 'BBBBBBBB'])].head()"
   ]
  },
  {
   "cell_type": "code",
   "execution_count": 31,
   "metadata": {
    "collapsed": false
   },
   "outputs": [
    {
     "data": {
      "text/plain": [
       "5     EEEEEEEE\n",
       "10    GGGGGGGG\n",
       "Name: char2, dtype: object"
      ]
     },
     "execution_count": 31,
     "metadata": {},
     "output_type": "execute_result"
    }
   ],
   "source": [
    "scratch_df[scratch_df.numeric2 > 0].loc[5:10, 'char2']"
   ]
  },
  {
   "cell_type": "markdown",
   "metadata": {},
   "source": [
    "## Updating the dataframe"
   ]
  },
  {
   "cell_type": "code",
   "execution_count": 32,
   "metadata": {
    "collapsed": false
   },
   "outputs": [
    {
     "data": {
      "text/html": [
       "<div>\n",
       "<table border=\"1\" class=\"dataframe\">\n",
       "  <thead>\n",
       "    <tr style=\"text-align: right;\">\n",
       "      <th></th>\n",
       "      <th>numeric1</th>\n",
       "      <th>numeric2</th>\n",
       "      <th>char1</th>\n",
       "      <th>char2</th>\n",
       "    </tr>\n",
       "  </thead>\n",
       "  <tbody>\n",
       "    <tr>\n",
       "      <th>995</th>\n",
       "      <td>-1.257504</td>\n",
       "      <td>0.248883</td>\n",
       "      <td>ZZZZZZZZ</td>\n",
       "      <td>EEEEEEEE</td>\n",
       "    </tr>\n",
       "    <tr>\n",
       "      <th>996</th>\n",
       "      <td>0.742574</td>\n",
       "      <td>-1.107184</td>\n",
       "      <td>ZZZZZZZZ</td>\n",
       "      <td>CCCCCCCC</td>\n",
       "    </tr>\n",
       "    <tr>\n",
       "      <th>997</th>\n",
       "      <td>-0.951870</td>\n",
       "      <td>0.976669</td>\n",
       "      <td>ZZZZZZZZ</td>\n",
       "      <td>BBBBBBBB</td>\n",
       "    </tr>\n",
       "    <tr>\n",
       "      <th>998</th>\n",
       "      <td>-0.194857</td>\n",
       "      <td>-0.934801</td>\n",
       "      <td>ZZZZZZZZ</td>\n",
       "      <td>DDDDDDDD</td>\n",
       "    </tr>\n",
       "    <tr>\n",
       "      <th>999</th>\n",
       "      <td>-0.137090</td>\n",
       "      <td>-0.085341</td>\n",
       "      <td>ZZZZZZZZ</td>\n",
       "      <td>EEEEEEEE</td>\n",
       "    </tr>\n",
       "  </tbody>\n",
       "</table>\n",
       "</div>"
      ],
      "text/plain": [
       "     numeric1  numeric2     char1     char2\n",
       "995 -1.257504  0.248883  ZZZZZZZZ  EEEEEEEE\n",
       "996  0.742574 -1.107184  ZZZZZZZZ  CCCCCCCC\n",
       "997 -0.951870  0.976669  ZZZZZZZZ  BBBBBBBB\n",
       "998 -0.194857 -0.934801  ZZZZZZZZ  DDDDDDDD\n",
       "999 -0.137090 -0.085341  ZZZZZZZZ  EEEEEEEE"
      ]
     },
     "execution_count": 32,
     "metadata": {},
     "output_type": "execute_result"
    }
   ],
   "source": [
    "# must use .copy or this will be a symbolic link\n",
    "scratch_df2 = scratch_df.copy()\n",
    "scratch_df2.loc[500:, 'char1'] = 'ZZZZZZZZ'\n",
    "scratch_df2.tail()"
   ]
  },
  {
   "cell_type": "code",
   "execution_count": 33,
   "metadata": {
    "collapsed": false
   },
   "outputs": [
    {
     "data": {
      "text/html": [
       "<div>\n",
       "<table border=\"1\" class=\"dataframe\">\n",
       "  <thead>\n",
       "    <tr style=\"text-align: right;\">\n",
       "      <th></th>\n",
       "      <th>numeric1</th>\n",
       "      <th>numeric2</th>\n",
       "      <th>char1</th>\n",
       "      <th>char2</th>\n",
       "    </tr>\n",
       "  </thead>\n",
       "  <tbody>\n",
       "    <tr>\n",
       "      <th>0</th>\n",
       "      <td>1000.000000</td>\n",
       "      <td>0.655080</td>\n",
       "      <td>AAAAAAAA</td>\n",
       "      <td>EEEEEEEE</td>\n",
       "    </tr>\n",
       "    <tr>\n",
       "      <th>1</th>\n",
       "      <td>1.406243</td>\n",
       "      <td>1.896115</td>\n",
       "      <td>EEEEEEEE</td>\n",
       "      <td>AAAAAAAA</td>\n",
       "    </tr>\n",
       "    <tr>\n",
       "      <th>2</th>\n",
       "      <td>-0.353674</td>\n",
       "      <td>0.490609</td>\n",
       "      <td>CCCCCCCC</td>\n",
       "      <td>FFFFFFFF</td>\n",
       "    </tr>\n",
       "    <tr>\n",
       "      <th>3</th>\n",
       "      <td>0.357437</td>\n",
       "      <td>0.480376</td>\n",
       "      <td>AAAAAAAA</td>\n",
       "      <td>GGGGGGGG</td>\n",
       "    </tr>\n",
       "    <tr>\n",
       "      <th>4</th>\n",
       "      <td>-1.579907</td>\n",
       "      <td>0.907812</td>\n",
       "      <td>CCCCCCCC</td>\n",
       "      <td>FFFFFFFF</td>\n",
       "    </tr>\n",
       "  </tbody>\n",
       "</table>\n",
       "</div>"
      ],
      "text/plain": [
       "      numeric1  numeric2     char1     char2\n",
       "0  1000.000000  0.655080  AAAAAAAA  EEEEEEEE\n",
       "1     1.406243  1.896115  EEEEEEEE  AAAAAAAA\n",
       "2    -0.353674  0.490609  CCCCCCCC  FFFFFFFF\n",
       "3     0.357437  0.480376  AAAAAAAA  GGGGGGGG\n",
       "4    -1.579907  0.907812  CCCCCCCC  FFFFFFFF"
      ]
     },
     "execution_count": 33,
     "metadata": {},
     "output_type": "execute_result"
    }
   ],
   "source": [
    "scratch_df2.iat[0, 0] = 1000\n",
    "scratch_df2.head()"
   ]
  },
  {
   "cell_type": "markdown",
   "metadata": {},
   "source": [
    "## Sorting the dataframe"
   ]
  },
  {
   "cell_type": "code",
   "execution_count": 34,
   "metadata": {
    "collapsed": false
   },
   "outputs": [
    {
     "data": {
      "text/html": [
       "<div>\n",
       "<table border=\"1\" class=\"dataframe\">\n",
       "  <thead>\n",
       "    <tr style=\"text-align: right;\">\n",
       "      <th></th>\n",
       "      <th>numeric1</th>\n",
       "      <th>numeric2</th>\n",
       "      <th>char1</th>\n",
       "      <th>char2</th>\n",
       "    </tr>\n",
       "  </thead>\n",
       "  <tbody>\n",
       "    <tr>\n",
       "      <th>0</th>\n",
       "      <td>1000.000000</td>\n",
       "      <td>0.655080</td>\n",
       "      <td>AAAAAAAA</td>\n",
       "      <td>EEEEEEEE</td>\n",
       "    </tr>\n",
       "    <tr>\n",
       "      <th>431</th>\n",
       "      <td>-0.601689</td>\n",
       "      <td>-0.009165</td>\n",
       "      <td>AAAAAAAA</td>\n",
       "      <td>AAAAAAAA</td>\n",
       "    </tr>\n",
       "    <tr>\n",
       "      <th>477</th>\n",
       "      <td>0.104109</td>\n",
       "      <td>-0.556033</td>\n",
       "      <td>AAAAAAAA</td>\n",
       "      <td>EEEEEEEE</td>\n",
       "    </tr>\n",
       "    <tr>\n",
       "      <th>78</th>\n",
       "      <td>2.036526</td>\n",
       "      <td>-0.430645</td>\n",
       "      <td>AAAAAAAA</td>\n",
       "      <td>GGGGGGGG</td>\n",
       "    </tr>\n",
       "    <tr>\n",
       "      <th>233</th>\n",
       "      <td>-0.282834</td>\n",
       "      <td>0.335629</td>\n",
       "      <td>AAAAAAAA</td>\n",
       "      <td>BBBBBBBB</td>\n",
       "    </tr>\n",
       "  </tbody>\n",
       "</table>\n",
       "</div>"
      ],
      "text/plain": [
       "        numeric1  numeric2     char1     char2\n",
       "0    1000.000000  0.655080  AAAAAAAA  EEEEEEEE\n",
       "431    -0.601689 -0.009165  AAAAAAAA  AAAAAAAA\n",
       "477     0.104109 -0.556033  AAAAAAAA  EEEEEEEE\n",
       "78      2.036526 -0.430645  AAAAAAAA  GGGGGGGG\n",
       "233    -0.282834  0.335629  AAAAAAAA  BBBBBBBB"
      ]
     },
     "execution_count": 34,
     "metadata": {},
     "output_type": "execute_result"
    }
   ],
   "source": [
    "scratch_df2.sort_values(by='char1').head()"
   ]
  },
  {
   "cell_type": "code",
   "execution_count": 35,
   "metadata": {
    "collapsed": false
   },
   "outputs": [
    {
     "data": {
      "text/html": [
       "<div>\n",
       "<table border=\"1\" class=\"dataframe\">\n",
       "  <thead>\n",
       "    <tr style=\"text-align: right;\">\n",
       "      <th></th>\n",
       "      <th>numeric1</th>\n",
       "      <th>numeric2</th>\n",
       "      <th>char1</th>\n",
       "      <th>char2</th>\n",
       "    </tr>\n",
       "  </thead>\n",
       "  <tbody>\n",
       "    <tr>\n",
       "      <th>956</th>\n",
       "      <td>-3.334630</td>\n",
       "      <td>-0.810400</td>\n",
       "      <td>ZZZZZZZZ</td>\n",
       "      <td>AAAAAAAA</td>\n",
       "    </tr>\n",
       "    <tr>\n",
       "      <th>988</th>\n",
       "      <td>-3.050137</td>\n",
       "      <td>0.985998</td>\n",
       "      <td>ZZZZZZZZ</td>\n",
       "      <td>GGGGGGGG</td>\n",
       "    </tr>\n",
       "    <tr>\n",
       "      <th>984</th>\n",
       "      <td>-2.796305</td>\n",
       "      <td>-0.317625</td>\n",
       "      <td>ZZZZZZZZ</td>\n",
       "      <td>EEEEEEEE</td>\n",
       "    </tr>\n",
       "    <tr>\n",
       "      <th>856</th>\n",
       "      <td>-2.742588</td>\n",
       "      <td>1.411098</td>\n",
       "      <td>ZZZZZZZZ</td>\n",
       "      <td>BBBBBBBB</td>\n",
       "    </tr>\n",
       "    <tr>\n",
       "      <th>737</th>\n",
       "      <td>-2.711064</td>\n",
       "      <td>-1.081197</td>\n",
       "      <td>ZZZZZZZZ</td>\n",
       "      <td>GGGGGGGG</td>\n",
       "    </tr>\n",
       "  </tbody>\n",
       "</table>\n",
       "</div>"
      ],
      "text/plain": [
       "     numeric1  numeric2     char1     char2\n",
       "956 -3.334630 -0.810400  ZZZZZZZZ  AAAAAAAA\n",
       "988 -3.050137  0.985998  ZZZZZZZZ  GGGGGGGG\n",
       "984 -2.796305 -0.317625  ZZZZZZZZ  EEEEEEEE\n",
       "856 -2.742588  1.411098  ZZZZZZZZ  BBBBBBBB\n",
       "737 -2.711064 -1.081197  ZZZZZZZZ  GGGGGGGG"
      ]
     },
     "execution_count": 35,
     "metadata": {},
     "output_type": "execute_result"
    }
   ],
   "source": [
    "scratch_df3 = scratch_df2.sort_values(by=['char1', 'numeric1'],\n",
    "                            ascending=[False, True]).copy()\n",
    "scratch_df3.head()"
   ]
  },
  {
   "cell_type": "code",
   "execution_count": 46,
   "metadata": {
    "collapsed": false
   },
   "outputs": [
    {
     "data": {
      "text/html": [
       "<div>\n",
       "<table border=\"1\" class=\"dataframe\">\n",
       "  <thead>\n",
       "    <tr style=\"text-align: right;\">\n",
       "      <th></th>\n",
       "      <th>numeric1</th>\n",
       "      <th>numeric2</th>\n",
       "      <th>char1</th>\n",
       "      <th>char2</th>\n",
       "    </tr>\n",
       "  </thead>\n",
       "  <tbody>\n",
       "    <tr>\n",
       "      <th>0</th>\n",
       "      <td>1000.000000</td>\n",
       "      <td>-1.586930</td>\n",
       "      <td>GGGGGGGG</td>\n",
       "      <td>DDDDDDDD</td>\n",
       "    </tr>\n",
       "    <tr>\n",
       "      <th>1</th>\n",
       "      <td>0.751625</td>\n",
       "      <td>-1.489012</td>\n",
       "      <td>DDDDDDDD</td>\n",
       "      <td>FFFFFFFF</td>\n",
       "    </tr>\n",
       "    <tr>\n",
       "      <th>2</th>\n",
       "      <td>-1.190265</td>\n",
       "      <td>-1.896591</td>\n",
       "      <td>DDDDDDDD</td>\n",
       "      <td>EEEEEEEE</td>\n",
       "    </tr>\n",
       "    <tr>\n",
       "      <th>3</th>\n",
       "      <td>-0.332392</td>\n",
       "      <td>0.584192</td>\n",
       "      <td>CCCCCCCC</td>\n",
       "      <td>EEEEEEEE</td>\n",
       "    </tr>\n",
       "    <tr>\n",
       "      <th>4</th>\n",
       "      <td>-0.482733</td>\n",
       "      <td>0.422166</td>\n",
       "      <td>DDDDDDDD</td>\n",
       "      <td>GGGGGGGG</td>\n",
       "    </tr>\n",
       "  </tbody>\n",
       "</table>\n",
       "</div>"
      ],
      "text/plain": [
       "      numeric1  numeric2     char1     char2\n",
       "0  1000.000000 -1.586930  GGGGGGGG  DDDDDDDD\n",
       "1     0.751625 -1.489012  DDDDDDDD  FFFFFFFF\n",
       "2    -1.190265 -1.896591  DDDDDDDD  EEEEEEEE\n",
       "3    -0.332392  0.584192  CCCCCCCC  EEEEEEEE\n",
       "4    -0.482733  0.422166  DDDDDDDD  GGGGGGGG"
      ]
     },
     "execution_count": 46,
     "metadata": {},
     "output_type": "execute_result"
    }
   ],
   "source": [
    "scratch_df2.sort_index().head()"
   ]
  },
  {
   "cell_type": "markdown",
   "metadata": {},
   "source": [
    "## Adding data to the dataframe"
   ]
  },
  {
   "cell_type": "code",
   "execution_count": 36,
   "metadata": {
    "collapsed": false
   },
   "outputs": [
    {
     "data": {
      "text/html": [
       "<div>\n",
       "<table border=\"1\" class=\"dataframe\">\n",
       "  <thead>\n",
       "    <tr style=\"text-align: right;\">\n",
       "      <th></th>\n",
       "      <th>char3</th>\n",
       "      <th>char4</th>\n",
       "    </tr>\n",
       "  </thead>\n",
       "  <tbody>\n",
       "    <tr>\n",
       "      <th>78</th>\n",
       "      <td>AAAAAAAA</td>\n",
       "      <td>GGGGGGGG</td>\n",
       "    </tr>\n",
       "    <tr>\n",
       "      <th>176</th>\n",
       "      <td>AAAAAAAA</td>\n",
       "      <td>BBBBBBBB</td>\n",
       "    </tr>\n",
       "    <tr>\n",
       "      <th>250</th>\n",
       "      <td>AAAAAAAA</td>\n",
       "      <td>GGGGGGGG</td>\n",
       "    </tr>\n",
       "    <tr>\n",
       "      <th>306</th>\n",
       "      <td>AAAAAAAA</td>\n",
       "      <td>CCCCCCCC</td>\n",
       "    </tr>\n",
       "    <tr>\n",
       "      <th>0</th>\n",
       "      <td>AAAAAAAA</td>\n",
       "      <td>EEEEEEEE</td>\n",
       "    </tr>\n",
       "  </tbody>\n",
       "</table>\n",
       "</div>"
      ],
      "text/plain": [
       "        char3     char4\n",
       "78   AAAAAAAA  GGGGGGGG\n",
       "176  AAAAAAAA  BBBBBBBB\n",
       "250  AAAAAAAA  GGGGGGGG\n",
       "306  AAAAAAAA  CCCCCCCC\n",
       "0    AAAAAAAA  EEEEEEEE"
      ]
     },
     "execution_count": 36,
     "metadata": {},
     "output_type": "execute_result"
    }
   ],
   "source": [
    "# concat\n",
    "scratch_df3 = scratch_df3.drop(['numeric1', 'numeric2'] , axis=1)\n",
    "scratch_df3.columns = ['char3', 'char4']\n",
    "scratch_df3.tail()"
   ]
  },
  {
   "cell_type": "code",
   "execution_count": 39,
   "metadata": {
    "collapsed": false
   },
   "outputs": [
    {
     "data": {
      "text/html": [
       "<div>\n",
       "<table border=\"1\" class=\"dataframe\">\n",
       "  <thead>\n",
       "    <tr style=\"text-align: right;\">\n",
       "      <th></th>\n",
       "      <th>char1</th>\n",
       "      <th>char2</th>\n",
       "      <th>char3</th>\n",
       "      <th>char4</th>\n",
       "      <th>numeric1</th>\n",
       "      <th>numeric2</th>\n",
       "    </tr>\n",
       "  </thead>\n",
       "  <tbody>\n",
       "    <tr>\n",
       "      <th>0</th>\n",
       "      <td>AAAAAAAA</td>\n",
       "      <td>EEEEEEEE</td>\n",
       "      <td>NaN</td>\n",
       "      <td>NaN</td>\n",
       "      <td>-0.941036</td>\n",
       "      <td>0.655080</td>\n",
       "    </tr>\n",
       "    <tr>\n",
       "      <th>1</th>\n",
       "      <td>EEEEEEEE</td>\n",
       "      <td>AAAAAAAA</td>\n",
       "      <td>NaN</td>\n",
       "      <td>NaN</td>\n",
       "      <td>1.406243</td>\n",
       "      <td>1.896115</td>\n",
       "    </tr>\n",
       "    <tr>\n",
       "      <th>2</th>\n",
       "      <td>CCCCCCCC</td>\n",
       "      <td>FFFFFFFF</td>\n",
       "      <td>NaN</td>\n",
       "      <td>NaN</td>\n",
       "      <td>-0.353674</td>\n",
       "      <td>0.490609</td>\n",
       "    </tr>\n",
       "    <tr>\n",
       "      <th>3</th>\n",
       "      <td>AAAAAAAA</td>\n",
       "      <td>GGGGGGGG</td>\n",
       "      <td>NaN</td>\n",
       "      <td>NaN</td>\n",
       "      <td>0.357437</td>\n",
       "      <td>0.480376</td>\n",
       "    </tr>\n",
       "    <tr>\n",
       "      <th>4</th>\n",
       "      <td>CCCCCCCC</td>\n",
       "      <td>FFFFFFFF</td>\n",
       "      <td>NaN</td>\n",
       "      <td>NaN</td>\n",
       "      <td>-1.579907</td>\n",
       "      <td>0.907812</td>\n",
       "    </tr>\n",
       "    <tr>\n",
       "      <th>5</th>\n",
       "      <td>GGGGGGGG</td>\n",
       "      <td>EEEEEEEE</td>\n",
       "      <td>NaN</td>\n",
       "      <td>NaN</td>\n",
       "      <td>-0.345244</td>\n",
       "      <td>1.244428</td>\n",
       "    </tr>\n",
       "    <tr>\n",
       "      <th>6</th>\n",
       "      <td>DDDDDDDD</td>\n",
       "      <td>GGGGGGGG</td>\n",
       "      <td>NaN</td>\n",
       "      <td>NaN</td>\n",
       "      <td>0.764935</td>\n",
       "      <td>-1.982000</td>\n",
       "    </tr>\n",
       "    <tr>\n",
       "      <th>7</th>\n",
       "      <td>GGGGGGGG</td>\n",
       "      <td>CCCCCCCC</td>\n",
       "      <td>NaN</td>\n",
       "      <td>NaN</td>\n",
       "      <td>0.320298</td>\n",
       "      <td>-0.236166</td>\n",
       "    </tr>\n",
       "    <tr>\n",
       "      <th>8</th>\n",
       "      <td>CCCCCCCC</td>\n",
       "      <td>AAAAAAAA</td>\n",
       "      <td>NaN</td>\n",
       "      <td>NaN</td>\n",
       "      <td>-0.429464</td>\n",
       "      <td>-1.510330</td>\n",
       "    </tr>\n",
       "    <tr>\n",
       "      <th>9</th>\n",
       "      <td>EEEEEEEE</td>\n",
       "      <td>AAAAAAAA</td>\n",
       "      <td>NaN</td>\n",
       "      <td>NaN</td>\n",
       "      <td>1.662562</td>\n",
       "      <td>-1.031286</td>\n",
       "    </tr>\n",
       "    <tr>\n",
       "      <th>10</th>\n",
       "      <td>GGGGGGGG</td>\n",
       "      <td>GGGGGGGG</td>\n",
       "      <td>NaN</td>\n",
       "      <td>NaN</td>\n",
       "      <td>-0.345255</td>\n",
       "      <td>1.674032</td>\n",
       "    </tr>\n",
       "    <tr>\n",
       "      <th>11</th>\n",
       "      <td>DDDDDDDD</td>\n",
       "      <td>BBBBBBBB</td>\n",
       "      <td>NaN</td>\n",
       "      <td>NaN</td>\n",
       "      <td>-0.482946</td>\n",
       "      <td>-1.370894</td>\n",
       "    </tr>\n",
       "    <tr>\n",
       "      <th>12</th>\n",
       "      <td>FFFFFFFF</td>\n",
       "      <td>DDDDDDDD</td>\n",
       "      <td>NaN</td>\n",
       "      <td>NaN</td>\n",
       "      <td>0.813159</td>\n",
       "      <td>0.535286</td>\n",
       "    </tr>\n",
       "    <tr>\n",
       "      <th>13</th>\n",
       "      <td>CCCCCCCC</td>\n",
       "      <td>FFFFFFFF</td>\n",
       "      <td>NaN</td>\n",
       "      <td>NaN</td>\n",
       "      <td>0.483097</td>\n",
       "      <td>1.868341</td>\n",
       "    </tr>\n",
       "    <tr>\n",
       "      <th>14</th>\n",
       "      <td>GGGGGGGG</td>\n",
       "      <td>EEEEEEEE</td>\n",
       "      <td>NaN</td>\n",
       "      <td>NaN</td>\n",
       "      <td>1.468790</td>\n",
       "      <td>-0.192995</td>\n",
       "    </tr>\n",
       "    <tr>\n",
       "      <th>15</th>\n",
       "      <td>BBBBBBBB</td>\n",
       "      <td>FFFFFFFF</td>\n",
       "      <td>NaN</td>\n",
       "      <td>NaN</td>\n",
       "      <td>0.783068</td>\n",
       "      <td>-0.617605</td>\n",
       "    </tr>\n",
       "    <tr>\n",
       "      <th>16</th>\n",
       "      <td>CCCCCCCC</td>\n",
       "      <td>EEEEEEEE</td>\n",
       "      <td>NaN</td>\n",
       "      <td>NaN</td>\n",
       "      <td>-0.653838</td>\n",
       "      <td>1.806776</td>\n",
       "    </tr>\n",
       "    <tr>\n",
       "      <th>17</th>\n",
       "      <td>BBBBBBBB</td>\n",
       "      <td>GGGGGGGG</td>\n",
       "      <td>NaN</td>\n",
       "      <td>NaN</td>\n",
       "      <td>-1.381647</td>\n",
       "      <td>-0.095760</td>\n",
       "    </tr>\n",
       "    <tr>\n",
       "      <th>18</th>\n",
       "      <td>BBBBBBBB</td>\n",
       "      <td>CCCCCCCC</td>\n",
       "      <td>NaN</td>\n",
       "      <td>NaN</td>\n",
       "      <td>-0.429108</td>\n",
       "      <td>0.408519</td>\n",
       "    </tr>\n",
       "    <tr>\n",
       "      <th>19</th>\n",
       "      <td>DDDDDDDD</td>\n",
       "      <td>CCCCCCCC</td>\n",
       "      <td>NaN</td>\n",
       "      <td>NaN</td>\n",
       "      <td>0.061942</td>\n",
       "      <td>-0.621922</td>\n",
       "    </tr>\n",
       "    <tr>\n",
       "      <th>20</th>\n",
       "      <td>GGGGGGGG</td>\n",
       "      <td>GGGGGGGG</td>\n",
       "      <td>NaN</td>\n",
       "      <td>NaN</td>\n",
       "      <td>0.240508</td>\n",
       "      <td>0.622189</td>\n",
       "    </tr>\n",
       "    <tr>\n",
       "      <th>21</th>\n",
       "      <td>FFFFFFFF</td>\n",
       "      <td>DDDDDDDD</td>\n",
       "      <td>NaN</td>\n",
       "      <td>NaN</td>\n",
       "      <td>0.256892</td>\n",
       "      <td>-1.019973</td>\n",
       "    </tr>\n",
       "    <tr>\n",
       "      <th>22</th>\n",
       "      <td>AAAAAAAA</td>\n",
       "      <td>CCCCCCCC</td>\n",
       "      <td>NaN</td>\n",
       "      <td>NaN</td>\n",
       "      <td>1.582439</td>\n",
       "      <td>0.557680</td>\n",
       "    </tr>\n",
       "    <tr>\n",
       "      <th>23</th>\n",
       "      <td>BBBBBBBB</td>\n",
       "      <td>GGGGGGGG</td>\n",
       "      <td>NaN</td>\n",
       "      <td>NaN</td>\n",
       "      <td>-1.762108</td>\n",
       "      <td>-0.006828</td>\n",
       "    </tr>\n",
       "    <tr>\n",
       "      <th>24</th>\n",
       "      <td>DDDDDDDD</td>\n",
       "      <td>CCCCCCCC</td>\n",
       "      <td>NaN</td>\n",
       "      <td>NaN</td>\n",
       "      <td>-2.288485</td>\n",
       "      <td>0.814144</td>\n",
       "    </tr>\n",
       "    <tr>\n",
       "      <th>25</th>\n",
       "      <td>AAAAAAAA</td>\n",
       "      <td>EEEEEEEE</td>\n",
       "      <td>NaN</td>\n",
       "      <td>NaN</td>\n",
       "      <td>1.140907</td>\n",
       "      <td>-1.058162</td>\n",
       "    </tr>\n",
       "    <tr>\n",
       "      <th>26</th>\n",
       "      <td>DDDDDDDD</td>\n",
       "      <td>EEEEEEEE</td>\n",
       "      <td>NaN</td>\n",
       "      <td>NaN</td>\n",
       "      <td>0.234884</td>\n",
       "      <td>-2.891996</td>\n",
       "    </tr>\n",
       "    <tr>\n",
       "      <th>27</th>\n",
       "      <td>AAAAAAAA</td>\n",
       "      <td>BBBBBBBB</td>\n",
       "      <td>NaN</td>\n",
       "      <td>NaN</td>\n",
       "      <td>0.212491</td>\n",
       "      <td>-0.358633</td>\n",
       "    </tr>\n",
       "    <tr>\n",
       "      <th>28</th>\n",
       "      <td>CCCCCCCC</td>\n",
       "      <td>EEEEEEEE</td>\n",
       "      <td>NaN</td>\n",
       "      <td>NaN</td>\n",
       "      <td>1.292191</td>\n",
       "      <td>-0.381149</td>\n",
       "    </tr>\n",
       "    <tr>\n",
       "      <th>29</th>\n",
       "      <td>CCCCCCCC</td>\n",
       "      <td>BBBBBBBB</td>\n",
       "      <td>NaN</td>\n",
       "      <td>NaN</td>\n",
       "      <td>0.979539</td>\n",
       "      <td>-1.085080</td>\n",
       "    </tr>\n",
       "    <tr>\n",
       "      <th>...</th>\n",
       "      <td>...</td>\n",
       "      <td>...</td>\n",
       "      <td>...</td>\n",
       "      <td>...</td>\n",
       "      <td>...</td>\n",
       "      <td>...</td>\n",
       "    </tr>\n",
       "    <tr>\n",
       "      <th>326</th>\n",
       "      <td>NaN</td>\n",
       "      <td>NaN</td>\n",
       "      <td>AAAAAAAA</td>\n",
       "      <td>BBBBBBBB</td>\n",
       "      <td>NaN</td>\n",
       "      <td>NaN</td>\n",
       "    </tr>\n",
       "    <tr>\n",
       "      <th>3</th>\n",
       "      <td>NaN</td>\n",
       "      <td>NaN</td>\n",
       "      <td>AAAAAAAA</td>\n",
       "      <td>GGGGGGGG</td>\n",
       "      <td>NaN</td>\n",
       "      <td>NaN</td>\n",
       "    </tr>\n",
       "    <tr>\n",
       "      <th>334</th>\n",
       "      <td>NaN</td>\n",
       "      <td>NaN</td>\n",
       "      <td>AAAAAAAA</td>\n",
       "      <td>DDDDDDDD</td>\n",
       "      <td>NaN</td>\n",
       "      <td>NaN</td>\n",
       "    </tr>\n",
       "    <tr>\n",
       "      <th>392</th>\n",
       "      <td>NaN</td>\n",
       "      <td>NaN</td>\n",
       "      <td>AAAAAAAA</td>\n",
       "      <td>DDDDDDDD</td>\n",
       "      <td>NaN</td>\n",
       "      <td>NaN</td>\n",
       "    </tr>\n",
       "    <tr>\n",
       "      <th>183</th>\n",
       "      <td>NaN</td>\n",
       "      <td>NaN</td>\n",
       "      <td>AAAAAAAA</td>\n",
       "      <td>FFFFFFFF</td>\n",
       "      <td>NaN</td>\n",
       "      <td>NaN</td>\n",
       "    </tr>\n",
       "    <tr>\n",
       "      <th>227</th>\n",
       "      <td>NaN</td>\n",
       "      <td>NaN</td>\n",
       "      <td>AAAAAAAA</td>\n",
       "      <td>FFFFFFFF</td>\n",
       "      <td>NaN</td>\n",
       "      <td>NaN</td>\n",
       "    </tr>\n",
       "    <tr>\n",
       "      <th>48</th>\n",
       "      <td>NaN</td>\n",
       "      <td>NaN</td>\n",
       "      <td>AAAAAAAA</td>\n",
       "      <td>GGGGGGGG</td>\n",
       "      <td>NaN</td>\n",
       "      <td>NaN</td>\n",
       "    </tr>\n",
       "    <tr>\n",
       "      <th>168</th>\n",
       "      <td>NaN</td>\n",
       "      <td>NaN</td>\n",
       "      <td>AAAAAAAA</td>\n",
       "      <td>AAAAAAAA</td>\n",
       "      <td>NaN</td>\n",
       "      <td>NaN</td>\n",
       "    </tr>\n",
       "    <tr>\n",
       "      <th>222</th>\n",
       "      <td>NaN</td>\n",
       "      <td>NaN</td>\n",
       "      <td>AAAAAAAA</td>\n",
       "      <td>FFFFFFFF</td>\n",
       "      <td>NaN</td>\n",
       "      <td>NaN</td>\n",
       "    </tr>\n",
       "    <tr>\n",
       "      <th>109</th>\n",
       "      <td>NaN</td>\n",
       "      <td>NaN</td>\n",
       "      <td>AAAAAAAA</td>\n",
       "      <td>CCCCCCCC</td>\n",
       "      <td>NaN</td>\n",
       "      <td>NaN</td>\n",
       "    </tr>\n",
       "    <tr>\n",
       "      <th>123</th>\n",
       "      <td>NaN</td>\n",
       "      <td>NaN</td>\n",
       "      <td>AAAAAAAA</td>\n",
       "      <td>BBBBBBBB</td>\n",
       "      <td>NaN</td>\n",
       "      <td>NaN</td>\n",
       "    </tr>\n",
       "    <tr>\n",
       "      <th>421</th>\n",
       "      <td>NaN</td>\n",
       "      <td>NaN</td>\n",
       "      <td>AAAAAAAA</td>\n",
       "      <td>EEEEEEEE</td>\n",
       "      <td>NaN</td>\n",
       "      <td>NaN</td>\n",
       "    </tr>\n",
       "    <tr>\n",
       "      <th>359</th>\n",
       "      <td>NaN</td>\n",
       "      <td>NaN</td>\n",
       "      <td>AAAAAAAA</td>\n",
       "      <td>DDDDDDDD</td>\n",
       "      <td>NaN</td>\n",
       "      <td>NaN</td>\n",
       "    </tr>\n",
       "    <tr>\n",
       "      <th>296</th>\n",
       "      <td>NaN</td>\n",
       "      <td>NaN</td>\n",
       "      <td>AAAAAAAA</td>\n",
       "      <td>DDDDDDDD</td>\n",
       "      <td>NaN</td>\n",
       "      <td>NaN</td>\n",
       "    </tr>\n",
       "    <tr>\n",
       "      <th>206</th>\n",
       "      <td>NaN</td>\n",
       "      <td>NaN</td>\n",
       "      <td>AAAAAAAA</td>\n",
       "      <td>FFFFFFFF</td>\n",
       "      <td>NaN</td>\n",
       "      <td>NaN</td>\n",
       "    </tr>\n",
       "    <tr>\n",
       "      <th>312</th>\n",
       "      <td>NaN</td>\n",
       "      <td>NaN</td>\n",
       "      <td>AAAAAAAA</td>\n",
       "      <td>EEEEEEEE</td>\n",
       "      <td>NaN</td>\n",
       "      <td>NaN</td>\n",
       "    </tr>\n",
       "    <tr>\n",
       "      <th>95</th>\n",
       "      <td>NaN</td>\n",
       "      <td>NaN</td>\n",
       "      <td>AAAAAAAA</td>\n",
       "      <td>GGGGGGGG</td>\n",
       "      <td>NaN</td>\n",
       "      <td>NaN</td>\n",
       "    </tr>\n",
       "    <tr>\n",
       "      <th>369</th>\n",
       "      <td>NaN</td>\n",
       "      <td>NaN</td>\n",
       "      <td>AAAAAAAA</td>\n",
       "      <td>DDDDDDDD</td>\n",
       "      <td>NaN</td>\n",
       "      <td>NaN</td>\n",
       "    </tr>\n",
       "    <tr>\n",
       "      <th>25</th>\n",
       "      <td>NaN</td>\n",
       "      <td>NaN</td>\n",
       "      <td>AAAAAAAA</td>\n",
       "      <td>EEEEEEEE</td>\n",
       "      <td>NaN</td>\n",
       "      <td>NaN</td>\n",
       "    </tr>\n",
       "    <tr>\n",
       "      <th>149</th>\n",
       "      <td>NaN</td>\n",
       "      <td>NaN</td>\n",
       "      <td>AAAAAAAA</td>\n",
       "      <td>DDDDDDDD</td>\n",
       "      <td>NaN</td>\n",
       "      <td>NaN</td>\n",
       "    </tr>\n",
       "    <tr>\n",
       "      <th>118</th>\n",
       "      <td>NaN</td>\n",
       "      <td>NaN</td>\n",
       "      <td>AAAAAAAA</td>\n",
       "      <td>BBBBBBBB</td>\n",
       "      <td>NaN</td>\n",
       "      <td>NaN</td>\n",
       "    </tr>\n",
       "    <tr>\n",
       "      <th>449</th>\n",
       "      <td>NaN</td>\n",
       "      <td>NaN</td>\n",
       "      <td>AAAAAAAA</td>\n",
       "      <td>DDDDDDDD</td>\n",
       "      <td>NaN</td>\n",
       "      <td>NaN</td>\n",
       "    </tr>\n",
       "    <tr>\n",
       "      <th>22</th>\n",
       "      <td>NaN</td>\n",
       "      <td>NaN</td>\n",
       "      <td>AAAAAAAA</td>\n",
       "      <td>CCCCCCCC</td>\n",
       "      <td>NaN</td>\n",
       "      <td>NaN</td>\n",
       "    </tr>\n",
       "    <tr>\n",
       "      <th>455</th>\n",
       "      <td>NaN</td>\n",
       "      <td>NaN</td>\n",
       "      <td>AAAAAAAA</td>\n",
       "      <td>AAAAAAAA</td>\n",
       "      <td>NaN</td>\n",
       "      <td>NaN</td>\n",
       "    </tr>\n",
       "    <tr>\n",
       "      <th>442</th>\n",
       "      <td>NaN</td>\n",
       "      <td>NaN</td>\n",
       "      <td>AAAAAAAA</td>\n",
       "      <td>EEEEEEEE</td>\n",
       "      <td>NaN</td>\n",
       "      <td>NaN</td>\n",
       "    </tr>\n",
       "    <tr>\n",
       "      <th>78</th>\n",
       "      <td>NaN</td>\n",
       "      <td>NaN</td>\n",
       "      <td>AAAAAAAA</td>\n",
       "      <td>GGGGGGGG</td>\n",
       "      <td>NaN</td>\n",
       "      <td>NaN</td>\n",
       "    </tr>\n",
       "    <tr>\n",
       "      <th>176</th>\n",
       "      <td>NaN</td>\n",
       "      <td>NaN</td>\n",
       "      <td>AAAAAAAA</td>\n",
       "      <td>BBBBBBBB</td>\n",
       "      <td>NaN</td>\n",
       "      <td>NaN</td>\n",
       "    </tr>\n",
       "    <tr>\n",
       "      <th>250</th>\n",
       "      <td>NaN</td>\n",
       "      <td>NaN</td>\n",
       "      <td>AAAAAAAA</td>\n",
       "      <td>GGGGGGGG</td>\n",
       "      <td>NaN</td>\n",
       "      <td>NaN</td>\n",
       "    </tr>\n",
       "    <tr>\n",
       "      <th>306</th>\n",
       "      <td>NaN</td>\n",
       "      <td>NaN</td>\n",
       "      <td>AAAAAAAA</td>\n",
       "      <td>CCCCCCCC</td>\n",
       "      <td>NaN</td>\n",
       "      <td>NaN</td>\n",
       "    </tr>\n",
       "    <tr>\n",
       "      <th>0</th>\n",
       "      <td>NaN</td>\n",
       "      <td>NaN</td>\n",
       "      <td>AAAAAAAA</td>\n",
       "      <td>EEEEEEEE</td>\n",
       "      <td>NaN</td>\n",
       "      <td>NaN</td>\n",
       "    </tr>\n",
       "  </tbody>\n",
       "</table>\n",
       "<p>2000 rows × 6 columns</p>\n",
       "</div>"
      ],
      "text/plain": [
       "        char1     char2     char3     char4  numeric1  numeric2\n",
       "0    AAAAAAAA  EEEEEEEE       NaN       NaN -0.941036  0.655080\n",
       "1    EEEEEEEE  AAAAAAAA       NaN       NaN  1.406243  1.896115\n",
       "2    CCCCCCCC  FFFFFFFF       NaN       NaN -0.353674  0.490609\n",
       "3    AAAAAAAA  GGGGGGGG       NaN       NaN  0.357437  0.480376\n",
       "4    CCCCCCCC  FFFFFFFF       NaN       NaN -1.579907  0.907812\n",
       "5    GGGGGGGG  EEEEEEEE       NaN       NaN -0.345244  1.244428\n",
       "6    DDDDDDDD  GGGGGGGG       NaN       NaN  0.764935 -1.982000\n",
       "7    GGGGGGGG  CCCCCCCC       NaN       NaN  0.320298 -0.236166\n",
       "8    CCCCCCCC  AAAAAAAA       NaN       NaN -0.429464 -1.510330\n",
       "9    EEEEEEEE  AAAAAAAA       NaN       NaN  1.662562 -1.031286\n",
       "10   GGGGGGGG  GGGGGGGG       NaN       NaN -0.345255  1.674032\n",
       "11   DDDDDDDD  BBBBBBBB       NaN       NaN -0.482946 -1.370894\n",
       "12   FFFFFFFF  DDDDDDDD       NaN       NaN  0.813159  0.535286\n",
       "13   CCCCCCCC  FFFFFFFF       NaN       NaN  0.483097  1.868341\n",
       "14   GGGGGGGG  EEEEEEEE       NaN       NaN  1.468790 -0.192995\n",
       "15   BBBBBBBB  FFFFFFFF       NaN       NaN  0.783068 -0.617605\n",
       "16   CCCCCCCC  EEEEEEEE       NaN       NaN -0.653838  1.806776\n",
       "17   BBBBBBBB  GGGGGGGG       NaN       NaN -1.381647 -0.095760\n",
       "18   BBBBBBBB  CCCCCCCC       NaN       NaN -0.429108  0.408519\n",
       "19   DDDDDDDD  CCCCCCCC       NaN       NaN  0.061942 -0.621922\n",
       "20   GGGGGGGG  GGGGGGGG       NaN       NaN  0.240508  0.622189\n",
       "21   FFFFFFFF  DDDDDDDD       NaN       NaN  0.256892 -1.019973\n",
       "22   AAAAAAAA  CCCCCCCC       NaN       NaN  1.582439  0.557680\n",
       "23   BBBBBBBB  GGGGGGGG       NaN       NaN -1.762108 -0.006828\n",
       "24   DDDDDDDD  CCCCCCCC       NaN       NaN -2.288485  0.814144\n",
       "25   AAAAAAAA  EEEEEEEE       NaN       NaN  1.140907 -1.058162\n",
       "26   DDDDDDDD  EEEEEEEE       NaN       NaN  0.234884 -2.891996\n",
       "27   AAAAAAAA  BBBBBBBB       NaN       NaN  0.212491 -0.358633\n",
       "28   CCCCCCCC  EEEEEEEE       NaN       NaN  1.292191 -0.381149\n",
       "29   CCCCCCCC  BBBBBBBB       NaN       NaN  0.979539 -1.085080\n",
       "..        ...       ...       ...       ...       ...       ...\n",
       "326       NaN       NaN  AAAAAAAA  BBBBBBBB       NaN       NaN\n",
       "3         NaN       NaN  AAAAAAAA  GGGGGGGG       NaN       NaN\n",
       "334       NaN       NaN  AAAAAAAA  DDDDDDDD       NaN       NaN\n",
       "392       NaN       NaN  AAAAAAAA  DDDDDDDD       NaN       NaN\n",
       "183       NaN       NaN  AAAAAAAA  FFFFFFFF       NaN       NaN\n",
       "227       NaN       NaN  AAAAAAAA  FFFFFFFF       NaN       NaN\n",
       "48        NaN       NaN  AAAAAAAA  GGGGGGGG       NaN       NaN\n",
       "168       NaN       NaN  AAAAAAAA  AAAAAAAA       NaN       NaN\n",
       "222       NaN       NaN  AAAAAAAA  FFFFFFFF       NaN       NaN\n",
       "109       NaN       NaN  AAAAAAAA  CCCCCCCC       NaN       NaN\n",
       "123       NaN       NaN  AAAAAAAA  BBBBBBBB       NaN       NaN\n",
       "421       NaN       NaN  AAAAAAAA  EEEEEEEE       NaN       NaN\n",
       "359       NaN       NaN  AAAAAAAA  DDDDDDDD       NaN       NaN\n",
       "296       NaN       NaN  AAAAAAAA  DDDDDDDD       NaN       NaN\n",
       "206       NaN       NaN  AAAAAAAA  FFFFFFFF       NaN       NaN\n",
       "312       NaN       NaN  AAAAAAAA  EEEEEEEE       NaN       NaN\n",
       "95        NaN       NaN  AAAAAAAA  GGGGGGGG       NaN       NaN\n",
       "369       NaN       NaN  AAAAAAAA  DDDDDDDD       NaN       NaN\n",
       "25        NaN       NaN  AAAAAAAA  EEEEEEEE       NaN       NaN\n",
       "149       NaN       NaN  AAAAAAAA  DDDDDDDD       NaN       NaN\n",
       "118       NaN       NaN  AAAAAAAA  BBBBBBBB       NaN       NaN\n",
       "449       NaN       NaN  AAAAAAAA  DDDDDDDD       NaN       NaN\n",
       "22        NaN       NaN  AAAAAAAA  CCCCCCCC       NaN       NaN\n",
       "455       NaN       NaN  AAAAAAAA  AAAAAAAA       NaN       NaN\n",
       "442       NaN       NaN  AAAAAAAA  EEEEEEEE       NaN       NaN\n",
       "78        NaN       NaN  AAAAAAAA  GGGGGGGG       NaN       NaN\n",
       "176       NaN       NaN  AAAAAAAA  BBBBBBBB       NaN       NaN\n",
       "250       NaN       NaN  AAAAAAAA  GGGGGGGG       NaN       NaN\n",
       "306       NaN       NaN  AAAAAAAA  CCCCCCCC       NaN       NaN\n",
       "0         NaN       NaN  AAAAAAAA  EEEEEEEE       NaN       NaN\n",
       "\n",
       "[2000 rows x 6 columns]"
      ]
     },
     "execution_count": 39,
     "metadata": {},
     "output_type": "execute_result"
    }
   ],
   "source": [
    "# default outer join on matching indices\n",
    "scratch_df4 = pd.concat([scratch_df, scratch_df3])\n",
    "scratch_df4"
   ]
  },
  {
   "cell_type": "code",
   "execution_count": 40,
   "metadata": {
    "collapsed": false
   },
   "outputs": [
    {
     "data": {
      "text/html": [
       "<div>\n",
       "<table border=\"1\" class=\"dataframe\">\n",
       "  <thead>\n",
       "    <tr style=\"text-align: right;\">\n",
       "      <th></th>\n",
       "      <th>numeric1</th>\n",
       "      <th>numeric2</th>\n",
       "      <th>char1</th>\n",
       "      <th>char2</th>\n",
       "      <th>char3</th>\n",
       "      <th>char4</th>\n",
       "    </tr>\n",
       "  </thead>\n",
       "  <tbody>\n",
       "    <tr>\n",
       "      <th>0</th>\n",
       "      <td>-0.941036</td>\n",
       "      <td>0.655080</td>\n",
       "      <td>AAAAAAAA</td>\n",
       "      <td>EEEEEEEE</td>\n",
       "      <td>AAAAAAAA</td>\n",
       "      <td>EEEEEEEE</td>\n",
       "    </tr>\n",
       "    <tr>\n",
       "      <th>1</th>\n",
       "      <td>1.406243</td>\n",
       "      <td>1.896115</td>\n",
       "      <td>EEEEEEEE</td>\n",
       "      <td>AAAAAAAA</td>\n",
       "      <td>EEEEEEEE</td>\n",
       "      <td>AAAAAAAA</td>\n",
       "    </tr>\n",
       "    <tr>\n",
       "      <th>2</th>\n",
       "      <td>-0.353674</td>\n",
       "      <td>0.490609</td>\n",
       "      <td>CCCCCCCC</td>\n",
       "      <td>FFFFFFFF</td>\n",
       "      <td>CCCCCCCC</td>\n",
       "      <td>FFFFFFFF</td>\n",
       "    </tr>\n",
       "    <tr>\n",
       "      <th>3</th>\n",
       "      <td>0.357437</td>\n",
       "      <td>0.480376</td>\n",
       "      <td>AAAAAAAA</td>\n",
       "      <td>GGGGGGGG</td>\n",
       "      <td>AAAAAAAA</td>\n",
       "      <td>GGGGGGGG</td>\n",
       "    </tr>\n",
       "    <tr>\n",
       "      <th>4</th>\n",
       "      <td>-1.579907</td>\n",
       "      <td>0.907812</td>\n",
       "      <td>CCCCCCCC</td>\n",
       "      <td>FFFFFFFF</td>\n",
       "      <td>CCCCCCCC</td>\n",
       "      <td>FFFFFFFF</td>\n",
       "    </tr>\n",
       "  </tbody>\n",
       "</table>\n",
       "</div>"
      ],
      "text/plain": [
       "   numeric1  numeric2     char1     char2     char3     char4\n",
       "0 -0.941036  0.655080  AAAAAAAA  EEEEEEEE  AAAAAAAA  EEEEEEEE\n",
       "1  1.406243  1.896115  EEEEEEEE  AAAAAAAA  EEEEEEEE  AAAAAAAA\n",
       "2 -0.353674  0.490609  CCCCCCCC  FFFFFFFF  CCCCCCCC  FFFFFFFF\n",
       "3  0.357437  0.480376  AAAAAAAA  GGGGGGGG  AAAAAAAA  GGGGGGGG\n",
       "4 -1.579907  0.907812  CCCCCCCC  FFFFFFFF  CCCCCCCC  FFFFFFFF"
      ]
     },
     "execution_count": 40,
     "metadata": {},
     "output_type": "execute_result"
    }
   ],
   "source": [
    "# outer join on matching columns\n",
    "scratch_df5 = pd.concat([scratch_df, scratch_df3], axis=1)\n",
    "scratch_df5.head()\n",
    "\n",
    "# merge allows for SQL-like syntax, i.e. merge(left, right, on=)"
   ]
  },
  {
   "cell_type": "code",
   "execution_count": 58,
   "metadata": {
    "collapsed": false
   },
   "outputs": [
    {
     "data": {
      "text/plain": [
       "(1000, 6)"
      ]
     },
     "execution_count": 58,
     "metadata": {},
     "output_type": "execute_result"
    }
   ],
   "source": [
    "scratch_df5.shape"
   ]
  },
  {
   "cell_type": "code",
   "execution_count": 57,
   "metadata": {
    "collapsed": false
   },
   "outputs": [
    {
     "data": {
      "text/plain": [
       "(2000, 4)"
      ]
     },
     "execution_count": 57,
     "metadata": {},
     "output_type": "execute_result"
    }
   ],
   "source": [
    "# append\n",
    "scratch_df6 = scratch_df.append(scratch_df)\n",
    "scratch_df6.shape"
   ]
  },
  {
   "cell_type": "markdown",
   "metadata": {},
   "source": [
    "## Comparing dataframes"
   ]
  },
  {
   "cell_type": "code",
   "execution_count": 60,
   "metadata": {
    "collapsed": false
   },
   "outputs": [
    {
     "data": {
      "text/plain": [
       "True"
      ]
     },
     "execution_count": 60,
     "metadata": {},
     "output_type": "execute_result"
    }
   ],
   "source": [
    "scratch_df.equals(scratch_df)"
   ]
  },
  {
   "cell_type": "code",
   "execution_count": 61,
   "metadata": {
    "collapsed": false
   },
   "outputs": [
    {
     "data": {
      "text/plain": [
       "False"
      ]
     },
     "execution_count": 61,
     "metadata": {},
     "output_type": "execute_result"
    }
   ],
   "source": [
    "scratch_df.equals(scratch_df2)"
   ]
  },
  {
   "cell_type": "markdown",
   "metadata": {},
   "source": [
    "## Summarizing dataframes"
   ]
  },
  {
   "cell_type": "code",
   "execution_count": 62,
   "metadata": {
    "collapsed": false
   },
   "outputs": [
    {
     "data": {
      "text/plain": [
       "numeric1    0.036305\n",
       "numeric2    0.058137\n",
       "dtype: float64"
      ]
     },
     "execution_count": 62,
     "metadata": {},
     "output_type": "execute_result"
    }
   ],
   "source": [
    "scratch_df.mean()"
   ]
  },
  {
   "cell_type": "code",
   "execution_count": 63,
   "metadata": {
    "collapsed": false
   },
   "outputs": [
    {
     "data": {
      "text/html": [
       "<div>\n",
       "<table border=\"1\" class=\"dataframe\">\n",
       "  <thead>\n",
       "    <tr style=\"text-align: right;\">\n",
       "      <th></th>\n",
       "      <th>numeric1</th>\n",
       "      <th>numeric2</th>\n",
       "      <th>char1</th>\n",
       "      <th>char2</th>\n",
       "    </tr>\n",
       "  </thead>\n",
       "  <tbody>\n",
       "    <tr>\n",
       "      <th>0</th>\n",
       "      <td>NaN</td>\n",
       "      <td>NaN</td>\n",
       "      <td>CCCCCCCC</td>\n",
       "      <td>CCCCCCCC</td>\n",
       "    </tr>\n",
       "  </tbody>\n",
       "</table>\n",
       "</div>"
      ],
      "text/plain": [
       "   numeric1  numeric2     char1     char2\n",
       "0       NaN       NaN  CCCCCCCC  CCCCCCCC"
      ]
     },
     "execution_count": 63,
     "metadata": {},
     "output_type": "execute_result"
    }
   ],
   "source": [
    "scratch_df.mode()"
   ]
  },
  {
   "cell_type": "code",
   "execution_count": 64,
   "metadata": {
    "collapsed": false
   },
   "outputs": [
    {
     "data": {
      "text/html": [
       "<div>\n",
       "<table border=\"1\" class=\"dataframe\">\n",
       "  <thead>\n",
       "    <tr style=\"text-align: right;\">\n",
       "      <th></th>\n",
       "      <th>numeric1</th>\n",
       "      <th>numeric2</th>\n",
       "    </tr>\n",
       "  </thead>\n",
       "  <tbody>\n",
       "    <tr>\n",
       "      <th>count</th>\n",
       "      <td>1000.000000</td>\n",
       "      <td>1000.000000</td>\n",
       "    </tr>\n",
       "    <tr>\n",
       "      <th>mean</th>\n",
       "      <td>0.036305</td>\n",
       "      <td>0.058137</td>\n",
       "    </tr>\n",
       "    <tr>\n",
       "      <th>std</th>\n",
       "      <td>1.000527</td>\n",
       "      <td>1.009897</td>\n",
       "    </tr>\n",
       "    <tr>\n",
       "      <th>min</th>\n",
       "      <td>-3.334630</td>\n",
       "      <td>-3.281950</td>\n",
       "    </tr>\n",
       "    <tr>\n",
       "      <th>25%</th>\n",
       "      <td>-0.639339</td>\n",
       "      <td>-0.623036</td>\n",
       "    </tr>\n",
       "    <tr>\n",
       "      <th>50%</th>\n",
       "      <td>0.060097</td>\n",
       "      <td>0.043032</td>\n",
       "    </tr>\n",
       "    <tr>\n",
       "      <th>75%</th>\n",
       "      <td>0.710305</td>\n",
       "      <td>0.733476</td>\n",
       "    </tr>\n",
       "    <tr>\n",
       "      <th>max</th>\n",
       "      <td>2.500826</td>\n",
       "      <td>3.111069</td>\n",
       "    </tr>\n",
       "  </tbody>\n",
       "</table>\n",
       "</div>"
      ],
      "text/plain": [
       "          numeric1     numeric2\n",
       "count  1000.000000  1000.000000\n",
       "mean      0.036305     0.058137\n",
       "std       1.000527     1.009897\n",
       "min      -3.334630    -3.281950\n",
       "25%      -0.639339    -0.623036\n",
       "50%       0.060097     0.043032\n",
       "75%       0.710305     0.733476\n",
       "max       2.500826     3.111069"
      ]
     },
     "execution_count": 64,
     "metadata": {},
     "output_type": "execute_result"
    }
   ],
   "source": [
    "scratch_df.describe()"
   ]
  },
  {
   "cell_type": "markdown",
   "metadata": {},
   "source": [
    "## By group processing"
   ]
  },
  {
   "cell_type": "code",
   "execution_count": 65,
   "metadata": {
    "collapsed": false
   },
   "outputs": [
    {
     "data": {
      "text/plain": [
       "<matplotlib.axes._subplots.AxesSubplot at 0xdaae630>"
      ]
     },
     "execution_count": 65,
     "metadata": {},
     "output_type": "execute_result"
    },
    {
     "data": {
      "image/png": "[encoded data removed]",
      "text/plain": [
       "<matplotlib.figure.Figure at 0xda35518>"
      ]
     },
     "metadata": {},
     "output_type": "display_data"
    }
   ],
   "source": [
    "counts = scratch_df.groupby('char1').size()\n",
    "plt.figure()\n",
    "counts.plot.bar(title='Frequency of char1 values (Histogram of char1)')"
   ]
  },
  {
   "cell_type": "code",
   "execution_count": 68,
   "metadata": {
    "collapsed": false
   },
   "outputs": [
    {
     "data": {
      "text/html": [
       "<div>\n",
       "<table border=\"1\" class=\"dataframe\">\n",
       "  <thead>\n",
       "    <tr style=\"text-align: right;\">\n",
       "      <th></th>\n",
       "      <th></th>\n",
       "      <th>numeric1</th>\n",
       "      <th>numeric2</th>\n",
       "    </tr>\n",
       "    <tr>\n",
       "      <th>char1</th>\n",
       "      <th>char2</th>\n",
       "      <th></th>\n",
       "      <th></th>\n",
       "    </tr>\n",
       "  </thead>\n",
       "  <tbody>\n",
       "    <tr>\n",
       "      <th rowspan=\"7\" valign=\"top\">AAAAAAAA</th>\n",
       "      <th>AAAAAAAA</th>\n",
       "      <td>0.131237</td>\n",
       "      <td>0.077281</td>\n",
       "    </tr>\n",
       "    <tr>\n",
       "      <th>BBBBBBBB</th>\n",
       "      <td>0.103321</td>\n",
       "      <td>-0.115626</td>\n",
       "    </tr>\n",
       "    <tr>\n",
       "      <th>CCCCCCCC</th>\n",
       "      <td>0.203059</td>\n",
       "      <td>0.351764</td>\n",
       "    </tr>\n",
       "    <tr>\n",
       "      <th>DDDDDDDD</th>\n",
       "      <td>0.064047</td>\n",
       "      <td>-0.219687</td>\n",
       "    </tr>\n",
       "    <tr>\n",
       "      <th>EEEEEEEE</th>\n",
       "      <td>-0.055882</td>\n",
       "      <td>0.531112</td>\n",
       "    </tr>\n",
       "    <tr>\n",
       "      <th>FFFFFFFF</th>\n",
       "      <td>0.035156</td>\n",
       "      <td>-0.067736</td>\n",
       "    </tr>\n",
       "    <tr>\n",
       "      <th>GGGGGGGG</th>\n",
       "      <td>0.304449</td>\n",
       "      <td>-0.283951</td>\n",
       "    </tr>\n",
       "    <tr>\n",
       "      <th rowspan=\"7\" valign=\"top\">BBBBBBBB</th>\n",
       "      <th>AAAAAAAA</th>\n",
       "      <td>0.576439</td>\n",
       "      <td>-0.359889</td>\n",
       "    </tr>\n",
       "    <tr>\n",
       "      <th>BBBBBBBB</th>\n",
       "      <td>0.044088</td>\n",
       "      <td>0.197240</td>\n",
       "    </tr>\n",
       "    <tr>\n",
       "      <th>CCCCCCCC</th>\n",
       "      <td>0.183643</td>\n",
       "      <td>0.207450</td>\n",
       "    </tr>\n",
       "    <tr>\n",
       "      <th>DDDDDDDD</th>\n",
       "      <td>0.140064</td>\n",
       "      <td>0.149453</td>\n",
       "    </tr>\n",
       "    <tr>\n",
       "      <th>EEEEEEEE</th>\n",
       "      <td>-0.141100</td>\n",
       "      <td>-0.592167</td>\n",
       "    </tr>\n",
       "    <tr>\n",
       "      <th>FFFFFFFF</th>\n",
       "      <td>0.161037</td>\n",
       "      <td>0.469685</td>\n",
       "    </tr>\n",
       "    <tr>\n",
       "      <th>GGGGGGGG</th>\n",
       "      <td>-0.441764</td>\n",
       "      <td>0.075679</td>\n",
       "    </tr>\n",
       "    <tr>\n",
       "      <th rowspan=\"7\" valign=\"top\">CCCCCCCC</th>\n",
       "      <th>AAAAAAAA</th>\n",
       "      <td>-0.001746</td>\n",
       "      <td>-0.173593</td>\n",
       "    </tr>\n",
       "    <tr>\n",
       "      <th>BBBBBBBB</th>\n",
       "      <td>0.180917</td>\n",
       "      <td>0.189700</td>\n",
       "    </tr>\n",
       "    <tr>\n",
       "      <th>CCCCCCCC</th>\n",
       "      <td>-0.011210</td>\n",
       "      <td>-0.025035</td>\n",
       "    </tr>\n",
       "    <tr>\n",
       "      <th>DDDDDDDD</th>\n",
       "      <td>0.340233</td>\n",
       "      <td>0.028792</td>\n",
       "    </tr>\n",
       "    <tr>\n",
       "      <th>EEEEEEEE</th>\n",
       "      <td>-0.080343</td>\n",
       "      <td>0.036323</td>\n",
       "    </tr>\n",
       "    <tr>\n",
       "      <th>FFFFFFFF</th>\n",
       "      <td>-0.001431</td>\n",
       "      <td>0.384437</td>\n",
       "    </tr>\n",
       "    <tr>\n",
       "      <th>GGGGGGGG</th>\n",
       "      <td>0.003324</td>\n",
       "      <td>0.301643</td>\n",
       "    </tr>\n",
       "    <tr>\n",
       "      <th rowspan=\"7\" valign=\"top\">DDDDDDDD</th>\n",
       "      <th>AAAAAAAA</th>\n",
       "      <td>0.400599</td>\n",
       "      <td>0.223407</td>\n",
       "    </tr>\n",
       "    <tr>\n",
       "      <th>BBBBBBBB</th>\n",
       "      <td>0.018194</td>\n",
       "      <td>0.533846</td>\n",
       "    </tr>\n",
       "    <tr>\n",
       "      <th>CCCCCCCC</th>\n",
       "      <td>-0.388888</td>\n",
       "      <td>-0.159406</td>\n",
       "    </tr>\n",
       "    <tr>\n",
       "      <th>DDDDDDDD</th>\n",
       "      <td>0.042227</td>\n",
       "      <td>0.310765</td>\n",
       "    </tr>\n",
       "    <tr>\n",
       "      <th>EEEEEEEE</th>\n",
       "      <td>0.174632</td>\n",
       "      <td>-0.171190</td>\n",
       "    </tr>\n",
       "    <tr>\n",
       "      <th>FFFFFFFF</th>\n",
       "      <td>0.238697</td>\n",
       "      <td>-0.145164</td>\n",
       "    </tr>\n",
       "    <tr>\n",
       "      <th>GGGGGGGG</th>\n",
       "      <td>-0.274355</td>\n",
       "      <td>0.248157</td>\n",
       "    </tr>\n",
       "    <tr>\n",
       "      <th rowspan=\"7\" valign=\"top\">EEEEEEEE</th>\n",
       "      <th>AAAAAAAA</th>\n",
       "      <td>0.107358</td>\n",
       "      <td>0.115311</td>\n",
       "    </tr>\n",
       "    <tr>\n",
       "      <th>BBBBBBBB</th>\n",
       "      <td>0.333053</td>\n",
       "      <td>0.175339</td>\n",
       "    </tr>\n",
       "    <tr>\n",
       "      <th>CCCCCCCC</th>\n",
       "      <td>0.031395</td>\n",
       "      <td>-0.485526</td>\n",
       "    </tr>\n",
       "    <tr>\n",
       "      <th>DDDDDDDD</th>\n",
       "      <td>0.090607</td>\n",
       "      <td>-0.023565</td>\n",
       "    </tr>\n",
       "    <tr>\n",
       "      <th>EEEEEEEE</th>\n",
       "      <td>-0.017337</td>\n",
       "      <td>0.175600</td>\n",
       "    </tr>\n",
       "    <tr>\n",
       "      <th>FFFFFFFF</th>\n",
       "      <td>-0.155765</td>\n",
       "      <td>-0.010743</td>\n",
       "    </tr>\n",
       "    <tr>\n",
       "      <th>GGGGGGGG</th>\n",
       "      <td>0.015821</td>\n",
       "      <td>0.127790</td>\n",
       "    </tr>\n",
       "    <tr>\n",
       "      <th rowspan=\"7\" valign=\"top\">FFFFFFFF</th>\n",
       "      <th>AAAAAAAA</th>\n",
       "      <td>0.373699</td>\n",
       "      <td>0.393822</td>\n",
       "    </tr>\n",
       "    <tr>\n",
       "      <th>BBBBBBBB</th>\n",
       "      <td>-0.057404</td>\n",
       "      <td>-0.118500</td>\n",
       "    </tr>\n",
       "    <tr>\n",
       "      <th>CCCCCCCC</th>\n",
       "      <td>-0.297210</td>\n",
       "      <td>-0.017520</td>\n",
       "    </tr>\n",
       "    <tr>\n",
       "      <th>DDDDDDDD</th>\n",
       "      <td>0.045028</td>\n",
       "      <td>0.244693</td>\n",
       "    </tr>\n",
       "    <tr>\n",
       "      <th>EEEEEEEE</th>\n",
       "      <td>0.289427</td>\n",
       "      <td>0.020835</td>\n",
       "    </tr>\n",
       "    <tr>\n",
       "      <th>FFFFFFFF</th>\n",
       "      <td>-0.005710</td>\n",
       "      <td>-0.009111</td>\n",
       "    </tr>\n",
       "    <tr>\n",
       "      <th>GGGGGGGG</th>\n",
       "      <td>-0.112728</td>\n",
       "      <td>-0.003894</td>\n",
       "    </tr>\n",
       "    <tr>\n",
       "      <th rowspan=\"7\" valign=\"top\">GGGGGGGG</th>\n",
       "      <th>AAAAAAAA</th>\n",
       "      <td>0.243146</td>\n",
       "      <td>0.160814</td>\n",
       "    </tr>\n",
       "    <tr>\n",
       "      <th>BBBBBBBB</th>\n",
       "      <td>-0.274112</td>\n",
       "      <td>0.131445</td>\n",
       "    </tr>\n",
       "    <tr>\n",
       "      <th>CCCCCCCC</th>\n",
       "      <td>0.219385</td>\n",
       "      <td>0.235164</td>\n",
       "    </tr>\n",
       "    <tr>\n",
       "      <th>DDDDDDDD</th>\n",
       "      <td>-0.155124</td>\n",
       "      <td>-0.130059</td>\n",
       "    </tr>\n",
       "    <tr>\n",
       "      <th>EEEEEEEE</th>\n",
       "      <td>-0.173920</td>\n",
       "      <td>0.292663</td>\n",
       "    </tr>\n",
       "    <tr>\n",
       "      <th>FFFFFFFF</th>\n",
       "      <td>-0.034019</td>\n",
       "      <td>-0.409699</td>\n",
       "    </tr>\n",
       "    <tr>\n",
       "      <th>GGGGGGGG</th>\n",
       "      <td>-0.092745</td>\n",
       "      <td>-0.030816</td>\n",
       "    </tr>\n",
       "  </tbody>\n",
       "</table>\n",
       "</div>"
      ],
      "text/plain": [
       "                   numeric1  numeric2\n",
       "char1    char2                       \n",
       "AAAAAAAA AAAAAAAA  0.131237  0.077281\n",
       "         BBBBBBBB  0.103321 -0.115626\n",
       "         CCCCCCCC  0.203059  0.351764\n",
       "         DDDDDDDD  0.064047 -0.219687\n",
       "         EEEEEEEE -0.055882  0.531112\n",
       "         FFFFFFFF  0.035156 -0.067736\n",
       "         GGGGGGGG  0.304449 -0.283951\n",
       "BBBBBBBB AAAAAAAA  0.576439 -0.359889\n",
       "         BBBBBBBB  0.044088  0.197240\n",
       "         CCCCCCCC  0.183643  0.207450\n",
       "         DDDDDDDD  0.140064  0.149453\n",
       "         EEEEEEEE -0.141100 -0.592167\n",
       "         FFFFFFFF  0.161037  0.469685\n",
       "         GGGGGGGG -0.441764  0.075679\n",
       "CCCCCCCC AAAAAAAA -0.001746 -0.173593\n",
       "         BBBBBBBB  0.180917  0.189700\n",
       "         CCCCCCCC -0.011210 -0.025035\n",
       "         DDDDDDDD  0.340233  0.028792\n",
       "         EEEEEEEE -0.080343  0.036323\n",
       "         FFFFFFFF -0.001431  0.384437\n",
       "         GGGGGGGG  0.003324  0.301643\n",
       "DDDDDDDD AAAAAAAA  0.400599  0.223407\n",
       "         BBBBBBBB  0.018194  0.533846\n",
       "         CCCCCCCC -0.388888 -0.159406\n",
       "         DDDDDDDD  0.042227  0.310765\n",
       "         EEEEEEEE  0.174632 -0.171190\n",
       "         FFFFFFFF  0.238697 -0.145164\n",
       "         GGGGGGGG -0.274355  0.248157\n",
       "EEEEEEEE AAAAAAAA  0.107358  0.115311\n",
       "         BBBBBBBB  0.333053  0.175339\n",
       "         CCCCCCCC  0.031395 -0.485526\n",
       "         DDDDDDDD  0.090607 -0.023565\n",
       "         EEEEEEEE -0.017337  0.175600\n",
       "         FFFFFFFF -0.155765 -0.010743\n",
       "         GGGGGGGG  0.015821  0.127790\n",
       "FFFFFFFF AAAAAAAA  0.373699  0.393822\n",
       "         BBBBBBBB -0.057404 -0.118500\n",
       "         CCCCCCCC -0.297210 -0.017520\n",
       "         DDDDDDDD  0.045028  0.244693\n",
       "         EEEEEEEE  0.289427  0.020835\n",
       "         FFFFFFFF -0.005710 -0.009111\n",
       "         GGGGGGGG -0.112728 -0.003894\n",
       "GGGGGGGG AAAAAAAA  0.243146  0.160814\n",
       "         BBBBBBBB -0.274112  0.131445\n",
       "         CCCCCCCC  0.219385  0.235164\n",
       "         DDDDDDDD -0.155124 -0.130059\n",
       "         EEEEEEEE -0.173920  0.292663\n",
       "         FFFFFFFF -0.034019 -0.409699\n",
       "         GGGGGGGG -0.092745 -0.030816"
      ]
     },
     "execution_count": 68,
     "metadata": {},
     "output_type": "execute_result"
    }
   ],
   "source": [
    "group_means = scratch_df.groupby(['char1', 'char2']).mean()\n",
    "group_means"
   ]
  },
  {
   "cell_type": "markdown",
   "metadata": {},
   "source": [
    "***\n",
    "## . Transposing a table\n",
    "* Transposing a matrix simply switches row and columns values\n",
    "* Transposing a data.frame or dplyr table is more complex because of metadata associated with variable names and row indices"
   ]
  },
  {
   "cell_type": "code",
   "execution_count": 70,
   "metadata": {
    "collapsed": false
   },
   "outputs": [
    {
     "data": {
      "text/html": [
       "<div>\n",
       "<table border=\"1\" class=\"dataframe\">\n",
       "  <thead>\n",
       "    <tr style=\"text-align: right;\">\n",
       "      <th></th>\n",
       "      <th>0</th>\n",
       "      <th>1</th>\n",
       "      <th>2</th>\n",
       "      <th>3</th>\n",
       "      <th>4</th>\n",
       "    </tr>\n",
       "  </thead>\n",
       "  <tbody>\n",
       "    <tr>\n",
       "      <th>numeric1</th>\n",
       "      <td>-0.941036</td>\n",
       "      <td>1.40624</td>\n",
       "      <td>-0.353674</td>\n",
       "      <td>0.357437</td>\n",
       "      <td>-1.57991</td>\n",
       "    </tr>\n",
       "    <tr>\n",
       "      <th>numeric2</th>\n",
       "      <td>0.65508</td>\n",
       "      <td>1.89612</td>\n",
       "      <td>0.490609</td>\n",
       "      <td>0.480376</td>\n",
       "      <td>0.907812</td>\n",
       "    </tr>\n",
       "    <tr>\n",
       "      <th>char1</th>\n",
       "      <td>AAAAAAAA</td>\n",
       "      <td>EEEEEEEE</td>\n",
       "      <td>CCCCCCCC</td>\n",
       "      <td>AAAAAAAA</td>\n",
       "      <td>CCCCCCCC</td>\n",
       "    </tr>\n",
       "    <tr>\n",
       "      <th>char2</th>\n",
       "      <td>EEEEEEEE</td>\n",
       "      <td>AAAAAAAA</td>\n",
       "      <td>FFFFFFFF</td>\n",
       "      <td>GGGGGGGG</td>\n",
       "      <td>FFFFFFFF</td>\n",
       "    </tr>\n",
       "  </tbody>\n",
       "</table>\n",
       "</div>"
      ],
      "text/plain": [
       "                 0         1         2         3         4\n",
       "numeric1 -0.941036   1.40624 -0.353674  0.357437  -1.57991\n",
       "numeric2   0.65508   1.89612  0.490609  0.480376  0.907812\n",
       "char1     AAAAAAAA  EEEEEEEE  CCCCCCCC  AAAAAAAA  CCCCCCCC\n",
       "char2     EEEEEEEE  AAAAAAAA  FFFFFFFF  GGGGGGGG  FFFFFFFF"
      ]
     },
     "execution_count": 70,
     "metadata": {},
     "output_type": "execute_result"
    }
   ],
   "source": [
    "# .T\n",
    "scratch_df.T.iloc[:, 0:5]"
   ]
  },
  {
   "cell_type": "markdown",
   "metadata": {},
   "source": [
    "Often, instead of simply transposing, a data set will need to be reformatted in a **melt/stack** - **column split** - **cast** action described in Hadley Wickham's *Tidy Data*:\n",
    "https://www.jstatsoft.org/article/view/v059i10\n",
    "\n",
    "See the `stack` and `unstack` methods for Pandas dataframes"
   ]
  },
  {
   "cell_type": "markdown",
   "metadata": {},
   "source": [
    "## Exporting and importing a dataframe"
   ]
  },
  {
   "cell_type": "code",
   "execution_count": 74,
   "metadata": {
    "collapsed": true
   },
   "outputs": [],
   "source": [
    "# export, many to_* methods available for other formats\n",
    "scratch_df.to_csv('scratch.csv')"
   ]
  },
  {
   "cell_type": "code",
   "execution_count": 75,
   "metadata": {
    "collapsed": false
   },
   "outputs": [],
   "source": [
    "# import , many read_* methods available for other formats\n",
    "scratch_df7 = pd.read_csv('scratch.csv')"
   ]
  }
 ],
 "metadata": {
  "kernelspec": {
   "display_name": "Python 2",
   "language": "python",
   "name": "python2"
  },
  "language_info": {
   "codemirror_mode": {
    "name": "ipython",
    "version": 2
   },
   "file_extension": ".py",
   "mimetype": "text/x-python",
   "name": "python",
   "nbconvert_exporter": "python",
   "pygments_lexer": "ipython2",
   "version": "2.7.11"
  }
 },
 "nbformat": 4,
 "nbformat_minor": 0
}
