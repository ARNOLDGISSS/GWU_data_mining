{
 "cells": [
  {
   "cell_type": "markdown",
   "metadata": {
    "deletable": true,
    "editable": true
   },
   "source": [
    "# Decision Tree Ensemble Starter Kit for Kaggle House Prices "
   ]
  },
  {
   "cell_type": "markdown",
   "metadata": {
    "deletable": true,
    "editable": true
   },
   "source": [
    "## Imports and inits"
   ]
  },
  {
   "cell_type": "code",
   "execution_count": 38,
   "metadata": {
    "collapsed": false,
    "deletable": true,
    "editable": true
   },
   "outputs": [
    {
     "name": "stdout",
     "output_type": "stream",
     "text": [
      "Checking whether there is an H2O instance running at http://localhost:54321..... not found.\n",
      "Attempting to start a local H2O server...\n",
      "  Java Version: java version \"1.8.0_112\"; Java(TM) SE Runtime Environment (build 1.8.0_112-b16); Java HotSpot(TM) 64-Bit Server VM (build 25.112-b16, mixed mode)\n",
      "  Starting server from /Users/phall/anaconda/lib/python3.5/site-packages/h2o/backend/bin/h2o.jar\n",
      "  Ice root: /var/folders/tc/0ss1l73113j3wdyjsxmy1j2r0000gn/T/tmplt34f54i\n",
      "  JVM stdout: /var/folders/tc/0ss1l73113j3wdyjsxmy1j2r0000gn/T/tmplt34f54i/h2o_phall_started_from_python.out\n",
      "  JVM stderr: /var/folders/tc/0ss1l73113j3wdyjsxmy1j2r0000gn/T/tmplt34f54i/h2o_phall_started_from_python.err\n",
      "  Server is running at http://127.0.0.1:54321\n",
      "Connecting to H2O server at http://127.0.0.1:54321... successful.\n"
     ]
    },
    {
     "data": {
      "text/html": [
       "<div style=\"overflow:auto\"><table style=\"width:50%\"><tr><td>H2O cluster uptime:</td>\n",
       "<td>01 secs</td></tr>\n",
       "<tr><td>H2O cluster version:</td>\n",
       "<td>3.12.0.1</td></tr>\n",
       "<tr><td>H2O cluster version age:</td>\n",
       "<td>4 days </td></tr>\n",
       "<tr><td>H2O cluster name:</td>\n",
       "<td>H2O_from_python_phall_pbwv49</td></tr>\n",
       "<tr><td>H2O cluster total nodes:</td>\n",
       "<td>1</td></tr>\n",
       "<tr><td>H2O cluster free memory:</td>\n",
       "<td>3.556 Gb</td></tr>\n",
       "<tr><td>H2O cluster total cores:</td>\n",
       "<td>8</td></tr>\n",
       "<tr><td>H2O cluster allowed cores:</td>\n",
       "<td>8</td></tr>\n",
       "<tr><td>H2O cluster status:</td>\n",
       "<td>accepting new members, healthy</td></tr>\n",
       "<tr><td>H2O connection url:</td>\n",
       "<td>http://127.0.0.1:54321</td></tr>\n",
       "<tr><td>H2O connection proxy:</td>\n",
       "<td>None</td></tr>\n",
       "<tr><td>H2O internal security:</td>\n",
       "<td>False</td></tr>\n",
       "<tr><td>Python version:</td>\n",
       "<td>3.5.2 final</td></tr></table></div>"
      ],
      "text/plain": [
       "--------------------------  ------------------------------\n",
       "H2O cluster uptime:         01 secs\n",
       "H2O cluster version:        3.12.0.1\n",
       "H2O cluster version age:    4 days\n",
       "H2O cluster name:           H2O_from_python_phall_pbwv49\n",
       "H2O cluster total nodes:    1\n",
       "H2O cluster free memory:    3.556 Gb\n",
       "H2O cluster total cores:    8\n",
       "H2O cluster allowed cores:  8\n",
       "H2O cluster status:         accepting new members, healthy\n",
       "H2O connection url:         http://127.0.0.1:54321\n",
       "H2O connection proxy:\n",
       "H2O internal security:      False\n",
       "Python version:             3.5.2 final\n",
       "--------------------------  ------------------------------"
      ]
     },
     "metadata": {},
     "output_type": "display_data"
    }
   ],
   "source": [
    "import h2o\n",
    "from h2o.estimators.glm import H2OGeneralizedLinearEstimator\n",
    "from h2o.estimators.deeplearning import H2ODeepLearningEstimator\n",
    "from h2o.estimators.gbm import H2OGradientBoostingEstimator \n",
    "from h2o.estimators.random_forest import H2ORandomForestEstimator\n",
    "from h2o.grid.grid_search import H2OGridSearch \n",
    "h2o.init() # give h2o as much memory as possible\n",
    "h2o.no_progress() # turn off h2o progress bars\n",
    "\n",
    "import numpy as np\n",
    "import pandas as pd"
   ]
  },
  {
   "cell_type": "markdown",
   "metadata": {
    "deletable": true,
    "editable": true
   },
   "source": [
    "## Import data"
   ]
  },
  {
   "cell_type": "code",
   "execution_count": 39,
   "metadata": {
    "collapsed": false,
    "deletable": true,
    "editable": true
   },
   "outputs": [
    {
     "name": "stdout",
     "output_type": "stream",
     "text": [
      "(1460, 81)\n",
      "(1459, 81)\n"
     ]
    }
   ],
   "source": [
    "train = h2o.import_file('../data/train.csv')\n",
    "test = h2o.import_file('../data/test.csv')\n",
    "\n",
    "# bug fix - from Keston\n",
    "dummy_col = np.random.rand(test.shape[0])\n",
    "test = test.cbind(h2o.H2OFrame(dummy_col))\n",
    "cols = test.columns\n",
    "cols[-1] = 'SalePrice'\n",
    "test.columns = cols\n",
    "print(train.shape)\n",
    "print(test.shape)"
   ]
  },
  {
   "cell_type": "markdown",
   "metadata": {
    "deletable": true,
    "editable": true
   },
   "source": [
    "#### Determine data types"
   ]
  },
  {
   "cell_type": "code",
   "execution_count": 40,
   "metadata": {
    "collapsed": false,
    "deletable": true,
    "editable": true
   },
   "outputs": [],
   "source": [
    "def get_type_lists(frame=train, rejects=['Id', 'SalePrice']):\n",
    "\n",
    "    \"\"\"Creates lists of numeric and categorical variables.\n",
    "    \n",
    "    :param frame: The frame from which to determine types.\n",
    "    :param rejects: Variable names not to be included in returned lists.\n",
    "    :return: Tuple of lists for numeric and categorical variables in the frame.\n",
    "    \n",
    "    \"\"\"\n",
    "    \n",
    "    nums, cats = [], []\n",
    "    for key, val in frame.types.items():\n",
    "        if key not in rejects:\n",
    "            if val == 'enum':\n",
    "                cats.append(key)\n",
    "            else: \n",
    "                nums.append(key)\n",
    "                \n",
    "    print('Numeric =', nums)                \n",
    "    print()\n",
    "    print('Categorical =', cats)\n",
    "    \n",
    "    return nums, cats"
   ]
  },
  {
   "cell_type": "code",
   "execution_count": 41,
   "metadata": {
    "collapsed": false,
    "deletable": true,
    "editable": true
   },
   "outputs": [
    {
     "name": "stdout",
     "output_type": "stream",
     "text": [
      "Numeric = ['OpenPorchSF', 'MasVnrArea', 'GarageYrBlt', 'BsmtHalfBath', 'WoodDeckSF', 'FullBath', 'BsmtFinSF1', 'OverallQual', 'LowQualFinSF', 'MiscVal', 'GrLivArea', 'GarageArea', 'MSSubClass', '2ndFlrSF', 'YearBuilt', 'HalfBath', 'TotRmsAbvGrd', 'BsmtUnfSF', 'PoolArea', 'LotFrontage', 'MoSold', 'YearRemodAdd', 'EnclosedPorch', 'TotalBsmtSF', 'KitchenAbvGr', 'LotArea', 'YrSold', 'OverallCond', 'BedroomAbvGr', 'Fireplaces', 'ScreenPorch', '1stFlrSF', 'GarageCars', '3SsnPorch', 'BsmtFinSF2', 'BsmtFullBath']\n",
      "\n",
      "Categorical = ['Condition1', 'Heating', 'Electrical', 'RoofStyle', 'Functional', 'Utilities', 'SaleCondition', 'LotShape', 'ExterCond', 'GarageCond', 'MasVnrType', 'BsmtFinType1', 'HeatingQC', 'BsmtCond', 'MSZoning', 'CentralAir', 'BsmtFinType2', 'Exterior2nd', 'BsmtQual', 'Condition2', 'KitchenQual', 'RoofMatl', 'Foundation', 'Fence', 'HouseStyle', 'SaleType', 'Exterior1st', 'GarageQual', 'BldgType', 'Alley', 'Neighborhood', 'LandSlope', 'ExterQual', 'GarageFinish', 'FireplaceQu', 'Street', 'MiscFeature', 'PoolQC', 'LotConfig', 'BsmtExposure', 'GarageType', 'LandContour', 'PavedDrive']\n"
     ]
    }
   ],
   "source": [
    "original_nums, cats = get_type_lists()"
   ]
  },
  {
   "cell_type": "markdown",
   "metadata": {},
   "source": [
    "## Split into to train and validation (before doing data prep!!!)"
   ]
  },
  {
   "cell_type": "code",
   "execution_count": 42,
   "metadata": {
    "collapsed": false
   },
   "outputs": [
    {
     "name": "stdout",
     "output_type": "stream",
     "text": [
      "(1001, 81)\n",
      "(459, 81)\n"
     ]
    }
   ],
   "source": [
    "train, valid = train.split_frame([0.7], seed=12345)\n",
    "print(train.shape)\n",
    "print(valid.shape)"
   ]
  },
  {
   "cell_type": "markdown",
   "metadata": {
    "deletable": true,
    "editable": true
   },
   "source": [
    "## Impute numeric missing"
   ]
  },
  {
   "cell_type": "code",
   "execution_count": 43,
   "metadata": {
    "collapsed": false,
    "deletable": true,
    "editable": true
   },
   "outputs": [],
   "source": [
    "# median usually better than mean\n",
    "# (_ signifies temporary throw-away variable, used to suppress output)\n",
    "_ = train[['MasVnrArea', 'GarageYrBlt', 'LotFrontage']].impute(method='median')\n",
    "_ = valid[['MasVnrArea', 'GarageYrBlt', 'LotFrontage']].impute(method='median')\n",
    "_ = test[['BsmtHalfBath', 'BsmtFinSF1', 'BsmtFullBath', 'BsmtFinSF2', 'BsmtUnfSF', 'MasVnrArea', \n",
    "          'GarageYrBlt', 'LotFrontage', 'GarageCars', 'TotalBsmtSF', 'GarageArea']].impute(method='median')"
   ]
  },
  {
   "cell_type": "markdown",
   "metadata": {
    "deletable": true,
    "editable": true
   },
   "source": [
    "## Encode categorical vars using shrunken averages\n",
    "http://helios.mm.di.uoa.gr/~rouvas/ssi/sigkdd/sigkdd.vol3.1/barreca.ps"
   ]
  },
  {
   "cell_type": "code",
   "execution_count": 44,
   "metadata": {
    "collapsed": false,
    "deletable": true,
    "editable": true
   },
   "outputs": [],
   "source": [
    "def target_encoder(training_frame, test_frame, x, y, lambda_=0.15, threshold=150, test=False):\n",
    "\n",
    "    \"\"\" Applies simple target encoding to categorical variables.\n",
    "\n",
    "    :param training_frame: Training frame which to create target means and to be encoded.\n",
    "    :param test_frame: Test frame to be encoded using information from training frame.\n",
    "    :param x: Name of input variable to be encoded.\n",
    "    :param y: Name of target variable to use for encoding.\n",
    "    :param lambda_: Balance between level mean and overall mean for small groups.\n",
    "    :param threshold: Number below which a level is considered small enough to be shrunken.\n",
    "    :param test: Whether or not to print the row_val_dict for testing purposes.\n",
    "    :return: Tuple of encoded variable from train and test set as H2OFrames.\n",
    "\n",
    "    \"\"\"\n",
    "\n",
    "    # convert to pandas\n",
    "    trdf = training_frame.as_data_frame().loc[:, [x,y]] # df\n",
    "    tss = test_frame.as_data_frame().loc[:, x]          # series\n",
    "\n",
    "\n",
    "    # create dictionary of level:encode val\n",
    "\n",
    "    encode_name = x + '_Tencode'\n",
    "    overall_mean = trdf[y].mean()\n",
    "    row_val_dict = {}\n",
    "\n",
    "    for level in trdf[x].unique():\n",
    "        level_df = trdf[trdf[x] == level][y]\n",
    "        level_n = level_df.shape[0]\n",
    "        level_mean = level_df.mean()\n",
    "        if level_n >= threshold:\n",
    "            row_val_dict[level] = level_mean\n",
    "        else:\n",
    "            row_val_dict[level] = ((1 - lambda_) * level_mean) +\\\n",
    "                                  (lambda_ * overall_mean)\n",
    "\n",
    "    row_val_dict[np.nan] = overall_mean # handle missing values\n",
    "\n",
    "    if test:\n",
    "        print(row_val_dict)\n",
    "\n",
    "    # apply the transform to training data\n",
    "    trdf[encode_name] = trdf[x].apply(lambda i: row_val_dict[i])\n",
    "\n",
    "    # apply the transform to test data\n",
    "    tsdf = pd.DataFrame(columns=[x, encode_name])\n",
    "    tsdf[x] = tss\n",
    "    tsdf.loc[:, encode_name] = overall_mean # handle previously unseen values\n",
    "    # handle values that are seen in tsdf but not row_val_dict\n",
    "    for i, col_i in enumerate(tsdf[x]):\n",
    "        try:\n",
    "            row_val_dict[col_i]\n",
    "        except:\n",
    "            # a value that appeared in tsdf isn't in the row_val_dict so just\n",
    "            # make it the overall_mean\n",
    "            row_val_dict[col_i] = overall_mean\n",
    "    tsdf[encode_name] = tsdf[x].apply(lambda i: row_val_dict[i])\n",
    "\n",
    "\n",
    "    # convert back to H2O\n",
    "\n",
    "    trdf = h2o.H2OFrame(trdf[encode_name].as_matrix())\n",
    "    trdf.columns = [encode_name]\n",
    "\n",
    "    tsdf = h2o.H2OFrame(tsdf[encode_name].as_matrix())\n",
    "    tsdf.columns = [encode_name]\n",
    "\n",
    "    return (trdf, tsdf)\n"
   ]
  },
  {
   "cell_type": "markdown",
   "metadata": {
    "deletable": true,
    "editable": true
   },
   "source": [
    "#### Execute encoding"
   ]
  },
  {
   "cell_type": "code",
   "execution_count": 45,
   "metadata": {
    "collapsed": false,
    "deletable": true,
    "editable": true
   },
   "outputs": [
    {
     "name": "stdout",
     "output_type": "stream",
     "text": [
      "Encoding: Condition1 (1/43) ...\n",
      "Encoding: Heating (2/43) ...\n",
      "Encoding: Electrical (3/43) ...\n",
      "Encoding: RoofStyle (4/43) ...\n",
      "Encoding: Functional (5/43) ...\n",
      "Encoding: Utilities (6/43) ...\n",
      "Encoding: SaleCondition (7/43) ...\n",
      "Encoding: LotShape (8/43) ...\n",
      "Encoding: ExterCond (9/43) ...\n",
      "Encoding: GarageCond (10/43) ...\n",
      "Encoding: MasVnrType (11/43) ...\n",
      "Encoding: BsmtFinType1 (12/43) ...\n",
      "Encoding: HeatingQC (13/43) ...\n",
      "Encoding: BsmtCond (14/43) ...\n",
      "Encoding: MSZoning (15/43) ...\n",
      "Encoding: CentralAir (16/43) ...\n",
      "Encoding: BsmtFinType2 (17/43) ...\n",
      "Encoding: Exterior2nd (18/43) ...\n",
      "Encoding: BsmtQual (19/43) ...\n",
      "Encoding: Condition2 (20/43) ...\n",
      "Encoding: KitchenQual (21/43) ...\n",
      "Encoding: RoofMatl (22/43) ...\n",
      "Encoding: Foundation (23/43) ...\n",
      "Encoding: Fence (24/43) ...\n",
      "Encoding: HouseStyle (25/43) ...\n",
      "Encoding: SaleType (26/43) ...\n",
      "Encoding: Exterior1st (27/43) ...\n",
      "Encoding: GarageQual (28/43) ...\n",
      "Encoding: BldgType (29/43) ...\n",
      "Encoding: Alley (30/43) ...\n",
      "Encoding: Neighborhood (31/43) ...\n",
      "Encoding: LandSlope (32/43) ...\n",
      "Encoding: ExterQual (33/43) ...\n",
      "Encoding: GarageFinish (34/43) ...\n",
      "Encoding: FireplaceQu (35/43) ...\n",
      "Encoding: Street (36/43) ...\n",
      "Encoding: MiscFeature (37/43) ...\n",
      "Encoding: PoolQC (38/43) ...\n",
      "Encoding: LotConfig (39/43) ...\n",
      "Encoding: BsmtExposure (40/43) ...\n",
      "Encoding: GarageType (41/43) ...\n",
      "Encoding: LandContour (42/43) ...\n",
      "Encoding: PavedDrive (43/43) ...\n",
      "Done.\n"
     ]
    }
   ],
   "source": [
    "total = len(cats)\n",
    "for i, var in enumerate(cats):\n",
    "    \n",
    "    tr_enc, _ = target_encoder(train, test, var, 'SalePrice')\n",
    "    v_enc, ts_enc = target_encoder(valid, test, var, 'SalePrice')\n",
    "    \n",
    "    print('Encoding: ' + var + ' (' + str(i+1) + '/' + str(total) + ') ...')\n",
    "\n",
    "    train = train.cbind(tr_enc)\n",
    "    valid = valid.cbind(v_enc)\n",
    "    test = test.cbind(ts_enc)    \n",
    "    \n",
    "print('Done.')"
   ]
  },
  {
   "cell_type": "markdown",
   "metadata": {
    "collapsed": false,
    "deletable": true,
    "editable": true
   },
   "source": [
    "#### Redefine numerics and explore"
   ]
  },
  {
   "cell_type": "code",
   "execution_count": 46,
   "metadata": {
    "collapsed": false,
    "deletable": true,
    "editable": true
   },
   "outputs": [
    {
     "name": "stdout",
     "output_type": "stream",
     "text": [
      "Numeric = ['MiscFeature_Tencode', 'LotShape_Tencode', 'SaleType_Tencode', 'HeatingQC_Tencode', 'BsmtFinType1_Tencode', '3SsnPorch', 'Exterior2nd_Tencode', 'OpenPorchSF', 'MasVnrArea', 'Foundation_Tencode', 'Alley_Tencode', 'Street_Tencode', 'Heating_Tencode', 'GarageYrBlt', 'GarageCond_Tencode', 'BsmtHalfBath', 'BsmtCond_Tencode', 'WoodDeckSF', 'FireplaceQu_Tencode', 'CentralAir_Tencode', 'FullBath', 'Electrical_Tencode', 'PoolQC_Tencode', 'BsmtFinSF1', 'LandSlope_Tencode', 'OverallQual', 'LotConfig_Tencode', 'BsmtFinType2_Tencode', 'Fence_Tencode', 'TotRmsAbvGrd', 'MiscVal', 'RoofMatl_Tencode', 'LowQualFinSF', 'GarageArea', 'BsmtQual_Tencode', 'MSSubClass', 'HouseStyle_Tencode', 'LandContour_Tencode', 'YearBuilt', 'HalfBath', 'ExterQual_Tencode', 'RoofStyle_Tencode', 'Functional_Tencode', 'BsmtFinSF2', 'BsmtExposure_Tencode', 'BsmtUnfSF', 'MasVnrType_Tencode', 'PoolArea', 'LotFrontage', '2ndFlrSF', 'YearRemodAdd', 'GarageType_Tencode', 'Neighborhood_Tencode', 'MoSold', 'TotalBsmtSF', 'GarageFinish_Tencode', 'KitchenQual_Tencode', 'SaleCondition_Tencode', 'Utilities_Tencode', 'KitchenAbvGr', 'LotArea', 'YrSold', 'OverallCond', 'ExterCond_Tencode', 'MSZoning_Tencode', 'BedroomAbvGr', 'EnclosedPorch', 'Fireplaces', 'PavedDrive_Tencode', 'GrLivArea', 'ScreenPorch', 'Exterior1st_Tencode', '1stFlrSF', 'GarageCars', 'BldgType_Tencode', 'GarageQual_Tencode', 'Condition1_Tencode', 'BsmtFullBath', 'Condition2_Tencode']\n",
      "\n",
      "Categorical = ['Condition1', 'Electrical', 'RoofStyle', 'Functional', 'Utilities', 'LotShape', 'ExterCond', 'GarageCond', 'BsmtCond', 'MasVnrType', 'BsmtFinType1', 'HeatingQC', 'KitchenQual', 'MSZoning', 'BsmtFinType2', 'Exterior2nd', 'BsmtQual', 'Condition2', 'FireplaceQu', 'BldgType', 'RoofMatl', 'Fence', 'SaleCondition', 'SaleType', 'Exterior1st', 'GarageQual', 'Alley', 'Neighborhood', 'LandSlope', 'ExterQual', 'GarageFinish', 'HouseStyle', 'CentralAir', 'Street', 'MiscFeature', 'Foundation', 'PoolQC', 'LotConfig', 'Heating', 'BsmtExposure', 'GarageType', 'PavedDrive', 'LandContour']\n"
     ]
    }
   ],
   "source": [
    "encoded_nums, cats = get_type_lists(frame=train)"
   ]
  },
  {
   "cell_type": "code",
   "execution_count": 47,
   "metadata": {
    "collapsed": false,
    "deletable": true,
    "editable": true
   },
   "outputs": [
    {
     "name": "stdout",
     "output_type": "stream",
     "text": [
      "Imputed and encoded numeric training data:\n",
      "Rows:1001\n",
      "Cols:79\n",
      "\n",
      "\n"
     ]
    },
    {
     "data": {
      "text/html": [
       "<table>\n",
       "<thead>\n",
       "<tr><th>       </th><th>MiscFeature_Tencode  </th><th>LotShape_Tencode  </th><th>SaleType_Tencode  </th><th>HeatingQC_Tencode  </th><th>BsmtFinType1_Tencode  </th><th>3SsnPorch         </th><th>Exterior2nd_Tencode  </th><th>OpenPorchSF      </th><th>MasVnrArea        </th><th>Foundation_Tencode  </th><th>Alley_Tencode     </th><th>Street_Tencode    </th><th>Heating_Tencode   </th><th>GarageYrBlt       </th><th>GarageCond_Tencode  </th><th>BsmtHalfBath        </th><th>BsmtCond_Tencode  </th><th>WoodDeckSF        </th><th>FireplaceQu_Tencode  </th><th>CentralAir_Tencode  </th><th>FullBath          </th><th>Electrical_Tencode  </th><th>PoolQC_Tencode    </th><th>BsmtFinSF1       </th><th>LandSlope_Tencode  </th><th>OverallQual       </th><th>LotConfig_Tencode  </th><th>BsmtFinType2_Tencode  </th><th>Fence_Tencode     </th><th>TotRmsAbvGrd      </th><th>MiscVal           </th><th>RoofMatl_Tencode  </th><th>LowQualFinSF      </th><th>GarageArea        </th><th>BsmtQual_Tencode  </th><th>MSSubClass       </th><th>HouseStyle_Tencode  </th><th>LandContour_Tencode  </th><th>YearBuilt         </th><th>HalfBath           </th><th>ExterQual_Tencode  </th><th>RoofStyle_Tencode  </th><th>Functional_Tencode  </th><th>BsmtFinSF2        </th><th>BsmtExposure_Tencode  </th><th>BsmtUnfSF         </th><th>MasVnrType_Tencode  </th><th>PoolArea          </th><th>LotFrontage       </th><th>2ndFlrSF         </th><th>YearRemodAdd      </th><th>GarageType_Tencode  </th><th>Neighborhood_Tencode  </th><th>MoSold           </th><th>TotalBsmtSF       </th><th>GarageFinish_Tencode  </th><th>KitchenQual_Tencode  </th><th>SaleCondition_Tencode  </th><th>Utilities_Tencode  </th><th>KitchenAbvGr      </th><th>LotArea           </th><th>YrSold            </th><th>OverallCond       </th><th>ExterCond_Tencode  </th><th>MSZoning_Tencode  </th><th>BedroomAbvGr      </th><th>EnclosedPorch     </th><th>Fireplaces        </th><th>PavedDrive_Tencode  </th><th>GrLivArea         </th><th>ScreenPorch       </th><th>Exterior1st_Tencode  </th><th>1stFlrSF          </th><th>GarageCars        </th><th>BldgType_Tencode  </th><th>GarageQual_Tencode  </th><th>Condition1_Tencode  </th><th>BsmtFullBath       </th><th>Condition2_Tencode  </th></tr>\n",
       "</thead>\n",
       "<tbody>\n",
       "<tr><td>type   </td><td>real                 </td><td>real              </td><td>real              </td><td>real               </td><td>real                  </td><td>int               </td><td>real                 </td><td>int              </td><td>real              </td><td>real                </td><td>real              </td><td>real              </td><td>real              </td><td>real              </td><td>real                </td><td>int                 </td><td>real              </td><td>int               </td><td>real                 </td><td>real                </td><td>int               </td><td>real                </td><td>real              </td><td>int              </td><td>real               </td><td>int               </td><td>real               </td><td>real                  </td><td>real              </td><td>int               </td><td>int               </td><td>real              </td><td>int               </td><td>int               </td><td>real              </td><td>int              </td><td>real                </td><td>real                 </td><td>int               </td><td>int                </td><td>real               </td><td>real               </td><td>real                </td><td>int               </td><td>real                  </td><td>int               </td><td>real                </td><td>int               </td><td>real              </td><td>int              </td><td>int               </td><td>real                </td><td>real                  </td><td>int              </td><td>int               </td><td>real                  </td><td>real                 </td><td>real                   </td><td>real               </td><td>int               </td><td>int               </td><td>int               </td><td>int               </td><td>real               </td><td>real              </td><td>int               </td><td>int               </td><td>int               </td><td>real                </td><td>int               </td><td>int               </td><td>real                 </td><td>int               </td><td>int               </td><td>real              </td><td>real                </td><td>real                </td><td>int                </td><td>real                </td></tr>\n",
       "<tr><td>mins   </td><td>140375.79385614386   </td><td>163944.59385614382</td><td>125968.29385614385</td><td>135668.69902855766 </td><td>150410.4464877228     </td><td>0.0               </td><td>129978.23968947721   </td><td>0.0              </td><td>0.0               </td><td>121726.89385614387  </td><td>128075.200999001  </td><td>146350.10385614386</td><td>93469.96052281052 </td><td>1908.0            </td><td>112070.79385614385  </td><td>0.0                 </td><td>84275.79385614385 </td><td>0.0               </td><td>141462.34885614386   </td><td>119608.23368665231  </td><td>0.0               </td><td>84275.79385614385   </td><td>182171.95904095902</td><td>0.0              </td><td>181486.5182747485  </td><td>2.0               </td><td>176473.2899159664  </td><td>154536.9355228105     </td><td>141306.73814185814</td><td>3.0               </td><td>0.0               </td><td>143775.79385614386</td><td>0.0               </td><td>0.0               </td><td>121216.12093947716</td><td>20.0             </td><td>118907.22242757239  </td><td>145140.16285614387   </td><td>1875.0            </td><td>0.0                </td><td>116078.96885614384 </td><td>161577.2224275724  </td><td>110059.12718947718  </td><td>0.0               </td><td>167645.4123076923     </td><td>0.0               </td><td>155578.6188811189   </td><td>0.0               </td><td>21.0              </td><td>0.0              </td><td>1950.0            </td><td>125174.9605228105   </td><td>109690.79385614385    </td><td>1.0              </td><td>0.0               </td><td>141354.57177033494    </td><td>124936.94820396995   </td><td>115832.04385614385     </td><td>144200.79385614386 </td><td>0.0               </td><td>1300.0            </td><td>2006.0            </td><td>2.0               </td><td>122047.14941169939 </td><td>78614.79385614385 </td><td>0.0               </td><td>0.0               </td><td>0.0               </td><td>129253.89464979463  </td><td>480.0             </td><td>0.0               </td><td>78325.79385614385    </td><td>480.0             </td><td>0.0               </td><td>138273.46052281052</td><td>96813.29385614385   </td><td>134468.29385614386  </td><td>0.0                </td><td>108075.79385614385  </td></tr>\n",
       "<tr><td>mean   </td><td>181198.19224147475   </td><td>181993.92786324563</td><td>181180.3311701286 </td><td>182409.7085632649  </td><td>185645.79515235015    </td><td>3.4565434565434567</td><td>183994.52609268852   </td><td>44.92407592407592</td><td>106.91146881287727</td><td>183119.90242260235  </td><td>180171.38546862727</td><td>182203.5349842964 </td><td>182323.57985955098</td><td>1978.734522560336 </td><td>186002.74671607107  </td><td>0.059940059940059943</td><td>184043.11900766566</td><td>91.07392607392607 </td><td>200266.80114860163   </td><td>182822.70708043204  </td><td>1.5744255744255744</td><td>182952.64128239392  </td><td>182802.82568320786</td><td>445.5994005994006</td><td>182145.0556687069  </td><td>6.1448551448551445</td><td>181772.16118142597 </td><td>184056.75787594018    </td><td>177450.87030976015</td><td>6.512487512487512 </td><td>39.684315684315685</td><td>182033.94005549894</td><td>5.9250749250749255</td><td>477.46853146853147</td><td>182245.41278741238</td><td>57.08791208791209</td><td>183188.25635258848  </td><td>182186.73299732237   </td><td>1972.2987012987012</td><td>0.38161838161838163</td><td>181095.69602749898 </td><td>182159.0086938536  </td><td>182576.24533688094  </td><td>41.64935064935065 </td><td>182844.62529074325    </td><td>575.99000999001   </td><td>180574.40004970055  </td><td>3.3766233766233764</td><td>70.59975669099758 </td><td>341.7872127872128</td><td>1985.138861138861 </td><td>185255.62265751234  </td><td>182171.95904095905    </td><td>6.362637362637362</td><td>1063.2387612387613</td><td>185712.8721618042     </td><td>180810.97023994988   </td><td>181541.32494458588     </td><td>182178.65314071544 </td><td>1.046953046953047 </td><td>10628.262737262738</td><td>2007.828171828172 </td><td>5.583416583416583 </td><td>182637.23505924645 </td><td>183387.92640181992</td><td>2.871128871128871 </td><td>21.257742257742258</td><td>0.6203796203796204</td><td>182908.18055950044  </td><td>1519.8011988011988</td><td>14.763236763236764</td><td>183565.71379414792   </td><td>1172.0889110889111</td><td>1.7932067932067932</td><td>182849.79797600003</td><td>186018.3297154893   </td><td>182645.11776425372  </td><td>0.42657342657342656</td><td>182224.4420403772   </td></tr>\n",
       "<tr><td>maxs   </td><td>239825.79385614384   </td><td>220137.0973044197 </td><td>263880.6876061438 </td><td>216426.0           </td><td>236446.98648648648    </td><td>508.0             </td><td>298475.79385614384   </td><td>523.0            </td><td>1378.0            </td><td>226465.8274336283   </td><td>182171.95904095902</td><td>182383.5220883534 </td><td>185483.95814185814</td><td>2010.0            </td><td>188146.7502726281   </td><td>2.0                 </td><td>212500.14385614384</td><td>736.0             </td><td>306119.08332982805   </td><td>186782.0            </td><td>3.0               </td><td>187738.31270358307  </td><td>443825.79385614384</td><td>5644.0           </td><td>200379.84385614382 </td><td>10.0              </td><td>215932.78135614385 </td><td>218122.46052281052    </td><td>182171.95904095902</td><td>14.0              </td><td>15500.0           </td><td>669075.7938561438 </td><td>528.0             </td><td>1418.0            </td><td>312352.66653056245</td><td>190.0            </td><td>210965.119205298    </td><td>215016.8662245649    </td><td>2010.0            </td><td>2.0                </td><td>348876.58744588745 </td><td>248325.79385614384 </td><td>185063.63879957132  </td><td>1127.0            </td><td>243510.2073978105     </td><td>2153.0            </td><td>256064.37787676242  </td><td>738.0             </td><td>313.0             </td><td>2065.0           </td><td>2010.0            </td><td>243875.54558028182  </td><td>329868.3581418581     </td><td>12.0             </td><td>6110.0            </td><td>243708.832            </td><td>305958.08769176033   </td><td>260380.61674771016     </td><td>182216.631         </td><td>3.0               </td><td>164660.0          </td><td>2010.0            </td><td>9.0               </td><td>185708.33940774488 </td><td>204495.20385614387</td><td>8.0               </td><td>552.0             </td><td>3.0               </td><td>187523.8671023965   </td><td>5642.0            </td><td>440.0             </td><td>250025.79385614384   </td><td>4692.0            </td><td>4.0               </td><td>187595.7541966427 </td><td>222252.04385614384  </td><td>219155.3393106893   </td><td>3.0                </td><td>269469.54385614384  </td></tr>\n",
       "<tr><td>sigma  </td><td>5900.1270688417535   </td><td>21926.25817117466 </td><td>25459.930478733873</td><td>35398.540443061385 </td><td>33760.02487150487     </td><td>29.83605804459362 </td><td>30224.673393447127   </td><td>63.01874506660879</td><td>179.4411497100248 </td><td>39735.240377141236  </td><td>9252.695490054044 </td><td>2541.5759666990493</td><td>8588.039549532366 </td><td>24.075751996724104</td><td>10671.429849329988  </td><td>0.24577143121932704 </td><td>10415.5288163924  </td><td>120.05044160464604</td><td>24220.26519043972    </td><td>15828.294334486285  </td><td>0.553809800116696 </td><td>16469.485082849522  </td><td>11861.801229912977</td><td>467.1732658871228</td><td>1835.4154172265178 </td><td>1.3535124690951332</td><td>10669.040225587902 </td><td>7125.75433938659      </td><td>11076.460716121788</td><td>1.5874803640026247</td><td>516.2493547150991 </td><td>15980.206375764046</td><td>49.51948485817861 </td><td>209.92257920181254</td><td>49068.18360107548 </td><td>42.22127738162672</td><td>21247.33154021499   </td><td>11064.930655592714   </td><td>29.873026099002576</td><td>0.500221729058003  </td><td>52277.89924581869  </td><td>20695.377655471337 </td><td>9673.472750816674   </td><td>148.91838678308974</td><td>24443.64548833232     </td><td>444.45750741786316</td><td>32873.17832435439   </td><td>43.98791894358056 </td><td>22.749666370110532</td><td>432.9085950594232</td><td>20.606836203107406</td><td>34065.80911242865   </td><td>51529.93244080358     </td><td>2.67681950033293 </td><td>450.46835397846087</td><td>41548.00781303608     </td><td>49556.81599252628    </td><td>24904.825355766643     </td><td>1201.565692600516  </td><td>0.2253734828971829</td><td>9442.373107111374 </td><td>1.3169835057606303</td><td>1.0887078190610717</td><td>9945.861000354022  </td><td>22616.419950331485</td><td>0.8052177496650359</td><td>61.04442237008638 </td><td>0.6416730131026672</td><td>15415.629575665145  </td><td>520.2774292995626 </td><td>54.16981527671003 </td><td>29589.150408848316   </td><td>392.4739572085174 </td><td>0.7349787794173422</td><td>13615.684128255085</td><td>11950.130371967634  </td><td>13080.759735205764  </td><td>0.5204355357324736 </td><td>6389.719881512633   </td></tr>\n",
       "<tr><td>zeros  </td><td>0                    </td><td>0                 </td><td>0                 </td><td>0                  </td><td>0                     </td><td>985               </td><td>0                    </td><td>460              </td><td>570               </td><td>0                   </td><td>0                 </td><td>0                 </td><td>0                 </td><td>0                 </td><td>0                   </td><td>943                 </td><td>0                 </td><td>523               </td><td>0                    </td><td>0                   </td><td>6                 </td><td>0                   </td><td>0                 </td><td>326              </td><td>0                  </td><td>0                 </td><td>0                  </td><td>0                     </td><td>0                 </td><td>0                 </td><td>969               </td><td>0                 </td><td>984               </td><td>48                </td><td>0                 </td><td>0                </td><td>0                   </td><td>0                    </td><td>0                 </td><td>626                </td><td>0                  </td><td>0                  </td><td>0                   </td><td>894               </td><td>0                     </td><td>78                </td><td>0                   </td><td>995               </td><td>0                 </td><td>572              </td><td>0                 </td><td>0                   </td><td>0                     </td><td>0                </td><td>25                </td><td>0                     </td><td>0                    </td><td>0                      </td><td>0                  </td><td>1                 </td><td>0                 </td><td>0                 </td><td>0                 </td><td>0                  </td><td>0                 </td><td>4                 </td><td>867               </td><td>466               </td><td>0                   </td><td>0                 </td><td>921               </td><td>0                    </td><td>0                 </td><td>48                </td><td>0                 </td><td>0                   </td><td>0                   </td><td>586                </td><td>0                   </td></tr>\n",
       "<tr><td>missing</td><td>0                    </td><td>0                 </td><td>0                 </td><td>0                  </td><td>0                     </td><td>0                 </td><td>0                    </td><td>0                </td><td>0                 </td><td>0                   </td><td>0                 </td><td>0                 </td><td>0                 </td><td>0                 </td><td>0                   </td><td>0                   </td><td>0                 </td><td>0                 </td><td>0                    </td><td>0                   </td><td>0                 </td><td>0                   </td><td>0                 </td><td>0                </td><td>0                  </td><td>0                 </td><td>0                  </td><td>0                     </td><td>0                 </td><td>0                 </td><td>0                 </td><td>0                 </td><td>0                 </td><td>0                 </td><td>0                 </td><td>0                </td><td>0                   </td><td>0                    </td><td>0                 </td><td>0                  </td><td>0                  </td><td>0                  </td><td>0                   </td><td>0                 </td><td>0                     </td><td>0                 </td><td>0                   </td><td>0                 </td><td>0                 </td><td>0                </td><td>0                 </td><td>0                   </td><td>0                     </td><td>0                </td><td>0                 </td><td>0                     </td><td>0                    </td><td>0                      </td><td>0                  </td><td>0                 </td><td>0                 </td><td>0                 </td><td>0                 </td><td>0                  </td><td>0                 </td><td>0                 </td><td>0                 </td><td>0                 </td><td>0                   </td><td>0                 </td><td>0                 </td><td>0                    </td><td>0                 </td><td>0                 </td><td>0                 </td><td>0                   </td><td>0                   </td><td>0                  </td><td>0                   </td></tr>\n",
       "<tr><td>0      </td><td>182171.95904095902   </td><td>165131.57073954982</td><td>174574.41216991964</td><td>216426.0           </td><td>236446.98648648648    </td><td>0.0               </td><td>216626.9093484419    </td><td>61.0             </td><td>196.0             </td><td>226465.8274336283   </td><td>182171.95904095902</td><td>182383.5220883534 </td><td>183201.27365208542</td><td>2003.0            </td><td>188146.7502726281   </td><td>0.0                 </td><td>184737.95170142702</td><td>0.0               </td><td>182171.95904095902   </td><td>186782.0            </td><td>2.0               </td><td>187738.31270358307  </td><td>182171.95904095902</td><td>706.0            </td><td>181982.57594936708 </td><td>7.0               </td><td>176473.2899159664  </td><td>185630.71806674334    </td><td>182171.95904095902</td><td>8.0               </td><td>0.0               </td><td>181235.93597560975</td><td>0.0               </td><td>548.0             </td><td>200924.0538641686 </td><td>60.0             </td><td>210965.119205298    </td><td>182282.48766816143   </td><td>2003.0            </td><td>1.0                </td><td>229333.4454277286  </td><td>171522.79741935484 </td><td>185063.63879957132  </td><td>0.0               </td><td>167645.4123076923     </td><td>150.0             </td><td>203515.30891719743  </td><td>0.0               </td><td>65.0              </td><td>854.0            </td><td>2003.0            </td><td>203664.60358890702  </td><td>197940.3021894772     </td><td>2.0              </td><td>856.0             </td><td>200494.42807017543    </td><td>212221.98514851482   </td><td>177020.8800489596      </td><td>182216.631         </td><td>1.0               </td><td>8450.0            </td><td>2008.0            </td><td>5.0               </td><td>185708.33940774488 </td><td>192391.8022670025 </td><td>3.0               </td><td>0.0               </td><td>0.0               </td><td>187523.8671023965   </td><td>1710.0            </td><td>0.0               </td><td>216859.7290502793    </td><td>856.0             </td><td>2.0               </td><td>187595.7541966427 </td><td>188334.07174392935  </td><td>185776.46347031964  </td><td>1.0                </td><td>182525.73333333334  </td></tr>\n",
       "<tr><td>1      </td><td>182171.95904095902   </td><td>165131.57073954982</td><td>174574.41216991964</td><td>216426.0           </td><td>161782.77448994666    </td><td>0.0               </td><td>155721.17213200592   </td><td>0.0              </td><td>0.0               </td><td>150397.2807424594   </td><td>182171.95904095902</td><td>182383.5220883534 </td><td>183201.27365208542</td><td>1976.0            </td><td>188146.7502726281   </td><td>1.0                 </td><td>184737.95170142702</td><td>298.0             </td><td>204076.0357142857    </td><td>186782.0            </td><td>2.0               </td><td>187738.31270358307  </td><td>182171.95904095902</td><td>978.0            </td><td>181982.57594936708 </td><td>6.0               </td><td>178818.25814185815 </td><td>185630.71806674334    </td><td>182171.95904095902</td><td>6.0               </td><td>0.0               </td><td>181235.93597560975</td><td>0.0               </td><td>460.0             </td><td>200924.0538641686 </td><td>20.0             </td><td>178321.97183098592  </td><td>182282.48766816143   </td><td>1976.0            </td><td>0.0                </td><td>144619.2755267423  </td><td>171522.79741935484 </td><td>185063.63879957132  </td><td>0.0               </td><td>243510.2073978105     </td><td>284.0             </td><td>155578.6188811189   </td><td>0.0               </td><td>80.0              </td><td>0.0              </td><td>1976.0            </td><td>203664.60358890702  </td><td>218575.79385614384    </td><td>5.0              </td><td>1262.0            </td><td>200494.42807017543    </td><td>139811.59481037923   </td><td>177020.8800489596      </td><td>182216.631         </td><td>1.0               </td><td>9600.0            </td><td>2007.0            </td><td>8.0               </td><td>185708.33940774488 </td><td>192391.8022670025 </td><td>3.0               </td><td>0.0               </td><td>1.0               </td><td>187523.8671023965   </td><td>1262.0            </td><td>0.0               </td><td>155330.24861804862   </td><td>1262.0            </td><td>2.0               </td><td>187595.7541966427 </td><td>188334.07174392935  </td><td>147024.1605228105   </td><td>0.0                </td><td>182525.73333333334  </td></tr>\n",
       "<tr><td>2      </td><td>182171.95904095902   </td><td>209450.39420289855</td><td>174574.41216991964</td><td>216426.0           </td><td>236446.98648648648    </td><td>0.0               </td><td>216626.9093484419    </td><td>42.0             </td><td>162.0             </td><td>226465.8274336283   </td><td>182171.95904095902</td><td>182383.5220883534 </td><td>183201.27365208542</td><td>2001.0            </td><td>188146.7502726281   </td><td>0.0                 </td><td>184737.95170142702</td><td>0.0               </td><td>204076.0357142857    </td><td>186782.0            </td><td>2.0               </td><td>187738.31270358307  </td><td>182171.95904095902</td><td>486.0            </td><td>181982.57594936708 </td><td>7.0               </td><td>176473.2899159664  </td><td>185630.71806674334    </td><td>182171.95904095902</td><td>6.0               </td><td>0.0               </td><td>181235.93597560975</td><td>0.0               </td><td>608.0             </td><td>200924.0538641686 </td><td>60.0             </td><td>210965.119205298    </td><td>182282.48766816143   </td><td>2001.0            </td><td>1.0                </td><td>229333.4454277286  </td><td>171522.79741935484 </td><td>185063.63879957132  </td><td>0.0               </td><td>187129.2701381951     </td><td>434.0             </td><td>203515.30891719743  </td><td>0.0               </td><td>68.0              </td><td>866.0            </td><td>2002.0            </td><td>203664.60358890702  </td><td>197940.3021894772     </td><td>9.0              </td><td>920.0             </td><td>200494.42807017543    </td><td>212221.98514851482   </td><td>177020.8800489596      </td><td>182216.631         </td><td>1.0               </td><td>11250.0           </td><td>2008.0            </td><td>5.0               </td><td>185708.33940774488 </td><td>192391.8022670025 </td><td>3.0               </td><td>0.0               </td><td>1.0               </td><td>187523.8671023965   </td><td>1786.0            </td><td>0.0               </td><td>216859.7290502793    </td><td>920.0             </td><td>2.0               </td><td>187595.7541966427 </td><td>188334.07174392935  </td><td>185776.46347031964  </td><td>1.0                </td><td>182525.73333333334  </td></tr>\n",
       "<tr><td>3      </td><td>182171.95904095902   </td><td>209450.39420289855</td><td>174574.41216991964</td><td>216426.0           </td><td>236446.98648648648    </td><td>0.0               </td><td>216626.9093484419    </td><td>84.0             </td><td>350.0             </td><td>226465.8274336283   </td><td>182171.95904095902</td><td>182383.5220883534 </td><td>183201.27365208542</td><td>2000.0            </td><td>188146.7502726281   </td><td>0.0                 </td><td>184737.95170142702</td><td>192.0             </td><td>204076.0357142857    </td><td>186782.0            </td><td>2.0               </td><td>187738.31270358307  </td><td>182171.95904095902</td><td>655.0            </td><td>181982.57594936708 </td><td>8.0               </td><td>178818.25814185815 </td><td>185630.71806674334    </td><td>182171.95904095902</td><td>9.0               </td><td>0.0               </td><td>181235.93597560975</td><td>0.0               </td><td>836.0             </td><td>200924.0538641686 </td><td>60.0             </td><td>210965.119205298    </td><td>182282.48766816143   </td><td>2000.0            </td><td>1.0                </td><td>229333.4454277286  </td><td>171522.79741935484 </td><td>185063.63879957132  </td><td>0.0               </td><td>207605.41721854304    </td><td>490.0             </td><td>203515.30891719743  </td><td>0.0               </td><td>84.0              </td><td>1053.0           </td><td>2000.0            </td><td>203664.60358890702  </td><td>329868.3581418581     </td><td>12.0             </td><td>1145.0            </td><td>200494.42807017543    </td><td>212221.98514851482   </td><td>177020.8800489596      </td><td>182216.631         </td><td>1.0               </td><td>14260.0           </td><td>2008.0            </td><td>5.0               </td><td>185708.33940774488 </td><td>192391.8022670025 </td><td>4.0               </td><td>0.0               </td><td>1.0               </td><td>187523.8671023965   </td><td>2198.0            </td><td>0.0               </td><td>216859.7290502793    </td><td>1145.0            </td><td>3.0               </td><td>187595.7541966427 </td><td>188334.07174392935  </td><td>185776.46347031964  </td><td>1.0                </td><td>182525.73333333334  </td></tr>\n",
       "<tr><td>4      </td><td>151058.18256582128   </td><td>209450.39420289855</td><td>174574.41216991964</td><td>216426.0           </td><td>236446.98648648648    </td><td>320.0             </td><td>216626.9093484419    </td><td>30.0             </td><td>0.0               </td><td>185142.46052281052  </td><td>182171.95904095902</td><td>182383.5220883534 </td><td>183201.27365208542</td><td>1993.0            </td><td>188146.7502726281   </td><td>0.0                 </td><td>184737.95170142702</td><td>40.0              </td><td>182171.95904095902   </td><td>186782.0            </td><td>1.0               </td><td>187738.31270358307  </td><td>182171.95904095902</td><td>732.0            </td><td>181982.57594936708 </td><td>5.0               </td><td>176473.2899159664  </td><td>185630.71806674334    </td><td>154576.6979101979 </td><td>5.0               </td><td>700.0             </td><td>181235.93597560975</td><td>0.0               </td><td>480.0             </td><td>200924.0538641686 </td><td>50.0             </td><td>149995.43881027232  </td><td>182282.48766816143   </td><td>1993.0            </td><td>1.0                </td><td>144619.2755267423  </td><td>171522.79741935484 </td><td>185063.63879957132  </td><td>0.0               </td><td>167645.4123076923     </td><td>64.0              </td><td>155578.6188811189   </td><td>0.0               </td><td>85.0              </td><td>566.0            </td><td>1995.0            </td><td>203664.60358890702  </td><td>157653.3733433233     </td><td>10.0             </td><td>796.0             </td><td>141354.57177033494    </td><td>139811.59481037923   </td><td>177020.8800489596      </td><td>182216.631         </td><td>1.0               </td><td>14115.0           </td><td>2009.0            </td><td>5.0               </td><td>185708.33940774488 </td><td>192391.8022670025 </td><td>1.0               </td><td>0.0               </td><td>0.0               </td><td>187523.8671023965   </td><td>1362.0            </td><td>0.0               </td><td>216859.7290502793    </td><td>796.0             </td><td>2.0               </td><td>187595.7541966427 </td><td>188334.07174392935  </td><td>185776.46347031964  </td><td>1.0                </td><td>182525.73333333334  </td></tr>\n",
       "<tr><td>5      </td><td>182171.95904095902   </td><td>165131.57073954982</td><td>174574.41216991964</td><td>216426.0           </td><td>236446.98648648648    </td><td>0.0               </td><td>216626.9093484419    </td><td>57.0             </td><td>186.0             </td><td>226465.8274336283   </td><td>182171.95904095902</td><td>182383.5220883534 </td><td>183201.27365208542</td><td>2004.0            </td><td>188146.7502726281   </td><td>0.0                 </td><td>184737.95170142702</td><td>255.0             </td><td>225928.18076923073   </td><td>186782.0            </td><td>2.0               </td><td>187738.31270358307  </td><td>182171.95904095902</td><td>1369.0           </td><td>181982.57594936708 </td><td>8.0               </td><td>176473.2899159664  </td><td>185630.71806674334    </td><td>182171.95904095902</td><td>7.0               </td><td>0.0               </td><td>181235.93597560975</td><td>0.0               </td><td>636.0             </td><td>312352.66653056245</td><td>20.0             </td><td>178321.97183098592  </td><td>182282.48766816143   </td><td>2004.0            </td><td>0.0                </td><td>229333.4454277286  </td><td>171522.79741935484 </td><td>185063.63879957132  </td><td>0.0               </td><td>207605.41721854304    </td><td>317.0             </td><td>256064.37787676242  </td><td>0.0               </td><td>75.0              </td><td>0.0              </td><td>2005.0            </td><td>203664.60358890702  </td><td>214617.5167374998     </td><td>8.0              </td><td>1686.0            </td><td>200494.42807017543    </td><td>212221.98514851482   </td><td>177020.8800489596      </td><td>182216.631         </td><td>1.0               </td><td>10084.0           </td><td>2007.0            </td><td>5.0               </td><td>185708.33940774488 </td><td>192391.8022670025 </td><td>3.0               </td><td>0.0               </td><td>1.0               </td><td>187523.8671023965   </td><td>1694.0            </td><td>0.0               </td><td>216859.7290502793    </td><td>1694.0            </td><td>2.0               </td><td>187595.7541966427 </td><td>188334.07174392935  </td><td>185776.46347031964  </td><td>1.0                </td><td>182525.73333333334  </td></tr>\n",
       "<tr><td>6      </td><td>182171.95904095902   </td><td>165131.57073954982</td><td>174574.41216991964</td><td>157465.01829268291 </td><td>172096.88704318934    </td><td>0.0               </td><td>153754.05472570908   </td><td>0.0              </td><td>0.0               </td><td>136922.75385614386  </td><td>182171.95904095902</td><td>182383.5220883534 </td><td>183201.27365208542</td><td>1931.0            </td><td>188146.7502726281   </td><td>0.0                 </td><td>184737.95170142702</td><td>90.0              </td><td>204076.0357142857    </td><td>186782.0            </td><td>2.0               </td><td>129502.64385614383  </td><td>182171.95904095902</td><td>0.0              </td><td>181982.57594936708 </td><td>7.0               </td><td>176473.2899159664  </td><td>185630.71806674334    </td><td>182171.95904095902</td><td>8.0               </td><td>0.0               </td><td>181235.93597560975</td><td>0.0               </td><td>468.0             </td><td>141930.00455580864</td><td>50.0             </td><td>149995.43881027232  </td><td>182282.48766816143   </td><td>1931.0            </td><td>0.0                </td><td>144619.2755267423  </td><td>171522.79741935484 </td><td>153787.09385614382  </td><td>0.0               </td><td>167645.4123076923     </td><td>952.0             </td><td>155578.6188811189   </td><td>0.0               </td><td>51.0              </td><td>752.0            </td><td>1950.0            </td><td>133017.2480620155   </td><td>133772.61742757243    </td><td>4.0              </td><td>952.0             </td><td>141354.57177033494    </td><td>139811.59481037923   </td><td>153108.76116383614     </td><td>182216.631         </td><td>2.0               </td><td>6120.0            </td><td>2008.0            </td><td>5.0               </td><td>185708.33940774488 </td><td>135492.29843360864</td><td>2.0               </td><td>205.0             </td><td>2.0               </td><td>187523.8671023965   </td><td>1774.0            </td><td>0.0               </td><td>174764.54385614384   </td><td>1022.0            </td><td>2.0               </td><td>187595.7541966427 </td><td>131334.20218947722  </td><td>134468.29385614386  </td><td>0.0                </td><td>182525.73333333334  </td></tr>\n",
       "<tr><td>7      </td><td>182171.95904095902   </td><td>165131.57073954982</td><td>174574.41216991964</td><td>216426.0           </td><td>150410.4464877228     </td><td>0.0               </td><td>169688.48681389034   </td><td>0.0              </td><td>0.0               </td><td>150397.2807424594   </td><td>182171.95904095902</td><td>182383.5220883534 </td><td>183201.27365208542</td><td>1965.0            </td><td>188146.7502726281   </td><td>0.0                 </td><td>184737.95170142702</td><td>0.0               </td><td>182171.95904095902   </td><td>186782.0            </td><td>1.0               </td><td>187738.31270358307  </td><td>182171.95904095902</td><td>906.0            </td><td>181982.57594936708 </td><td>5.0               </td><td>176473.2899159664  </td><td>185630.71806674334    </td><td>182171.95904095902</td><td>5.0               </td><td>0.0               </td><td>181235.93597560975</td><td>0.0               </td><td>384.0             </td><td>141930.00455580864</td><td>20.0             </td><td>178321.97183098592  </td><td>182282.48766816143   </td><td>1965.0            </td><td>0.0                </td><td>144619.2755267423  </td><td>222601.05940594056 </td><td>185063.63879957132  </td><td>0.0               </td><td>167645.4123076923     </td><td>134.0             </td><td>155578.6188811189   </td><td>0.0               </td><td>70.0              </td><td>0.0              </td><td>1965.0            </td><td>133017.2480620155   </td><td>143540.98922651424    </td><td>2.0              </td><td>1040.0            </td><td>141354.57177033494    </td><td>139811.59481037923   </td><td>177020.8800489596      </td><td>182216.631         </td><td>1.0               </td><td>11200.0           </td><td>2008.0            </td><td>5.0               </td><td>185708.33940774488 </td><td>192391.8022670025 </td><td>3.0               </td><td>0.0               </td><td>0.0               </td><td>187523.8671023965   </td><td>1040.0            </td><td>0.0               </td><td>162189.7051282051    </td><td>1040.0            </td><td>1.0               </td><td>187595.7541966427 </td><td>188334.07174392935  </td><td>185776.46347031964  </td><td>1.0                </td><td>182525.73333333334  </td></tr>\n",
       "<tr><td>8      </td><td>182171.95904095902   </td><td>209450.39420289855</td><td>263880.6876061438 </td><td>216426.0           </td><td>236446.98648648648    </td><td>0.0               </td><td>153754.05472570908   </td><td>21.0             </td><td>286.0             </td><td>226465.8274336283   </td><td>182171.95904095902</td><td>182383.5220883534 </td><td>183201.27365208542</td><td>2005.0            </td><td>188146.7502726281   </td><td>0.0                 </td><td>184737.95170142702</td><td>147.0             </td><td>225928.18076923073   </td><td>186782.0            </td><td>3.0               </td><td>187738.31270358307  </td><td>182171.95904095902</td><td>998.0            </td><td>181982.57594936708 </td><td>9.0               </td><td>176473.2899159664  </td><td>185630.71806674334    </td><td>182171.95904095902</td><td>11.0              </td><td>0.0               </td><td>181235.93597560975</td><td>0.0               </td><td>736.0             </td><td>312352.66653056245</td><td>60.0             </td><td>210965.119205298    </td><td>182282.48766816143   </td><td>2005.0            </td><td>0.0                </td><td>348876.58744588745 </td><td>222601.05940594056 </td><td>185063.63879957132  </td><td>0.0               </td><td>167645.4123076923     </td><td>177.0             </td><td>256064.37787676242  </td><td>0.0               </td><td>85.0              </td><td>1142.0           </td><td>2006.0            </td><td>243875.54558028182  </td><td>301677.8909715284     </td><td>7.0              </td><td>1175.0            </td><td>243708.832            </td><td>305958.08769176033   </td><td>260380.61674771016     </td><td>182216.631         </td><td>1.0               </td><td>11924.0           </td><td>2006.0            </td><td>5.0               </td><td>185708.33940774488 </td><td>192391.8022670025 </td><td>4.0               </td><td>0.0               </td><td>2.0               </td><td>187523.8671023965   </td><td>2324.0            </td><td>0.0               </td><td>155487.09385614382   </td><td>1182.0            </td><td>3.0               </td><td>187595.7541966427 </td><td>188334.07174392935  </td><td>185776.46347031964  </td><td>1.0                </td><td>182525.73333333334  </td></tr>\n",
       "<tr><td>9      </td><td>182171.95904095902   </td><td>220137.0973044197 </td><td>174574.41216991964</td><td>141464.28231292518 </td><td>161782.77448994666    </td><td>0.0               </td><td>172512.37104060987   </td><td>0.0              </td><td>0.0               </td><td>150397.2807424594   </td><td>182171.95904095902</td><td>182383.5220883534 </td><td>183201.27365208542</td><td>1962.0            </td><td>188146.7502726281   </td><td>0.0                 </td><td>184737.95170142702</td><td>140.0             </td><td>182171.95904095902   </td><td>186782.0            </td><td>1.0               </td><td>187738.31270358307  </td><td>182171.95904095902</td><td>737.0            </td><td>181982.57594936708 </td><td>5.0               </td><td>176473.2899159664  </td><td>185630.71806674334    </td><td>182171.95904095902</td><td>4.0               </td><td>0.0               </td><td>181235.93597560975</td><td>0.0               </td><td>352.0             </td><td>141930.00455580864</td><td>20.0             </td><td>178321.97183098592  </td><td>182282.48766816143   </td><td>1962.0            </td><td>0.0                </td><td>144619.2755267423  </td><td>222601.05940594056 </td><td>185063.63879957132  </td><td>0.0               </td><td>167645.4123076923     </td><td>175.0             </td><td>155578.6188811189   </td><td>0.0               </td><td>70.59975669099757 </td><td>0.0              </td><td>1962.0            </td><td>133017.2480620155   </td><td>143540.98922651424    </td><td>9.0              </td><td>912.0             </td><td>141354.57177033494    </td><td>139811.59481037923   </td><td>177020.8800489596      </td><td>182216.631         </td><td>1.0               </td><td>12968.0           </td><td>2008.0            </td><td>6.0               </td><td>185708.33940774488 </td><td>192391.8022670025 </td><td>2.0               </td><td>0.0               </td><td>0.0               </td><td>187523.8671023965   </td><td>912.0             </td><td>176.0             </td><td>162189.7051282051    </td><td>912.0             </td><td>1.0               </td><td>187595.7541966427 </td><td>188334.07174392935  </td><td>185776.46347031964  </td><td>1.0                </td><td>182525.73333333334  </td></tr>\n",
       "</tbody>\n",
       "</table>"
      ]
     },
     "metadata": {},
     "output_type": "display_data"
    },
    {
     "name": "stdout",
     "output_type": "stream",
     "text": [
      "--------------------------------------------------------------------------------\n",
      "Imputed and encoded numeric validation data:\n",
      "Rows:459\n",
      "Cols:79\n",
      "\n",
      "\n"
     ]
    },
    {
     "data": {
      "text/html": [
       "<table>\n",
       "<thead>\n",
       "<tr><th>       </th><th>MiscFeature_Tencode  </th><th>LotShape_Tencode  </th><th>SaleType_Tencode  </th><th>HeatingQC_Tencode  </th><th>BsmtFinType1_Tencode  </th><th>3SsnPorch        </th><th>Exterior2nd_Tencode  </th><th>OpenPorchSF       </th><th>MasVnrArea       </th><th>Foundation_Tencode  </th><th>Alley_Tencode     </th><th>Street_Tencode    </th><th>Heating_Tencode   </th><th>GarageYrBlt       </th><th>GarageCond_Tencode  </th><th>BsmtHalfBath       </th><th>BsmtCond_Tencode  </th><th>WoodDeckSF        </th><th>FireplaceQu_Tencode  </th><th>CentralAir_Tencode  </th><th>FullBath          </th><th>Electrical_Tencode  </th><th>PoolQC_Tencode    </th><th>BsmtFinSF1        </th><th>LandSlope_Tencode  </th><th>OverallQual       </th><th>LotConfig_Tencode  </th><th>BsmtFinType2_Tencode  </th><th>Fence_Tencode     </th><th>TotRmsAbvGrd      </th><th>MiscVal           </th><th>RoofMatl_Tencode  </th><th>LowQualFinSF     </th><th>GarageArea        </th><th>BsmtQual_Tencode  </th><th>MSSubClass       </th><th>HouseStyle_Tencode  </th><th>LandContour_Tencode  </th><th>YearBuilt         </th><th>HalfBath           </th><th>ExterQual_Tencode  </th><th>RoofStyle_Tencode  </th><th>Functional_Tencode  </th><th>BsmtFinSF2       </th><th>BsmtExposure_Tencode  </th><th>BsmtUnfSF        </th><th>MasVnrType_Tencode  </th><th>PoolArea          </th><th>LotFrontage       </th><th>2ndFlrSF         </th><th>YearRemodAdd      </th><th>GarageType_Tencode  </th><th>Neighborhood_Tencode  </th><th>MoSold           </th><th>TotalBsmtSF       </th><th>GarageFinish_Tencode  </th><th>KitchenQual_Tencode  </th><th>SaleCondition_Tencode  </th><th>Utilities_Tencode     </th><th>KitchenAbvGr       </th><th>LotArea           </th><th>YrSold            </th><th>OverallCond      </th><th>ExterCond_Tencode  </th><th>MSZoning_Tencode  </th><th>BedroomAbvGr      </th><th>EnclosedPorch     </th><th>Fireplaces        </th><th>PavedDrive_Tencode  </th><th>GrLivArea        </th><th>ScreenPorch       </th><th>Exterior1st_Tencode  </th><th>1stFlrSF          </th><th>GarageCars        </th><th>BldgType_Tencode  </th><th>GarageQual_Tencode  </th><th>Condition1_Tencode  </th><th>BsmtFullBath      </th><th>Condition2_Tencode  </th></tr>\n",
       "</thead>\n",
       "<tbody>\n",
       "<tr><td>type   </td><td>real                 </td><td>real              </td><td>real              </td><td>real               </td><td>real                  </td><td>int              </td><td>real                 </td><td>int               </td><td>real             </td><td>real                </td><td>real              </td><td>real              </td><td>real              </td><td>real              </td><td>real                </td><td>int                </td><td>real              </td><td>int               </td><td>real                 </td><td>real                </td><td>int               </td><td>real                </td><td>real              </td><td>int               </td><td>real               </td><td>int               </td><td>real               </td><td>real                  </td><td>real              </td><td>int               </td><td>int               </td><td>real              </td><td>int              </td><td>int               </td><td>real              </td><td>int              </td><td>real                </td><td>real                 </td><td>int               </td><td>int                </td><td>real               </td><td>real               </td><td>real                </td><td>int              </td><td>real                  </td><td>int              </td><td>real                </td><td>int               </td><td>real              </td><td>int              </td><td>int               </td><td>real                </td><td>real                  </td><td>int              </td><td>int               </td><td>real                  </td><td>real                 </td><td>real                   </td><td>real                  </td><td>int                </td><td>int               </td><td>int               </td><td>int              </td><td>real               </td><td>real              </td><td>int               </td><td>int               </td><td>int               </td><td>real                </td><td>int              </td><td>int               </td><td>real                 </td><td>int               </td><td>int               </td><td>real              </td><td>real                </td><td>real                </td><td>int               </td><td>real                </td></tr>\n",
       "<tr><td>mins   </td><td>73479.02450980392    </td><td>163981.4191419142 </td><td>107734.02450980392</td><td>100679.02450980392 </td><td>146338.19117647054    </td><td>0.0              </td><td>106204.02450980392   </td><td>0.0               </td><td>0.0              </td><td>110363.31736694675  </td><td>134607.54723707662</td><td>95579.02450980392 </td><td>77729.02450980392 </td><td>1900.0            </td><td>118776.94117647059  </td><td>0.0                </td><td>78579.02450980392 </td><td>0.0               </td><td>133191.52450980392   </td><td>111601.52450980392  </td><td>0.0               </td><td>100143.52450980392  </td><td>178193.4967320261 </td><td>0.0               </td><td>175531.83179723503 </td><td>1.0               </td><td>165751.57330498463 </td><td>145091.52450980392    </td><td>133419.96200980392</td><td>2.0               </td><td>0.0               </td><td>175904.02450980392</td><td>0.0              </td><td>0.0               </td><td>134771.7517825312 </td><td>20.0             </td><td>122402.59593837534  </td><td>163075.56297134238   </td><td>1872.0            </td><td>0.0                </td><td>91042.14950980392  </td><td>139864.02450980392 </td><td>84954.02450980392   </td><td>0.0              </td><td>161376.63366336632    </td><td>0.0              </td><td>131576.52450980392  </td><td>0.0               </td><td>21.0              </td><td>0.0              </td><td>1950.0            </td><td>111434.07450980392  </td><td>112866.7168174962     </td><td>1.0              </td><td>0.0               </td><td>143948.79679144386    </td><td>105130.89950980392   </td><td>143816.52450980392     </td><td>178193.4967320261     </td><td>1.0                </td><td>1491.0            </td><td>2006.0            </td><td>1.0              </td><td>91754.02450980392  </td><td>118217.35784313723</td><td>0.0               </td><td>0.0               </td><td>0.0               </td><td>114840.96895424835  </td><td>334.0            </td><td>0.0               </td><td>96429.02450980392    </td><td>334.0             </td><td>0.0               </td><td>128987.56617647059</td><td>134853.20367647058  </td><td>150223.0311764706   </td><td>0.0               </td><td>84954.02450980392   </td></tr>\n",
       "<tr><td>mean   </td><td>177409.66351972884   </td><td>176786.22238241704</td><td>177239.63702422145</td><td>180663.6615169379  </td><td>180031.30962236744    </td><td>3.30718954248366 </td><td>179728.60882139349   </td><td>50.446623093681914</td><td>96.68340611353712</td><td>179041.90369302404  </td><td>176164.9969256838 </td><td>178225.25931265755</td><td>178371.04867785895</td><td>1977.9953051643192</td><td>184432.0126553889   </td><td>0.05228758169934641</td><td>180413.2355397497 </td><td>101.15904139433552</td><td>194587.7731541999    </td><td>179115.18492887347  </td><td>1.5446623093681917</td><td>179083.62772865137  </td><td>178198.69396030012</td><td>439.36601307189545</td><td>177815.9926203597  </td><td>6.0               </td><td>178163.26637404418 </td><td>180587.69974155238    </td><td>173941.1787702735 </td><td>6.529411764705882 </td><td>51.78649237472767 </td><td>177969.71943483275</td><td>5.668845315904139</td><td>463.1917211328976 </td><td>179069.59942970652</td><td>56.48148148148148</td><td>177648.76674783204  </td><td>177854.22806185653   </td><td>1969.0196078431372</td><td>0.38562091503267976</td><td>174940.2994916485  </td><td>177381.1458157119  </td><td>178425.73264556366  </td><td>57.23529411764706</td><td>178366.110436157      </td><td>548.1590413943355</td><td>176108.20460862629  </td><td>1.411764705882353 </td><td>68.85751978891821 </td><td>358.3442265795207</td><td>1984.2701525054467</td><td>185134.53079371178  </td><td>178193.49673202613    </td><td>6.233115468409586</td><td>1044.7603485838779</td><td>181122.03431372548    </td><td>177298.2844312017    </td><td>177335.48292323467     </td><td>178193.49673202608    </td><td>1.0457516339869282 </td><td>10273.808278867102</td><td>2007.7886710239652</td><td>5.557734204793029</td><td>178484.55631381093 </td><td>179328.32668845312</td><td>2.8562091503267975</td><td>23.47276688453159 </td><td>0.5969498910675382</td><td>179002.9605814003   </td><td>1506.004357298475</td><td>15.710239651416122</td><td>179651.10523303002   </td><td>1141.9912854030501</td><td>1.710239651416122 </td><td>178649.14910504507</td><td>184195.2038275876   </td><td>178617.62590029472  </td><td>0.4226579520697168</td><td>178197.18104147978  </td></tr>\n",
       "<tr><td>maxs   </td><td>188229.02450980392   </td><td>257372.27450980392</td><td>255001.6042717087 </td><td>211491.75330396474 </td><td>224699.7863950498     </td><td>407.0            </td><td>237481.8022875817    </td><td>547.0             </td><td>1600.0           </td><td>222366.88205128204  </td><td>180974.4445098039 </td><td>178405.7096069869 </td><td>179414.41573033712</td><td>2009.0            </td><td>187300.52567237162  </td><td>1.0                </td><td>204324.73418722322</td><td>857.0             </td><td>345181.5245098039    </td><td>184861.0283687943   </td><td>3.0               </td><td>184788.65617433414  </td><td>180579.02450980392</td><td>1880.0            </td><td>219485.84269162212 </td><td>10.0              </td><td>221371.6687405731  </td><td>194068.52450980392    </td><td>181956.919246646  </td><td>12.0              </td><td>8300.0            </td><td>296434.0245098039 </td><td>572.0            </td><td>1248.0            </td><td>287410.74022408965</td><td>190.0            </td><td>221634.02450980392  </td><td>252389.9995098039    </td><td>2009.0            </td><td>2.0                </td><td>311103.9129713424  </td><td>205162.1274859944  </td><td>181312.14950980392  </td><td>1474.0           </td><td>252970.21398348815    </td><td>2336.0           </td><td>243111.468058191    </td><td>648.0             </td><td>182.0             </td><td>1611.0           </td><td>2009.0            </td><td>243247.17284313726  </td><td>288359.0245098039     </td><td>12.0             </td><td>3200.0            </td><td>223156.8495098039     </td><td>307728.63562091504   </td><td>255001.6042717087      </td><td>178193.4967320261     </td><td>2.0                </td><td>215245.0          </td><td>2010.0            </td><td>9.0              </td><td>197862.35784313726 </td><td>219311.6970098039 </td><td>6.0               </td><td>301.0             </td><td>3.0               </td><td>184063.06872037915  </td><td>3608.0           </td><td>480.0             </td><td>230256.21200980392   </td><td>3228.0            </td><td>4.0               </td><td>183943.1995098039 </td><td>282791.5245098039   </td><td>311479.0245098039   </td><td>2.0               </td><td>302979.0245098039   </td></tr>\n",
       "<tr><td>sigma  </td><td>5663.060039991695    </td><td>21170.422649021315</td><td>25705.648619049694</td><td>31183.876623648637 </td><td>27951.821767244168    </td><td>28.18457901138756</td><td>26639.054892573466   </td><td>72.74780631554772 </td><td>183.006592418819 </td><td>37636.63649998418   </td><td>9343.377742370945 </td><td>3866.0185855881623</td><td>7482.963820995204 </td><td>23.835406794370403</td><td>11807.813469454739  </td><td>0.2228492452574714 </td><td>13346.550640278583</td><td>136.04280560281128</td><td>26261.653007678007   </td><td>19717.249202290554  </td><td>0.5445931590280559</td><td>17731.970597652486  </td><td>111.3469012372631 </td><td>431.4241433973325 </td><td>9612.485004032442  </td><td>1.4417359744722111</td><td>11574.452561519602 </td><td>6894.848900014342     </td><td>10548.08650865389 </td><td>1.7068785455857545</td><td>449.54109321577573</td><td>12445.872412899753</td><td>46.66085163497713</td><td>221.95498544637036</td><td>44973.30052212846 </td><td>42.51618219006454</td><td>21371.858060255647  </td><td>12704.546441754977   </td><td>30.823515930920244</td><td>0.5091844194507408 </td><td>46704.676972640176 </td><td>13516.296484902436 </td><td>8139.874204543359   </td><td>185.2400106520329</td><td>27626.16956481009     </td><td>436.0358278966987</td><td>27404.304553567163  </td><td>30.246049815005012</td><td>20.333695767270118</td><td>444.5856999141146</td><td>20.739310451691143</td><td>30435.66812388826   </td><td>47446.35307377432     </td><td>2.762054423699208</td><td>412.08118513284444</td><td>32859.958768536344    </td><td>48579.93227209306    </td><td>25636.556448480504     </td><td>2.5135516264537697e-11</td><td>0.20917396118996426</td><td>11072.988785723224</td><td>1.3530662972075345</td><td>1.164635411186286</td><td>12461.390436783056 </td><td>22954.507567875302</td><td>0.8391483048651234</td><td>61.321018173531264</td><td>0.6515613257699316</td><td>17370.731330504437  </td><td>537.1049436609106</td><td>59.127913702103534</td><td>27697.042657464834   </td><td>373.0166882400161 </td><td>0.7712943151662266</td><td>11313.686291071554</td><td>10759.770112055132  </td><td>12058.531723299979  </td><td>0.5161250426046552</td><td>7675.71672468966    </td></tr>\n",
       "<tr><td>zeros  </td><td>0                    </td><td>0                 </td><td>0                 </td><td>0                  </td><td>0                     </td><td>451              </td><td>0                    </td><td>196               </td><td>291              </td><td>0                   </td><td>0                 </td><td>0                 </td><td>0                 </td><td>0                 </td><td>0                   </td><td>435                </td><td>0                 </td><td>238               </td><td>0                    </td><td>0                   </td><td>3                 </td><td>0                   </td><td>0                 </td><td>141               </td><td>0                  </td><td>0                 </td><td>0                  </td><td>0                     </td><td>0                 </td><td>0                 </td><td>439               </td><td>0                 </td><td>450              </td><td>33                </td><td>0                 </td><td>0                </td><td>0                   </td><td>0                    </td><td>0                 </td><td>287                </td><td>0                  </td><td>0                  </td><td>0                   </td><td>399              </td><td>0                     </td><td>40               </td><td>0                   </td><td>458               </td><td>0                 </td><td>257              </td><td>0                 </td><td>0                   </td><td>0                     </td><td>0                </td><td>12                </td><td>0                     </td><td>0                    </td><td>0                      </td><td>0                     </td><td>0                  </td><td>0                 </td><td>0                 </td><td>0                </td><td>0                  </td><td>0                 </td><td>2                 </td><td>385               </td><td>224               </td><td>0                   </td><td>0                </td><td>423               </td><td>0                    </td><td>0                 </td><td>33                </td><td>0                 </td><td>0                   </td><td>0                   </td><td>270               </td><td>0                   </td></tr>\n",
       "<tr><td>missing</td><td>0                    </td><td>0                 </td><td>0                 </td><td>0                  </td><td>0                     </td><td>0                </td><td>0                    </td><td>0                 </td><td>0                </td><td>0                   </td><td>0                 </td><td>0                 </td><td>0                 </td><td>0                 </td><td>0                   </td><td>0                  </td><td>0                 </td><td>0                 </td><td>0                    </td><td>0                   </td><td>0                 </td><td>0                   </td><td>0                 </td><td>0                 </td><td>0                  </td><td>0                 </td><td>0                  </td><td>0                     </td><td>0                 </td><td>0                 </td><td>0                 </td><td>0                 </td><td>0                </td><td>0                 </td><td>0                 </td><td>0                </td><td>0                   </td><td>0                    </td><td>0                 </td><td>0                  </td><td>0                  </td><td>0                  </td><td>0                   </td><td>0                </td><td>0                     </td><td>0                </td><td>0                   </td><td>0                 </td><td>0                 </td><td>0                </td><td>0                 </td><td>0                   </td><td>0                     </td><td>0                </td><td>0                 </td><td>0                     </td><td>0                    </td><td>0                      </td><td>0                     </td><td>0                  </td><td>0                 </td><td>0                 </td><td>0                </td><td>0                  </td><td>0                 </td><td>0                 </td><td>0                 </td><td>0                 </td><td>0                   </td><td>0                </td><td>0                 </td><td>0                    </td><td>0                 </td><td>0                 </td><td>0                 </td><td>0                   </td><td>0                   </td><td>0                 </td><td>0                   </td></tr>\n",
       "<tr><td>0      </td><td>178193.4967320261    </td><td>194850.58566088302</td><td>170822.7626262626 </td><td>158961.70308123247 </td><td>169309.44117647054    </td><td>0.0              </td><td>180267.35784313726   </td><td>35.0              </td><td>0.0              </td><td>144486.10784313726  </td><td>178193.4967320261 </td><td>178405.7096069869 </td><td>179414.41573033712</td><td>1998.0            </td><td>187300.52567237162  </td><td>0.0                </td><td>204324.73418722322</td><td>0.0               </td><td>219907.18575980392   </td><td>184861.0283687943   </td><td>1.0               </td><td>184788.65617433414  </td><td>178193.4967320261 </td><td>216.0             </td><td>175531.83179723503 </td><td>7.0               </td><td>165751.57330498463 </td><td>182592.86046511628    </td><td>178193.4967320261 </td><td>7.0               </td><td>0.0               </td><td>176671.8111111111 </td><td>0.0              </td><td>642.0             </td><td>138313.57142857142</td><td>70.0             </td><td>203633.455628685    </td><td>175715.7828162291    </td><td>1915.0            </td><td>0.0                </td><td>143747.87889273354 </td><td>171401.71038251367 </td><td>179857.76346604215  </td><td>0.0              </td><td>161376.63366336632    </td><td>540.0            </td><td>157482.0            </td><td>0.0               </td><td>60.0              </td><td>756.0            </td><td>1970.0            </td><td>142532.16792065662  </td><td>216008.84593837534    </td><td>2.0              </td><td>756.0             </td><td>143948.79679144386    </td><td>211880.81318681315   </td><td>147087.25059676042     </td><td>178193.4967320261     </td><td>1.0                </td><td>9550.0            </td><td>2006.0            </td><td>5.0              </td><td>180398.05693069307 </td><td>187920.61064425771</td><td>3.0               </td><td>272.0             </td><td>1.0               </td><td>184063.06872037915  </td><td>1717.0           </td><td>0.0               </td><td>154595.81798806478   </td><td>961.0             </td><td>3.0               </td><td>181805.66321243523</td><td>185601.24938271602  </td><td>181573.27604166663  </td><td>1.0               </td><td>178218.27472527474  </td></tr>\n",
       "<tr><td>1      </td><td>163465.69117647054   </td><td>194850.58566088302</td><td>170822.7626262626 </td><td>211491.75330396474 </td><td>169309.44117647054    </td><td>0.0              </td><td>169568.25527903467   </td><td>204.0             </td><td>240.0            </td><td>148549.72906403942  </td><td>178193.4967320261 </td><td>178405.7096069869 </td><td>179414.41573033712</td><td>1973.0            </td><td>187300.52567237162  </td><td>0.0                </td><td>181115.23         </td><td>235.0             </td><td>205118.42900418595   </td><td>184861.0283687943   </td><td>2.0               </td><td>184788.65617433414  </td><td>178193.4967320261 </td><td>859.0             </td><td>175531.83179723503 </td><td>7.0               </td><td>165751.57330498463 </td><td>156634.52450980392    </td><td>178193.4967320261 </td><td>7.0               </td><td>350.0             </td><td>176671.8111111111 </td><td>0.0              </td><td>484.0             </td><td>206633.03141361254</td><td>60.0             </td><td>203633.455628685    </td><td>175715.7828162291    </td><td>1973.0            </td><td>1.0                </td><td>143747.87889273354 </td><td>171401.71038251367 </td><td>179857.76346604215  </td><td>32.0             </td><td>199413.65506535943    </td><td>216.0            </td><td>243111.468058191    </td><td>0.0               </td><td>68.85751978891821 </td><td>983.0            </td><td>1973.0            </td><td>201051.3968871595   </td><td>184610.14950980392    </td><td>11.0             </td><td>1107.0            </td><td>201271.56721053383    </td><td>140285.62820512822   </td><td>171302.3622047244      </td><td>178193.4967320261     </td><td>1.0                </td><td>10382.0           </td><td>2009.0            </td><td>6.0              </td><td>180398.05693069307 </td><td>187920.61064425771</td><td>3.0               </td><td>228.0             </td><td>2.0               </td><td>184063.06872037915  </td><td>2090.0           </td><td>0.0               </td><td>167128.41844919784   </td><td>1107.0            </td><td>2.0               </td><td>181805.66321243523</td><td>185601.24938271602  </td><td>197366.52450980392  </td><td>1.0               </td><td>178218.27472527474  </td></tr>\n",
       "<tr><td>2      </td><td>178193.4967320261    </td><td>163981.4191419142 </td><td>170822.7626262626 </td><td>211491.75330396474 </td><td>224699.7863950498     </td><td>0.0              </td><td>151828.55059676044   </td><td>4.0               </td><td>0.0              </td><td>144486.10784313726  </td><td>178193.4967320261 </td><td>178405.7096069869 </td><td>179414.41573033712</td><td>1939.0            </td><td>187300.52567237162  </td><td>0.0                </td><td>181115.23         </td><td>0.0               </td><td>205118.42900418595   </td><td>184861.0283687943   </td><td>1.0               </td><td>184788.65617433414  </td><td>178193.4967320261 </td><td>851.0             </td><td>175531.83179723503 </td><td>5.0               </td><td>165751.57330498463 </td><td>182592.86046511628    </td><td>178193.4967320261 </td><td>5.0               </td><td>0.0               </td><td>176671.8111111111 </td><td>0.0              </td><td>205.0             </td><td>138313.57142857142</td><td>190.0            </td><td>122402.59593837534  </td><td>175715.7828162291    </td><td>1939.0            </td><td>0.0                </td><td>143747.87889273354 </td><td>171401.71038251367 </td><td>179857.76346604215  </td><td>0.0              </td><td>161376.63366336632    </td><td>140.0            </td><td>157482.0            </td><td>0.0               </td><td>50.0              </td><td>0.0              </td><td>1950.0            </td><td>201051.3968871595   </td><td>129965.77450980392    </td><td>1.0              </td><td>991.0             </td><td>201271.56721053383    </td><td>140285.62820512822   </td><td>171302.3622047244      </td><td>178193.4967320261     </td><td>2.0                </td><td>7420.0            </td><td>2008.0            </td><td>6.0              </td><td>180398.05693069307 </td><td>187920.61064425771</td><td>2.0               </td><td>0.0               </td><td>2.0               </td><td>184063.06872037915  </td><td>1077.0           </td><td>0.0               </td><td>151733.02861939298   </td><td>1077.0            </td><td>1.0               </td><td>128987.56617647059</td><td>194951.10784313726  </td><td>152316.52450980392  </td><td>1.0               </td><td>127029.02450980392  </td></tr>\n",
       "<tr><td>3      </td><td>178193.4967320261    </td><td>163981.4191419142 </td><td>170822.7626262626 </td><td>211491.75330396474 </td><td>168970.1659826721     </td><td>0.0              </td><td>163767.73719637108   </td><td>112.0             </td><td>0.0              </td><td>144486.10784313726  </td><td>178193.4967320261 </td><td>178405.7096069869 </td><td>179414.41573033712</td><td>1991.0            </td><td>187300.52567237162  </td><td>0.0                </td><td>181115.23         </td><td>48.0              </td><td>178193.4967320261    </td><td>184861.0283687943   </td><td>1.0               </td><td>135344.4530812325   </td><td>178193.4967320261 </td><td>0.0               </td><td>175531.83179723503 </td><td>7.0               </td><td>165751.57330498463 </td><td>182592.86046511628    </td><td>181956.919246646  </td><td>5.0               </td><td>0.0               </td><td>176671.8111111111 </td><td>0.0              </td><td>576.0             </td><td>138313.57142857142</td><td>45.0             </td><td>122402.59593837534  </td><td>175715.7828162291    </td><td>1929.0            </td><td>0.0                </td><td>143747.87889273354 </td><td>171401.71038251367 </td><td>179857.76346604215  </td><td>0.0              </td><td>161376.63366336632    </td><td>832.0            </td><td>157482.0            </td><td>0.0               </td><td>51.0              </td><td>0.0              </td><td>2001.0            </td><td>142532.16792065662  </td><td>129965.77450980392    </td><td>7.0              </td><td>832.0             </td><td>143948.79679144386    </td><td>140285.62820512822   </td><td>171302.3622047244      </td><td>178193.4967320261     </td><td>1.0                </td><td>6120.0            </td><td>2007.0            </td><td>8.0              </td><td>180398.05693069307 </td><td>132608.82714138282</td><td>2.0               </td><td>0.0               </td><td>0.0               </td><td>184063.06872037915  </td><td>854.0            </td><td>0.0               </td><td>154595.81798806478   </td><td>854.0             </td><td>2.0               </td><td>181805.66321243523</td><td>185601.24938271602  </td><td>181573.27604166663  </td><td>0.0               </td><td>178218.27472527474  </td></tr>\n",
       "<tr><td>4      </td><td>163465.69117647054   </td><td>194850.58566088302</td><td>170822.7626262626 </td><td>211491.75330396474 </td><td>169309.44117647054    </td><td>0.0              </td><td>163767.73719637108   </td><td>0.0               </td><td>180.0            </td><td>148549.72906403942  </td><td>178193.4967320261 </td><td>178405.7096069869 </td><td>179414.41573033712</td><td>1970.0            </td><td>187300.52567237162  </td><td>0.0                </td><td>181115.23         </td><td>0.0               </td><td>205118.42900418595   </td><td>184861.0283687943   </td><td>1.0               </td><td>184788.65617433414  </td><td>178193.4967320261 </td><td>578.0             </td><td>175531.83179723503 </td><td>6.0               </td><td>221371.6687405731  </td><td>182592.86046511628    </td><td>178193.4967320261 </td><td>5.0               </td><td>700.0             </td><td>176671.8111111111 </td><td>0.0              </td><td>480.0             </td><td>138313.57142857142</td><td>20.0             </td><td>170914.57205240175  </td><td>175715.7828162291    </td><td>1970.0            </td><td>0.0                </td><td>143747.87889273354 </td><td>171401.71038251367 </td><td>179857.76346604215  </td><td>0.0              </td><td>161376.63366336632    </td><td>426.0            </td><td>203114.2504640024   </td><td>0.0               </td><td>68.85751978891821 </td><td>0.0              </td><td>1970.0            </td><td>201051.3968871595   </td><td>152080.32258672698    </td><td>3.0              </td><td>1004.0            </td><td>223156.8495098039     </td><td>140285.62820512822   </td><td>171302.3622047244      </td><td>178193.4967320261     </td><td>1.0                </td><td>11241.0           </td><td>2010.0            </td><td>7.0              </td><td>180398.05693069307 </td><td>187920.61064425771</td><td>2.0               </td><td>0.0               </td><td>1.0               </td><td>184063.06872037915  </td><td>1004.0           </td><td>0.0               </td><td>154595.81798806478   </td><td>1004.0            </td><td>2.0               </td><td>181805.66321243523</td><td>185601.24938271602  </td><td>181573.27604166663  </td><td>1.0               </td><td>178218.27472527474  </td></tr>\n",
       "<tr><td>5      </td><td>178193.4967320261    </td><td>163981.4191419142 </td><td>170822.7626262626 </td><td>211491.75330396474 </td><td>224699.7863950498     </td><td>0.0              </td><td>209302.39072847684   </td><td>102.0             </td><td>0.0              </td><td>222366.88205128204  </td><td>178193.4967320261 </td><td>178405.7096069869 </td><td>179414.41573033712</td><td>2004.0            </td><td>187300.52567237162  </td><td>0.0                </td><td>181115.23         </td><td>0.0               </td><td>178193.4967320261    </td><td>184861.0283687943   </td><td>1.0               </td><td>184788.65617433414  </td><td>178193.4967320261 </td><td>646.0             </td><td>175531.83179723503 </td><td>5.0               </td><td>177919.81360946747 </td><td>182592.86046511628    </td><td>178193.4967320261 </td><td>6.0               </td><td>0.0               </td><td>176671.8111111111 </td><td>0.0              </td><td>576.0             </td><td>138313.57142857142</td><td>20.0             </td><td>170914.57205240175  </td><td>175715.7828162291    </td><td>2004.0            </td><td>1.0                </td><td>143747.87889273354 </td><td>171401.71038251367 </td><td>179857.76346604215  </td><td>0.0              </td><td>161376.63366336632    </td><td>468.0            </td><td>157482.0            </td><td>0.0               </td><td>66.0              </td><td>0.0              </td><td>2004.0            </td><td>142532.16792065662  </td><td>189097.7776348039     </td><td>6.0              </td><td>1114.0            </td><td>143948.79679144386    </td><td>211880.81318681315   </td><td>171302.3622047244      </td><td>178193.4967320261     </td><td>1.0                </td><td>13695.0           </td><td>2008.0            </td><td>5.0              </td><td>180398.05693069307 </td><td>187920.61064425771</td><td>3.0               </td><td>0.0               </td><td>0.0               </td><td>184063.06872037915  </td><td>1114.0           </td><td>0.0               </td><td>206602.9363057325    </td><td>1114.0            </td><td>2.0               </td><td>181805.66321243523</td><td>185601.24938271602  </td><td>150829.02450980392  </td><td>1.0               </td><td>178218.27472527474  </td></tr>\n",
       "<tr><td>6      </td><td>178193.4967320261    </td><td>163981.4191419142 </td><td>170822.7626262626 </td><td>211491.75330396474 </td><td>168970.1659826721     </td><td>0.0              </td><td>163767.73719637108   </td><td>0.0               </td><td>0.0              </td><td>222366.88205128204  </td><td>134607.54723707662</td><td>178405.7096069869 </td><td>179414.41573033712</td><td>1930.0            </td><td>187300.52567237162  </td><td>0.0                </td><td>181115.23         </td><td>0.0               </td><td>219907.18575980392   </td><td>184861.0283687943   </td><td>1.0               </td><td>100143.52450980392  </td><td>178193.4967320261 </td><td>0.0               </td><td>175531.83179723503 </td><td>7.0               </td><td>177919.81360946747 </td><td>182592.86046511628    </td><td>181956.919246646  </td><td>6.0               </td><td>0.0               </td><td>176671.8111111111 </td><td>0.0              </td><td>280.0             </td><td>138313.57142857142</td><td>45.0             </td><td>122402.59593837534  </td><td>163075.56297134238   </td><td>1930.0            </td><td>0.0                </td><td>143747.87889273354 </td><td>171401.71038251367 </td><td>179857.76346604215  </td><td>0.0              </td><td>161376.63366336632    </td><td>637.0            </td><td>157482.0            </td><td>0.0               </td><td>57.0              </td><td>0.0              </td><td>1950.0            </td><td>201051.3968871595   </td><td>112866.7168174962     </td><td>6.0              </td><td>637.0             </td><td>143948.79679144386    </td><td>211880.81318681315   </td><td>171302.3622047244      </td><td>178193.4967320261     </td><td>1.0                </td><td>7449.0            </td><td>2007.0            </td><td>7.0              </td><td>180398.05693069307 </td><td>132608.82714138282</td><td>3.0               </td><td>205.0             </td><td>1.0               </td><td>114840.96895424835  </td><td>1108.0           </td><td>0.0               </td><td>154595.81798806478   </td><td>1108.0            </td><td>1.0               </td><td>181805.66321243523</td><td>185601.24938271602  </td><td>181573.27604166663  </td><td>0.0               </td><td>178218.27472527474  </td></tr>\n",
       "<tr><td>7      </td><td>178193.4967320261    </td><td>194850.58566088302</td><td>170822.7626262626 </td><td>127694.14950980392 </td><td>168970.1659826721     </td><td>0.0              </td><td>151828.55059676044   </td><td>0.0               </td><td>0.0              </td><td>144486.10784313726  </td><td>178193.4967320261 </td><td>178405.7096069869 </td><td>179414.41573033712</td><td>1920.0            </td><td>187300.52567237162  </td><td>0.0                </td><td>181115.23         </td><td>49.0              </td><td>178193.4967320261    </td><td>111601.52450980392  </td><td>1.0               </td><td>184788.65617433414  </td><td>178193.4967320261 </td><td>0.0               </td><td>175531.83179723503 </td><td>4.0               </td><td>177919.81360946747 </td><td>182592.86046511628    </td><td>178193.4967320261 </td><td>4.0               </td><td>0.0               </td><td>176671.8111111111 </td><td>0.0              </td><td>240.0             </td><td>138313.57142857142</td><td>30.0             </td><td>170914.57205240175  </td><td>175715.7828162291    </td><td>1927.0            </td><td>0.0                </td><td>143747.87889273354 </td><td>171401.71038251367 </td><td>179857.76346604215  </td><td>0.0              </td><td>161376.63366336632    </td><td>520.0            </td><td>157482.0            </td><td>0.0               </td><td>60.0              </td><td>0.0              </td><td>1950.0            </td><td>142532.16792065662  </td><td>129965.77450980392    </td><td>5.0              </td><td>520.0             </td><td>143948.79679144386    </td><td>105130.89950980392   </td><td>171302.3622047244      </td><td>178193.4967320261     </td><td>1.0                </td><td>6324.0            </td><td>2008.0            </td><td>6.0              </td><td>180398.05693069307 </td><td>132608.82714138282</td><td>1.0               </td><td>87.0              </td><td>0.0               </td><td>184063.06872037915  </td><td>520.0            </td><td>0.0               </td><td>151733.02861939298   </td><td>520.0             </td><td>1.0               </td><td>181805.66321243523</td><td>134853.20367647058  </td><td>150223.0311764706   </td><td>0.0               </td><td>84954.02450980392   </td></tr>\n",
       "<tr><td>8      </td><td>178193.4967320261    </td><td>194850.58566088302</td><td>170822.7626262626 </td><td>158961.70308123247 </td><td>168970.1659826721     </td><td>0.0              </td><td>169568.25527903467   </td><td>65.0              </td><td>0.0              </td><td>148549.72906403942  </td><td>178193.4967320261 </td><td>178405.7096069869 </td><td>179414.41573033712</td><td>1966.0            </td><td>187300.52567237162  </td><td>0.0                </td><td>181115.23         </td><td>0.0               </td><td>178193.4967320261    </td><td>184861.0283687943   </td><td>1.0               </td><td>184788.65617433414  </td><td>178193.4967320261 </td><td>0.0               </td><td>175531.83179723503 </td><td>5.0               </td><td>221371.6687405731  </td><td>182592.86046511628    </td><td>151206.9049445865 </td><td>6.0               </td><td>0.0               </td><td>176671.8111111111 </td><td>0.0              </td><td>271.0             </td><td>138313.57142857142</td><td>20.0             </td><td>170914.57205240175  </td><td>175715.7828162291    </td><td>1966.0            </td><td>1.0                </td><td>143747.87889273354 </td><td>171401.71038251367 </td><td>179857.76346604215  </td><td>0.0              </td><td>161376.63366336632    </td><td>1228.0           </td><td>157482.0            </td><td>0.0               </td><td>68.85751978891821 </td><td>0.0              </td><td>2006.0            </td><td>201051.3968871595   </td><td>143162.40700980392    </td><td>6.0              </td><td>1228.0            </td><td>143948.79679144386    </td><td>211880.81318681315   </td><td>171302.3622047244      </td><td>178193.4967320261     </td><td>1.0                </td><td>8544.0            </td><td>2008.0            </td><td>6.0              </td><td>180398.05693069307 </td><td>187920.61064425771</td><td>3.0               </td><td>0.0               </td><td>0.0               </td><td>184063.06872037915  </td><td>1228.0           </td><td>0.0               </td><td>167128.41844919784   </td><td>1228.0            </td><td>1.0               </td><td>181805.66321243523</td><td>185601.24938271602  </td><td>181573.27604166663  </td><td>0.0               </td><td>178218.27472527474  </td></tr>\n",
       "<tr><td>9      </td><td>178193.4967320261    </td><td>163981.4191419142 </td><td>170822.7626262626 </td><td>211491.75330396474 </td><td>168970.1659826721     </td><td>0.0              </td><td>209302.39072847684   </td><td>64.0              </td><td>0.0              </td><td>222366.88205128204  </td><td>178193.4967320261 </td><td>178405.7096069869 </td><td>179414.41573033712</td><td>1995.0            </td><td>187300.52567237162  </td><td>0.0                </td><td>181115.23         </td><td>392.0             </td><td>178193.4967320261    </td><td>184861.0283687943   </td><td>1.0               </td><td>184788.65617433414  </td><td>178193.4967320261 </td><td>0.0               </td><td>175531.83179723503 </td><td>5.0               </td><td>165751.57330498463 </td><td>182592.86046511628    </td><td>178193.4967320261 </td><td>6.0               </td><td>0.0               </td><td>176671.8111111111 </td><td>0.0              </td><td>672.0             </td><td>206633.03141361254</td><td>20.0             </td><td>170914.57205240175  </td><td>175715.7828162291    </td><td>1994.0            </td><td>1.0                </td><td>143747.87889273354 </td><td>171401.71038251367 </td><td>179857.76346604215  </td><td>0.0              </td><td>161376.63366336632    </td><td>1097.0           </td><td>157482.0            </td><td>0.0               </td><td>112.0             </td><td>0.0              </td><td>1995.0            </td><td>201051.3968871595   </td><td>190019.77971813726    </td><td>6.0              </td><td>1097.0            </td><td>143948.79679144386    </td><td>140285.62820512822   </td><td>171302.3622047244      </td><td>178193.4967320261     </td><td>1.0                </td><td>10859.0           </td><td>2009.0            </td><td>5.0              </td><td>180398.05693069307 </td><td>187920.61064425771</td><td>3.0               </td><td>0.0               </td><td>0.0               </td><td>184063.06872037915  </td><td>1097.0           </td><td>0.0               </td><td>206602.9363057325    </td><td>1097.0            </td><td>2.0               </td><td>181805.66321243523</td><td>185601.24938271602  </td><td>181573.27604166663  </td><td>0.0               </td><td>178218.27472527474  </td></tr>\n",
       "</tbody>\n",
       "</table>"
      ]
     },
     "metadata": {},
     "output_type": "display_data"
    },
    {
     "name": "stdout",
     "output_type": "stream",
     "text": [
      "--------------------------------------------------------------------------------\n",
      "Imputed and encoded numeric test data:\n",
      "Rows:1459\n",
      "Cols:79\n",
      "\n",
      "\n"
     ]
    },
    {
     "data": {
      "text/html": [
       "<table>\n",
       "<thead>\n",
       "<tr><th>       </th><th>MiscFeature_Tencode  </th><th>LotShape_Tencode  </th><th>SaleType_Tencode  </th><th>HeatingQC_Tencode  </th><th>BsmtFinType1_Tencode  </th><th>3SsnPorch        </th><th>Exterior2nd_Tencode  </th><th>OpenPorchSF      </th><th>MasVnrArea        </th><th>Foundation_Tencode  </th><th>Alley_Tencode     </th><th>Street_Tencode    </th><th>Heating_Tencode   </th><th>GarageYrBlt       </th><th>GarageCond_Tencode  </th><th>BsmtHalfBath       </th><th>BsmtCond_Tencode  </th><th>WoodDeckSF        </th><th>FireplaceQu_Tencode  </th><th>CentralAir_Tencode  </th><th>FullBath          </th><th>Electrical_Tencode  </th><th>PoolQC_Tencode       </th><th>BsmtFinSF1        </th><th>LandSlope_Tencode  </th><th>OverallQual       </th><th>LotConfig_Tencode  </th><th>BsmtFinType2_Tencode  </th><th>Fence_Tencode     </th><th>TotRmsAbvGrd      </th><th>MiscVal          </th><th>RoofMatl_Tencode  </th><th>LowQualFinSF      </th><th>GarageArea        </th><th>BsmtQual_Tencode  </th><th>MSSubClass       </th><th>HouseStyle_Tencode  </th><th>LandContour_Tencode  </th><th>YearBuilt        </th><th>HalfBath          </th><th>ExterQual_Tencode  </th><th>RoofStyle_Tencode  </th><th>Functional_Tencode  </th><th>BsmtFinSF2        </th><th>BsmtExposure_Tencode  </th><th>BsmtUnfSF         </th><th>MasVnrType_Tencode  </th><th>PoolArea          </th><th>LotFrontage       </th><th>2ndFlrSF         </th><th>YearRemodAdd      </th><th>GarageType_Tencode  </th><th>Neighborhood_Tencode  </th><th>MoSold           </th><th>TotalBsmtSF       </th><th>GarageFinish_Tencode  </th><th>KitchenQual_Tencode  </th><th>SaleCondition_Tencode  </th><th>Utilities_Tencode    </th><th>KitchenAbvGr       </th><th>LotArea          </th><th>YrSold            </th><th>OverallCond       </th><th>ExterCond_Tencode  </th><th>MSZoning_Tencode  </th><th>BedroomAbvGr      </th><th>EnclosedPorch    </th><th>Fireplaces        </th><th>PavedDrive_Tencode  </th><th>GrLivArea         </th><th>ScreenPorch       </th><th>Exterior1st_Tencode  </th><th>1stFlrSF         </th><th>GarageCars        </th><th>BldgType_Tencode  </th><th>GarageQual_Tencode  </th><th>Condition1_Tencode  </th><th>BsmtFullBath      </th><th>Condition2_Tencode  </th></tr>\n",
       "</thead>\n",
       "<tbody>\n",
       "<tr><td>type   </td><td>real                 </td><td>real              </td><td>real              </td><td>real               </td><td>real                  </td><td>int              </td><td>real                 </td><td>int              </td><td>real              </td><td>real                </td><td>real              </td><td>real              </td><td>real              </td><td>real              </td><td>real                </td><td>real               </td><td>real              </td><td>int               </td><td>real                 </td><td>real                </td><td>int               </td><td>real                </td><td>real                 </td><td>real              </td><td>real               </td><td>int               </td><td>real               </td><td>real                  </td><td>real              </td><td>int               </td><td>int              </td><td>real              </td><td>int               </td><td>real              </td><td>real              </td><td>int              </td><td>real                </td><td>real                 </td><td>int              </td><td>int               </td><td>real               </td><td>real               </td><td>real                </td><td>real              </td><td>real                  </td><td>real              </td><td>real                </td><td>int               </td><td>real              </td><td>int              </td><td>int               </td><td>real                </td><td>real                  </td><td>int              </td><td>real              </td><td>real                  </td><td>real                 </td><td>real                   </td><td>real                 </td><td>int                </td><td>int              </td><td>int               </td><td>int               </td><td>real               </td><td>real              </td><td>int               </td><td>int              </td><td>int               </td><td>real                </td><td>int               </td><td>int               </td><td>real                 </td><td>int              </td><td>real              </td><td>real              </td><td>real                </td><td>real                </td><td>real              </td><td>real                </td></tr>\n",
       "<tr><td>mins   </td><td>73479.02450980392    </td><td>163981.4191419142 </td><td>107734.02450980392</td><td>100679.02450980392 </td><td>146338.19117647054    </td><td>0.0              </td><td>106204.02450980392   </td><td>0.0              </td><td>0.0               </td><td>110363.31736694675  </td><td>134607.54723707662</td><td>95579.02450980392 </td><td>77729.02450980392 </td><td>1895.0            </td><td>118776.94117647059  </td><td>0.0                </td><td>78579.02450980392 </td><td>0.0               </td><td>133191.52450980392   </td><td>111601.52450980392  </td><td>0.0               </td><td>100143.52450980392  </td><td>178193.4967320261    </td><td>0.0               </td><td>175531.83179723503 </td><td>1.0               </td><td>165751.57330498463 </td><td>145091.52450980392    </td><td>133419.96200980392</td><td>3.0               </td><td>0.0              </td><td>175904.02450980392</td><td>0.0               </td><td>0.0               </td><td>134771.7517825312 </td><td>20.0             </td><td>122402.59593837534  </td><td>163075.56297134238   </td><td>1879.0           </td><td>0.0               </td><td>91042.14950980392  </td><td>139864.02450980392 </td><td>84954.02450980392   </td><td>0.0               </td><td>161376.63366336632    </td><td>0.0               </td><td>131576.52450980392  </td><td>0.0               </td><td>21.0              </td><td>0.0              </td><td>1950.0            </td><td>111434.07450980392  </td><td>112866.7168174962     </td><td>1.0              </td><td>0.0               </td><td>143948.79679144386    </td><td>105130.89950980392   </td><td>143816.52450980392     </td><td>178193.4967320261    </td><td>0.0                </td><td>1470.0           </td><td>2006.0            </td><td>1.0               </td><td>91754.02450980392  </td><td>118217.35784313723</td><td>0.0               </td><td>0.0              </td><td>0.0               </td><td>114840.96895424835  </td><td>407.0             </td><td>0.0               </td><td>96429.02450980392    </td><td>407.0            </td><td>0.0               </td><td>128987.56617647059</td><td>134853.20367647058  </td><td>150223.0311764706   </td><td>0.0               </td><td>127029.02450980392  </td></tr>\n",
       "<tr><td>mean   </td><td>177606.24421888925   </td><td>176844.0836371834 </td><td>175933.10715345875</td><td>182227.81273899964 </td><td>182091.99147253158    </td><td>1.794379712131597</td><td>180995.23531825157   </td><td>48.3139136394791 </td><td>100.70914127423823</td><td>181006.2901857593   </td><td>176172.85149770897</td><td>178065.09267032953</td><td>179140.34833949362</td><td>1977.7212165097756</td><td>184620.93755108098  </td><td>0.06520247083047358</td><td>179283.61725237884</td><td>93.17477724468814 </td><td>194452.82035270397   </td><td>179789.60281035837  </td><td>1.570938999314599 </td><td>180126.1193152811   </td><td>178193.4967320261    </td><td>439.2037037037037 </td><td>177395.21920765378 </td><td>6.078821110349555 </td><td>178278.00897433652 </td><td>180689.57815766838    </td><td>174246.9783571091 </td><td>6.385195339273475 </td><td>58.16792323509253</td><td>176751.75320615337</td><td>3.5435229609321452</td><td>472.7688614540466 </td><td>181062.10689687656</td><td>57.37834132967786</td><td>176296.0327526845   </td><td>179174.226337526     </td><td>1971.357779300891</td><td>0.3776559287183002</td><td>177673.68837649448 </td><td>177370.7037166422  </td><td>178383.03720943845  </td><td>52.61934156378601 </td><td>179354.8610184363     </td><td>554.2949245541838 </td><td>178207.07986924512  </td><td>1.7443454420836186</td><td>68.58035714285714 </td><td>325.9677861549006</td><td>1983.6627827278958</td><td>186339.7089378328   </td><td>179660.9318538107     </td><td>6.104180945853324</td><td>1046.1179698216736</td><td>180987.1789957136     </td><td>179340.3962464452    </td><td>176492.09637795313     </td><td>178193.4967320261    </td><td>1.0424948594928032 </td><td>9819.161069225496</td><td>2007.7697052775875</td><td>5.5538039753255655</td><td>178138.29247727426 </td><td>179232.09043019178</td><td>2.8540095956134337</td><td>24.24331734064427</td><td>0.5812200137080192</td><td>177090.15440559445  </td><td>1486.0459218642907</td><td>17.064427690198766</td><td>179810.686881209     </td><td>1156.534612748458</td><td>1.7661179698216736</td><td>178370.36965515942</td><td>182567.66333366183  </td><td>179939.77372747526  </td><td>0.4344543582704186</td><td>178369.39980873463  </td></tr>\n",
       "<tr><td>maxs   </td><td>188229.02450980392   </td><td>257372.27450980392</td><td>255001.6042717087 </td><td>211491.75330396474 </td><td>224699.7863950498     </td><td>360.0            </td><td>237481.8022875817    </td><td>742.0            </td><td>1290.0            </td><td>222366.88205128204  </td><td>180974.4445098039 </td><td>178405.7096069869 </td><td>179414.41573033712</td><td>2207.0            </td><td>187300.52567237162  </td><td>2.0                </td><td>204324.73418722322</td><td>1424.0            </td><td>345181.5245098039    </td><td>184861.0283687943   </td><td>4.0               </td><td>184788.65617433414  </td><td>178193.4967320261    </td><td>4010.0            </td><td>219485.84269162212 </td><td>10.0              </td><td>221371.6687405731  </td><td>194068.52450980392    </td><td>181956.919246646  </td><td>15.0              </td><td>17000.0          </td><td>296434.0245098039 </td><td>1064.0            </td><td>1488.0            </td><td>287410.74022408965</td><td>190.0            </td><td>203633.455628685    </td><td>252389.9995098039    </td><td>2010.0           </td><td>2.0               </td><td>311103.9129713424  </td><td>205162.1274859944  </td><td>181312.14950980392  </td><td>1526.0            </td><td>252970.21398348815    </td><td>2140.0            </td><td>243111.468058191    </td><td>800.0             </td><td>200.0             </td><td>1862.0           </td><td>2010.0            </td><td>243247.17284313726  </td><td>288359.0245098039     </td><td>12.0             </td><td>5095.0            </td><td>223156.8495098039     </td><td>307728.63562091504   </td><td>255001.6042717087      </td><td>178193.4967320261    </td><td>2.0                </td><td>56600.0          </td><td>2010.0            </td><td>9.0               </td><td>197862.35784313726 </td><td>219311.6970098039 </td><td>6.0               </td><td>1012.0           </td><td>4.0               </td><td>184063.06872037915  </td><td>5095.0            </td><td>576.0             </td><td>230256.21200980392   </td><td>5095.0           </td><td>5.0               </td><td>183943.1995098039 </td><td>194951.10784313726  </td><td>311479.0245098039   </td><td>3.0               </td><td>302979.0245098039   </td></tr>\n",
       "<tr><td>sigma  </td><td>4663.358457904923    </td><td>19890.63718996989 </td><td>24826.25863986618 </td><td>30689.890057024284 </td><td>28488.122976770395    </td><td>20.2078417514965 </td><td>25951.286853243677   </td><td>68.88336411315397</td><td>176.70982437239402</td><td>38032.67490944731   </td><td>9344.441064269215 </td><td>5302.397777524548 </td><td>4120.712522628475 </td><td>25.714450581225353</td><td>11764.269564905075  </td><td>0.2522950420673912 </td><td>13660.62136447893 </td><td>127.74488151907603</td><td>26907.81955497986    </td><td>18602.363953739645  </td><td>0.5551898880356612</td><td>15963.223969023631  </td><td>5.126500680162683e-12</td><td>455.11188761326986</td><td>8806.028004426134  </td><td>1.4368116404730185</td><td>11456.730191238737 </td><td>6944.959535831843     </td><td>9594.992921526902 </td><td>1.5088945751925409</td><td>630.806977589708 </td><td>3137.2359609732157</td><td>44.043250864375565</td><td>216.97416468040285</td><td>46910.286847951735</td><td>42.74687961871821</td><td>20533.377591439952  </td><td>16731.14952435502    </td><td>30.39007083720529</td><td>0.5030166769415858</td><td>48363.331700835224 </td><td>13409.559779876743 </td><td>7764.753398575106   </td><td>176.69330052860707</td><td>28882.71553690542     </td><td>437.11050793486925</td><td>28422.54135345877   </td><td>30.491646305342066</td><td>20.561227856718492</td><td>420.6102264691034</td><td>21.130466908170447</td><td>30059.124281346794  </td><td>48658.82908689111     </td><td>2.722431901250806</td><td>442.7467124418268 </td><td>33850.87496256971     </td><td>50064.36965926004    </td><td>24614.448808109904     </td><td>5.126500680162683e-12</td><td>0.20847167211324957</td><td>4955.51732692645 </td><td>1.3017401493802643</td><td>1.1137396032892082</td><td>13372.26174917729  </td><td>23489.406573197466</td><td>0.8297883627354511</td><td>67.22776541956969</td><td>0.6474204530720101</td><td>20263.256532577616  </td><td>485.5660986532533 </td><td>56.609762906910554</td><td>27215.585184717398   </td><td>398.165819592379 </td><td>0.7756789263494978</td><td>11421.922290373092</td><td>11447.223084004698  </td><td>15269.946772589561  </td><td>0.5302834550232052</td><td>6115.23069917075    </td></tr>\n",
       "<tr><td>zeros  </td><td>0                    </td><td>0                 </td><td>0                 </td><td>0                  </td><td>0                     </td><td>1446             </td><td>0                    </td><td>642              </td><td>877               </td><td>0                   </td><td>0                 </td><td>0                 </td><td>0                 </td><td>0                 </td><td>0                   </td><td>1364               </td><td>0                 </td><td>762               </td><td>0                    </td><td>0                   </td><td>3                 </td><td>0                   </td><td>0                    </td><td>462               </td><td>0                  </td><td>0                 </td><td>0                  </td><td>0                     </td><td>0                 </td><td>0                 </td><td>1408             </td><td>0                 </td><td>1445              </td><td>76                </td><td>0                 </td><td>0                </td><td>0                   </td><td>0                    </td><td>0                </td><td>921               </td><td>0                  </td><td>0                  </td><td>0                   </td><td>1278              </td><td>0                     </td><td>123               </td><td>0                   </td><td>1453              </td><td>0                 </td><td>839              </td><td>0                 </td><td>0                   </td><td>0                     </td><td>0                </td><td>41                </td><td>0                     </td><td>0                    </td><td>0                      </td><td>0                    </td><td>2                  </td><td>0                </td><td>0                 </td><td>0                 </td><td>0                  </td><td>0                 </td><td>2                 </td><td>1208             </td><td>730               </td><td>0                   </td><td>0                 </td><td>1319              </td><td>0                    </td><td>0                </td><td>76                </td><td>0                 </td><td>0                   </td><td>0                   </td><td>849               </td><td>0                   </td></tr>\n",
       "<tr><td>missing</td><td>0                    </td><td>0                 </td><td>0                 </td><td>0                  </td><td>0                     </td><td>0                </td><td>0                    </td><td>0                </td><td>0                 </td><td>0                   </td><td>0                 </td><td>0                 </td><td>0                 </td><td>0                 </td><td>0                   </td><td>0                  </td><td>0                 </td><td>0                 </td><td>0                    </td><td>0                   </td><td>0                 </td><td>0                   </td><td>0                    </td><td>0                 </td><td>0                  </td><td>0                 </td><td>0                  </td><td>0                     </td><td>0                 </td><td>0                 </td><td>0                </td><td>0                 </td><td>0                 </td><td>0                 </td><td>0                 </td><td>0                </td><td>0                   </td><td>0                    </td><td>0                </td><td>0                 </td><td>0                  </td><td>0                  </td><td>0                   </td><td>0                 </td><td>0                     </td><td>0                 </td><td>0                   </td><td>0                 </td><td>0                 </td><td>0                </td><td>0                 </td><td>0                   </td><td>0                     </td><td>0                </td><td>0                 </td><td>0                     </td><td>0                    </td><td>0                      </td><td>0                    </td><td>0                  </td><td>0                </td><td>0                 </td><td>0                 </td><td>0                  </td><td>0                 </td><td>0                 </td><td>0                </td><td>0                 </td><td>0                   </td><td>0                 </td><td>0                 </td><td>0                    </td><td>0                </td><td>0                 </td><td>0                 </td><td>0                   </td><td>0                   </td><td>0                 </td><td>0                   </td></tr>\n",
       "<tr><td>0      </td><td>178193.4967320261    </td><td>163981.4191419142 </td><td>170822.7626262626 </td><td>149413.2797336845  </td><td>156012.9060887513     </td><td>0.0              </td><td>209302.39072847684   </td><td>0.0              </td><td>0.0               </td><td>148549.72906403942  </td><td>178193.4967320261 </td><td>178405.7096069869 </td><td>179414.41573033712</td><td>1961.0            </td><td>187300.52567237162  </td><td>0.0                </td><td>181115.23         </td><td>140.0             </td><td>178193.4967320261    </td><td>184861.0283687943   </td><td>1.0               </td><td>184788.65617433414  </td><td>178193.4967320261    </td><td>468.0             </td><td>175531.83179723503 </td><td>5.0               </td><td>177919.81360946747 </td><td>168862.10143288082    </td><td>151206.9049445865 </td><td>5.0               </td><td>0.0              </td><td>176671.8111111111 </td><td>0.0               </td><td>730.0             </td><td>138313.57142857142</td><td>20.0             </td><td>170914.57205240175  </td><td>175715.7828162291    </td><td>1961.0           </td><td>0.0               </td><td>143747.87889273354 </td><td>171401.71038251367 </td><td>179857.76346604215  </td><td>144.0             </td><td>161376.63366336632    </td><td>270.0             </td><td>157482.0            </td><td>0.0               </td><td>80.0              </td><td>0.0              </td><td>1961.0            </td><td>201051.3968871595   </td><td>152080.32258672698    </td><td>6.0              </td><td>882.0             </td><td>143948.79679144386    </td><td>140285.62820512822   </td><td>171302.3622047244      </td><td>178193.4967320261    </td><td>1.0                </td><td>11622.0          </td><td>2010.0            </td><td>6.0               </td><td>180398.05693069307 </td><td>134962.35784313726</td><td>2.0               </td><td>0.0              </td><td>0.0               </td><td>184063.06872037915  </td><td>896.0             </td><td>120.0             </td><td>206602.9363057325    </td><td>896.0            </td><td>1.0               </td><td>181805.66321243523</td><td>185601.24938271602  </td><td>150223.0311764706   </td><td>0.0               </td><td>178218.27472527474  </td></tr>\n",
       "<tr><td>1      </td><td>188229.02450980392   </td><td>194850.58566088302</td><td>170822.7626262626 </td><td>149413.2797336845  </td><td>169309.44117647054    </td><td>0.0              </td><td>163767.73719637108   </td><td>36.0             </td><td>108.0             </td><td>148549.72906403942  </td><td>178193.4967320261 </td><td>178405.7096069869 </td><td>179414.41573033712</td><td>1958.0            </td><td>187300.52567237162  </td><td>0.0                </td><td>181115.23         </td><td>393.0             </td><td>178193.4967320261    </td><td>184861.0283687943   </td><td>1.0               </td><td>184788.65617433414  </td><td>178193.4967320261    </td><td>923.0             </td><td>175531.83179723503 </td><td>6.0               </td><td>165751.57330498463 </td><td>182592.86046511628    </td><td>178193.4967320261 </td><td>6.0               </td><td>12500.0          </td><td>176671.8111111111 </td><td>0.0               </td><td>312.0             </td><td>138313.57142857142</td><td>20.0             </td><td>170914.57205240175  </td><td>175715.7828162291    </td><td>1958.0           </td><td>1.0               </td><td>143747.87889273354 </td><td>205162.1274859944  </td><td>179857.76346604215  </td><td>0.0               </td><td>161376.63366336632    </td><td>406.0             </td><td>203114.2504640024   </td><td>0.0               </td><td>81.0              </td><td>0.0              </td><td>1958.0            </td><td>201051.3968871595   </td><td>152080.32258672698    </td><td>6.0              </td><td>1329.0            </td><td>143948.79679144386    </td><td>211880.81318681315   </td><td>171302.3622047244      </td><td>178193.4967320261    </td><td>1.0                </td><td>14267.0          </td><td>2010.0            </td><td>6.0               </td><td>180398.05693069307 </td><td>187920.61064425771</td><td>3.0               </td><td>0.0              </td><td>0.0               </td><td>184063.06872037915  </td><td>1329.0            </td><td>0.0               </td><td>154595.81798806478   </td><td>1329.0           </td><td>1.0               </td><td>181805.66321243523</td><td>185601.24938271602  </td><td>181573.27604166663  </td><td>0.0               </td><td>178218.27472527474  </td></tr>\n",
       "<tr><td>2      </td><td>178193.4967320261    </td><td>194850.58566088302</td><td>170822.7626262626 </td><td>158961.70308123247 </td><td>224699.7863950498     </td><td>0.0              </td><td>209302.39072847684   </td><td>34.0             </td><td>0.0               </td><td>222366.88205128204  </td><td>178193.4967320261 </td><td>178405.7096069869 </td><td>179414.41573033712</td><td>1997.0            </td><td>187300.52567237162  </td><td>0.0                </td><td>181115.23         </td><td>212.0             </td><td>205118.42900418595   </td><td>184861.0283687943   </td><td>2.0               </td><td>184788.65617433414  </td><td>178193.4967320261    </td><td>791.0             </td><td>175531.83179723503 </td><td>5.0               </td><td>177919.81360946747 </td><td>182592.86046511628    </td><td>151206.9049445865 </td><td>6.0               </td><td>0.0              </td><td>176671.8111111111 </td><td>0.0               </td><td>482.0             </td><td>206633.03141361254</td><td>60.0             </td><td>203633.455628685    </td><td>175715.7828162291    </td><td>1997.0           </td><td>1.0               </td><td>143747.87889273354 </td><td>171401.71038251367 </td><td>179857.76346604215  </td><td>0.0               </td><td>161376.63366336632    </td><td>137.0             </td><td>157482.0            </td><td>0.0               </td><td>74.0              </td><td>701.0            </td><td>1998.0            </td><td>201051.3968871595   </td><td>191808.05969498912    </td><td>3.0              </td><td>928.0             </td><td>223156.8495098039     </td><td>140285.62820512822   </td><td>171302.3622047244      </td><td>178193.4967320261    </td><td>1.0                </td><td>13830.0          </td><td>2010.0            </td><td>5.0               </td><td>180398.05693069307 </td><td>187920.61064425771</td><td>3.0               </td><td>0.0              </td><td>1.0               </td><td>184063.06872037915  </td><td>1629.0            </td><td>0.0               </td><td>206602.9363057325    </td><td>928.0            </td><td>2.0               </td><td>181805.66321243523</td><td>185601.24938271602  </td><td>181573.27604166663  </td><td>0.0               </td><td>178218.27472527474  </td></tr>\n",
       "<tr><td>3      </td><td>178193.4967320261    </td><td>194850.58566088302</td><td>170822.7626262626 </td><td>211491.75330396474 </td><td>224699.7863950498     </td><td>0.0              </td><td>209302.39072847684   </td><td>36.0             </td><td>20.0              </td><td>222366.88205128204  </td><td>178193.4967320261 </td><td>178405.7096069869 </td><td>179414.41573033712</td><td>1998.0            </td><td>187300.52567237162  </td><td>0.0                </td><td>181115.23         </td><td>360.0             </td><td>219907.18575980392   </td><td>184861.0283687943   </td><td>2.0               </td><td>184788.65617433414  </td><td>178193.4967320261    </td><td>602.0             </td><td>175531.83179723503 </td><td>6.0               </td><td>177919.81360946747 </td><td>182592.86046511628    </td><td>178193.4967320261 </td><td>7.0               </td><td>0.0              </td><td>176671.8111111111 </td><td>0.0               </td><td>470.0             </td><td>138313.57142857142</td><td>60.0             </td><td>203633.455628685    </td><td>175715.7828162291    </td><td>1998.0           </td><td>1.0               </td><td>143747.87889273354 </td><td>171401.71038251367 </td><td>179857.76346604215  </td><td>0.0               </td><td>161376.63366336632    </td><td>324.0             </td><td>203114.2504640024   </td><td>0.0               </td><td>78.0              </td><td>678.0            </td><td>1998.0            </td><td>201051.3968871595   </td><td>191808.05969498912    </td><td>6.0              </td><td>926.0             </td><td>223156.8495098039     </td><td>211880.81318681315   </td><td>171302.3622047244      </td><td>178193.4967320261    </td><td>1.0                </td><td>9978.0           </td><td>2010.0            </td><td>6.0               </td><td>180398.05693069307 </td><td>187920.61064425771</td><td>3.0               </td><td>0.0              </td><td>1.0               </td><td>184063.06872037915  </td><td>1604.0            </td><td>0.0               </td><td>206602.9363057325    </td><td>926.0            </td><td>2.0               </td><td>181805.66321243523</td><td>185601.24938271602  </td><td>181573.27604166663  </td><td>0.0               </td><td>178218.27472527474  </td></tr>\n",
       "<tr><td>4      </td><td>178193.4967320261    </td><td>194850.58566088302</td><td>170822.7626262626 </td><td>211491.75330396474 </td><td>169309.44117647054    </td><td>0.0              </td><td>169568.25527903467   </td><td>82.0             </td><td>0.0               </td><td>222366.88205128204  </td><td>178193.4967320261 </td><td>178405.7096069869 </td><td>179414.41573033712</td><td>1992.0            </td><td>187300.52567237162  </td><td>0.0                </td><td>181115.23         </td><td>0.0               </td><td>178193.4967320261    </td><td>184861.0283687943   </td><td>2.0               </td><td>184788.65617433414  </td><td>178193.4967320261    </td><td>263.0             </td><td>175531.83179723503 </td><td>8.0               </td><td>177919.81360946747 </td><td>182592.86046511628    </td><td>178193.4967320261 </td><td>5.0               </td><td>0.0              </td><td>176671.8111111111 </td><td>0.0               </td><td>506.0             </td><td>206633.03141361254</td><td>120.0            </td><td>170914.57205240175  </td><td>252389.9995098039    </td><td>1992.0           </td><td>0.0               </td><td>228065.58659034083 </td><td>171401.71038251367 </td><td>179857.76346604215  </td><td>0.0               </td><td>161376.63366336632    </td><td>1017.0            </td><td>157482.0            </td><td>0.0               </td><td>43.0              </td><td>0.0              </td><td>1992.0            </td><td>201051.3968871595   </td><td>288359.0245098039     </td><td>1.0              </td><td>1280.0            </td><td>201271.56721053383    </td><td>211880.81318681315   </td><td>171302.3622047244      </td><td>178193.4967320261    </td><td>1.0                </td><td>5005.0           </td><td>2010.0            </td><td>5.0               </td><td>180398.05693069307 </td><td>187920.61064425771</td><td>2.0               </td><td>0.0              </td><td>0.0               </td><td>184063.06872037915  </td><td>1280.0            </td><td>144.0             </td><td>167128.41844919784   </td><td>1280.0           </td><td>2.0               </td><td>183943.1995098039 </td><td>185601.24938271602  </td><td>181573.27604166663  </td><td>0.0               </td><td>178218.27472527474  </td></tr>\n",
       "<tr><td>5      </td><td>178193.4967320261    </td><td>194850.58566088302</td><td>170822.7626262626 </td><td>158961.70308123247 </td><td>168970.1659826721     </td><td>0.0              </td><td>169568.25527903467   </td><td>84.0             </td><td>0.0               </td><td>222366.88205128204  </td><td>178193.4967320261 </td><td>178405.7096069869 </td><td>179414.41573033712</td><td>1993.0            </td><td>187300.52567237162  </td><td>0.0                </td><td>181115.23         </td><td>157.0             </td><td>205118.42900418595   </td><td>184861.0283687943   </td><td>2.0               </td><td>184788.65617433414  </td><td>178193.4967320261    </td><td>0.0               </td><td>175531.83179723503 </td><td>6.0               </td><td>165751.57330498463 </td><td>182592.86046511628    </td><td>178193.4967320261 </td><td>7.0               </td><td>0.0              </td><td>176671.8111111111 </td><td>0.0               </td><td>440.0             </td><td>206633.03141361254</td><td>60.0             </td><td>203633.455628685    </td><td>175715.7828162291    </td><td>1993.0           </td><td>1.0               </td><td>143747.87889273354 </td><td>171401.71038251367 </td><td>179857.76346604215  </td><td>0.0               </td><td>161376.63366336632    </td><td>763.0             </td><td>157482.0            </td><td>0.0               </td><td>75.0              </td><td>892.0            </td><td>1994.0            </td><td>201051.3968871595   </td><td>191808.05969498912    </td><td>4.0              </td><td>763.0             </td><td>223156.8495098039     </td><td>140285.62820512822   </td><td>171302.3622047244      </td><td>178193.4967320261    </td><td>1.0                </td><td>10000.0          </td><td>2010.0            </td><td>5.0               </td><td>180398.05693069307 </td><td>187920.61064425771</td><td>3.0               </td><td>0.0              </td><td>1.0               </td><td>184063.06872037915  </td><td>1655.0            </td><td>0.0               </td><td>167128.41844919784   </td><td>763.0            </td><td>2.0               </td><td>181805.66321243523</td><td>185601.24938271602  </td><td>181573.27604166663  </td><td>0.0               </td><td>178218.27472527474  </td></tr>\n",
       "<tr><td>6      </td><td>163465.69117647054   </td><td>194850.58566088302</td><td>170822.7626262626 </td><td>211491.75330396474 </td><td>169309.44117647054    </td><td>0.0              </td><td>169568.25527903467   </td><td>21.0             </td><td>0.0               </td><td>222366.88205128204  </td><td>178193.4967320261 </td><td>178405.7096069869 </td><td>179414.41573033712</td><td>1992.0            </td><td>187300.52567237162  </td><td>0.0                </td><td>181115.23         </td><td>483.0             </td><td>178193.4967320261    </td><td>184861.0283687943   </td><td>2.0               </td><td>184788.65617433414  </td><td>178193.4967320261    </td><td>935.0             </td><td>175531.83179723503 </td><td>6.0               </td><td>177919.81360946747 </td><td>182592.86046511628    </td><td>181956.919246646  </td><td>6.0               </td><td>500.0            </td><td>176671.8111111111 </td><td>0.0               </td><td>420.0             </td><td>206633.03141361254</td><td>20.0             </td><td>170914.57205240175  </td><td>175715.7828162291    </td><td>1992.0           </td><td>0.0               </td><td>143747.87889273354 </td><td>171401.71038251367 </td><td>179857.76346604215  </td><td>0.0               </td><td>161376.63366336632    </td><td>233.0             </td><td>157482.0            </td><td>0.0               </td><td>68.58035714285714 </td><td>0.0              </td><td>2007.0            </td><td>201051.3968871595   </td><td>191808.05969498912    </td><td>3.0              </td><td>1168.0            </td><td>223156.8495098039     </td><td>140285.62820512822   </td><td>171302.3622047244      </td><td>178193.4967320261    </td><td>1.0                </td><td>7980.0           </td><td>2010.0            </td><td>7.0               </td><td>179370.36597321855 </td><td>187920.61064425771</td><td>3.0               </td><td>0.0              </td><td>0.0               </td><td>184063.06872037915  </td><td>1187.0            </td><td>0.0               </td><td>167128.41844919784   </td><td>1187.0           </td><td>2.0               </td><td>181805.66321243523</td><td>185601.24938271602  </td><td>181573.27604166663  </td><td>1.0               </td><td>178218.27472527474  </td></tr>\n",
       "<tr><td>7      </td><td>178193.4967320261    </td><td>194850.58566088302</td><td>170822.7626262626 </td><td>158961.70308123247 </td><td>168970.1659826721     </td><td>0.0              </td><td>209302.39072847684   </td><td>75.0             </td><td>0.0               </td><td>222366.88205128204  </td><td>178193.4967320261 </td><td>178405.7096069869 </td><td>179414.41573033712</td><td>1998.0            </td><td>187300.52567237162  </td><td>0.0                </td><td>181115.23         </td><td>0.0               </td><td>219907.18575980392   </td><td>184861.0283687943   </td><td>2.0               </td><td>184788.65617433414  </td><td>178193.4967320261    </td><td>0.0               </td><td>175531.83179723503 </td><td>6.0               </td><td>177919.81360946747 </td><td>182592.86046511628    </td><td>178193.4967320261 </td><td>7.0               </td><td>0.0              </td><td>176671.8111111111 </td><td>0.0               </td><td>393.0             </td><td>206633.03141361254</td><td>60.0             </td><td>203633.455628685    </td><td>175715.7828162291    </td><td>1998.0           </td><td>1.0               </td><td>143747.87889273354 </td><td>171401.71038251367 </td><td>179857.76346604215  </td><td>0.0               </td><td>161376.63366336632    </td><td>789.0             </td><td>157482.0            </td><td>0.0               </td><td>63.0              </td><td>676.0            </td><td>1998.0            </td><td>201051.3968871595   </td><td>191808.05969498912    </td><td>5.0              </td><td>789.0             </td><td>223156.8495098039     </td><td>140285.62820512822   </td><td>171302.3622047244      </td><td>178193.4967320261    </td><td>1.0                </td><td>8402.0           </td><td>2010.0            </td><td>5.0               </td><td>180398.05693069307 </td><td>187920.61064425771</td><td>3.0               </td><td>0.0              </td><td>1.0               </td><td>184063.06872037915  </td><td>1465.0            </td><td>0.0               </td><td>206602.9363057325    </td><td>789.0            </td><td>2.0               </td><td>181805.66321243523</td><td>185601.24938271602  </td><td>181573.27604166663  </td><td>0.0               </td><td>178218.27472527474  </td></tr>\n",
       "<tr><td>8      </td><td>178193.4967320261    </td><td>163981.4191419142 </td><td>170822.7626262626 </td><td>158961.70308123247 </td><td>224699.7863950498     </td><td>0.0              </td><td>169568.25527903467   </td><td>0.0              </td><td>0.0               </td><td>222366.88205128204  </td><td>178193.4967320261 </td><td>178405.7096069869 </td><td>179414.41573033712</td><td>1990.0            </td><td>187300.52567237162  </td><td>0.0                </td><td>181115.23         </td><td>192.0             </td><td>133191.52450980392   </td><td>184861.0283687943   </td><td>1.0               </td><td>184788.65617433414  </td><td>178193.4967320261    </td><td>637.0             </td><td>175531.83179723503 </td><td>7.0               </td><td>177919.81360946747 </td><td>182592.86046511628    </td><td>178193.4967320261 </td><td>5.0               </td><td>0.0              </td><td>176671.8111111111 </td><td>0.0               </td><td>506.0             </td><td>206633.03141361254</td><td>20.0             </td><td>170914.57205240175  </td><td>175715.7828162291    </td><td>1990.0           </td><td>1.0               </td><td>143747.87889273354 </td><td>171401.71038251367 </td><td>179857.76346604215  </td><td>0.0               </td><td>252970.21398348815    </td><td>663.0             </td><td>157482.0            </td><td>0.0               </td><td>85.0              </td><td>0.0              </td><td>1990.0            </td><td>201051.3968871595   </td><td>191808.05969498912    </td><td>2.0              </td><td>1300.0            </td><td>143948.79679144386    </td><td>211880.81318681315   </td><td>171302.3622047244      </td><td>178193.4967320261    </td><td>1.0                </td><td>10176.0          </td><td>2010.0            </td><td>5.0               </td><td>180398.05693069307 </td><td>187920.61064425771</td><td>2.0               </td><td>0.0              </td><td>1.0               </td><td>184063.06872037915  </td><td>1341.0            </td><td>0.0               </td><td>167128.41844919784   </td><td>1341.0           </td><td>2.0               </td><td>181805.66321243523</td><td>185601.24938271602  </td><td>181573.27604166663  </td><td>1.0               </td><td>178218.27472527474  </td></tr>\n",
       "<tr><td>9      </td><td>178193.4967320261    </td><td>163981.4191419142 </td><td>170822.7626262626 </td><td>149413.2797336845  </td><td>169309.44117647054    </td><td>0.0              </td><td>163573.83733031675   </td><td>0.0              </td><td>0.0               </td><td>148549.72906403942  </td><td>178193.4967320261 </td><td>178405.7096069869 </td><td>179414.41573033712</td><td>1970.0            </td><td>187300.52567237162  </td><td>0.0                </td><td>181115.23         </td><td>240.0             </td><td>178193.4967320261    </td><td>184861.0283687943   </td><td>1.0               </td><td>184788.65617433414  </td><td>178193.4967320261    </td><td>804.0             </td><td>175531.83179723503 </td><td>4.0               </td><td>165751.57330498463 </td><td>167901.0383986928     </td><td>151206.9049445865 </td><td>4.0               </td><td>0.0              </td><td>176671.8111111111 </td><td>0.0               </td><td>525.0             </td><td>138313.57142857142</td><td>20.0             </td><td>170914.57205240175  </td><td>175715.7828162291    </td><td>1970.0           </td><td>0.0               </td><td>143747.87889273354 </td><td>171401.71038251367 </td><td>179857.76346604215  </td><td>78.0              </td><td>161376.63366336632    </td><td>0.0               </td><td>157482.0            </td><td>0.0               </td><td>70.0              </td><td>0.0              </td><td>1970.0            </td><td>201051.3968871595   </td><td>152080.32258672698    </td><td>4.0              </td><td>882.0             </td><td>223156.8495098039     </td><td>140285.62820512822   </td><td>171302.3622047244      </td><td>178193.4967320261    </td><td>1.0                </td><td>8400.0           </td><td>2010.0            </td><td>5.0               </td><td>180398.05693069307 </td><td>187920.61064425771</td><td>2.0               </td><td>0.0              </td><td>0.0               </td><td>184063.06872037915  </td><td>882.0             </td><td>0.0               </td><td>173812.54638480392   </td><td>882.0            </td><td>2.0               </td><td>181805.66321243523</td><td>185601.24938271602  </td><td>181573.27604166663  </td><td>1.0               </td><td>178218.27472527474  </td></tr>\n",
       "</tbody>\n",
       "</table>"
      ]
     },
     "metadata": {},
     "output_type": "display_data"
    }
   ],
   "source": [
    "print('Imputed and encoded numeric training data:')\n",
    "train[encoded_nums].describe() #79 numeric columns w/ no missing\n",
    "print('--------------------------------------------------------------------------------')\n",
    "print('Imputed and encoded numeric validation data:')\n",
    "valid[encoded_nums].describe() #79 numeric columns w/ no missing\n",
    "print('--------------------------------------------------------------------------------')\n",
    "print('Imputed and encoded numeric test data:')\n",
    "test[encoded_nums].describe() #79 numeric columns w/ no missing"
   ]
  },
  {
   "cell_type": "code",
   "execution_count": 48,
   "metadata": {
    "collapsed": false,
    "deletable": true,
    "editable": true
   },
   "outputs": [
    {
     "data": {
      "text/html": [
       "<table>\n",
       "<thead>\n",
       "<tr><th>Neighborhood  </th><th style=\"text-align: right;\">  Neighborhood_Tencode</th></tr>\n",
       "</thead>\n",
       "<tbody>\n",
       "<tr><td>NAmes         </td><td style=\"text-align: right;\">                152080</td></tr>\n",
       "<tr><td>NAmes         </td><td style=\"text-align: right;\">                152080</td></tr>\n",
       "<tr><td>Gilbert       </td><td style=\"text-align: right;\">                191808</td></tr>\n",
       "<tr><td>Gilbert       </td><td style=\"text-align: right;\">                191808</td></tr>\n",
       "<tr><td>StoneBr       </td><td style=\"text-align: right;\">                288359</td></tr>\n",
       "</tbody>\n",
       "</table>"
      ]
     },
     "metadata": {},
     "output_type": "display_data"
    },
    {
     "name": "stdout",
     "output_type": "stream",
     "text": [
      "\n",
      "{nan: 178193.49673202613, 'Somerst': 227656.9671023965, 'BrkSide': 129965.77450980392, 'NPkVill': 147641.52450980392, 'Sawyer': 143162.40700980392, 'Gilbert': 191808.0596949891, 'SWISU': 156269.02450980392, 'OldTown': 139863.03613771088, 'Blmngtn': 210845.6545098039, 'ClearCr': 207949.02450980392, 'Mitchel': 169316.52450980392, 'StoneBr': 288359.0245098039, 'NAmes': 152080.32258672698, 'Edwards': 126241.13989441929, 'NoRidge': 273948.2552790347, 'NridgHt': 284073.1545098039, 'NWAmes': 184610.14950980392, 'Veenker': 243734.02450980392, 'CollgCr': 190019.77971813726, 'BrDale': 116064.02450980392, 'IDOTRR': 112866.71681749621, 'Crawfor': 216008.84593837534, 'Timber': 260109.74673202613, 'SawyerW': 189097.7776348039, 'MeadowV': 113131.52450980392}\n"
     ]
    }
   ],
   "source": [
    "# Check Neighborhood_Tencode\n",
    "\n",
    "print(test[0:5, ['Neighborhood', 'Neighborhood_Tencode']])\n",
    "_, _ = target_encoder(valid, test, 'Neighborhood', 'SalePrice', test=True)\n",
    "del _\n",
    "\n",
    "# NAmes   152080\n",
    "# NAmes   152080\n",
    "# Gilbert 191808\n",
    "# Gilbert 191808\n",
    "# StoneBr 288359"
   ]
  },
  {
   "cell_type": "markdown",
   "metadata": {
    "deletable": true,
    "editable": true
   },
   "source": [
    "## Create combination features"
   ]
  },
  {
   "cell_type": "code",
   "execution_count": 49,
   "metadata": {
    "collapsed": false,
    "deletable": true,
    "editable": true
   },
   "outputs": [],
   "source": [
    "def feature_combiner(training_frame, test_frame, nums):\n",
    "    \n",
    "    \"\"\" Combines numeric features using simple arithmatic operations.\n",
    "    \n",
    "    :param training_frame: Training frame from which to generate features and onto which generated \n",
    "                           feeatures will be cbound.\n",
    "    :param test_frame: Test frame from which to generate features and onto which generated \n",
    "                       feeatures will be cbound.\n",
    "    :param nums: List of original numeric features from which to generate combined features.\n",
    "    \n",
    "    \"\"\"\n",
    "\n",
    "    total = len(nums)\n",
    "    \n",
    "    # convert to pandas\n",
    "    train_df = training_frame.as_data_frame()\n",
    "    test_df = test_frame.as_data_frame()\n",
    "    \n",
    "    for i, col_i in enumerate(nums):\n",
    "        \n",
    "        print('Combining: ' + col_i + ' (' + str(i+1) + '/' + str(total) + ') ...')        \n",
    "        \n",
    "        for j, col_j in enumerate(nums):\n",
    "            \n",
    "            # don't repeat (i*j = j*i)\n",
    "            if i < j:\n",
    "                \n",
    "                # convert to pandas\n",
    "                col_i_train_df = train_df[col_i]\n",
    "                col_j_train_df = train_df[col_j]\n",
    "                col_i_test_df = test_df[col_i]\n",
    "                col_j_test_df = test_df[col_j] \n",
    "\n",
    "                # multiply, convert back to h2o\n",
    "                train_df[str(col_i + '|' + col_j)] = col_i_train_df.values*col_j_train_df.values\n",
    "                test_df[str(col_i + '|' + col_j)] = col_i_test_df.values*col_j_test_df.values\n",
    "                \n",
    "    print('Done.')\n",
    "    \n",
    "    # convert back to h2o\n",
    "    \n",
    "    print('Converting to H2OFrame ...')\n",
    "    \n",
    "    training_frame = h2o.H2OFrame(train_df)\n",
    "    training_frame.columns = list(train_df)\n",
    "    test_frame = h2o.H2OFrame(test_df)\n",
    "    test_frame.columns = list(test_df)\n",
    "    \n",
    "    print('Done.')\n",
    "    print()\n",
    "    \n",
    "    # conserve memory \n",
    "    del train_df\n",
    "    del test_df \n",
    "    \n",
    "    return training_frame, test_frame\n"
   ]
  },
  {
   "cell_type": "code",
   "execution_count": 50,
   "metadata": {
    "collapsed": false,
    "deletable": true,
    "editable": true
   },
   "outputs": [
    {
     "name": "stdout",
     "output_type": "stream",
     "text": [
      "Combining: MiscFeature_Tencode (1/79) ...\n",
      "Combining: LotShape_Tencode (2/79) ...\n",
      "Combining: SaleType_Tencode (3/79) ...\n",
      "Combining: HeatingQC_Tencode (4/79) ...\n",
      "Combining: BsmtFinType1_Tencode (5/79) ...\n",
      "Combining: 3SsnPorch (6/79) ...\n",
      "Combining: Exterior2nd_Tencode (7/79) ...\n",
      "Combining: OpenPorchSF (8/79) ...\n",
      "Combining: MasVnrArea (9/79) ...\n",
      "Combining: Foundation_Tencode (10/79) ...\n",
      "Combining: Alley_Tencode (11/79) ...\n",
      "Combining: Street_Tencode (12/79) ...\n",
      "Combining: Heating_Tencode (13/79) ...\n",
      "Combining: GarageYrBlt (14/79) ...\n",
      "Combining: GarageCond_Tencode (15/79) ...\n",
      "Combining: BsmtHalfBath (16/79) ...\n",
      "Combining: BsmtCond_Tencode (17/79) ...\n",
      "Combining: WoodDeckSF (18/79) ...\n",
      "Combining: FireplaceQu_Tencode (19/79) ...\n",
      "Combining: CentralAir_Tencode (20/79) ...\n",
      "Combining: FullBath (21/79) ...\n",
      "Combining: Electrical_Tencode (22/79) ...\n",
      "Combining: PoolQC_Tencode (23/79) ...\n",
      "Combining: BsmtFinSF1 (24/79) ...\n",
      "Combining: LandSlope_Tencode (25/79) ...\n",
      "Combining: OverallQual (26/79) ...\n",
      "Combining: LotConfig_Tencode (27/79) ...\n",
      "Combining: BsmtFinType2_Tencode (28/79) ...\n",
      "Combining: Fence_Tencode (29/79) ...\n",
      "Combining: TotRmsAbvGrd (30/79) ...\n",
      "Combining: MiscVal (31/79) ...\n",
      "Combining: RoofMatl_Tencode (32/79) ...\n",
      "Combining: LowQualFinSF (33/79) ...\n",
      "Combining: GarageArea (34/79) ...\n",
      "Combining: BsmtQual_Tencode (35/79) ...\n",
      "Combining: MSSubClass (36/79) ...\n",
      "Combining: HouseStyle_Tencode (37/79) ...\n",
      "Combining: LandContour_Tencode (38/79) ...\n",
      "Combining: YearBuilt (39/79) ...\n",
      "Combining: HalfBath (40/79) ...\n",
      "Combining: ExterQual_Tencode (41/79) ...\n",
      "Combining: RoofStyle_Tencode (42/79) ...\n",
      "Combining: Functional_Tencode (43/79) ...\n",
      "Combining: BsmtFinSF2 (44/79) ...\n",
      "Combining: BsmtExposure_Tencode (45/79) ...\n",
      "Combining: BsmtUnfSF (46/79) ...\n",
      "Combining: MasVnrType_Tencode (47/79) ...\n",
      "Combining: PoolArea (48/79) ...\n",
      "Combining: LotFrontage (49/79) ...\n",
      "Combining: 2ndFlrSF (50/79) ...\n",
      "Combining: YearRemodAdd (51/79) ...\n",
      "Combining: GarageType_Tencode (52/79) ...\n",
      "Combining: Neighborhood_Tencode (53/79) ...\n",
      "Combining: MoSold (54/79) ...\n",
      "Combining: TotalBsmtSF (55/79) ...\n",
      "Combining: GarageFinish_Tencode (56/79) ...\n",
      "Combining: KitchenQual_Tencode (57/79) ...\n",
      "Combining: SaleCondition_Tencode (58/79) ...\n",
      "Combining: Utilities_Tencode (59/79) ...\n",
      "Combining: KitchenAbvGr (60/79) ...\n",
      "Combining: LotArea (61/79) ...\n",
      "Combining: YrSold (62/79) ...\n",
      "Combining: OverallCond (63/79) ...\n",
      "Combining: ExterCond_Tencode (64/79) ...\n",
      "Combining: MSZoning_Tencode (65/79) ...\n",
      "Combining: BedroomAbvGr (66/79) ...\n",
      "Combining: EnclosedPorch (67/79) ...\n",
      "Combining: Fireplaces (68/79) ...\n",
      "Combining: PavedDrive_Tencode (69/79) ...\n",
      "Combining: GrLivArea (70/79) ...\n",
      "Combining: ScreenPorch (71/79) ...\n",
      "Combining: Exterior1st_Tencode (72/79) ...\n",
      "Combining: 1stFlrSF (73/79) ...\n",
      "Combining: GarageCars (74/79) ...\n",
      "Combining: BldgType_Tencode (75/79) ...\n",
      "Combining: GarageQual_Tencode (76/79) ...\n",
      "Combining: Condition1_Tencode (77/79) ...\n",
      "Combining: BsmtFullBath (78/79) ...\n",
      "Combining: Condition2_Tencode (79/79) ...\n",
      "Done.\n",
      "Converting to H2OFrame ...\n",
      "Done.\n",
      "\n",
      "Combining: MiscFeature_Tencode (1/79) ...\n",
      "Combining: LotShape_Tencode (2/79) ...\n",
      "Combining: SaleType_Tencode (3/79) ...\n",
      "Combining: HeatingQC_Tencode (4/79) ...\n",
      "Combining: BsmtFinType1_Tencode (5/79) ...\n",
      "Combining: 3SsnPorch (6/79) ...\n",
      "Combining: Exterior2nd_Tencode (7/79) ...\n",
      "Combining: OpenPorchSF (8/79) ...\n",
      "Combining: MasVnrArea (9/79) ...\n",
      "Combining: Foundation_Tencode (10/79) ...\n",
      "Combining: Alley_Tencode (11/79) ...\n",
      "Combining: Street_Tencode (12/79) ...\n",
      "Combining: Heating_Tencode (13/79) ...\n",
      "Combining: GarageYrBlt (14/79) ...\n",
      "Combining: GarageCond_Tencode (15/79) ...\n",
      "Combining: BsmtHalfBath (16/79) ...\n",
      "Combining: BsmtCond_Tencode (17/79) ...\n",
      "Combining: WoodDeckSF (18/79) ...\n",
      "Combining: FireplaceQu_Tencode (19/79) ...\n",
      "Combining: CentralAir_Tencode (20/79) ...\n",
      "Combining: FullBath (21/79) ...\n",
      "Combining: Electrical_Tencode (22/79) ...\n",
      "Combining: PoolQC_Tencode (23/79) ...\n",
      "Combining: BsmtFinSF1 (24/79) ...\n",
      "Combining: LandSlope_Tencode (25/79) ...\n",
      "Combining: OverallQual (26/79) ...\n",
      "Combining: LotConfig_Tencode (27/79) ...\n",
      "Combining: BsmtFinType2_Tencode (28/79) ...\n",
      "Combining: Fence_Tencode (29/79) ...\n",
      "Combining: TotRmsAbvGrd (30/79) ...\n",
      "Combining: MiscVal (31/79) ...\n",
      "Combining: RoofMatl_Tencode (32/79) ...\n",
      "Combining: LowQualFinSF (33/79) ...\n",
      "Combining: GarageArea (34/79) ...\n",
      "Combining: BsmtQual_Tencode (35/79) ...\n",
      "Combining: MSSubClass (36/79) ...\n",
      "Combining: HouseStyle_Tencode (37/79) ...\n",
      "Combining: LandContour_Tencode (38/79) ...\n",
      "Combining: YearBuilt (39/79) ...\n",
      "Combining: HalfBath (40/79) ...\n",
      "Combining: ExterQual_Tencode (41/79) ...\n",
      "Combining: RoofStyle_Tencode (42/79) ...\n",
      "Combining: Functional_Tencode (43/79) ...\n",
      "Combining: BsmtFinSF2 (44/79) ...\n",
      "Combining: BsmtExposure_Tencode (45/79) ...\n",
      "Combining: BsmtUnfSF (46/79) ...\n",
      "Combining: MasVnrType_Tencode (47/79) ...\n",
      "Combining: PoolArea (48/79) ...\n",
      "Combining: LotFrontage (49/79) ...\n",
      "Combining: 2ndFlrSF (50/79) ...\n",
      "Combining: YearRemodAdd (51/79) ...\n",
      "Combining: GarageType_Tencode (52/79) ...\n",
      "Combining: Neighborhood_Tencode (53/79) ...\n",
      "Combining: MoSold (54/79) ...\n",
      "Combining: TotalBsmtSF (55/79) ...\n",
      "Combining: GarageFinish_Tencode (56/79) ...\n",
      "Combining: KitchenQual_Tencode (57/79) ...\n",
      "Combining: SaleCondition_Tencode (58/79) ...\n",
      "Combining: Utilities_Tencode (59/79) ...\n",
      "Combining: KitchenAbvGr (60/79) ...\n",
      "Combining: LotArea (61/79) ...\n",
      "Combining: YrSold (62/79) ...\n",
      "Combining: OverallCond (63/79) ...\n",
      "Combining: ExterCond_Tencode (64/79) ...\n",
      "Combining: MSZoning_Tencode (65/79) ...\n",
      "Combining: BedroomAbvGr (66/79) ...\n",
      "Combining: EnclosedPorch (67/79) ...\n",
      "Combining: Fireplaces (68/79) ...\n",
      "Combining: PavedDrive_Tencode (69/79) ...\n",
      "Combining: GrLivArea (70/79) ...\n",
      "Combining: ScreenPorch (71/79) ...\n",
      "Combining: Exterior1st_Tencode (72/79) ...\n",
      "Combining: 1stFlrSF (73/79) ...\n",
      "Combining: GarageCars (74/79) ...\n",
      "Combining: BldgType_Tencode (75/79) ...\n",
      "Combining: GarageQual_Tencode (76/79) ...\n",
      "Combining: Condition1_Tencode (77/79) ...\n",
      "Combining: BsmtFullBath (78/79) ...\n",
      "Combining: Condition2_Tencode (79/79) ...\n",
      "Done.\n",
      "Converting to H2OFrame ...\n",
      "Done.\n",
      "\n"
     ]
    }
   ],
   "source": [
    "train, _ = feature_combiner(train, test, encoded_nums)\n",
    "valid, test = feature_combiner(valid, test, encoded_nums)"
   ]
  },
  {
   "cell_type": "markdown",
   "metadata": {
    "deletable": true,
    "editable": true
   },
   "source": [
    "#### Redefine numerics and explore"
   ]
  },
  {
   "cell_type": "code",
   "execution_count": 51,
   "metadata": {
    "collapsed": false,
    "deletable": true,
    "editable": true
   },
   "outputs": [
    {
     "name": "stdout",
     "output_type": "stream",
     "text": [
      "Numeric = ['KitchenAbvGr', 'BsmtUnfSF|GarageCars', 'Electrical_Tencode|BsmtFinSF2', 'KitchenAbvGr|GarageCars', 'HalfBath|LotFrontage', 'OpenPorchSF|Exterior1st_Tencode', 'Heating_Tencode|ExterCond_Tencode', 'OpenPorchSF|BsmtQual_Tencode', 'BsmtFinSF1|Neighborhood_Tencode', 'OverallQual|PavedDrive_Tencode', 'YearRemodAdd|LotArea', 'LandContour_Tencode|BsmtUnfSF', 'Street_Tencode|BsmtUnfSF', 'LotFrontage|Fireplaces', 'LotArea|1stFlrSF', 'MSSubClass|Functional_Tencode', 'GarageYrBlt|BedroomAbvGr', 'Electrical_Tencode|Condition2_Tencode', 'OverallQual|YearRemodAdd', 'MoSold|MSZoning_Tencode', 'BsmtFinSF2|PavedDrive_Tencode', 'SaleType_Tencode|FullBath', 'Electrical_Tencode|LandContour_Tencode', 'FireplaceQu_Tencode|GarageFinish_Tencode', 'MiscFeature_Tencode|TotalBsmtSF', 'MasVnrType_Tencode|Condition2_Tencode', 'Alley_Tencode|Fireplaces', 'BsmtFinType1_Tencode|KitchenQual_Tencode', '2ndFlrSF|PavedDrive_Tencode', 'GarageCond_Tencode|1stFlrSF', 'CentralAir_Tencode|GarageFinish_Tencode', 'Foundation_Tencode|GarageType_Tencode', 'EnclosedPorch|Condition2_Tencode', 'MSSubClass|PavedDrive_Tencode', 'BsmtUnfSF|BsmtFullBath', 'HeatingQC_Tencode|GarageArea', 'PoolArea|Fireplaces', 'PoolQC_Tencode|BsmtExposure_Tencode', 'Alley_Tencode|FireplaceQu_Tencode', 'HeatingQC_Tencode|TotalBsmtSF', 'GarageYrBlt|GarageArea', 'HeatingQC_Tencode|LowQualFinSF', 'Alley_Tencode|MasVnrType_Tencode', 'LotShape_Tencode|1stFlrSF', '3SsnPorch|PoolArea', 'LotShape_Tencode|Street_Tencode', 'BsmtFinType1_Tencode|FireplaceQu_Tencode', '3SsnPorch|MoSold', 'BsmtExposure_Tencode', 'MiscVal|Condition1_Tencode', 'LandSlope_Tencode|Fireplaces', 'LandContour_Tencode|GarageQual_Tencode', 'TotRmsAbvGrd|BsmtFullBath', 'BsmtCond_Tencode|MoSold', 'MSSubClass|RoofStyle_Tencode', 'YearBuilt|LotFrontage', 'EnclosedPorch', 'SaleType_Tencode|GrLivArea', 'OpenPorchSF|MasVnrType_Tencode', 'Street_Tencode|FireplaceQu_Tencode', 'BsmtFinSF1|Exterior1st_Tencode', 'GarageType_Tencode|GrLivArea', 'BsmtHalfBath|MasVnrType_Tencode', 'Foundation_Tencode|Alley_Tencode', '3SsnPorch|LandSlope_Tencode', 'BsmtUnfSF|MasVnrType_Tencode', 'MiscFeature_Tencode|GrLivArea', 'HeatingQC_Tencode|OpenPorchSF', 'OpenPorchSF|MSZoning_Tencode', 'KitchenAbvGr|EnclosedPorch', 'GarageArea|LotFrontage', 'CentralAir_Tencode|KitchenQual_Tencode', 'MiscFeature_Tencode|Condition1_Tencode', 'Foundation_Tencode|LandContour_Tencode', 'Fence_Tencode|PoolArea', 'BedroomAbvGr', 'ExterCond_Tencode|EnclosedPorch', 'CentralAir_Tencode|PoolQC_Tencode', 'FullBath|PavedDrive_Tencode', 'GarageCond_Tencode|MoSold', '3SsnPorch|GarageArea', 'BsmtFinType2_Tencode|GarageCars', 'Exterior2nd_Tencode|EnclosedPorch', 'GarageArea|BsmtFullBath', 'HouseStyle_Tencode|YearRemodAdd', 'FireplaceQu_Tencode|LotConfig_Tencode', 'Heating_Tencode|GarageCars', 'GarageYrBlt|BsmtHalfBath', 'BsmtUnfSF|GarageQual_Tencode', 'BldgType_Tencode|BsmtFullBath', 'Fence_Tencode|HalfBath', 'HeatingQC_Tencode|BsmtExposure_Tencode', 'Street_Tencode|Fence_Tencode', 'Street_Tencode|BsmtFullBath', 'MasVnrType_Tencode|KitchenAbvGr', 'Alley_Tencode|BsmtFinType2_Tencode', 'MasVnrType_Tencode|GarageQual_Tencode', 'CentralAir_Tencode|KitchenAbvGr', 'PoolQC_Tencode|LandSlope_Tencode', 'FullBath|YearRemodAdd', 'SaleType_Tencode|Fence_Tencode', 'MiscFeature_Tencode', 'BsmtFinSF1|LotArea', 'Fence_Tencode|LandContour_Tencode', 'Fence_Tencode|ExterQual_Tencode', 'MiscFeature_Tencode|SaleType_Tencode', 'LowQualFinSF|LotArea', 'SaleType_Tencode|GarageYrBlt', 'FireplaceQu_Tencode|PoolQC_Tencode', 'HouseStyle_Tencode|Neighborhood_Tencode', 'BsmtUnfSF|GarageType_Tencode', 'OverallQual|Condition2_Tencode', 'GarageType_Tencode|SaleCondition_Tencode', 'BsmtCond_Tencode|LotArea', 'BsmtUnfSF|Exterior1st_Tencode', 'BsmtCond_Tencode|WoodDeckSF', 'LowQualFinSF|ExterQual_Tencode', 'BsmtFinType1_Tencode|1stFlrSF', 'GarageYrBlt', 'Electrical_Tencode|ScreenPorch', 'OpenPorchSF|LowQualFinSF', 'TotalBsmtSF|GarageQual_Tencode', 'Heating_Tencode|CentralAir_Tencode', 'MiscFeature_Tencode|Alley_Tencode', '2ndFlrSF|MoSold', 'Electrical_Tencode|YrSold', 'SaleType_Tencode|Alley_Tencode', 'PoolQC_Tencode|GarageCars', 'LandSlope_Tencode|LandContour_Tencode', 'OverallCond|BsmtFullBath', 'Heating_Tencode|Exterior1st_Tencode', 'GarageCond_Tencode|Fence_Tencode', 'BsmtFinType1_Tencode|GarageFinish_Tencode', 'Exterior2nd_Tencode|BldgType_Tencode', 'FullBath|2ndFlrSF', 'SaleType_Tencode|BsmtExposure_Tencode', 'Alley_Tencode|ExterCond_Tencode', 'LotConfig_Tencode|KitchenQual_Tencode', 'PoolQC_Tencode|RoofStyle_Tencode', 'MasVnrArea|WoodDeckSF', 'OverallCond|GarageCars', 'HeatingQC_Tencode|ExterQual_Tencode', 'Street_Tencode|KitchenAbvGr', 'MoSold|GarageCars', 'FullBath|YrSold', 'LotFrontage|GarageFinish_Tencode', 'CentralAir_Tencode|Functional_Tencode', 'BsmtFinSF1|BsmtFullBath', 'OpenPorchSF|YearRemodAdd', 'RoofMatl_Tencode|LotFrontage', 'BsmtFinType2_Tencode|MiscVal', 'BsmtFinSF2|BsmtExposure_Tencode', 'BedroomAbvGr|Condition1_Tencode', 'MasVnrArea|BsmtUnfSF', 'LotConfig_Tencode|MasVnrType_Tencode', 'GarageYrBlt|TotalBsmtSF', 'Exterior2nd_Tencode|2ndFlrSF', 'Foundation_Tencode|Functional_Tencode', 'BsmtUnfSF|ExterCond_Tencode', 'BsmtUnfSF', 'WoodDeckSF|TotalBsmtSF', 'BsmtFinSF2|LotArea', 'LandSlope_Tencode|Utilities_Tencode', 'HeatingQC_Tencode|MSSubClass', 'OverallQual|BsmtFullBath', 'Foundation_Tencode|BsmtFullBath', 'Neighborhood_Tencode|BedroomAbvGr', 'OverallQual|OverallCond', 'RoofStyle_Tencode|GarageType_Tencode', 'KitchenQual_Tencode|Exterior1st_Tencode', 'CentralAir_Tencode|GarageCars', 'FireplaceQu_Tencode|2ndFlrSF', 'Heating_Tencode|RoofMatl_Tencode', 'OverallQual|TotRmsAbvGrd', 'HouseStyle_Tencode|MasVnrType_Tencode', 'GrLivArea|GarageQual_Tencode', 'MiscVal|YrSold', 'GarageArea|Utilities_Tencode', 'SaleType_Tencode|LowQualFinSF', 'Exterior2nd_Tencode|SaleCondition_Tencode', 'FireplaceQu_Tencode|BsmtFinType2_Tencode', 'KitchenAbvGr|GarageQual_Tencode', 'BsmtUnfSF|SaleCondition_Tencode', 'LotFrontage|GrLivArea', 'ExterQual_Tencode|1stFlrSF', 'HeatingQC_Tencode|Exterior1st_Tencode', 'GarageArea|BldgType_Tencode', 'FullBath|MasVnrType_Tencode', 'KitchenAbvGr|ExterCond_Tencode', 'MiscFeature_Tencode|LotArea', 'BsmtFinSF2|GarageQual_Tencode', 'LotShape_Tencode|LandSlope_Tencode', 'CentralAir_Tencode|BsmtUnfSF', 'Exterior2nd_Tencode|GarageFinish_Tencode', '2ndFlrSF|Fireplaces', 'GarageType_Tencode|EnclosedPorch', 'Exterior2nd_Tencode|Neighborhood_Tencode', 'TotRmsAbvGrd|RoofMatl_Tencode', 'WoodDeckSF|BsmtFinType2_Tencode', 'Heating_Tencode|BsmtFinSF2', 'LandSlope_Tencode|2ndFlrSF', 'WoodDeckSF|YearBuilt', 'BsmtFinSF2|BldgType_Tencode', 'FullBath|GarageCars', 'MasVnrArea|YearBuilt', 'SaleType_Tencode|Condition2_Tencode', 'YearBuilt|Condition2_Tencode', 'BsmtQual_Tencode|MSZoning_Tencode', 'MasVnrType_Tencode|Utilities_Tencode', 'OverallQual|BedroomAbvGr', 'BsmtCond_Tencode|Condition2_Tencode', 'BsmtQual_Tencode|EnclosedPorch', 'Heating_Tencode|Condition1_Tencode', 'WoodDeckSF|BsmtFinSF2', 'BsmtFinType1_Tencode|Utilities_Tencode', 'BsmtFinType1_Tencode|Exterior2nd_Tencode', 'RoofStyle_Tencode|GarageQual_Tencode', 'LotConfig_Tencode|Condition1_Tencode', 'GarageCond_Tencode|BsmtFullBath', 'MiscFeature_Tencode|MasVnrType_Tencode', 'MSSubClass|Condition2_Tencode', 'YearBuilt|1stFlrSF', 'BsmtFinSF2|ExterCond_Tencode', 'BsmtFinSF1|YrSold', 'YearRemodAdd|BsmtFullBath', 'MasVnrArea|Street_Tencode', 'OverallQual|PoolArea', 'LowQualFinSF|1stFlrSF', 'Exterior1st_Tencode|Condition2_Tencode', 'Heating_Tencode|TotalBsmtSF', 'HeatingQC_Tencode|HouseStyle_Tencode', 'LotConfig_Tencode|Utilities_Tencode', 'TotRmsAbvGrd|PavedDrive_Tencode', 'MiscVal|HalfBath', 'RoofStyle_Tencode|BsmtUnfSF', 'MasVnrArea|HouseStyle_Tencode', 'ExterQual_Tencode|KitchenAbvGr', 'MasVnrArea|Electrical_Tencode', 'YearRemodAdd|GrLivArea', 'BsmtFinType2_Tencode', 'KitchenAbvGr|BldgType_Tencode', 'TotRmsAbvGrd|RoofStyle_Tencode', 'Street_Tencode|GarageQual_Tencode', 'HouseStyle_Tencode|BsmtExposure_Tencode', 'BsmtFinType1_Tencode|HouseStyle_Tencode', 'PoolQC_Tencode|PoolArea', 'MoSold|OverallCond', 'GarageCond_Tencode|LandSlope_Tencode', 'LandSlope_Tencode|MiscVal', 'HeatingQC_Tencode|Electrical_Tencode', 'YearBuilt|GarageQual_Tencode', 'GarageCond_Tencode|2ndFlrSF', 'MiscFeature_Tencode|Foundation_Tencode', 'HouseStyle_Tencode|Fireplaces', 'PoolArea|Utilities_Tencode', 'BsmtFinSF1|MSZoning_Tencode', 'BsmtHalfBath|GarageArea', 'ExterQual_Tencode|MSZoning_Tencode', 'BsmtFinType1_Tencode|PavedDrive_Tencode', 'Street_Tencode|MSZoning_Tencode', 'Functional_Tencode|Exterior1st_Tencode', 'LandContour_Tencode|OverallCond', 'GarageQual_Tencode', 'Exterior2nd_Tencode|PavedDrive_Tencode', 'Utilities_Tencode|Condition2_Tencode', 'OpenPorchSF|LotConfig_Tencode', 'Alley_Tencode|Fence_Tencode', 'Fence_Tencode|RoofStyle_Tencode', 'HalfBath|RoofStyle_Tencode', 'BsmtFinType1_Tencode|Exterior1st_Tencode', 'YearBuilt|RoofStyle_Tencode', 'Fence_Tencode|YrSold', 'BsmtExposure_Tencode|1stFlrSF', 'BsmtUnfSF|TotalBsmtSF', 'Alley_Tencode|MSZoning_Tencode', 'Electrical_Tencode|Utilities_Tencode', 'Foundation_Tencode|BsmtCond_Tencode', 'BsmtQual_Tencode|1stFlrSF', 'BsmtFinType2_Tencode|YearBuilt', 'Electrical_Tencode|SaleCondition_Tencode', 'CentralAir_Tencode|Utilities_Tencode', 'MiscVal|TotalBsmtSF', 'SaleType_Tencode|MoSold', 'LandContour_Tencode|GarageCars', 'LandSlope_Tencode|EnclosedPorch', 'LowQualFinSF|BsmtQual_Tencode', 'HeatingQC_Tencode|2ndFlrSF', 'BsmtCond_Tencode|ExterCond_Tencode', 'BsmtUnfSF|BldgType_Tencode', 'ExterQual_Tencode|Condition1_Tencode', 'BsmtFinSF2|BsmtUnfSF', 'MiscVal|OverallCond', 'OverallQual|YearBuilt', 'GarageArea|GarageQual_Tencode', 'OpenPorchSF|BsmtHalfBath', 'LandContour_Tencode|LotFrontage', 'LotArea|GarageCars', 'BsmtFinType2_Tencode|HalfBath', 'Street_Tencode|Utilities_Tencode', 'BsmtQual_Tencode|ExterCond_Tencode', 'Alley_Tencode|Condition1_Tencode', 'BsmtExposure_Tencode|LotFrontage', 'BsmtFinSF1|PoolArea', 'KitchenAbvGr|Exterior1st_Tencode', 'HeatingQC_Tencode|RoofStyle_Tencode', 'LotShape_Tencode|GarageCond_Tencode', 'FullBath|Fireplaces', 'BsmtExposure_Tencode|2ndFlrSF', 'WoodDeckSF|ExterQual_Tencode', 'MSSubClass|KitchenQual_Tencode', 'OpenPorchSF|CentralAir_Tencode', 'HeatingQC_Tencode|Exterior2nd_Tencode', 'RoofStyle_Tencode|Neighborhood_Tencode', 'LotShape_Tencode|WoodDeckSF', 'WoodDeckSF|GarageQual_Tencode', 'MasVnrArea|2ndFlrSF', 'FireplaceQu_Tencode|LowQualFinSF', 'LotFrontage|GarageCars', 'Electrical_Tencode|MoSold', 'ExterQual_Tencode|GarageQual_Tencode', 'MSSubClass|HouseStyle_Tencode', 'Street_Tencode', 'Alley_Tencode|GarageCond_Tencode', 'PoolQC_Tencode|ExterCond_Tencode', 'LandSlope_Tencode|SaleCondition_Tencode', 'MiscVal|LotArea', 'CentralAir_Tencode|LandSlope_Tencode', 'GarageArea|GarageType_Tencode', 'MiscFeature_Tencode|Utilities_Tencode', 'RoofStyle_Tencode|MasVnrType_Tencode', 'LotFrontage|YearRemodAdd', 'MasVnrArea|HalfBath', 'Functional_Tencode|LotArea', 'Electrical_Tencode|TotRmsAbvGrd', 'LotShape_Tencode|BsmtHalfBath', 'Neighborhood_Tencode|Fireplaces', 'Fence_Tencode|MiscVal', 'BsmtFinSF1|YearRemodAdd', 'Exterior2nd_Tencode|TotRmsAbvGrd', 'BsmtHalfBath|BsmtQual_Tencode', 'BsmtHalfBath|Utilities_Tencode', 'LotConfig_Tencode|BsmtExposure_Tencode', 'Fence_Tencode|LotArea', 'HouseStyle_Tencode', 'OpenPorchSF|YrSold', 'BsmtCond_Tencode|LandSlope_Tencode', 'BsmtFinSF2|SaleCondition_Tencode', 'Functional_Tencode|PoolArea', 'Street_Tencode|HouseStyle_Tencode', 'HalfBath', 'ExterQual_Tencode|GarageCars', 'LotConfig_Tencode', 'RoofStyle_Tencode|ExterCond_Tencode', 'RoofMatl_Tencode|ExterCond_Tencode', 'HalfBath|BsmtUnfSF', 'LotShape_Tencode|Alley_Tencode', 'YearRemodAdd', 'GarageYrBlt|RoofStyle_Tencode', '3SsnPorch|OverallQual', 'BsmtFullBath', 'ExterQual_Tencode|Condition2_Tencode', 'MSSubClass|GarageQual_Tencode', 'HeatingQC_Tencode|PoolQC_Tencode', 'LowQualFinSF|GarageArea', 'GarageFinish_Tencode|1stFlrSF', 'Street_Tencode|MoSold', 'OpenPorchSF|PoolArea', 'Street_Tencode|Electrical_Tencode', 'LotConfig_Tencode|LowQualFinSF', 'GarageArea|OverallCond', 'BsmtCond_Tencode|RoofStyle_Tencode', 'Alley_Tencode|GarageQual_Tencode', 'PoolQC_Tencode|MasVnrType_Tencode', 'SaleType_Tencode|ExterQual_Tencode', 'MoSold|PavedDrive_Tencode', 'BsmtExposure_Tencode|MSZoning_Tencode', 'Exterior2nd_Tencode|LotFrontage', 'LandSlope_Tencode|GarageQual_Tencode', 'BsmtFinSF2|GrLivArea', 'OpenPorchSF|LandSlope_Tencode', 'RoofStyle_Tencode|BsmtFinSF2', 'YearBuilt|BsmtExposure_Tencode', 'Functional_Tencode|TotalBsmtSF', 'KitchenQual_Tencode|1stFlrSF', 'Street_Tencode|GarageYrBlt', 'Fireplaces|GrLivArea', 'Alley_Tencode|BsmtFinSF1', 'ScreenPorch|BsmtFullBath', 'HeatingQC_Tencode|MoSold', 'HouseStyle_Tencode|Condition1_Tencode', 'SaleType_Tencode|BsmtFinSF2', 'BsmtFinType1_Tencode|GarageType_Tencode', 'BsmtHalfBath|LotConfig_Tencode', 'LotShape_Tencode|TotRmsAbvGrd', 'KitchenQual_Tencode|EnclosedPorch', 'Heating_Tencode|PoolQC_Tencode', 'OpenPorchSF|TotalBsmtSF', 'LotShape_Tencode', 'LotConfig_Tencode|TotalBsmtSF', 'Electrical_Tencode|PoolQC_Tencode', 'RoofMatl_Tencode|Neighborhood_Tencode', 'BsmtHalfBath|YearBuilt', 'OpenPorchSF|EnclosedPorch', 'SaleType_Tencode|HalfBath', 'RoofStyle_Tencode|YrSold', 'LandContour_Tencode|2ndFlrSF', 'GarageYrBlt|Exterior1st_Tencode', 'BsmtFinType2_Tencode|PavedDrive_Tencode', 'Exterior2nd_Tencode|GarageCars', 'Foundation_Tencode', 'LowQualFinSF|GrLivArea', 'LandSlope_Tencode|1stFlrSF', 'BsmtFinSF1|GarageType_Tencode', 'BsmtCond_Tencode|YearRemodAdd', 'HalfBath|PavedDrive_Tencode', 'MasVnrArea|BsmtQual_Tencode', 'Alley_Tencode|TotRmsAbvGrd', 'TotRmsAbvGrd|BsmtQual_Tencode', 'Heating_Tencode|Condition2_Tencode', 'BsmtFinSF2|Neighborhood_Tencode', 'BedroomAbvGr|EnclosedPorch', 'BsmtFinType1_Tencode|BsmtFullBath', 'BsmtHalfBath|BsmtFinSF1', 'Foundation_Tencode|OverallQual', 'FullBath|LotArea', '3SsnPorch|MSSubClass', 'Street_Tencode|Condition2_Tencode', 'Street_Tencode|LotArea', 'MiscFeature_Tencode|MiscVal', 'Heating_Tencode|LandContour_Tencode', 'HouseStyle_Tencode|1stFlrSF', 'BsmtCond_Tencode|LotConfig_Tencode', 'LandSlope_Tencode|GrLivArea', 'ExterQual_Tencode|OverallCond', 'OpenPorchSF|GrLivArea', 'Functional_Tencode|MSZoning_Tencode', 'LotShape_Tencode|LotFrontage', 'Street_Tencode|BsmtFinType2_Tencode', 'HouseStyle_Tencode|OverallCond', 'RoofStyle_Tencode|MSZoning_Tencode', 'OverallQual|BsmtQual_Tencode', 'CentralAir_Tencode|HouseStyle_Tencode', 'ExterQual_Tencode|KitchenQual_Tencode', 'BsmtFinType2_Tencode|TotRmsAbvGrd', 'LotConfig_Tencode|BedroomAbvGr', 'BsmtFinSF1|GarageArea', 'PoolQC_Tencode|MoSold', 'BsmtHalfBath|YrSold', 'Alley_Tencode|FullBath', 'YearRemodAdd|Condition1_Tencode', 'BsmtExposure_Tencode|EnclosedPorch', 'LandContour_Tencode|BsmtFullBath', 'Fence_Tencode|GarageFinish_Tencode', 'Street_Tencode|Fireplaces', 'Alley_Tencode|RoofMatl_Tencode', 'LotConfig_Tencode|GarageFinish_Tencode', 'HeatingQC_Tencode|Alley_Tencode', 'BsmtFinType1_Tencode|BsmtCond_Tencode', 'PoolArea|OverallCond', 'BsmtCond_Tencode|MSZoning_Tencode', 'PoolArea|Condition2_Tencode', 'SaleType_Tencode|OverallQual', 'BsmtFinSF1|Condition1_Tencode', 'MasVnrType_Tencode|YrSold', 'OpenPorchSF|BsmtFullBath', 'HeatingQC_Tencode|YearBuilt', 'TotRmsAbvGrd|Functional_Tencode', 'LotArea|ScreenPorch', 'GarageType_Tencode|Neighborhood_Tencode', 'RoofMatl_Tencode|OverallCond', '3SsnPorch|Street_Tencode', 'RoofMatl_Tencode|Utilities_Tencode', 'FireplaceQu_Tencode|RoofStyle_Tencode', 'BsmtFinSF1|EnclosedPorch', 'Functional_Tencode|EnclosedPorch', 'MSZoning_Tencode', 'OpenPorchSF|PavedDrive_Tencode', 'OverallQual|BldgType_Tencode', 'EnclosedPorch|GrLivArea', 'PavedDrive_Tencode|1stFlrSF', 'MasVnrArea|GarageArea', 'GarageCars', 'BsmtFinType1_Tencode|LotConfig_Tencode', 'BsmtFinType1_Tencode|Foundation_Tencode', 'BsmtFinType1_Tencode|YrSold', 'BsmtFinSF1|BsmtQual_Tencode', 'SaleType_Tencode|GarageFinish_Tencode', 'WoodDeckSF|MoSold', 'MasVnrArea|GarageYrBlt', 'FireplaceQu_Tencode|MSZoning_Tencode', 'LandContour_Tencode|Fireplaces', 'HalfBath|LotArea', 'BsmtUnfSF|ScreenPorch', 'FullBath|TotalBsmtSF', 'KitchenAbvGr|Condition1_Tencode', 'PoolQC_Tencode|LotConfig_Tencode', 'SaleType_Tencode|BsmtFinSF1', 'Exterior2nd_Tencode|CentralAir_Tencode', 'GarageArea|RoofStyle_Tencode', 'PoolArea|EnclosedPorch', 'HeatingQC_Tencode|Neighborhood_Tencode', 'Electrical_Tencode|TotalBsmtSF', 'BsmtFinSF1|BsmtExposure_Tencode', 'Exterior2nd_Tencode|LowQualFinSF', 'Heating_Tencode|SaleCondition_Tencode', 'KitchenQual_Tencode|ExterCond_Tencode', 'EnclosedPorch|Condition1_Tencode', 'LowQualFinSF|YearBuilt', 'FullBath|TotRmsAbvGrd', 'WoodDeckSF|YearRemodAdd', 'BsmtFinSF1|1stFlrSF', 'FireplaceQu_Tencode', 'MSSubClass|EnclosedPorch', 'LotShape_Tencode|ExterQual_Tencode', 'BsmtFinType2_Tencode|BsmtQual_Tencode', '3SsnPorch|Heating_Tencode', 'Heating_Tencode|BsmtFullBath', 'WoodDeckSF|LandSlope_Tencode', 'BsmtUnfSF|Utilities_Tencode', 'GarageFinish_Tencode|ScreenPorch', 'HouseStyle_Tencode|Functional_Tencode', 'MSSubClass|GrLivArea', 'Fence_Tencode|Neighborhood_Tencode', '3SsnPorch|OverallCond', 'LotShape_Tencode|MasVnrArea', 'OpenPorchSF|HouseStyle_Tencode', 'MiscFeature_Tencode|TotRmsAbvGrd', '3SsnPorch|TotRmsAbvGrd', 'SaleCondition_Tencode|BldgType_Tencode', 'OpenPorchSF|GarageQual_Tencode', 'LandContour_Tencode|YrSold', 'BsmtExposure_Tencode|GarageQual_Tencode', 'HouseStyle_Tencode|GarageQual_Tencode', 'MiscFeature_Tencode|PoolQC_Tencode', 'LandSlope_Tencode|BsmtFinSF2', 'Alley_Tencode|OverallQual', 'BsmtQual_Tencode|Functional_Tencode', 'Street_Tencode|CentralAir_Tencode', 'PoolQC_Tencode|TotalBsmtSF', 'LotShape_Tencode|RoofStyle_Tencode', 'FireplaceQu_Tencode|Condition1_Tencode', 'Foundation_Tencode|EnclosedPorch', 'Fence_Tencode|2ndFlrSF', 'LotConfig_Tencode|2ndFlrSF', 'FullBath|OverallQual', 'RoofStyle_Tencode|ScreenPorch', 'LotShape_Tencode|ExterCond_Tencode', 'ExterQual_Tencode|Utilities_Tencode', 'Foundation_Tencode|FireplaceQu_Tencode', 'SaleType_Tencode|ScreenPorch', 'YearRemodAdd|Fireplaces', 'LotConfig_Tencode|Condition2_Tencode', 'LotArea|GrLivArea', 'OpenPorchSF|TotRmsAbvGrd', 'BsmtQual_Tencode|GarageQual_Tencode', 'GarageArea|MasVnrType_Tencode', 'MiscVal|PoolArea', 'BsmtUnfSF|2ndFlrSF', 'LotShape_Tencode|MSZoning_Tencode', 'GarageCond_Tencode|LowQualFinSF', 'BsmtFinType1_Tencode|TotRmsAbvGrd', 'TotRmsAbvGrd|Utilities_Tencode', 'MiscVal|BsmtExposure_Tencode', 'GarageYrBlt|Neighborhood_Tencode', 'BsmtFinSF2|ScreenPorch', 'RoofStyle_Tencode|LotFrontage', 'Foundation_Tencode|MiscVal', 'LotFrontage|Condition2_Tencode', 'LowQualFinSF|OverallCond', 'Heating_Tencode|HouseStyle_Tencode', 'LotShape_Tencode|OverallQual', 'LotConfig_Tencode|SaleCondition_Tencode', 'MasVnrType_Tencode|MoSold', 'Heating_Tencode|OverallQual', 'Condition1_Tencode|BsmtFullBath', 'TotRmsAbvGrd|MasVnrType_Tencode', 'CentralAir_Tencode|LotConfig_Tencode', 'GarageCond_Tencode|Functional_Tencode', 'MSZoning_Tencode|Fireplaces', 'BsmtFinSF1|Fireplaces', 'HalfBath|PoolArea', 'Exterior2nd_Tencode|Foundation_Tencode', 'OpenPorchSF|HalfBath', 'WoodDeckSF|BsmtExposure_Tencode', 'PoolQC_Tencode|GarageQual_Tencode', 'FireplaceQu_Tencode|LotFrontage', 'GarageYrBlt|LandContour_Tencode', 'MiscFeature_Tencode|MoSold', 'WoodDeckSF|HalfBath', 'PoolQC_Tencode|Utilities_Tencode', 'TotRmsAbvGrd|GarageType_Tencode', 'Street_Tencode|Neighborhood_Tencode', 'BsmtCond_Tencode|Utilities_Tencode', 'BedroomAbvGr|Condition2_Tencode', 'RoofStyle_Tencode|GarageCars', 'HeatingQC_Tencode|Condition2_Tencode', 'MasVnrArea|1stFlrSF', 'Alley_Tencode|SaleCondition_Tencode', 'OpenPorchSF|WoodDeckSF', 'FullBath|YearBuilt', 'MoSold|BldgType_Tencode', 'PoolArea|2ndFlrSF', 'GarageCond_Tencode|ScreenPorch', 'YrSold|PavedDrive_Tencode', 'MasVnrType_Tencode|GarageType_Tencode', 'MSZoning_Tencode|BedroomAbvGr', 'MiscVal|MoSold', 'MSSubClass|GarageType_Tencode', 'GarageYrBlt|Functional_Tencode', 'SaleCondition_Tencode|Condition2_Tencode', 'GarageFinish_Tencode|KitchenQual_Tencode', 'SaleCondition_Tencode|1stFlrSF', 'LotConfig_Tencode|ExterQual_Tencode', 'CentralAir_Tencode|Exterior1st_Tencode', 'RoofMatl_Tencode|LotArea', 'GarageFinish_Tencode|GarageCars', 'Street_Tencode|KitchenQual_Tencode', 'BsmtUnfSF|KitchenQual_Tencode', 'RoofStyle_Tencode|OverallCond', 'BsmtFinType2_Tencode|YrSold', 'BsmtCond_Tencode|RoofMatl_Tencode', 'Foundation_Tencode|Neighborhood_Tencode', 'OverallQual|KitchenQual_Tencode', 'TotalBsmtSF|SaleCondition_Tencode', 'Foundation_Tencode|PoolArea', 'CentralAir_Tencode|BsmtFinSF2', 'GarageCond_Tencode|BsmtFinSF1', 'MasVnrArea|SaleCondition_Tencode', 'HouseStyle_Tencode|GarageCars', 'LotShape_Tencode|PoolArea', 'SaleType_Tencode|CentralAir_Tencode', 'CentralAir_Tencode|LotFrontage', 'MasVnrArea|LotConfig_Tencode', 'LandSlope_Tencode|TotalBsmtSF', 'BsmtFinType1_Tencode|KitchenAbvGr', 'Fence_Tencode|BsmtUnfSF', 'FullBath|GarageType_Tencode', 'LowQualFinSF|2ndFlrSF', 'Street_Tencode|EnclosedPorch', 'Fence_Tencode|Fireplaces', 'GarageFinish_Tencode', '3SsnPorch|BedroomAbvGr', 'SaleType_Tencode', 'Fence_Tencode|ExterCond_Tencode', 'OpenPorchSF|BldgType_Tencode', 'MSSubClass|Fireplaces', 'HouseStyle_Tencode|SaleCondition_Tencode', 'FullBath|GarageFinish_Tencode', 'LotShape_Tencode|BsmtFinType2_Tencode', 'BsmtQual_Tencode|2ndFlrSF', 'MiscFeature_Tencode|GarageFinish_Tencode', 'BsmtFinSF2|TotalBsmtSF', 'BsmtHalfBath|PoolArea', 'BedroomAbvGr|Exterior1st_Tencode', 'GarageCond_Tencode|YearRemodAdd', 'SaleType_Tencode|BsmtFinType1_Tencode', 'PavedDrive_Tencode|Exterior1st_Tencode', 'MasVnrArea|CentralAir_Tencode', 'GarageCond_Tencode|TotalBsmtSF', 'ExterQual_Tencode|2ndFlrSF', 'HalfBath|Functional_Tencode', 'YearBuilt|EnclosedPorch', 'LotShape_Tencode|Functional_Tencode', 'Alley_Tencode|BsmtExposure_Tencode', 'YearBuilt|MasVnrType_Tencode', 'OpenPorchSF|Heating_Tencode', 'Fireplaces|GarageQual_Tencode', 'BsmtHalfBath|WoodDeckSF', 'RoofMatl_Tencode|BsmtExposure_Tencode', 'GarageArea|LotArea', 'FireplaceQu_Tencode|Fireplaces', 'Alley_Tencode|GarageArea', 'SaleType_Tencode|BsmtFinType2_Tencode', 'BsmtQual_Tencode|ExterQual_Tencode', 'Foundation_Tencode|YearBuilt', 'Alley_Tencode|PoolArea', 'SaleType_Tencode|BldgType_Tencode', 'HeatingQC_Tencode|BldgType_Tencode', 'GarageType_Tencode|MSZoning_Tencode', 'MasVnrArea|PoolArea', 'BsmtFinSF1|OverallQual', 'LandContour_Tencode|LotArea', 'Electrical_Tencode|BsmtFinSF1', 'LandSlope_Tencode|ExterQual_Tencode', 'MasVnrArea|PoolQC_Tencode', 'GarageCond_Tencode|ExterCond_Tencode', 'BsmtQual_Tencode|PavedDrive_Tencode', 'HeatingQC_Tencode|YearRemodAdd', 'Heating_Tencode|2ndFlrSF', 'MSSubClass|YearBuilt', 'MiscVal|1stFlrSF', 'Foundation_Tencode|Fireplaces', 'Foundation_Tencode|SaleCondition_Tencode', '3SsnPorch|LotFrontage', 'FullBath|RoofMatl_Tencode', 'Foundation_Tencode|ExterQual_Tencode', 'HeatingQC_Tencode|Fence_Tencode', 'Street_Tencode|PoolQC_Tencode', 'ExterQual_Tencode|BsmtUnfSF', 'FireplaceQu_Tencode|YrSold', 'GarageArea|BsmtFinSF2', 'HalfBath|BedroomAbvGr', 'LowQualFinSF|YrSold', 'HalfBath|BsmtExposure_Tencode', 'WoodDeckSF|MSZoning_Tencode', 'MiscFeature_Tencode|LandSlope_Tencode', 'RoofMatl_Tencode|Functional_Tencode', 'GarageCond_Tencode|HalfBath', 'CentralAir_Tencode|BsmtExposure_Tencode', 'PoolArea|BldgType_Tencode', '3SsnPorch|BsmtHalfBath', 'MSZoning_Tencode|GrLivArea', 'Street_Tencode|BsmtFinSF2', 'MiscFeature_Tencode|GarageCond_Tencode', 'BsmtCond_Tencode|GrLivArea', 'TotalBsmtSF|BedroomAbvGr', 'FullBath|SaleCondition_Tencode', 'MiscFeature_Tencode|OverallCond', 'SaleType_Tencode|Foundation_Tencode', 'MasVnrArea|BsmtFinSF1', 'Heating_Tencode|LotConfig_Tencode', 'Street_Tencode|RoofStyle_Tencode', 'GarageFinish_Tencode|LotArea', 'Fence_Tencode|GarageQual_Tencode', 'BsmtQual_Tencode|OverallCond', 'EnclosedPorch|Fireplaces', 'YearRemodAdd|PavedDrive_Tencode', 'LandSlope_Tencode|Fence_Tencode', 'GarageCond_Tencode|KitchenAbvGr', 'SaleType_Tencode|FireplaceQu_Tencode', 'SaleType_Tencode|BsmtFullBath', 'GarageYrBlt|FullBath', 'BsmtFinType2_Tencode|ExterCond_Tencode', 'PavedDrive_Tencode|Condition2_Tencode', 'PoolQC_Tencode|Condition2_Tencode', 'GarageCars|Condition2_Tencode', 'KitchenQual_Tencode|ScreenPorch', 'SaleType_Tencode|GarageCars', 'HalfBath|MasVnrType_Tencode', 'BsmtQual_Tencode|HouseStyle_Tencode', 'WoodDeckSF|RoofMatl_Tencode', 'GarageYrBlt|HalfBath', 'BsmtFinType1_Tencode|RoofStyle_Tencode', '3SsnPorch|Neighborhood_Tencode', 'SaleCondition_Tencode|PavedDrive_Tencode', 'Exterior2nd_Tencode|MoSold', 'OverallCond|ScreenPorch', 'TotRmsAbvGrd|TotalBsmtSF', 'GrLivArea|BldgType_Tencode', 'HouseStyle_Tencode|Utilities_Tencode', 'Street_Tencode|FullBath', 'BsmtFinType1_Tencode|MSZoning_Tencode', 'PoolArea|Neighborhood_Tencode', 'LotShape_Tencode|Condition2_Tencode', 'RoofStyle_Tencode|BsmtFullBath', 'OverallQual|BsmtFinType2_Tencode', 'KitchenQual_Tencode|Condition1_Tencode', 'BsmtHalfBath|RoofMatl_Tencode', 'BsmtHalfBath|GarageCars', 'GarageCond_Tencode|ExterQual_Tencode', 'Neighborhood_Tencode|PavedDrive_Tencode', 'TotRmsAbvGrd|PoolArea', 'Alley_Tencode|LotConfig_Tencode', 'OverallQual|1stFlrSF', 'SaleCondition_Tencode|BedroomAbvGr', 'OverallQual|GarageArea', 'FireplaceQu_Tencode|BsmtFinSF2', 'MiscFeature_Tencode|RoofMatl_Tencode', 'LandSlope_Tencode|MSSubClass', 'BsmtFinSF2|EnclosedPorch', 'MoSold|GarageQual_Tencode', 'TotRmsAbvGrd|LotFrontage', 'MiscFeature_Tencode|HalfBath', 'TotRmsAbvGrd|GarageArea', 'WoodDeckSF|MasVnrType_Tencode', 'LotArea|Fireplaces', 'BsmtFinType1_Tencode|BsmtHalfBath', 'HouseStyle_Tencode|KitchenQual_Tencode', 'TotalBsmtSF|BsmtFullBath', 'MiscVal|GarageArea', 'BsmtFinType2_Tencode|GarageType_Tencode', 'TotalBsmtSF|Condition2_Tencode', 'ScreenPorch|Condition2_Tencode', 'OverallQual|KitchenAbvGr', 'GrLivArea|BsmtFullBath', 'MiscVal|PavedDrive_Tencode', 'BsmtFinType1_Tencode|WoodDeckSF', 'Exterior2nd_Tencode|GarageType_Tencode', 'ExterQual_Tencode|ExterCond_Tencode', 'Exterior2nd_Tencode|ScreenPorch', 'TotRmsAbvGrd|MoSold', 'BsmtQual_Tencode|YearRemodAdd', 'FullBath', 'PoolQC_Tencode', 'OpenPorchSF|MoSold', 'SaleType_Tencode|HeatingQC_Tencode', 'LowQualFinSF|Condition1_Tencode', 'LotShape_Tencode|YrSold', 'HouseStyle_Tencode|BldgType_Tencode', 'LowQualFinSF|MoSold', 'Exterior1st_Tencode|BsmtFullBath', 'LotShape_Tencode|LowQualFinSF', 'LotFrontage|Neighborhood_Tencode', 'WoodDeckSF|CentralAir_Tencode', 'CentralAir_Tencode|BsmtFinType2_Tencode', 'Heating_Tencode|HalfBath', 'MasVnrArea|PavedDrive_Tencode', 'OpenPorchSF|LotArea', 'LowQualFinSF|BsmtUnfSF', 'SaleType_Tencode|RoofStyle_Tencode', 'MiscVal|Neighborhood_Tencode', 'FireplaceQu_Tencode|GarageArea', 'BsmtExposure_Tencode|GarageType_Tencode', 'RoofStyle_Tencode', 'Foundation_Tencode|MoSold', 'Utilities_Tencode|Fireplaces', '2ndFlrSF|BedroomAbvGr', 'CentralAir_Tencode|YrSold', 'EnclosedPorch|BsmtFullBath', 'LotShape_Tencode|CentralAir_Tencode', 'BsmtExposure_Tencode|Condition1_Tencode', 'OverallQual|GarageCars', 'LandContour_Tencode|MasVnrType_Tencode', 'GarageYrBlt|SaleCondition_Tencode', 'GarageType_Tencode', 'MasVnrType_Tencode|Exterior1st_Tencode', 'HouseStyle_Tencode|HalfBath', 'OpenPorchSF|BsmtFinSF2', 'ExterQual_Tencode|GarageFinish_Tencode', 'WoodDeckSF|LotConfig_Tencode', 'FireplaceQu_Tencode|GarageType_Tencode', 'LotShape_Tencode|BldgType_Tencode', 'BsmtFinType1_Tencode|GarageCond_Tencode', 'MasVnrArea|MoSold', '3SsnPorch|GarageYrBlt', '3SsnPorch|Utilities_Tencode', 'KitchenQual_Tencode|KitchenAbvGr', 'BsmtFinType2_Tencode|LowQualFinSF', 'CentralAir_Tencode|Fireplaces', 'BsmtFinSF2|MasVnrType_Tencode', 'Fence_Tencode|BsmtFinSF2', 'Electrical_Tencode|LotArea', 'OpenPorchSF|BsmtCond_Tencode', 'FireplaceQu_Tencode|Neighborhood_Tencode', 'FullBath|BsmtQual_Tencode', 'HeatingQC_Tencode|WoodDeckSF', 'MiscVal|ExterQual_Tencode', 'GarageYrBlt|BsmtFinType2_Tencode', 'GarageYrBlt|1stFlrSF', 'KitchenQual_Tencode|Utilities_Tencode', 'BsmtFinType1_Tencode|2ndFlrSF', 'ExterQual_Tencode|YearRemodAdd', 'HeatingQC_Tencode|GrLivArea', '2ndFlrSF|Condition2_Tencode', 'LandSlope_Tencode|BldgType_Tencode', 'MasVnrArea|BldgType_Tencode', 'BsmtFinType2_Tencode|MSZoning_Tencode', 'GarageCond_Tencode|GarageArea', 'GarageCond_Tencode|Condition2_Tencode', 'HouseStyle_Tencode|KitchenAbvGr', 'MasVnrArea|Condition2_Tencode', 'KitchenQual_Tencode|GrLivArea', 'LotShape_Tencode|GarageArea', 'WoodDeckSF|BsmtUnfSF', 'FullBath|GarageArea', 'YearBuilt|SaleCondition_Tencode', 'YearBuilt|GarageCars', 'Heating_Tencode|Fireplaces', 'GarageYrBlt|Fireplaces', 'MSSubClass|Neighborhood_Tencode', 'Street_Tencode|GarageArea', '3SsnPorch|PavedDrive_Tencode', 'SaleType_Tencode|YearRemodAdd', 'HeatingQC_Tencode', 'Foundation_Tencode|KitchenQual_Tencode', 'Alley_Tencode|BsmtHalfBath', 'HouseStyle_Tencode|LotFrontage', 'TotRmsAbvGrd|Fireplaces', 'KitchenQual_Tencode|Condition2_Tencode', 'RoofMatl_Tencode|GarageFinish_Tencode', 'BsmtExposure_Tencode|BsmtFullBath', 'BsmtHalfBath|Condition2_Tencode', 'MasVnrArea', 'RoofMatl_Tencode|Condition2_Tencode', 'LotShape_Tencode|KitchenAbvGr', 'Foundation_Tencode|KitchenAbvGr', 'MiscFeature_Tencode|3SsnPorch', 'BsmtHalfBath|BsmtExposure_Tencode', 'OpenPorchSF|MiscVal', 'HeatingQC_Tencode|Condition1_Tencode', 'OverallQual|BsmtExposure_Tencode', 'FullBath|MoSold', 'Exterior2nd_Tencode|BsmtFinSF1', 'BsmtFinSF1|PavedDrive_Tencode', 'OverallQual|RoofStyle_Tencode', 'Exterior1st_Tencode|GarageCars', 'BsmtFinSF2|1stFlrSF', 'GarageType_Tencode|1stFlrSF', 'RoofMatl_Tencode|BsmtFullBath', 'BsmtFinType2_Tencode|TotalBsmtSF', 'GrLivArea|Condition2_Tencode', 'GarageArea|BedroomAbvGr', 'HeatingQC_Tencode|MasVnrType_Tencode', 'BsmtQual_Tencode|BldgType_Tencode', 'HouseStyle_Tencode|RoofStyle_Tencode', 'Foundation_Tencode|BsmtUnfSF', 'FullBath|BsmtFinType2_Tencode', 'Heating_Tencode|GarageYrBlt', 'Electrical_Tencode|HalfBath', 'LotConfig_Tencode|PoolArea', 'ExterQual_Tencode|Exterior1st_Tencode', 'MasVnrArea|BsmtExposure_Tencode', 'HeatingQC_Tencode|Foundation_Tencode', 'BsmtFinType1_Tencode|MSSubClass', 'HeatingQC_Tencode|FullBath', 'BsmtHalfBath|MoSold', 'MiscFeature_Tencode|PavedDrive_Tencode', 'Alley_Tencode|YearRemodAdd', 'Utilities_Tencode|GrLivArea', 'GarageYrBlt|OverallQual', '2ndFlrSF|Condition1_Tencode', 'FireplaceQu_Tencode|LotArea', 'BsmtCond_Tencode|PoolArea', 'MasVnrType_Tencode', 'WoodDeckSF|Utilities_Tencode', 'GarageCond_Tencode|BldgType_Tencode', 'FullBath|HalfBath', 'BsmtFinType2_Tencode|Neighborhood_Tencode', 'Exterior2nd_Tencode|Condition2_Tencode', 'ExterCond_Tencode|Condition2_Tencode', 'Heating_Tencode|ScreenPorch', 'WoodDeckSF|Condition2_Tencode', 'WoodDeckSF|RoofStyle_Tencode', 'BsmtHalfBath|BsmtCond_Tencode', 'OverallQual|LowQualFinSF', 'MoSold|KitchenQual_Tencode', 'LowQualFinSF|KitchenQual_Tencode', 'BsmtFinType2_Tencode|YearRemodAdd', 'TotRmsAbvGrd|LowQualFinSF', 'Electrical_Tencode|Neighborhood_Tencode', 'BsmtFinType2_Tencode|PoolArea', 'Neighborhood_Tencode|KitchenAbvGr', 'MoSold|ExterCond_Tencode', 'TotRmsAbvGrd|Neighborhood_Tencode', 'SaleCondition_Tencode|BsmtFullBath', 'LotConfig_Tencode|Fence_Tencode', 'RoofMatl_Tencode|BsmtUnfSF', 'Exterior2nd_Tencode|BsmtHalfBath', 'YearRemodAdd|BedroomAbvGr', 'BsmtCond_Tencode|EnclosedPorch', 'BsmtFinType1_Tencode|CentralAir_Tencode', 'YearBuilt|KitchenAbvGr', 'KitchenQual_Tencode|SaleCondition_Tencode', 'MiscFeature_Tencode|LandContour_Tencode', 'BsmtFinType2_Tencode|GarageFinish_Tencode', 'Alley_Tencode|HalfBath', 'Fence_Tencode|Condition1_Tencode', 'Electrical_Tencode|GarageType_Tencode', 'LotShape_Tencode|Exterior2nd_Tencode', 'RoofMatl_Tencode|GarageQual_Tencode', 'LandSlope_Tencode|HouseStyle_Tencode', 'HalfBath|Neighborhood_Tencode', 'BsmtHalfBath|RoofStyle_Tencode', 'RoofMatl_Tencode|TotalBsmtSF', 'BsmtQual_Tencode|TotalBsmtSF', 'LotShape_Tencode|MiscVal', 'HeatingQC_Tencode|EnclosedPorch', 'RoofMatl_Tencode|GrLivArea', 'ExterCond_Tencode|PavedDrive_Tencode', 'Heating_Tencode|BsmtFinSF1', 'PoolQC_Tencode|BsmtQual_Tencode', 'GarageYrBlt|GarageCars', 'LotConfig_Tencode|BldgType_Tencode', 'YrSold|BldgType_Tencode', 'RoofMatl_Tencode|RoofStyle_Tencode', 'Exterior2nd_Tencode|PoolArea', 'MSSubClass|MSZoning_Tencode', 'OpenPorchSF|Neighborhood_Tencode', 'SaleType_Tencode|KitchenQual_Tencode', 'RoofMatl_Tencode|YearRemodAdd', 'MiscVal|BsmtUnfSF', 'HalfBath|Utilities_Tencode', 'MiscVal|BsmtFullBath', 'BsmtFinType1_Tencode|LandSlope_Tencode', 'GarageFinish_Tencode|Condition1_Tencode', 'Alley_Tencode|2ndFlrSF', 'Alley_Tencode|YearBuilt', 'Heating_Tencode|Electrical_Tencode', 'PoolArea|YearRemodAdd', 'YearBuilt|PoolArea', 'HeatingQC_Tencode|GarageCond_Tencode', 'OpenPorchSF|1stFlrSF', 'Street_Tencode|LotConfig_Tencode', 'FireplaceQu_Tencode|HalfBath', 'WoodDeckSF|LowQualFinSF', 'MiscFeature_Tencode|GarageQual_Tencode', '3SsnPorch|BsmtCond_Tencode', 'Foundation_Tencode|RoofStyle_Tencode', 'Utilities_Tencode|BedroomAbvGr', 'Foundation_Tencode|FullBath', 'LandSlope_Tencode|GarageCars', 'BsmtFinType1_Tencode|YearBuilt', 'BsmtQual_Tencode|Fireplaces', 'Heating_Tencode|BsmtFinType2_Tencode', 'PoolQC_Tencode|MSSubClass', '3SsnPorch|YearRemodAdd', 'BsmtCond_Tencode|MSSubClass', 'RoofStyle_Tencode|EnclosedPorch', 'HalfBath|BsmtFinSF2', 'MSSubClass', 'RoofStyle_Tencode|GrLivArea', 'OverallQual|GarageType_Tencode', 'SaleType_Tencode|KitchenAbvGr', '3SsnPorch|MasVnrArea', 'Foundation_Tencode|LotConfig_Tencode', 'SaleType_Tencode|GarageQual_Tencode', 'YearBuilt', 'BsmtCond_Tencode|TotRmsAbvGrd', 'HeatingQC_Tencode|MiscVal', 'LandContour_Tencode|PavedDrive_Tencode', 'BsmtFinSF1|MoSold', 'ExterCond_Tencode|Exterior1st_Tencode', 'BsmtHalfBath|PoolQC_Tencode', 'Fence_Tencode|MasVnrType_Tencode', 'GarageFinish_Tencode|PavedDrive_Tencode', 'BsmtFinType2_Tencode|Fence_Tencode', 'TotRmsAbvGrd|EnclosedPorch', 'RoofStyle_Tencode|BedroomAbvGr', 'MSSubClass|MoSold', 'Fence_Tencode|HouseStyle_Tencode', 'BsmtCond_Tencode|BsmtFinSF1', 'FireplaceQu_Tencode|Electrical_Tencode', 'KitchenAbvGr|GrLivArea', '3SsnPorch|Exterior1st_Tencode', 'Exterior2nd_Tencode|WoodDeckSF', '2ndFlrSF|ExterCond_Tencode', 'CentralAir_Tencode|Electrical_Tencode', 'BsmtHalfBath|ScreenPorch', 'LotConfig_Tencode|PavedDrive_Tencode', 'LotConfig_Tencode|MiscVal', 'MiscFeature_Tencode|KitchenQual_Tencode', 'BsmtFinSF2|LotFrontage', 'BsmtQual_Tencode|Condition2_Tencode', 'PoolQC_Tencode|LotFrontage', 'GarageYrBlt|BsmtExposure_Tencode', 'MiscFeature_Tencode|ExterCond_Tencode', 'Foundation_Tencode|1stFlrSF', 'Functional_Tencode|BsmtUnfSF', 'LowQualFinSF|LandContour_Tencode', 'LotShape_Tencode|HouseStyle_Tencode', 'BsmtUnfSF|Condition2_Tencode', 'BedroomAbvGr|BldgType_Tencode', 'Street_Tencode|MSSubClass', 'LandSlope_Tencode|TotRmsAbvGrd', 'Neighborhood_Tencode|Condition2_Tencode', 'BsmtFinSF2|PoolArea', 'SaleType_Tencode|EnclosedPorch', 'YrSold|ScreenPorch', 'BsmtHalfBath|GrLivArea', 'Exterior2nd_Tencode|BsmtExposure_Tencode', 'RoofMatl_Tencode|2ndFlrSF', 'MSSubClass|SaleCondition_Tencode', 'Street_Tencode|Functional_Tencode', 'CentralAir_Tencode|MiscVal', 'HouseStyle_Tencode|BedroomAbvGr', 'Utilities_Tencode|1stFlrSF', 'BsmtFinType2_Tencode|Functional_Tencode', 'TotalBsmtSF|ExterCond_Tencode', 'LandSlope_Tencode|BedroomAbvGr', 'GarageCond_Tencode|BsmtCond_Tencode', '3SsnPorch|MiscVal', 'CentralAir_Tencode|BldgType_Tencode', 'TotRmsAbvGrd|SaleCondition_Tencode', 'PavedDrive_Tencode|ScreenPorch', 'GarageYrBlt|PavedDrive_Tencode', 'MiscFeature_Tencode|Fireplaces', 'MasVnrType_Tencode|Fireplaces', 'Foundation_Tencode|BsmtHalfBath', 'SaleType_Tencode|GarageArea', 'Alley_Tencode|Heating_Tencode', 'GarageYrBlt|FireplaceQu_Tencode', 'BsmtFinSF2|MSZoning_Tencode', 'TotRmsAbvGrd|GarageFinish_Tencode', 'Heating_Tencode|FullBath', 'GarageFinish_Tencode|BedroomAbvGr', '3SsnPorch|GarageType_Tencode', 'BsmtQual_Tencode|GarageCars', 'YearBuilt|Utilities_Tencode', 'LotShape_Tencode|Utilities_Tencode', 'Exterior2nd_Tencode|Alley_Tencode', 'SaleType_Tencode|ExterCond_Tencode', 'Electrical_Tencode', 'MoSold|Condition2_Tencode', 'YearBuilt|BsmtFinSF2', 'MSSubClass|Exterior1st_Tencode', 'BsmtFinType1_Tencode|HalfBath', 'Alley_Tencode|Neighborhood_Tencode', 'OpenPorchSF|OverallCond', 'Foundation_Tencode|BldgType_Tencode', 'RoofMatl_Tencode|ExterQual_Tencode', 'OpenPorchSF|GarageFinish_Tencode', 'LowQualFinSF|Condition2_Tencode', 'Heating_Tencode|YearRemodAdd', 'Functional_Tencode|MoSold', 'WoodDeckSF|BsmtFullBath', 'BsmtFinSF1|BsmtUnfSF', 'Street_Tencode|MiscVal', 'LotConfig_Tencode|BsmtFinSF2', 'LandSlope_Tencode|KitchenQual_Tencode', 'Exterior2nd_Tencode|BsmtCond_Tencode', 'MasVnrType_Tencode|BedroomAbvGr', 'LotConfig_Tencode|Neighborhood_Tencode', 'FireplaceQu_Tencode|YearBuilt', 'SaleType_Tencode|GarageCond_Tencode', 'LandSlope_Tencode|YrSold', 'Exterior1st_Tencode|Condition1_Tencode', 'BsmtFinType1_Tencode|GarageYrBlt', 'RoofMatl_Tencode|HalfBath', 'MasVnrArea|MSZoning_Tencode', 'Electrical_Tencode|YearBuilt', 'FullBath|BsmtFinSF1', 'MiscFeature_Tencode|FullBath', 'PavedDrive_Tencode|GarageCars', 'Alley_Tencode|PoolQC_Tencode', 'BsmtCond_Tencode|BsmtExposure_Tencode', 'LowQualFinSF|TotalBsmtSF', 'MiscFeature_Tencode|EnclosedPorch', 'GarageCond_Tencode|PoolQC_Tencode', 'GarageYrBlt|BldgType_Tencode', 'Exterior2nd_Tencode|MSSubClass', 'GarageFinish_Tencode|BsmtFullBath', 'BsmtHalfBath|Fireplaces', 'MoSold|GarageFinish_Tencode', 'OpenPorchSF|Street_Tencode', 'FullBath|Fence_Tencode', 'WoodDeckSF|BldgType_Tencode', 'Heating_Tencode|KitchenQual_Tencode', '3SsnPorch|EnclosedPorch', 'OverallQual|RoofMatl_Tencode', 'OpenPorchSF|Fireplaces', 'BsmtFinType1_Tencode|LotArea', 'GarageArea|ScreenPorch', 'BsmtHalfBath|GarageFinish_Tencode', 'Functional_Tencode|BsmtExposure_Tencode', 'BldgType_Tencode|Condition1_Tencode', 'ExterQual_Tencode|BldgType_Tencode', 'BsmtExposure_Tencode|Utilities_Tencode', 'Alley_Tencode|GarageYrBlt', 'BsmtCond_Tencode|PoolQC_Tencode', 'LandSlope_Tencode|YearRemodAdd', 'LotConfig_Tencode|RoofStyle_Tencode', 'Functional_Tencode|2ndFlrSF', 'BsmtExposure_Tencode|GarageCars', 'Functional_Tencode|GarageQual_Tencode', 'HalfBath|SaleCondition_Tencode', 'TotRmsAbvGrd|MSZoning_Tencode', 'LotConfig_Tencode|LandContour_Tencode', 'MasVnrType_Tencode|MSZoning_Tencode', 'GarageYrBlt|BsmtFinSF1', 'Street_Tencode|HalfBath', 'GarageYrBlt|KitchenAbvGr', 'MSSubClass|BldgType_Tencode', 'LotShape_Tencode|FullBath', 'PoolArea|1stFlrSF', 'MasVnrType_Tencode|LotFrontage', 'BsmtFinType1_Tencode|ExterQual_Tencode', 'LandContour_Tencode|MoSold', 'SaleType_Tencode|PoolQC_Tencode', 'LotConfig_Tencode|KitchenAbvGr', 'LandContour_Tencode|KitchenAbvGr', 'MasVnrArea|MiscVal', 'BsmtCond_Tencode|PavedDrive_Tencode', 'BsmtCond_Tencode|BsmtFinType2_Tencode', 'OverallQual|Condition1_Tencode', 'RoofMatl_Tencode|BldgType_Tencode', 'LandSlope_Tencode|Exterior1st_Tencode', 'LandContour_Tencode|ExterQual_Tencode', 'BsmtQual_Tencode|BsmtUnfSF', 'YrSold|BedroomAbvGr', 'Utilities_Tencode|Exterior1st_Tencode', 'BsmtFinType2_Tencode|MasVnrType_Tencode', 'BsmtFinType1_Tencode|LowQualFinSF', 'MoSold|SaleCondition_Tencode', 'BsmtFinType1_Tencode|GrLivArea', 'BsmtFinType2_Tencode|MoSold', 'BsmtFinSF1|MSSubClass', 'MoSold|KitchenAbvGr', 'Utilities_Tencode|MSZoning_Tencode', 'BsmtHalfBath|BldgType_Tencode', 'LotArea|GarageQual_Tencode', 'ExterCond_Tencode|GrLivArea', 'HouseStyle_Tencode|PavedDrive_Tencode', 'MiscVal|MSZoning_Tencode', 'LowQualFinSF|GarageQual_Tencode', 'BsmtCond_Tencode|BsmtFinSF2', 'MasVnrArea|YrSold', 'MSSubClass|YrSold', 'Functional_Tencode|Utilities_Tencode', 'OpenPorchSF|FireplaceQu_Tencode', 'BsmtFinSF2|Utilities_Tencode', 'BsmtUnfSF|GarageFinish_Tencode', 'BsmtFinType2_Tencode|BsmtUnfSF', 'GarageFinish_Tencode|KitchenAbvGr', 'YearRemodAdd|OverallCond', '2ndFlrSF|KitchenAbvGr', 'YearBuilt|GarageFinish_Tencode', 'Street_Tencode|MasVnrType_Tencode', 'RoofMatl_Tencode|LowQualFinSF', 'LandSlope_Tencode|BsmtQual_Tencode', 'MSSubClass|Utilities_Tencode', 'FireplaceQu_Tencode|ExterCond_Tencode', 'BsmtFinType1_Tencode|MiscVal', 'GarageCond_Tencode|GarageQual_Tencode', 'Exterior2nd_Tencode|Fence_Tencode', 'KitchenQual_Tencode|GarageCars', 'GarageYrBlt|MasVnrType_Tencode', 'YearBuilt|Neighborhood_Tencode', 'Functional_Tencode|GarageFinish_Tencode', 'YrSold|Condition1_Tencode', 'Heating_Tencode|Fence_Tencode', 'Exterior2nd_Tencode|GarageArea', 'FullBath|BedroomAbvGr', 'BsmtFinSF1|RoofMatl_Tencode', 'KitchenAbvGr|ScreenPorch', 'GarageYrBlt|BsmtUnfSF', 'PoolArea|ScreenPorch', 'FireplaceQu_Tencode|SaleCondition_Tencode', 'BsmtFinType1_Tencode|ScreenPorch', 'Street_Tencode|YrSold', 'Exterior2nd_Tencode|GarageQual_Tencode', 'HeatingQC_Tencode|RoofMatl_Tencode', '3SsnPorch|ScreenPorch', 'GarageType_Tencode|OverallCond', 'Alley_Tencode|LandSlope_Tencode', 'BsmtFinSF1|HalfBath', 'BsmtCond_Tencode|Fireplaces', 'ExterCond_Tencode|MSZoning_Tencode', 'YrSold|GarageCars', 'HeatingQC_Tencode|LandContour_Tencode', 'BsmtFinType1_Tencode|FullBath', 'PavedDrive_Tencode', 'Fence_Tencode|PavedDrive_Tencode', 'BsmtCond_Tencode|GarageCars', 'SaleType_Tencode|LotConfig_Tencode', 'WoodDeckSF|KitchenQual_Tencode', 'Alley_Tencode|Functional_Tencode', 'OverallCond|PavedDrive_Tencode', 'Heating_Tencode|LotFrontage', 'TotalBsmtSF|GarageFinish_Tencode', 'MiscFeature_Tencode|Street_Tencode', 'LowQualFinSF|ExterCond_Tencode', 'BsmtHalfBath|Condition1_Tencode', 'PoolQC_Tencode|GrLivArea', 'BsmtFinSF1|BldgType_Tencode', 'PoolArea|MoSold', 'FireplaceQu_Tencode|KitchenAbvGr', 'Electrical_Tencode|Exterior1st_Tencode', 'Fence_Tencode|LotFrontage', 'CentralAir_Tencode|BsmtQual_Tencode', 'HeatingQC_Tencode|KitchenAbvGr', 'Fence_Tencode|RoofMatl_Tencode', 'FireplaceQu_Tencode|Functional_Tencode', 'HeatingQC_Tencode|LotFrontage', 'GarageYrBlt|TotRmsAbvGrd', 'HalfBath|KitchenAbvGr', 'MiscVal|BsmtQual_Tencode', 'BsmtQual_Tencode|Utilities_Tencode', 'MSSubClass|GarageFinish_Tencode', 'MSSubClass|2ndFlrSF', 'HeatingQC_Tencode|ExterCond_Tencode', 'LotFrontage|BedroomAbvGr', 'SaleCondition_Tencode|EnclosedPorch', 'Electrical_Tencode|BedroomAbvGr', 'GarageYrBlt|YrSold', 'BsmtExposure_Tencode|Condition2_Tencode', 'PoolQC_Tencode|Fireplaces', 'BsmtQual_Tencode|GrLivArea', 'LotFrontage|LotArea', 'LandSlope_Tencode|Condition1_Tencode', 'Fence_Tencode|Exterior1st_Tencode', 'GarageCond_Tencode|FireplaceQu_Tencode', 'RoofStyle_Tencode|LotArea', '3SsnPorch|Fireplaces', 'Electrical_Tencode|GarageQual_Tencode', 'GarageYrBlt|LotFrontage', '3SsnPorch|Alley_Tencode', 'LotFrontage|BsmtFullBath', 'YearRemodAdd|KitchenQual_Tencode', 'PoolArea|SaleCondition_Tencode', 'Fence_Tencode|BsmtFullBath', 'BsmtCond_Tencode|BldgType_Tencode', 'CentralAir_Tencode|Neighborhood_Tencode', 'KitchenAbvGr|BedroomAbvGr', 'HouseStyle_Tencode|BsmtUnfSF', 'Fireplaces|Condition1_Tencode', 'CentralAir_Tencode|SaleCondition_Tencode', 'FullBath|Functional_Tencode', '3SsnPorch|FullBath', 'CentralAir_Tencode|OverallQual', 'BsmtExposure_Tencode|PavedDrive_Tencode', 'FireplaceQu_Tencode|BedroomAbvGr', 'Alley_Tencode|GarageFinish_Tencode', 'FireplaceQu_Tencode|LandContour_Tencode', 'BsmtFinSF2|Condition2_Tencode', 'MasVnrArea|RoofMatl_Tencode', 'Alley_Tencode|ScreenPorch', 'CentralAir_Tencode|PoolArea', 'RoofStyle_Tencode|KitchenAbvGr', 'LotShape_Tencode|YearRemodAdd', 'WoodDeckSF|1stFlrSF', 'MiscFeature_Tencode|BsmtFinType1_Tencode', 'Fireplaces|PavedDrive_Tencode', 'SaleCondition_Tencode|GrLivArea', '3SsnPorch|RoofMatl_Tencode', 'ExterQual_Tencode|Fireplaces', 'GarageYrBlt|PoolArea', 'LowQualFinSF|Utilities_Tencode', 'WoodDeckSF|ScreenPorch', 'BsmtFinType1_Tencode|MoSold', 'GarageYrBlt|BsmtCond_Tencode', 'TotRmsAbvGrd|Condition1_Tencode', 'OpenPorchSF|FullBath', 'LandContour_Tencode|Condition2_Tencode', 'PavedDrive_Tencode|Condition1_Tencode', 'YrSold|Exterior1st_Tencode', 'Heating_Tencode|YearBuilt', 'MasVnrType_Tencode|Neighborhood_Tencode', 'KitchenAbvGr|1stFlrSF', 'YrSold|EnclosedPorch', 'OverallQual|MSSubClass', 'BsmtQual_Tencode|ScreenPorch', 'MoSold|LotArea', 'LotShape_Tencode|GarageFinish_Tencode', 'TotRmsAbvGrd|MSSubClass', 'BsmtCond_Tencode|Condition1_Tencode', 'FireplaceQu_Tencode|YearRemodAdd', 'LotShape_Tencode|MoSold', 'LotConfig_Tencode|BsmtFullBath', 'ScreenPorch|GarageCars', 'CentralAir_Tencode|LotArea', 'GarageYrBlt|YearBuilt', 'FullBath|Utilities_Tencode', 'LandContour_Tencode|ExterCond_Tencode', 'HouseStyle_Tencode|MSZoning_Tencode', 'SaleCondition_Tencode|OverallCond', 'Fence_Tencode|EnclosedPorch', 'TotalBsmtSF|EnclosedPorch', 'Electrical_Tencode|ExterQual_Tencode', 'Functional_Tencode|SaleCondition_Tencode', 'GarageCond_Tencode|GarageCars', 'BsmtHalfBath|Exterior1st_Tencode', 'Electrical_Tencode|BsmtFullBath', 'GarageArea|GarageCars', 'OverallQual|Fireplaces', 'Utilities_Tencode|GarageQual_Tencode', 'Exterior2nd_Tencode|Fireplaces', 'HeatingQC_Tencode|PavedDrive_Tencode', 'BsmtFinType2_Tencode|BsmtExposure_Tencode', '3SsnPorch|Exterior2nd_Tencode', 'MSZoning_Tencode|ScreenPorch', '3SsnPorch|TotalBsmtSF', 'BsmtExposure_Tencode|ExterCond_Tencode', 'HeatingQC_Tencode|LandSlope_Tencode', 'GarageFinish_Tencode|SaleCondition_Tencode', 'LotFrontage|PavedDrive_Tencode', 'WoodDeckSF|GarageCars', 'Fence_Tencode|MoSold', 'HeatingQC_Tencode|1stFlrSF', 'OverallQual', 'BsmtFinType1_Tencode', 'CentralAir_Tencode|BsmtFinSF1', 'Functional_Tencode|BsmtFullBath', 'GarageArea|PoolArea', 'PoolQC_Tencode|YearRemodAdd', 'HouseStyle_Tencode|GarageFinish_Tencode', 'BsmtCond_Tencode|YearBuilt', 'LotArea|Condition2_Tencode', 'MasVnrArea|LandContour_Tencode', 'CentralAir_Tencode|LandContour_Tencode', 'HeatingQC_Tencode|PoolArea', 'OpenPorchSF|RoofMatl_Tencode', 'GrLivArea|Condition1_Tencode', 'Fireplaces|BsmtFullBath', 'MSSubClass|BsmtUnfSF', 'Exterior2nd_Tencode|OverallCond', 'ExterQual_Tencode|SaleCondition_Tencode', 'GarageYrBlt|HouseStyle_Tencode', 'GarageYrBlt|LotArea', '3SsnPorch|1stFlrSF', 'EnclosedPorch|PavedDrive_Tencode', 'FullBath|KitchenQual_Tencode', 'YearBuilt|BsmtUnfSF', 'Street_Tencode|BsmtExposure_Tencode', 'ScreenPorch|GarageQual_Tencode', 'GarageArea|GarageFinish_Tencode', 'BsmtQual_Tencode|MoSold', 'GarageCond_Tencode|OverallCond', '3SsnPorch|MSZoning_Tencode', 'GarageYrBlt|2ndFlrSF', 'CentralAir_Tencode|EnclosedPorch', 'Neighborhood_Tencode|OverallCond', 'FireplaceQu_Tencode|ScreenPorch', 'EnclosedPorch|1stFlrSF', 'BsmtQual_Tencode|PoolArea', 'BsmtQual_Tencode|Condition1_Tencode', 'Heating_Tencode|BedroomAbvGr', 'BsmtHalfBath|OverallCond', 'MasVnrArea|Exterior1st_Tencode', '2ndFlrSF|KitchenQual_Tencode', 'ExterQual_Tencode|LotArea', 'LotShape_Tencode|BsmtFullBath', 'YearRemodAdd|GarageFinish_Tencode', 'PoolQC_Tencode|Exterior1st_Tencode', 'HeatingQC_Tencode|BsmtFullBath', 'OpenPorchSF|ExterQual_Tencode', 'BsmtFinSF1|BedroomAbvGr', 'Alley_Tencode|KitchenQual_Tencode', 'LowQualFinSF|BsmtFullBath', 'Foundation_Tencode|GarageCars', 'Street_Tencode|LandSlope_Tencode', 'OverallQual|MoSold', 'BedroomAbvGr|BsmtFullBath', 'Foundation_Tencode|MSSubClass', 'FullBath|1stFlrSF', 'BsmtFinType2_Tencode|OverallCond', 'HeatingQC_Tencode|BsmtUnfSF', 'MiscFeature_Tencode|HeatingQC_Tencode', 'SaleType_Tencode|YearBuilt', 'MasVnrArea|BsmtFinType2_Tencode', 'KitchenAbvGr|Fireplaces', 'LotShape_Tencode|BsmtExposure_Tencode', 'BsmtFinType2_Tencode|ExterQual_Tencode', '3SsnPorch|Foundation_Tencode', 'PoolArea|KitchenAbvGr', 'YearBuilt|HalfBath', '3SsnPorch|YrSold', 'FireplaceQu_Tencode|GrLivArea', 'Foundation_Tencode|PoolQC_Tencode', '3SsnPorch|GarageQual_Tencode', 'GarageArea|BsmtQual_Tencode', 'Alley_Tencode|RoofStyle_Tencode', 'GarageCond_Tencode|BedroomAbvGr', 'BsmtFinType2_Tencode|KitchenQual_Tencode', 'PoolQC_Tencode|Functional_Tencode', 'GarageCond_Tencode|BsmtQual_Tencode', 'HeatingQC_Tencode|YrSold', 'LotArea', 'HouseStyle_Tencode|LotArea', 'BedroomAbvGr|ScreenPorch', 'BsmtFinType2_Tencode|ScreenPorch', 'GarageArea|Neighborhood_Tencode', 'Heating_Tencode|Utilities_Tencode', 'RoofStyle_Tencode|YearRemodAdd', 'PoolArea|GarageType_Tencode', 'PoolQC_Tencode|MiscVal', 'HalfBath|YearRemodAdd', 'BsmtFinType1_Tencode|SaleCondition_Tencode', 'Heating_Tencode|GarageCond_Tencode', 'RoofStyle_Tencode|PavedDrive_Tencode', 'Alley_Tencode|BsmtUnfSF', 'Alley_Tencode|WoodDeckSF', 'MiscFeature_Tencode|WoodDeckSF', 'LotArea|BedroomAbvGr', 'LotShape_Tencode|SaleType_Tencode', 'Alley_Tencode|GarageCars', 'Exterior2nd_Tencode|Electrical_Tencode', 'YearRemodAdd|GarageCars', 'GarageYrBlt|GrLivArea', 'ExterCond_Tencode|BsmtFullBath', 'CentralAir_Tencode|Condition2_Tencode', 'RoofMatl_Tencode|YrSold', 'MiscFeature_Tencode|Functional_Tencode', 'FullBath|ScreenPorch', 'LandSlope_Tencode|RoofMatl_Tencode', 'YearBuilt|Functional_Tencode', '1stFlrSF|Condition1_Tencode', 'PoolQC_Tencode|OverallCond', 'BsmtFinType1_Tencode|Condition2_Tencode', 'WoodDeckSF|Electrical_Tencode', 'MSZoning_Tencode|BldgType_Tencode', 'ExterCond_Tencode|ScreenPorch', 'BsmtExposure_Tencode|Exterior1st_Tencode', 'MasVnrType_Tencode|BldgType_Tencode', 'Fence_Tencode|ScreenPorch', 'LotShape_Tencode|PoolQC_Tencode', 'FireplaceQu_Tencode|BsmtFinSF1', 'FireplaceQu_Tencode|Fence_Tencode', 'MasVnrType_Tencode|ScreenPorch', 'YearBuilt|BldgType_Tencode', 'BsmtExposure_Tencode|LotArea', 'HouseStyle_Tencode|TotalBsmtSF', 'RoofMatl_Tencode|BsmtQual_Tencode', 'BsmtHalfBath|PavedDrive_Tencode', 'GarageYrBlt|GarageQual_Tencode', 'KitchenAbvGr|MSZoning_Tencode', 'MasVnrArea|EnclosedPorch', 'GarageYrBlt|Condition1_Tencode', 'Electrical_Tencode|BsmtFinType2_Tencode', 'GarageFinish_Tencode|BldgType_Tencode', 'TotRmsAbvGrd|GarageQual_Tencode', 'MiscFeature_Tencode|Fence_Tencode', 'Foundation_Tencode|Utilities_Tencode', 'BsmtFinSF1|YearBuilt', 'Fence_Tencode|GarageCars', 'ExterQual_Tencode|LotFrontage', 'BldgType_Tencode|GarageQual_Tencode', 'MasVnrType_Tencode|GarageCars', 'Neighborhood_Tencode|MSZoning_Tencode', 'FullBath|Neighborhood_Tencode', 'Electrical_Tencode|OverallQual', 'Functional_Tencode|GrLivArea', 'MiscVal|RoofMatl_Tencode', 'LandContour_Tencode|BsmtExposure_Tencode', 'BsmtCond_Tencode|GarageQual_Tencode', 'Electrical_Tencode|KitchenAbvGr', 'PoolQC_Tencode|1stFlrSF', 'ExterQual_Tencode|BsmtExposure_Tencode', 'LandContour_Tencode|BsmtFinSF2', 'PoolArea|MSZoning_Tencode', 'RoofMatl_Tencode|GarageType_Tencode', 'KitchenQual_Tencode|YrSold', 'LotShape_Tencode|KitchenQual_Tencode', 'OverallQual|BsmtUnfSF', 'LotFrontage|Exterior1st_Tencode', '3SsnPorch|RoofStyle_Tencode', 'Street_Tencode|GarageCond_Tencode', 'BsmtFinSF1|Functional_Tencode', 'Street_Tencode|PavedDrive_Tencode', 'Foundation_Tencode|TotRmsAbvGrd', 'YearRemodAdd|MSZoning_Tencode', 'MiscVal|KitchenAbvGr', 'BedroomAbvGr|GarageQual_Tencode', 'LotConfig_Tencode|GrLivArea', 'MoSold|1stFlrSF', 'GarageCond_Tencode|MiscVal', 'Exterior1st_Tencode|BldgType_Tencode', 'Functional_Tencode|KitchenAbvGr', 'BsmtCond_Tencode|GarageType_Tencode', 'BsmtFinType1_Tencode|OverallCond', 'HalfBath|KitchenQual_Tencode', 'PoolArea|ExterCond_Tencode', 'HeatingQC_Tencode|BsmtFinSF1', 'LotConfig_Tencode|MSZoning_Tencode', 'LowQualFinSF|Exterior1st_Tencode', 'LotShape_Tencode|Neighborhood_Tencode', '3SsnPorch|LandContour_Tencode', 'TotalBsmtSF|1stFlrSF', 'MSSubClass|LandContour_Tencode', 'Heating_Tencode|BsmtCond_Tencode', 'MiscVal|LandContour_Tencode', 'FireplaceQu_Tencode|OverallQual', 'GrLivArea|ScreenPorch', 'LotFrontage|2ndFlrSF', 'PoolArea|KitchenQual_Tencode', 'Alley_Tencode', 'FullBath|BsmtFullBath', 'GarageType_Tencode|Condition1_Tencode', 'Street_Tencode|ScreenPorch', 'WoodDeckSF|LotFrontage', 'MasVnrArea|BsmtHalfBath', 'FullBath|GarageQual_Tencode', 'LotShape_Tencode|GarageYrBlt', 'LotShape_Tencode|LandContour_Tencode', 'CentralAir_Tencode|Fence_Tencode', 'GarageCond_Tencode|GarageFinish_Tencode', 'Heating_Tencode|FireplaceQu_Tencode', 'Exterior2nd_Tencode|ExterCond_Tencode', 'FireplaceQu_Tencode|MoSold', 'GarageCond_Tencode|PoolArea', 'LotFrontage|EnclosedPorch', 'BsmtQual_Tencode|RoofStyle_Tencode', 'LowQualFinSF|ScreenPorch', 'Utilities_Tencode|BsmtFullBath', 'PoolQC_Tencode|BsmtFinSF1', 'MiscFeature_Tencode|KitchenAbvGr', 'MasVnrArea|ExterQual_Tencode', 'LotShape_Tencode|MSSubClass', 'MiscVal|ScreenPorch', 'GarageYrBlt|GarageType_Tencode', 'MiscFeature_Tencode|Exterior2nd_Tencode', 'BsmtExposure_Tencode|BldgType_Tencode', 'BsmtFinSF1|TotalBsmtSF', 'Heating_Tencode|EnclosedPorch', 'BsmtHalfBath|LowQualFinSF', 'OverallQual|LotArea', 'MiscVal|EnclosedPorch', 'SaleType_Tencode|LandContour_Tencode', 'Exterior2nd_Tencode|HalfBath', 'BsmtFinType1_Tencode|MasVnrType_Tencode', 'Alley_Tencode|1stFlrSF', 'Neighborhood_Tencode|GarageFinish_Tencode', 'OpenPorchSF|GarageYrBlt', '1stFlrSF|GarageCars', 'BsmtFinType1_Tencode|BsmtFinSF1', 'GarageType_Tencode|YrSold', 'GarageYrBlt|RoofMatl_Tencode', 'FullBath|LandContour_Tencode', 'Exterior2nd_Tencode|YearRemodAdd', 'MiscFeature_Tencode|BsmtCond_Tencode', 'BsmtQual_Tencode|BedroomAbvGr', '3SsnPorch|CentralAir_Tencode', 'Neighborhood_Tencode|YrSold', 'PoolQC_Tencode|PavedDrive_Tencode', 'MSSubClass|ScreenPorch', 'BsmtQual_Tencode|MasVnrType_Tencode', 'Electrical_Tencode|BsmtQual_Tencode', 'LotFrontage|ScreenPorch', 'BsmtFinSF1|LandSlope_Tencode', 'BsmtExposure_Tencode|BsmtUnfSF', 'Exterior2nd_Tencode|BsmtFinType2_Tencode', '3SsnPorch|BsmtFinSF1', 'Alley_Tencode|BldgType_Tencode', 'BsmtFinType1_Tencode|Condition1_Tencode', 'MasVnrType_Tencode|SaleCondition_Tencode', 'HeatingQC_Tencode|FireplaceQu_Tencode', 'FireplaceQu_Tencode|BsmtQual_Tencode', 'Street_Tencode|SaleCondition_Tencode', 'LotArea|PavedDrive_Tencode', 'BsmtQual_Tencode|BsmtExposure_Tencode', 'LowQualFinSF|PavedDrive_Tencode', 'CentralAir_Tencode|ExterQual_Tencode', 'SaleCondition_Tencode|MSZoning_Tencode', 'Street_Tencode|OverallQual', 'Electrical_Tencode|KitchenQual_Tencode', 'Electrical_Tencode|BsmtUnfSF', 'HeatingQC_Tencode|GarageCars', 'HalfBath|MoSold', 'Exterior2nd_Tencode|Street_Tencode', 'BsmtUnfSF|OverallCond', 'LandContour_Tencode|SaleCondition_Tencode', 'HeatingQC_Tencode|BsmtFinType2_Tencode', '3SsnPorch|HalfBath', 'Exterior2nd_Tencode|FireplaceQu_Tencode', 'Foundation_Tencode|GarageQual_Tencode', 'BsmtFinSF2|YrSold', 'BsmtFinSF2|GarageFinish_Tencode', 'BsmtFinSF1|ExterQual_Tencode', 'GarageFinish_Tencode|ExterCond_Tencode', 'BsmtHalfBath|Electrical_Tencode', 'BsmtFinType1_Tencode|BsmtExposure_Tencode', 'Heating_Tencode|RoofStyle_Tencode', 'HouseStyle_Tencode|2ndFlrSF', 'RoofMatl_Tencode|LandContour_Tencode', 'Functional_Tencode|BldgType_Tencode', 'GarageQual_Tencode|Condition2_Tencode', 'BsmtFinType1_Tencode|MasVnrArea', 'SaleType_Tencode|Electrical_Tencode', 'OverallQual|EnclosedPorch', 'YearBuilt|LotArea', 'GarageYrBlt|Fence_Tencode', 'YearRemodAdd|SaleCondition_Tencode', 'HouseStyle_Tencode|MoSold', 'BsmtUnfSF|YearRemodAdd', 'BsmtHalfBath|BedroomAbvGr', 'OpenPorchSF|RoofStyle_Tencode', 'RoofStyle_Tencode|PoolArea', 'Electrical_Tencode|MasVnrType_Tencode', 'PoolQC_Tencode|GarageType_Tencode', 'HouseStyle_Tencode|BsmtFullBath', 'MSSubClass|OverallCond', 'LandContour_Tencode|Neighborhood_Tencode', 'Exterior2nd_Tencode|FullBath', 'LowQualFinSF|GarageCars', 'Alley_Tencode|KitchenAbvGr', 'LotShape_Tencode|BsmtQual_Tencode', 'OpenPorchSF|BsmtFinSF1', 'BsmtFinType2_Tencode|BedroomAbvGr', 'BsmtHalfBath|HouseStyle_Tencode', 'GarageCond_Tencode|TotRmsAbvGrd', 'PoolArea|TotalBsmtSF', 'YearBuilt|MoSold', 'LotShape_Tencode|LotArea', 'Alley_Tencode|LandContour_Tencode', 'GarageType_Tencode|ScreenPorch', 'Heating_Tencode|YrSold', 'Street_Tencode|GarageCars', 'YrSold|Condition2_Tencode', 'Electrical_Tencode|BsmtExposure_Tencode', 'MiscFeature_Tencode|PoolArea', 'BsmtFinType1_Tencode|Fence_Tencode', 'Utilities_Tencode|YrSold', 'LotShape_Tencode|BsmtFinType1_Tencode', 'CentralAir_Tencode|Condition1_Tencode', 'LandSlope_Tencode|GarageType_Tencode', 'OverallQual|SaleCondition_Tencode', 'BsmtQual_Tencode|Exterior1st_Tencode', 'GarageArea|PavedDrive_Tencode', 'YearRemodAdd|GarageType_Tencode', '3SsnPorch', 'BsmtFinType1_Tencode|GarageArea', 'Exterior1st_Tencode|1stFlrSF', 'FullBath|HouseStyle_Tencode', 'LotShape_Tencode|EnclosedPorch', 'BsmtFinType2_Tencode|LotFrontage', 'BsmtFinSF2', 'PoolQC_Tencode|KitchenAbvGr', 'Condition1_Tencode', 'ExterCond_Tencode|BedroomAbvGr', 'SaleType_Tencode|PoolArea', 'ExterQual_Tencode|BsmtFinSF2', 'HeatingQC_Tencode|KitchenQual_Tencode', 'MiscFeature_Tencode|CentralAir_Tencode', 'MSZoning_Tencode|Condition1_Tencode', '3SsnPorch|Functional_Tencode', 'HouseStyle_Tencode|Condition2_Tencode', 'Fence_Tencode|YearBuilt', 'Street_Tencode|YearBuilt', 'GarageArea|Condition2_Tencode', 'YearRemodAdd|TotalBsmtSF', 'Heating_Tencode|MoSold', 'TotRmsAbvGrd|GrLivArea', 'CentralAir_Tencode|TotRmsAbvGrd', 'OpenPorchSF|Alley_Tencode', 'BsmtFinType2_Tencode|KitchenAbvGr', 'BsmtUnfSF|PavedDrive_Tencode', 'MasVnrType_Tencode|Condition1_Tencode', 'GarageYrBlt|Electrical_Tencode', 'Fence_Tencode|GarageType_Tencode', 'MiscFeature_Tencode|Electrical_Tencode', 'Functional_Tencode|LotFrontage', 'RoofStyle_Tencode|Utilities_Tencode', 'YearBuilt|Exterior1st_Tencode', 'FireplaceQu_Tencode|PoolArea', 'CentralAir_Tencode|HalfBath', 'PavedDrive_Tencode|BldgType_Tencode', 'Exterior2nd_Tencode|Utilities_Tencode', 'MiscVal|Exterior1st_Tencode', 'RoofMatl_Tencode|BedroomAbvGr', 'Neighborhood_Tencode|GarageCars', 'Electrical_Tencode|LotConfig_Tencode', 'Condition1_Tencode|Condition2_Tencode', 'BsmtFinSF1|LotConfig_Tencode', 'Electrical_Tencode|MSSubClass', 'FireplaceQu_Tencode|BsmtUnfSF', 'BsmtFinSF1|HouseStyle_Tencode', 'BedroomAbvGr|Fireplaces', 'MoSold|GrLivArea', 'BsmtExposure_Tencode|KitchenQual_Tencode', 'WoodDeckSF|MSSubClass', 'MasVnrArea|LotFrontage', 'BsmtCond_Tencode|BsmtFullBath', 'BsmtQual_Tencode', 'MasVnrArea|BsmtFinSF2', 'BsmtFinType1_Tencode|Heating_Tencode', 'GarageCond_Tencode|Utilities_Tencode', 'HouseStyle_Tencode|LandContour_Tencode', 'HouseStyle_Tencode|PoolArea', 'SaleType_Tencode|WoodDeckSF', 'LotConfig_Tencode|LotFrontage', 'ExterCond_Tencode|Condition1_Tencode', 'SaleType_Tencode|TotRmsAbvGrd', 'YearRemodAdd|KitchenAbvGr', 'Exterior2nd_Tencode|GarageYrBlt', 'BsmtHalfBath|MSZoning_Tencode', 'MiscFeature_Tencode|YearRemodAdd', 'Functional_Tencode|MasVnrType_Tencode', 'BsmtExposure_Tencode|YearRemodAdd', 'HeatingQC_Tencode|GarageFinish_Tencode', 'HeatingQC_Tencode|BsmtQual_Tencode', 'Fence_Tencode|GarageArea', 'Foundation_Tencode|BsmtQual_Tencode', 'BsmtExposure_Tencode|PoolArea', 'PoolQC_Tencode|Condition1_Tencode', 'RoofStyle_Tencode|Condition2_Tencode', 'BsmtQual_Tencode|BsmtFullBath', 'PoolQC_Tencode|HouseStyle_Tencode', 'GarageArea|GrLivArea', 'FireplaceQu_Tencode|ExterQual_Tencode', 'TotalBsmtSF|BldgType_Tencode', 'BsmtFinType1_Tencode|PoolQC_Tencode', 'Neighborhood_Tencode|Exterior1st_Tencode', 'PoolQC_Tencode|OverallQual', 'MiscVal|ExterCond_Tencode', 'BsmtHalfBath|BsmtFinSF2', 'Alley_Tencode|BsmtCond_Tencode', 'GarageCond_Tencode|RoofMatl_Tencode', 'SaleType_Tencode|Fireplaces', 'FireplaceQu_Tencode|BldgType_Tencode', 'CentralAir_Tencode|TotalBsmtSF', 'LotShape_Tencode|OpenPorchSF', 'LandSlope_Tencode|GarageFinish_Tencode', 'ScreenPorch', 'TotalBsmtSF|MSZoning_Tencode', 'Fireplaces|GarageCars', 'GarageCars|Condition1_Tencode', 'GarageType_Tencode|BsmtFullBath', 'CentralAir_Tencode|LowQualFinSF', 'MasVnrArea|TotRmsAbvGrd', 'BsmtFinSF1|MiscVal', 'TotRmsAbvGrd|YearBuilt', 'BsmtHalfBath|TotRmsAbvGrd', 'CentralAir_Tencode|ExterCond_Tencode', 'MiscFeature_Tencode|BsmtHalfBath', 'SaleCondition_Tencode|Condition1_Tencode', 'LowQualFinSF|Functional_Tencode', '2ndFlrSF|YearRemodAdd', 'GarageCond_Tencode|BsmtUnfSF', 'GarageCond_Tencode|Neighborhood_Tencode', 'GarageYrBlt|Utilities_Tencode', 'FireplaceQu_Tencode|LandSlope_Tencode', 'LotShape_Tencode|OverallCond', 'Heating_Tencode|Functional_Tencode', 'Neighborhood_Tencode|ExterCond_Tencode', 'GarageType_Tencode|TotalBsmtSF', 'Foundation_Tencode|Heating_Tencode', 'FireplaceQu_Tencode|RoofMatl_Tencode', 'TotRmsAbvGrd|BedroomAbvGr', 'GarageCars|GarageQual_Tencode', 'Alley_Tencode|YrSold', '3SsnPorch|Fence_Tencode', 'Neighborhood_Tencode|GarageQual_Tencode', 'BsmtFinType1_Tencode|PoolArea', 'BsmtCond_Tencode|OverallQual', 'RoofMatl_Tencode|HouseStyle_Tencode', 'SaleType_Tencode|OverallCond', 'HouseStyle_Tencode|EnclosedPorch', 'MSZoning_Tencode|GarageCars', '2ndFlrSF|GrLivArea', 'OverallQual|LotConfig_Tencode', 'Street_Tencode|BsmtFinSF1', 'TotRmsAbvGrd|LandContour_Tencode', 'HeatingQC_Tencode|GarageQual_Tencode', 'BsmtFullBath|Condition2_Tencode', 'Foundation_Tencode|GrLivArea', 'PoolQC_Tencode|EnclosedPorch', 'BsmtQual_Tencode|KitchenAbvGr', 'LotFrontage|OverallCond', 'HalfBath|Fireplaces', 'SaleType_Tencode|Utilities_Tencode', 'GarageCond_Tencode|GarageType_Tencode', 'SaleType_Tencode|3SsnPorch', 'FullBath|BsmtUnfSF', 'MiscFeature_Tencode|HouseStyle_Tencode', 'PoolArea|YrSold', 'PoolQC_Tencode|GarageFinish_Tencode', 'Exterior2nd_Tencode|OverallQual', 'OverallQual|GrLivArea', 'BsmtFinSF1|TotRmsAbvGrd', 'YrSold|1stFlrSF', 'TotalBsmtSF|Condition1_Tencode', 'BsmtFinType1_Tencode|BsmtFinType2_Tencode', 'OverallQual|HouseStyle_Tencode', 'Utilities_Tencode|GarageCars', 'MSSubClass|LotArea', 'OpenPorchSF|YearBuilt', 'OpenPorchSF|Fence_Tencode', 'Fence_Tencode|SaleCondition_Tencode', 'GarageYrBlt|ScreenPorch', 'Heating_Tencode|GarageArea', 'LowQualFinSF|RoofStyle_Tencode', 'Functional_Tencode', 'BsmtFinSF2|Fireplaces', 'BsmtUnfSF|1stFlrSF', 'GarageType_Tencode|KitchenAbvGr', 'Electrical_Tencode|BldgType_Tencode', 'MasVnrArea|GarageFinish_Tencode', 'MasVnrArea|GarageCars', 'Street_Tencode|LowQualFinSF', 'RoofStyle_Tencode|MoSold', 'LotShape_Tencode|HeatingQC_Tencode', 'MiscVal|Condition2_Tencode', 'RoofMatl_Tencode|MSZoning_Tencode', 'MasVnrArea|LandSlope_Tencode', 'LotShape_Tencode|BsmtFinSF1', 'OverallQual|MiscVal', 'ExterQual_Tencode|MasVnrType_Tencode', 'CentralAir_Tencode|YearBuilt', 'TotRmsAbvGrd|BldgType_Tencode', '2ndFlrSF|Exterior1st_Tencode', 'LotShape_Tencode|Fireplaces', 'LandContour_Tencode|RoofStyle_Tencode', 'ExterQual_Tencode|Functional_Tencode', 'KitchenQual_Tencode|OverallCond', 'Utilities_Tencode|Condition1_Tencode', 'BsmtExposure_Tencode|TotalBsmtSF', 'FireplaceQu_Tencode|CentralAir_Tencode', 'BsmtUnfSF|MoSold', 'Neighborhood_Tencode|ScreenPorch', 'RoofStyle_Tencode|BsmtExposure_Tencode', 'PoolArea|PavedDrive_Tencode', 'GarageCond_Tencode|BsmtFinSF2', 'Alley_Tencode|Street_Tencode', 'Electrical_Tencode|EnclosedPorch', 'LotFrontage|YrSold', 'SaleType_Tencode|TotalBsmtSF', 'Heating_Tencode|KitchenAbvGr', 'MasVnrArea|TotalBsmtSF', 'HalfBath|Condition1_Tencode', 'MSSubClass|ExterCond_Tencode', 'FireplaceQu_Tencode|Exterior1st_Tencode', 'WoodDeckSF|YrSold', 'PoolQC_Tencode|KitchenQual_Tencode', 'LotShape_Tencode|GrLivArea', 'GarageYrBlt|BsmtQual_Tencode', 'PoolQC_Tencode|HalfBath', 'KitchenQual_Tencode|LotArea', 'MiscFeature_Tencode|LotFrontage', 'LotArea|OverallCond', 'Heating_Tencode|TotRmsAbvGrd', 'RoofMatl_Tencode|GarageCars', 'LowQualFinSF|EnclosedPorch', 'HeatingQC_Tencode|Street_Tencode', 'Heating_Tencode|BldgType_Tencode', 'Electrical_Tencode|GrLivArea', 'GarageCond_Tencode|Electrical_Tencode', '2ndFlrSF|LotArea', 'BsmtExposure_Tencode|YrSold', 'WoodDeckSF|LotArea', 'FullBath|ExterQual_Tencode', 'HalfBath|GarageCars', 'BsmtFinSF1|ExterCond_Tencode', 'BsmtFinType1_Tencode|Neighborhood_Tencode', 'WoodDeckSF|Exterior1st_Tencode', 'BsmtFinType2_Tencode|2ndFlrSF', 'HeatingQC_Tencode|Heating_Tencode', 'WoodDeckSF|OverallQual', 'OverallQual|MasVnrType_Tencode', 'BsmtExposure_Tencode|Fireplaces', 'Exterior2nd_Tencode|RoofStyle_Tencode', 'KitchenQual_Tencode|BsmtFullBath', 'TotRmsAbvGrd|2ndFlrSF', 'PoolQC_Tencode|Neighborhood_Tencode', 'GarageFinish_Tencode|EnclosedPorch', 'Heating_Tencode|ExterQual_Tencode', '2ndFlrSF|GarageCars', 'GarageCond_Tencode|Exterior1st_Tencode', 'Utilities_Tencode|BldgType_Tencode', 'BsmtQual_Tencode|YearBuilt', 'GarageCond_Tencode|WoodDeckSF', 'BsmtCond_Tencode|ExterQual_Tencode', 'BsmtQual_Tencode|MSSubClass', 'LotConfig_Tencode|1stFlrSF', 'BsmtUnfSF|Condition1_Tencode', 'MasVnrArea|GarageType_Tencode', 'MoSold|TotalBsmtSF', 'BsmtFinType1_Tencode|3SsnPorch', 'Electrical_Tencode|RoofMatl_Tencode', 'FireplaceQu_Tencode|1stFlrSF', 'WoodDeckSF|ExterCond_Tencode', 'Electrical_Tencode|GarageCars', 'Foundation_Tencode|2ndFlrSF', 'TotRmsAbvGrd|ScreenPorch', '2ndFlrSF|OverallCond', 'SaleType_Tencode|Heating_Tencode', 'Foundation_Tencode|Exterior1st_Tencode', 'PoolQC_Tencode|ScreenPorch', 'TotalBsmtSF|Exterior1st_Tencode', 'BsmtFinSF1|KitchenQual_Tencode', 'PoolQC_Tencode|TotRmsAbvGrd', 'Foundation_Tencode|OverallCond', 'GarageYrBlt|ExterCond_Tencode', 'RoofMatl_Tencode|MoSold', 'GarageYrBlt|ExterQual_Tencode', 'HouseStyle_Tencode|BsmtFinSF2', 'LandSlope_Tencode|PoolArea', 'ScreenPorch|1stFlrSF', 'Heating_Tencode|Neighborhood_Tencode', 'YearBuilt|Condition1_Tencode', 'GarageCond_Tencode|BsmtExposure_Tencode', 'Foundation_Tencode|TotalBsmtSF', 'MiscVal|HouseStyle_Tencode', 'LotShape_Tencode|BsmtCond_Tencode', '3SsnPorch|LotConfig_Tencode', 'PavedDrive_Tencode|GrLivArea', 'BsmtExposure_Tencode|GarageFinish_Tencode', 'BsmtCond_Tencode|Exterior1st_Tencode', 'Neighborhood_Tencode|SaleCondition_Tencode', 'BsmtFinSF2|OverallCond', 'GarageCond_Tencode|LandContour_Tencode', 'BsmtFinType2_Tencode|LotArea', 'TotalBsmtSF', 'BsmtHalfBath|MiscVal', 'FullBath|LotConfig_Tencode', 'LotFrontage|GarageQual_Tencode', 'BsmtCond_Tencode|GarageArea', 'BsmtExposure_Tencode|OverallCond', 'SaleCondition_Tencode', 'MiscFeature_Tencode|Heating_Tencode', 'LandSlope_Tencode|LotArea', 'YrSold|Fireplaces', 'Fence_Tencode|KitchenQual_Tencode', 'LandSlope_Tencode|MasVnrType_Tencode', 'RoofStyle_Tencode|SaleCondition_Tencode', 'MiscVal|MasVnrType_Tencode', 'LotShape_Tencode|GarageQual_Tencode', 'YearBuilt|GrLivArea', 'PoolQC_Tencode|SaleCondition_Tencode', 'Foundation_Tencode|BedroomAbvGr', 'GarageCond_Tencode|GrLivArea', 'RoofStyle_Tencode|TotalBsmtSF', 'HeatingQC_Tencode|BedroomAbvGr', 'LandSlope_Tencode|OverallCond', 'BsmtFinType1_Tencode|Functional_Tencode', 'Electrical_Tencode|LowQualFinSF', 'Foundation_Tencode|GarageYrBlt', 'FireplaceQu_Tencode|BsmtFullBath', 'SaleType_Tencode|Functional_Tencode', 'MasVnrArea|GarageCond_Tencode', 'Foundation_Tencode|Condition2_Tencode', '1stFlrSF', 'GrLivArea', 'YearBuilt|TotalBsmtSF', 'Alley_Tencode|GarageType_Tencode', 'SaleCondition_Tencode|LotArea', 'FireplaceQu_Tencode|EnclosedPorch', 'BsmtFinSF2|Condition1_Tencode', 'OverallCond|GrLivArea', '3SsnPorch|BsmtFullBath', 'Foundation_Tencode|LotArea', 'LandSlope_Tencode|YearBuilt', 'SaleType_Tencode|Exterior1st_Tencode', 'Alley_Tencode|BedroomAbvGr', 'GarageYrBlt|KitchenQual_Tencode', 'LandContour_Tencode|BldgType_Tencode', 'BsmtFinType2_Tencode|Exterior1st_Tencode', 'GarageCond_Tencode|BsmtHalfBath', 'WoodDeckSF|PoolQC_Tencode', 'GarageCond_Tencode|PavedDrive_Tencode', 'LotShape_Tencode|PavedDrive_Tencode', 'BsmtHalfBath|KitchenAbvGr', 'BsmtFinSF1', 'BsmtHalfBath|HalfBath', 'Foundation_Tencode|YrSold', 'Heating_Tencode|LandSlope_Tencode', 'BsmtQual_Tencode|YrSold', 'KitchenAbvGr|BsmtFullBath', 'FullBath|LotFrontage', 'GarageArea|YrSold', 'HalfBath|BldgType_Tencode', 'BsmtHalfBath|LandSlope_Tencode', 'LandContour_Tencode|YearBuilt', 'LandContour_Tencode|TotalBsmtSF', 'TotRmsAbvGrd|KitchenQual_Tencode', 'BsmtHalfBath', 'CentralAir_Tencode|MSSubClass', 'TotalBsmtSF|LotArea', 'GarageType_Tencode|PavedDrive_Tencode', 'SaleType_Tencode|BsmtUnfSF', 'WoodDeckSF|Fireplaces', 'LandSlope_Tencode|ExterCond_Tencode', 'TotRmsAbvGrd|Exterior1st_Tencode', 'Exterior2nd_Tencode|BedroomAbvGr', 'BsmtQual_Tencode|LotArea', 'Exterior2nd_Tencode|BsmtFullBath', 'BsmtFinType1_Tencode|Alley_Tencode', 'LotFrontage|Condition1_Tencode', 'LowQualFinSF|GarageType_Tencode', 'BsmtExposure_Tencode|ScreenPorch', '3SsnPorch|ExterCond_Tencode', 'BsmtCond_Tencode|FullBath', 'FireplaceQu_Tencode|OverallCond', 'LandContour_Tencode|YearRemodAdd', 'WoodDeckSF|TotRmsAbvGrd', 'PoolQC_Tencode|BsmtFullBath', 'Street_Tencode|Heating_Tencode', 'BsmtFinSF1|Utilities_Tencode', 'Fence_Tencode|TotRmsAbvGrd', 'RoofMatl_Tencode|PoolArea', 'Functional_Tencode|PavedDrive_Tencode', 'YearRemodAdd|Exterior1st_Tencode', 'Alley_Tencode|MiscVal', 'LandContour_Tencode|MSZoning_Tencode', 'BsmtFinSF1|Condition2_Tencode', 'TotRmsAbvGrd|BsmtUnfSF', '3SsnPorch|Electrical_Tencode', '1stFlrSF|GarageQual_Tencode', 'BsmtCond_Tencode|MasVnrType_Tencode', 'Heating_Tencode|PavedDrive_Tencode', 'GarageCond_Tencode|MSSubClass', 'HeatingQC_Tencode|BsmtHalfBath', 'BsmtFinSF1|ScreenPorch', 'LotArea|BsmtFullBath', 'BsmtFinSF1|GarageQual_Tencode', 'OpenPorchSF|BsmtExposure_Tencode', 'YearRemodAdd|BldgType_Tencode', 'HalfBath|TotalBsmtSF', 'SaleType_Tencode|GarageType_Tencode', 'GarageType_Tencode|Exterior1st_Tencode', 'LandSlope_Tencode|LotConfig_Tencode', 'SaleType_Tencode|2ndFlrSF', 'PoolQC_Tencode|BsmtUnfSF', 'GarageFinish_Tencode|YrSold', 'RoofMatl_Tencode|1stFlrSF', 'BsmtHalfBath|ExterCond_Tencode', '3SsnPorch|BsmtFinType2_Tencode', 'LowQualFinSF|HouseStyle_Tencode', 'Street_Tencode|BldgType_Tencode', 'MiscFeature_Tencode|BldgType_Tencode', 'Fence_Tencode|GrLivArea', 'MiscFeature_Tencode|MSZoning_Tencode', 'HeatingQC_Tencode|Fireplaces', 'OpenPorchSF|Condition1_Tencode', 'Heating_Tencode|GarageType_Tencode', 'Fence_Tencode|BsmtQual_Tencode', '2ndFlrSF|BldgType_Tencode', 'MasVnrArea|MasVnrType_Tencode', '2ndFlrSF|TotalBsmtSF', 'KitchenQual_Tencode|Fireplaces', 'MasVnrArea|LowQualFinSF', 'KitchenAbvGr|Condition2_Tencode', 'Exterior2nd_Tencode|HouseStyle_Tencode', 'Alley_Tencode|Condition2_Tencode', 'MiscFeature_Tencode|ScreenPorch', 'Fireplaces', 'MoSold|Utilities_Tencode', 'GarageCond_Tencode|OverallQual', 'WoodDeckSF|FullBath', 'PoolArea|LotFrontage', '3SsnPorch|BsmtFinSF2', 'LandContour_Tencode|PoolArea', 'BsmtFinSF1|GrLivArea', 'HeatingQC_Tencode|GarageYrBlt', 'LandSlope_Tencode|BsmtFullBath', 'BldgType_Tencode', 'LandContour_Tencode|KitchenQual_Tencode', 'SaleType_Tencode|1stFlrSF', 'SaleType_Tencode|LotArea', 'OverallQual|MSZoning_Tencode', 'ExterQual_Tencode|Neighborhood_Tencode', 'ExterQual_Tencode|BsmtFullBath', 'LotConfig_Tencode|MSSubClass', 'BsmtFinType1_Tencode|Fireplaces', 'Functional_Tencode|Neighborhood_Tencode', 'MiscFeature_Tencode|BsmtQual_Tencode', 'LotConfig_Tencode|ScreenPorch', 'Electrical_Tencode|HouseStyle_Tencode', 'KitchenAbvGr|PavedDrive_Tencode', 'KitchenQual_Tencode', 'LotFrontage|TotalBsmtSF', 'MiscFeature_Tencode|Condition2_Tencode', 'ExterQual_Tencode|MoSold', 'HouseStyle_Tencode|ScreenPorch', 'LotConfig_Tencode|MoSold', 'BedroomAbvGr|1stFlrSF', 'Functional_Tencode|BedroomAbvGr', 'LotShape_Tencode|Fence_Tencode', 'Heating_Tencode|GrLivArea', 'LowQualFinSF|GarageFinish_Tencode', '3SsnPorch|GarageCars', 'MSSubClass|BsmtFinSF2', 'Electrical_Tencode|1stFlrSF', 'OverallCond|Fireplaces', 'Electrical_Tencode|ExterCond_Tencode', 'Functional_Tencode|GarageCars', 'GarageCond_Tencode', 'FullBath|Condition2_Tencode', 'BsmtHalfBath|Fence_Tencode', 'FireplaceQu_Tencode|Utilities_Tencode', 'HeatingQC_Tencode|OverallQual', 'WoodDeckSF', 'HeatingQC_Tencode|HalfBath', 'YearRemodAdd|YrSold', 'Utilities_Tencode|OverallCond', 'PoolQC_Tencode|LandContour_Tencode', 'Alley_Tencode|MoSold', 'Functional_Tencode|GarageType_Tencode', '3SsnPorch|2ndFlrSF', 'GarageCond_Tencode|YrSold', 'MSSubClass|HalfBath', 'GarageArea|MSZoning_Tencode', 'BsmtCond_Tencode|GarageFinish_Tencode', 'FireplaceQu_Tencode|TotRmsAbvGrd', 'Heating_Tencode|GarageQual_Tencode', 'LowQualFinSF|SaleCondition_Tencode', 'FullBath|ExterCond_Tencode', 'MSSubClass|TotalBsmtSF', 'SaleCondition_Tencode|ExterCond_Tencode', 'Functional_Tencode|ScreenPorch', 'GarageArea|Fireplaces', 'LowQualFinSF|PoolArea', 'SaleType_Tencode|BsmtQual_Tencode', 'BsmtUnfSF|LotFrontage', 'OverallQual|Exterior1st_Tencode', 'HalfBath|Exterior1st_Tencode', 'HeatingQC_Tencode|LotArea', 'CentralAir_Tencode|OverallCond', 'OverallQual|ScreenPorch', 'LotConfig_Tencode|Fireplaces', 'HeatingQC_Tencode|SaleCondition_Tencode', 'OverallQual|2ndFlrSF', 'MiscVal|LowQualFinSF', 'ExterQual_Tencode', 'Utilities_Tencode|KitchenAbvGr', 'MSSubClass|BedroomAbvGr', 'FullBath|Condition1_Tencode', 'YearBuilt|GarageType_Tencode', 'BsmtFinSF1|BsmtFinType2_Tencode', 'MiscFeature_Tencode|MasVnrArea', 'Exterior2nd_Tencode|MSZoning_Tencode', 'MoSold', 'RoofMatl_Tencode|Exterior1st_Tencode', 'WoodDeckSF|GarageArea', 'FullBath|RoofStyle_Tencode', 'Street_Tencode|PoolArea', 'PoolQC_Tencode|GarageArea', 'Alley_Tencode|LowQualFinSF', 'LotShape_Tencode|BedroomAbvGr', 'Heating_Tencode|MSSubClass', 'PoolArea|LotArea', 'BsmtHalfBath|YearRemodAdd', 'GarageYrBlt|LowQualFinSF', 'CentralAir_Tencode|RoofStyle_Tencode', 'BsmtUnfSF|MSZoning_Tencode', 'MiscFeature_Tencode|MSSubClass', 'SaleType_Tencode|RoofMatl_Tencode', '3SsnPorch|ExterQual_Tencode', 'LotConfig_Tencode|BsmtFinType2_Tencode', 'CentralAir_Tencode|FullBath', 'BsmtCond_Tencode|OverallCond', 'RoofMatl_Tencode|BsmtFinSF2', 'Street_Tencode|BsmtHalfBath', 'ExterQual_Tencode|PavedDrive_Tencode', 'GarageType_Tencode|BedroomAbvGr', 'YearBuilt|YearRemodAdd', 'MiscFeature_Tencode|BsmtFinType2_Tencode', 'CentralAir_Tencode|BedroomAbvGr', 'HalfBath|GarageQual_Tencode', 'RoofMatl_Tencode|ScreenPorch', 'GarageArea|ExterCond_Tencode', 'OpenPorchSF|ScreenPorch', 'GarageCond_Tencode|RoofStyle_Tencode', 'LowQualFinSF|MSZoning_Tencode', 'FullBath|GrLivArea', 'Alley_Tencode|LotArea', 'GarageYrBlt|EnclosedPorch', 'MSZoning_Tencode|PavedDrive_Tencode', 'Electrical_Tencode|GarageFinish_Tencode', 'PoolArea|BedroomAbvGr', 'OverallQual|Functional_Tencode', 'MoSold|Condition1_Tencode', 'BsmtHalfBath|TotalBsmtSF', 'Foundation_Tencode|PavedDrive_Tencode', 'KitchenAbvGr|LotArea', 'MoSold|BedroomAbvGr', 'FullBath|Exterior1st_Tencode', 'MasVnrArea|Fireplaces', 'MiscVal|GrLivArea', 'BsmtFinType1_Tencode|LotFrontage', 'EnclosedPorch|BldgType_Tencode', 'MasVnrType_Tencode|TotalBsmtSF', 'TotalBsmtSF|PavedDrive_Tencode', 'OpenPorchSF', 'Alley_Tencode|TotalBsmtSF', 'OpenPorchSF|LotFrontage', 'Street_Tencode|YearRemodAdd', 'LotFrontage|BldgType_Tencode', 'LotConfig_Tencode|OverallCond', 'LotShape_Tencode|Electrical_Tencode', 'PoolQC_Tencode|BsmtFinSF2', '3SsnPorch|KitchenAbvGr', 'Heating_Tencode', 'OverallQual|Utilities_Tencode', 'MasVnrArea|RoofStyle_Tencode', 'OpenPorchSF|GarageType_Tencode', 'Foundation_Tencode|Condition1_Tencode', 'GarageType_Tencode|Fireplaces', 'LotShape_Tencode|RoofMatl_Tencode', 'Fence_Tencode|Utilities_Tencode', 'GarageYrBlt|OverallCond', 'Exterior2nd_Tencode|MasVnrType_Tencode', 'Exterior2nd_Tencode|YearBuilt', 'Alley_Tencode|CentralAir_Tencode', 'Electrical_Tencode|2ndFlrSF', 'MasVnrType_Tencode|1stFlrSF', 'OpenPorchSF|2ndFlrSF', 'MasVnrArea|KitchenQual_Tencode', 'OverallQual|BsmtFinSF2', 'MasVnrType_Tencode|BsmtFullBath', 'SaleCondition_Tencode|ScreenPorch', 'OverallQual|LandContour_Tencode', 'GarageType_Tencode|KitchenQual_Tencode', 'LotShape_Tencode|Exterior1st_Tencode', 'HalfBath|1stFlrSF', 'LotShape_Tencode|2ndFlrSF', 'PoolQC_Tencode|YearBuilt', 'GarageArea', 'BsmtFinType1_Tencode|BldgType_Tencode', 'Heating_Tencode|BsmtUnfSF', 'WoodDeckSF|Fence_Tencode', 'MiscFeature_Tencode|LotShape_Tencode', 'Foundation_Tencode|BsmtFinType2_Tencode', 'LandSlope_Tencode|HalfBath', 'LotShape_Tencode|Foundation_Tencode', 'Utilities_Tencode|ScreenPorch', 'Exterior2nd_Tencode|Condition1_Tencode', 'Foundation_Tencode|LotFrontage', 'HeatingQC_Tencode|OverallCond', 'FullBath|MSSubClass', 'GarageYrBlt|MSSubClass', 'Exterior2nd_Tencode|PoolQC_Tencode', 'LotFrontage|MSZoning_Tencode', 'LotConfig_Tencode|RoofMatl_Tencode', 'Heating_Tencode|GarageFinish_Tencode', 'FullBath|LandSlope_Tencode', 'ScreenPorch|Condition1_Tencode', 'Exterior2nd_Tencode|MasVnrArea', '2ndFlrSF|ScreenPorch', 'MasVnrType_Tencode|KitchenQual_Tencode', 'BsmtHalfBath|SaleCondition_Tencode', 'LotConfig_Tencode|Exterior1st_Tencode', 'HalfBath|ScreenPorch', 'BsmtHalfBath|EnclosedPorch', 'BsmtExposure_Tencode|MasVnrType_Tencode', 'BsmtQual_Tencode|LotFrontage', 'BsmtHalfBath|LotFrontage', 'MiscVal|LotFrontage', 'BsmtQual_Tencode|LandContour_Tencode', 'MiscVal|RoofStyle_Tencode', 'BsmtFinType1_Tencode|YearRemodAdd', 'GarageArea|MoSold', 'Heating_Tencode|1stFlrSF', 'Neighborhood_Tencode|Utilities_Tencode', 'ExterCond_Tencode|Fireplaces', 'LandSlope_Tencode|ScreenPorch', 'BsmtCond_Tencode|CentralAir_Tencode', 'BsmtFinType1_Tencode|Electrical_Tencode', 'GarageYrBlt|LotConfig_Tencode', 'TotRmsAbvGrd|HouseStyle_Tencode', 'HalfBath|Condition2_Tencode', 'ExterQual_Tencode|YrSold', 'HouseStyle_Tencode|YrSold', 'MiscFeature_Tencode|FireplaceQu_Tencode', 'Foundation_Tencode|MasVnrType_Tencode', 'ExterQual_Tencode|RoofStyle_Tencode', '1stFlrSF|Condition2_Tencode', 'TotalBsmtSF|OverallCond', 'Functional_Tencode|KitchenQual_Tencode', 'BsmtUnfSF|KitchenAbvGr', 'TotRmsAbvGrd|OverallCond', 'FireplaceQu_Tencode|PavedDrive_Tencode', 'SaleType_Tencode|BsmtCond_Tencode', 'Electrical_Tencode|MiscVal', 'Exterior2nd_Tencode|OpenPorchSF', 'BsmtFinType2_Tencode|BldgType_Tencode', 'MiscVal|SaleCondition_Tencode', 'LotShape_Tencode|3SsnPorch', 'HeatingQC_Tencode|MSZoning_Tencode', 'HalfBath|ExterCond_Tencode', 'Foundation_Tencode|BsmtFinSF1', 'SaleType_Tencode|PavedDrive_Tencode', '2ndFlrSF|1stFlrSF', 'WoodDeckSF|FireplaceQu_Tencode', '3SsnPorch|HouseStyle_Tencode', 'MiscVal|YearRemodAdd', 'BsmtFinSF2|GarageType_Tencode', 'Exterior2nd_Tencode|KitchenAbvGr', 'BsmtFinSF2|2ndFlrSF', 'LandSlope_Tencode|MSZoning_Tencode', '3SsnPorch|BldgType_Tencode', 'Street_Tencode|LandContour_Tencode', 'SaleCondition_Tencode|Exterior1st_Tencode', '2ndFlrSF|MSZoning_Tencode', 'MiscFeature_Tencode|BsmtExposure_Tencode', 'Foundation_Tencode|MSZoning_Tencode', 'GarageCond_Tencode|Fireplaces', 'FullBath|Electrical_Tencode', 'TotalBsmtSF|GrLivArea', 'GarageArea|Exterior1st_Tencode', 'LandSlope_Tencode', 'LotShape_Tencode|BsmtFinSF2', 'Foundation_Tencode|HalfBath', 'PoolQC_Tencode|BedroomAbvGr', 'Fireplaces|ScreenPorch', 'GarageArea|Functional_Tencode', 'Exterior2nd_Tencode|BsmtQual_Tencode', 'Foundation_Tencode|YearRemodAdd', 'BsmtFinSF2|BsmtFullBath', 'Street_Tencode|BedroomAbvGr', 'GarageQual_Tencode|Condition1_Tencode', 'HouseStyle_Tencode|ExterQual_Tencode', '2ndFlrSF|Utilities_Tencode', 'BsmtCond_Tencode|LandContour_Tencode', 'Heating_Tencode|LotArea', 'BsmtCond_Tencode|LotFrontage', 'SaleType_Tencode|MSSubClass', 'FullBath|EnclosedPorch', 'PoolArea|Exterior1st_Tencode', 'LandSlope_Tencode|Condition2_Tencode', 'GarageCond_Tencode|FullBath', 'MasVnrArea|ExterCond_Tencode', 'RoofStyle_Tencode|BldgType_Tencode', 'GarageYrBlt|GarageCond_Tencode', 'YearBuilt|KitchenQual_Tencode', 'MasVnrArea|KitchenAbvGr', 'SaleType_Tencode|LandSlope_Tencode', 'OpenPorchSF|Functional_Tencode', 'OpenPorchSF|Foundation_Tencode', 'LotConfig_Tencode|HalfBath', 'MSZoning_Tencode|Condition2_Tencode', 'MiscFeature_Tencode|OverallQual', 'BsmtCond_Tencode|BedroomAbvGr', 'BsmtHalfBath|LandContour_Tencode', 'GarageArea|BsmtUnfSF', 'BsmtHalfBath|MSSubClass', 'Fireplaces|1stFlrSF', 'Street_Tencode|LotFrontage', 'HouseStyle_Tencode|GarageType_Tencode', 'GarageArea|EnclosedPorch', 'BsmtFinType1_Tencode|GarageCars', 'BsmtUnfSF|YrSold', 'BsmtFinSF1|Fence_Tencode', 'OverallQual|HalfBath', 'BsmtUnfSF|PoolArea', 'MoSold|EnclosedPorch', 'YearRemodAdd|GarageQual_Tencode', 'LotConfig_Tencode|Functional_Tencode', 'YearBuilt|ExterQual_Tencode', 'CentralAir_Tencode|PavedDrive_Tencode', 'LowQualFinSF|HalfBath', 'BsmtFinType1_Tencode|BsmtQual_Tencode', 'LandContour_Tencode|GarageType_Tencode', 'Alley_Tencode|MSSubClass', 'Heating_Tencode|BsmtQual_Tencode', 'GarageArea|ExterQual_Tencode', 'MiscFeature_Tencode|BsmtFullBath', 'FireplaceQu_Tencode|GarageCars', 'BsmtCond_Tencode|Functional_Tencode', 'BsmtCond_Tencode|SaleCondition_Tencode', 'Alley_Tencode|HouseStyle_Tencode', 'GarageType_Tencode|MoSold', 'ExterQual_Tencode|PoolArea', 'YearRemodAdd|Neighborhood_Tencode', 'GarageYrBlt|MiscVal', 'FullBath|OverallCond', 'GarageCond_Tencode|LotArea', 'TotalBsmtSF|Utilities_Tencode', 'FullBath|LowQualFinSF', 'BsmtQual_Tencode|SaleCondition_Tencode', 'LotConfig_Tencode|GarageArea', 'LotFrontage|GarageType_Tencode', 'OverallQual|TotalBsmtSF', 'BsmtFinType1_Tencode|EnclosedPorch', 'MasVnrArea|OverallCond', 'HalfBath|EnclosedPorch', 'BsmtCond_Tencode|LowQualFinSF', 'SaleType_Tencode|Exterior2nd_Tencode', 'Foundation_Tencode|HouseStyle_Tencode', 'BsmtFinType2_Tencode|GrLivArea', 'MiscVal|GarageQual_Tencode', 'HeatingQC_Tencode|Utilities_Tencode', 'BsmtQual_Tencode|HalfBath', 'Electrical_Tencode|LandSlope_Tencode', 'YearBuilt|BsmtFullBath', 'Electrical_Tencode|OverallCond', 'WoodDeckSF|OverallCond', 'BsmtExposure_Tencode|Neighborhood_Tencode', 'LotShape_Tencode|GarageType_Tencode', 'LotConfig_Tencode|EnclosedPorch', 'Condition2_Tencode', 'LowQualFinSF|Neighborhood_Tencode', 'GarageArea|2ndFlrSF', 'Fence_Tencode|YearRemodAdd', 'TotRmsAbvGrd|YrSold', 'GarageYrBlt|BsmtFinSF2', 'WoodDeckSF|BsmtFinSF1', 'Heating_Tencode|PoolArea', 'PoolQC_Tencode|Fence_Tencode', 'Heating_Tencode|MiscVal', 'MiscFeature_Tencode|Neighborhood_Tencode', 'BsmtFinType1_Tencode|BsmtUnfSF', 'LotConfig_Tencode|BsmtQual_Tencode', 'BedroomAbvGr|PavedDrive_Tencode', 'ExterCond_Tencode|GarageCars', 'OpenPorchSF|Utilities_Tencode', 'HalfBath|BsmtFullBath', 'MasVnrType_Tencode|LotArea', 'Fireplaces|Condition2_Tencode', 'LotFrontage|1stFlrSF', 'BsmtFinType1_Tencode|ExterCond_Tencode', 'GarageCond_Tencode|HouseStyle_Tencode', 'GarageYrBlt|CentralAir_Tencode', 'GarageCond_Tencode|EnclosedPorch', 'FullBath|BldgType_Tencode', 'Electrical_Tencode|PoolArea', 'LandContour_Tencode|Exterior1st_Tencode', 'BsmtFinType2_Tencode|BsmtFullBath', 'OverallQual|YrSold', 'MiscFeature_Tencode|LotConfig_Tencode', 'BsmtFinSF1|OverallCond', 'MiscVal|GarageCars', 'TotalBsmtSF|YrSold', 'BsmtHalfBath|FireplaceQu_Tencode', 'RoofMatl_Tencode|YearBuilt', 'LowQualFinSF|YearRemodAdd', 'MasVnrArea|Fence_Tencode', 'FireplaceQu_Tencode|KitchenQual_Tencode', 'Functional_Tencode|OverallCond', 'Foundation_Tencode|LandSlope_Tencode', 'TotRmsAbvGrd|BsmtFinSF2', 'LowQualFinSF|BedroomAbvGr', 'OverallCond|1stFlrSF', 'GarageType_Tencode|Condition2_Tencode', 'TotalBsmtSF|ScreenPorch', 'TotRmsAbvGrd|LotArea', 'GarageFinish_Tencode|OverallCond', 'OverallCond|Exterior1st_Tencode', 'GarageCars|BsmtFullBath', 'OverallCond|ExterCond_Tencode', 'Street_Tencode|2ndFlrSF', 'LowQualFinSF|KitchenAbvGr', 'MiscFeature_Tencode|BsmtFinSF1', '3SsnPorch|Condition2_Tencode', 'OpenPorchSF|OverallQual', 'Fence_Tencode|BedroomAbvGr', 'BedroomAbvGr|GarageCars', 'LowQualFinSF|LotFrontage', 'FireplaceQu_Tencode|GarageQual_Tencode', 'Heating_Tencode|BsmtExposure_Tencode', 'GarageCond_Tencode|Condition1_Tencode', 'LowQualFinSF|MasVnrType_Tencode', 'GarageFinish_Tencode|Exterior1st_Tencode', 'MasVnrArea|Foundation_Tencode', 'BsmtFinType1_Tencode|Street_Tencode', 'GarageCond_Tencode|SaleCondition_Tencode', 'Neighborhood_Tencode|LotArea', 'TotRmsAbvGrd|BsmtExposure_Tencode', 'SaleType_Tencode|Condition1_Tencode', 'TotRmsAbvGrd|YearRemodAdd', 'YearRemodAdd|MoSold', 'BsmtUnfSF|BedroomAbvGr', 'Exterior2nd_Tencode|RoofMatl_Tencode', 'LowQualFinSF|BsmtExposure_Tencode', 'LandSlope_Tencode|BsmtUnfSF', 'MasVnrArea|Condition1_Tencode', 'Heating_Tencode|LowQualFinSF', 'BsmtCond_Tencode|ScreenPorch', 'GarageArea|KitchenQual_Tencode', 'MasVnrArea|BsmtFullBath', '3SsnPorch|WoodDeckSF', 'OverallCond|MSZoning_Tencode', 'Heating_Tencode|OverallCond', 'BsmtFinType2_Tencode|1stFlrSF', 'HeatingQC_Tencode|BsmtFinType1_Tencode', 'LotConfig_Tencode|HouseStyle_Tencode', '3SsnPorch|BsmtUnfSF', 'SaleType_Tencode|Street_Tencode', 'BsmtHalfBath|Functional_Tencode', 'MoSold|BsmtFullBath', 'WoodDeckSF|HouseStyle_Tencode', 'LandSlope_Tencode|RoofStyle_Tencode', 'GarageYrBlt|BsmtFullBath', 'GarageYrBlt|WoodDeckSF', 'Heating_Tencode|MasVnrType_Tencode', 'Foundation_Tencode|WoodDeckSF', 'MasVnrType_Tencode|YearRemodAdd', 'Electrical_Tencode|LotFrontage', 'GarageType_Tencode|Utilities_Tencode', 'HeatingQC_Tencode|ScreenPorch', 'Heating_Tencode|WoodDeckSF', 'CentralAir_Tencode|RoofMatl_Tencode', 'Electrical_Tencode|Fireplaces', 'BsmtFinSF2|KitchenQual_Tencode', 'OpenPorchSF|PoolQC_Tencode', 'GarageArea|KitchenAbvGr', 'FullBath|PoolQC_Tencode', 'MiscVal|BedroomAbvGr', 'RoofMatl_Tencode|GarageArea', 'PoolArea|GrLivArea', 'BsmtCond_Tencode|BsmtUnfSF', 'Alley_Tencode|BsmtFullBath', 'MiscFeature_Tencode|Exterior1st_Tencode', 'HeatingQC_Tencode|BsmtFinSF2', 'YrSold|GarageQual_Tencode', 'GarageFinish_Tencode|GrLivArea', 'GarageFinish_Tencode|Utilities_Tencode', 'LotShape_Tencode|GarageCars', 'MoSold|ScreenPorch', 'LotConfig_Tencode|BsmtUnfSF', 'GarageArea|1stFlrSF', 'MiscVal|MSSubClass', '2ndFlrSF|GarageQual_Tencode', 'Foundation_Tencode|ScreenPorch', 'BsmtFinSF2|MoSold', 'LandSlope_Tencode|BsmtExposure_Tencode', 'MiscVal|BsmtFinSF2', 'GarageArea|HalfBath', 'Exterior1st_Tencode|GarageQual_Tencode', 'BsmtFinSF1|LandContour_Tencode', 'RoofStyle_Tencode|2ndFlrSF', 'Exterior2nd_Tencode|TotalBsmtSF', 'SaleType_Tencode|MSZoning_Tencode', 'LotShape_Tencode|Condition1_Tencode', 'Functional_Tencode|YrSold', 'SaleType_Tencode|SaleCondition_Tencode', 'Fence_Tencode|MSSubClass', 'SaleType_Tencode|MiscVal', 'MiscVal|Fireplaces', 'CentralAir_Tencode|MasVnrType_Tencode', 'LandContour_Tencode|HalfBath', 'PoolArea', 'Alley_Tencode|LotFrontage', 'Foundation_Tencode|LowQualFinSF', '2ndFlrSF', 'OverallCond|Condition1_Tencode', 'LotShape_Tencode|ScreenPorch', 'MasVnrArea|ScreenPorch', 'Exterior2nd_Tencode|BsmtFinSF2', 'MiscFeature_Tencode|YearBuilt', 'RoofStyle_Tencode|1stFlrSF', 'BsmtFinSF1|LowQualFinSF', 'BsmtHalfBath|CentralAir_Tencode', 'TotRmsAbvGrd|GarageCars', 'LandContour_Tencode|Utilities_Tencode', '2ndFlrSF|EnclosedPorch', 'Exterior2nd_Tencode|KitchenQual_Tencode', 'LotConfig_Tencode|LotArea', 'MasVnrType_Tencode|ExterCond_Tencode', 'Fence_Tencode|1stFlrSF', 'Functional_Tencode|ExterCond_Tencode', 'GarageCond_Tencode|LotConfig_Tencode', '2ndFlrSF|Neighborhood_Tencode', 'LotConfig_Tencode|YearBuilt', 'MSZoning_Tencode|BsmtFullBath', 'CentralAir_Tencode', 'SaleType_Tencode|MasVnrArea', 'MasVnrArea|Alley_Tencode', 'PoolQC_Tencode|BldgType_Tencode', 'OpenPorchSF|BsmtUnfSF', 'BsmtFinSF1|SaleCondition_Tencode', 'OpenPorchSF|LandContour_Tencode', 'LotShape_Tencode|HalfBath', 'Fence_Tencode|BsmtExposure_Tencode', 'CentralAir_Tencode|YearRemodAdd', 'MasVnrType_Tencode|PavedDrive_Tencode', 'LotFrontage|ExterCond_Tencode', 'GarageType_Tencode|BldgType_Tencode', 'GarageType_Tencode|ExterCond_Tencode', 'Foundation_Tencode|BsmtExposure_Tencode', 'FullBath|KitchenAbvGr', 'Exterior2nd_Tencode|Exterior1st_Tencode', 'Alley_Tencode|ExterQual_Tencode', 'LotShape_Tencode|MasVnrType_Tencode', 'GarageFinish_Tencode|MSZoning_Tencode', 'Alley_Tencode|Utilities_Tencode', 'Heating_Tencode|MSZoning_Tencode', 'Alley_Tencode|BsmtFinSF2', 'GarageCond_Tencode|YearBuilt', 'BsmtFinSF1|LotFrontage', 'CentralAir_Tencode|GarageArea', 'BsmtFinType1_Tencode|OverallQual', 'OpenPorchSF|ExterCond_Tencode', 'FullBath|PoolArea', 'LowQualFinSF|MSSubClass', 'Neighborhood_Tencode|TotalBsmtSF', 'MasVnrArea|FullBath', 'YrSold|BsmtFullBath', 'BsmtFinType1_Tencode|BsmtFinSF2', 'YrSold|ExterCond_Tencode', 'MiscVal|2ndFlrSF', 'HeatingQC_Tencode|3SsnPorch', 'BsmtCond_Tencode', 'MiscVal|Utilities_Tencode', 'MiscFeature_Tencode|ExterQual_Tencode', 'Street_Tencode|Exterior1st_Tencode', 'CentralAir_Tencode|MoSold', 'MiscFeature_Tencode|GarageArea', 'BsmtQual_Tencode|BsmtFinSF2', 'Exterior2nd_Tencode', '1stFlrSF|BldgType_Tencode', 'LandContour_Tencode|BedroomAbvGr', 'MasVnrArea|Utilities_Tencode', 'MSSubClass|Condition1_Tencode', 'LotConfig_Tencode|GarageCars', '1stFlrSF|BsmtFullBath', 'LandContour_Tencode|Functional_Tencode', 'BsmtFinType1_Tencode|GarageQual_Tencode', 'LotShape_Tencode|BsmtUnfSF', 'LandSlope_Tencode|KitchenAbvGr', 'BsmtQual_Tencode|GarageFinish_Tencode', '3SsnPorch|FireplaceQu_Tencode', 'Fence_Tencode', 'GrLivArea|1stFlrSF', 'FireplaceQu_Tencode|BsmtExposure_Tencode', 'MiscVal', 'RoofMatl_Tencode', 'LotArea|Exterior1st_Tencode', 'YearBuilt|PavedDrive_Tencode', 'OverallQual|GarageFinish_Tencode', 'EnclosedPorch|ScreenPorch', 'GarageYrBlt|GarageFinish_Tencode', 'BsmtFinType1_Tencode|BedroomAbvGr', 'PoolQC_Tencode|RoofMatl_Tencode', 'BsmtCond_Tencode|HouseStyle_Tencode', 'Neighborhood_Tencode|MoSold', 'BsmtUnfSF|Fireplaces', 'Functional_Tencode|YearRemodAdd', 'Alley_Tencode|PavedDrive_Tencode', 'BsmtHalfBath|GarageType_Tencode', 'FullBath|BsmtFinSF2', 'MSSubClass|BsmtFullBath', 'BsmtCond_Tencode|Electrical_Tencode', '2ndFlrSF|GarageType_Tencode', 'BsmtExposure_Tencode|BedroomAbvGr', 'ExterQual_Tencode|BedroomAbvGr', 'CentralAir_Tencode|BsmtFullBath', 'WoodDeckSF|GrLivArea', 'HeatingQC_Tencode|GarageType_Tencode', 'PoolArea|Condition1_Tencode', 'OpenPorchSF|KitchenQual_Tencode', 'Street_Tencode|BsmtQual_Tencode', 'BsmtFinType1_Tencode|RoofMatl_Tencode', 'OpenPorchSF|GarageCond_Tencode', 'HalfBath|MSZoning_Tencode', 'OpenPorchSF|MSSubClass', 'ExterQual_Tencode|EnclosedPorch', 'PoolArea|GarageCars', 'Alley_Tencode|OverallCond', 'PoolQC_Tencode|LowQualFinSF', 'PoolArea|GarageFinish_Tencode', 'Functional_Tencode|Condition2_Tencode', 'Electrical_Tencode|MSZoning_Tencode', 'Alley_Tencode|BsmtQual_Tencode', 'MSZoning_Tencode|1stFlrSF', 'BsmtFinType2_Tencode|HouseStyle_Tencode', 'MasVnrArea|BsmtCond_Tencode', 'BsmtQual_Tencode|Neighborhood_Tencode', 'LotConfig_Tencode|GarageType_Tencode', 'BsmtHalfBath|Neighborhood_Tencode', 'HeatingQC_Tencode|BsmtCond_Tencode', 'LandSlope_Tencode|LotFrontage', 'SaleCondition_Tencode|KitchenAbvGr', 'SaleCondition_Tencode|Utilities_Tencode', 'Electrical_Tencode|PavedDrive_Tencode', 'SaleCondition_Tencode|GarageCars', 'Neighborhood_Tencode|GrLivArea', 'BsmtFinType2_Tencode|LandContour_Tencode', 'BsmtFinType1_Tencode|TotalBsmtSF', 'LotFrontage|KitchenQual_Tencode', 'HeatingQC_Tencode|CentralAir_Tencode', 'BsmtFinSF1|BsmtFinSF2', 'LotShape_Tencode|Heating_Tencode', 'BsmtFinSF2|BedroomAbvGr', '2ndFlrSF|GarageFinish_Tencode', 'MasVnrArea|FireplaceQu_Tencode', 'HeatingQC_Tencode|TotRmsAbvGrd', 'LotFrontage|Utilities_Tencode', 'YearBuilt|BedroomAbvGr', 'Exterior2nd_Tencode|YrSold', 'FireplaceQu_Tencode|Condition2_Tencode', 'LandContour_Tencode|ScreenPorch', 'BsmtCond_Tencode|YrSold', 'SaleType_Tencode|YrSold', 'RoofMatl_Tencode|SaleCondition_Tencode', 'MasVnrArea|BedroomAbvGr', 'YearBuilt|OverallCond', '3SsnPorch|SaleCondition_Tencode', 'OverallQual|LotFrontage', 'MoSold|Fireplaces', 'BsmtFinType1_Tencode|LandContour_Tencode', 'BsmtCond_Tencode|FireplaceQu_Tencode', 'OverallQual|Fence_Tencode', 'Foundation_Tencode|CentralAir_Tencode', 'BsmtUnfSF|EnclosedPorch', 'Street_Tencode|OverallCond', 'LotArea|MSZoning_Tencode', 'HeatingQC_Tencode|LotConfig_Tencode', 'Foundation_Tencode|Fence_Tencode', 'OpenPorchSF|BedroomAbvGr', 'GarageArea|TotalBsmtSF', 'GarageArea|Condition1_Tencode', 'GarageType_Tencode|GarageFinish_Tencode', 'Foundation_Tencode|GarageCond_Tencode', 'FireplaceQu_Tencode|TotalBsmtSF', 'BsmtExposure_Tencode|KitchenAbvGr', 'BsmtUnfSF|GrLivArea', 'GarageType_Tencode|LotArea', 'WoodDeckSF|MiscVal', 'GarageArea|SaleCondition_Tencode', 'MSZoning_Tencode|GarageQual_Tencode', 'OverallCond|EnclosedPorch', 'RoofMatl_Tencode|Condition1_Tencode', 'RoofMatl_Tencode|KitchenAbvGr', 'OpenPorchSF|SaleCondition_Tencode', 'GarageArea|YearBuilt', 'GarageArea|LandContour_Tencode', 'CentralAir_Tencode|1stFlrSF', 'Foundation_Tencode|Street_Tencode', 'BsmtExposure_Tencode|MoSold', 'OverallCond|BedroomAbvGr', '3SsnPorch|MasVnrType_Tencode', 'BsmtHalfBath|GarageQual_Tencode', 'OpenPorchSF|BsmtFinType2_Tencode', 'Alley_Tencode|EnclosedPorch', 'WoodDeckSF|GarageFinish_Tencode', 'KitchenQual_Tencode|GarageQual_Tencode', '2ndFlrSF|YrSold', 'Foundation_Tencode|RoofMatl_Tencode', 'MiscVal|GarageFinish_Tencode', 'FullBath|BsmtExposure_Tencode', 'BsmtHalfBath|LotArea', 'FullBath|MSZoning_Tencode', 'EnclosedPorch|GarageQual_Tencode', 'HeatingQC_Tencode|MasVnrArea', 'Street_Tencode|ExterQual_Tencode', 'BsmtFinType2_Tencode|Condition2_Tencode', 'MiscFeature_Tencode|SaleCondition_Tencode', 'WoodDeckSF|Functional_Tencode', 'CentralAir_Tencode|2ndFlrSF', 'SaleType_Tencode|LotFrontage', 'BsmtHalfBath|2ndFlrSF', 'Street_Tencode|GrLivArea', 'FullBath|MiscVal', 'Electrical_Tencode|Functional_Tencode', 'GarageCond_Tencode|MasVnrType_Tencode', 'GarageCond_Tencode|KitchenQual_Tencode', 'ExterQual_Tencode|TotalBsmtSF', 'MasVnrArea|OverallQual', 'MasVnrArea|LotArea', 'Functional_Tencode|Fireplaces', 'BsmtHalfBath|BsmtUnfSF', 'TotalBsmtSF|GarageCars', 'MiscVal|BldgType_Tencode', 'Fence_Tencode|LowQualFinSF', 'Exterior2nd_Tencode|LandContour_Tencode', 'MiscVal|Functional_Tencode', 'OpenPorchSF|KitchenAbvGr', 'LandSlope_Tencode|BsmtFinType2_Tencode', 'LotShape_Tencode|SaleCondition_Tencode', 'MiscVal|KitchenQual_Tencode', 'TotRmsAbvGrd|Condition2_Tencode', 'BsmtHalfBath|BsmtFullBath', 'LandSlope_Tencode|Neighborhood_Tencode', 'RoofStyle_Tencode|Exterior1st_Tencode', 'TotalBsmtSF|KitchenQual_Tencode', 'FireplaceQu_Tencode|FullBath', 'LandContour_Tencode|Condition1_Tencode', 'GrLivArea|GarageCars', 'Utilities_Tencode|EnclosedPorch', 'BsmtUnfSF|LotArea', 'PavedDrive_Tencode|BsmtFullBath', 'BsmtCond_Tencode|1stFlrSF', 'MSSubClass|1stFlrSF', 'RoofMatl_Tencode|KitchenQual_Tencode', 'EnclosedPorch|Exterior1st_Tencode', '3SsnPorch|BsmtExposure_Tencode', 'BsmtCond_Tencode|HalfBath', 'ExterQual_Tencode|GarageType_Tencode', 'OverallQual|ExterCond_Tencode', 'MSSubClass|BsmtExposure_Tencode', 'KitchenAbvGr|YrSold', 'LotConfig_Tencode|YearRemodAdd', 'BsmtCond_Tencode|Neighborhood_Tencode', 'YearBuilt|MSZoning_Tencode', 'BsmtExposure_Tencode|SaleCondition_Tencode', 'Fence_Tencode|KitchenAbvGr', 'LandSlope_Tencode|PavedDrive_Tencode', 'HalfBath|ExterQual_Tencode', 'BsmtFinSF1|2ndFlrSF', 'PoolQC_Tencode|BsmtFinType2_Tencode', 'Exterior2nd_Tencode|LandSlope_Tencode', 'GarageCond_Tencode|LotFrontage', 'Exterior2nd_Tencode|GrLivArea', 'Heating_Tencode|BsmtHalfBath', 'SaleType_Tencode|HouseStyle_Tencode', 'OverallCond|BldgType_Tencode', 'OverallQual|GarageQual_Tencode', 'LotShape_Tencode|YearBuilt', 'YearBuilt|ExterCond_Tencode', 'MiscFeature_Tencode|2ndFlrSF', 'MasVnrArea|YearRemodAdd', 'LowQualFinSF|BldgType_Tencode', 'GarageType_Tencode|GarageCars', 'MiscFeature_Tencode|1stFlrSF', 'Fence_Tencode|Condition2_Tencode', 'FireplaceQu_Tencode|HouseStyle_Tencode', 'BsmtCond_Tencode|TotalBsmtSF', 'LotConfig_Tencode|TotRmsAbvGrd', 'SaleCondition_Tencode|Fireplaces', '3SsnPorch|GrLivArea', '3SsnPorch|PoolQC_Tencode', 'Alley_Tencode|GrLivArea', 'PoolQC_Tencode|YrSold', 'TotalBsmtSF|Fireplaces', 'Fireplaces|BldgType_Tencode', 'LowQualFinSF|BsmtFinSF2', 'Fence_Tencode|OverallCond', 'WoodDeckSF|2ndFlrSF', 'PoolQC_Tencode|2ndFlrSF', 'RoofMatl_Tencode|MasVnrType_Tencode', 'BsmtFinSF1|KitchenAbvGr', 'HalfBath|2ndFlrSF', 'CentralAir_Tencode|MSZoning_Tencode', 'MiscFeature_Tencode|GarageCars', '3SsnPorch|LotArea', 'Fence_Tencode|BldgType_Tencode', 'Neighborhood_Tencode|BldgType_Tencode', 'Fireplaces|Exterior1st_Tencode', 'BsmtFinType2_Tencode|Fireplaces', 'BsmtFinSF2|KitchenAbvGr', 'WoodDeckSF|Condition1_Tencode', 'LotConfig_Tencode|GarageQual_Tencode', 'BsmtFinType2_Tencode|RoofMatl_Tencode', 'TotRmsAbvGrd|MiscVal', 'GarageArea|HouseStyle_Tencode', 'Functional_Tencode|Condition1_Tencode', 'WoodDeckSF|PavedDrive_Tencode', 'MiscFeature_Tencode|YrSold', 'MasVnrType_Tencode|EnclosedPorch', 'LandContour_Tencode', 'Neighborhood_Tencode|Condition1_Tencode', 'MSSubClass|ExterQual_Tencode', 'HouseStyle_Tencode|ExterCond_Tencode', 'Street_Tencode|BsmtCond_Tencode', 'Fence_Tencode|MSZoning_Tencode', 'WoodDeckSF|Neighborhood_Tencode', 'SaleCondition_Tencode|YrSold', '3SsnPorch|KitchenQual_Tencode', 'BedroomAbvGr|GrLivArea', 'Neighborhood_Tencode', 'YrSold|OverallCond', 'BsmtCond_Tencode|BsmtQual_Tencode', 'HalfBath|GrLivArea', '2ndFlrSF|BsmtFullBath', 'GarageYrBlt|Condition2_Tencode', 'RoofMatl_Tencode|Fireplaces', 'YearRemodAdd|Condition2_Tencode', 'LandContour_Tencode|1stFlrSF', 'OverallQual|ExterQual_Tencode', 'YrSold|GrLivArea', 'LandSlope_Tencode|MoSold', 'GarageCond_Tencode|MSZoning_Tencode', 'YrSold', 'RoofStyle_Tencode|Fireplaces', 'Foundation_Tencode|BsmtFinSF2', 'MasVnrType_Tencode|OverallCond', 'ExterCond_Tencode', 'Functional_Tencode|BsmtFinSF2', 'LandContour_Tencode|EnclosedPorch', 'LandContour_Tencode|GrLivArea', 'BsmtHalfBath|BsmtFinType2_Tencode', 'LotArea|Condition1_Tencode', 'YrSold|MSZoning_Tencode', 'MSZoning_Tencode|Exterior1st_Tencode', 'FireplaceQu_Tencode|MSSubClass', 'TotRmsAbvGrd|1stFlrSF', '3SsnPorch|GarageCond_Tencode', 'MasVnrType_Tencode|PoolArea', '2ndFlrSF|SaleCondition_Tencode', 'Street_Tencode|WoodDeckSF', 'LandSlope_Tencode|Functional_Tencode', 'YearBuilt|YrSold', 'Exterior1st_Tencode', 'ExterQual_Tencode|ScreenPorch', 'SaleType_Tencode|BedroomAbvGr', 'OpenPorchSF|MasVnrArea', 'OpenPorchSF|Condition2_Tencode', 'YearRemodAdd|ScreenPorch', 'MiscFeature_Tencode|GarageYrBlt', 'MSSubClass|YearRemodAdd', 'BsmtFinType2_Tencode|EnclosedPorch', 'RoofStyle_Tencode|GarageFinish_Tencode', 'PoolQC_Tencode|MSZoning_Tencode', 'MasVnrArea|Neighborhood_Tencode', 'KitchenQual_Tencode|BldgType_Tencode', 'TotalBsmtSF|KitchenAbvGr', 'GarageFinish_Tencode|Fireplaces', 'Street_Tencode|RoofMatl_Tencode', 'LandSlope_Tencode|GarageArea', 'Neighborhood_Tencode|BsmtFullBath', 'Exterior2nd_Tencode|BsmtUnfSF', 'OpenPorchSF|GarageCars', 'RoofMatl_Tencode|MSSubClass', 'HalfBath|OverallCond', 'TotRmsAbvGrd|KitchenAbvGr', 'LotArea|ExterCond_Tencode', 'BsmtCond_Tencode|MiscVal', 'BsmtFinSF2|GarageCars', 'BsmtFinType2_Tencode|GarageQual_Tencode', 'Fence_Tencode|Functional_Tencode', 'HouseStyle_Tencode|GrLivArea', 'Utilities_Tencode|ExterCond_Tencode', 'BsmtHalfBath|KitchenQual_Tencode', '3SsnPorch|OpenPorchSF', 'OverallCond|GarageQual_Tencode', 'BsmtFinSF1|RoofStyle_Tencode', 'OverallQual|Neighborhood_Tencode', 'BsmtUnfSF|Neighborhood_Tencode', 'MasVnrType_Tencode|GrLivArea', 'RoofMatl_Tencode|PavedDrive_Tencode', 'Utilities_Tencode|PavedDrive_Tencode', '3SsnPorch|BsmtQual_Tencode', 'BsmtFinType2_Tencode|RoofStyle_Tencode', 'GarageYrBlt|PoolQC_Tencode', 'Exterior2nd_Tencode|GarageCond_Tencode', 'MasVnrArea|Functional_Tencode', 'Street_Tencode|GarageType_Tencode', 'Exterior2nd_Tencode|ExterQual_Tencode', 'TotRmsAbvGrd|ExterQual_Tencode', 'BsmtCond_Tencode|Fence_Tencode', 'ExterCond_Tencode|BldgType_Tencode', 'MSSubClass|PoolArea', 'LowQualFinSF', 'OverallCond|Condition2_Tencode', 'ScreenPorch|Exterior1st_Tencode', 'WoodDeckSF|GarageType_Tencode', 'MSSubClass|GarageCars', 'KitchenQual_Tencode|PavedDrive_Tencode', 'GarageCond_Tencode|BsmtFinType2_Tencode', 'YearRemodAdd|ExterCond_Tencode', 'ExterQual_Tencode|GrLivArea', 'MasVnrType_Tencode|2ndFlrSF', 'Street_Tencode|TotRmsAbvGrd', 'ScreenPorch|BldgType_Tencode', 'BsmtQual_Tencode|KitchenQual_Tencode', 'ExterCond_Tencode|GarageQual_Tencode', 'BsmtFinType2_Tencode|BsmtFinSF2', 'Street_Tencode|Condition1_Tencode', 'KitchenQual_Tencode|MSZoning_Tencode', 'GarageYrBlt|MoSold', 'ExterCond_Tencode|1stFlrSF', 'LowQualFinSF|Fireplaces', 'LotShape_Tencode|TotalBsmtSF', 'MiscFeature_Tencode|BsmtUnfSF', 'BsmtFinSF1|GarageCars', 'LotConfig_Tencode|YrSold', 'BsmtCond_Tencode|KitchenQual_Tencode', 'MiscFeature_Tencode|RoofStyle_Tencode', 'TotRmsAbvGrd|ExterCond_Tencode', 'GarageYrBlt|YearRemodAdd', 'Utilities_Tencode', 'BsmtFinSF2|Exterior1st_Tencode', 'Neighborhood_Tencode|KitchenQual_Tencode', 'Exterior2nd_Tencode|Heating_Tencode', 'Neighborhood_Tencode|EnclosedPorch', 'Foundation_Tencode|GarageArea', 'GarageType_Tencode|GarageQual_Tencode', 'MSSubClass|MasVnrType_Tencode', 'Foundation_Tencode|Electrical_Tencode', 'YearBuilt|Fireplaces', '3SsnPorch|Condition1_Tencode', 'BsmtFinType2_Tencode|Utilities_Tencode', 'SaleType_Tencode|MasVnrType_Tencode', 'MiscFeature_Tencode|GarageType_Tencode', 'GrLivArea|Exterior1st_Tencode', 'BsmtCond_Tencode|2ndFlrSF', 'BsmtQual_Tencode|GarageType_Tencode', 'PoolQC_Tencode|LotArea', 'Foundation_Tencode|GarageFinish_Tencode', 'MiscFeature_Tencode|BsmtFinSF2', 'Utilities_Tencode|LotArea', 'RoofStyle_Tencode|Condition1_Tencode', 'MasVnrArea|GrLivArea', 'KitchenAbvGr|OverallCond', 'MasVnrArea|MSSubClass', 'SaleCondition_Tencode|GarageQual_Tencode', 'Alley_Tencode|Exterior1st_Tencode', 'WoodDeckSF|BsmtQual_Tencode', 'MoSold|Exterior1st_Tencode', 'CentralAir_Tencode|GarageType_Tencode', 'LotFrontage|KitchenAbvGr', 'BsmtHalfBath|FullBath', 'WoodDeckSF|LandContour_Tencode', 'HalfBath|GarageFinish_Tencode', 'MiscFeature_Tencode|BedroomAbvGr', 'Exterior2nd_Tencode|1stFlrSF', 'BsmtExposure_Tencode|GrLivArea', 'LotArea|YrSold', 'Foundation_Tencode|ExterCond_Tencode', 'LandContour_Tencode|GarageFinish_Tencode', 'Street_Tencode|GarageFinish_Tencode', 'Fence_Tencode|TotalBsmtSF', 'Exterior2nd_Tencode|Functional_Tencode', 'BsmtFinSF1|MasVnrType_Tencode', 'PoolQC_Tencode|ExterQual_Tencode', 'BsmtFinSF1|GarageFinish_Tencode', 'WoodDeckSF|BedroomAbvGr', 'BsmtFinType2_Tencode|Condition1_Tencode', 'YearRemodAdd|Utilities_Tencode', 'BsmtFinType2_Tencode|MSSubClass', 'SaleType_Tencode|BsmtHalfBath', 'LotShape_Tencode|LotConfig_Tencode', 'LandSlope_Tencode|OverallQual', 'LandSlope_Tencode|LowQualFinSF', 'SaleType_Tencode|Neighborhood_Tencode', 'PoolArea|BsmtFullBath', 'GarageYrBlt|MSZoning_Tencode', 'OpenPorchSF|GarageArea', 'YearBuilt|ScreenPorch', 'MiscFeature_Tencode|OpenPorchSF', 'YearRemodAdd|1stFlrSF', 'Alley_Tencode|Electrical_Tencode', 'MasVnrArea|Heating_Tencode', '3SsnPorch|GarageFinish_Tencode', 'Electrical_Tencode|GarageArea', 'HalfBath|GarageType_Tencode', 'BsmtFinSF2|YearRemodAdd', 'Street_Tencode|TotalBsmtSF', '3SsnPorch|YearBuilt', 'MasVnrArea|GarageQual_Tencode', 'SaleType_Tencode|OpenPorchSF', 'HalfBath|YrSold', 'LotShape_Tencode|FireplaceQu_Tencode', 'MSSubClass|KitchenAbvGr', 'YearBuilt|2ndFlrSF', 'RoofStyle_Tencode|Functional_Tencode', 'BsmtHalfBath|OverallQual', 'GarageYrBlt|LandSlope_Tencode', 'BsmtHalfBath|ExterQual_Tencode', 'TotRmsAbvGrd', 'OpenPorchSF|Electrical_Tencode', 'LotArea|EnclosedPorch', 'LotFrontage', 'FireplaceQu_Tencode|MasVnrType_Tencode', 'Functional_Tencode|1stFlrSF', 'WoodDeckSF|KitchenAbvGr', 'GarageArea|MSSubClass', 'Street_Tencode|ExterCond_Tencode', 'LotFrontage|SaleCondition_Tencode', 'GarageFinish_Tencode|Condition2_Tencode', 'Electrical_Tencode|YearRemodAdd', 'HouseStyle_Tencode|Exterior1st_Tencode', 'CentralAir_Tencode|GrLivArea', 'PoolArea|GarageQual_Tencode', 'WoodDeckSF|EnclosedPorch', 'GarageArea|YearRemodAdd', 'BsmtCond_Tencode|KitchenAbvGr', 'Street_Tencode|1stFlrSF', 'Neighborhood_Tencode|1stFlrSF', 'GarageCars|BldgType_Tencode', 'MiscVal|YearBuilt', 'Electrical_Tencode|RoofStyle_Tencode', 'WoodDeckSF|SaleCondition_Tencode', 'BsmtFinType1_Tencode|OpenPorchSF', 'RoofMatl_Tencode|EnclosedPorch', 'Exterior2nd_Tencode|LotArea', 'HouseStyle_Tencode|YearBuilt', 'MSZoning_Tencode|EnclosedPorch', 'BsmtFinType2_Tencode|GarageArea', 'MiscVal|GarageType_Tencode', 'LotArea|BldgType_Tencode', 'OverallCond', 'BsmtHalfBath|1stFlrSF', 'BsmtFinType2_Tencode|SaleCondition_Tencode', 'YearRemodAdd|EnclosedPorch', 'KitchenQual_Tencode|BedroomAbvGr', 'CentralAir_Tencode|ScreenPorch', 'FireplaceQu_Tencode|MiscVal', 'TotRmsAbvGrd|HalfBath', 'Electrical_Tencode|Fence_Tencode', '3SsnPorch|LowQualFinSF', 'GarageQual_Tencode|BsmtFullBath', 'CentralAir_Tencode|GarageQual_Tencode', 'WoodDeckSF|PoolArea', 'LotFrontage|MoSold', 'Exterior2nd_Tencode|LotConfig_Tencode', 'GarageCond_Tencode|CentralAir_Tencode', 'BldgType_Tencode|Condition2_Tencode', 'Exterior2nd_Tencode|MiscVal', 'HeatingQC_Tencode|Functional_Tencode', 'GarageArea|BsmtExposure_Tencode', 'Electrical_Tencode|Condition1_Tencode', 'RoofStyle_Tencode|KitchenQual_Tencode', 'MasVnrType_Tencode|GarageFinish_Tencode', 'MoSold|YrSold', 'MiscFeature_Tencode|LowQualFinSF', 'LotConfig_Tencode|ExterCond_Tencode', 'EnclosedPorch|GarageCars', 'MSSubClass|LotFrontage', 'GarageFinish_Tencode|GarageQual_Tencode', 'PavedDrive_Tencode|GarageQual_Tencode']\n",
      "\n",
      "Categorical = ['LotConfig', 'Foundation', 'BsmtExposure', 'HeatingQC', 'Neighborhood', 'SaleType', 'Condition2', 'PoolQC', 'MSZoning', 'BsmtQual', 'BsmtFinType2', 'ExterQual', 'Utilities', 'RoofMatl', 'FireplaceQu', 'HouseStyle', 'LandSlope', 'RoofStyle', 'CentralAir', 'Exterior2nd', 'GarageType', 'LotShape', 'MasVnrType', 'Fence', 'BldgType', 'BsmtFinType1', 'Functional', 'BsmtCond', 'LandContour', 'GarageCond', 'Condition1', 'PavedDrive', 'Street', 'Heating', 'Electrical', 'SaleCondition', 'KitchenQual', 'ExterCond', 'Exterior1st', 'Alley', 'MiscFeature', 'GarageQual', 'GarageFinish']\n"
     ]
    }
   ],
   "source": [
    "encoded_combined_nums, cats = get_type_lists(frame=train)"
   ]
  },
  {
   "cell_type": "code",
   "execution_count": 52,
   "metadata": {
    "collapsed": false,
    "deletable": true,
    "editable": true
   },
   "outputs": [
    {
     "name": "stdout",
     "output_type": "stream",
     "text": [
      "True\n",
      "True\n"
     ]
    }
   ],
   "source": [
    "# check number of created variables is correct\n",
    "# 1 id column, 1 target column, 79 original + encoded numeric columns, 43 original categorical variables\n",
    "# sum(range(1, 79)) combined variables\n",
    "print(train.shape == (1001, sum(range(1, 79), (79 + 43 + 1 + 1))))\n",
    "print(test.shape == (1459, sum(range(1, 79), (79 + 43 + 1 + 1))))"
   ]
  },
  {
   "cell_type": "code",
   "execution_count": 53,
   "metadata": {
    "collapsed": false,
    "deletable": true,
    "editable": true
   },
   "outputs": [
    {
     "data": {
      "text/html": [
       "<table>\n",
       "<thead>\n",
       "<tr><th style=\"text-align: right;\">  LotArea</th><th style=\"text-align: right;\">  BedroomAbvGr</th><th style=\"text-align: right;\">  LotArea|BedroomAbvGr</th></tr>\n",
       "</thead>\n",
       "<tbody>\n",
       "<tr><td style=\"text-align: right;\">    11275</td><td style=\"text-align: right;\">             3</td><td style=\"text-align: right;\">                 33825</td></tr>\n",
       "</tbody>\n",
       "</table>"
      ]
     },
     "metadata": {},
     "output_type": "display_data"
    },
    {
     "name": "stdout",
     "output_type": "stream",
     "text": [
      "\n"
     ]
    },
    {
     "data": {
      "text/html": [
       "<table>\n",
       "<thead>\n",
       "<tr><th style=\"text-align: right;\">  LotArea</th><th style=\"text-align: right;\">  BedroomAbvGr</th><th style=\"text-align: right;\">  LotArea|BedroomAbvGr</th></tr>\n",
       "</thead>\n",
       "<tbody>\n",
       "<tr><td style=\"text-align: right;\">     9000</td><td style=\"text-align: right;\">             3</td><td style=\"text-align: right;\">                 27000</td></tr>\n",
       "</tbody>\n",
       "</table>"
      ]
     },
     "metadata": {},
     "output_type": "display_data"
    },
    {
     "name": "stdout",
     "output_type": "stream",
     "text": [
      "\n",
      "33825.0\n",
      "27000.0\n"
     ]
    }
   ],
   "source": [
    "# check multiplication for a random column\n",
    "ridx = np.random.choice(sum(range(1, 79)))\n",
    "combined_only = [name for name in encoded_combined_nums if name not in encoded_nums]\n",
    "combined_check_vars = combined_only[ridx].split('|')\n",
    "combined_check_vars.append(combined_only[ridx])\n",
    "\n",
    "print(train[736, combined_check_vars])\n",
    "print(test[637, combined_check_vars])\n",
    "\n",
    "print(train[736, combined_check_vars[0]]*train[736, combined_check_vars[1]])\n",
    "print(test[637, combined_check_vars[0]]*test[637, combined_check_vars[1]])"
   ]
  },
  {
   "cell_type": "markdown",
   "metadata": {
    "deletable": true,
    "editable": true
   },
   "source": [
    "## Train models"
   ]
  },
  {
   "cell_type": "code",
   "execution_count": 54,
   "metadata": {
    "collapsed": false,
    "deletable": true,
    "editable": true
   },
   "outputs": [],
   "source": [
    "h2o.show_progress() # turn on progress bars"
   ]
  },
  {
   "cell_type": "code",
   "execution_count": 55,
   "metadata": {
    "collapsed": false,
    "deletable": true,
    "editable": true
   },
   "outputs": [
    {
     "data": {
      "text/html": [
       "<table>\n",
       "<thead>\n",
       "<tr><th style=\"text-align: right;\">  SalePrice</th></tr>\n",
       "</thead>\n",
       "<tbody>\n",
       "<tr><td style=\"text-align: right;\">    12.2477</td></tr>\n",
       "<tr><td style=\"text-align: right;\">    12.109 </td></tr>\n",
       "<tr><td style=\"text-align: right;\">    12.3172</td></tr>\n",
       "</tbody>\n",
       "</table>"
      ]
     },
     "metadata": {},
     "output_type": "display_data"
    },
    {
     "name": "stdout",
     "output_type": "stream",
     "text": [
      "\n"
     ]
    },
    {
     "data": {
      "image/png": "[encoded data removed]",
      "text/plain": [
       "<matplotlib.figure.Figure at 0x123ad2390>"
      ]
     },
     "metadata": {},
     "output_type": "display_data"
    }
   ],
   "source": [
    "# Check log transform - looks good\n",
    "%matplotlib inline\n",
    "train['SalePrice'].log().as_data_frame().hist()\n",
    "\n",
    "# Execute log transform\n",
    "train['SalePrice'] = train['SalePrice'].log()\n",
    "valid['SalePrice'] = valid['SalePrice'].log()\n",
    "print(train[0:3, 'SalePrice'])"
   ]
  },
  {
   "cell_type": "markdown",
   "metadata": {
    "deletable": true,
    "editable": true
   },
   "source": [
    "#### Define ranked predictions plot function"
   ]
  },
  {
   "cell_type": "code",
   "execution_count": 56,
   "metadata": {
    "collapsed": true,
    "deletable": true,
    "editable": true
   },
   "outputs": [],
   "source": [
    "def ranked_preds_plot(y, valid, model):\n",
    "    \n",
    "    \"\"\" Generates ranked prediction plot.\n",
    "    \n",
    "    :param y: Name of target variable.\n",
    "    :param valid: Name of validation H2OFrame.\n",
    "    :param model: Model from which to generate predictions to plot.\n",
    "\n",
    "    \"\"\"\n",
    "    \n",
    "    # plot top frame values\n",
    "    yhat_frame = valid.cbind(model.predict(valid))\n",
    "    print(yhat_frame[0:10, [y, 'predict']])\n",
    "\n",
    "    # plot sorted predictions\n",
    "    yhat_frame_df = yhat_frame[[y, 'predict']].as_data_frame()\n",
    "    yhat_frame_df.sort_values(by='predict', inplace=True)\n",
    "    yhat_frame_df.reset_index(inplace=True, drop=True)\n",
    "    _ = yhat_frame_df.plot(title='Ranked Predictions Plot')\n"
   ]
  },
  {
   "cell_type": "markdown",
   "metadata": {},
   "source": [
    "#### Function to generate submission file"
   ]
  },
  {
   "cell_type": "code",
   "execution_count": 57,
   "metadata": {
    "collapsed": true
   },
   "outputs": [],
   "source": [
    "import re\n",
    "import time\n",
    "\n",
    "def gen_submission(model, test=test):\n",
    "\n",
    "    \"\"\" Generates submission file for Kaggle House Prices contest.\n",
    "    \n",
    "    :param model: Model with which to score test data.\n",
    "    :param test: Test data.\n",
    "    \n",
    "    \"\"\"\n",
    "    \n",
    "    # create time stamp\n",
    "    time_stamp = re.sub('[: ]', '_', time.asctime())\n",
    "\n",
    "    # create predictions column\n",
    "    sub = test['Id'].cbind(model.predict(test).exp())\n",
    "    sub.columns = ['Id', 'SalePrice']\n",
    "    \n",
    "    # save file for submission\n",
    "    sub_fname = '../data/submission_' + str(time_stamp) + '.csv'\n",
    "    h2o.download_csv(sub, sub_fname)\n"
   ]
  },
  {
   "cell_type": "markdown",
   "metadata": {},
   "source": [
    "#### Split training data"
   ]
  },
  {
   "cell_type": "code",
   "execution_count": 58,
   "metadata": {
    "collapsed": false
   },
   "outputs": [
    {
     "name": "stdout",
     "output_type": "stream",
     "text": [
      "(504, 3205)\n",
      "(230, 3205)\n",
      "(497, 3205)\n",
      "(229, 3205)\n"
     ]
    }
   ],
   "source": [
    "half_train, other_half_train = train.split_frame([0.5], seed=12345)\n",
    "half_valid, other_half_valid = valid.split_frame([0.5], seed=12345)\n",
    "print(half_train.shape)\n",
    "print(half_valid.shape)\n",
    "print(other_half_train.shape)\n",
    "print(other_half_valid.shape)"
   ]
  },
  {
   "cell_type": "markdown",
   "metadata": {},
   "source": [
    "#### Linear model (already submitted in section 03)"
   ]
  },
  {
   "cell_type": "code",
   "execution_count": 60,
   "metadata": {
    "collapsed": false
   },
   "outputs": [
    {
     "name": "stdout",
     "output_type": "stream",
     "text": [
      "glm Grid Build progress: |████████████████████████████████████████████████| 100%\n",
      "      alpha                                                      model_ids  \\\n",
      "0    [0.01]  Grid_GLM_py_630_sid_9a65_model_python_1497211562086_1_model_0   \n",
      "1    [0.25]  Grid_GLM_py_630_sid_9a65_model_python_1497211562086_1_model_1   \n",
      "2     [0.5]  Grid_GLM_py_630_sid_9a65_model_python_1497211562086_1_model_2   \n",
      "3    [0.75]  Grid_GLM_py_630_sid_9a65_model_python_1497211562086_1_model_3   \n",
      "4    [0.99]  Grid_GLM_py_630_sid_9a65_model_python_1497211562086_1_model_4   \n",
      "\n",
      "    residual_deviance  \n",
      "0   3.371896736365861  \n",
      "1  3.5629210729316814  \n",
      "2   3.571171553122266  \n",
      "3  3.7673610205588943  \n",
      "4   3.768915251376547  \n",
      "None\n",
      "Model Details\n",
      "=============\n",
      "H2OGeneralizedLinearEstimator :  Generalized Linear Modeling\n",
      "Model Key:  Grid_GLM_py_630_sid_9a65_model_python_1497211562086_1_model_0\n",
      "\n",
      "\n",
      "ModelMetricsRegressionGLM: glm\n",
      "** Reported on train data. **\n",
      "\n",
      "MSE: 0.013198403927250633\n",
      "RMSE: 0.1148843067057056\n",
      "MAE: 0.08201776947877121\n",
      "RMSLE: 0.00896113739122247\n",
      "R^2: 0.9157332677140266\n",
      "Mean Residual Deviance: 0.013198403927250633\n",
      "Null degrees of freedom: 503\n",
      "Residual degrees of freedom: -190\n",
      "Null deviance: 78.93975948609085\n",
      "Residual deviance: 6.6519955793343195\n",
      "AIC: 639.1497183337008\n",
      "\n",
      "ModelMetricsRegressionGLM: glm\n",
      "** Reported on validation data. **\n",
      "\n",
      "MSE: 0.01466042059289505\n",
      "RMSE: 0.12108022378941595\n",
      "MAE: 0.08771201505745342\n",
      "RMSLE: 0.009370550815692198\n",
      "R^2: 0.9012112913841015\n",
      "Mean Residual Deviance: 0.01466042059289505\n",
      "Null degrees of freedom: 229\n",
      "Residual degrees of freedom: -464\n",
      "Null deviance: 34.66875782373327\n",
      "Residual deviance: 3.371896736365861\n",
      "AIC: 1071.5128298597588\n",
      "Scoring History: \n"
     ]
    },
    {
     "data": {
      "text/html": [
       "<div style=\"overflow:auto\"><table style=\"width:50%\"><tr><td><b></b></td>\n",
       "<td><b>timestamp</b></td>\n",
       "<td><b>duration</b></td>\n",
       "<td><b>iteration</b></td>\n",
       "<td><b>lambda</b></td>\n",
       "<td><b>predictors</b></td>\n",
       "<td><b>deviance_train</b></td>\n",
       "<td><b>deviance_test</b></td></tr>\n",
       "<tr><td></td>\n",
       "<td>2017-06-11 16:07:57</td>\n",
       "<td> 0.000 sec</td>\n",
       "<td>0</td>\n",
       "<td>.32E2</td>\n",
       "<td>29</td>\n",
       "<td>0.1539906</td>\n",
       "<td>0.1482910</td></tr>\n",
       "<tr><td></td>\n",
       "<td>2017-06-11 16:07:57</td>\n",
       "<td> 0.075 sec</td>\n",
       "<td>0</td>\n",
       "<td>.3E2</td>\n",
       "<td>36</td>\n",
       "<td>0.1490545</td>\n",
       "<td>0.1437252</td></tr>\n",
       "<tr><td></td>\n",
       "<td>2017-06-11 16:07:57</td>\n",
       "<td> 0.170 sec</td>\n",
       "<td>0</td>\n",
       "<td>.29E2</td>\n",
       "<td>61</td>\n",
       "<td>0.1432811</td>\n",
       "<td>0.1384604</td></tr>\n",
       "<tr><td></td>\n",
       "<td>2017-06-11 16:07:57</td>\n",
       "<td> 0.203 sec</td>\n",
       "<td>0</td>\n",
       "<td>.27E2</td>\n",
       "<td>95</td>\n",
       "<td>0.1363604</td>\n",
       "<td>0.1322562</td></tr>\n",
       "<tr><td></td>\n",
       "<td>2017-06-11 16:07:57</td>\n",
       "<td> 0.232 sec</td>\n",
       "<td>0</td>\n",
       "<td>.26E2</td>\n",
       "<td>114</td>\n",
       "<td>0.1291709</td>\n",
       "<td>0.1258363</td></tr>\n",
       "<tr><td>---</td>\n",
       "<td>---</td>\n",
       "<td>---</td>\n",
       "<td>---</td>\n",
       "<td>---</td>\n",
       "<td>---</td>\n",
       "<td>---</td>\n",
       "<td>---</td></tr>\n",
       "<tr><td></td>\n",
       "<td>2017-06-11 16:08:08</td>\n",
       "<td>11.700 sec</td>\n",
       "<td>0</td>\n",
       "<td>.4E0</td>\n",
       "<td>693</td>\n",
       "<td>0.0123079</td>\n",
       "<td>0.0157636</td></tr>\n",
       "<tr><td></td>\n",
       "<td>2017-06-11 16:08:09</td>\n",
       "<td>11.942 sec</td>\n",
       "<td>0</td>\n",
       "<td>.38E0</td>\n",
       "<td>690</td>\n",
       "<td>0.0121844</td>\n",
       "<td>0.0160634</td></tr>\n",
       "<tr><td></td>\n",
       "<td>2017-06-11 16:08:09</td>\n",
       "<td>12.183 sec</td>\n",
       "<td>0</td>\n",
       "<td>.36E0</td>\n",
       "<td>678</td>\n",
       "<td>0.0120575</td>\n",
       "<td>0.0163854</td></tr>\n",
       "<tr><td></td>\n",
       "<td>2017-06-11 16:08:09</td>\n",
       "<td>12.446 sec</td>\n",
       "<td>0</td>\n",
       "<td>.35E0</td>\n",
       "<td>672</td>\n",
       "<td>0.0119441</td>\n",
       "<td>0.0167540</td></tr>\n",
       "<tr><td></td>\n",
       "<td>2017-06-11 16:08:09</td>\n",
       "<td>12.691 sec</td>\n",
       "<td>0</td>\n",
       "<td>.33E0</td>\n",
       "<td>674</td>\n",
       "<td>0.0118307</td>\n",
       "<td>0.0171263</td></tr></table></div>"
      ],
      "text/plain": [
       "     timestamp            duration    iteration    lambda    predictors    deviance_train        deviance_test\n",
       "---  -------------------  ----------  -----------  --------  ------------  --------------------  --------------------\n",
       "     2017-06-11 16:07:57  0.000 sec   0            .32E2     29            0.15399064145859728   0.1482909596050621\n",
       "     2017-06-11 16:07:57  0.075 sec   0            .3E2      36            0.14905447551286166   0.14372516186230463\n",
       "     2017-06-11 16:07:57  0.170 sec   0            .29E2     61            0.14328110302631103   0.13846038838631364\n",
       "     2017-06-11 16:07:57  0.203 sec   0            .27E2     95            0.13636037010410434   0.13225621765466677\n",
       "     2017-06-11 16:07:57  0.232 sec   0            .26E2     114           0.12917088818655414   0.1258362516807388\n",
       "---  ---                  ---         ---          ---       ---           ---                   ---\n",
       "     2017-06-11 16:08:08  11.700 sec  0            .4E0      693           0.01230794125166583   0.015763632300074482\n",
       "     2017-06-11 16:08:09  11.942 sec  0            .38E0     690           0.01218442887448108   0.01606335123525231\n",
       "     2017-06-11 16:08:09  12.183 sec  0            .36E0     678           0.012057539717138825  0.01638540650429144\n",
       "     2017-06-11 16:08:09  12.446 sec  0            .35E0     672           0.01194408550939457   0.016754008266686698\n",
       "     2017-06-11 16:08:09  12.691 sec  0            .33E0     674           0.011830713831191783  0.017126333872689945"
      ]
     },
     "metadata": {},
     "output_type": "display_data"
    },
    {
     "name": "stdout",
     "output_type": "stream",
     "text": [
      "\n",
      "See the whole table with table.as_data_frame()\n",
      "\n",
      "glm prediction progress: |████████████████████████████████████████████████| 100%\n"
     ]
    },
    {
     "data": {
      "text/html": [
       "<table>\n",
       "<thead>\n",
       "<tr><th style=\"text-align: right;\">  SalePrice</th><th style=\"text-align: right;\">  predict</th></tr>\n",
       "</thead>\n",
       "<tbody>\n",
       "<tr><td style=\"text-align: right;\">    11.8494</td><td style=\"text-align: right;\">  12.0926</td></tr>\n",
       "<tr><td style=\"text-align: right;\">    12.2061</td><td style=\"text-align: right;\">  12.1947</td></tr>\n",
       "<tr><td style=\"text-align: right;\">    11.6784</td><td style=\"text-align: right;\">  11.8053</td></tr>\n",
       "<tr><td style=\"text-align: right;\">    11.914 </td><td style=\"text-align: right;\">  11.7906</td></tr>\n",
       "<tr><td style=\"text-align: right;\">    12.6758</td><td style=\"text-align: right;\">  12.4599</td></tr>\n",
       "<tr><td style=\"text-align: right;\">    12.861 </td><td style=\"text-align: right;\">  12.6627</td></tr>\n",
       "<tr><td style=\"text-align: right;\">    12.1035</td><td style=\"text-align: right;\">  11.9512</td></tr>\n",
       "<tr><td style=\"text-align: right;\">    11.2898</td><td style=\"text-align: right;\">  11.378 </td></tr>\n",
       "<tr><td style=\"text-align: right;\">    11.7714</td><td style=\"text-align: right;\">  11.6659</td></tr>\n",
       "<tr><td style=\"text-align: right;\">    11.5843</td><td style=\"text-align: right;\">  11.5337</td></tr>\n",
       "</tbody>\n",
       "</table>"
      ]
     },
     "metadata": {},
     "output_type": "display_data"
    },
    {
     "name": "stdout",
     "output_type": "stream",
     "text": [
      "\n"
     ]
    },
    {
     "data": {
      "image/png": "[encoded data removed]",
      "text/plain": [
       "<matplotlib.figure.Figure at 0x12760cc18>"
      ]
     },
     "metadata": {},
     "output_type": "display_data"
    }
   ],
   "source": [
    "alpha_opts = [0.01, 0.25, 0.5, 0.75, 0.99] # always keep some L2\n",
    "hyper_parameters = {\"alpha\":alpha_opts}\n",
    "\n",
    "# initialize grid search\n",
    "grid = H2OGridSearch(\n",
    "    H2OGeneralizedLinearEstimator(\n",
    "        family=\"gaussian\",\n",
    "        lambda_search=True,\n",
    "        seed=12345),\n",
    "        hyper_params=hyper_parameters)\n",
    "   \n",
    "# train grid\n",
    "grid.train(y='SalePrice',\n",
    "           x=encoded_combined_nums, \n",
    "           training_frame=half_train,\n",
    "           validation_frame=half_valid)\n",
    "\n",
    "# show grid search results\n",
    "print(grid.show())\n",
    "\n",
    "best_glm = grid.get_grid()[0]\n",
    "print(best_glm)\n",
    "ranked_preds_plot('SalePrice', half_valid, best_glm)"
   ]
  },
  {
   "cell_type": "markdown",
   "metadata": {},
   "source": [
    "#### Use GLM for feature selection"
   ]
  },
  {
   "cell_type": "code",
   "execution_count": 67,
   "metadata": {
    "collapsed": false
   },
   "outputs": [],
   "source": [
    "glm_selected_nums = []\n",
    "for key in best_glm.coef():\n",
    "    if best_glm.coef()[key] != 0.0 and key != 'Intercept':\n",
    "        glm_selected_nums.append(key)"
   ]
  },
  {
   "cell_type": "markdown",
   "metadata": {},
   "source": [
    "#### MLP model "
   ]
  },
  {
   "cell_type": "code",
   "execution_count": 71,
   "metadata": {
    "collapsed": false
   },
   "outputs": [
    {
     "name": "stdout",
     "output_type": "stream",
     "text": [
      "deeplearning Grid Build progress: |███████████████████████████████████████| 100%\n",
      "      alpha                                                      model_ids  \\\n",
      "0    [0.01]  Grid_GLM_py_630_sid_9a65_model_python_1497211562086_1_model_0   \n",
      "1    [0.25]  Grid_GLM_py_630_sid_9a65_model_python_1497211562086_1_model_1   \n",
      "2     [0.5]  Grid_GLM_py_630_sid_9a65_model_python_1497211562086_1_model_2   \n",
      "3    [0.75]  Grid_GLM_py_630_sid_9a65_model_python_1497211562086_1_model_3   \n",
      "4    [0.99]  Grid_GLM_py_630_sid_9a65_model_python_1497211562086_1_model_4   \n",
      "\n",
      "    residual_deviance  \n",
      "0   3.371896736365861  \n",
      "1  3.5629210729316814  \n",
      "2   3.571171553122266  \n",
      "3  3.7673610205588943  \n",
      "4   3.768915251376547  \n",
      "None\n",
      "Model Details\n",
      "=============\n",
      "H2OGeneralizedLinearEstimator :  Generalized Linear Modeling\n",
      "Model Key:  Grid_GLM_py_630_sid_9a65_model_python_1497211562086_1_model_0\n",
      "\n",
      "\n",
      "ModelMetricsRegressionGLM: glm\n",
      "** Reported on train data. **\n",
      "\n",
      "MSE: 0.013198403927250633\n",
      "RMSE: 0.1148843067057056\n",
      "MAE: 0.08201776947877121\n",
      "RMSLE: 0.00896113739122247\n",
      "R^2: 0.9157332677140266\n",
      "Mean Residual Deviance: 0.013198403927250633\n",
      "Null degrees of freedom: 503\n",
      "Residual degrees of freedom: -190\n",
      "Null deviance: 78.93975948609085\n",
      "Residual deviance: 6.6519955793343195\n",
      "AIC: 639.1497183337008\n",
      "\n",
      "ModelMetricsRegressionGLM: glm\n",
      "** Reported on validation data. **\n",
      "\n",
      "MSE: 0.01466042059289505\n",
      "RMSE: 0.12108022378941595\n",
      "MAE: 0.08771201505745342\n",
      "RMSLE: 0.009370550815692198\n",
      "R^2: 0.9012112913841015\n",
      "Mean Residual Deviance: 0.01466042059289505\n",
      "Null degrees of freedom: 229\n",
      "Residual degrees of freedom: -464\n",
      "Null deviance: 34.66875782373327\n",
      "Residual deviance: 3.371896736365861\n",
      "AIC: 1071.5128298597588\n",
      "Scoring History: \n"
     ]
    },
    {
     "data": {
      "text/html": [
       "<div style=\"overflow:auto\"><table style=\"width:50%\"><tr><td><b></b></td>\n",
       "<td><b>timestamp</b></td>\n",
       "<td><b>duration</b></td>\n",
       "<td><b>iteration</b></td>\n",
       "<td><b>lambda</b></td>\n",
       "<td><b>predictors</b></td>\n",
       "<td><b>deviance_train</b></td>\n",
       "<td><b>deviance_test</b></td></tr>\n",
       "<tr><td></td>\n",
       "<td>2017-06-11 16:07:57</td>\n",
       "<td> 0.000 sec</td>\n",
       "<td>0</td>\n",
       "<td>.32E2</td>\n",
       "<td>29</td>\n",
       "<td>0.1539906</td>\n",
       "<td>0.1482910</td></tr>\n",
       "<tr><td></td>\n",
       "<td>2017-06-11 16:07:57</td>\n",
       "<td> 0.075 sec</td>\n",
       "<td>0</td>\n",
       "<td>.3E2</td>\n",
       "<td>36</td>\n",
       "<td>0.1490545</td>\n",
       "<td>0.1437252</td></tr>\n",
       "<tr><td></td>\n",
       "<td>2017-06-11 16:07:57</td>\n",
       "<td> 0.170 sec</td>\n",
       "<td>0</td>\n",
       "<td>.29E2</td>\n",
       "<td>61</td>\n",
       "<td>0.1432811</td>\n",
       "<td>0.1384604</td></tr>\n",
       "<tr><td></td>\n",
       "<td>2017-06-11 16:07:57</td>\n",
       "<td> 0.203 sec</td>\n",
       "<td>0</td>\n",
       "<td>.27E2</td>\n",
       "<td>95</td>\n",
       "<td>0.1363604</td>\n",
       "<td>0.1322562</td></tr>\n",
       "<tr><td></td>\n",
       "<td>2017-06-11 16:07:57</td>\n",
       "<td> 0.232 sec</td>\n",
       "<td>0</td>\n",
       "<td>.26E2</td>\n",
       "<td>114</td>\n",
       "<td>0.1291709</td>\n",
       "<td>0.1258363</td></tr>\n",
       "<tr><td>---</td>\n",
       "<td>---</td>\n",
       "<td>---</td>\n",
       "<td>---</td>\n",
       "<td>---</td>\n",
       "<td>---</td>\n",
       "<td>---</td>\n",
       "<td>---</td></tr>\n",
       "<tr><td></td>\n",
       "<td>2017-06-11 16:08:08</td>\n",
       "<td>11.700 sec</td>\n",
       "<td>0</td>\n",
       "<td>.4E0</td>\n",
       "<td>693</td>\n",
       "<td>0.0123079</td>\n",
       "<td>0.0157636</td></tr>\n",
       "<tr><td></td>\n",
       "<td>2017-06-11 16:08:09</td>\n",
       "<td>11.942 sec</td>\n",
       "<td>0</td>\n",
       "<td>.38E0</td>\n",
       "<td>690</td>\n",
       "<td>0.0121844</td>\n",
       "<td>0.0160634</td></tr>\n",
       "<tr><td></td>\n",
       "<td>2017-06-11 16:08:09</td>\n",
       "<td>12.183 sec</td>\n",
       "<td>0</td>\n",
       "<td>.36E0</td>\n",
       "<td>678</td>\n",
       "<td>0.0120575</td>\n",
       "<td>0.0163854</td></tr>\n",
       "<tr><td></td>\n",
       "<td>2017-06-11 16:08:09</td>\n",
       "<td>12.446 sec</td>\n",
       "<td>0</td>\n",
       "<td>.35E0</td>\n",
       "<td>672</td>\n",
       "<td>0.0119441</td>\n",
       "<td>0.0167540</td></tr>\n",
       "<tr><td></td>\n",
       "<td>2017-06-11 16:08:09</td>\n",
       "<td>12.691 sec</td>\n",
       "<td>0</td>\n",
       "<td>.33E0</td>\n",
       "<td>674</td>\n",
       "<td>0.0118307</td>\n",
       "<td>0.0171263</td></tr></table></div>"
      ],
      "text/plain": [
       "     timestamp            duration    iteration    lambda    predictors    deviance_train        deviance_test\n",
       "---  -------------------  ----------  -----------  --------  ------------  --------------------  --------------------\n",
       "     2017-06-11 16:07:57  0.000 sec   0            .32E2     29            0.15399064145859728   0.1482909596050621\n",
       "     2017-06-11 16:07:57  0.075 sec   0            .3E2      36            0.14905447551286166   0.14372516186230463\n",
       "     2017-06-11 16:07:57  0.170 sec   0            .29E2     61            0.14328110302631103   0.13846038838631364\n",
       "     2017-06-11 16:07:57  0.203 sec   0            .27E2     95            0.13636037010410434   0.13225621765466677\n",
       "     2017-06-11 16:07:57  0.232 sec   0            .26E2     114           0.12917088818655414   0.1258362516807388\n",
       "---  ---                  ---         ---          ---       ---           ---                   ---\n",
       "     2017-06-11 16:08:08  11.700 sec  0            .4E0      693           0.01230794125166583   0.015763632300074482\n",
       "     2017-06-11 16:08:09  11.942 sec  0            .38E0     690           0.01218442887448108   0.01606335123525231\n",
       "     2017-06-11 16:08:09  12.183 sec  0            .36E0     678           0.012057539717138825  0.01638540650429144\n",
       "     2017-06-11 16:08:09  12.446 sec  0            .35E0     672           0.01194408550939457   0.016754008266686698\n",
       "     2017-06-11 16:08:09  12.691 sec  0            .33E0     674           0.011830713831191783  0.017126333872689945"
      ]
     },
     "metadata": {},
     "output_type": "display_data"
    },
    {
     "name": "stdout",
     "output_type": "stream",
     "text": [
      "\n",
      "See the whole table with table.as_data_frame()\n",
      "\n",
      "glm prediction progress: |████████████████████████████████████████████████| 100%\n"
     ]
    },
    {
     "data": {
      "text/html": [
       "<table>\n",
       "<thead>\n",
       "<tr><th style=\"text-align: right;\">  SalePrice</th><th style=\"text-align: right;\">  predict</th></tr>\n",
       "</thead>\n",
       "<tbody>\n",
       "<tr><td style=\"text-align: right;\">    11.8494</td><td style=\"text-align: right;\">  12.0926</td></tr>\n",
       "<tr><td style=\"text-align: right;\">    12.2061</td><td style=\"text-align: right;\">  12.1947</td></tr>\n",
       "<tr><td style=\"text-align: right;\">    11.6784</td><td style=\"text-align: right;\">  11.8053</td></tr>\n",
       "<tr><td style=\"text-align: right;\">    11.914 </td><td style=\"text-align: right;\">  11.7906</td></tr>\n",
       "<tr><td style=\"text-align: right;\">    12.6758</td><td style=\"text-align: right;\">  12.4599</td></tr>\n",
       "<tr><td style=\"text-align: right;\">    12.861 </td><td style=\"text-align: right;\">  12.6627</td></tr>\n",
       "<tr><td style=\"text-align: right;\">    12.1035</td><td style=\"text-align: right;\">  11.9512</td></tr>\n",
       "<tr><td style=\"text-align: right;\">    11.2898</td><td style=\"text-align: right;\">  11.378 </td></tr>\n",
       "<tr><td style=\"text-align: right;\">    11.7714</td><td style=\"text-align: right;\">  11.6659</td></tr>\n",
       "<tr><td style=\"text-align: right;\">    11.5843</td><td style=\"text-align: right;\">  11.5337</td></tr>\n",
       "</tbody>\n",
       "</table>"
      ]
     },
     "metadata": {},
     "output_type": "display_data"
    },
    {
     "name": "stdout",
     "output_type": "stream",
     "text": [
      "\n",
      "glm prediction progress: |████████████████████████████████████████████████| 100%\n"
     ]
    },
    {
     "data": {
      "image/png": "[encoded data removed]",
      "text/plain": [
       "<matplotlib.figure.Figure at 0x12fc14da0>"
      ]
     },
     "metadata": {},
     "output_type": "display_data"
    }
   ],
   "source": [
    "# define random grid search parameters\n",
    "hyper_parameters = {'hidden': [[1000], [500, 500], [250, 250, 250, 250], [1000, 500], [500, 1000], [1000, 500, 250], [1000, 1000]],\n",
    "                    'l1':[s/1e4 for s in range(0, 1000, 100)],\n",
    "                    'l2':[s/1e5 for s in range(0, 1000, 100)],\n",
    "                    'input_dropout_ratio':[s/1e2 for s in range(0, 20, 2)]}\n",
    "\n",
    "# define search strategy\n",
    "search_criteria = {'strategy':'RandomDiscrete',\n",
    "                   'max_models':100,\n",
    "                   'max_runtime_secs':1200}\n",
    "\n",
    "# initialize grid search\n",
    "gsearch = H2OGridSearch(H2ODeepLearningEstimator,\n",
    "                        hyper_params=hyper_parameters,\n",
    "                        search_criteria=search_criteria)\n",
    "\n",
    "# execute training w/ grid search\n",
    "gsearch.train(x=glm_selected_nums,\n",
    "              y='SalePrice',\n",
    "              training_frame=half_train,\n",
    "              validation_frame=half_valid,\n",
    "              activation='Tanh', \n",
    "              epochs=1000, \n",
    "              stopping_rounds=5,                 \n",
    "              ignore_const_cols=True,              \n",
    "              adaptive_rate=True)\n",
    "\n",
    "# show grid search results\n",
    "print(grid.show())\n",
    "\n",
    "best_nn = grid.get_grid()[0]\n",
    "print(best_nn)\n",
    "ranked_preds_plot('SalePrice', half_valid, best_nn)\n",
    "gen_submission(best_nn) # Valid RMSE ~0.1210, public leaderboard ~"
   ]
  },
  {
   "cell_type": "markdown",
   "metadata": {},
   "source": [
    "#### Random forest model - typically not tuned as much as GBM"
   ]
  },
  {
   "cell_type": "code",
   "execution_count": 69,
   "metadata": {
    "collapsed": false
   },
   "outputs": [
    {
     "name": "stdout",
     "output_type": "stream",
     "text": [
      "drf Model Build progress: |███████████████████████████████████████████████| 100%\n",
      "Model Details\n",
      "=============\n",
      "H2ORandomForestEstimator :  Distributed Random Forest\n",
      "Model Key:  DRF_model_python_1497211562086_4\n",
      "\n",
      "\n",
      "ModelMetricsRegression: drf\n",
      "** Reported on train data. **\n",
      "\n",
      "MSE: 0.019900053922654908\n",
      "RMSE: 0.1410675509203123\n",
      "MAE: 0.09696003082078246\n",
      "RMSLE: 0.010990322332114407\n",
      "Mean Residual Deviance: 0.019900053922654908\n",
      "\n",
      "ModelMetricsRegression: drf\n",
      "** Reported on validation data. **\n",
      "\n",
      "MSE: 0.02206296297376914\n",
      "RMSE: 0.14853606623904222\n",
      "MAE: 0.10652289705509867\n",
      "RMSLE: 0.01140423427499746\n",
      "Mean Residual Deviance: 0.02206296297376914\n",
      "Scoring History: \n"
     ]
    },
    {
     "data": {
      "text/html": [
       "<div style=\"overflow:auto\"><table style=\"width:50%\"><tr><td><b></b></td>\n",
       "<td><b>timestamp</b></td>\n",
       "<td><b>duration</b></td>\n",
       "<td><b>number_of_trees</b></td>\n",
       "<td><b>training_rmse</b></td>\n",
       "<td><b>training_mae</b></td>\n",
       "<td><b>training_deviance</b></td>\n",
       "<td><b>validation_rmse</b></td>\n",
       "<td><b>validation_mae</b></td>\n",
       "<td><b>validation_deviance</b></td></tr>\n",
       "<tr><td></td>\n",
       "<td>2017-06-11 16:46:14</td>\n",
       "<td> 0.016 sec</td>\n",
       "<td>0.0</td>\n",
       "<td>nan</td>\n",
       "<td>nan</td>\n",
       "<td>nan</td>\n",
       "<td>nan</td>\n",
       "<td>nan</td>\n",
       "<td>nan</td></tr>\n",
       "<tr><td></td>\n",
       "<td>2017-06-11 16:46:14</td>\n",
       "<td> 0.469 sec</td>\n",
       "<td>1.0</td>\n",
       "<td>0.2263341</td>\n",
       "<td>0.1685325</td>\n",
       "<td>0.0512271</td>\n",
       "<td>0.2298577</td>\n",
       "<td>0.1677482</td>\n",
       "<td>0.0528346</td></tr>\n",
       "<tr><td></td>\n",
       "<td>2017-06-11 16:46:14</td>\n",
       "<td> 0.636 sec</td>\n",
       "<td>2.0</td>\n",
       "<td>0.2165760</td>\n",
       "<td>0.1573064</td>\n",
       "<td>0.0469052</td>\n",
       "<td>0.2052531</td>\n",
       "<td>0.1445884</td>\n",
       "<td>0.0421288</td></tr>\n",
       "<tr><td></td>\n",
       "<td>2017-06-11 16:46:14</td>\n",
       "<td> 0.807 sec</td>\n",
       "<td>3.0</td>\n",
       "<td>0.1987569</td>\n",
       "<td>0.1464383</td>\n",
       "<td>0.0395043</td>\n",
       "<td>0.1857130</td>\n",
       "<td>0.1330210</td>\n",
       "<td>0.0344893</td></tr>\n",
       "<tr><td></td>\n",
       "<td>2017-06-11 16:46:15</td>\n",
       "<td> 0.959 sec</td>\n",
       "<td>4.0</td>\n",
       "<td>0.1937970</td>\n",
       "<td>0.1435045</td>\n",
       "<td>0.0375573</td>\n",
       "<td>0.1810585</td>\n",
       "<td>0.1295014</td>\n",
       "<td>0.0327822</td></tr>\n",
       "<tr><td>---</td>\n",
       "<td>---</td>\n",
       "<td>---</td>\n",
       "<td>---</td>\n",
       "<td>---</td>\n",
       "<td>---</td>\n",
       "<td>---</td>\n",
       "<td>---</td>\n",
       "<td>---</td>\n",
       "<td>---</td></tr>\n",
       "<tr><td></td>\n",
       "<td>2017-06-11 16:46:50</td>\n",
       "<td>36.471 sec</td>\n",
       "<td>250.0</td>\n",
       "<td>0.1411836</td>\n",
       "<td>0.0975218</td>\n",
       "<td>0.0199328</td>\n",
       "<td>0.1483639</td>\n",
       "<td>0.1060559</td>\n",
       "<td>0.0220118</td></tr>\n",
       "<tr><td></td>\n",
       "<td>2017-06-11 16:46:54</td>\n",
       "<td>40.574 sec</td>\n",
       "<td>278.0</td>\n",
       "<td>0.1411866</td>\n",
       "<td>0.0971124</td>\n",
       "<td>0.0199337</td>\n",
       "<td>0.1484179</td>\n",
       "<td>0.1062814</td>\n",
       "<td>0.0220279</td></tr>\n",
       "<tr><td></td>\n",
       "<td>2017-06-11 16:46:58</td>\n",
       "<td>44.590 sec</td>\n",
       "<td>307.0</td>\n",
       "<td>0.1412056</td>\n",
       "<td>0.0971382</td>\n",
       "<td>0.0199390</td>\n",
       "<td>0.1486194</td>\n",
       "<td>0.1065917</td>\n",
       "<td>0.0220877</td></tr>\n",
       "<tr><td></td>\n",
       "<td>2017-06-11 16:47:02</td>\n",
       "<td>48.674 sec</td>\n",
       "<td>336.0</td>\n",
       "<td>0.1408507</td>\n",
       "<td>0.0968954</td>\n",
       "<td>0.0198389</td>\n",
       "<td>0.1485569</td>\n",
       "<td>0.1065743</td>\n",
       "<td>0.0220691</td></tr>\n",
       "<tr><td></td>\n",
       "<td>2017-06-11 16:47:06</td>\n",
       "<td>52.800 sec</td>\n",
       "<td>366.0</td>\n",
       "<td>0.1410676</td>\n",
       "<td>0.0969600</td>\n",
       "<td>0.0199001</td>\n",
       "<td>0.1485361</td>\n",
       "<td>0.1065229</td>\n",
       "<td>0.0220630</td></tr></table></div>"
      ],
      "text/plain": [
       "     timestamp            duration    number_of_trees    training_rmse        training_mae         training_deviance     validation_rmse      validation_mae       validation_deviance\n",
       "---  -------------------  ----------  -----------------  -------------------  -------------------  --------------------  -------------------  -------------------  ---------------------\n",
       "     2017-06-11 16:46:14  0.016 sec   0.0                nan                  nan                  nan                   nan                  nan                  nan\n",
       "     2017-06-11 16:46:14  0.469 sec   1.0                0.22633408163660024  0.1685325133494842   0.05122711651028322   0.2298577459496772   0.1677481983018958   0.05283458337306634\n",
       "     2017-06-11 16:46:14  0.636 sec   2.0                0.21657604098457733  0.1573064074255646   0.046905181528553316  0.20525307548906138  0.144588447653729    0.042128824997718334\n",
       "     2017-06-11 16:46:14  0.807 sec   3.0                0.19875687202131553  0.14643828823096255  0.039504294175697605  0.1857130426879501   0.13302102987317074  0.03448933422441638\n",
       "     2017-06-11 16:46:15  0.959 sec   4.0                0.19379695501756725  0.14350445409069004  0.03755725977408098   0.18105852991079785  0.12950135624927023  0.032782191253459284\n",
       "---  ---                  ---         ---                ---                  ---                  ---                   ---                  ---                  ---\n",
       "     2017-06-11 16:46:50  36.471 sec  250.0              0.14118356780794225  0.0975217536462567   0.019932799818979826  0.14836387114834979  0.10605588927890941  0.02201183826212414\n",
       "     2017-06-11 16:46:54  40.574 sec  278.0              0.14118662431533374  0.09711235503375804  0.01993366288555919   0.1484178648801111   0.10628136671219611  0.02202786261557092\n",
       "     2017-06-11 16:46:58  44.590 sec  307.0              0.14120558577721312  0.09713819612533163  0.019939017454685893  0.14861943174345218  0.10659169637520413  0.02208773549174664\n",
       "     2017-06-11 16:47:02  48.674 sec  336.0              0.1408506962551482   0.09689540651823242  0.01983891863556002   0.14855686926178283  0.10657434559756929  0.022069143404862438\n",
       "     2017-06-11 16:47:06  52.800 sec  366.0              0.1410675509203123   0.09696003082078246  0.019900053922654908  0.14853606623904222  0.10652289705509867  0.02206296297376914"
      ]
     },
     "metadata": {},
     "output_type": "display_data"
    },
    {
     "name": "stdout",
     "output_type": "stream",
     "text": [
      "\n",
      "See the whole table with table.as_data_frame()\n",
      "Variable Importances: \n"
     ]
    },
    {
     "data": {
      "text/html": [
       "<div style=\"overflow:auto\"><table style=\"width:50%\"><tr><td><b>variable</b></td>\n",
       "<td><b>relative_importance</b></td>\n",
       "<td><b>scaled_importance</b></td>\n",
       "<td><b>percentage</b></td></tr>\n",
       "<tr><td>Neighborhood_Tencode|GrLivArea</td>\n",
       "<td>5765.7587891</td>\n",
       "<td>1.0</td>\n",
       "<td>0.2461322</td></tr>\n",
       "<tr><td>OverallQual|Neighborhood_Tencode</td>\n",
       "<td>3224.0002441</td>\n",
       "<td>0.5591632</td>\n",
       "<td>0.1376281</td></tr>\n",
       "<tr><td>LotShape_Tencode|OverallQual</td>\n",
       "<td>2094.1999512</td>\n",
       "<td>0.3632132</td>\n",
       "<td>0.0893985</td></tr>\n",
       "<tr><td>OverallQual|YearRemodAdd</td>\n",
       "<td>1788.7630615</td>\n",
       "<td>0.3102390</td>\n",
       "<td>0.0763598</td></tr>\n",
       "<tr><td>OverallQual|YearBuilt</td>\n",
       "<td>927.9565430</td>\n",
       "<td>0.1609427</td>\n",
       "<td>0.0396132</td></tr>\n",
       "<tr><td>---</td>\n",
       "<td>---</td>\n",
       "<td>---</td>\n",
       "<td>---</td></tr>\n",
       "<tr><td>3SsnPorch|EnclosedPorch</td>\n",
       "<td>0.0043537</td>\n",
       "<td>0.0000008</td>\n",
       "<td>0.0000002</td></tr>\n",
       "<tr><td>BsmtUnfSF|PoolArea</td>\n",
       "<td>0.0041256</td>\n",
       "<td>0.0000007</td>\n",
       "<td>0.0000002</td></tr>\n",
       "<tr><td>OpenPorchSF|PoolArea</td>\n",
       "<td>0.0016967</td>\n",
       "<td>0.0000003</td>\n",
       "<td>0.0000001</td></tr>\n",
       "<tr><td>MiscVal|2ndFlrSF</td>\n",
       "<td>0.0009443</td>\n",
       "<td>0.0000002</td>\n",
       "<td>0.0000000</td></tr>\n",
       "<tr><td>PoolArea|MoSold</td>\n",
       "<td>0.0009375</td>\n",
       "<td>0.0000002</td>\n",
       "<td>0.0000000</td></tr></table></div>"
      ],
      "text/plain": [
       "variable                          relative_importance    scaled_importance       percentage\n",
       "--------------------------------  ---------------------  ----------------------  ----------------------\n",
       "Neighborhood_Tencode|GrLivArea    5765.7587890625        1.0                     0.24613218101421333\n",
       "OverallQual|Neighborhood_Tencode  3224.000244140625      0.5591632189429209      0.1376280626213492\n",
       "LotShape_Tencode|OverallQual      2094.199951171875      0.3632132435273775      0.08939846780264003\n",
       "OverallQual|YearRemodAdd          1788.7630615234375     0.3102389688789403      0.07635979404577424\n",
       "OverallQual|YearBuilt             927.95654296875        0.1609426576652947      0.03961316734938288\n",
       "---                               ---                    ---                     ---\n",
       "3SsnPorch|EnclosedPorch           0.004353703930974007   7.550964392115872e-07   1.8585353345921432e-07\n",
       "BsmtUnfSF|PoolArea                0.004125602543354034   7.155350569261064e-07   1.7611620415335186e-07\n",
       "OpenPorchSF|PoolArea              0.0016966877738013864  2.9426964184141047e-07  7.242922875269776e-08\n",
       "MiscVal|2ndFlrSF                  0.0009443024755455554  1.6377765877699802e-07  4.031095235618414e-08\n",
       "PoolArea|MoSold                   0.0009375454392284155  1.6260573387268918e-07  4.0022503923501736e-08"
      ]
     },
     "metadata": {},
     "output_type": "display_data"
    },
    {
     "name": "stdout",
     "output_type": "stream",
     "text": [
      "\n",
      "See the whole table with table.as_data_frame()\n",
      "\n",
      "drf prediction progress: |████████████████████████████████████████████████| 100%\n"
     ]
    },
    {
     "data": {
      "text/html": [
       "<table>\n",
       "<thead>\n",
       "<tr><th style=\"text-align: right;\">  SalePrice</th><th style=\"text-align: right;\">  predict</th></tr>\n",
       "</thead>\n",
       "<tbody>\n",
       "<tr><td style=\"text-align: right;\">    11.8494</td><td style=\"text-align: right;\">  12.1404</td></tr>\n",
       "<tr><td style=\"text-align: right;\">    12.2061</td><td style=\"text-align: right;\">  12.3218</td></tr>\n",
       "<tr><td style=\"text-align: right;\">    11.6784</td><td style=\"text-align: right;\">  11.6806</td></tr>\n",
       "<tr><td style=\"text-align: right;\">    11.914 </td><td style=\"text-align: right;\">  11.7595</td></tr>\n",
       "<tr><td style=\"text-align: right;\">    12.6758</td><td style=\"text-align: right;\">  12.5135</td></tr>\n",
       "<tr><td style=\"text-align: right;\">    12.861 </td><td style=\"text-align: right;\">  12.6362</td></tr>\n",
       "<tr><td style=\"text-align: right;\">    12.1035</td><td style=\"text-align: right;\">  11.9698</td></tr>\n",
       "<tr><td style=\"text-align: right;\">    11.2898</td><td style=\"text-align: right;\">  11.4536</td></tr>\n",
       "<tr><td style=\"text-align: right;\">    11.7714</td><td style=\"text-align: right;\">  11.658 </td></tr>\n",
       "<tr><td style=\"text-align: right;\">    11.5843</td><td style=\"text-align: right;\">  11.615 </td></tr>\n",
       "</tbody>\n",
       "</table>"
      ]
     },
     "metadata": {},
     "output_type": "display_data"
    },
    {
     "name": "stdout",
     "output_type": "stream",
     "text": [
      "\n"
     ]
    },
    {
     "data": {
      "image/png": "[encoded data removed]",
      "text/plain": [
       "<matplotlib.figure.Figure at 0x12f3972b0>"
      ]
     },
     "metadata": {},
     "output_type": "display_data"
    }
   ],
   "source": [
    "# initialize rf model\n",
    "rf_model = H2ORandomForestEstimator(\n",
    "    ntrees=1000,                     # Up to 1000 decision trees in the forest \n",
    "    max_depth=50,                    # trees can grow to depth of 30\n",
    "    stopping_rounds=5)               # stop after validation error does not decrease for 5 iterations/new trees\n",
    "\n",
    "# train rf model\n",
    "rf_model.train(\n",
    "    x=glm_selected_nums,\n",
    "    y='SalePrice',\n",
    "    training_frame=half_train,\n",
    "    validation_frame=half_valid)\n",
    "\n",
    "# print model information\n",
    "print(rf_model)\n",
    "ranked_preds_plot('SalePrice', half_valid, rf_model) # valid RMSE: 0.1415, not worth submitting "
   ]
  },
  {
   "cell_type": "markdown",
   "metadata": {},
   "source": [
    "#### Extremely random trees model - typically not tuned as much as GBM"
   ]
  },
  {
   "cell_type": "code",
   "execution_count": 26,
   "metadata": {
    "collapsed": false
   },
   "outputs": [
    {
     "name": "stdout",
     "output_type": "stream",
     "text": [
      "drf Model Build progress: |███████████████████████████████████████████████| 100%\n",
      "Model Details\n",
      "=============\n",
      "H2ORandomForestEstimator :  Distributed Random Forest\n",
      "Model Key:  DRF_model_python_1497134150670_5\n",
      "\n",
      "\n",
      "ModelMetricsRegression: drf\n",
      "** Reported on train data. **\n",
      "\n",
      "MSE: 0.02125492780213059\n",
      "RMSE: 0.14579069861321947\n",
      "MAE: 0.0963924219751856\n",
      "RMSLE: 0.011351942006481508\n",
      "Mean Residual Deviance: 0.02125492780213059\n",
      "\n",
      "ModelMetricsRegression: drf\n",
      "** Reported on validation data. **\n",
      "\n",
      "MSE: 0.01977380474005669\n",
      "RMSE: 0.14061936118492604\n",
      "MAE: 0.10264988746438589\n",
      "RMSLE: 0.010825544551452905\n",
      "Mean Residual Deviance: 0.01977380474005669\n",
      "Scoring History: \n"
     ]
    },
    {
     "data": {
      "text/html": [
       "<div style=\"overflow:auto\"><table style=\"width:50%\"><tr><td><b></b></td>\n",
       "<td><b>timestamp</b></td>\n",
       "<td><b>duration</b></td>\n",
       "<td><b>number_of_trees</b></td>\n",
       "<td><b>training_rmse</b></td>\n",
       "<td><b>training_mae</b></td>\n",
       "<td><b>training_deviance</b></td>\n",
       "<td><b>validation_rmse</b></td>\n",
       "<td><b>validation_mae</b></td>\n",
       "<td><b>validation_deviance</b></td></tr>\n",
       "<tr><td></td>\n",
       "<td>2017-06-10 19:10:08</td>\n",
       "<td> 0.020 sec</td>\n",
       "<td>0.0</td>\n",
       "<td>nan</td>\n",
       "<td>nan</td>\n",
       "<td>nan</td>\n",
       "<td>nan</td>\n",
       "<td>nan</td>\n",
       "<td>nan</td></tr>\n",
       "<tr><td></td>\n",
       "<td>2017-06-10 19:10:10</td>\n",
       "<td> 1.350 sec</td>\n",
       "<td>1.0</td>\n",
       "<td>0.2084943</td>\n",
       "<td>0.1501201</td>\n",
       "<td>0.0434699</td>\n",
       "<td>0.2353730</td>\n",
       "<td>0.1621160</td>\n",
       "<td>0.0554004</td></tr>\n",
       "<tr><td></td>\n",
       "<td>2017-06-10 19:10:11</td>\n",
       "<td> 2.377 sec</td>\n",
       "<td>2.0</td>\n",
       "<td>0.2174953</td>\n",
       "<td>0.1523578</td>\n",
       "<td>0.0473042</td>\n",
       "<td>0.1812903</td>\n",
       "<td>0.1285753</td>\n",
       "<td>0.0328662</td></tr>\n",
       "<tr><td></td>\n",
       "<td>2017-06-10 19:10:12</td>\n",
       "<td> 3.429 sec</td>\n",
       "<td>3.0</td>\n",
       "<td>0.2101646</td>\n",
       "<td>0.1458060</td>\n",
       "<td>0.0441692</td>\n",
       "<td>0.1600012</td>\n",
       "<td>0.1143233</td>\n",
       "<td>0.0256004</td></tr>\n",
       "<tr><td></td>\n",
       "<td>2017-06-10 19:10:16</td>\n",
       "<td> 7.796 sec</td>\n",
       "<td>7.0</td>\n",
       "<td>0.1921095</td>\n",
       "<td>0.1310902</td>\n",
       "<td>0.0369061</td>\n",
       "<td>0.1431625</td>\n",
       "<td>0.1029586</td>\n",
       "<td>0.0204955</td></tr>\n",
       "<tr><td>---</td>\n",
       "<td>---</td>\n",
       "<td>---</td>\n",
       "<td>---</td>\n",
       "<td>---</td>\n",
       "<td>---</td>\n",
       "<td>---</td>\n",
       "<td>---</td>\n",
       "<td>---</td>\n",
       "<td>---</td></tr>\n",
       "<tr><td></td>\n",
       "<td>2017-06-10 19:11:18</td>\n",
       "<td> 1 min  9.251 sec</td>\n",
       "<td>57.0</td>\n",
       "<td>0.1458272</td>\n",
       "<td>0.0965575</td>\n",
       "<td>0.0212656</td>\n",
       "<td>0.1414240</td>\n",
       "<td>0.1027786</td>\n",
       "<td>0.0200007</td></tr>\n",
       "<tr><td></td>\n",
       "<td>2017-06-10 19:11:23</td>\n",
       "<td> 1 min 14.296 sec</td>\n",
       "<td>61.0</td>\n",
       "<td>0.1459152</td>\n",
       "<td>0.0965090</td>\n",
       "<td>0.0212912</td>\n",
       "<td>0.1414856</td>\n",
       "<td>0.1034397</td>\n",
       "<td>0.0200182</td></tr>\n",
       "<tr><td></td>\n",
       "<td>2017-06-10 19:11:28</td>\n",
       "<td> 1 min 19.458 sec</td>\n",
       "<td>65.0</td>\n",
       "<td>0.1457174</td>\n",
       "<td>0.0964314</td>\n",
       "<td>0.0212336</td>\n",
       "<td>0.1410903</td>\n",
       "<td>0.1033091</td>\n",
       "<td>0.0199065</td></tr>\n",
       "<tr><td></td>\n",
       "<td>2017-06-10 19:11:33</td>\n",
       "<td> 1 min 24.341 sec</td>\n",
       "<td>69.0</td>\n",
       "<td>0.1456138</td>\n",
       "<td>0.0964021</td>\n",
       "<td>0.0212034</td>\n",
       "<td>0.1402541</td>\n",
       "<td>0.1025219</td>\n",
       "<td>0.0196712</td></tr>\n",
       "<tr><td></td>\n",
       "<td>2017-06-10 19:11:37</td>\n",
       "<td> 1 min 28.961 sec</td>\n",
       "<td>73.0</td>\n",
       "<td>0.1457907</td>\n",
       "<td>0.0963924</td>\n",
       "<td>0.0212549</td>\n",
       "<td>0.1406194</td>\n",
       "<td>0.1026499</td>\n",
       "<td>0.0197738</td></tr></table></div>"
      ],
      "text/plain": [
       "     timestamp            duration          number_of_trees    training_rmse        training_mae         training_deviance     validation_rmse      validation_mae       validation_deviance\n",
       "---  -------------------  ----------------  -----------------  -------------------  -------------------  --------------------  -------------------  -------------------  ---------------------\n",
       "     2017-06-10 19:10:08  0.020 sec         0.0                nan                  nan                  nan                   nan                  nan                  nan\n",
       "     2017-06-10 19:10:10  1.350 sec         1.0                0.20849427690886718  0.15012006868015637  0.04346986350375139   0.23537297674436378  0.16211603828098464  0.055400438181502816\n",
       "     2017-06-10 19:10:11  2.377 sec         2.0                0.21749526969165253  0.15235783778080325  0.04730419233824466   0.18129028132362826  0.12857527940169625  0.03286616610240028\n",
       "     2017-06-10 19:10:12  3.429 sec         3.0                0.2101646455448378   0.1458060065692759   0.044169178236987315  0.1600012467793926   0.11432330090066659  0.02560039897096009\n",
       "     2017-06-10 19:10:16  7.796 sec         7.0                0.19210951056655898  0.13109020393745419  0.03690606405012283   0.1431624912519144   0.10295855776863806  0.02049549890145447\n",
       "---  ---                  ---               ---                ---                  ---                  ---                   ---                  ---                  ---\n",
       "     2017-06-10 19:11:18  1 min  9.251 sec  57.0               0.1458272021788833   0.09655745819044166  0.0212655728953209    0.14142395199845523  0.10277856409231456  0.02000073419886137\n",
       "     2017-06-10 19:11:23  1 min 14.296 sec  61.0               0.14591516129401852  0.09650899250076009  0.021291234295459444  0.141485575113415    0.10343973957804047  0.020018167965173802\n",
       "     2017-06-10 19:11:28  1 min 19.458 sec  65.0               0.14571744414249355  0.09643141921068553  0.021233573527420727  0.14109025915813125  0.10330905831378441  0.019906461229308642\n",
       "     2017-06-10 19:11:33  1 min 24.341 sec  69.0               0.145613849063885    0.0964021043528703   0.021203393039199884  0.14025414472812026  0.10252188861032065  0.019671225113416506\n",
       "     2017-06-10 19:11:37  1 min 28.961 sec  73.0               0.14579069861321947  0.0963924219751856   0.02125492780213059   0.14061936118492604  0.10264988746438589  0.01977380474005669"
      ]
     },
     "metadata": {},
     "output_type": "display_data"
    },
    {
     "name": "stdout",
     "output_type": "stream",
     "text": [
      "\n",
      "See the whole table with table.as_data_frame()\n",
      "Variable Importances: \n"
     ]
    },
    {
     "data": {
      "text/html": [
       "<div style=\"overflow:auto\"><table style=\"width:50%\"><tr><td><b>variable</b></td>\n",
       "<td><b>relative_importance</b></td>\n",
       "<td><b>scaled_importance</b></td>\n",
       "<td><b>percentage</b></td></tr>\n",
       "<tr><td>Neighborhood_Tencode|GrLivArea</td>\n",
       "<td>1068.3203125</td>\n",
       "<td>1.0</td>\n",
       "<td>0.2281965</td></tr>\n",
       "<tr><td>OverallQual|Neighborhood_Tencode</td>\n",
       "<td>617.2948608</td>\n",
       "<td>0.5778181</td>\n",
       "<td>0.1318561</td></tr>\n",
       "<tr><td>OverallQual|GrLivArea</td>\n",
       "<td>401.4296265</td>\n",
       "<td>0.3757577</td>\n",
       "<td>0.0857466</td></tr>\n",
       "<tr><td>LotShape_Tencode|OverallQual</td>\n",
       "<td>352.5961304</td>\n",
       "<td>0.3300472</td>\n",
       "<td>0.0753156</td></tr>\n",
       "<tr><td>BsmtQual_Tencode|GrLivArea</td>\n",
       "<td>284.6484375</td>\n",
       "<td>0.2664448</td>\n",
       "<td>0.0608018</td></tr>\n",
       "<tr><td>---</td>\n",
       "<td>---</td>\n",
       "<td>---</td>\n",
       "<td>---</td></tr>\n",
       "<tr><td>OverallCond|ScreenPorch</td>\n",
       "<td>0.0</td>\n",
       "<td>0.0</td>\n",
       "<td>0.0</td></tr>\n",
       "<tr><td>MSZoning_Tencode|Condition2_Tencode</td>\n",
       "<td>0.0</td>\n",
       "<td>0.0</td>\n",
       "<td>0.0</td></tr>\n",
       "<tr><td>BedroomAbvGr|ScreenPorch</td>\n",
       "<td>0.0</td>\n",
       "<td>0.0</td>\n",
       "<td>0.0</td></tr>\n",
       "<tr><td>EnclosedPorch|ScreenPorch</td>\n",
       "<td>0.0</td>\n",
       "<td>0.0</td>\n",
       "<td>0.0</td></tr>\n",
       "<tr><td>EnclosedPorch|BsmtFullBath</td>\n",
       "<td>0.0</td>\n",
       "<td>0.0</td>\n",
       "<td>0.0</td></tr></table></div>"
      ],
      "text/plain": [
       "variable                             relative_importance    scaled_importance    percentage\n",
       "-----------------------------------  ---------------------  -------------------  -------------------\n",
       "Neighborhood_Tencode|GrLivArea       1068.3203125           1.0                  0.22819654624488145\n",
       "OverallQual|Neighborhood_Tencode     617.2948608398438      0.5778181446305166   0.1318561049623093\n",
       "OverallQual|GrLivArea                401.42962646484375     0.3757577402281619   0.0857466185448479\n",
       "LotShape_Tencode|OverallQual         352.59613037109375     0.3300472023657172   0.07531563167764213\n",
       "BsmtQual_Tencode|GrLivArea           284.6484375            0.26644484259022266  0.06080179284384991\n",
       "---                                  ---                    ---                  ---\n",
       "OverallCond|ScreenPorch              0.0                    0.0                  0.0\n",
       "MSZoning_Tencode|Condition2_Tencode  0.0                    0.0                  0.0\n",
       "BedroomAbvGr|ScreenPorch             0.0                    0.0                  0.0\n",
       "EnclosedPorch|ScreenPorch            0.0                    0.0                  0.0\n",
       "EnclosedPorch|BsmtFullBath           0.0                    0.0                  0.0"
      ]
     },
     "metadata": {},
     "output_type": "display_data"
    },
    {
     "name": "stdout",
     "output_type": "stream",
     "text": [
      "\n",
      "See the whole table with table.as_data_frame()\n",
      "\n",
      "drf prediction progress: |████████████████████████████████████████████████| 100%\n"
     ]
    },
    {
     "data": {
      "text/html": [
       "<table>\n",
       "<thead>\n",
       "<tr><th style=\"text-align: right;\">  SalePrice</th><th style=\"text-align: right;\">  predict</th></tr>\n",
       "</thead>\n",
       "<tbody>\n",
       "<tr><td style=\"text-align: right;\">    11.8494</td><td style=\"text-align: right;\">  12.118 </td></tr>\n",
       "<tr><td style=\"text-align: right;\">    12.2061</td><td style=\"text-align: right;\">  12.3005</td></tr>\n",
       "<tr><td style=\"text-align: right;\">    11.6784</td><td style=\"text-align: right;\">  11.6973</td></tr>\n",
       "<tr><td style=\"text-align: right;\">    11.914 </td><td style=\"text-align: right;\">  11.7504</td></tr>\n",
       "<tr><td style=\"text-align: right;\">    12.6758</td><td style=\"text-align: right;\">  12.5472</td></tr>\n",
       "<tr><td style=\"text-align: right;\">    12.861 </td><td style=\"text-align: right;\">  12.6691</td></tr>\n",
       "<tr><td style=\"text-align: right;\">    12.1035</td><td style=\"text-align: right;\">  11.9837</td></tr>\n",
       "<tr><td style=\"text-align: right;\">    11.2898</td><td style=\"text-align: right;\">  11.4366</td></tr>\n",
       "<tr><td style=\"text-align: right;\">    11.7714</td><td style=\"text-align: right;\">  11.6439</td></tr>\n",
       "<tr><td style=\"text-align: right;\">    11.5843</td><td style=\"text-align: right;\">  11.5963</td></tr>\n",
       "</tbody>\n",
       "</table>"
      ]
     },
     "metadata": {},
     "output_type": "display_data"
    },
    {
     "name": "stdout",
     "output_type": "stream",
     "text": [
      "\n"
     ]
    },
    {
     "data": {
      "image/png": "[encoded data removed]",
      "text/plain": [
       "<matplotlib.figure.Figure at 0x11f5dfda0>"
      ]
     },
     "metadata": {},
     "output_type": "display_data"
    }
   ],
   "source": [
    "# initialize extra trees model\n",
    "ert_model = H2ORandomForestEstimator(\n",
    "    ntrees=1000,                     # Up to 1000 decision trees in the forest \n",
    "    max_depth=50,                    # trees can grow to depth of 30\n",
    "    stopping_rounds=5,               # stop after validation error does not decrease for 5 iterations/new trees\n",
    "    histogram_type='random')         # <- this is what makes it ERT instead of RF\n",
    "\n",
    "# train rf model\n",
    "ert_model.train(\n",
    "    x=encoded_combined_nums,\n",
    "    y='SalePrice',\n",
    "    training_frame=base_train,\n",
    "    validation_frame=base_valid)\n",
    "\n",
    "# print model information\n",
    "print(ert_model)\n",
    "ranked_preds_plot('SalePrice', base_valid, ert_model) # Valid RMSE: 0.1406, not worth submitting "
   ]
  },
  {
   "cell_type": "markdown",
   "metadata": {},
   "source": [
    "#### GBM model"
   ]
  },
  {
   "cell_type": "code",
   "execution_count": 27,
   "metadata": {
    "collapsed": false
   },
   "outputs": [
    {
     "name": "stdout",
     "output_type": "stream",
     "text": [
      "gbm Grid Build progress: |████████████████████████████████████████████████| 100%\n",
      "     col_sample_rate max_depth ntrees sample_rate  \\\n",
      "0                0.2        13     73         0.9   \n",
      "1                0.3         2    287         0.4   \n",
      "2                0.7         1    153         0.2   \n",
      "3                1.0        17    384         0.8   \n",
      "4                0.2        11    497         0.2   \n",
      "5                0.2         6    385         0.8   \n",
      "6                0.4        16    220         0.5   \n",
      "7                0.6        16    214         0.7   \n",
      "8                0.2         7     30         0.4   \n",
      "9                0.2        17    172         0.8   \n",
      "10               0.8        15     76         0.3   \n",
      "11               0.3         6    152         0.7   \n",
      "12               0.6        18    361         0.6   \n",
      "13               0.6         3    169         0.1   \n",
      "14               0.8         9    204         0.4   \n",
      "15               0.4         8    407         0.4   \n",
      "16               0.4        10    478         0.2   \n",
      "17               0.8        19      6         0.3   \n",
      "18               0.8         3      1         0.4   \n",
      "\n",
      "                                                         model_ids  \\\n",
      "0    Grid_GBM_py_288_sid_8d49_model_python_1497134150670_6_model_2   \n",
      "1   Grid_GBM_py_288_sid_8d49_model_python_1497134150670_6_model_11   \n",
      "2   Grid_GBM_py_288_sid_8d49_model_python_1497134150670_6_model_15   \n",
      "3    Grid_GBM_py_288_sid_8d49_model_python_1497134150670_6_model_9   \n",
      "4    Grid_GBM_py_288_sid_8d49_model_python_1497134150670_6_model_4   \n",
      "5    Grid_GBM_py_288_sid_8d49_model_python_1497134150670_6_model_7   \n",
      "6   Grid_GBM_py_288_sid_8d49_model_python_1497134150670_6_model_18   \n",
      "7    Grid_GBM_py_288_sid_8d49_model_python_1497134150670_6_model_3   \n",
      "8   Grid_GBM_py_288_sid_8d49_model_python_1497134150670_6_model_13   \n",
      "9   Grid_GBM_py_288_sid_8d49_model_python_1497134150670_6_model_14   \n",
      "10  Grid_GBM_py_288_sid_8d49_model_python_1497134150670_6_model_16   \n",
      "11  Grid_GBM_py_288_sid_8d49_model_python_1497134150670_6_model_17   \n",
      "12   Grid_GBM_py_288_sid_8d49_model_python_1497134150670_6_model_5   \n",
      "13   Grid_GBM_py_288_sid_8d49_model_python_1497134150670_6_model_0   \n",
      "14  Grid_GBM_py_288_sid_8d49_model_python_1497134150670_6_model_10   \n",
      "15   Grid_GBM_py_288_sid_8d49_model_python_1497134150670_6_model_8   \n",
      "16   Grid_GBM_py_288_sid_8d49_model_python_1497134150670_6_model_6   \n",
      "17   Grid_GBM_py_288_sid_8d49_model_python_1497134150670_6_model_1   \n",
      "18  Grid_GBM_py_288_sid_8d49_model_python_1497134150670_6_model_12   \n",
      "\n",
      "       residual_deviance  \n",
      "0    0.01953073222806103  \n",
      "1    0.01964484573499247  \n",
      "2    0.01968171991458658  \n",
      "3   0.020820680677678453  \n",
      "4   0.020835623503203792  \n",
      "5   0.021269787195974547  \n",
      "6   0.021342772582845698  \n",
      "7   0.021375680965206055  \n",
      "8   0.022291036698838317  \n",
      "9   0.022891152438358722  \n",
      "10  0.022970346594079153  \n",
      "11  0.022991853066919688  \n",
      "12  0.023123798722819895  \n",
      "13   0.02525538510138014  \n",
      "14  0.025460905841860185  \n",
      "15  0.028307838046860535  \n",
      "16  0.028536721532712507  \n",
      "17   0.06269382939992889  \n",
      "18   0.12481984747516363  \n",
      "None\n",
      "Model Details\n",
      "=============\n",
      "H2OGradientBoostingEstimator :  Gradient Boosting Machine\n",
      "Model Key:  Grid_GBM_py_288_sid_8d49_model_python_1497134150670_6_model_2\n",
      "\n",
      "\n",
      "ModelMetricsRegression: gbm\n",
      "** Reported on train data. **\n",
      "\n",
      "MSE: 0.0007153801148375812\n",
      "RMSE: 0.026746590714286957\n",
      "MAE: 0.012761248482598199\n",
      "RMSLE: 0.002176493718040677\n",
      "Mean Residual Deviance: 0.0007153801148375812\n",
      "\n",
      "ModelMetricsRegression: gbm\n",
      "** Reported on validation data. **\n",
      "\n",
      "MSE: 0.01953073222806103\n",
      "RMSE: 0.13975239614425589\n",
      "MAE: 0.09884905969727603\n",
      "RMSLE: 0.010726387331957568\n",
      "Mean Residual Deviance: 0.01953073222806103\n",
      "Scoring History: \n"
     ]
    },
    {
     "data": {
      "text/html": [
       "<div style=\"overflow:auto\"><table style=\"width:50%\"><tr><td><b></b></td>\n",
       "<td><b>timestamp</b></td>\n",
       "<td><b>duration</b></td>\n",
       "<td><b>number_of_trees</b></td>\n",
       "<td><b>training_rmse</b></td>\n",
       "<td><b>training_mae</b></td>\n",
       "<td><b>training_deviance</b></td>\n",
       "<td><b>validation_rmse</b></td>\n",
       "<td><b>validation_mae</b></td>\n",
       "<td><b>validation_deviance</b></td></tr>\n",
       "<tr><td></td>\n",
       "<td>2017-06-10 19:13:08</td>\n",
       "<td>16.030 sec</td>\n",
       "<td>0.0</td>\n",
       "<td>0.3957607</td>\n",
       "<td>0.3067213</td>\n",
       "<td>0.1566265</td>\n",
       "<td>0.3882444</td>\n",
       "<td>0.3091897</td>\n",
       "<td>0.1507337</td></tr>\n",
       "<tr><td></td>\n",
       "<td>2017-06-10 19:13:08</td>\n",
       "<td>16.242 sec</td>\n",
       "<td>1.0</td>\n",
       "<td>0.3604369</td>\n",
       "<td>0.2776850</td>\n",
       "<td>0.1299148</td>\n",
       "<td>0.3563362</td>\n",
       "<td>0.2805511</td>\n",
       "<td>0.1269755</td></tr>\n",
       "<tr><td></td>\n",
       "<td>2017-06-10 19:13:08</td>\n",
       "<td>16.496 sec</td>\n",
       "<td>2.0</td>\n",
       "<td>0.3281715</td>\n",
       "<td>0.2515401</td>\n",
       "<td>0.1076965</td>\n",
       "<td>0.3270407</td>\n",
       "<td>0.2537847</td>\n",
       "<td>0.1069556</td></tr>\n",
       "<tr><td></td>\n",
       "<td>2017-06-10 19:13:08</td>\n",
       "<td>16.709 sec</td>\n",
       "<td>3.0</td>\n",
       "<td>0.2992394</td>\n",
       "<td>0.2279365</td>\n",
       "<td>0.0895442</td>\n",
       "<td>0.3029306</td>\n",
       "<td>0.2316414</td>\n",
       "<td>0.0917669</td></tr>\n",
       "<tr><td></td>\n",
       "<td>2017-06-10 19:13:08</td>\n",
       "<td>16.939 sec</td>\n",
       "<td>4.0</td>\n",
       "<td>0.2733349</td>\n",
       "<td>0.2067814</td>\n",
       "<td>0.0747120</td>\n",
       "<td>0.2823326</td>\n",
       "<td>0.2140459</td>\n",
       "<td>0.0797117</td></tr>\n",
       "<tr><td>---</td>\n",
       "<td>---</td>\n",
       "<td>---</td>\n",
       "<td>---</td>\n",
       "<td>---</td>\n",
       "<td>---</td>\n",
       "<td>---</td>\n",
       "<td>---</td>\n",
       "<td>---</td>\n",
       "<td>---</td></tr>\n",
       "<tr><td></td>\n",
       "<td>2017-06-10 19:13:11</td>\n",
       "<td>19.495 sec</td>\n",
       "<td>16.0</td>\n",
       "<td>0.1079724</td>\n",
       "<td>0.0708088</td>\n",
       "<td>0.0116580</td>\n",
       "<td>0.1627841</td>\n",
       "<td>0.1154685</td>\n",
       "<td>0.0264987</td></tr>\n",
       "<tr><td></td>\n",
       "<td>2017-06-10 19:13:11</td>\n",
       "<td>19.718 sec</td>\n",
       "<td>17.0</td>\n",
       "<td>0.1015141</td>\n",
       "<td>0.0655518</td>\n",
       "<td>0.0103051</td>\n",
       "<td>0.1589424</td>\n",
       "<td>0.1128442</td>\n",
       "<td>0.0252627</td></tr>\n",
       "<tr><td></td>\n",
       "<td>2017-06-10 19:13:11</td>\n",
       "<td>19.903 sec</td>\n",
       "<td>18.0</td>\n",
       "<td>0.0955731</td>\n",
       "<td>0.0607227</td>\n",
       "<td>0.0091342</td>\n",
       "<td>0.1563452</td>\n",
       "<td>0.1109142</td>\n",
       "<td>0.0244438</td></tr>\n",
       "<tr><td></td>\n",
       "<td>2017-06-10 19:13:15</td>\n",
       "<td>23.927 sec</td>\n",
       "<td>44.0</td>\n",
       "<td>0.0420033</td>\n",
       "<td>0.0209760</td>\n",
       "<td>0.0017643</td>\n",
       "<td>0.1399507</td>\n",
       "<td>0.0999064</td>\n",
       "<td>0.0195862</td></tr>\n",
       "<tr><td></td>\n",
       "<td>2017-06-10 19:13:19</td>\n",
       "<td>27.552 sec</td>\n",
       "<td>73.0</td>\n",
       "<td>0.0267466</td>\n",
       "<td>0.0127612</td>\n",
       "<td>0.0007154</td>\n",
       "<td>0.1397524</td>\n",
       "<td>0.0988491</td>\n",
       "<td>0.0195307</td></tr></table></div>"
      ],
      "text/plain": [
       "     timestamp            duration    number_of_trees    training_rmse         training_mae          training_deviance      validation_rmse      validation_mae       validation_deviance\n",
       "---  -------------------  ----------  -----------------  --------------------  --------------------  ---------------------  -------------------  -------------------  ---------------------\n",
       "     2017-06-10 19:13:08  16.030 sec  0.0                0.3957606687340809    0.3067212563389561    0.15662650691684693    0.38824442000936155  0.30918973760063245  0.15073372966840554\n",
       "     2017-06-10 19:13:08  16.242 sec  1.0                0.3604369120928818    0.2776850197050307    0.12991476759905182    0.3563362410600668   0.2805510769014224   0.12697551669281804\n",
       "     2017-06-10 19:13:08  16.496 sec  2.0                0.32817146292753413   0.2515401423923553    0.1076965090799979     0.32704069221140775  0.25378474561194925  0.10695561436211674\n",
       "     2017-06-10 19:13:08  16.709 sec  3.0                0.2992394123079628    0.22793646653493246   0.08954422587841496    0.3029305749853826   0.2316414349858291   0.09176693326097451\n",
       "     2017-06-10 19:13:08  16.939 sec  4.0                0.2733349151348631    0.20678137029920304   0.07471197583178281    0.2823325665226481   0.21404587926677338  0.07971167811926551\n",
       "---  ---                  ---         ---                ---                   ---                   ---                    ---                  ---                  ---\n",
       "     2017-06-10 19:13:11  19.495 sec  16.0               0.10797237195623988   0.07080881746988447   0.011658033105856617   0.16278414990161766  0.11546850068111707  0.02649867945919233\n",
       "     2017-06-10 19:13:11  19.718 sec  17.0               0.10151407876301607   0.06555182971651592   0.010305108187103831   0.15894241300450201  0.11284416813310924  0.025262690651693693\n",
       "     2017-06-10 19:13:11  19.903 sec  18.0               0.09557305406121466   0.060722695456610784  0.009134208662587861   0.15634516071596655  0.11091416922439429  0.024443809279301405\n",
       "     2017-06-10 19:13:15  23.927 sec  44.0               0.042003274880078295  0.02097599846976144   0.001764275100651416   0.13995069446256375  0.09990644766476245  0.019586196880553873\n",
       "     2017-06-10 19:13:19  27.552 sec  73.0               0.026746590714286957  0.012761248482598199  0.0007153801148375812  0.13975239614425589  0.09884905969727603  0.01953073222806103"
      ]
     },
     "metadata": {},
     "output_type": "display_data"
    },
    {
     "name": "stdout",
     "output_type": "stream",
     "text": [
      "\n",
      "See the whole table with table.as_data_frame()\n",
      "Variable Importances: \n"
     ]
    },
    {
     "data": {
      "text/html": [
       "<div style=\"overflow:auto\"><table style=\"width:50%\"><tr><td><b>variable</b></td>\n",
       "<td><b>relative_importance</b></td>\n",
       "<td><b>scaled_importance</b></td>\n",
       "<td><b>percentage</b></td></tr>\n",
       "<tr><td>Neighborhood_Tencode|GrLivArea</td>\n",
       "<td>55.3546562</td>\n",
       "<td>1.0</td>\n",
       "<td>0.1392508</td></tr>\n",
       "<tr><td>OverallQual|GrLivArea</td>\n",
       "<td>52.2542381</td>\n",
       "<td>0.9439899</td>\n",
       "<td>0.1314514</td></tr>\n",
       "<tr><td>OverallQual|YearRemodAdd</td>\n",
       "<td>30.2223797</td>\n",
       "<td>0.5459772</td>\n",
       "<td>0.0760278</td></tr>\n",
       "<tr><td>LotShape_Tencode|OverallQual</td>\n",
       "<td>28.8121662</td>\n",
       "<td>0.5205012</td>\n",
       "<td>0.0724802</td></tr>\n",
       "<tr><td>BsmtQual_Tencode|GrLivArea</td>\n",
       "<td>26.7864475</td>\n",
       "<td>0.4839060</td>\n",
       "<td>0.0673843</td></tr>\n",
       "<tr><td>---</td>\n",
       "<td>---</td>\n",
       "<td>---</td>\n",
       "<td>---</td></tr>\n",
       "<tr><td>GarageQual_Tencode|Condition1_Tencode</td>\n",
       "<td>0.0</td>\n",
       "<td>0.0</td>\n",
       "<td>0.0</td></tr>\n",
       "<tr><td>GarageQual_Tencode|BsmtFullBath</td>\n",
       "<td>0.0</td>\n",
       "<td>0.0</td>\n",
       "<td>0.0</td></tr>\n",
       "<tr><td>GarageQual_Tencode|Condition2_Tencode</td>\n",
       "<td>0.0</td>\n",
       "<td>0.0</td>\n",
       "<td>0.0</td></tr>\n",
       "<tr><td>Condition1_Tencode|Condition2_Tencode</td>\n",
       "<td>0.0</td>\n",
       "<td>0.0</td>\n",
       "<td>0.0</td></tr>\n",
       "<tr><td>BsmtFullBath|Condition2_Tencode</td>\n",
       "<td>0.0</td>\n",
       "<td>0.0</td>\n",
       "<td>0.0</td></tr></table></div>"
      ],
      "text/plain": [
       "variable                               relative_importance    scaled_importance    percentage\n",
       "-------------------------------------  ---------------------  -------------------  -------------------\n",
       "Neighborhood_Tencode|GrLivArea         55.35465621948242      1.0                  0.13925081118051594\n",
       "OverallQual|GrLivArea                  52.25423812866211      0.9439899314246106   0.13145136369711666\n",
       "OverallQual|YearRemodAdd               30.222379684448242     0.5459771905115958   0.0760277666647988\n",
       "LotShape_Tencode|OverallQual           28.812166213989258     0.5205012221510037   0.07248021740497719\n",
       "BsmtQual_Tencode|GrLivArea             26.786447525024414     0.483905950365143    0.06738429612342464\n",
       "---                                    ---                    ---                  ---\n",
       "GarageQual_Tencode|Condition1_Tencode  0.0                    0.0                  0.0\n",
       "GarageQual_Tencode|BsmtFullBath        0.0                    0.0                  0.0\n",
       "GarageQual_Tencode|Condition2_Tencode  0.0                    0.0                  0.0\n",
       "Condition1_Tencode|Condition2_Tencode  0.0                    0.0                  0.0\n",
       "BsmtFullBath|Condition2_Tencode        0.0                    0.0                  0.0"
      ]
     },
     "metadata": {},
     "output_type": "display_data"
    },
    {
     "name": "stdout",
     "output_type": "stream",
     "text": [
      "\n",
      "See the whole table with table.as_data_frame()\n",
      "\n",
      "gbm prediction progress: |████████████████████████████████████████████████| 100%\n"
     ]
    },
    {
     "data": {
      "text/html": [
       "<table>\n",
       "<thead>\n",
       "<tr><th style=\"text-align: right;\">  SalePrice</th><th style=\"text-align: right;\">  predict</th></tr>\n",
       "</thead>\n",
       "<tbody>\n",
       "<tr><td style=\"text-align: right;\">    11.8494</td><td style=\"text-align: right;\">  12.1293</td></tr>\n",
       "<tr><td style=\"text-align: right;\">    12.2061</td><td style=\"text-align: right;\">  12.2943</td></tr>\n",
       "<tr><td style=\"text-align: right;\">    11.6784</td><td style=\"text-align: right;\">  11.7289</td></tr>\n",
       "<tr><td style=\"text-align: right;\">    11.914 </td><td style=\"text-align: right;\">  11.7166</td></tr>\n",
       "<tr><td style=\"text-align: right;\">    12.6758</td><td style=\"text-align: right;\">  12.5435</td></tr>\n",
       "<tr><td style=\"text-align: right;\">    12.861 </td><td style=\"text-align: right;\">  12.7504</td></tr>\n",
       "<tr><td style=\"text-align: right;\">    12.1035</td><td style=\"text-align: right;\">  11.9359</td></tr>\n",
       "<tr><td style=\"text-align: right;\">    11.2898</td><td style=\"text-align: right;\">  11.4073</td></tr>\n",
       "<tr><td style=\"text-align: right;\">    11.7714</td><td style=\"text-align: right;\">  11.6112</td></tr>\n",
       "<tr><td style=\"text-align: right;\">    11.5843</td><td style=\"text-align: right;\">  11.6131</td></tr>\n",
       "</tbody>\n",
       "</table>"
      ]
     },
     "metadata": {},
     "output_type": "display_data"
    },
    {
     "name": "stdout",
     "output_type": "stream",
     "text": [
      "\n"
     ]
    },
    {
     "data": {
      "image/png": "[encoded data removed]",
      "text/plain": [
       "<matplotlib.figure.Figure at 0x12069bd30>"
      ]
     },
     "metadata": {},
     "output_type": "display_data"
    }
   ],
   "source": [
    "# define random grid search parameters\n",
    "hyper_parameters = {'ntrees':list(range(1, 500)),\n",
    "                    'max_depth':list(range(1, 20)),\n",
    "                    'sample_rate':[s/float(10) for s in range(1, 11)],\n",
    "                    'col_sample_rate':[s/float(10) for s in range(1, 11)]}\n",
    "\n",
    "# define search strategy\n",
    "search_criteria = {'strategy':'RandomDiscrete',\n",
    "                   'max_models':100,\n",
    "                   'max_runtime_secs':1200}\n",
    "\n",
    "# initialize grid search\n",
    "grid = H2OGridSearch(H2OGradientBoostingEstimator,\n",
    "                     hyper_params=hyper_parameters,\n",
    "                     search_criteria=search_criteria)\n",
    "\n",
    "# execute training w/ grid search\n",
    "grid.train(x=encoded_combined_nums,\n",
    "           y='SalePrice',\n",
    "           training_frame=base_train,\n",
    "           validation_frame=base_valid)\n",
    "\n",
    "# show grid search results\n",
    "print(grid.show())\n",
    "\n",
    "best_gbm = grid.get_grid()[0]\n",
    "print(best_gbm)\n",
    "ranked_preds_plot('SalePrice', base_valid, best_gbm) # Valid RMSE: 0.1397, not worth submitting "
   ]
  },
  {
   "cell_type": "markdown",
   "metadata": {},
   "source": [
    "#### Shurdown H2O"
   ]
  },
  {
   "cell_type": "code",
   "execution_count": 37,
   "metadata": {
    "collapsed": false,
    "deletable": true,
    "editable": true
   },
   "outputs": [
    {
     "name": "stdout",
     "output_type": "stream",
     "text": [
      "Are you sure you want to shutdown the H2O instance running at http://localhost:54321 (Y/N)? y\n",
      "H2O session _sid_8d49 closed.\n"
     ]
    }
   ],
   "source": [
    "# Shutdown H2O - this will erase all your unsaved frames and models in H2O\n",
    "h2o.cluster().shutdown(prompt=True)"
   ]
  }
 ],
 "metadata": {
  "anaconda-cloud": {},
  "kernelspec": {
   "display_name": "Python [default]",
   "language": "python",
   "name": "python3"
  },
  "language_info": {
   "codemirror_mode": {
    "name": "ipython",
    "version": 3
   },
   "file_extension": ".py",
   "mimetype": "text/x-python",
   "name": "python",
   "nbconvert_exporter": "python",
   "pygments_lexer": "ipython3",
   "version": "3.5.2"
  }
 },
 "nbformat": 4,
 "nbformat_minor": 2
}
