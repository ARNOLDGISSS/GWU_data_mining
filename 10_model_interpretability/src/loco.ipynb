{
 "cells": [
  {
   "cell_type": "markdown",
   "metadata": {},
   "source": [
    "# Local Feature Importance and Reason Codes using LOCO\n",
    "***\n",
    "\n",
    "Based on: Lei, Jing, G’Sell, Max, Rinaldo, Alessandro, Tibshirani, Ryan J., and Wasserman, Larry. Distribution-free predictive inference for regression. *Journal of the American Statistical Association*, 2017.\n",
    "\n",
    "http://www.stat.cmu.edu/~ryantibs/papers/conformal.pdf"
   ]
  },
  {
   "cell_type": "markdown",
   "metadata": {},
   "source": [
    "## Preliminaries: imports, start h2o, load and clean data "
   ]
  },
  {
   "cell_type": "code",
   "execution_count": 1,
   "metadata": {
    "collapsed": false
   },
   "outputs": [],
   "source": [
    "# imports\n",
    "import h2o \n",
    "import numpy as np\n",
    "import pandas as pd\n",
    "from h2o.estimators.gbm import H2OGradientBoostingEstimator"
   ]
  },
  {
   "cell_type": "code",
   "execution_count": 2,
   "metadata": {
    "collapsed": false
   },
   "outputs": [
    {
     "name": "stdout",
     "output_type": "stream",
     "text": [
      "Checking whether there is an H2O instance running at http://localhost:54321..... not found.\n",
      "Attempting to start a local H2O server...\n",
      "  Java Version: java version \"1.8.0_112\"; Java(TM) SE Runtime Environment (build 1.8.0_112-b16); Java HotSpot(TM) 64-Bit Server VM (build 25.112-b16, mixed mode)\n",
      "  Starting server from /Users/phall/anaconda/lib/python3.5/site-packages/h2o/backend/bin/h2o.jar\n",
      "  Ice root: /var/folders/tc/0ss1l73113j3wdyjsxmy1j2r0000gn/T/tmpukn9e0q_\n",
      "  JVM stdout: /var/folders/tc/0ss1l73113j3wdyjsxmy1j2r0000gn/T/tmpukn9e0q_/h2o_phall_started_from_python.out\n",
      "  JVM stderr: /var/folders/tc/0ss1l73113j3wdyjsxmy1j2r0000gn/T/tmpukn9e0q_/h2o_phall_started_from_python.err\n",
      "  Server is running at http://127.0.0.1:54321\n",
      "Connecting to H2O server at http://127.0.0.1:54321... successful.\n"
     ]
    },
    {
     "data": {
      "text/html": [
       "<div style=\"overflow:auto\"><table style=\"width:50%\"><tr><td>H2O cluster uptime:</td>\n",
       "<td>05 secs</td></tr>\n",
       "<tr><td>H2O cluster version:</td>\n",
       "<td>3.12.0.1</td></tr>\n",
       "<tr><td>H2O cluster version age:</td>\n",
       "<td>19 days </td></tr>\n",
       "<tr><td>H2O cluster name:</td>\n",
       "<td>H2O_from_python_phall_kluwzb</td></tr>\n",
       "<tr><td>H2O cluster total nodes:</td>\n",
       "<td>1</td></tr>\n",
       "<tr><td>H2O cluster free memory:</td>\n",
       "<td>3.556 Gb</td></tr>\n",
       "<tr><td>H2O cluster total cores:</td>\n",
       "<td>8</td></tr>\n",
       "<tr><td>H2O cluster allowed cores:</td>\n",
       "<td>8</td></tr>\n",
       "<tr><td>H2O cluster status:</td>\n",
       "<td>accepting new members, healthy</td></tr>\n",
       "<tr><td>H2O connection url:</td>\n",
       "<td>http://127.0.0.1:54321</td></tr>\n",
       "<tr><td>H2O connection proxy:</td>\n",
       "<td>None</td></tr>\n",
       "<tr><td>H2O internal security:</td>\n",
       "<td>False</td></tr>\n",
       "<tr><td>Python version:</td>\n",
       "<td>3.5.2 final</td></tr></table></div>"
      ],
      "text/plain": [
       "--------------------------  ------------------------------\n",
       "H2O cluster uptime:         05 secs\n",
       "H2O cluster version:        3.12.0.1\n",
       "H2O cluster version age:    19 days\n",
       "H2O cluster name:           H2O_from_python_phall_kluwzb\n",
       "H2O cluster total nodes:    1\n",
       "H2O cluster free memory:    3.556 Gb\n",
       "H2O cluster total cores:    8\n",
       "H2O cluster allowed cores:  8\n",
       "H2O cluster status:         accepting new members, healthy\n",
       "H2O connection url:         http://127.0.0.1:54321\n",
       "H2O connection proxy:\n",
       "H2O internal security:      False\n",
       "Python version:             3.5.2 final\n",
       "--------------------------  ------------------------------"
      ]
     },
     "metadata": {},
     "output_type": "display_data"
    }
   ],
   "source": [
    "# start h2o\n",
    "h2o.init()\n",
    "h2o.remove_all()"
   ]
  },
  {
   "cell_type": "markdown",
   "metadata": {},
   "source": [
    "#### Load and prepare data for modeling"
   ]
  },
  {
   "cell_type": "code",
   "execution_count": 3,
   "metadata": {
    "collapsed": false
   },
   "outputs": [
    {
     "name": "stdout",
     "output_type": "stream",
     "text": [
      "Parse progress: |█████████████████████████████████████████████████████████| 100%\n"
     ]
    }
   ],
   "source": [
    "# load clean data\n",
    "path = '../../03_regression/data/train.csv'\n",
    "frame = h2o.import_file(path=path)"
   ]
  },
  {
   "cell_type": "code",
   "execution_count": 4,
   "metadata": {
    "collapsed": false
   },
   "outputs": [],
   "source": [
    "# assign target and inputs\n",
    "y = 'SalePrice'\n",
    "X = [name for name in frame.columns if name not in [y, 'Id']]"
   ]
  },
  {
   "cell_type": "markdown",
   "metadata": {},
   "source": [
    "#### LOCO is simpler to use with data containing no missing values"
   ]
  },
  {
   "cell_type": "code",
   "execution_count": 5,
   "metadata": {
    "collapsed": true
   },
   "outputs": [],
   "source": [
    "# determine column types\n",
    "# impute\n",
    "reals, enums = [], []\n",
    "for key, val in frame.types.items():\n",
    "    if key in X:\n",
    "        if val == 'enum':\n",
    "            enums.append(key)\n",
    "        else: \n",
    "            reals.append(key)\n",
    "            \n",
    "_ = frame[reals].impute(method='median')\n",
    "_ = frame[enums].impute(method='mode')"
   ]
  },
  {
   "cell_type": "code",
   "execution_count": 6,
   "metadata": {
    "collapsed": true
   },
   "outputs": [],
   "source": [
    "# split into training and validation\n",
    "train, valid = frame.split_frame([0.7])"
   ]
  },
  {
   "cell_type": "markdown",
   "metadata": {},
   "source": [
    "#### LOCO is unfit for use with data in which strong correlations exist between input variables"
   ]
  },
  {
   "cell_type": "code",
   "execution_count": 7,
   "metadata": {
    "collapsed": false
   },
   "outputs": [
    {
     "name": "stdout",
     "output_type": "stream",
     "text": [
      "TotalBsmtSF 1stFlrSF\n",
      "GrLivArea TotRmsAbvGrd\n",
      "1stFlrSF TotalBsmtSF\n",
      "GarageCars GarageArea\n",
      "GarageYrBlt YearBuilt\n",
      "YearBuilt GarageYrBlt\n",
      "TotRmsAbvGrd GrLivArea\n",
      "GarageArea GarageCars\n"
     ]
    }
   ],
   "source": [
    "# print out correlated pairs\n",
    "corr = train[reals].cor()\n",
    "for i in range(0, corr.shape[0]):\n",
    "    for j in range(0, corr.shape[1]):\n",
    "        if i != j:\n",
    "            if np.abs(corr[i, j]) > 0.7:\n",
    "                print(corr.columns[i], corr.columns[j])"
   ]
  },
  {
   "cell_type": "markdown",
   "metadata": {
    "collapsed": true
   },
   "source": [
    "#### Remove one var from each correlated pair"
   ]
  },
  {
   "cell_type": "code",
   "execution_count": 8,
   "metadata": {
    "collapsed": false
   },
   "outputs": [],
   "source": [
    "X_reals_decorr = [i for i in reals if i not in  ['GarageYrBlt', 'TotRmsAbvGrd', 'TotalBsmtSF', 'GarageCars']]"
   ]
  },
  {
   "cell_type": "markdown",
   "metadata": {},
   "source": [
    "## Train a predictive model"
   ]
  },
  {
   "cell_type": "code",
   "execution_count": 9,
   "metadata": {
    "collapsed": false
   },
   "outputs": [
    {
     "name": "stdout",
     "output_type": "stream",
     "text": [
      "gbm Model Build progress: |███████████████████████████████████████████████| 100%\n",
      "gbm prediction progress: |████████████████████████████████████████████████| 100%\n"
     ]
    }
   ],
   "source": [
    "# train GBM model\n",
    "model = H2OGradientBoostingEstimator(ntrees=100,\n",
    "                                     max_depth=10,\n",
    "                                     distribution='huber',\n",
    "                                     learn_rate=0.1,\n",
    "                                     stopping_rounds=5,\n",
    "                                     seed=12345)\n",
    "\n",
    "model.train(y=y, x=X_reals_decorr, training_frame=train, validation_frame=valid)\n",
    "\n",
    "preds = valid['Id'].cbind(model.predict(valid))"
   ]
  },
  {
   "cell_type": "markdown",
   "metadata": {},
   "source": [
    "## Retrain predictive model\n",
    "* Each time leaving one input (covariate) out \n",
    "* To generate local feature importance values for each decision"
   ]
  },
  {
   "cell_type": "code",
   "execution_count": 12,
   "metadata": {
    "collapsed": false
   },
   "outputs": [
    {
     "name": "stdout",
     "output_type": "stream",
     "text": [
      "LOCO Progress: PoolArea (1/32) ...\n",
      "LOCO Progress: LowQualFinSF (2/32) ...\n",
      "LOCO Progress: GrLivArea (3/32) ...\n",
      "LOCO Progress: 1stFlrSF (4/32) ...\n",
      "LOCO Progress: YrSold (5/32) ...\n",
      "LOCO Progress: OverallQual (6/32) ...\n",
      "LOCO Progress: HalfBath (7/32) ...\n",
      "LOCO Progress: BsmtUnfSF (8/32) ...\n",
      "LOCO Progress: BsmtHalfBath (9/32) ...\n",
      "LOCO Progress: BsmtFullBath (10/32) ...\n",
      "LOCO Progress: MoSold (11/32) ...\n",
      "LOCO Progress: OpenPorchSF (12/32) ...\n",
      "LOCO Progress: OverallCond (13/32) ...\n",
      "LOCO Progress: BsmtFinSF2 (14/32) ...\n",
      "LOCO Progress: MasVnrArea (15/32) ...\n",
      "LOCO Progress: MiscVal (16/32) ...\n",
      "LOCO Progress: 3SsnPorch (17/32) ...\n",
      "LOCO Progress: YearBuilt (18/32) ...\n",
      "LOCO Progress: EnclosedPorch (19/32) ...\n",
      "LOCO Progress: FullBath (20/32) ...\n",
      "LOCO Progress: LotFrontage (21/32) ...\n",
      "LOCO Progress: 2ndFlrSF (22/32) ...\n",
      "LOCO Progress: GarageArea (23/32) ...\n",
      "LOCO Progress: ScreenPorch (24/32) ...\n",
      "LOCO Progress: LotArea (25/32) ...\n",
      "LOCO Progress: YearRemodAdd (26/32) ...\n",
      "LOCO Progress: Fireplaces (27/32) ...\n",
      "LOCO Progress: BsmtFinSF1 (28/32) ...\n",
      "LOCO Progress: KitchenAbvGr (29/32) ...\n",
      "LOCO Progress: MSSubClass (30/32) ...\n",
      "LOCO Progress: WoodDeckSF (31/32) ...\n",
      "LOCO Progress: BedroomAbvGr (32/32) ...\n",
      "Done.\n"
     ]
    },
    {
     "data": {
      "text/html": [
       "<table>\n",
       "<thead>\n",
       "<tr><th style=\"text-align: right;\">  Id</th><th style=\"text-align: right;\">  predict</th><th style=\"text-align: right;\">  PoolArea</th><th style=\"text-align: right;\">  PoolArea0</th><th style=\"text-align: right;\">  LowQualFinSF</th><th style=\"text-align: right;\">  GrLivArea</th><th style=\"text-align: right;\">  1stFlrSF</th><th style=\"text-align: right;\">   YrSold</th><th style=\"text-align: right;\">  OverallQual</th><th style=\"text-align: right;\">  HalfBath</th><th style=\"text-align: right;\">  BsmtUnfSF</th><th style=\"text-align: right;\">  BsmtHalfBath</th><th style=\"text-align: right;\">  BsmtFullBath</th><th style=\"text-align: right;\">   MoSold</th><th style=\"text-align: right;\">  OpenPorchSF</th><th style=\"text-align: right;\">  OverallCond</th><th style=\"text-align: right;\">  BsmtFinSF2</th><th style=\"text-align: right;\">  MasVnrArea</th><th style=\"text-align: right;\">  MiscVal</th><th style=\"text-align: right;\">  3SsnPorch</th><th style=\"text-align: right;\">  YearBuilt</th><th style=\"text-align: right;\">  EnclosedPorch</th><th style=\"text-align: right;\">  FullBath</th><th style=\"text-align: right;\">  LotFrontage</th><th style=\"text-align: right;\">  2ndFlrSF</th><th style=\"text-align: right;\">  GarageArea</th><th style=\"text-align: right;\">  ScreenPorch</th><th style=\"text-align: right;\">  LotArea</th><th style=\"text-align: right;\">  YearRemodAdd</th><th style=\"text-align: right;\">  Fireplaces</th><th style=\"text-align: right;\">  BsmtFinSF1</th><th style=\"text-align: right;\">  KitchenAbvGr</th><th style=\"text-align: right;\">  MSSubClass</th><th style=\"text-align: right;\">  WoodDeckSF</th><th style=\"text-align: right;\">  BedroomAbvGr</th></tr>\n",
       "</thead>\n",
       "<tbody>\n",
       "<tr><td style=\"text-align: right;\">   2</td><td style=\"text-align: right;\">   178580</td><td style=\"text-align: right;\">   -178580</td><td style=\"text-align: right;\">     178580</td><td style=\"text-align: right;\">     -1086.62 </td><td style=\"text-align: right;\">   -6335.85</td><td style=\"text-align: right;\">   3321.83</td><td style=\"text-align: right;\"> 1964.41 </td><td style=\"text-align: right;\">     9054.63 </td><td style=\"text-align: right;\"> -3599.37 </td><td style=\"text-align: right;\">  -2078.66 </td><td style=\"text-align: right;\">     -1920.79 </td><td style=\"text-align: right;\">      -4468.47</td><td style=\"text-align: right;\">-1608.86 </td><td style=\"text-align: right;\">     1886.11 </td><td style=\"text-align: right;\">    -9420.62 </td><td style=\"text-align: right;\">   -1069.51 </td><td style=\"text-align: right;\">    -68.3989</td><td style=\"text-align: right;\"> -621.834</td><td style=\"text-align: right;\">  -1624    </td><td style=\"text-align: right;\">   -8066.81</td><td style=\"text-align: right;\">       -312.497</td><td style=\"text-align: right;\"> -4330.58 </td><td style=\"text-align: right;\">     2608.37 </td><td style=\"text-align: right;\">  1165.16 </td><td style=\"text-align: right;\">     8699.31</td><td style=\"text-align: right;\">    -4199.97 </td><td style=\"text-align: right;\"> -736.469</td><td style=\"text-align: right;\">      7414.09 </td><td style=\"text-align: right;\">    -4919.65</td><td style=\"text-align: right;\">    -6805.14</td><td style=\"text-align: right;\">      -323.205</td><td style=\"text-align: right;\">     76.1609</td><td style=\"text-align: right;\">    1807.25 </td><td style=\"text-align: right;\">      -2636.2 </td></tr>\n",
       "<tr><td style=\"text-align: right;\">   5</td><td style=\"text-align: right;\">   305995</td><td style=\"text-align: right;\">   -305995</td><td style=\"text-align: right;\">     305995</td><td style=\"text-align: right;\">      2675.17 </td><td style=\"text-align: right;\">   12605.6 </td><td style=\"text-align: right;\">  14665.1 </td><td style=\"text-align: right;\">-1414.5  </td><td style=\"text-align: right;\">   -36563.6  </td><td style=\"text-align: right;\">  8034.32 </td><td style=\"text-align: right;\">   8065.8  </td><td style=\"text-align: right;\">     -3766.2  </td><td style=\"text-align: right;\">      -4924.33</td><td style=\"text-align: right;\">13809    </td><td style=\"text-align: right;\">    -3013.2  </td><td style=\"text-align: right;\">     8366.06 </td><td style=\"text-align: right;\">    5854.68 </td><td style=\"text-align: right;\">   1254.21  </td><td style=\"text-align: right;\"> -850.855</td><td style=\"text-align: right;\">   1373.68 </td><td style=\"text-align: right;\">    3768.94</td><td style=\"text-align: right;\">      11788.2  </td><td style=\"text-align: right;\"> 10254    </td><td style=\"text-align: right;\">      328.111</td><td style=\"text-align: right;\"> -6539.47 </td><td style=\"text-align: right;\">    -1916.86</td><td style=\"text-align: right;\">     -899.864</td><td style=\"text-align: right;\">-6887.44 </td><td style=\"text-align: right;\">      -964.715</td><td style=\"text-align: right;\">    -5542.37</td><td style=\"text-align: right;\">    -2453.07</td><td style=\"text-align: right;\">     11986.5  </td><td style=\"text-align: right;\">  -3982.97  </td><td style=\"text-align: right;\">  -14628.5  </td><td style=\"text-align: right;\">      -6681.1 </td></tr>\n",
       "<tr><td style=\"text-align: right;\">   6</td><td style=\"text-align: right;\">   163661</td><td style=\"text-align: right;\">   -163661</td><td style=\"text-align: right;\">     163661</td><td style=\"text-align: right;\">      1039.44 </td><td style=\"text-align: right;\">  -20206.3 </td><td style=\"text-align: right;\">   5202.88</td><td style=\"text-align: right;\">-2432.7  </td><td style=\"text-align: right;\">     8738.74 </td><td style=\"text-align: right;\"> -4499.89 </td><td style=\"text-align: right;\">  -1021.26 </td><td style=\"text-align: right;\">       773.246</td><td style=\"text-align: right;\">      -4282.67</td><td style=\"text-align: right;\">-5554.16 </td><td style=\"text-align: right;\">     -365.635</td><td style=\"text-align: right;\">   -12724.1  </td><td style=\"text-align: right;\">   -6621.39 </td><td style=\"text-align: right;\">  -1765.19  </td><td style=\"text-align: right;\">  441.467</td><td style=\"text-align: right;\">    390.515</td><td style=\"text-align: right;\">  -11770.3 </td><td style=\"text-align: right;\">      -3510.99 </td><td style=\"text-align: right;\">  3616.45 </td><td style=\"text-align: right;\">    -1158.77 </td><td style=\"text-align: right;\"> -6291.25 </td><td style=\"text-align: right;\">     -469.19</td><td style=\"text-align: right;\">    -1938.77 </td><td style=\"text-align: right;\">-7911.67 </td><td style=\"text-align: right;\">       997.456</td><td style=\"text-align: right;\">    -1665.01</td><td style=\"text-align: right;\">   -21033.4 </td><td style=\"text-align: right;\">     -5121.93 </td><td style=\"text-align: right;\">  -4519.94  </td><td style=\"text-align: right;\">   -1713.28 </td><td style=\"text-align: right;\">      -2585.39</td></tr>\n",
       "<tr><td style=\"text-align: right;\">   7</td><td style=\"text-align: right;\">   284257</td><td style=\"text-align: right;\">   -284257</td><td style=\"text-align: right;\">     284257</td><td style=\"text-align: right;\">     -1479.14 </td><td style=\"text-align: right;\">   -5026.65</td><td style=\"text-align: right;\">   1510.86</td><td style=\"text-align: right;\">11202.8  </td><td style=\"text-align: right;\">    -7550.07 </td><td style=\"text-align: right;\">  7324.25 </td><td style=\"text-align: right;\">   2082.37 </td><td style=\"text-align: right;\">      -858.55 </td><td style=\"text-align: right;\">       7597.47</td><td style=\"text-align: right;\"> 3476.66 </td><td style=\"text-align: right;\">    17585    </td><td style=\"text-align: right;\">     9372.8  </td><td style=\"text-align: right;\">    4037.71 </td><td style=\"text-align: right;\">   6542.64  </td><td style=\"text-align: right;\"> -295.984</td><td style=\"text-align: right;\">  -2743    </td><td style=\"text-align: right;\">    9443.3 </td><td style=\"text-align: right;\">       2233.37 </td><td style=\"text-align: right;\">  2917.46 </td><td style=\"text-align: right;\">    -1257.21 </td><td style=\"text-align: right;\">   972.025</td><td style=\"text-align: right;\">    27357   </td><td style=\"text-align: right;\">     4011.12 </td><td style=\"text-align: right;\">19082.1  </td><td style=\"text-align: right;\">     10625.9  </td><td style=\"text-align: right;\">     4740.29</td><td style=\"text-align: right;\">     5629.64</td><td style=\"text-align: right;\">      9549.68 </td><td style=\"text-align: right;\">   4757.03  </td><td style=\"text-align: right;\">    4790.73 </td><td style=\"text-align: right;\">       6740.31</td></tr>\n",
       "<tr><td style=\"text-align: right;\">   9</td><td style=\"text-align: right;\">   162558</td><td style=\"text-align: right;\">   -162558</td><td style=\"text-align: right;\">     162558</td><td style=\"text-align: right;\">      -219.427</td><td style=\"text-align: right;\">  -11090   </td><td style=\"text-align: right;\">   8966.68</td><td style=\"text-align: right;\"> -853.746</td><td style=\"text-align: right;\">   -17083    </td><td style=\"text-align: right;\">  2738.67 </td><td style=\"text-align: right;\">  10968.5  </td><td style=\"text-align: right;\">      2127.91 </td><td style=\"text-align: right;\">       6598.16</td><td style=\"text-align: right;\">  560.206</td><td style=\"text-align: right;\">     5905.31 </td><td style=\"text-align: right;\">     2850.39 </td><td style=\"text-align: right;\">    4928.81 </td><td style=\"text-align: right;\">   5457.91  </td><td style=\"text-align: right;\"> -418.581</td><td style=\"text-align: right;\">    634.967</td><td style=\"text-align: right;\">    7520.54</td><td style=\"text-align: right;\">       2664.11 </td><td style=\"text-align: right;\"> -2258.69 </td><td style=\"text-align: right;\">     5201.36 </td><td style=\"text-align: right;\"> -4115.35 </td><td style=\"text-align: right;\">     -919.55</td><td style=\"text-align: right;\">     2210.45 </td><td style=\"text-align: right;\">14280.8  </td><td style=\"text-align: right;\">      4059.94 </td><td style=\"text-align: right;\">    -1768.61</td><td style=\"text-align: right;\">     5295.25</td><td style=\"text-align: right;\">      1565.55 </td><td style=\"text-align: right;\">  -3849.83  </td><td style=\"text-align: right;\">    2099.67 </td><td style=\"text-align: right;\">      -1305.24</td></tr>\n",
       "<tr><td style=\"text-align: right;\">  14</td><td style=\"text-align: right;\">   212928</td><td style=\"text-align: right;\">   -212928</td><td style=\"text-align: right;\">     212928</td><td style=\"text-align: right;\">      -244.034</td><td style=\"text-align: right;\">   11303.5 </td><td style=\"text-align: right;\">  -5502.85</td><td style=\"text-align: right;\"> 6154.15 </td><td style=\"text-align: right;\">    24728.4  </td><td style=\"text-align: right;\">  7400.92 </td><td style=\"text-align: right;\">   4205.05 </td><td style=\"text-align: right;\">     -1084.39 </td><td style=\"text-align: right;\">      -5683.23</td><td style=\"text-align: right;\"> 8813.59 </td><td style=\"text-align: right;\">    10331    </td><td style=\"text-align: right;\">     6413.31 </td><td style=\"text-align: right;\">    4231.08 </td><td style=\"text-align: right;\">   -365.796 </td><td style=\"text-align: right;\">  542.678</td><td style=\"text-align: right;\">   1030.21 </td><td style=\"text-align: right;\">    6018.24</td><td style=\"text-align: right;\">       2111.86 </td><td style=\"text-align: right;\">  9725.34 </td><td style=\"text-align: right;\">    -1617.47 </td><td style=\"text-align: right;\">  7007.04 </td><td style=\"text-align: right;\">     1563.15</td><td style=\"text-align: right;\">     -446.621</td><td style=\"text-align: right;\"> 9225.61 </td><td style=\"text-align: right;\">       995.996</td><td style=\"text-align: right;\">     9728.03</td><td style=\"text-align: right;\">    10390.3 </td><td style=\"text-align: right;\">     -1566.43 </td><td style=\"text-align: right;\">   5868.1   </td><td style=\"text-align: right;\">   -1078.08 </td><td style=\"text-align: right;\">       2773.95</td></tr>\n",
       "<tr><td style=\"text-align: right;\">  18</td><td style=\"text-align: right;\">   117756</td><td style=\"text-align: right;\">   -117756</td><td style=\"text-align: right;\">     117756</td><td style=\"text-align: right;\">       459.269</td><td style=\"text-align: right;\">   -4316.51</td><td style=\"text-align: right;\">   1653.22</td><td style=\"text-align: right;\">  123.549</td><td style=\"text-align: right;\">    -2362.46 </td><td style=\"text-align: right;\">  1072.43 </td><td style=\"text-align: right;\">   5529.47 </td><td style=\"text-align: right;\">      1870.63 </td><td style=\"text-align: right;\">       1084.77</td><td style=\"text-align: right;\"> 2459.21 </td><td style=\"text-align: right;\">     4083.52 </td><td style=\"text-align: right;\">     1545.63 </td><td style=\"text-align: right;\">    3034.56 </td><td style=\"text-align: right;\">   2273.94  </td><td style=\"text-align: right;\"> -175.682</td><td style=\"text-align: right;\">   -106.946</td><td style=\"text-align: right;\">   -9923.3 </td><td style=\"text-align: right;\">       2155.75 </td><td style=\"text-align: right;\">   760.575</td><td style=\"text-align: right;\">     6679.92 </td><td style=\"text-align: right;\"> -3924.33 </td><td style=\"text-align: right;\">     1976.42</td><td style=\"text-align: right;\">     4463.69 </td><td style=\"text-align: right;\">-4500.46 </td><td style=\"text-align: right;\">      1766.74 </td><td style=\"text-align: right;\">     6808.69</td><td style=\"text-align: right;\">     6276.32</td><td style=\"text-align: right;\">      2301.77 </td><td style=\"text-align: right;\">    248.963 </td><td style=\"text-align: right;\">    -312.735</td><td style=\"text-align: right;\">       2493.45</td></tr>\n",
       "<tr><td style=\"text-align: right;\">  23</td><td style=\"text-align: right;\">   244641</td><td style=\"text-align: right;\">   -244641</td><td style=\"text-align: right;\">     244641</td><td style=\"text-align: right;\">      1068.25 </td><td style=\"text-align: right;\">    3091.01</td><td style=\"text-align: right;\">  -6501.97</td><td style=\"text-align: right;\">-1877.3  </td><td style=\"text-align: right;\">   -28099.6  </td><td style=\"text-align: right;\">   431.703</td><td style=\"text-align: right;\">   9678.98 </td><td style=\"text-align: right;\">      3228.01 </td><td style=\"text-align: right;\">      13627.5 </td><td style=\"text-align: right;\">13310.5  </td><td style=\"text-align: right;\">     5612.05 </td><td style=\"text-align: right;\">     5124.58 </td><td style=\"text-align: right;\">    8826.07 </td><td style=\"text-align: right;\">  -6393.07  </td><td style=\"text-align: right;\"> -119.509</td><td style=\"text-align: right;\">    626.148</td><td style=\"text-align: right;\">   -1935.96</td><td style=\"text-align: right;\">       5424.95 </td><td style=\"text-align: right;\">  1738.86 </td><td style=\"text-align: right;\">     3237.48 </td><td style=\"text-align: right;\">  -628.245</td><td style=\"text-align: right;\">   -18197.7 </td><td style=\"text-align: right;\">     1765.47 </td><td style=\"text-align: right;\">-1471.95 </td><td style=\"text-align: right;\">      5307.12 </td><td style=\"text-align: right;\">     6134.09</td><td style=\"text-align: right;\">     8689.76</td><td style=\"text-align: right;\">     15028.6  </td><td style=\"text-align: right;\">   5984.06  </td><td style=\"text-align: right;\">    -304.474</td><td style=\"text-align: right;\">       1075.33</td></tr>\n",
       "<tr><td style=\"text-align: right;\">  25</td><td style=\"text-align: right;\">   143206</td><td style=\"text-align: right;\">   -143206</td><td style=\"text-align: right;\">     143206</td><td style=\"text-align: right;\">      -279.743</td><td style=\"text-align: right;\">    5728.1 </td><td style=\"text-align: right;\">  -1897.57</td><td style=\"text-align: right;\"> -430.964</td><td style=\"text-align: right;\">      371.087</td><td style=\"text-align: right;\"> -3600.03 </td><td style=\"text-align: right;\">   -429.021</td><td style=\"text-align: right;\">      -499.686</td><td style=\"text-align: right;\">      -2798.54</td><td style=\"text-align: right;\"> -868.141</td><td style=\"text-align: right;\">     1802.58 </td><td style=\"text-align: right;\">     4630.98 </td><td style=\"text-align: right;\">    -742.357</td><td style=\"text-align: right;\">    197.822 </td><td style=\"text-align: right;\"> -965.447</td><td style=\"text-align: right;\">   -642.065</td><td style=\"text-align: right;\">   -7080.87</td><td style=\"text-align: right;\">      -2447.6  </td><td style=\"text-align: right;\"> -1125.33 </td><td style=\"text-align: right;\">    -3496.86 </td><td style=\"text-align: right;\">   573.547</td><td style=\"text-align: right;\">     4719.25</td><td style=\"text-align: right;\">    -1107.97 </td><td style=\"text-align: right;\"> 2816.83 </td><td style=\"text-align: right;\">     -3575.83 </td><td style=\"text-align: right;\">     1102.64</td><td style=\"text-align: right;\">     4479.63</td><td style=\"text-align: right;\">      2572.76 </td><td style=\"text-align: right;\">  -5943.32  </td><td style=\"text-align: right;\">   -2567.77 </td><td style=\"text-align: right;\">       3909.32</td></tr>\n",
       "<tr><td style=\"text-align: right;\">  28</td><td style=\"text-align: right;\">   308369</td><td style=\"text-align: right;\">   -308369</td><td style=\"text-align: right;\">     308369</td><td style=\"text-align: right;\">       287.235</td><td style=\"text-align: right;\">  -18425.9 </td><td style=\"text-align: right;\">  -1406.49</td><td style=\"text-align: right;\"> 2296.81 </td><td style=\"text-align: right;\">    -2671.89 </td><td style=\"text-align: right;\"> -8655.65 </td><td style=\"text-align: right;\">  -7469.92 </td><td style=\"text-align: right;\">      -251.874</td><td style=\"text-align: right;\">       6656.56</td><td style=\"text-align: right;\">-3155.83 </td><td style=\"text-align: right;\">    11541.6  </td><td style=\"text-align: right;\">      876.054</td><td style=\"text-align: right;\">    4007.81 </td><td style=\"text-align: right;\">   7016.77  </td><td style=\"text-align: right;\">  126.482</td><td style=\"text-align: right;\">   -103.458</td><td style=\"text-align: right;\">    8932.41</td><td style=\"text-align: right;\">       6172.85 </td><td style=\"text-align: right;\">  -671.202</td><td style=\"text-align: right;\">     1734.41 </td><td style=\"text-align: right;\"> 13565.4  </td><td style=\"text-align: right;\">    -8270.9 </td><td style=\"text-align: right;\">     -903.821</td><td style=\"text-align: right;\">-4013.83 </td><td style=\"text-align: right;\">      1609.37 </td><td style=\"text-align: right;\">    -1686.56</td><td style=\"text-align: right;\">   -17906.3 </td><td style=\"text-align: right;\">     -6806.61 </td><td style=\"text-align: right;\">   2017.35  </td><td style=\"text-align: right;\">    3103.37 </td><td style=\"text-align: right;\">       5019.18</td></tr>\n",
       "</tbody>\n",
       "</table>"
      ]
     },
     "metadata": {},
     "output_type": "display_data"
    },
    {
     "data": {
      "text/plain": []
     },
     "execution_count": 12,
     "metadata": {},
     "output_type": "execute_result"
    }
   ],
   "source": [
    "h2o.no_progress()\n",
    "\n",
    "for k, i in enumerate(X_reals_decorr):\n",
    "\n",
    "    # train and predict without Xi\n",
    "    X_loco = [j for j in X_reals_decorr if j != i]\n",
    "    model.train(y=y, x=X_loco, training_frame=train, validation_frame=valid)\n",
    "    preds_loco = model.predict(valid)\n",
    "    \n",
    "    # create a new, named column for the LOCO prediction\n",
    "    preds_loco.columns = [i]\n",
    "    preds = preds.cbind(preds_loco)\n",
    "    \n",
    "    # subtract the LOCO prediction from \n",
    "    preds[i] = preds[i] - preds['predict']\n",
    "    \n",
    "    print('LOCO Progress: ' + i + ' (' + str(k+1) + '/' + str(len(X_reals_decorr)) + ') ...')\n",
    "    \n",
    "print('Done.')  \n",
    "\n",
    "preds.head()"
   ]
  },
  {
   "cell_type": "markdown",
   "metadata": {},
   "source": [
    "The numeric values in each column are an estimate of how much each variable contributed to each decision. These values can tell you how a variable and it's values were weighted in any given decision by the model. These values are crucially important for machine learning interpretability and are often to referred to \"local feature importance\", \"reason codes\", or \"turn-down codes.\" The latter phrases are borrowed from credit scoring. Credit lenders must provide reasons for turning down a credit application, even for automated decisions. Reason codes can be easily extracted from LOCO local feature importance values, by simply ranking the variables that played the largest role in any given decision."
   ]
  },
  {
   "cell_type": "markdown",
   "metadata": {},
   "source": [
    "#### Helper function for finding quantile indices"
   ]
  },
  {
   "cell_type": "code",
   "execution_count": 13,
   "metadata": {
    "collapsed": false
   },
   "outputs": [
    {
     "data": {
      "text/plain": [
       "{0: 969.0,\n",
       " 10: 1444.0,\n",
       " 20: 224.0,\n",
       " 30: 1130.0,\n",
       " 40: 355.0,\n",
       " 50: 1364.0,\n",
       " 60: 212.0,\n",
       " 70: 1231.0,\n",
       " 80: 392.0,\n",
       " 90: 1373.0,\n",
       " 99: 524.0}"
      ]
     },
     "execution_count": 13,
     "metadata": {},
     "output_type": "execute_result"
    }
   ],
   "source": [
    "def get_quantile_dict(y, id_, frame):\n",
    "\n",
    "    \"\"\" Returns the percentiles of a column y as the indices for another column id_.\n",
    "    \n",
    "    Args:\n",
    "        y: Column in which to find percentiles.\n",
    "        id_: Id column that stores indices for percentiles of y.\n",
    "        frame: H2OFrame containing y and id_. \n",
    "    \n",
    "    Returns:\n",
    "        Dictionary of percentile values and index column values.\n",
    "    \n",
    "    \"\"\"\n",
    "    \n",
    "    quantiles_df = frame.as_data_frame()\n",
    "    quantiles_df.sort_values(y, inplace=True)\n",
    "    quantiles_df.reset_index(inplace=True)\n",
    "    \n",
    "    percentiles_dict = {}\n",
    "    percentiles_dict[0] = quantiles_df.loc[0, id_]\n",
    "    percentiles_dict[99] = quantiles_df.loc[quantiles_df.shape[0]-1, id_]\n",
    "    inc = quantiles_df.shape[0]//10\n",
    "    \n",
    "    for i in range(1, 10):\n",
    "        percentiles_dict[i * 10] = quantiles_df.loc[i * inc,  id_]\n",
    "\n",
    "    return percentiles_dict\n",
    "\n",
    "get_quantile_dict('predict', 'Id', preds)"
   ]
  },
  {
   "cell_type": "markdown",
   "metadata": {},
   "source": [
    "#### Plot some reason codes for a representative row"
   ]
  },
  {
   "cell_type": "code",
   "execution_count": 14,
   "metadata": {
    "collapsed": true
   },
   "outputs": [],
   "source": [
    "%matplotlib inline"
   ]
  },
  {
   "cell_type": "code",
   "execution_count": 15,
   "metadata": {
    "collapsed": false
   },
   "outputs": [
    {
     "data": {
      "image/png": "[encoded data removed]",
      "text/plain": [
       "<matplotlib.figure.Figure at 0x118f1a2e8>"
      ]
     },
     "metadata": {},
     "output_type": "display_data"
    }
   ],
   "source": [
    "median_loco = preds[preds['Id'] == 644, :].as_data_frame().drop(['Id', 'predict'], axis=1)\n",
    "median_loco = median_loco.T.sort_values(by=0)[:5]\n",
    "_ = median_loco.plot(kind='bar', \n",
    "                     title='Negative Reason Codes for the Median of Predicted Sale Price\\n', \n",
    "                     legend=False)"
   ]
  },
  {
   "cell_type": "code",
   "execution_count": 16,
   "metadata": {
    "collapsed": false
   },
   "outputs": [
    {
     "data": {
      "image/png": "[encoded data removed]",
      "text/plain": [
       "<matplotlib.figure.Figure at 0x11b3404a8>"
      ]
     },
     "metadata": {},
     "output_type": "display_data"
    }
   ],
   "source": [
    "median_loco = preds[preds['Id'] == 644, :].as_data_frame().drop(['Id', 'predict'], axis=1)\n",
    "median_loco = median_loco.T.sort_values(by=0, ascending=False)[:5]\n",
    "_ = median_loco.plot(kind='bar', \n",
    "                     title='Positive Reason Codes for the Median of Predicted Sale Price\\n', \n",
    "                     color='r',\n",
    "                     legend=False)"
   ]
  },
  {
   "cell_type": "markdown",
   "metadata": {},
   "source": [
    "#### Shutdown H2O"
   ]
  },
  {
   "cell_type": "code",
   "execution_count": 17,
   "metadata": {
    "collapsed": false
   },
   "outputs": [
    {
     "name": "stdout",
     "output_type": "stream",
     "text": [
      "Are you sure you want to shutdown the H2O instance running at http://127.0.0.1:54321 (Y/N)? y\n",
      "H2O session _sid_989d closed.\n"
     ]
    }
   ],
   "source": [
    "h2o.cluster().shutdown(prompt=True)"
   ]
  }
 ],
 "metadata": {
  "anaconda-cloud": {},
  "kernelspec": {
   "display_name": "Python [conda root]",
   "language": "python",
   "name": "conda-root-py"
  },
  "language_info": {
   "codemirror_mode": {
    "name": "ipython",
    "version": 3
   },
   "file_extension": ".py",
   "mimetype": "text/x-python",
   "name": "python",
   "nbconvert_exporter": "python",
   "pygments_lexer": "ipython3",
   "version": "3.5.2"
  }
 },
 "nbformat": 4,
 "nbformat_minor": 2
}
